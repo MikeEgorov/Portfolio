{
 "cells": [
  {
   "cell_type": "markdown",
   "id": "c92b3b82",
   "metadata": {
    "toc": true
   },
   "source": [
    "<h1>Table of Contents<span class=\"tocSkip\"></span></h1>\n",
    "<div class=\"toc\"><ul class=\"toc-item\"><li><span><a href=\"#Загрузка-и-подготовка-данных.\" data-toc-modified-id=\"Загрузка-и-подготовка-данных.-1\"><span class=\"toc-item-num\">1&nbsp;&nbsp;</span>Загрузка и подготовка данных.</a></span></li><li><span><a href=\"#Обучение-и-проверка-модели-для-каждого-региона.\" data-toc-modified-id=\"Обучение-и-проверка-модели-для-каждого-региона.-2\"><span class=\"toc-item-num\">2&nbsp;&nbsp;</span>Обучение и проверка модели для каждого региона.</a></span><ul class=\"toc-item\"><li><span><a href=\"#Разделение-данных-на-обучающую-и-валидационную-выборки.\" data-toc-modified-id=\"Разделение-данных-на-обучающую-и-валидационную-выборки.-2.1\"><span class=\"toc-item-num\">2.1&nbsp;&nbsp;</span>Разделение данных на обучающую и валидационную выборки.</a></span></li><li><span><a href=\"#Обучение-моделей.\" data-toc-modified-id=\"Обучение-моделей.-2.2\"><span class=\"toc-item-num\">2.2&nbsp;&nbsp;</span>Обучение моделей.</a></span></li><li><span><a href=\"#Предсказание-на-валидационной-выборке.\" data-toc-modified-id=\"Предсказание-на-валидационной-выборке.-2.3\"><span class=\"toc-item-num\">2.3&nbsp;&nbsp;</span>Предсказание на валидационной выборке.</a></span></li><li><span><a href=\"#Средний-запас-предсказанного-сырья-и-RMSE-модели.\" data-toc-modified-id=\"Средний-запас-предсказанного-сырья-и-RMSE-модели.-2.4\"><span class=\"toc-item-num\">2.4&nbsp;&nbsp;</span>Средний запас предсказанного сырья и RMSE модели.</a></span></li><li><span><a href=\"#Анализ-результатов.\" data-toc-modified-id=\"Анализ-результатов.-2.5\"><span class=\"toc-item-num\">2.5&nbsp;&nbsp;</span>Анализ результатов.</a></span></li></ul></li><li><span><a href=\"#Расчет-прибыли.\" data-toc-modified-id=\"Расчет-прибыли.-3\"><span class=\"toc-item-num\">3&nbsp;&nbsp;</span>Расчет прибыли.</a></span><ul class=\"toc-item\"><li><span><a href=\"#Ключевые-значения-для-расчётов.\" data-toc-modified-id=\"Ключевые-значения-для-расчётов.-3.1\"><span class=\"toc-item-num\">3.1&nbsp;&nbsp;</span>Ключевые значения для расчётов.</a></span></li><li><span><a href=\"#Рассчет-достаточного-объёма-сырья-для-безубыточной-разработки-новой-скважины.\" data-toc-modified-id=\"Рассчет-достаточного-объёма-сырья-для-безубыточной-разработки-новой-скважины.-3.2\"><span class=\"toc-item-num\">3.2&nbsp;&nbsp;</span>Рассчет достаточного объёма сырья для безубыточной разработки новой скважины.</a></span></li><li><span><a href=\"#Выводы-по-этапу-подготовки-расчёта-прибыли.\" data-toc-modified-id=\"Выводы-по-этапу-подготовки-расчёта-прибыли.-3.3\"><span class=\"toc-item-num\">3.3&nbsp;&nbsp;</span>Выводы по этапу подготовки расчёта прибыли.</a></span></li></ul></li><li><span><a href=\"#Расчёт-прибыли-по-выбранным-скважинам-и-предсказаниям-модели.\" data-toc-modified-id=\"Расчёт-прибыли-по-выбранным-скважинам-и-предсказаниям-модели.-4\"><span class=\"toc-item-num\">4&nbsp;&nbsp;</span>Расчёт прибыли по выбранным скважинам и предсказаниям модели.</a></span><ul class=\"toc-item\"><li><span><a href=\"#Выбор-скважин-с-максимальными-значениями-предсказаний.\" data-toc-modified-id=\"Выбор-скважин-с-максимальными-значениями-предсказаний.-4.1\"><span class=\"toc-item-num\">4.1&nbsp;&nbsp;</span>Выбор скважин с максимальными значениями предсказаний.</a></span></li><li><span><a href=\"#Расчет-прибыли-от-полученного-объёма-сырья.\" data-toc-modified-id=\"Расчет-прибыли-от-полученного-объёма-сырья.-4.2\"><span class=\"toc-item-num\">4.2&nbsp;&nbsp;</span>Расчет прибыли от полученного объёма сырья.</a></span></li></ul></li><li><span><a href=\"#Расчет-рисков-и-прибыли-для-каждого-региона.\" data-toc-modified-id=\"Расчет-рисков-и-прибыли-для-каждого-региона.-5\"><span class=\"toc-item-num\">5&nbsp;&nbsp;</span>Расчет рисков и прибыли для каждого региона.</a></span><ul class=\"toc-item\"><li><span><a href=\"#Применение-техники-Bootstrap-с-1000-выборок,-чтобы-найти-распределение-прибыли.\" data-toc-modified-id=\"Применение-техники-Bootstrap-с-1000-выборок,-чтобы-найти-распределение-прибыли.-5.1\"><span class=\"toc-item-num\">5.1&nbsp;&nbsp;</span>Применение техники Bootstrap с 1000 выборок, чтобы найти распределение прибыли.</a></span></li><li><span><a href=\"#Расчет-средней-прибыли,-95%-го-доверительного-интервала-и-риска-убытков.\" data-toc-modified-id=\"Расчет-средней-прибыли,-95%-го-доверительного-интервала-и-риска-убытков.-5.2\"><span class=\"toc-item-num\">5.2&nbsp;&nbsp;</span>Расчет средней прибыли, 95%-го доверительного интервала и риска убытков.</a></span></li><li><span><a href=\"#Общий-вывод-по-исследованию:\" data-toc-modified-id=\"Общий-вывод-по-исследованию:-5.3\"><span class=\"toc-item-num\">5.3&nbsp;&nbsp;</span>Общий вывод по исследованию:</a></span></li></ul></li></ul></div>"
   ]
  },
  {
   "cell_type": "markdown",
   "id": "c763e03a",
   "metadata": {},
   "source": [
    "<div class=\"alert alert-info\"><b>Описание проекта:</b>\n",
    "   \n",
    "# \"Выбор локации для скважины\"\n",
    "\n",
    "***\n",
    "\n",
    "**Цели проекта:**\n",
    "- выбрать регион для разработки новых скважин.\n",
    "    \n",
    "***\n",
    "    \n",
    "**Задачи исследования:**  \n",
    "- в избранном регионе собрать характеристики для скважин: качество нефти и объём её запасов;\n",
    "- построить модель для предсказания объёма запасов в новых скважинах;\n",
    "- выбрать скважины с самыми высокими оценками значений;\n",
    "- определить регион с максимальной суммарной прибылью отобранных скважин.\n",
    "    \n",
    "***\n",
    "    \n",
    "**Этапы исследования:** \n",
    "- загрузка и подготовка данных;\n",
    "- обучение и проверка модели для каждого региона;\n",
    "- расчет прибыли по выбранным скважинам и предсказаниям модели;\n",
    "- расчет рисков и прибыли для каждого региона;\n",
    "- общий вывод по исследованию.\n",
    "    \n",
    "***\n",
    "    \n",
    "**Описание данных:**\n",
    "\n",
    "- id — уникальный идентификатор скважины;\n",
    "- f0, f1, f2 — три признака точек (неважно, что они означают, но сами признаки значимы);\n",
    "- product — объём запасов в скважине (тыс. баррелей).\n",
    "    \n",
    "***\n",
    "    \n",
    "В сооветствии с условиями построим модель линейной регрессии.\n",
    "    \n",
    "</div>"
   ]
  },
  {
   "cell_type": "markdown",
   "id": "6940f766",
   "metadata": {},
   "source": [
    "***"
   ]
  },
  {
   "cell_type": "markdown",
   "id": "afb0e699",
   "metadata": {},
   "source": [
    "### Загрузка и подготовка данных."
   ]
  },
  {
   "cell_type": "code",
   "execution_count": 1,
   "id": "47d4c523",
   "metadata": {
    "scrolled": false
   },
   "outputs": [],
   "source": [
    "import warnings\n",
    "\n",
    "import pandas as pd\n",
    "import numpy as np\n",
    "\n",
    "from sklearn.linear_model import LinearRegression\n",
    "from sklearn.model_selection import train_test_split\n",
    "from sklearn.metrics import mean_squared_error \n",
    "import matplotlib.pyplot as plt\n",
    "import seaborn as sns\n",
    "from scipy import stats\n",
    "\n",
    "# Избавляемся от вывода предупреждений\n",
    "warnings.simplefilter(\"ignore\")\n",
    "\n",
    "# Отображение всех колонок\n",
    "pd.set_option('display.max_columns', None)\n",
    "\n",
    "# Константы\n",
    "RANDOM_STATE = 12345"
   ]
  },
  {
   "cell_type": "code",
   "execution_count": 2,
   "id": "f0b41ac6",
   "metadata": {},
   "outputs": [],
   "source": [
    "# Открываем файлы с данными по трем регионам.\n",
    "try:\n",
    "    data_0 = pd.read_csv('C:/Датасеты и проекты/geo_data_0.csv')\n",
    "except:\n",
    "    data_0 = pd.read_csv('/datasets/geo_data_0.csv')\n",
    "    \n",
    "try:\n",
    "    data_1 = pd.read_csv('C:/Датасеты и проекты/geo_data_1.csv')\n",
    "except:\n",
    "    data_1 = pd.read_csv('/datasets/geo_data_1.csv')\n",
    "    \n",
    "try:\n",
    "    data_2 = pd.read_csv('C:/Датасеты и проекты/geo_data_2.csv')\n",
    "except:\n",
    "    data_2 = pd.read_csv('/datasets/geo_data_2.csv')"
   ]
  },
  {
   "cell_type": "code",
   "execution_count": 3,
   "id": "e073de0b",
   "metadata": {},
   "outputs": [
    {
     "data": {
      "text/html": [
       "<div>\n",
       "<style scoped>\n",
       "    .dataframe tbody tr th:only-of-type {\n",
       "        vertical-align: middle;\n",
       "    }\n",
       "\n",
       "    .dataframe tbody tr th {\n",
       "        vertical-align: top;\n",
       "    }\n",
       "\n",
       "    .dataframe thead th {\n",
       "        text-align: right;\n",
       "    }\n",
       "</style>\n",
       "<table border=\"1\" class=\"dataframe\">\n",
       "  <thead>\n",
       "    <tr style=\"text-align: right;\">\n",
       "      <th></th>\n",
       "      <th>id</th>\n",
       "      <th>f0</th>\n",
       "      <th>f1</th>\n",
       "      <th>f2</th>\n",
       "      <th>product</th>\n",
       "    </tr>\n",
       "  </thead>\n",
       "  <tbody>\n",
       "    <tr>\n",
       "      <th>0</th>\n",
       "      <td>txEyH</td>\n",
       "      <td>0.705745</td>\n",
       "      <td>-0.497823</td>\n",
       "      <td>1.221170</td>\n",
       "      <td>105.280062</td>\n",
       "    </tr>\n",
       "    <tr>\n",
       "      <th>1</th>\n",
       "      <td>2acmU</td>\n",
       "      <td>1.334711</td>\n",
       "      <td>-0.340164</td>\n",
       "      <td>4.365080</td>\n",
       "      <td>73.037750</td>\n",
       "    </tr>\n",
       "    <tr>\n",
       "      <th>2</th>\n",
       "      <td>409Wp</td>\n",
       "      <td>1.022732</td>\n",
       "      <td>0.151990</td>\n",
       "      <td>1.419926</td>\n",
       "      <td>85.265647</td>\n",
       "    </tr>\n",
       "    <tr>\n",
       "      <th>3</th>\n",
       "      <td>iJLyR</td>\n",
       "      <td>-0.032172</td>\n",
       "      <td>0.139033</td>\n",
       "      <td>2.978566</td>\n",
       "      <td>168.620776</td>\n",
       "    </tr>\n",
       "    <tr>\n",
       "      <th>4</th>\n",
       "      <td>Xdl7t</td>\n",
       "      <td>1.988431</td>\n",
       "      <td>0.155413</td>\n",
       "      <td>4.751769</td>\n",
       "      <td>154.036647</td>\n",
       "    </tr>\n",
       "  </tbody>\n",
       "</table>\n",
       "</div>"
      ],
      "text/plain": [
       "      id        f0        f1        f2     product\n",
       "0  txEyH  0.705745 -0.497823  1.221170  105.280062\n",
       "1  2acmU  1.334711 -0.340164  4.365080   73.037750\n",
       "2  409Wp  1.022732  0.151990  1.419926   85.265647\n",
       "3  iJLyR -0.032172  0.139033  2.978566  168.620776\n",
       "4  Xdl7t  1.988431  0.155413  4.751769  154.036647"
      ]
     },
     "execution_count": 3,
     "metadata": {},
     "output_type": "execute_result"
    }
   ],
   "source": [
    "# Выводим первые 5 строк датасета по первому региону.\n",
    "data_0.head()"
   ]
  },
  {
   "cell_type": "code",
   "execution_count": 4,
   "id": "b1a1b9af",
   "metadata": {},
   "outputs": [
    {
     "data": {
      "text/html": [
       "<div>\n",
       "<style scoped>\n",
       "    .dataframe tbody tr th:only-of-type {\n",
       "        vertical-align: middle;\n",
       "    }\n",
       "\n",
       "    .dataframe tbody tr th {\n",
       "        vertical-align: top;\n",
       "    }\n",
       "\n",
       "    .dataframe thead th {\n",
       "        text-align: right;\n",
       "    }\n",
       "</style>\n",
       "<table border=\"1\" class=\"dataframe\">\n",
       "  <thead>\n",
       "    <tr style=\"text-align: right;\">\n",
       "      <th></th>\n",
       "      <th>id</th>\n",
       "      <th>f0</th>\n",
       "      <th>f1</th>\n",
       "      <th>f2</th>\n",
       "      <th>product</th>\n",
       "    </tr>\n",
       "  </thead>\n",
       "  <tbody>\n",
       "    <tr>\n",
       "      <th>0</th>\n",
       "      <td>kBEdx</td>\n",
       "      <td>-15.001348</td>\n",
       "      <td>-8.276000</td>\n",
       "      <td>-0.005876</td>\n",
       "      <td>3.179103</td>\n",
       "    </tr>\n",
       "    <tr>\n",
       "      <th>1</th>\n",
       "      <td>62mP7</td>\n",
       "      <td>14.272088</td>\n",
       "      <td>-3.475083</td>\n",
       "      <td>0.999183</td>\n",
       "      <td>26.953261</td>\n",
       "    </tr>\n",
       "    <tr>\n",
       "      <th>2</th>\n",
       "      <td>vyE1P</td>\n",
       "      <td>6.263187</td>\n",
       "      <td>-5.948386</td>\n",
       "      <td>5.001160</td>\n",
       "      <td>134.766305</td>\n",
       "    </tr>\n",
       "    <tr>\n",
       "      <th>3</th>\n",
       "      <td>KcrkZ</td>\n",
       "      <td>-13.081196</td>\n",
       "      <td>-11.506057</td>\n",
       "      <td>4.999415</td>\n",
       "      <td>137.945408</td>\n",
       "    </tr>\n",
       "    <tr>\n",
       "      <th>4</th>\n",
       "      <td>AHL4O</td>\n",
       "      <td>12.702195</td>\n",
       "      <td>-8.147433</td>\n",
       "      <td>5.004363</td>\n",
       "      <td>134.766305</td>\n",
       "    </tr>\n",
       "  </tbody>\n",
       "</table>\n",
       "</div>"
      ],
      "text/plain": [
       "      id         f0         f1        f2     product\n",
       "0  kBEdx -15.001348  -8.276000 -0.005876    3.179103\n",
       "1  62mP7  14.272088  -3.475083  0.999183   26.953261\n",
       "2  vyE1P   6.263187  -5.948386  5.001160  134.766305\n",
       "3  KcrkZ -13.081196 -11.506057  4.999415  137.945408\n",
       "4  AHL4O  12.702195  -8.147433  5.004363  134.766305"
      ]
     },
     "execution_count": 4,
     "metadata": {},
     "output_type": "execute_result"
    }
   ],
   "source": [
    "# Выводим первые 5 строк датасета по второму региону.\n",
    "data_1.head()"
   ]
  },
  {
   "cell_type": "code",
   "execution_count": 5,
   "id": "1f2d2dda",
   "metadata": {},
   "outputs": [
    {
     "data": {
      "text/html": [
       "<div>\n",
       "<style scoped>\n",
       "    .dataframe tbody tr th:only-of-type {\n",
       "        vertical-align: middle;\n",
       "    }\n",
       "\n",
       "    .dataframe tbody tr th {\n",
       "        vertical-align: top;\n",
       "    }\n",
       "\n",
       "    .dataframe thead th {\n",
       "        text-align: right;\n",
       "    }\n",
       "</style>\n",
       "<table border=\"1\" class=\"dataframe\">\n",
       "  <thead>\n",
       "    <tr style=\"text-align: right;\">\n",
       "      <th></th>\n",
       "      <th>id</th>\n",
       "      <th>f0</th>\n",
       "      <th>f1</th>\n",
       "      <th>f2</th>\n",
       "      <th>product</th>\n",
       "    </tr>\n",
       "  </thead>\n",
       "  <tbody>\n",
       "    <tr>\n",
       "      <th>0</th>\n",
       "      <td>fwXo0</td>\n",
       "      <td>-1.146987</td>\n",
       "      <td>0.963328</td>\n",
       "      <td>-0.828965</td>\n",
       "      <td>27.758673</td>\n",
       "    </tr>\n",
       "    <tr>\n",
       "      <th>1</th>\n",
       "      <td>WJtFt</td>\n",
       "      <td>0.262778</td>\n",
       "      <td>0.269839</td>\n",
       "      <td>-2.530187</td>\n",
       "      <td>56.069697</td>\n",
       "    </tr>\n",
       "    <tr>\n",
       "      <th>2</th>\n",
       "      <td>ovLUW</td>\n",
       "      <td>0.194587</td>\n",
       "      <td>0.289035</td>\n",
       "      <td>-5.586433</td>\n",
       "      <td>62.871910</td>\n",
       "    </tr>\n",
       "    <tr>\n",
       "      <th>3</th>\n",
       "      <td>q6cA6</td>\n",
       "      <td>2.236060</td>\n",
       "      <td>-0.553760</td>\n",
       "      <td>0.930038</td>\n",
       "      <td>114.572842</td>\n",
       "    </tr>\n",
       "    <tr>\n",
       "      <th>4</th>\n",
       "      <td>WPMUX</td>\n",
       "      <td>-0.515993</td>\n",
       "      <td>1.716266</td>\n",
       "      <td>5.899011</td>\n",
       "      <td>149.600746</td>\n",
       "    </tr>\n",
       "  </tbody>\n",
       "</table>\n",
       "</div>"
      ],
      "text/plain": [
       "      id        f0        f1        f2     product\n",
       "0  fwXo0 -1.146987  0.963328 -0.828965   27.758673\n",
       "1  WJtFt  0.262778  0.269839 -2.530187   56.069697\n",
       "2  ovLUW  0.194587  0.289035 -5.586433   62.871910\n",
       "3  q6cA6  2.236060 -0.553760  0.930038  114.572842\n",
       "4  WPMUX -0.515993  1.716266  5.899011  149.600746"
      ]
     },
     "execution_count": 5,
     "metadata": {},
     "output_type": "execute_result"
    }
   ],
   "source": [
    "# Выводим первые 5 строк датасета по третьему региону.\n",
    "data_2.head()"
   ]
  },
  {
   "cell_type": "code",
   "execution_count": 6,
   "id": "8fad3071",
   "metadata": {},
   "outputs": [
    {
     "name": "stdout",
     "output_type": "stream",
     "text": [
      "<class 'pandas.core.frame.DataFrame'>\n",
      "RangeIndex: 100000 entries, 0 to 99999\n",
      "Data columns (total 5 columns):\n",
      " #   Column   Non-Null Count   Dtype  \n",
      "---  ------   --------------   -----  \n",
      " 0   id       100000 non-null  object \n",
      " 1   f0       100000 non-null  float64\n",
      " 2   f1       100000 non-null  float64\n",
      " 3   f2       100000 non-null  float64\n",
      " 4   product  100000 non-null  float64\n",
      "dtypes: float64(4), object(1)\n",
      "memory usage: 3.8+ MB\n"
     ]
    }
   ],
   "source": [
    "# Получаем информацию о датасете по первому региону.\n",
    "data_0.info()"
   ]
  },
  {
   "cell_type": "code",
   "execution_count": 7,
   "id": "76dc46cb",
   "metadata": {},
   "outputs": [
    {
     "name": "stdout",
     "output_type": "stream",
     "text": [
      "<class 'pandas.core.frame.DataFrame'>\n",
      "RangeIndex: 100000 entries, 0 to 99999\n",
      "Data columns (total 5 columns):\n",
      " #   Column   Non-Null Count   Dtype  \n",
      "---  ------   --------------   -----  \n",
      " 0   id       100000 non-null  object \n",
      " 1   f0       100000 non-null  float64\n",
      " 2   f1       100000 non-null  float64\n",
      " 3   f2       100000 non-null  float64\n",
      " 4   product  100000 non-null  float64\n",
      "dtypes: float64(4), object(1)\n",
      "memory usage: 3.8+ MB\n"
     ]
    }
   ],
   "source": [
    "# Получаем информацию о датасете по второму региону.\n",
    "data_1.info()"
   ]
  },
  {
   "cell_type": "code",
   "execution_count": 8,
   "id": "bca518c6",
   "metadata": {},
   "outputs": [
    {
     "name": "stdout",
     "output_type": "stream",
     "text": [
      "<class 'pandas.core.frame.DataFrame'>\n",
      "RangeIndex: 100000 entries, 0 to 99999\n",
      "Data columns (total 5 columns):\n",
      " #   Column   Non-Null Count   Dtype  \n",
      "---  ------   --------------   -----  \n",
      " 0   id       100000 non-null  object \n",
      " 1   f0       100000 non-null  float64\n",
      " 2   f1       100000 non-null  float64\n",
      " 3   f2       100000 non-null  float64\n",
      " 4   product  100000 non-null  float64\n",
      "dtypes: float64(4), object(1)\n",
      "memory usage: 3.8+ MB\n"
     ]
    }
   ],
   "source": [
    "# Получаем информацию о датасете по третьему региону.\n",
    "data_2.info()"
   ]
  },
  {
   "cell_type": "code",
   "execution_count": 9,
   "id": "82d29a4d",
   "metadata": {},
   "outputs": [
    {
     "name": "stdout",
     "output_type": "stream",
     "text": [
      "(100000, 5)\n",
      "(100000, 5)\n",
      "(100000, 5)\n"
     ]
    }
   ],
   "source": [
    "# Узнаем количество строк и столбцов в датасетах по трем регионам.\n",
    "print(data_0.shape)\n",
    "print(data_1.shape)\n",
    "print(data_2.shape)"
   ]
  },
  {
   "cell_type": "code",
   "execution_count": 10,
   "id": "1f2ac73b",
   "metadata": {},
   "outputs": [
    {
     "name": "stdout",
     "output_type": "stream",
     "text": [
      "0\n",
      "0\n",
      "0\n"
     ]
    }
   ],
   "source": [
    "# Проверяем на наличие в датасетах явных дубликатов.\n",
    "print(data_0.duplicated().sum())\n",
    "print(data_1.duplicated().sum())\n",
    "print(data_2.duplicated().sum())\n",
    "# Явных дубликатов не обнаружено."
   ]
  },
  {
   "cell_type": "code",
   "execution_count": 11,
   "id": "3aa9dba1",
   "metadata": {},
   "outputs": [
    {
     "name": "stdout",
     "output_type": "stream",
     "text": [
      "id         0\n",
      "f0         0\n",
      "f1         0\n",
      "f2         0\n",
      "product    0\n",
      "dtype: int64\n",
      "id         0\n",
      "f0         0\n",
      "f1         0\n",
      "f2         0\n",
      "product    0\n",
      "dtype: int64\n",
      "id         0\n",
      "f0         0\n",
      "f1         0\n",
      "f2         0\n",
      "product    0\n",
      "dtype: int64\n"
     ]
    }
   ],
   "source": [
    "# Выводим количество пропущенных значений для каждого признака.\n",
    "print(data_0.isna().sum())\n",
    "print(data_1.isna().sum())\n",
    "print(data_2.isna().sum())\n",
    "# Пропусков в признаках не имеется."
   ]
  },
  {
   "cell_type": "markdown",
   "id": "72c42f6b",
   "metadata": {},
   "source": [
    " <div class=\"alert alert-info\"><b>Комментарий:</b>\n",
    "   \n",
    "Поскольку признак 'id' содержит уникальные значения, удаляем указанный признак во всех трех датасетах. \n",
    "</div>"
   ]
  },
  {
   "cell_type": "code",
   "execution_count": 12,
   "id": "2afea78c",
   "metadata": {},
   "outputs": [],
   "source": [
    "# Удалим ненужные признаки в датасетах.\n",
    "data_0 = data_0.drop('id', axis=1)\n",
    "data_1 = data_1.drop('id', axis=1)\n",
    "data_2 = data_2.drop('id', axis=1)"
   ]
  },
  {
   "cell_type": "code",
   "execution_count": 13,
   "id": "c2ea4bc5",
   "metadata": {},
   "outputs": [
    {
     "data": {
      "text/html": [
       "<div>\n",
       "<style scoped>\n",
       "    .dataframe tbody tr th:only-of-type {\n",
       "        vertical-align: middle;\n",
       "    }\n",
       "\n",
       "    .dataframe tbody tr th {\n",
       "        vertical-align: top;\n",
       "    }\n",
       "\n",
       "    .dataframe thead th {\n",
       "        text-align: right;\n",
       "    }\n",
       "</style>\n",
       "<table border=\"1\" class=\"dataframe\">\n",
       "  <thead>\n",
       "    <tr style=\"text-align: right;\">\n",
       "      <th></th>\n",
       "      <th>count</th>\n",
       "      <th>mean</th>\n",
       "      <th>std</th>\n",
       "      <th>min</th>\n",
       "      <th>25%</th>\n",
       "      <th>50%</th>\n",
       "      <th>75%</th>\n",
       "      <th>max</th>\n",
       "    </tr>\n",
       "  </thead>\n",
       "  <tbody>\n",
       "    <tr>\n",
       "      <th>f0</th>\n",
       "      <td>100000.0</td>\n",
       "      <td>0.500419</td>\n",
       "      <td>0.871832</td>\n",
       "      <td>-1.408605</td>\n",
       "      <td>-0.072580</td>\n",
       "      <td>0.502360</td>\n",
       "      <td>1.073581</td>\n",
       "      <td>2.362331</td>\n",
       "    </tr>\n",
       "    <tr>\n",
       "      <th>f1</th>\n",
       "      <td>100000.0</td>\n",
       "      <td>0.250143</td>\n",
       "      <td>0.504433</td>\n",
       "      <td>-0.848218</td>\n",
       "      <td>-0.200881</td>\n",
       "      <td>0.250252</td>\n",
       "      <td>0.700646</td>\n",
       "      <td>1.343769</td>\n",
       "    </tr>\n",
       "    <tr>\n",
       "      <th>f2</th>\n",
       "      <td>100000.0</td>\n",
       "      <td>2.502647</td>\n",
       "      <td>3.248248</td>\n",
       "      <td>-12.088328</td>\n",
       "      <td>0.287748</td>\n",
       "      <td>2.515969</td>\n",
       "      <td>4.715088</td>\n",
       "      <td>16.003790</td>\n",
       "    </tr>\n",
       "    <tr>\n",
       "      <th>product</th>\n",
       "      <td>100000.0</td>\n",
       "      <td>92.500000</td>\n",
       "      <td>44.288691</td>\n",
       "      <td>0.000000</td>\n",
       "      <td>56.497507</td>\n",
       "      <td>91.849972</td>\n",
       "      <td>128.564089</td>\n",
       "      <td>185.364347</td>\n",
       "    </tr>\n",
       "  </tbody>\n",
       "</table>\n",
       "</div>"
      ],
      "text/plain": [
       "            count       mean        std        min        25%        50%  \\\n",
       "f0       100000.0   0.500419   0.871832  -1.408605  -0.072580   0.502360   \n",
       "f1       100000.0   0.250143   0.504433  -0.848218  -0.200881   0.250252   \n",
       "f2       100000.0   2.502647   3.248248 -12.088328   0.287748   2.515969   \n",
       "product  100000.0  92.500000  44.288691   0.000000  56.497507  91.849972   \n",
       "\n",
       "                75%         max  \n",
       "f0         1.073581    2.362331  \n",
       "f1         0.700646    1.343769  \n",
       "f2         4.715088   16.003790  \n",
       "product  128.564089  185.364347  "
      ]
     },
     "execution_count": 13,
     "metadata": {},
     "output_type": "execute_result"
    }
   ],
   "source": [
    "# Посмотрим распределение численных значений признаков по регионам.\n",
    "data_0.describe(include='all').T"
   ]
  },
  {
   "cell_type": "code",
   "execution_count": 14,
   "id": "7ffa906f",
   "metadata": {},
   "outputs": [
    {
     "data": {
      "text/html": [
       "<div>\n",
       "<style scoped>\n",
       "    .dataframe tbody tr th:only-of-type {\n",
       "        vertical-align: middle;\n",
       "    }\n",
       "\n",
       "    .dataframe tbody tr th {\n",
       "        vertical-align: top;\n",
       "    }\n",
       "\n",
       "    .dataframe thead th {\n",
       "        text-align: right;\n",
       "    }\n",
       "</style>\n",
       "<table border=\"1\" class=\"dataframe\">\n",
       "  <thead>\n",
       "    <tr style=\"text-align: right;\">\n",
       "      <th></th>\n",
       "      <th>count</th>\n",
       "      <th>mean</th>\n",
       "      <th>std</th>\n",
       "      <th>min</th>\n",
       "      <th>25%</th>\n",
       "      <th>50%</th>\n",
       "      <th>75%</th>\n",
       "      <th>max</th>\n",
       "    </tr>\n",
       "  </thead>\n",
       "  <tbody>\n",
       "    <tr>\n",
       "      <th>f0</th>\n",
       "      <td>100000.0</td>\n",
       "      <td>1.141296</td>\n",
       "      <td>8.965932</td>\n",
       "      <td>-31.609576</td>\n",
       "      <td>-6.298551</td>\n",
       "      <td>1.153055</td>\n",
       "      <td>8.621015</td>\n",
       "      <td>29.421755</td>\n",
       "    </tr>\n",
       "    <tr>\n",
       "      <th>f1</th>\n",
       "      <td>100000.0</td>\n",
       "      <td>-4.796579</td>\n",
       "      <td>5.119872</td>\n",
       "      <td>-26.358598</td>\n",
       "      <td>-8.267985</td>\n",
       "      <td>-4.813172</td>\n",
       "      <td>-1.332816</td>\n",
       "      <td>18.734063</td>\n",
       "    </tr>\n",
       "    <tr>\n",
       "      <th>f2</th>\n",
       "      <td>100000.0</td>\n",
       "      <td>2.494541</td>\n",
       "      <td>1.703572</td>\n",
       "      <td>-0.018144</td>\n",
       "      <td>1.000021</td>\n",
       "      <td>2.011479</td>\n",
       "      <td>3.999904</td>\n",
       "      <td>5.019721</td>\n",
       "    </tr>\n",
       "    <tr>\n",
       "      <th>product</th>\n",
       "      <td>100000.0</td>\n",
       "      <td>68.825000</td>\n",
       "      <td>45.944423</td>\n",
       "      <td>0.000000</td>\n",
       "      <td>26.953261</td>\n",
       "      <td>57.085625</td>\n",
       "      <td>107.813044</td>\n",
       "      <td>137.945408</td>\n",
       "    </tr>\n",
       "  </tbody>\n",
       "</table>\n",
       "</div>"
      ],
      "text/plain": [
       "            count       mean        std        min        25%        50%  \\\n",
       "f0       100000.0   1.141296   8.965932 -31.609576  -6.298551   1.153055   \n",
       "f1       100000.0  -4.796579   5.119872 -26.358598  -8.267985  -4.813172   \n",
       "f2       100000.0   2.494541   1.703572  -0.018144   1.000021   2.011479   \n",
       "product  100000.0  68.825000  45.944423   0.000000  26.953261  57.085625   \n",
       "\n",
       "                75%         max  \n",
       "f0         8.621015   29.421755  \n",
       "f1        -1.332816   18.734063  \n",
       "f2         3.999904    5.019721  \n",
       "product  107.813044  137.945408  "
      ]
     },
     "execution_count": 14,
     "metadata": {},
     "output_type": "execute_result"
    }
   ],
   "source": [
    "data_1.describe(include='all').T"
   ]
  },
  {
   "cell_type": "code",
   "execution_count": 15,
   "id": "19d7bd31",
   "metadata": {
    "scrolled": true
   },
   "outputs": [
    {
     "data": {
      "text/html": [
       "<div>\n",
       "<style scoped>\n",
       "    .dataframe tbody tr th:only-of-type {\n",
       "        vertical-align: middle;\n",
       "    }\n",
       "\n",
       "    .dataframe tbody tr th {\n",
       "        vertical-align: top;\n",
       "    }\n",
       "\n",
       "    .dataframe thead th {\n",
       "        text-align: right;\n",
       "    }\n",
       "</style>\n",
       "<table border=\"1\" class=\"dataframe\">\n",
       "  <thead>\n",
       "    <tr style=\"text-align: right;\">\n",
       "      <th></th>\n",
       "      <th>count</th>\n",
       "      <th>mean</th>\n",
       "      <th>std</th>\n",
       "      <th>min</th>\n",
       "      <th>25%</th>\n",
       "      <th>50%</th>\n",
       "      <th>75%</th>\n",
       "      <th>max</th>\n",
       "    </tr>\n",
       "  </thead>\n",
       "  <tbody>\n",
       "    <tr>\n",
       "      <th>f0</th>\n",
       "      <td>100000.0</td>\n",
       "      <td>0.002023</td>\n",
       "      <td>1.732045</td>\n",
       "      <td>-8.760004</td>\n",
       "      <td>-1.162288</td>\n",
       "      <td>0.009424</td>\n",
       "      <td>1.158535</td>\n",
       "      <td>7.238262</td>\n",
       "    </tr>\n",
       "    <tr>\n",
       "      <th>f1</th>\n",
       "      <td>100000.0</td>\n",
       "      <td>-0.002081</td>\n",
       "      <td>1.730417</td>\n",
       "      <td>-7.084020</td>\n",
       "      <td>-1.174820</td>\n",
       "      <td>-0.009482</td>\n",
       "      <td>1.163678</td>\n",
       "      <td>7.844801</td>\n",
       "    </tr>\n",
       "    <tr>\n",
       "      <th>f2</th>\n",
       "      <td>100000.0</td>\n",
       "      <td>2.495128</td>\n",
       "      <td>3.473445</td>\n",
       "      <td>-11.970335</td>\n",
       "      <td>0.130359</td>\n",
       "      <td>2.484236</td>\n",
       "      <td>4.858794</td>\n",
       "      <td>16.739402</td>\n",
       "    </tr>\n",
       "    <tr>\n",
       "      <th>product</th>\n",
       "      <td>100000.0</td>\n",
       "      <td>95.000000</td>\n",
       "      <td>44.749921</td>\n",
       "      <td>0.000000</td>\n",
       "      <td>59.450441</td>\n",
       "      <td>94.925613</td>\n",
       "      <td>130.595027</td>\n",
       "      <td>190.029838</td>\n",
       "    </tr>\n",
       "  </tbody>\n",
       "</table>\n",
       "</div>"
      ],
      "text/plain": [
       "            count       mean        std        min        25%        50%  \\\n",
       "f0       100000.0   0.002023   1.732045  -8.760004  -1.162288   0.009424   \n",
       "f1       100000.0  -0.002081   1.730417  -7.084020  -1.174820  -0.009482   \n",
       "f2       100000.0   2.495128   3.473445 -11.970335   0.130359   2.484236   \n",
       "product  100000.0  95.000000  44.749921   0.000000  59.450441  94.925613   \n",
       "\n",
       "                75%         max  \n",
       "f0         1.158535    7.238262  \n",
       "f1         1.163678    7.844801  \n",
       "f2         4.858794   16.739402  \n",
       "product  130.595027  190.029838  "
      ]
     },
     "execution_count": 15,
     "metadata": {},
     "output_type": "execute_result"
    }
   ],
   "source": [
    "data_2.describe(include='all').T"
   ]
  },
  {
   "cell_type": "markdown",
   "id": "a6f8ee44",
   "metadata": {},
   "source": [
    "***"
   ]
  },
  {
   "cell_type": "markdown",
   "id": "50e53d3e",
   "metadata": {},
   "source": [
    "### Обучение и проверка модели для каждого региона."
   ]
  },
  {
   "cell_type": "markdown",
   "id": "d0b5ae5d",
   "metadata": {},
   "source": [
    " <div class=\"alert alert-info\"><b>Комментарий:</b>\n",
    "   \n",
    "Поскольку целью исследования является определение региона, где добыча принесёт наибольшую прибыль, а прибыль в свою очередь зависит от объема запасов, в качестве целевого выберем признак 'product'.\n",
    "</div>"
   ]
  },
  {
   "cell_type": "code",
   "execution_count": 16,
   "id": "447b572e",
   "metadata": {},
   "outputs": [
    {
     "data": {
      "image/png": "[encoded data removed]",
      "text/plain": [
       "<Figure size 1000x400 with 1 Axes>"
      ]
     },
     "metadata": {},
     "output_type": "display_data"
    }
   ],
   "source": [
    "# Исследуем распределение целевого признака \"product\" в датасетах по регионам.\n",
    "plt.figure(figsize=(10,4))\n",
    "sns.boxplot(data=[data_0['product'], data_1['product'], data_2['product']], orient='h')\n",
    "plt.title('Распределение признака \"product\" в датасетах по регионам', fontsize=14, pad = 10)\n",
    "plt.xlabel('Объём запасов сырья (в тыс. баррелей)', fontsize=12)\n",
    "plt.ylabel('Регионы',fontsize=12);"
   ]
  },
  {
   "cell_type": "markdown",
   "id": "938044a4",
   "metadata": {},
   "source": [
    " <div class=\"alert alert-info\"><b>Наблюдения:</b> \n",
    "   \n",
    "Явные выбросы признака \"product\" в датасетах по регионам отсутствуют. Во втором регионе разброс значений признака \"product\" в целом ниже, чем в первом и третьем.\n",
    "</div>"
   ]
  },
  {
   "cell_type": "code",
   "execution_count": 17,
   "id": "7206c417",
   "metadata": {},
   "outputs": [],
   "source": [
    "data_all = [data_0, data_1, data_2]"
   ]
  },
  {
   "cell_type": "code",
   "execution_count": 18,
   "id": "369e644d",
   "metadata": {
    "scrolled": false
   },
   "outputs": [
    {
     "data": {
      "image/png": "[encoded data removed]",
      "text/plain": [
       "<Figure size 1500x400 with 6 Axes>"
      ]
     },
     "metadata": {},
     "output_type": "display_data"
    }
   ],
   "source": [
    "# Построим матрицы корреляции признаков по регионам.\n",
    "fig, ax = plt.subplots(1 , 3, figsize=(15,4))\n",
    "\n",
    "for i in range(len(data_all)):\n",
    "    sns.heatmap(data_all[i].corr(), annot=True, cmap='coolwarm', ax=ax[i]);\n",
    "    ax[i].title.set_text(f'Матрица корреляции региона № {i + 1}')"
   ]
  },
  {
   "cell_type": "markdown",
   "id": "d6141cba",
   "metadata": {},
   "source": [
    " <div class=\"alert alert-info\"><b>Наблюдения:</b> \n",
    "   \n",
    "По результатам исследования матрицы кореляции во всех регионах прослеживается зависимость между признаками 'f2' и 'product'.   \n",
    "Наиболее сильная корреляция в регионе № 2.\n",
    "</div>"
   ]
  },
  {
   "cell_type": "markdown",
   "id": "3101debd",
   "metadata": {},
   "source": [
    "#### Разделение данных на обучающую и валидационную выборки."
   ]
  },
  {
   "cell_type": "code",
   "execution_count": 19,
   "id": "f53023d5",
   "metadata": {},
   "outputs": [],
   "source": [
    "# Разделим исходные данные на обучающую и валидационную выборки из расчета 75% - 25% в трех датасетах соответственно.\n",
    "features_0 = data_0.drop(['product'], axis = 1)\n",
    "target_0 = data_0['product']\n",
    "\n",
    "features_1 = data_1.drop(['product'], axis = 1)\n",
    "target_1 = data_1['product']\n",
    "\n",
    "features_2 = data_2.drop(['product'], axis = 1)\n",
    "target_2 = data_2['product']\n",
    "\n",
    "features_train_0, features_valid_0, target_train_0, target_valid_0 = train_test_split(\n",
    "    features_0, target_0, test_size = 0.25, random_state = RANDOM_STATE)\n",
    "\n",
    "features_train_1, features_valid_1, target_train_1, target_valid_1 = train_test_split(\n",
    "    features_1, target_1, test_size = 0.25, random_state = RANDOM_STATE)\n",
    "\n",
    "features_train_2, features_valid_2, target_train_2, target_valid_2 = train_test_split(\n",
    "    features_2, target_2, test_size = 0.25, random_state = RANDOM_STATE)"
   ]
  },
  {
   "cell_type": "code",
   "execution_count": 20,
   "id": "b93995cc",
   "metadata": {},
   "outputs": [
    {
     "name": "stdout",
     "output_type": "stream",
     "text": [
      "(75000, 3) (25000, 3)\n",
      "(75000, 3) (25000, 3)\n",
      "(75000, 3) (25000, 3)\n"
     ]
    }
   ],
   "source": [
    "# Узнаем количество строк в обучающих и валидационных выборках в трех датасетах соответственно.\n",
    "print(features_train_0.shape, features_valid_0.shape)\n",
    "print(features_train_1.shape, features_valid_1.shape)\n",
    "print(features_train_2.shape, features_valid_2.shape)\n",
    "# Выборки сформированы правильно."
   ]
  },
  {
   "cell_type": "markdown",
   "id": "4a35ade1",
   "metadata": {},
   "source": [
    "#### Обучение моделей."
   ]
  },
  {
   "cell_type": "code",
   "execution_count": 21,
   "id": "51e1facb",
   "metadata": {},
   "outputs": [
    {
     "data": {
      "text/plain": [
       "LinearRegression()"
      ]
     },
     "execution_count": 21,
     "metadata": {},
     "output_type": "execute_result"
    }
   ],
   "source": [
    "model_0 = LinearRegression()\n",
    "model_0.fit(features_train_0, target_train_0)\n",
    "\n",
    "model_1 = LinearRegression()\n",
    "model_1.fit(features_train_1, target_train_1)\n",
    "\n",
    "model_2 = LinearRegression()\n",
    "model_2.fit(features_train_2, target_train_2)"
   ]
  },
  {
   "cell_type": "markdown",
   "id": "91bf427f",
   "metadata": {},
   "source": [
    "#### Предсказание на валидационной выборке."
   ]
  },
  {
   "cell_type": "code",
   "execution_count": 22,
   "id": "09819770",
   "metadata": {},
   "outputs": [],
   "source": [
    "prediction_0 = model_0.predict(features_valid_0)\n",
    "prediction_1 = model_1.predict(features_valid_1)\n",
    "prediction_2 = model_2.predict(features_valid_2)"
   ]
  },
  {
   "cell_type": "markdown",
   "id": "e70c019e",
   "metadata": {},
   "source": [
    "#### Средний запас предсказанного сырья и RMSE модели."
   ]
  },
  {
   "cell_type": "code",
   "execution_count": 23,
   "id": "47fff2e2",
   "metadata": {},
   "outputs": [
    {
     "name": "stdout",
     "output_type": "stream",
     "text": [
      "RMSE для региона № 1: 37.5794217150813\n",
      "Cредний запас предсказанного сырья для региона № 1: 92.59256778438035\n",
      "\n",
      "RMSE для региона № 2: 0.893099286775617\n",
      "Cредний запас предсказанного сырья для региона № 2: 68.72854689544602\n",
      "\n",
      "RMSE для региона № 3: 40.02970873393434\n",
      "Cредний запас предсказанного сырья для региона № 3: 94.96504596800489\n",
      "\n"
     ]
    }
   ],
   "source": [
    "def features_target(data, num_of_reg):\n",
    "    features = data.drop(['product'], axis = 1)\n",
    "    target = data['product']\n",
    "    features_train, features_valid, target_train, target_valid = train_test_split(\n",
    "        features, target, test_size = 0.25, random_state = RANDOM_STATE)\n",
    "    model = LinearRegression().fit(features_train, target_train)\n",
    "    prediction = model.predict(features_valid)\n",
    "    rmse = mean_squared_error(target_valid, prediction) ** 0.5\n",
    "    prediction_mean = prediction.mean()\n",
    "    print(f'RMSE для региона № {num_of_reg}: {rmse}')\n",
    "    print(f'Cредний запас предсказанного сырья для региона № {num_of_reg}: {prediction_mean}')\n",
    "    print()\n",
    "    \n",
    "# Средний запас предсказанного сырья и RMSE модели для региона № 1\n",
    "features_target(data_all[0], 1)\n",
    "\n",
    "# Средний запас предсказанного сырья и RMSE модели для региона № 2\n",
    "features_target(data_all[1], 2)\n",
    "\n",
    "# Средний запас предсказанного сырья и RMSE модели для региона № 3\n",
    "features_target(data_all[2], 3)"
   ]
  },
  {
   "cell_type": "markdown",
   "id": "7c63c662",
   "metadata": {},
   "source": [
    "#### Анализ результатов."
   ]
  },
  {
   "cell_type": "markdown",
   "id": "4aa63cb4",
   "metadata": {},
   "source": [
    " <div class=\"alert alert-info\"><b>Комментарий:</b> \n",
    "   \n",
    "В первом и третьем регионах модели не могут очень точно предсказать запасы сырья. Во втором регионе модель явно лучше справляется с предсказаниями, однако при этом во втором регионе предсказан наименьший средний запас сырья.   \n",
    "Наибольший средний запас сырья предсказан в третьем регионе.\n",
    "</div>"
   ]
  },
  {
   "cell_type": "markdown",
   "id": "827c38d7",
   "metadata": {},
   "source": [
    "***"
   ]
  },
  {
   "cell_type": "markdown",
   "id": "9b730044",
   "metadata": {},
   "source": [
    "### Расчет прибыли."
   ]
  },
  {
   "cell_type": "markdown",
   "id": "4eb43fdf",
   "metadata": {},
   "source": [
    "#### Ключевые значения для расчётов."
   ]
  },
  {
   "cell_type": "code",
   "execution_count": 24,
   "id": "e9c154a1",
   "metadata": {},
   "outputs": [],
   "source": [
    "BUDGET = 10000000000            # Бюджет на разработку скважин в регионе\n",
    "COUNT_OF_WELLS = 200            # Количество скважин для разработки\n",
    "INCOME_WELL_PER_BAR = 450000    # Прибыль с 1 тысячи быррелей сырья"
   ]
  },
  {
   "cell_type": "markdown",
   "id": "6c04327f",
   "metadata": {},
   "source": [
    "#### Рассчет достаточного объёма сырья для безубыточной разработки новой скважины."
   ]
  },
  {
   "cell_type": "code",
   "execution_count": 25,
   "id": "142079f2",
   "metadata": {},
   "outputs": [
    {
     "data": {
      "text/plain": [
       "111.11111111111111"
      ]
     },
     "execution_count": 25,
     "metadata": {},
     "output_type": "execute_result"
    }
   ],
   "source": [
    "needed_volume_of_crude = BUDGET / COUNT_OF_WELLS / INCOME_WELL_PER_BAR\n",
    "needed_volume_of_crude"
   ]
  },
  {
   "cell_type": "code",
   "execution_count": 26,
   "id": "50a10b52",
   "metadata": {},
   "outputs": [
    {
     "name": "stdout",
     "output_type": "stream",
     "text": [
      "Регион № 1: 92.49999999999974\n",
      "Регион № 2: 68.82500000002561\n",
      "Регион № 3: 95.00000000000041\n"
     ]
    }
   ],
   "source": [
    "# Средний запас сырья по регионам:\n",
    "print('Регион № 1:', target_0.mean())\n",
    "print('Регион № 2:', target_1.mean())\n",
    "print('Регион № 3:', target_2.mean())"
   ]
  },
  {
   "cell_type": "markdown",
   "id": "41c716b3",
   "metadata": {},
   "source": [
    "#### Выводы по этапу подготовки расчёта прибыли."
   ]
  },
  {
   "cell_type": "markdown",
   "id": "ad714003",
   "metadata": {},
   "source": [
    " <div class=\"alert alert-info\"><b>Комментарий:</b> \n",
    "   \n",
    "Для безубыточной разработки новой скважины объем сырья должен быть не менее 111.1 тысячи баррелей. Учитывая, что средние значения по всем трем регионам ниже установленного уровня, необходимо качественно подходить к выбору, не допуская сильных отклонений.\n",
    "</div>"
   ]
  },
  {
   "cell_type": "markdown",
   "id": "de4a4e87",
   "metadata": {},
   "source": [
    "### Расчёт прибыли по выбранным скважинам и предсказаниям модели."
   ]
  },
  {
   "cell_type": "markdown",
   "id": "02000f43",
   "metadata": {},
   "source": [
    "#### Выбор скважин с максимальными значениями предсказаний. "
   ]
  },
  {
   "cell_type": "code",
   "execution_count": 27,
   "id": "0b0a2b40",
   "metadata": {},
   "outputs": [],
   "source": [
    "def max_well(target, probabilities, count):\n",
    "    probs_sorted = pd.Series(probabilities).sort_values(ascending=False) # Сортировка скважин по итогам предсказания модели\n",
    "    selected = target.reset_index(drop=True)[probs_sorted.index][:count] # Объем запасов сырья ТОП-200 скважин (по итогам предсказаний) \n",
    "    income_best_wells = selected.sum() * INCOME_WELL_PER_BAR             \n",
    "    return income_best_wells - BUDGET                                    # Прибыль от ТОП-200 скважин (по итогам предсказаний)"
   ]
  },
  {
   "cell_type": "markdown",
   "id": "011fac1b",
   "metadata": {},
   "source": [
    "#### Расчет прибыли от полученного объёма сырья."
   ]
  },
  {
   "cell_type": "code",
   "execution_count": 28,
   "id": "e3393a14",
   "metadata": {
    "scrolled": false
   },
   "outputs": [
    {
     "name": "stdout",
     "output_type": "stream",
     "text": [
      "Прибыль от полученного объёма сырья в регионе № 1 (в млрд. ₽): 3.3208260431398506\n",
      "Прибыль от полученного объёма сырья в регионе № 2 (в млрд. ₽): 2.4150866966815108\n",
      "Прибыль от полученного объёма сырья в регионе № 3 (в млрд. ₽): 2.7103499635998327\n"
     ]
    }
   ],
   "source": [
    "print('Прибыль от полученного объёма сырья в регионе № 1 (в млрд. ₽):', max_well(target_valid_0, prediction_0, COUNT_OF_WELLS) / 10 ** 9)\n",
    "print('Прибыль от полученного объёма сырья в регионе № 2 (в млрд. ₽):', max_well(target_valid_1, prediction_1, COUNT_OF_WELLS) / 10 ** 9)\n",
    "print('Прибыль от полученного объёма сырья в регионе № 3 (в млрд. ₽):', max_well(target_valid_2, prediction_2, COUNT_OF_WELLS) / 10 ** 9)"
   ]
  },
  {
   "cell_type": "markdown",
   "id": "38779d45",
   "metadata": {},
   "source": [
    " <div class=\"alert alert-info\"><b>Комментарий студента:</b> \n",
    "   \n",
    "По итогам предсказаний в регионах были отобраны 200 скважин с наиболее высоким предсказанным объемом сырья.   \n",
    "На валидационных выборках были просуммированы значения объёма сырья указанных скважин и посчитана потенциальная прибыль от добычи.   \n",
    "Максимальная прибыль от полученного объёма сырья в регионе № 1: 3.32 млрд. ₽.\n",
    "</div>"
   ]
  },
  {
   "cell_type": "markdown",
   "id": "0f5f8726",
   "metadata": {},
   "source": [
    "### Расчет рисков и прибыли для каждого региона."
   ]
  },
  {
   "cell_type": "markdown",
   "id": "69b853ac",
   "metadata": {},
   "source": [
    "#### Применение техники Bootstrap с 1000 выборок, чтобы найти распределение прибыли."
   ]
  },
  {
   "cell_type": "code",
   "execution_count": 29,
   "id": "7cf598cf",
   "metadata": {},
   "outputs": [],
   "source": [
    "state = np.random.RandomState(RANDOM_STATE)\n",
    "\n",
    "def bootstrap(target, predict):    \n",
    "    values = []\n",
    "        \n",
    "    for i in range(1000):\n",
    "        target_subsample = target.reset_index(drop=True).sample(n = 500, replace = True, random_state=state)\n",
    "        probs_subsample = predict[target_subsample.index] \n",
    "        values.append(max_well(target_subsample, probs_subsample, 200))\n",
    "\n",
    "    values = pd.Series(values)\n",
    "    plt.figure(figsize=(5, 4), dpi = 100)\n",
    "    values.hist(bins=30)\n",
    "    plt.title('Распределение прибыли', fontsize=12, pad = 10)\n",
    "    plt.xlabel('Прибыль (в млрд. ₽)', fontsize=10)\n",
    "    plt.ylabel('Количество',fontsize=10);\n",
    "    \n",
    "    confidence_interval = stats.t.interval(alpha=0.95, df=len(values)-1, loc=values.mean(), scale=values.std())\n",
    "          \n",
    "    print(\"Средняя прибыль:\", round(values.mean() / 10 ** 6, 2) , 'млн.₽')\n",
    "    print(\"95%-ый доверительный интервал:\", confidence_interval)\n",
    "    print('Риск убытка:', round((values < 0).mean() * 100, 2), '%')"
   ]
  },
  {
   "cell_type": "markdown",
   "id": "293531f2",
   "metadata": {},
   "source": [
    "#### Расчет средней прибыли, 95%-го доверительного интервала и риска убытков."
   ]
  },
  {
   "cell_type": "code",
   "execution_count": 30,
   "id": "954f950e",
   "metadata": {
    "scrolled": false
   },
   "outputs": [
    {
     "name": "stdout",
     "output_type": "stream",
     "text": [
      "Средняя прибыль: 396.16 млн.₽\n",
      "95%-ый доверительный интервал: (-127023407.62733233, 919353377.2320744)\n",
      "Риск убытка: 6.9 %\n"
     ]
    },
    {
     "data": {
      "image/png": "[encoded data removed]",
      "text/plain": [
       "<Figure size 500x400 with 1 Axes>"
      ]
     },
     "metadata": {},
     "output_type": "display_data"
    }
   ],
   "source": [
    "# Для региона № 1\n",
    "bootstrap(target_valid_0, prediction_0)"
   ]
  },
  {
   "cell_type": "code",
   "execution_count": 31,
   "id": "5bcaf3dc",
   "metadata": {
    "scrolled": false
   },
   "outputs": [
    {
     "name": "stdout",
     "output_type": "stream",
     "text": [
      "Средняя прибыль: 461.16 млн.₽\n",
      "95%-ый доверительный интервал: (71345619.68046135, 850966014.8740184)\n",
      "Риск убытка: 0.7 %\n"
     ]
    },
    {
     "data": {
      "image/png": "[encoded data removed]",
      "text/plain": [
       "<Figure size 500x400 with 1 Axes>"
      ]
     },
     "metadata": {},
     "output_type": "display_data"
    }
   ],
   "source": [
    "# Для региона № 2\n",
    "bootstrap(target_valid_1, prediction_1)"
   ]
  },
  {
   "cell_type": "code",
   "execution_count": 32,
   "id": "fdc1ed8c",
   "metadata": {
    "scrolled": false
   },
   "outputs": [
    {
     "name": "stdout",
     "output_type": "stream",
     "text": [
      "Средняя прибыль: 392.95 млн.₽\n",
      "95%-ый доверительный интервал: (-137877353.53312922, 923778303.8743367)\n",
      "Риск убытка: 6.5 %\n"
     ]
    },
    {
     "data": {
      "image/png": "[encoded data removed]",
      "text/plain": [
       "<Figure size 500x400 with 1 Axes>"
      ]
     },
     "metadata": {},
     "output_type": "display_data"
    }
   ],
   "source": [
    "# Для региона № 3\n",
    "bootstrap(target_valid_2, prediction_2)"
   ]
  },
  {
   "cell_type": "markdown",
   "id": "d7840849",
   "metadata": {},
   "source": [
    "***"
   ]
  },
  {
   "cell_type": "markdown",
   "id": "591fdf20",
   "metadata": {},
   "source": [
    " <div class=\"alert alert-info\"><b><h4>Общий вывод по исследованию:</h4></b>\n",
    "\n",
    "* В целях решения поставленных задач исходные данные были разделены на 2 выборки (обучающую и валидационную) по регионам.      \n",
    "* Данные по каждому региону были исследованы на модели ML: LinearRegression.\n",
    "* Произведен расчет рисков и прибыли для каждого региона.\n",
    "\n",
    "    \n",
    "Согласно условия, после оценки рисков нужно оставить лишь те регионы, в которых вероятность убытков меньше 2.5%. Среди них выбирают регион с наибольшей средней прибылью.\n",
    "    \n",
    "По итогам исследования выявлен единственный регион, вероятность убытков в котором меньше 2.5% - второй (Риск убытка: 0.7 %). Средняя прибыль по второму региону - 461.16 млн.₽.\n",
    "    \n",
    "Таким образом, второй регион лучше других удовлетворяет условиям задачи.\n",
    "\n",
    "</div>"
   ]
  }
 ],
 "metadata": {
  "ExecuteTimeLog": [
   {
    "duration": 2048,
    "start_time": "2023-03-16T08:17:23.652Z"
   },
   {
    "duration": 335,
    "start_time": "2023-03-16T08:17:25.707Z"
   },
   {
    "duration": 5,
    "start_time": "2023-03-16T08:17:26.044Z"
   },
   {
    "duration": 25,
    "start_time": "2023-03-16T08:17:26.051Z"
   },
   {
    "duration": 12,
    "start_time": "2023-03-16T08:17:26.083Z"
   },
   {
    "duration": 25,
    "start_time": "2023-03-16T08:17:26.097Z"
   },
   {
    "duration": 9,
    "start_time": "2023-03-16T08:17:26.129Z"
   },
   {
    "duration": 4261,
    "start_time": "2023-03-16T08:17:26.147Z"
   },
   {
    "duration": 19,
    "start_time": "2023-03-16T08:17:30.415Z"
   },
   {
    "duration": 5549,
    "start_time": "2023-03-16T08:17:30.441Z"
   },
   {
    "duration": 24,
    "start_time": "2023-03-16T08:17:35.992Z"
   },
   {
    "duration": 9,
    "start_time": "2023-03-16T08:17:36.018Z"
   },
   {
    "duration": 392,
    "start_time": "2023-03-16T08:17:36.037Z"
   },
   {
    "duration": 35,
    "start_time": "2023-03-16T08:17:36.431Z"
   },
   {
    "duration": 14,
    "start_time": "2023-03-16T08:17:36.477Z"
   },
   {
    "duration": 39,
    "start_time": "2023-03-16T08:17:36.499Z"
   },
   {
    "duration": 13,
    "start_time": "2023-03-16T08:17:36.541Z"
   },
   {
    "duration": 1070,
    "start_time": "2023-03-16T09:51:27.681Z"
   },
   {
    "duration": 1244,
    "start_time": "2023-03-16T09:51:37.328Z"
   },
   {
    "duration": 126,
    "start_time": "2023-03-16T09:51:38.574Z"
   },
   {
    "duration": 4,
    "start_time": "2023-03-16T09:51:38.702Z"
   },
   {
    "duration": 8,
    "start_time": "2023-03-16T09:51:38.707Z"
   },
   {
    "duration": 3,
    "start_time": "2023-03-16T09:51:38.717Z"
   },
   {
    "duration": 9,
    "start_time": "2023-03-16T09:51:38.721Z"
   },
   {
    "duration": 14,
    "start_time": "2023-03-16T09:51:38.731Z"
   },
   {
    "duration": 3159,
    "start_time": "2023-03-16T09:51:38.747Z"
   },
   {
    "duration": 5,
    "start_time": "2023-03-16T09:51:41.908Z"
   },
   {
    "duration": 4158,
    "start_time": "2023-03-16T09:51:41.915Z"
   },
   {
    "duration": 17,
    "start_time": "2023-03-16T09:51:46.075Z"
   },
   {
    "duration": 3,
    "start_time": "2023-03-16T09:51:46.094Z"
   },
   {
    "duration": 284,
    "start_time": "2023-03-16T09:51:46.099Z"
   },
   {
    "duration": 7,
    "start_time": "2023-03-16T09:51:46.390Z"
   },
   {
    "duration": 9,
    "start_time": "2023-03-16T09:51:46.399Z"
   },
   {
    "duration": 9,
    "start_time": "2023-03-16T09:51:46.410Z"
   },
   {
    "duration": 5,
    "start_time": "2023-03-16T09:51:46.421Z"
   },
   {
    "duration": 139,
    "start_time": "2023-03-16T09:51:46.428Z"
   },
   {
    "duration": 53,
    "start_time": "2023-03-16T15:44:20.981Z"
   },
   {
    "duration": 1166,
    "start_time": "2023-03-16T15:44:29.259Z"
   },
   {
    "duration": 129,
    "start_time": "2023-03-16T15:44:30.428Z"
   },
   {
    "duration": 4,
    "start_time": "2023-03-16T15:44:33.946Z"
   },
   {
    "duration": 9,
    "start_time": "2023-03-16T15:44:34.772Z"
   },
   {
    "duration": 12,
    "start_time": "2023-03-16T15:44:39.324Z"
   },
   {
    "duration": 12,
    "start_time": "2023-03-16T15:44:44.234Z"
   },
   {
    "duration": 13,
    "start_time": "2023-03-16T15:44:49.289Z"
   },
   {
    "duration": 10,
    "start_time": "2023-03-16T15:45:28.171Z"
   },
   {
    "duration": 8,
    "start_time": "2023-03-16T15:47:09.369Z"
   },
   {
    "duration": 9,
    "start_time": "2023-03-16T15:47:41.833Z"
   },
   {
    "duration": 37,
    "start_time": "2023-03-16T15:48:32.207Z"
   },
   {
    "duration": 3,
    "start_time": "2023-03-16T15:49:39.384Z"
   },
   {
    "duration": 4,
    "start_time": "2023-03-16T15:49:44.669Z"
   },
   {
    "duration": 3,
    "start_time": "2023-03-16T15:49:51.350Z"
   },
   {
    "duration": 6,
    "start_time": "2023-03-16T16:00:09.003Z"
   },
   {
    "duration": 7,
    "start_time": "2023-03-16T16:01:51.187Z"
   },
   {
    "duration": 575,
    "start_time": "2023-03-16T16:02:42.937Z"
   },
   {
    "duration": 116,
    "start_time": "2023-03-16T16:02:59.993Z"
   },
   {
    "duration": 138,
    "start_time": "2023-03-16T16:03:06.625Z"
   },
   {
    "duration": 117,
    "start_time": "2023-03-16T16:03:09.721Z"
   },
   {
    "duration": 130,
    "start_time": "2023-03-16T16:03:15.071Z"
   },
   {
    "duration": 225,
    "start_time": "2023-03-16T16:03:18.241Z"
   },
   {
    "duration": 194,
    "start_time": "2023-03-16T16:03:28.000Z"
   },
   {
    "duration": 177,
    "start_time": "2023-03-16T16:03:37.898Z"
   },
   {
    "duration": 11,
    "start_time": "2023-03-16T16:04:42.218Z"
   },
   {
    "duration": 12,
    "start_time": "2023-03-16T16:04:53.815Z"
   },
   {
    "duration": 100,
    "start_time": "2023-03-16T16:05:52.230Z"
   },
   {
    "duration": 117,
    "start_time": "2023-03-16T16:05:57.814Z"
   },
   {
    "duration": 145,
    "start_time": "2023-03-16T16:06:02.713Z"
   },
   {
    "duration": 108,
    "start_time": "2023-03-16T16:06:08.863Z"
   },
   {
    "duration": 108,
    "start_time": "2023-03-16T16:06:11.838Z"
   },
   {
    "duration": 12,
    "start_time": "2023-03-16T16:11:01.713Z"
   },
   {
    "duration": 260,
    "start_time": "2023-03-16T16:11:16.697Z"
   },
   {
    "duration": 187,
    "start_time": "2023-03-16T16:11:23.065Z"
   },
   {
    "duration": 252,
    "start_time": "2023-03-16T16:11:31.753Z"
   },
   {
    "duration": 153,
    "start_time": "2023-03-16T16:11:42.072Z"
   },
   {
    "duration": 172,
    "start_time": "2023-03-16T16:11:56.562Z"
   },
   {
    "duration": 120,
    "start_time": "2023-03-16T16:12:18.480Z"
   },
   {
    "duration": 161,
    "start_time": "2023-03-16T16:12:25.984Z"
   },
   {
    "duration": 126,
    "start_time": "2023-03-16T16:12:35.696Z"
   },
   {
    "duration": 110,
    "start_time": "2023-03-16T16:12:44.384Z"
   },
   {
    "duration": 154,
    "start_time": "2023-03-16T16:12:51.087Z"
   },
   {
    "duration": 145,
    "start_time": "2023-03-16T16:14:15.606Z"
   },
   {
    "duration": 134,
    "start_time": "2023-03-16T16:14:22.215Z"
   },
   {
    "duration": 150,
    "start_time": "2023-03-16T16:14:31.934Z"
   },
   {
    "duration": 117,
    "start_time": "2023-03-16T16:15:59.325Z"
   },
   {
    "duration": 120,
    "start_time": "2023-03-16T16:16:02.708Z"
   },
   {
    "duration": 123,
    "start_time": "2023-03-16T16:16:08.556Z"
   },
   {
    "duration": 109,
    "start_time": "2023-03-16T16:16:13.298Z"
   },
   {
    "duration": 171,
    "start_time": "2023-03-16T16:16:24.077Z"
   },
   {
    "duration": 234,
    "start_time": "2023-03-16T16:16:28.644Z"
   },
   {
    "duration": 116,
    "start_time": "2023-03-16T16:16:33.644Z"
   },
   {
    "duration": 158,
    "start_time": "2023-03-16T16:18:36.186Z"
   },
   {
    "duration": 178,
    "start_time": "2023-03-16T16:20:28.161Z"
   },
   {
    "duration": 12,
    "start_time": "2023-03-16T16:25:07.380Z"
   },
   {
    "duration": 8,
    "start_time": "2023-03-16T16:25:23.148Z"
   },
   {
    "duration": 7,
    "start_time": "2023-03-16T16:25:29.723Z"
   },
   {
    "duration": 2872,
    "start_time": "2023-03-16T16:25:34.804Z"
   },
   {
    "duration": 6,
    "start_time": "2023-03-16T16:25:53.683Z"
   },
   {
    "duration": 3885,
    "start_time": "2023-03-16T16:26:27.346Z"
   },
   {
    "duration": 13,
    "start_time": "2023-03-16T16:26:36.179Z"
   },
   {
    "duration": 205,
    "start_time": "2023-03-16T16:26:41.659Z"
   },
   {
    "duration": 6,
    "start_time": "2023-03-16T16:26:46.819Z"
   },
   {
    "duration": 204,
    "start_time": "2023-03-16T16:26:50.930Z"
   },
   {
    "duration": 7,
    "start_time": "2023-03-16T16:27:05.058Z"
   },
   {
    "duration": 8,
    "start_time": "2023-03-16T16:28:02.185Z"
   },
   {
    "duration": 6,
    "start_time": "2023-03-16T16:31:24.271Z"
   },
   {
    "duration": 6,
    "start_time": "2023-03-16T16:31:34.892Z"
   },
   {
    "duration": 3,
    "start_time": "2023-03-16T16:31:42.533Z"
   },
   {
    "duration": 4,
    "start_time": "2023-03-16T16:31:51.592Z"
   },
   {
    "duration": 3,
    "start_time": "2023-03-16T16:32:00.646Z"
   },
   {
    "duration": 43,
    "start_time": "2023-03-16T16:37:23.344Z"
   },
   {
    "duration": 5,
    "start_time": "2023-03-16T16:37:27.656Z"
   },
   {
    "duration": 8,
    "start_time": "2023-03-16T16:37:30.008Z"
   },
   {
    "duration": 4,
    "start_time": "2023-03-16T16:56:56.998Z"
   },
   {
    "duration": 64,
    "start_time": "2023-03-16T16:56:58.423Z"
   },
   {
    "duration": 17,
    "start_time": "2023-03-16T16:57:00.445Z"
   },
   {
    "duration": 14,
    "start_time": "2023-03-16T16:57:01.862Z"
   },
   {
    "duration": 375,
    "start_time": "2023-03-16T16:57:09.820Z"
   },
   {
    "duration": 362,
    "start_time": "2023-03-16T16:58:39.988Z"
   },
   {
    "duration": 372,
    "start_time": "2023-03-16T16:58:48.283Z"
   },
   {
    "duration": 339,
    "start_time": "2023-03-16T17:04:57.790Z"
   },
   {
    "duration": 384,
    "start_time": "2023-03-16T17:05:41.846Z"
   },
   {
    "duration": 4,
    "start_time": "2023-03-16T17:08:08.955Z"
   },
   {
    "duration": 3,
    "start_time": "2023-03-16T17:08:28.452Z"
   },
   {
    "duration": 5,
    "start_time": "2023-03-16T17:08:29.459Z"
   },
   {
    "duration": 2920,
    "start_time": "2023-03-16T17:09:47.794Z"
   },
   {
    "duration": 2838,
    "start_time": "2023-03-16T17:10:31.449Z"
   },
   {
    "duration": 6,
    "start_time": "2023-03-16T17:10:58.008Z"
   },
   {
    "duration": 3988,
    "start_time": "2023-03-16T17:11:51.264Z"
   },
   {
    "duration": 198,
    "start_time": "2023-03-16T17:12:37.430Z"
   },
   {
    "duration": 14,
    "start_time": "2023-03-16T17:18:26.650Z"
   },
   {
    "duration": 11,
    "start_time": "2023-03-16T17:20:04.431Z"
   },
   {
    "duration": 3,
    "start_time": "2023-03-16T17:27:50.792Z"
   },
   {
    "duration": 2705,
    "start_time": "2023-03-16T17:28:04.232Z"
   },
   {
    "duration": 1414,
    "start_time": "2023-03-16T17:28:16.238Z"
   },
   {
    "duration": 65,
    "start_time": "2023-03-16T17:28:17.654Z"
   },
   {
    "duration": 13,
    "start_time": "2023-03-16T17:28:17.721Z"
   },
   {
    "duration": 7,
    "start_time": "2023-03-16T17:28:17.736Z"
   },
   {
    "duration": 8,
    "start_time": "2023-03-16T17:28:17.745Z"
   },
   {
    "duration": 392,
    "start_time": "2023-03-16T17:28:17.754Z"
   },
   {
    "duration": 35,
    "start_time": "2023-03-16T17:28:18.148Z"
   },
   {
    "duration": 811,
    "start_time": "2023-03-16T17:28:18.185Z"
   },
   {
    "duration": 0,
    "start_time": "2023-03-16T17:28:18.998Z"
   },
   {
    "duration": 0,
    "start_time": "2023-03-16T17:28:19.001Z"
   },
   {
    "duration": 0,
    "start_time": "2023-03-16T17:28:19.002Z"
   },
   {
    "duration": 0,
    "start_time": "2023-03-16T17:28:19.003Z"
   },
   {
    "duration": 0,
    "start_time": "2023-03-16T17:28:19.004Z"
   },
   {
    "duration": 0,
    "start_time": "2023-03-16T17:28:19.005Z"
   },
   {
    "duration": 0,
    "start_time": "2023-03-16T17:28:19.006Z"
   },
   {
    "duration": 0,
    "start_time": "2023-03-16T17:28:19.006Z"
   },
   {
    "duration": 0,
    "start_time": "2023-03-16T17:28:19.008Z"
   },
   {
    "duration": 0,
    "start_time": "2023-03-16T17:28:19.008Z"
   },
   {
    "duration": 0,
    "start_time": "2023-03-16T17:28:19.009Z"
   },
   {
    "duration": 0,
    "start_time": "2023-03-16T17:28:19.010Z"
   },
   {
    "duration": 0,
    "start_time": "2023-03-16T17:28:19.011Z"
   },
   {
    "duration": 0,
    "start_time": "2023-03-16T17:28:19.012Z"
   },
   {
    "duration": 0,
    "start_time": "2023-03-16T17:28:19.013Z"
   },
   {
    "duration": 0,
    "start_time": "2023-03-16T17:28:19.014Z"
   },
   {
    "duration": 114,
    "start_time": "2023-03-16T17:28:37.663Z"
   },
   {
    "duration": 7,
    "start_time": "2023-03-16T17:28:42.126Z"
   },
   {
    "duration": 7,
    "start_time": "2023-03-16T17:28:45.007Z"
   },
   {
    "duration": 5,
    "start_time": "2023-03-16T17:28:45.792Z"
   },
   {
    "duration": 3,
    "start_time": "2023-03-16T17:28:46.646Z"
   },
   {
    "duration": 3,
    "start_time": "2023-03-16T17:28:48.270Z"
   },
   {
    "duration": 4,
    "start_time": "2023-03-16T17:28:49.189Z"
   },
   {
    "duration": 17,
    "start_time": "2023-03-16T17:28:52.496Z"
   },
   {
    "duration": 1408,
    "start_time": "2023-03-16T17:29:09.191Z"
   },
   {
    "duration": 65,
    "start_time": "2023-03-16T17:29:10.601Z"
   },
   {
    "duration": 11,
    "start_time": "2023-03-16T17:29:10.667Z"
   },
   {
    "duration": 4,
    "start_time": "2023-03-16T17:29:10.680Z"
   },
   {
    "duration": 7,
    "start_time": "2023-03-16T17:29:10.685Z"
   },
   {
    "duration": 368,
    "start_time": "2023-03-16T17:29:10.694Z"
   },
   {
    "duration": 28,
    "start_time": "2023-03-16T17:29:11.064Z"
   },
   {
    "duration": 124,
    "start_time": "2023-03-16T17:29:11.093Z"
   },
   {
    "duration": 7,
    "start_time": "2023-03-16T17:29:11.219Z"
   },
   {
    "duration": 6,
    "start_time": "2023-03-16T17:29:11.229Z"
   },
   {
    "duration": 6,
    "start_time": "2023-03-16T17:29:11.237Z"
   },
   {
    "duration": 6,
    "start_time": "2023-03-16T17:29:11.244Z"
   },
   {
    "duration": 23,
    "start_time": "2023-03-16T17:29:11.252Z"
   },
   {
    "duration": 5,
    "start_time": "2023-03-16T17:29:11.277Z"
   },
   {
    "duration": 4,
    "start_time": "2023-03-16T17:29:11.284Z"
   },
   {
    "duration": 2698,
    "start_time": "2023-03-16T17:29:11.289Z"
   },
   {
    "duration": 3673,
    "start_time": "2023-03-16T17:29:13.989Z"
   },
   {
    "duration": 2,
    "start_time": "2023-03-16T17:29:17.664Z"
   },
   {
    "duration": 192,
    "start_time": "2023-03-16T17:29:17.676Z"
   },
   {
    "duration": 14,
    "start_time": "2023-03-16T17:29:17.870Z"
   },
   {
    "duration": 2,
    "start_time": "2023-03-16T17:29:17.886Z"
   },
   {
    "duration": 11,
    "start_time": "2023-03-16T17:29:17.889Z"
   },
   {
    "duration": 4,
    "start_time": "2023-03-16T17:29:17.901Z"
   },
   {
    "duration": 127,
    "start_time": "2023-03-16T17:29:17.906Z"
   },
   {
    "duration": 10,
    "start_time": "2023-03-16T17:29:40.086Z"
   },
   {
    "duration": 5,
    "start_time": "2023-03-16T17:29:42.620Z"
   },
   {
    "duration": 2657,
    "start_time": "2023-03-16T17:31:46.251Z"
   },
   {
    "duration": 3703,
    "start_time": "2023-03-16T17:31:51.588Z"
   },
   {
    "duration": 182,
    "start_time": "2023-03-16T17:31:59.988Z"
   },
   {
    "duration": 11,
    "start_time": "2023-03-16T17:32:07.780Z"
   },
   {
    "duration": 10,
    "start_time": "2023-03-16T17:33:21.899Z"
   },
   {
    "duration": 5,
    "start_time": "2023-03-16T17:33:23.121Z"
   },
   {
    "duration": 11,
    "start_time": "2023-03-16T17:33:23.769Z"
   },
   {
    "duration": 13,
    "start_time": "2023-03-16T17:42:00.401Z"
   },
   {
    "duration": 10,
    "start_time": "2023-03-16T17:42:22.601Z"
   },
   {
    "duration": 5,
    "start_time": "2023-03-16T17:42:31.249Z"
   },
   {
    "duration": 17,
    "start_time": "2023-03-16T17:42:44.193Z"
   },
   {
    "duration": 5,
    "start_time": "2023-03-16T17:43:37.392Z"
   },
   {
    "duration": 9,
    "start_time": "2023-03-16T17:43:42.007Z"
   },
   {
    "duration": 10,
    "start_time": "2023-03-16T17:43:48.063Z"
   },
   {
    "duration": 9,
    "start_time": "2023-03-16T17:43:53.063Z"
   },
   {
    "duration": 7,
    "start_time": "2023-03-16T17:44:57.120Z"
   },
   {
    "duration": 6,
    "start_time": "2023-03-16T17:45:03.335Z"
   },
   {
    "duration": 16,
    "start_time": "2023-03-16T17:45:59.110Z"
   },
   {
    "duration": 18,
    "start_time": "2023-03-16T17:49:07.913Z"
   },
   {
    "duration": 15,
    "start_time": "2023-03-16T17:49:22.689Z"
   },
   {
    "duration": 15,
    "start_time": "2023-03-16T17:49:43.434Z"
   },
   {
    "duration": 17,
    "start_time": "2023-03-16T17:50:13.416Z"
   },
   {
    "duration": 14,
    "start_time": "2023-03-16T17:50:25.593Z"
   },
   {
    "duration": 1450,
    "start_time": "2023-03-16T17:50:39.963Z"
   },
   {
    "duration": 72,
    "start_time": "2023-03-16T17:50:41.415Z"
   },
   {
    "duration": 13,
    "start_time": "2023-03-16T17:50:41.493Z"
   },
   {
    "duration": 7,
    "start_time": "2023-03-16T17:50:41.508Z"
   },
   {
    "duration": 8,
    "start_time": "2023-03-16T17:50:41.516Z"
   },
   {
    "duration": 421,
    "start_time": "2023-03-16T17:50:41.526Z"
   },
   {
    "duration": 34,
    "start_time": "2023-03-16T17:50:41.949Z"
   },
   {
    "duration": 118,
    "start_time": "2023-03-16T17:50:41.985Z"
   },
   {
    "duration": 8,
    "start_time": "2023-03-16T17:50:42.106Z"
   },
   {
    "duration": 22,
    "start_time": "2023-03-16T17:50:42.116Z"
   },
   {
    "duration": 7,
    "start_time": "2023-03-16T17:50:42.139Z"
   },
   {
    "duration": 13,
    "start_time": "2023-03-16T17:50:42.148Z"
   },
   {
    "duration": 6,
    "start_time": "2023-03-16T17:50:42.163Z"
   },
   {
    "duration": 12,
    "start_time": "2023-03-16T17:50:42.175Z"
   },
   {
    "duration": 5,
    "start_time": "2023-03-16T17:50:42.190Z"
   },
   {
    "duration": 2834,
    "start_time": "2023-03-16T17:50:42.196Z"
   },
   {
    "duration": 3785,
    "start_time": "2023-03-16T17:50:45.031Z"
   },
   {
    "duration": 2,
    "start_time": "2023-03-16T17:50:48.818Z"
   },
   {
    "duration": 203,
    "start_time": "2023-03-16T17:50:48.822Z"
   },
   {
    "duration": 12,
    "start_time": "2023-03-16T17:50:49.027Z"
   },
   {
    "duration": 9,
    "start_time": "2023-03-16T17:50:49.040Z"
   },
   {
    "duration": 28,
    "start_time": "2023-03-16T17:50:49.051Z"
   },
   {
    "duration": 11,
    "start_time": "2023-03-16T17:50:49.080Z"
   },
   {
    "duration": 122,
    "start_time": "2023-03-16T17:50:49.092Z"
   },
   {
    "duration": 13,
    "start_time": "2023-03-16T17:51:05.753Z"
   },
   {
    "duration": 5,
    "start_time": "2023-03-16T17:51:09.609Z"
   },
   {
    "duration": 24,
    "start_time": "2023-03-16T17:51:21.865Z"
   },
   {
    "duration": 17,
    "start_time": "2023-03-16T17:51:36.768Z"
   },
   {
    "duration": 15,
    "start_time": "2023-03-16T17:51:45.039Z"
   },
   {
    "duration": 17,
    "start_time": "2023-03-16T17:52:40.856Z"
   },
   {
    "duration": 15,
    "start_time": "2023-03-16T17:52:47.615Z"
   },
   {
    "duration": 23,
    "start_time": "2023-03-16T17:53:13.375Z"
   },
   {
    "duration": 15,
    "start_time": "2023-03-16T17:53:24.279Z"
   },
   {
    "duration": 14,
    "start_time": "2023-03-16T17:53:58.886Z"
   },
   {
    "duration": 6,
    "start_time": "2023-03-16T17:54:20.309Z"
   },
   {
    "duration": 11,
    "start_time": "2023-03-16T17:54:40.254Z"
   },
   {
    "duration": 9,
    "start_time": "2023-03-16T17:54:42.685Z"
   },
   {
    "duration": 12,
    "start_time": "2023-03-16T17:54:48.013Z"
   },
   {
    "duration": 8,
    "start_time": "2023-03-16T17:54:59.900Z"
   },
   {
    "duration": 12,
    "start_time": "2023-03-16T17:55:50.227Z"
   },
   {
    "duration": 9,
    "start_time": "2023-03-16T17:56:12.323Z"
   },
   {
    "duration": 12,
    "start_time": "2023-03-16T17:56:35.324Z"
   },
   {
    "duration": 10,
    "start_time": "2023-03-16T18:17:51.928Z"
   },
   {
    "duration": 117,
    "start_time": "2023-03-16T18:19:43.037Z"
   },
   {
    "duration": 241,
    "start_time": "2023-03-16T18:19:54.022Z"
   },
   {
    "duration": 243,
    "start_time": "2023-03-16T18:24:48.055Z"
   },
   {
    "duration": 169,
    "start_time": "2023-03-16T18:34:21.240Z"
   },
   {
    "duration": 55,
    "start_time": "2023-03-17T06:55:12.664Z"
   },
   {
    "duration": 1769,
    "start_time": "2023-03-17T06:55:18.506Z"
   },
   {
    "duration": 188,
    "start_time": "2023-03-17T06:55:20.277Z"
   },
   {
    "duration": 15,
    "start_time": "2023-03-17T06:55:20.467Z"
   },
   {
    "duration": 25,
    "start_time": "2023-03-17T06:55:20.486Z"
   },
   {
    "duration": 12,
    "start_time": "2023-03-17T06:55:20.513Z"
   },
   {
    "duration": 501,
    "start_time": "2023-03-17T06:55:20.527Z"
   },
   {
    "duration": 25,
    "start_time": "2023-03-17T06:55:21.030Z"
   },
   {
    "duration": 134,
    "start_time": "2023-03-17T06:55:21.057Z"
   },
   {
    "duration": 9,
    "start_time": "2023-03-17T06:55:21.193Z"
   },
   {
    "duration": 11,
    "start_time": "2023-03-17T06:55:21.206Z"
   },
   {
    "duration": 9,
    "start_time": "2023-03-17T06:55:21.219Z"
   },
   {
    "duration": 12,
    "start_time": "2023-03-17T06:55:21.230Z"
   },
   {
    "duration": 31,
    "start_time": "2023-03-17T06:55:21.244Z"
   },
   {
    "duration": 18,
    "start_time": "2023-03-17T06:55:21.278Z"
   },
   {
    "duration": 7,
    "start_time": "2023-03-17T06:55:21.298Z"
   },
   {
    "duration": 3088,
    "start_time": "2023-03-17T06:55:21.307Z"
   },
   {
    "duration": 4221,
    "start_time": "2023-03-17T06:55:24.397Z"
   },
   {
    "duration": 4,
    "start_time": "2023-03-17T06:55:28.620Z"
   },
   {
    "duration": 238,
    "start_time": "2023-03-17T06:55:28.626Z"
   },
   {
    "duration": 20,
    "start_time": "2023-03-17T06:55:28.866Z"
   },
   {
    "duration": 20,
    "start_time": "2023-03-17T06:55:28.888Z"
   },
   {
    "duration": 32,
    "start_time": "2023-03-17T06:55:28.911Z"
   },
   {
    "duration": 30,
    "start_time": "2023-03-17T06:55:28.945Z"
   },
   {
    "duration": 358,
    "start_time": "2023-03-17T06:55:28.979Z"
   },
   {
    "duration": 15,
    "start_time": "2023-03-17T06:57:49.331Z"
   },
   {
    "duration": 6,
    "start_time": "2023-03-17T06:57:50.372Z"
   },
   {
    "duration": 3320,
    "start_time": "2023-04-05T08:47:46.228Z"
   },
   {
    "duration": 233,
    "start_time": "2023-04-05T08:47:49.551Z"
   },
   {
    "duration": 15,
    "start_time": "2023-04-05T08:47:49.786Z"
   },
   {
    "duration": 13,
    "start_time": "2023-04-05T08:47:49.803Z"
   },
   {
    "duration": 18,
    "start_time": "2023-04-05T08:47:49.818Z"
   },
   {
    "duration": 13,
    "start_time": "2023-04-05T08:47:49.838Z"
   },
   {
    "duration": 23,
    "start_time": "2023-04-05T08:47:49.854Z"
   },
   {
    "duration": 28,
    "start_time": "2023-04-05T08:47:49.880Z"
   },
   {
    "duration": 28,
    "start_time": "2023-04-05T08:47:49.910Z"
   },
   {
    "duration": 470,
    "start_time": "2023-04-05T08:47:49.941Z"
   },
   {
    "duration": 14,
    "start_time": "2023-04-05T08:47:50.413Z"
   },
   {
    "duration": 36,
    "start_time": "2023-04-05T08:47:50.434Z"
   },
   {
    "duration": 136,
    "start_time": "2023-04-05T08:47:50.472Z"
   },
   {
    "duration": 7,
    "start_time": "2023-04-05T08:47:50.610Z"
   },
   {
    "duration": 24,
    "start_time": "2023-04-05T08:47:50.619Z"
   },
   {
    "duration": 19,
    "start_time": "2023-04-05T08:47:50.645Z"
   },
   {
    "duration": 5,
    "start_time": "2023-04-05T08:47:50.665Z"
   },
   {
    "duration": 13,
    "start_time": "2023-04-05T08:47:50.671Z"
   },
   {
    "duration": 9,
    "start_time": "2023-04-05T08:47:50.686Z"
   },
   {
    "duration": 5985,
    "start_time": "2023-04-05T08:47:50.697Z"
   },
   {
    "duration": 7412,
    "start_time": "2023-04-05T08:47:56.684Z"
   },
   {
    "duration": 15041,
    "start_time": "2023-04-05T08:48:04.099Z"
   },
   {
    "duration": 431,
    "start_time": "2023-04-05T08:48:19.142Z"
   },
   {
    "duration": 14,
    "start_time": "2023-04-05T08:48:19.576Z"
   },
   {
    "duration": 12336,
    "start_time": "2023-04-05T08:48:19.592Z"
   },
   {
    "duration": 12153,
    "start_time": "2023-04-05T08:48:31.933Z"
   },
   {
    "duration": 23356,
    "start_time": "2023-04-05T08:48:44.087Z"
   },
   {
    "duration": 98,
    "start_time": "2023-04-05T08:49:07.447Z"
   },
   {
    "duration": 4251,
    "start_time": "2023-04-05T08:49:07.547Z"
   },
   {
    "duration": 3825,
    "start_time": "2023-04-05T08:49:11.800Z"
   },
   {
    "duration": 9804,
    "start_time": "2023-04-05T08:49:15.632Z"
   },
   {
    "duration": 17,
    "start_time": "2023-04-05T08:49:25.438Z"
   },
   {
    "duration": 218,
    "start_time": "2023-04-05T08:49:25.457Z"
   },
   {
    "duration": 415,
    "start_time": "2023-04-05T08:49:25.677Z"
   },
   {
    "duration": 1814,
    "start_time": "2023-04-05T09:50:18.579Z"
   },
   {
    "duration": 1481,
    "start_time": "2023-04-05T09:50:41.790Z"
   },
   {
    "duration": 117,
    "start_time": "2023-04-05T09:50:43.274Z"
   },
   {
    "duration": 15,
    "start_time": "2023-04-05T09:50:43.392Z"
   },
   {
    "duration": 4,
    "start_time": "2023-04-05T09:50:43.409Z"
   },
   {
    "duration": 14,
    "start_time": "2023-04-05T09:50:43.414Z"
   },
   {
    "duration": 8,
    "start_time": "2023-04-05T09:50:43.430Z"
   },
   {
    "duration": 25,
    "start_time": "2023-04-05T09:50:43.439Z"
   },
   {
    "duration": 5,
    "start_time": "2023-04-05T09:50:43.466Z"
   },
   {
    "duration": 10,
    "start_time": "2023-04-05T09:50:43.473Z"
   },
   {
    "duration": 447,
    "start_time": "2023-04-05T09:50:43.486Z"
   },
   {
    "duration": 15,
    "start_time": "2023-04-05T09:50:43.934Z"
   },
   {
    "duration": 37,
    "start_time": "2023-04-05T09:50:43.950Z"
   },
   {
    "duration": 143,
    "start_time": "2023-04-05T09:50:43.988Z"
   },
   {
    "duration": 8,
    "start_time": "2023-04-05T09:50:44.133Z"
   },
   {
    "duration": 10,
    "start_time": "2023-04-05T09:50:44.143Z"
   },
   {
    "duration": 16,
    "start_time": "2023-04-05T09:50:44.154Z"
   },
   {
    "duration": 4,
    "start_time": "2023-04-05T09:50:44.171Z"
   },
   {
    "duration": 9,
    "start_time": "2023-04-05T09:50:44.176Z"
   },
   {
    "duration": 37,
    "start_time": "2023-04-05T09:50:44.187Z"
   },
   {
    "duration": 5822,
    "start_time": "2023-04-05T09:50:44.226Z"
   },
   {
    "duration": 6235,
    "start_time": "2023-04-05T09:50:50.050Z"
   },
   {
    "duration": 7037,
    "start_time": "2023-04-05T09:50:56.287Z"
   },
   {
    "duration": 352,
    "start_time": "2023-04-05T09:51:03.327Z"
   },
   {
    "duration": 17,
    "start_time": "2023-04-05T09:51:03.681Z"
   },
   {
    "duration": 11729,
    "start_time": "2023-04-05T09:51:03.700Z"
   },
   {
    "duration": 11841,
    "start_time": "2023-04-05T09:51:15.431Z"
   },
   {
    "duration": 20495,
    "start_time": "2023-04-05T09:51:27.274Z"
   },
   {
    "duration": 98,
    "start_time": "2023-04-05T09:51:47.827Z"
   },
   {
    "duration": 3885,
    "start_time": "2023-04-05T09:51:47.928Z"
   },
   {
    "duration": 3704,
    "start_time": "2023-04-05T09:51:51.815Z"
   },
   {
    "duration": 5019,
    "start_time": "2023-04-05T09:51:55.520Z"
   },
   {
    "duration": 20,
    "start_time": "2023-04-05T09:52:00.625Z"
   },
   {
    "duration": 209,
    "start_time": "2023-04-05T09:52:00.648Z"
   },
   {
    "duration": 443,
    "start_time": "2023-04-05T09:52:00.859Z"
   },
   {
    "duration": 1507,
    "start_time": "2023-04-05T09:59:18.012Z"
   },
   {
    "duration": 73,
    "start_time": "2023-04-05T09:59:19.521Z"
   },
   {
    "duration": 13,
    "start_time": "2023-04-05T09:59:19.596Z"
   },
   {
    "duration": 4,
    "start_time": "2023-04-05T09:59:19.611Z"
   },
   {
    "duration": 21,
    "start_time": "2023-04-05T09:59:19.616Z"
   },
   {
    "duration": 8,
    "start_time": "2023-04-05T09:59:19.638Z"
   },
   {
    "duration": 8,
    "start_time": "2023-04-05T09:59:19.648Z"
   },
   {
    "duration": 17,
    "start_time": "2023-04-05T09:59:19.658Z"
   },
   {
    "duration": 17,
    "start_time": "2023-04-05T09:59:19.677Z"
   },
   {
    "duration": 434,
    "start_time": "2023-04-05T09:59:19.697Z"
   },
   {
    "duration": 13,
    "start_time": "2023-04-05T09:59:20.133Z"
   },
   {
    "duration": 48,
    "start_time": "2023-04-05T09:59:20.147Z"
   },
   {
    "duration": 164,
    "start_time": "2023-04-05T09:59:20.197Z"
   },
   {
    "duration": 10,
    "start_time": "2023-04-05T09:59:20.363Z"
   },
   {
    "duration": 28,
    "start_time": "2023-04-05T09:59:20.375Z"
   },
   {
    "duration": 44,
    "start_time": "2023-04-05T09:59:20.406Z"
   },
   {
    "duration": 8,
    "start_time": "2023-04-05T09:59:20.452Z"
   },
   {
    "duration": 20,
    "start_time": "2023-04-05T09:59:20.461Z"
   },
   {
    "duration": 30,
    "start_time": "2023-04-05T09:59:20.483Z"
   },
   {
    "duration": 5860,
    "start_time": "2023-04-05T09:59:20.516Z"
   },
   {
    "duration": 6108,
    "start_time": "2023-04-05T09:59:26.378Z"
   },
   {
    "duration": 8836,
    "start_time": "2023-04-05T09:59:32.488Z"
   },
   {
    "duration": 262,
    "start_time": "2023-04-05T09:59:41.326Z"
   },
   {
    "duration": 12,
    "start_time": "2023-04-05T09:59:41.591Z"
   },
   {
    "duration": 8490,
    "start_time": "2023-04-05T09:59:41.605Z"
   },
   {
    "duration": 8285,
    "start_time": "2023-04-05T09:59:50.097Z"
   },
   {
    "duration": 12840,
    "start_time": "2023-04-05T09:59:58.384Z"
   },
   {
    "duration": 99,
    "start_time": "2023-04-05T10:00:11.230Z"
   },
   {
    "duration": 4358,
    "start_time": "2023-04-05T10:00:11.332Z"
   },
   {
    "duration": 4115,
    "start_time": "2023-04-05T10:00:15.692Z"
   },
   {
    "duration": 5549,
    "start_time": "2023-04-05T10:00:19.809Z"
   },
   {
    "duration": 106,
    "start_time": "2023-04-05T10:00:25.425Z"
   },
   {
    "duration": 169,
    "start_time": "2023-04-05T10:00:25.533Z"
   },
   {
    "duration": 382,
    "start_time": "2023-04-05T10:00:25.704Z"
   },
   {
    "duration": 6,
    "start_time": "2023-04-05T10:05:08.544Z"
   },
   {
    "duration": 10,
    "start_time": "2023-04-05T10:05:13.089Z"
   },
   {
    "duration": 5,
    "start_time": "2023-04-05T10:05:17.601Z"
   },
   {
    "duration": 8,
    "start_time": "2023-04-05T10:05:35.815Z"
   },
   {
    "duration": 9,
    "start_time": "2023-04-05T10:06:03.489Z"
   },
   {
    "duration": 8,
    "start_time": "2023-04-05T10:06:11.135Z"
   },
   {
    "duration": 7,
    "start_time": "2023-04-05T10:06:22.111Z"
   },
   {
    "duration": 1486,
    "start_time": "2023-04-05T10:06:26.439Z"
   },
   {
    "duration": 75,
    "start_time": "2023-04-05T10:06:27.928Z"
   },
   {
    "duration": 13,
    "start_time": "2023-04-05T10:06:28.004Z"
   },
   {
    "duration": 3,
    "start_time": "2023-04-05T10:06:28.020Z"
   },
   {
    "duration": 13,
    "start_time": "2023-04-05T10:06:28.025Z"
   },
   {
    "duration": 8,
    "start_time": "2023-04-05T10:06:28.039Z"
   },
   {
    "duration": 24,
    "start_time": "2023-04-05T10:06:28.048Z"
   },
   {
    "duration": 12,
    "start_time": "2023-04-05T10:06:28.074Z"
   },
   {
    "duration": 4,
    "start_time": "2023-04-05T10:06:28.088Z"
   },
   {
    "duration": 424,
    "start_time": "2023-04-05T10:06:28.096Z"
   },
   {
    "duration": 14,
    "start_time": "2023-04-05T10:06:28.522Z"
   },
   {
    "duration": 35,
    "start_time": "2023-04-05T10:06:28.537Z"
   },
   {
    "duration": 136,
    "start_time": "2023-04-05T10:06:28.574Z"
   },
   {
    "duration": 17,
    "start_time": "2023-04-05T10:06:28.712Z"
   },
   {
    "duration": 15,
    "start_time": "2023-04-05T10:06:28.731Z"
   },
   {
    "duration": 23,
    "start_time": "2023-04-05T10:06:28.747Z"
   },
   {
    "duration": 9,
    "start_time": "2023-04-05T10:06:28.771Z"
   },
   {
    "duration": 25,
    "start_time": "2023-04-05T10:06:28.782Z"
   },
   {
    "duration": 15,
    "start_time": "2023-04-05T10:06:28.808Z"
   },
   {
    "duration": 5792,
    "start_time": "2023-04-05T10:06:28.825Z"
   },
   {
    "duration": 5804,
    "start_time": "2023-04-05T10:06:34.619Z"
   },
   {
    "duration": 6699,
    "start_time": "2023-04-05T10:06:40.425Z"
   },
   {
    "duration": 339,
    "start_time": "2023-04-05T10:06:47.128Z"
   },
   {
    "duration": 12,
    "start_time": "2023-04-05T10:06:47.468Z"
   },
   {
    "duration": 8524,
    "start_time": "2023-04-05T10:06:47.482Z"
   },
   {
    "duration": 8222,
    "start_time": "2023-04-05T10:06:56.009Z"
   },
   {
    "duration": 11292,
    "start_time": "2023-04-05T10:07:04.233Z"
   },
   {
    "duration": 98,
    "start_time": "2023-04-05T10:07:15.529Z"
   },
   {
    "duration": 4276,
    "start_time": "2023-04-05T10:07:15.629Z"
   },
   {
    "duration": 4323,
    "start_time": "2023-04-05T10:07:19.907Z"
   },
   {
    "duration": 4734,
    "start_time": "2023-04-05T10:07:24.232Z"
   },
   {
    "duration": 102,
    "start_time": "2023-04-05T10:07:29.023Z"
   },
   {
    "duration": 160,
    "start_time": "2023-04-05T10:07:29.127Z"
   },
   {
    "duration": 405,
    "start_time": "2023-04-05T10:07:29.289Z"
   },
   {
    "duration": 129,
    "start_time": "2023-04-05T10:07:29.696Z"
   },
   {
    "duration": 8,
    "start_time": "2023-04-05T10:07:45.622Z"
   },
   {
    "duration": 8,
    "start_time": "2023-04-05T10:08:07.797Z"
   },
   {
    "duration": 4,
    "start_time": "2023-04-05T10:08:29.141Z"
   },
   {
    "duration": 6,
    "start_time": "2023-04-05T10:08:31.748Z"
   },
   {
    "duration": 23,
    "start_time": "2023-04-05T10:09:21.331Z"
   },
   {
    "duration": 11,
    "start_time": "2023-04-05T10:09:36.324Z"
   },
   {
    "duration": 11,
    "start_time": "2023-04-05T10:09:46.476Z"
   },
   {
    "duration": 1497,
    "start_time": "2023-04-05T10:09:56.015Z"
   },
   {
    "duration": 175,
    "start_time": "2023-04-05T10:09:57.514Z"
   },
   {
    "duration": 14,
    "start_time": "2023-04-05T10:09:57.691Z"
   },
   {
    "duration": 15,
    "start_time": "2023-04-05T10:09:57.707Z"
   },
   {
    "duration": 13,
    "start_time": "2023-04-05T10:09:57.724Z"
   },
   {
    "duration": 9,
    "start_time": "2023-04-05T10:09:57.739Z"
   },
   {
    "duration": 7,
    "start_time": "2023-04-05T10:09:57.750Z"
   },
   {
    "duration": 21,
    "start_time": "2023-04-05T10:09:57.759Z"
   },
   {
    "duration": 9,
    "start_time": "2023-04-05T10:09:57.782Z"
   },
   {
    "duration": 430,
    "start_time": "2023-04-05T10:09:57.794Z"
   },
   {
    "duration": 18,
    "start_time": "2023-04-05T10:09:58.226Z"
   },
   {
    "duration": 36,
    "start_time": "2023-04-05T10:09:58.245Z"
   },
   {
    "duration": 143,
    "start_time": "2023-04-05T10:09:58.283Z"
   },
   {
    "duration": 7,
    "start_time": "2023-04-05T10:09:58.428Z"
   },
   {
    "duration": 9,
    "start_time": "2023-04-05T10:09:58.437Z"
   },
   {
    "duration": 16,
    "start_time": "2023-04-05T10:09:58.448Z"
   },
   {
    "duration": 4,
    "start_time": "2023-04-05T10:09:58.466Z"
   },
   {
    "duration": 22,
    "start_time": "2023-04-05T10:09:58.472Z"
   },
   {
    "duration": 39,
    "start_time": "2023-04-05T10:09:58.495Z"
   },
   {
    "duration": 155,
    "start_time": "2023-04-05T10:09:58.536Z"
   },
   {
    "duration": 0,
    "start_time": "2023-04-05T10:09:58.693Z"
   },
   {
    "duration": 0,
    "start_time": "2023-04-05T10:09:58.694Z"
   },
   {
    "duration": 0,
    "start_time": "2023-04-05T10:09:58.695Z"
   },
   {
    "duration": 0,
    "start_time": "2023-04-05T10:09:58.696Z"
   },
   {
    "duration": 0,
    "start_time": "2023-04-05T10:09:58.698Z"
   },
   {
    "duration": 0,
    "start_time": "2023-04-05T10:09:58.699Z"
   },
   {
    "duration": 0,
    "start_time": "2023-04-05T10:09:58.700Z"
   },
   {
    "duration": 0,
    "start_time": "2023-04-05T10:09:58.702Z"
   },
   {
    "duration": 0,
    "start_time": "2023-04-05T10:09:58.703Z"
   },
   {
    "duration": 0,
    "start_time": "2023-04-05T10:09:58.723Z"
   },
   {
    "duration": 0,
    "start_time": "2023-04-05T10:09:58.725Z"
   },
   {
    "duration": 0,
    "start_time": "2023-04-05T10:09:58.727Z"
   },
   {
    "duration": 0,
    "start_time": "2023-04-05T10:09:58.728Z"
   },
   {
    "duration": 0,
    "start_time": "2023-04-05T10:09:58.730Z"
   },
   {
    "duration": 7,
    "start_time": "2023-04-05T10:10:33.603Z"
   },
   {
    "duration": 25,
    "start_time": "2023-04-05T10:12:38.025Z"
   },
   {
    "duration": 16,
    "start_time": "2023-04-05T10:12:46.856Z"
   },
   {
    "duration": 4,
    "start_time": "2023-04-05T10:12:48.023Z"
   },
   {
    "duration": 4,
    "start_time": "2023-04-05T10:12:48.808Z"
   },
   {
    "duration": 4,
    "start_time": "2023-04-05T10:12:50.575Z"
   },
   {
    "duration": 31,
    "start_time": "2023-04-05T10:12:52.208Z"
   },
   {
    "duration": 4,
    "start_time": "2023-04-05T10:13:27.160Z"
   },
   {
    "duration": 26,
    "start_time": "2023-04-05T10:14:04.496Z"
   },
   {
    "duration": 6,
    "start_time": "2023-04-05T10:16:17.399Z"
   },
   {
    "duration": 6,
    "start_time": "2023-04-05T10:16:19.648Z"
   },
   {
    "duration": 394,
    "start_time": "2023-04-05T10:16:23.836Z"
   },
   {
    "duration": 18,
    "start_time": "2023-04-05T10:16:37.420Z"
   },
   {
    "duration": 1665,
    "start_time": "2023-04-05T10:16:49.071Z"
   },
   {
    "duration": 207,
    "start_time": "2023-04-05T10:16:50.739Z"
   },
   {
    "duration": 14,
    "start_time": "2023-04-05T10:16:50.948Z"
   },
   {
    "duration": 8,
    "start_time": "2023-04-05T10:16:50.963Z"
   },
   {
    "duration": 15,
    "start_time": "2023-04-05T10:16:50.974Z"
   },
   {
    "duration": 34,
    "start_time": "2023-04-05T10:16:50.991Z"
   },
   {
    "duration": 9,
    "start_time": "2023-04-05T10:16:51.028Z"
   },
   {
    "duration": 17,
    "start_time": "2023-04-05T10:16:51.039Z"
   },
   {
    "duration": 25,
    "start_time": "2023-04-05T10:16:51.058Z"
   },
   {
    "duration": 462,
    "start_time": "2023-04-05T10:16:51.085Z"
   },
   {
    "duration": 15,
    "start_time": "2023-04-05T10:16:51.549Z"
   },
   {
    "duration": 39,
    "start_time": "2023-04-05T10:16:51.566Z"
   },
   {
    "duration": 136,
    "start_time": "2023-04-05T10:16:51.624Z"
   },
   {
    "duration": 8,
    "start_time": "2023-04-05T10:16:51.763Z"
   },
   {
    "duration": 19,
    "start_time": "2023-04-05T10:16:51.773Z"
   },
   {
    "duration": 33,
    "start_time": "2023-04-05T10:16:51.794Z"
   },
   {
    "duration": 4,
    "start_time": "2023-04-05T10:16:51.829Z"
   },
   {
    "duration": 7,
    "start_time": "2023-04-05T10:16:51.835Z"
   },
   {
    "duration": 8,
    "start_time": "2023-04-05T10:16:51.844Z"
   },
   {
    "duration": 5756,
    "start_time": "2023-04-05T10:16:51.854Z"
   },
   {
    "duration": 6245,
    "start_time": "2023-04-05T10:16:57.612Z"
   },
   {
    "duration": 6270,
    "start_time": "2023-04-05T10:17:03.859Z"
   },
   {
    "duration": 352,
    "start_time": "2023-04-05T10:17:10.132Z"
   },
   {
    "duration": 20,
    "start_time": "2023-04-05T10:17:10.486Z"
   },
   {
    "duration": 8801,
    "start_time": "2023-04-05T10:17:10.509Z"
   },
   {
    "duration": 8303,
    "start_time": "2023-04-05T10:17:19.312Z"
   },
   {
    "duration": 19708,
    "start_time": "2023-04-05T10:17:27.616Z"
   },
   {
    "duration": 100,
    "start_time": "2023-04-05T10:17:47.331Z"
   },
   {
    "duration": 4382,
    "start_time": "2023-04-05T10:17:47.433Z"
   },
   {
    "duration": 4219,
    "start_time": "2023-04-05T10:17:51.817Z"
   },
   {
    "duration": 6795,
    "start_time": "2023-04-05T10:17:56.038Z"
   },
   {
    "duration": 102,
    "start_time": "2023-04-05T10:18:02.835Z"
   },
   {
    "duration": 163,
    "start_time": "2023-04-05T10:18:02.939Z"
   },
   {
    "duration": 382,
    "start_time": "2023-04-05T10:18:03.104Z"
   },
   {
    "duration": 374,
    "start_time": "2023-04-05T10:48:55.892Z"
   },
   {
    "duration": 361,
    "start_time": "2023-04-05T10:49:04.368Z"
   },
   {
    "duration": 357,
    "start_time": "2023-04-05T10:49:19.732Z"
   },
   {
    "duration": 370,
    "start_time": "2023-04-05T10:50:29.532Z"
   },
   {
    "duration": 375,
    "start_time": "2023-04-05T10:50:33.278Z"
   },
   {
    "duration": 340,
    "start_time": "2023-04-05T10:50:36.259Z"
   },
   {
    "duration": 365,
    "start_time": "2023-04-05T10:50:39.421Z"
   },
   {
    "duration": 124,
    "start_time": "2023-04-05T10:53:28.112Z"
   },
   {
    "duration": 1449,
    "start_time": "2023-04-05T10:53:33.569Z"
   },
   {
    "duration": 75,
    "start_time": "2023-04-05T10:53:35.020Z"
   },
   {
    "duration": 13,
    "start_time": "2023-04-05T10:53:35.096Z"
   },
   {
    "duration": 3,
    "start_time": "2023-04-05T10:53:35.112Z"
   },
   {
    "duration": 13,
    "start_time": "2023-04-05T10:53:35.117Z"
   },
   {
    "duration": 7,
    "start_time": "2023-04-05T10:53:35.132Z"
   },
   {
    "duration": 5,
    "start_time": "2023-04-05T10:53:35.141Z"
   },
   {
    "duration": 5,
    "start_time": "2023-04-05T10:53:35.148Z"
   },
   {
    "duration": 5,
    "start_time": "2023-04-05T10:53:35.154Z"
   },
   {
    "duration": 471,
    "start_time": "2023-04-05T10:53:35.162Z"
   },
   {
    "duration": 14,
    "start_time": "2023-04-05T10:53:35.634Z"
   },
   {
    "duration": 51,
    "start_time": "2023-04-05T10:53:35.650Z"
   },
   {
    "duration": 125,
    "start_time": "2023-04-05T10:53:35.703Z"
   },
   {
    "duration": 8,
    "start_time": "2023-04-05T10:53:35.830Z"
   },
   {
    "duration": 11,
    "start_time": "2023-04-05T10:53:35.839Z"
   },
   {
    "duration": 24,
    "start_time": "2023-04-05T10:53:35.852Z"
   },
   {
    "duration": 15,
    "start_time": "2023-04-05T10:53:35.877Z"
   },
   {
    "duration": 13,
    "start_time": "2023-04-05T10:53:35.894Z"
   },
   {
    "duration": 19,
    "start_time": "2023-04-05T10:53:35.909Z"
   },
   {
    "duration": 7156,
    "start_time": "2023-04-05T10:53:35.930Z"
   },
   {
    "duration": 6771,
    "start_time": "2023-04-05T10:53:43.088Z"
   },
   {
    "duration": 6663,
    "start_time": "2023-04-05T10:53:49.861Z"
   },
   {
    "duration": 261,
    "start_time": "2023-04-05T10:53:56.528Z"
   },
   {
    "duration": 14,
    "start_time": "2023-04-05T10:53:56.790Z"
   },
   {
    "duration": 10544,
    "start_time": "2023-04-05T10:53:56.806Z"
   },
   {
    "duration": 9502,
    "start_time": "2023-04-05T10:54:07.352Z"
   },
   {
    "duration": 12069,
    "start_time": "2023-04-05T10:54:16.856Z"
   },
   {
    "duration": 103,
    "start_time": "2023-04-05T10:54:28.929Z"
   },
   {
    "duration": 4962,
    "start_time": "2023-04-05T10:54:29.035Z"
   },
   {
    "duration": 4458,
    "start_time": "2023-04-05T10:54:33.999Z"
   },
   {
    "duration": 6198,
    "start_time": "2023-04-05T10:54:38.459Z"
   },
   {
    "duration": 171,
    "start_time": "2023-04-05T10:54:44.661Z"
   },
   {
    "duration": 172,
    "start_time": "2023-04-05T10:54:44.835Z"
   },
   {
    "duration": 382,
    "start_time": "2023-04-05T10:54:45.009Z"
   },
   {
    "duration": 256,
    "start_time": "2023-04-05T10:55:52.336Z"
   },
   {
    "duration": 142,
    "start_time": "2023-04-05T10:56:01.103Z"
   },
   {
    "duration": 186,
    "start_time": "2023-04-05T10:56:08.455Z"
   },
   {
    "duration": 145,
    "start_time": "2023-04-05T10:56:47.326Z"
   },
   {
    "duration": 8,
    "start_time": "2023-04-05T10:57:00.397Z"
   },
   {
    "duration": 130,
    "start_time": "2023-04-05T10:57:06.446Z"
   },
   {
    "duration": 7221,
    "start_time": "2023-04-05T10:58:58.019Z"
   },
   {
    "duration": 46,
    "start_time": "2023-04-05T16:26:04.957Z"
   },
   {
    "duration": 7140,
    "start_time": "2023-04-05T16:26:10.890Z"
   },
   {
    "duration": 1543,
    "start_time": "2023-04-05T16:26:18.032Z"
   },
   {
    "duration": 144,
    "start_time": "2023-04-05T16:26:19.577Z"
   },
   {
    "duration": 14,
    "start_time": "2023-04-05T16:26:19.723Z"
   },
   {
    "duration": 20,
    "start_time": "2023-04-05T16:26:19.738Z"
   },
   {
    "duration": 12,
    "start_time": "2023-04-05T16:26:19.759Z"
   },
   {
    "duration": 8,
    "start_time": "2023-04-05T16:26:19.773Z"
   },
   {
    "duration": 5,
    "start_time": "2023-04-05T16:26:19.782Z"
   },
   {
    "duration": 7,
    "start_time": "2023-04-05T16:26:19.788Z"
   },
   {
    "duration": 8,
    "start_time": "2023-04-05T16:26:19.797Z"
   },
   {
    "duration": 465,
    "start_time": "2023-04-05T16:26:19.806Z"
   },
   {
    "duration": 18,
    "start_time": "2023-04-05T16:26:20.273Z"
   },
   {
    "duration": 52,
    "start_time": "2023-04-05T16:26:20.293Z"
   },
   {
    "duration": 130,
    "start_time": "2023-04-05T16:26:20.346Z"
   },
   {
    "duration": 11,
    "start_time": "2023-04-05T16:26:20.478Z"
   },
   {
    "duration": 19,
    "start_time": "2023-04-05T16:26:20.491Z"
   },
   {
    "duration": 17,
    "start_time": "2023-04-05T16:26:20.512Z"
   },
   {
    "duration": 8,
    "start_time": "2023-04-05T16:26:20.531Z"
   },
   {
    "duration": 16,
    "start_time": "2023-04-05T16:26:20.552Z"
   },
   {
    "duration": 3,
    "start_time": "2023-04-05T16:26:20.570Z"
   },
   {
    "duration": 8041,
    "start_time": "2023-04-05T16:26:20.574Z"
   },
   {
    "duration": 7442,
    "start_time": "2023-04-05T16:26:28.617Z"
   },
   {
    "duration": 14028,
    "start_time": "2023-04-05T16:26:36.060Z"
   },
   {
    "duration": 249,
    "start_time": "2023-04-05T16:26:50.149Z"
   },
   {
    "duration": 11,
    "start_time": "2023-04-05T16:26:50.400Z"
   },
   {
    "duration": 11358,
    "start_time": "2023-04-05T16:26:50.412Z"
   },
   {
    "duration": 9936,
    "start_time": "2023-04-05T16:27:01.771Z"
   },
   {
    "duration": 31552,
    "start_time": "2023-04-05T16:27:11.711Z"
   },
   {
    "duration": 81,
    "start_time": "2023-04-05T16:27:43.265Z"
   },
   {
    "duration": 5231,
    "start_time": "2023-04-05T16:27:43.348Z"
   },
   {
    "duration": 4617,
    "start_time": "2023-04-05T16:27:48.581Z"
   },
   {
    "duration": 8385,
    "start_time": "2023-04-05T16:27:53.199Z"
   },
   {
    "duration": 97,
    "start_time": "2023-04-05T16:28:01.657Z"
   },
   {
    "duration": 137,
    "start_time": "2023-04-05T16:28:01.758Z"
   },
   {
    "duration": 369,
    "start_time": "2023-04-05T16:28:01.897Z"
   },
   {
    "duration": 35,
    "start_time": "2023-04-05T16:28:07.485Z"
   },
   {
    "duration": 44,
    "start_time": "2023-04-05T16:28:46.209Z"
   },
   {
    "duration": 53,
    "start_time": "2023-04-05T16:29:29.407Z"
   },
   {
    "duration": 49,
    "start_time": "2023-04-05T16:30:10.971Z"
   },
   {
    "duration": 131,
    "start_time": "2023-04-05T16:31:42.032Z"
   },
   {
    "duration": 164,
    "start_time": "2023-04-05T16:32:25.919Z"
   },
   {
    "duration": 240,
    "start_time": "2023-04-05T16:33:59.276Z"
   },
   {
    "duration": 105,
    "start_time": "2023-04-05T16:36:04.931Z"
   },
   {
    "duration": 12,
    "start_time": "2023-04-05T16:37:43.102Z"
   },
   {
    "duration": 117,
    "start_time": "2023-04-05T16:46:05.862Z"
   },
   {
    "duration": 89,
    "start_time": "2023-04-05T16:46:41.983Z"
   },
   {
    "duration": 7,
    "start_time": "2023-04-05T16:47:36.189Z"
   },
   {
    "duration": 95,
    "start_time": "2023-04-05T16:47:43.677Z"
   },
   {
    "duration": 79,
    "start_time": "2023-04-05T16:49:10.851Z"
   },
   {
    "duration": 101,
    "start_time": "2023-04-05T16:49:35.019Z"
   },
   {
    "duration": 11,
    "start_time": "2023-04-05T16:50:22.161Z"
   },
   {
    "duration": 83,
    "start_time": "2023-04-05T16:50:47.358Z"
   },
   {
    "duration": 147,
    "start_time": "2023-04-05T16:52:03.160Z"
   },
   {
    "duration": 103,
    "start_time": "2023-04-05T16:52:09.008Z"
   },
   {
    "duration": 92,
    "start_time": "2023-04-05T16:52:51.311Z"
   },
   {
    "duration": 115,
    "start_time": "2023-04-05T16:53:06.593Z"
   },
   {
    "duration": 91,
    "start_time": "2023-04-05T16:53:50.637Z"
   },
   {
    "duration": 120,
    "start_time": "2023-04-05T16:57:28.458Z"
   },
   {
    "duration": 2031,
    "start_time": "2023-04-05T16:59:39.796Z"
   },
   {
    "duration": 1203,
    "start_time": "2023-04-05T16:59:41.830Z"
   },
   {
    "duration": 77,
    "start_time": "2023-04-05T16:59:43.034Z"
   },
   {
    "duration": 11,
    "start_time": "2023-04-05T16:59:43.113Z"
   },
   {
    "duration": 2,
    "start_time": "2023-04-05T16:59:43.126Z"
   },
   {
    "duration": 21,
    "start_time": "2023-04-05T16:59:43.130Z"
   },
   {
    "duration": 8,
    "start_time": "2023-04-05T16:59:43.152Z"
   },
   {
    "duration": 5,
    "start_time": "2023-04-05T16:59:43.162Z"
   },
   {
    "duration": 4,
    "start_time": "2023-04-05T16:59:43.168Z"
   },
   {
    "duration": 5,
    "start_time": "2023-04-05T16:59:43.174Z"
   },
   {
    "duration": 439,
    "start_time": "2023-04-05T16:59:43.180Z"
   },
   {
    "duration": 29,
    "start_time": "2023-04-05T16:59:43.620Z"
   },
   {
    "duration": 36,
    "start_time": "2023-04-05T16:59:43.651Z"
   },
   {
    "duration": 94,
    "start_time": "2023-04-05T16:59:43.689Z"
   },
   {
    "duration": 96,
    "start_time": "2023-04-05T16:59:43.785Z"
   },
   {
    "duration": 10,
    "start_time": "2023-04-05T16:59:43.882Z"
   },
   {
    "duration": 15,
    "start_time": "2023-04-05T16:59:43.893Z"
   },
   {
    "duration": 3,
    "start_time": "2023-04-05T16:59:43.909Z"
   },
   {
    "duration": 38,
    "start_time": "2023-04-05T16:59:43.913Z"
   },
   {
    "duration": 3,
    "start_time": "2023-04-05T16:59:43.953Z"
   },
   {
    "duration": 7514,
    "start_time": "2023-04-05T16:59:43.958Z"
   },
   {
    "duration": 7043,
    "start_time": "2023-04-05T16:59:51.474Z"
   },
   {
    "duration": 11225,
    "start_time": "2023-04-05T16:59:58.518Z"
   },
   {
    "duration": 241,
    "start_time": "2023-04-05T17:00:09.751Z"
   },
   {
    "duration": 10,
    "start_time": "2023-04-05T17:00:09.994Z"
   },
   {
    "duration": 10932,
    "start_time": "2023-04-05T17:00:10.006Z"
   },
   {
    "duration": 9784,
    "start_time": "2023-04-05T17:00:20.950Z"
   },
   {
    "duration": 27220,
    "start_time": "2023-04-05T17:00:30.737Z"
   },
   {
    "duration": 103,
    "start_time": "2023-04-05T17:00:57.958Z"
   },
   {
    "duration": 5093,
    "start_time": "2023-04-05T17:00:58.063Z"
   },
   {
    "duration": 4636,
    "start_time": "2023-04-05T17:01:03.157Z"
   },
   {
    "duration": 12150,
    "start_time": "2023-04-05T17:01:07.795Z"
   },
   {
    "duration": 98,
    "start_time": "2023-04-05T17:01:19.947Z"
   },
   {
    "duration": 140,
    "start_time": "2023-04-05T17:01:20.047Z"
   },
   {
    "duration": 347,
    "start_time": "2023-04-05T17:01:20.189Z"
   },
   {
    "duration": 113,
    "start_time": "2023-04-05T17:01:20.542Z"
   },
   {
    "duration": 108,
    "start_time": "2023-04-05T17:02:26.428Z"
   },
   {
    "duration": 89,
    "start_time": "2023-04-05T17:02:43.161Z"
   },
   {
    "duration": 99,
    "start_time": "2023-04-05T17:03:08.561Z"
   },
   {
    "duration": 94,
    "start_time": "2023-04-05T17:04:50.665Z"
   },
   {
    "duration": 275,
    "start_time": "2023-04-05T17:07:05.766Z"
   },
   {
    "duration": 292,
    "start_time": "2023-04-05T17:07:46.784Z"
   },
   {
    "duration": 254,
    "start_time": "2023-04-05T17:07:50.259Z"
   },
   {
    "duration": 270,
    "start_time": "2023-04-05T17:08:02.624Z"
   },
   {
    "duration": 250,
    "start_time": "2023-04-05T17:08:10.967Z"
   },
   {
    "duration": 358,
    "start_time": "2023-04-05T17:08:15.607Z"
   },
   {
    "duration": 243,
    "start_time": "2023-04-05T17:09:17.670Z"
   },
   {
    "duration": 266,
    "start_time": "2023-04-05T17:09:27.563Z"
   },
   {
    "duration": 250,
    "start_time": "2023-04-05T17:09:37.059Z"
   },
   {
    "duration": 233,
    "start_time": "2023-04-05T17:09:40.974Z"
   },
   {
    "duration": 254,
    "start_time": "2023-04-05T17:10:20.352Z"
   },
   {
    "duration": 303,
    "start_time": "2023-04-05T17:11:17.173Z"
   },
   {
    "duration": 300,
    "start_time": "2023-04-05T17:11:38.316Z"
   },
   {
    "duration": 289,
    "start_time": "2023-04-05T17:12:53.540Z"
   },
   {
    "duration": 300,
    "start_time": "2023-04-05T17:13:00.533Z"
   },
   {
    "duration": 142,
    "start_time": "2023-04-05T17:13:39.057Z"
   },
   {
    "duration": 93,
    "start_time": "2023-04-05T17:13:52.171Z"
   },
   {
    "duration": 13,
    "start_time": "2023-04-05T17:14:10.691Z"
   },
   {
    "duration": 86,
    "start_time": "2023-04-05T17:14:16.003Z"
   },
   {
    "duration": 277,
    "start_time": "2023-04-05T17:15:13.755Z"
   },
   {
    "duration": 280,
    "start_time": "2023-04-05T17:15:17.883Z"
   },
   {
    "duration": 354,
    "start_time": "2023-04-05T17:15:23.461Z"
   },
   {
    "duration": 316,
    "start_time": "2023-04-05T17:15:28.897Z"
   },
   {
    "duration": 257,
    "start_time": "2023-04-05T17:15:39.264Z"
   },
   {
    "duration": 304,
    "start_time": "2023-04-05T17:18:46.007Z"
   },
   {
    "duration": 248,
    "start_time": "2023-04-05T17:19:13.964Z"
   },
   {
    "duration": 2055,
    "start_time": "2023-04-05T17:19:20.583Z"
   },
   {
    "duration": 1215,
    "start_time": "2023-04-05T17:19:22.642Z"
   },
   {
    "duration": 70,
    "start_time": "2023-04-05T17:19:23.859Z"
   },
   {
    "duration": 15,
    "start_time": "2023-04-05T17:19:23.931Z"
   },
   {
    "duration": 6,
    "start_time": "2023-04-05T17:19:23.948Z"
   },
   {
    "duration": 19,
    "start_time": "2023-04-05T17:19:23.956Z"
   },
   {
    "duration": 7,
    "start_time": "2023-04-05T17:19:23.977Z"
   },
   {
    "duration": 16,
    "start_time": "2023-04-05T17:19:23.985Z"
   },
   {
    "duration": 18,
    "start_time": "2023-04-05T17:19:24.002Z"
   },
   {
    "duration": 8,
    "start_time": "2023-04-05T17:19:24.022Z"
   },
   {
    "duration": 373,
    "start_time": "2023-04-05T17:19:24.031Z"
   },
   {
    "duration": 14,
    "start_time": "2023-04-05T17:19:24.406Z"
   },
   {
    "duration": 49,
    "start_time": "2023-04-05T17:19:24.422Z"
   },
   {
    "duration": 242,
    "start_time": "2023-04-05T17:19:24.473Z"
   },
   {
    "duration": 103,
    "start_time": "2023-04-05T17:19:24.716Z"
   },
   {
    "duration": 9,
    "start_time": "2023-04-05T17:19:24.821Z"
   },
   {
    "duration": 25,
    "start_time": "2023-04-05T17:19:24.831Z"
   },
   {
    "duration": 3,
    "start_time": "2023-04-05T17:19:24.857Z"
   },
   {
    "duration": 5,
    "start_time": "2023-04-05T17:19:24.861Z"
   },
   {
    "duration": 3,
    "start_time": "2023-04-05T17:19:24.867Z"
   },
   {
    "duration": 7713,
    "start_time": "2023-04-05T17:19:24.871Z"
   },
   {
    "duration": 7145,
    "start_time": "2023-04-05T17:19:32.585Z"
   },
   {
    "duration": 18115,
    "start_time": "2023-04-05T17:19:39.732Z"
   },
   {
    "duration": 306,
    "start_time": "2023-04-05T17:19:57.850Z"
   },
   {
    "duration": 11,
    "start_time": "2023-04-05T17:19:58.159Z"
   },
   {
    "duration": 11247,
    "start_time": "2023-04-05T17:19:58.172Z"
   },
   {
    "duration": 9570,
    "start_time": "2023-04-05T17:20:09.421Z"
   },
   {
    "duration": 28259,
    "start_time": "2023-04-05T17:20:18.994Z"
   },
   {
    "duration": 99,
    "start_time": "2023-04-05T17:20:47.258Z"
   },
   {
    "duration": 4820,
    "start_time": "2023-04-05T17:20:47.359Z"
   },
   {
    "duration": 4496,
    "start_time": "2023-04-05T17:20:52.181Z"
   },
   {
    "duration": 13661,
    "start_time": "2023-04-05T17:20:56.678Z"
   },
   {
    "duration": 101,
    "start_time": "2023-04-05T17:21:10.341Z"
   },
   {
    "duration": 122,
    "start_time": "2023-04-05T17:21:10.447Z"
   },
   {
    "duration": 305,
    "start_time": "2023-04-05T17:21:10.571Z"
   },
   {
    "duration": 279,
    "start_time": "2023-04-05T17:21:11.729Z"
   },
   {
    "duration": 268,
    "start_time": "2023-04-05T17:22:19.138Z"
   },
   {
    "duration": 266,
    "start_time": "2023-04-05T17:22:51.584Z"
   },
   {
    "duration": 272,
    "start_time": "2023-04-05T17:23:20.637Z"
   },
   {
    "duration": 122,
    "start_time": "2023-04-05T17:24:04.751Z"
   },
   {
    "duration": 404,
    "start_time": "2023-04-05T17:25:00.183Z"
   },
   {
    "duration": 385,
    "start_time": "2023-04-05T17:25:06.193Z"
   },
   {
    "duration": 359,
    "start_time": "2023-04-05T17:27:15.704Z"
   },
   {
    "duration": 363,
    "start_time": "2023-04-05T17:27:27.152Z"
   },
   {
    "duration": 280,
    "start_time": "2023-04-05T17:27:35.134Z"
   },
   {
    "duration": 300,
    "start_time": "2023-04-05T17:27:45.599Z"
   },
   {
    "duration": 202,
    "start_time": "2023-04-05T17:28:00.079Z"
   },
   {
    "duration": 346,
    "start_time": "2023-04-05T17:29:01.358Z"
   },
   {
    "duration": 434,
    "start_time": "2023-04-05T17:29:05.798Z"
   },
   {
    "duration": 350,
    "start_time": "2023-04-05T17:31:03.203Z"
   },
   {
    "duration": 344,
    "start_time": "2023-04-05T17:31:19.955Z"
   },
   {
    "duration": 320,
    "start_time": "2023-04-05T17:31:29.075Z"
   },
   {
    "duration": 356,
    "start_time": "2023-04-05T17:31:33.505Z"
   },
   {
    "duration": 377,
    "start_time": "2023-04-05T17:31:49.969Z"
   },
   {
    "duration": 28,
    "start_time": "2023-04-05T17:32:00.521Z"
   },
   {
    "duration": 328,
    "start_time": "2023-04-05T17:32:16.089Z"
   },
   {
    "duration": 175,
    "start_time": "2023-04-05T17:32:45.735Z"
   },
   {
    "duration": 10,
    "start_time": "2023-04-05T17:32:52.871Z"
   },
   {
    "duration": 217,
    "start_time": "2023-04-05T17:33:32.224Z"
   },
   {
    "duration": 301,
    "start_time": "2023-04-05T17:33:54.466Z"
   },
   {
    "duration": 2174,
    "start_time": "2023-04-05T17:34:00.686Z"
   },
   {
    "duration": 1196,
    "start_time": "2023-04-05T17:34:02.862Z"
   },
   {
    "duration": 73,
    "start_time": "2023-04-05T17:34:04.059Z"
   },
   {
    "duration": 17,
    "start_time": "2023-04-05T17:34:04.134Z"
   },
   {
    "duration": 3,
    "start_time": "2023-04-05T17:34:04.153Z"
   },
   {
    "duration": 11,
    "start_time": "2023-04-05T17:34:04.158Z"
   },
   {
    "duration": 7,
    "start_time": "2023-04-05T17:34:04.171Z"
   },
   {
    "duration": 5,
    "start_time": "2023-04-05T17:34:04.180Z"
   },
   {
    "duration": 4,
    "start_time": "2023-04-05T17:34:04.186Z"
   },
   {
    "duration": 5,
    "start_time": "2023-04-05T17:34:04.192Z"
   },
   {
    "duration": 451,
    "start_time": "2023-04-05T17:34:04.198Z"
   },
   {
    "duration": 13,
    "start_time": "2023-04-05T17:34:04.654Z"
   },
   {
    "duration": 37,
    "start_time": "2023-04-05T17:34:04.668Z"
   },
   {
    "duration": 300,
    "start_time": "2023-04-05T17:34:04.706Z"
   },
   {
    "duration": 109,
    "start_time": "2023-04-05T17:34:05.008Z"
   },
   {
    "duration": 10,
    "start_time": "2023-04-05T17:34:05.119Z"
   },
   {
    "duration": 29,
    "start_time": "2023-04-05T17:34:05.131Z"
   },
   {
    "duration": 3,
    "start_time": "2023-04-05T17:34:05.162Z"
   },
   {
    "duration": 9,
    "start_time": "2023-04-05T17:34:05.167Z"
   },
   {
    "duration": 14,
    "start_time": "2023-04-05T17:34:05.178Z"
   },
   {
    "duration": 7381,
    "start_time": "2023-04-05T17:34:05.193Z"
   },
   {
    "duration": 7039,
    "start_time": "2023-04-05T17:34:12.576Z"
   },
   {
    "duration": 14327,
    "start_time": "2023-04-05T17:34:19.617Z"
   },
   {
    "duration": 264,
    "start_time": "2023-04-05T17:34:33.947Z"
   },
   {
    "duration": 11,
    "start_time": "2023-04-05T17:34:34.212Z"
   },
   {
    "duration": 10641,
    "start_time": "2023-04-05T17:34:34.225Z"
   },
   {
    "duration": 9341,
    "start_time": "2023-04-05T17:34:44.867Z"
   },
   {
    "duration": 30829,
    "start_time": "2023-04-05T17:34:54.212Z"
   },
   {
    "duration": 92,
    "start_time": "2023-04-05T17:35:25.047Z"
   },
   {
    "duration": 4959,
    "start_time": "2023-04-05T17:35:25.141Z"
   },
   {
    "duration": 4400,
    "start_time": "2023-04-05T17:35:30.101Z"
   },
   {
    "duration": 11172,
    "start_time": "2023-04-05T17:35:34.503Z"
   },
   {
    "duration": 165,
    "start_time": "2023-04-05T17:35:45.677Z"
   },
   {
    "duration": 133,
    "start_time": "2023-04-05T17:35:45.843Z"
   },
   {
    "duration": 300,
    "start_time": "2023-04-05T17:35:45.978Z"
   },
   {
    "duration": 81,
    "start_time": "2023-04-05T17:37:02.026Z"
   },
   {
    "duration": 83,
    "start_time": "2023-04-05T17:37:05.995Z"
   },
   {
    "duration": 302,
    "start_time": "2023-04-05T17:38:08.097Z"
   },
   {
    "duration": 282,
    "start_time": "2023-04-05T17:38:35.329Z"
   },
   {
    "duration": 403,
    "start_time": "2023-04-05T17:41:00.221Z"
   },
   {
    "duration": 295,
    "start_time": "2023-04-05T17:41:54.821Z"
   },
   {
    "duration": 459,
    "start_time": "2023-04-05T17:43:09.835Z"
   },
   {
    "duration": 351,
    "start_time": "2023-04-05T17:43:17.307Z"
   },
   {
    "duration": 281,
    "start_time": "2023-04-05T17:43:26.475Z"
   },
   {
    "duration": 302,
    "start_time": "2023-04-05T17:44:37.891Z"
   },
   {
    "duration": 291,
    "start_time": "2023-04-05T17:45:05.737Z"
   },
   {
    "duration": 264,
    "start_time": "2023-04-05T17:45:14.840Z"
   },
   {
    "duration": 230,
    "start_time": "2023-04-05T17:45:22.176Z"
   },
   {
    "duration": 299,
    "start_time": "2023-04-05T17:45:50.809Z"
   },
   {
    "duration": 44,
    "start_time": "2023-04-05T17:46:18.096Z"
   },
   {
    "duration": 93,
    "start_time": "2023-04-05T17:46:21.975Z"
   },
   {
    "duration": 90,
    "start_time": "2023-04-05T17:46:28.375Z"
   },
   {
    "duration": 87,
    "start_time": "2023-04-05T17:47:57.502Z"
   },
   {
    "duration": 2178,
    "start_time": "2023-04-05T17:51:55.230Z"
   },
   {
    "duration": 1254,
    "start_time": "2023-04-05T17:51:57.411Z"
   },
   {
    "duration": 72,
    "start_time": "2023-04-05T17:51:58.667Z"
   },
   {
    "duration": 16,
    "start_time": "2023-04-05T17:51:58.742Z"
   },
   {
    "duration": 4,
    "start_time": "2023-04-05T17:51:58.760Z"
   },
   {
    "duration": 15,
    "start_time": "2023-04-05T17:51:58.766Z"
   },
   {
    "duration": 9,
    "start_time": "2023-04-05T17:51:58.782Z"
   },
   {
    "duration": 5,
    "start_time": "2023-04-05T17:51:58.794Z"
   },
   {
    "duration": 39,
    "start_time": "2023-04-05T17:51:58.801Z"
   },
   {
    "duration": 5,
    "start_time": "2023-04-05T17:51:58.845Z"
   },
   {
    "duration": 365,
    "start_time": "2023-04-05T17:51:58.852Z"
   },
   {
    "duration": 12,
    "start_time": "2023-04-05T17:51:59.218Z"
   },
   {
    "duration": 36,
    "start_time": "2023-04-05T17:51:59.239Z"
   },
   {
    "duration": 279,
    "start_time": "2023-04-05T17:51:59.276Z"
   },
   {
    "duration": 2289,
    "start_time": "2023-04-05T17:54:31.888Z"
   },
   {
    "duration": 1279,
    "start_time": "2023-04-05T17:54:34.180Z"
   },
   {
    "duration": 71,
    "start_time": "2023-04-05T17:54:35.460Z"
   },
   {
    "duration": 13,
    "start_time": "2023-04-05T17:54:35.534Z"
   },
   {
    "duration": 4,
    "start_time": "2023-04-05T17:54:35.549Z"
   },
   {
    "duration": 11,
    "start_time": "2023-04-05T17:54:35.555Z"
   },
   {
    "duration": 8,
    "start_time": "2023-04-05T17:54:35.568Z"
   },
   {
    "duration": 5,
    "start_time": "2023-04-05T17:54:35.578Z"
   },
   {
    "duration": 5,
    "start_time": "2023-04-05T17:54:35.584Z"
   },
   {
    "duration": 48,
    "start_time": "2023-04-05T17:54:35.592Z"
   },
   {
    "duration": 376,
    "start_time": "2023-04-05T17:54:35.642Z"
   },
   {
    "duration": 21,
    "start_time": "2023-04-05T17:54:36.019Z"
   },
   {
    "duration": 38,
    "start_time": "2023-04-05T17:54:36.042Z"
   },
   {
    "duration": 313,
    "start_time": "2023-04-05T17:54:36.082Z"
   },
   {
    "duration": 132,
    "start_time": "2023-04-05T17:54:36.398Z"
   },
   {
    "duration": 18,
    "start_time": "2023-04-05T17:54:36.532Z"
   },
   {
    "duration": 14,
    "start_time": "2023-04-05T17:54:36.552Z"
   },
   {
    "duration": 3,
    "start_time": "2023-04-05T17:54:36.569Z"
   },
   {
    "duration": 3,
    "start_time": "2023-04-05T17:54:36.574Z"
   },
   {
    "duration": 5,
    "start_time": "2023-04-05T17:54:36.579Z"
   },
   {
    "duration": 8195,
    "start_time": "2023-04-05T17:54:36.586Z"
   },
   {
    "duration": 7359,
    "start_time": "2023-04-05T17:54:44.782Z"
   },
   {
    "duration": 10711,
    "start_time": "2023-04-05T17:54:52.143Z"
   },
   {
    "duration": 301,
    "start_time": "2023-04-05T17:55:02.856Z"
   },
   {
    "duration": 15,
    "start_time": "2023-04-05T17:55:03.158Z"
   },
   {
    "duration": 11558,
    "start_time": "2023-04-05T17:55:03.175Z"
   },
   {
    "duration": 9840,
    "start_time": "2023-04-05T17:55:14.735Z"
   },
   {
    "duration": 13464,
    "start_time": "2023-04-05T17:55:24.578Z"
   },
   {
    "duration": 97,
    "start_time": "2023-04-05T17:55:38.044Z"
   },
   {
    "duration": 2212,
    "start_time": "2023-04-05T17:55:40.641Z"
   },
   {
    "duration": 1222,
    "start_time": "2023-04-05T17:55:42.856Z"
   },
   {
    "duration": 89,
    "start_time": "2023-04-05T17:55:44.080Z"
   },
   {
    "duration": 14,
    "start_time": "2023-04-05T17:55:44.172Z"
   },
   {
    "duration": 4,
    "start_time": "2023-04-05T17:55:44.188Z"
   },
   {
    "duration": 16,
    "start_time": "2023-04-05T17:55:44.194Z"
   },
   {
    "duration": 33,
    "start_time": "2023-04-05T17:55:44.212Z"
   },
   {
    "duration": 7,
    "start_time": "2023-04-05T17:55:44.247Z"
   },
   {
    "duration": 10,
    "start_time": "2023-04-05T17:55:44.255Z"
   },
   {
    "duration": 13,
    "start_time": "2023-04-05T17:55:44.269Z"
   },
   {
    "duration": 446,
    "start_time": "2023-04-05T17:55:44.283Z"
   },
   {
    "duration": 20,
    "start_time": "2023-04-05T17:55:44.730Z"
   },
   {
    "duration": 50,
    "start_time": "2023-04-05T17:55:44.752Z"
   },
   {
    "duration": 313,
    "start_time": "2023-04-05T17:55:44.804Z"
   },
   {
    "duration": 96049,
    "start_time": "2023-04-05T17:55:45.119Z"
   },
   {
    "duration": 0,
    "start_time": "2023-04-05T17:57:21.171Z"
   },
   {
    "duration": 0,
    "start_time": "2023-04-05T17:57:21.171Z"
   },
   {
    "duration": 0,
    "start_time": "2023-04-05T17:57:21.172Z"
   },
   {
    "duration": 0,
    "start_time": "2023-04-05T17:57:21.173Z"
   },
   {
    "duration": 0,
    "start_time": "2023-04-05T17:57:21.174Z"
   },
   {
    "duration": 0,
    "start_time": "2023-04-05T17:57:21.175Z"
   },
   {
    "duration": 0,
    "start_time": "2023-04-05T17:57:21.176Z"
   },
   {
    "duration": 0,
    "start_time": "2023-04-05T17:57:21.177Z"
   },
   {
    "duration": 0,
    "start_time": "2023-04-05T17:57:21.178Z"
   },
   {
    "duration": 0,
    "start_time": "2023-04-05T17:57:21.179Z"
   },
   {
    "duration": 0,
    "start_time": "2023-04-05T17:57:21.180Z"
   },
   {
    "duration": 0,
    "start_time": "2023-04-05T17:57:21.181Z"
   },
   {
    "duration": 0,
    "start_time": "2023-04-05T17:57:21.182Z"
   },
   {
    "duration": 0,
    "start_time": "2023-04-05T17:57:21.183Z"
   },
   {
    "duration": 0,
    "start_time": "2023-04-05T17:57:21.184Z"
   },
   {
    "duration": 0,
    "start_time": "2023-04-05T17:57:21.184Z"
   },
   {
    "duration": 0,
    "start_time": "2023-04-05T17:57:21.185Z"
   },
   {
    "duration": 0,
    "start_time": "2023-04-05T17:57:21.186Z"
   },
   {
    "duration": 0,
    "start_time": "2023-04-05T17:57:21.187Z"
   },
   {
    "duration": 0,
    "start_time": "2023-04-05T17:57:21.188Z"
   },
   {
    "duration": 2183,
    "start_time": "2023-04-05T17:58:56.168Z"
   },
   {
    "duration": 1227,
    "start_time": "2023-04-05T17:58:58.353Z"
   },
   {
    "duration": 114,
    "start_time": "2023-04-05T17:58:59.582Z"
   },
   {
    "duration": 17,
    "start_time": "2023-04-05T17:58:59.698Z"
   },
   {
    "duration": 5,
    "start_time": "2023-04-05T17:58:59.717Z"
   },
   {
    "duration": 19,
    "start_time": "2023-04-05T17:58:59.723Z"
   },
   {
    "duration": 10,
    "start_time": "2023-04-05T17:58:59.744Z"
   },
   {
    "duration": 17,
    "start_time": "2023-04-05T17:58:59.756Z"
   },
   {
    "duration": 6,
    "start_time": "2023-04-05T17:58:59.775Z"
   },
   {
    "duration": 5,
    "start_time": "2023-04-05T17:58:59.784Z"
   },
   {
    "duration": 441,
    "start_time": "2023-04-05T17:58:59.790Z"
   },
   {
    "duration": 18,
    "start_time": "2023-04-05T17:59:00.233Z"
   },
   {
    "duration": 56,
    "start_time": "2023-04-05T17:59:00.253Z"
   },
   {
    "duration": 335,
    "start_time": "2023-04-05T17:59:00.311Z"
   },
   {
    "duration": 2039,
    "start_time": "2023-04-05T17:59:54.012Z"
   },
   {
    "duration": 1265,
    "start_time": "2023-04-05T17:59:56.053Z"
   },
   {
    "duration": 70,
    "start_time": "2023-04-05T17:59:57.319Z"
   },
   {
    "duration": 11,
    "start_time": "2023-04-05T17:59:57.391Z"
   },
   {
    "duration": 4,
    "start_time": "2023-04-05T17:59:57.440Z"
   },
   {
    "duration": 21,
    "start_time": "2023-04-05T17:59:57.446Z"
   },
   {
    "duration": 10,
    "start_time": "2023-04-05T17:59:57.469Z"
   },
   {
    "duration": 8,
    "start_time": "2023-04-05T17:59:57.481Z"
   },
   {
    "duration": 6,
    "start_time": "2023-04-05T17:59:57.541Z"
   },
   {
    "duration": 4,
    "start_time": "2023-04-05T17:59:57.550Z"
   },
   {
    "duration": 603,
    "start_time": "2023-04-05T17:59:57.555Z"
   },
   {
    "duration": 12,
    "start_time": "2023-04-05T17:59:58.160Z"
   },
   {
    "duration": 90,
    "start_time": "2023-04-05T17:59:58.174Z"
   },
   {
    "duration": 415,
    "start_time": "2023-04-05T17:59:58.266Z"
   },
   {
    "duration": 59,
    "start_time": "2023-04-05T17:59:58.683Z"
   },
   {
    "duration": 7,
    "start_time": "2023-04-05T17:59:58.744Z"
   },
   {
    "duration": 13,
    "start_time": "2023-04-05T17:59:58.753Z"
   },
   {
    "duration": 73,
    "start_time": "2023-04-05T17:59:58.767Z"
   },
   {
    "duration": 4,
    "start_time": "2023-04-05T17:59:58.841Z"
   },
   {
    "duration": 5,
    "start_time": "2023-04-05T17:59:58.846Z"
   },
   {
    "duration": 4,
    "start_time": "2023-04-05T17:59:58.852Z"
   },
   {
    "duration": 9904,
    "start_time": "2023-04-05T17:59:58.858Z"
   },
   {
    "duration": 6757,
    "start_time": "2023-04-05T18:00:08.764Z"
   },
   {
    "duration": 5983,
    "start_time": "2023-04-05T18:00:15.522Z"
   },
   {
    "duration": 220,
    "start_time": "2023-04-05T18:00:21.541Z"
   },
   {
    "duration": 12,
    "start_time": "2023-04-05T18:00:21.763Z"
   },
   {
    "duration": 11354,
    "start_time": "2023-04-05T18:00:21.777Z"
   },
   {
    "duration": 9705,
    "start_time": "2023-04-05T18:00:33.134Z"
   },
   {
    "duration": 10817,
    "start_time": "2023-04-05T18:00:42.841Z"
   },
   {
    "duration": 15,
    "start_time": "2023-04-05T18:00:53.740Z"
   },
   {
    "duration": 5461,
    "start_time": "2023-04-05T18:00:53.757Z"
   },
   {
    "duration": 2361,
    "start_time": "2023-04-05T18:01:04.847Z"
   },
   {
    "duration": 1285,
    "start_time": "2023-04-05T18:01:07.210Z"
   },
   {
    "duration": 80,
    "start_time": "2023-04-05T18:01:08.496Z"
   },
   {
    "duration": 17,
    "start_time": "2023-04-05T18:01:08.580Z"
   },
   {
    "duration": 4,
    "start_time": "2023-04-05T18:01:08.599Z"
   },
   {
    "duration": 15,
    "start_time": "2023-04-05T18:01:08.605Z"
   },
   {
    "duration": 9,
    "start_time": "2023-04-05T18:01:08.641Z"
   },
   {
    "duration": 8,
    "start_time": "2023-04-05T18:01:08.652Z"
   },
   {
    "duration": 8,
    "start_time": "2023-04-05T18:01:08.662Z"
   },
   {
    "duration": 7,
    "start_time": "2023-04-05T18:01:08.673Z"
   },
   {
    "duration": 445,
    "start_time": "2023-04-05T18:01:08.682Z"
   },
   {
    "duration": 17,
    "start_time": "2023-04-05T18:01:09.128Z"
   },
   {
    "duration": 40,
    "start_time": "2023-04-05T18:01:09.147Z"
   },
   {
    "duration": 353,
    "start_time": "2023-04-05T18:01:09.189Z"
   },
   {
    "duration": 6,
    "start_time": "2023-04-05T18:01:09.545Z"
   },
   {
    "duration": 140,
    "start_time": "2023-04-05T18:01:09.552Z"
   },
   {
    "duration": 10,
    "start_time": "2023-04-05T18:01:09.693Z"
   },
   {
    "duration": 24,
    "start_time": "2023-04-05T18:01:09.704Z"
   },
   {
    "duration": 10,
    "start_time": "2023-04-05T18:01:09.731Z"
   },
   {
    "duration": 14,
    "start_time": "2023-04-05T18:01:09.743Z"
   },
   {
    "duration": 8,
    "start_time": "2023-04-05T18:01:09.759Z"
   },
   {
    "duration": 9039,
    "start_time": "2023-04-05T18:01:09.768Z"
   },
   {
    "duration": 7238,
    "start_time": "2023-04-05T18:01:18.809Z"
   },
   {
    "duration": 5499,
    "start_time": "2023-04-05T18:01:26.049Z"
   },
   {
    "duration": 219,
    "start_time": "2023-04-05T18:01:31.551Z"
   },
   {
    "duration": 12,
    "start_time": "2023-04-05T18:01:31.772Z"
   },
   {
    "duration": 11381,
    "start_time": "2023-04-05T18:01:31.786Z"
   },
   {
    "duration": 2109,
    "start_time": "2023-04-05T18:01:50.602Z"
   },
   {
    "duration": 1261,
    "start_time": "2023-04-05T18:01:52.713Z"
   },
   {
    "duration": 74,
    "start_time": "2023-04-05T18:01:53.976Z"
   },
   {
    "duration": 15,
    "start_time": "2023-04-05T18:01:54.053Z"
   },
   {
    "duration": 4,
    "start_time": "2023-04-05T18:01:54.070Z"
   },
   {
    "duration": 15,
    "start_time": "2023-04-05T18:01:54.076Z"
   },
   {
    "duration": 8,
    "start_time": "2023-04-05T18:01:54.093Z"
   },
   {
    "duration": 41,
    "start_time": "2023-04-05T18:01:54.103Z"
   },
   {
    "duration": 6,
    "start_time": "2023-04-05T18:01:54.146Z"
   },
   {
    "duration": 6,
    "start_time": "2023-04-05T18:01:54.155Z"
   },
   {
    "duration": 382,
    "start_time": "2023-04-05T18:01:54.163Z"
   },
   {
    "duration": 18,
    "start_time": "2023-04-05T18:01:54.548Z"
   },
   {
    "duration": 89,
    "start_time": "2023-04-05T18:01:54.568Z"
   },
   {
    "duration": 585,
    "start_time": "2023-04-05T18:01:54.659Z"
   },
   {
    "duration": 8,
    "start_time": "2023-04-05T18:01:55.246Z"
   },
   {
    "duration": 288,
    "start_time": "2023-04-05T18:01:55.256Z"
   },
   {
    "duration": 14,
    "start_time": "2023-04-05T18:01:55.546Z"
   },
   {
    "duration": 22,
    "start_time": "2023-04-05T18:01:55.562Z"
   },
   {
    "duration": 17,
    "start_time": "2023-04-05T18:01:55.640Z"
   },
   {
    "duration": 11,
    "start_time": "2023-04-05T18:01:55.660Z"
   },
   {
    "duration": 14,
    "start_time": "2023-04-05T18:01:55.673Z"
   },
   {
    "duration": 9571,
    "start_time": "2023-04-05T18:01:55.689Z"
   },
   {
    "duration": 7283,
    "start_time": "2023-04-05T18:02:05.261Z"
   },
   {
    "duration": 5801,
    "start_time": "2023-04-05T18:02:12.546Z"
   },
   {
    "duration": 323,
    "start_time": "2023-04-05T18:02:18.349Z"
   },
   {
    "duration": 14,
    "start_time": "2023-04-05T18:02:18.674Z"
   },
   {
    "duration": 10956,
    "start_time": "2023-04-05T18:02:18.690Z"
   },
   {
    "duration": 9740,
    "start_time": "2023-04-05T18:02:29.650Z"
   },
   {
    "duration": 8074,
    "start_time": "2023-04-05T18:02:39.392Z"
   },
   {
    "duration": 95,
    "start_time": "2023-04-05T18:02:47.467Z"
   },
   {
    "duration": 5039,
    "start_time": "2023-04-05T18:02:47.564Z"
   },
   {
    "duration": 4516,
    "start_time": "2023-04-05T18:02:52.605Z"
   },
   {
    "duration": 2562,
    "start_time": "2023-04-05T18:02:57.122Z"
   },
   {
    "duration": 159,
    "start_time": "2023-04-05T18:02:59.686Z"
   },
   {
    "duration": 152,
    "start_time": "2023-04-05T18:02:59.847Z"
   },
   {
    "duration": 383,
    "start_time": "2023-04-05T18:03:00.002Z"
   },
   {
    "duration": 6,
    "start_time": "2023-04-05T18:14:58.192Z"
   },
   {
    "duration": 123,
    "start_time": "2023-04-05T18:15:20.592Z"
   },
   {
    "duration": 5,
    "start_time": "2023-04-05T18:15:43.919Z"
   },
   {
    "duration": 92,
    "start_time": "2023-04-05T18:16:14.527Z"
   },
   {
    "duration": 4,
    "start_time": "2023-04-05T18:18:06.038Z"
   },
   {
    "duration": 5,
    "start_time": "2023-04-05T18:18:13.550Z"
   },
   {
    "duration": 6,
    "start_time": "2023-04-05T18:18:52.062Z"
   },
   {
    "duration": 83,
    "start_time": "2023-04-05T18:19:05.724Z"
   },
   {
    "duration": 75,
    "start_time": "2023-04-05T18:20:08.701Z"
   },
   {
    "duration": 78,
    "start_time": "2023-04-05T18:20:14.916Z"
   },
   {
    "duration": 241,
    "start_time": "2023-04-05T18:25:04.640Z"
   },
   {
    "duration": 199,
    "start_time": "2023-04-05T18:26:15.343Z"
   },
   {
    "duration": 99,
    "start_time": "2023-04-05T18:26:19.551Z"
   },
   {
    "duration": 199,
    "start_time": "2023-04-05T18:26:23.167Z"
   },
   {
    "duration": 101,
    "start_time": "2023-04-05T18:26:43.917Z"
   },
   {
    "duration": 193,
    "start_time": "2023-04-05T18:26:49.151Z"
   },
   {
    "duration": 225,
    "start_time": "2023-04-05T18:28:14.903Z"
   },
   {
    "duration": 259,
    "start_time": "2023-04-05T18:28:24.855Z"
   },
   {
    "duration": 279,
    "start_time": "2023-04-05T18:31:28.907Z"
   },
   {
    "duration": 280,
    "start_time": "2023-04-05T18:31:34.235Z"
   },
   {
    "duration": 104,
    "start_time": "2023-04-05T18:31:49.210Z"
   },
   {
    "duration": 9,
    "start_time": "2023-04-05T18:32:38.442Z"
   },
   {
    "duration": 10,
    "start_time": "2023-04-05T18:32:41.146Z"
   },
   {
    "duration": 79,
    "start_time": "2023-04-05T18:32:49.842Z"
   },
   {
    "duration": 85,
    "start_time": "2023-04-05T18:33:01.098Z"
   },
   {
    "duration": 84,
    "start_time": "2023-04-05T18:33:03.985Z"
   },
   {
    "duration": 88,
    "start_time": "2023-04-05T18:35:42.424Z"
   },
   {
    "duration": 89,
    "start_time": "2023-04-05T18:35:49.045Z"
   },
   {
    "duration": 88,
    "start_time": "2023-04-05T18:36:26.927Z"
   },
   {
    "duration": 85,
    "start_time": "2023-04-05T18:37:46.883Z"
   },
   {
    "duration": 47,
    "start_time": "2023-04-06T06:37:22.492Z"
   },
   {
    "duration": 7117,
    "start_time": "2023-04-06T06:37:31.911Z"
   },
   {
    "duration": 1416,
    "start_time": "2023-04-06T06:37:39.031Z"
   },
   {
    "duration": 311,
    "start_time": "2023-04-06T06:37:40.449Z"
   },
   {
    "duration": 12,
    "start_time": "2023-04-06T06:37:40.762Z"
   },
   {
    "duration": 3,
    "start_time": "2023-04-06T06:37:40.776Z"
   },
   {
    "duration": 12,
    "start_time": "2023-04-06T06:37:40.780Z"
   },
   {
    "duration": 6,
    "start_time": "2023-04-06T06:37:40.794Z"
   },
   {
    "duration": 8,
    "start_time": "2023-04-06T06:37:40.802Z"
   },
   {
    "duration": 13,
    "start_time": "2023-04-06T06:37:40.811Z"
   },
   {
    "duration": 5,
    "start_time": "2023-04-06T06:37:40.826Z"
   },
   {
    "duration": 496,
    "start_time": "2023-04-06T06:37:40.832Z"
   },
   {
    "duration": 15,
    "start_time": "2023-04-06T06:37:41.329Z"
   },
   {
    "duration": 54,
    "start_time": "2023-04-06T06:37:41.346Z"
   },
   {
    "duration": 310,
    "start_time": "2023-04-06T06:37:41.402Z"
   },
   {
    "duration": 108,
    "start_time": "2023-04-06T06:37:41.714Z"
   },
   {
    "duration": 11,
    "start_time": "2023-04-06T06:37:41.823Z"
   },
   {
    "duration": 15,
    "start_time": "2023-04-06T06:37:41.835Z"
   },
   {
    "duration": 4,
    "start_time": "2023-04-06T06:37:41.851Z"
   },
   {
    "duration": 26,
    "start_time": "2023-04-06T06:37:41.856Z"
   },
   {
    "duration": 4,
    "start_time": "2023-04-06T06:37:41.884Z"
   },
   {
    "duration": 6973,
    "start_time": "2023-04-06T06:37:41.889Z"
   },
   {
    "duration": 6853,
    "start_time": "2023-04-06T06:37:48.864Z"
   },
   {
    "duration": 7170,
    "start_time": "2023-04-06T06:37:55.719Z"
   },
   {
    "duration": 398,
    "start_time": "2023-04-06T06:38:02.892Z"
   },
   {
    "duration": 12,
    "start_time": "2023-04-06T06:38:03.292Z"
   },
   {
    "duration": 10396,
    "start_time": "2023-04-06T06:38:03.305Z"
   },
   {
    "duration": 9427,
    "start_time": "2023-04-06T06:38:13.702Z"
   },
   {
    "duration": 11893,
    "start_time": "2023-04-06T06:38:23.132Z"
   },
   {
    "duration": 155,
    "start_time": "2023-04-06T06:38:35.028Z"
   },
   {
    "duration": 5165,
    "start_time": "2023-04-06T06:38:35.185Z"
   },
   {
    "duration": 4751,
    "start_time": "2023-04-06T06:38:40.352Z"
   },
   {
    "duration": 5679,
    "start_time": "2023-04-06T06:38:45.105Z"
   },
   {
    "duration": 113,
    "start_time": "2023-04-06T06:38:50.786Z"
   },
   {
    "duration": 143,
    "start_time": "2023-04-06T06:38:50.901Z"
   },
   {
    "duration": 381,
    "start_time": "2023-04-06T06:38:51.046Z"
   },
   {
    "duration": 286,
    "start_time": "2023-04-06T06:39:25.560Z"
   },
   {
    "duration": 6678,
    "start_time": "2023-04-06T06:40:11.846Z"
   },
   {
    "duration": 4,
    "start_time": "2023-04-06T06:41:50.437Z"
   },
   {
    "duration": 18,
    "start_time": "2023-04-06T06:43:26.660Z"
   },
   {
    "duration": 14,
    "start_time": "2023-04-06T06:44:35.363Z"
   },
   {
    "duration": 5667,
    "start_time": "2023-04-06T06:44:41.995Z"
   },
   {
    "duration": 2229,
    "start_time": "2023-04-06T06:46:19.990Z"
   },
   {
    "duration": 2071,
    "start_time": "2023-04-06T06:46:22.221Z"
   },
   {
    "duration": 1230,
    "start_time": "2023-04-06T06:46:24.293Z"
   },
   {
    "duration": 88,
    "start_time": "2023-04-06T06:46:25.525Z"
   },
   {
    "duration": 14,
    "start_time": "2023-04-06T06:46:25.614Z"
   },
   {
    "duration": 19,
    "start_time": "2023-04-06T06:46:25.629Z"
   },
   {
    "duration": 22,
    "start_time": "2023-04-06T06:46:25.649Z"
   },
   {
    "duration": 13,
    "start_time": "2023-04-06T06:46:25.673Z"
   },
   {
    "duration": 19,
    "start_time": "2023-04-06T06:46:25.688Z"
   },
   {
    "duration": 6,
    "start_time": "2023-04-06T06:46:25.711Z"
   },
   {
    "duration": 6,
    "start_time": "2023-04-06T06:46:25.719Z"
   },
   {
    "duration": 415,
    "start_time": "2023-04-06T06:46:25.726Z"
   },
   {
    "duration": 14,
    "start_time": "2023-04-06T06:46:26.143Z"
   },
   {
    "duration": 57,
    "start_time": "2023-04-06T06:46:26.158Z"
   },
   {
    "duration": 269,
    "start_time": "2023-04-06T06:46:26.216Z"
   },
   {
    "duration": 102,
    "start_time": "2023-04-06T06:46:26.487Z"
   },
   {
    "duration": 11,
    "start_time": "2023-04-06T06:46:26.591Z"
   },
   {
    "duration": 16,
    "start_time": "2023-04-06T06:46:26.604Z"
   },
   {
    "duration": 22,
    "start_time": "2023-04-06T06:46:26.622Z"
   },
   {
    "duration": 9,
    "start_time": "2023-04-06T06:46:26.646Z"
   },
   {
    "duration": 17,
    "start_time": "2023-04-06T06:46:26.657Z"
   },
   {
    "duration": 25,
    "start_time": "2023-04-06T06:46:26.676Z"
   },
   {
    "duration": 5609,
    "start_time": "2023-04-06T06:46:26.703Z"
   },
   {
    "duration": 6002,
    "start_time": "2023-04-06T06:46:32.314Z"
   },
   {
    "duration": 1172,
    "start_time": "2023-04-06T06:46:38.317Z"
   },
   {
    "duration": 341,
    "start_time": "2023-04-06T06:46:39.491Z"
   },
   {
    "duration": 143,
    "start_time": "2023-04-06T06:46:39.834Z"
   },
   {
    "duration": 0,
    "start_time": "2023-04-06T06:46:39.979Z"
   },
   {
    "duration": 0,
    "start_time": "2023-04-06T06:46:39.983Z"
   },
   {
    "duration": 0,
    "start_time": "2023-04-06T06:46:39.984Z"
   },
   {
    "duration": 0,
    "start_time": "2023-04-06T06:46:39.985Z"
   },
   {
    "duration": 0,
    "start_time": "2023-04-06T06:46:39.986Z"
   },
   {
    "duration": 0,
    "start_time": "2023-04-06T06:46:39.987Z"
   },
   {
    "duration": 0,
    "start_time": "2023-04-06T06:46:39.988Z"
   },
   {
    "duration": 0,
    "start_time": "2023-04-06T06:46:39.989Z"
   },
   {
    "duration": 0,
    "start_time": "2023-04-06T06:46:40.051Z"
   },
   {
    "duration": 0,
    "start_time": "2023-04-06T06:46:40.053Z"
   },
   {
    "duration": 17,
    "start_time": "2023-04-06T06:47:53.112Z"
   },
   {
    "duration": 874,
    "start_time": "2023-04-06T06:48:44.414Z"
   },
   {
    "duration": 141,
    "start_time": "2023-04-06T06:48:48.455Z"
   },
   {
    "duration": 4,
    "start_time": "2023-04-06T06:49:57.446Z"
   },
   {
    "duration": 6,
    "start_time": "2023-04-06T06:50:20.277Z"
   },
   {
    "duration": 4,
    "start_time": "2023-04-06T06:50:24.702Z"
   },
   {
    "duration": 2196,
    "start_time": "2023-04-06T06:50:31.425Z"
   },
   {
    "duration": 2195,
    "start_time": "2023-04-06T06:50:33.623Z"
   },
   {
    "duration": 1204,
    "start_time": "2023-04-06T06:50:35.820Z"
   },
   {
    "duration": 97,
    "start_time": "2023-04-06T06:50:37.026Z"
   },
   {
    "duration": 10,
    "start_time": "2023-04-06T06:50:37.125Z"
   },
   {
    "duration": 26,
    "start_time": "2023-04-06T06:50:37.137Z"
   },
   {
    "duration": 46,
    "start_time": "2023-04-06T06:50:37.164Z"
   },
   {
    "duration": 47,
    "start_time": "2023-04-06T06:50:37.211Z"
   },
   {
    "duration": 27,
    "start_time": "2023-04-06T06:50:37.260Z"
   },
   {
    "duration": 28,
    "start_time": "2023-04-06T06:50:37.290Z"
   },
   {
    "duration": 29,
    "start_time": "2023-04-06T06:50:37.320Z"
   },
   {
    "duration": 423,
    "start_time": "2023-04-06T06:50:37.350Z"
   },
   {
    "duration": 13,
    "start_time": "2023-04-06T06:50:37.774Z"
   },
   {
    "duration": 67,
    "start_time": "2023-04-06T06:50:37.789Z"
   },
   {
    "duration": 308,
    "start_time": "2023-04-06T06:50:37.857Z"
   },
   {
    "duration": 105,
    "start_time": "2023-04-06T06:50:38.166Z"
   },
   {
    "duration": 9,
    "start_time": "2023-04-06T06:50:38.273Z"
   },
   {
    "duration": 44,
    "start_time": "2023-04-06T06:50:38.283Z"
   },
   {
    "duration": 32,
    "start_time": "2023-04-06T06:50:38.329Z"
   },
   {
    "duration": 55,
    "start_time": "2023-04-06T06:50:38.363Z"
   },
   {
    "duration": 39,
    "start_time": "2023-04-06T06:50:38.419Z"
   },
   {
    "duration": 97,
    "start_time": "2023-04-06T06:50:38.459Z"
   },
   {
    "duration": 28,
    "start_time": "2023-04-06T06:50:38.557Z"
   },
   {
    "duration": 6444,
    "start_time": "2023-04-06T06:50:38.586Z"
   },
   {
    "duration": 5919,
    "start_time": "2023-04-06T06:50:45.031Z"
   },
   {
    "duration": 949,
    "start_time": "2023-04-06T06:50:50.952Z"
   },
   {
    "duration": 304,
    "start_time": "2023-04-06T06:50:51.903Z"
   },
   {
    "duration": 9,
    "start_time": "2023-04-06T06:50:52.210Z"
   },
   {
    "duration": 9122,
    "start_time": "2023-04-06T06:50:52.221Z"
   },
   {
    "duration": 8567,
    "start_time": "2023-04-06T06:51:01.345Z"
   },
   {
    "duration": 2706,
    "start_time": "2023-04-06T06:51:09.914Z"
   },
   {
    "duration": 101,
    "start_time": "2023-04-06T06:51:12.691Z"
   },
   {
    "duration": 4322,
    "start_time": "2023-04-06T06:51:12.793Z"
   },
   {
    "duration": 4190,
    "start_time": "2023-04-06T06:51:17.117Z"
   },
   {
    "duration": 880,
    "start_time": "2023-04-06T06:51:21.309Z"
   },
   {
    "duration": 203,
    "start_time": "2023-04-06T06:51:22.191Z"
   },
   {
    "duration": 148,
    "start_time": "2023-04-06T06:51:22.396Z"
   },
   {
    "duration": 403,
    "start_time": "2023-04-06T06:51:22.545Z"
   },
   {
    "duration": 6363,
    "start_time": "2023-04-06T06:53:54.861Z"
   },
   {
    "duration": 6233,
    "start_time": "2023-04-06T06:55:01.785Z"
   },
   {
    "duration": 864,
    "start_time": "2023-04-06T06:56:07.737Z"
   },
   {
    "duration": 140,
    "start_time": "2023-04-06T06:56:56.137Z"
   },
   {
    "duration": 4,
    "start_time": "2023-04-06T07:08:20.535Z"
   },
   {
    "duration": 36,
    "start_time": "2023-04-06T07:12:47.065Z"
   },
   {
    "duration": 5,
    "start_time": "2023-04-06T07:14:57.574Z"
   },
   {
    "duration": 113,
    "start_time": "2023-04-06T07:16:52.245Z"
   },
   {
    "duration": 866,
    "start_time": "2023-04-06T07:16:58.923Z"
   },
   {
    "duration": 2142,
    "start_time": "2023-04-06T07:19:45.254Z"
   },
   {
    "duration": 2115,
    "start_time": "2023-04-06T07:19:47.398Z"
   },
   {
    "duration": 1232,
    "start_time": "2023-04-06T07:19:49.514Z"
   },
   {
    "duration": 88,
    "start_time": "2023-04-06T07:19:50.748Z"
   },
   {
    "duration": 13,
    "start_time": "2023-04-06T07:19:50.837Z"
   },
   {
    "duration": 7,
    "start_time": "2023-04-06T07:19:50.852Z"
   },
   {
    "duration": 19,
    "start_time": "2023-04-06T07:19:50.860Z"
   },
   {
    "duration": 13,
    "start_time": "2023-04-06T07:19:50.880Z"
   },
   {
    "duration": 21,
    "start_time": "2023-04-06T07:19:50.894Z"
   },
   {
    "duration": 7,
    "start_time": "2023-04-06T07:19:50.918Z"
   },
   {
    "duration": 8,
    "start_time": "2023-04-06T07:19:50.927Z"
   },
   {
    "duration": 406,
    "start_time": "2023-04-06T07:19:50.936Z"
   },
   {
    "duration": 13,
    "start_time": "2023-04-06T07:19:51.344Z"
   },
   {
    "duration": 54,
    "start_time": "2023-04-06T07:19:51.358Z"
   },
   {
    "duration": 274,
    "start_time": "2023-04-06T07:19:51.413Z"
   },
   {
    "duration": 99,
    "start_time": "2023-04-06T07:19:51.689Z"
   },
   {
    "duration": 2,
    "start_time": "2023-04-06T07:19:51.790Z"
   },
   {
    "duration": 122,
    "start_time": "2023-04-06T07:19:51.794Z"
   },
   {
    "duration": 0,
    "start_time": "2023-04-06T07:19:51.918Z"
   },
   {
    "duration": 0,
    "start_time": "2023-04-06T07:19:51.919Z"
   },
   {
    "duration": 0,
    "start_time": "2023-04-06T07:19:51.920Z"
   },
   {
    "duration": 0,
    "start_time": "2023-04-06T07:19:51.921Z"
   },
   {
    "duration": 0,
    "start_time": "2023-04-06T07:19:51.923Z"
   },
   {
    "duration": 0,
    "start_time": "2023-04-06T07:19:51.924Z"
   },
   {
    "duration": 0,
    "start_time": "2023-04-06T07:19:51.924Z"
   },
   {
    "duration": 0,
    "start_time": "2023-04-06T07:19:51.926Z"
   },
   {
    "duration": 0,
    "start_time": "2023-04-06T07:19:51.928Z"
   },
   {
    "duration": 0,
    "start_time": "2023-04-06T07:19:51.929Z"
   },
   {
    "duration": 0,
    "start_time": "2023-04-06T07:19:51.931Z"
   },
   {
    "duration": 0,
    "start_time": "2023-04-06T07:19:51.932Z"
   },
   {
    "duration": 0,
    "start_time": "2023-04-06T07:19:51.934Z"
   },
   {
    "duration": 0,
    "start_time": "2023-04-06T07:19:51.935Z"
   },
   {
    "duration": 0,
    "start_time": "2023-04-06T07:19:51.937Z"
   },
   {
    "duration": 0,
    "start_time": "2023-04-06T07:19:51.938Z"
   },
   {
    "duration": 0,
    "start_time": "2023-04-06T07:19:51.939Z"
   },
   {
    "duration": 0,
    "start_time": "2023-04-06T07:19:51.940Z"
   },
   {
    "duration": 0,
    "start_time": "2023-04-06T07:19:51.941Z"
   },
   {
    "duration": 19,
    "start_time": "2023-04-06T07:20:35.545Z"
   },
   {
    "duration": 4,
    "start_time": "2023-04-06T07:20:57.424Z"
   },
   {
    "duration": 14,
    "start_time": "2023-04-06T07:21:52.736Z"
   },
   {
    "duration": 3,
    "start_time": "2023-04-06T07:21:54.567Z"
   },
   {
    "duration": 3,
    "start_time": "2023-04-06T07:21:55.623Z"
   },
   {
    "duration": 3,
    "start_time": "2023-04-06T07:21:57.167Z"
   },
   {
    "duration": 19,
    "start_time": "2023-04-06T07:21:58.749Z"
   },
   {
    "duration": 13,
    "start_time": "2023-04-06T07:42:48.956Z"
   },
   {
    "duration": 12,
    "start_time": "2023-04-06T07:43:04.068Z"
   },
   {
    "duration": 13,
    "start_time": "2023-04-06T07:43:21.715Z"
   },
   {
    "duration": 16,
    "start_time": "2023-04-06T07:45:36.625Z"
   },
   {
    "duration": 2360,
    "start_time": "2023-04-06T08:19:39.237Z"
   },
   {
    "duration": 2428,
    "start_time": "2023-04-06T08:19:41.600Z"
   },
   {
    "duration": 1403,
    "start_time": "2023-04-06T08:19:44.030Z"
   },
   {
    "duration": 183,
    "start_time": "2023-04-06T08:19:45.435Z"
   },
   {
    "duration": 14,
    "start_time": "2023-04-06T08:19:45.620Z"
   },
   {
    "duration": 11,
    "start_time": "2023-04-06T08:19:45.636Z"
   },
   {
    "duration": 18,
    "start_time": "2023-04-06T08:19:45.648Z"
   },
   {
    "duration": 10,
    "start_time": "2023-04-06T08:19:45.668Z"
   },
   {
    "duration": 22,
    "start_time": "2023-04-06T08:19:45.682Z"
   },
   {
    "duration": 13,
    "start_time": "2023-04-06T08:19:45.706Z"
   },
   {
    "duration": 14,
    "start_time": "2023-04-06T08:19:45.720Z"
   },
   {
    "duration": 440,
    "start_time": "2023-04-06T08:19:45.736Z"
   },
   {
    "duration": 18,
    "start_time": "2023-04-06T08:19:46.177Z"
   },
   {
    "duration": 41,
    "start_time": "2023-04-06T08:19:46.196Z"
   },
   {
    "duration": 327,
    "start_time": "2023-04-06T08:19:46.239Z"
   },
   {
    "duration": 134,
    "start_time": "2023-04-06T08:19:46.568Z"
   },
   {
    "duration": 3,
    "start_time": "2023-04-06T08:19:46.703Z"
   },
   {
    "duration": 33,
    "start_time": "2023-04-06T08:19:46.708Z"
   },
   {
    "duration": 15,
    "start_time": "2023-04-06T08:19:46.743Z"
   },
   {
    "duration": 25,
    "start_time": "2023-04-06T08:19:46.760Z"
   },
   {
    "duration": 21,
    "start_time": "2023-04-06T08:19:46.786Z"
   },
   {
    "duration": 18,
    "start_time": "2023-04-06T08:19:46.809Z"
   },
   {
    "duration": 20,
    "start_time": "2023-04-06T08:19:46.828Z"
   },
   {
    "duration": 149,
    "start_time": "2023-04-06T08:19:46.849Z"
   },
   {
    "duration": 0,
    "start_time": "2023-04-06T08:19:47.000Z"
   },
   {
    "duration": 0,
    "start_time": "2023-04-06T08:19:47.002Z"
   },
   {
    "duration": 0,
    "start_time": "2023-04-06T08:19:47.003Z"
   },
   {
    "duration": 0,
    "start_time": "2023-04-06T08:19:47.004Z"
   },
   {
    "duration": 0,
    "start_time": "2023-04-06T08:19:47.005Z"
   },
   {
    "duration": 0,
    "start_time": "2023-04-06T08:19:47.006Z"
   },
   {
    "duration": 0,
    "start_time": "2023-04-06T08:19:47.007Z"
   },
   {
    "duration": 0,
    "start_time": "2023-04-06T08:19:47.009Z"
   },
   {
    "duration": 0,
    "start_time": "2023-04-06T08:19:47.010Z"
   },
   {
    "duration": 0,
    "start_time": "2023-04-06T08:19:47.011Z"
   },
   {
    "duration": 0,
    "start_time": "2023-04-06T08:19:47.012Z"
   },
   {
    "duration": 0,
    "start_time": "2023-04-06T08:19:47.013Z"
   },
   {
    "duration": 0,
    "start_time": "2023-04-06T08:19:47.014Z"
   },
   {
    "duration": 0,
    "start_time": "2023-04-06T08:19:47.016Z"
   },
   {
    "duration": 0,
    "start_time": "2023-04-06T08:19:47.017Z"
   },
   {
    "duration": 0,
    "start_time": "2023-04-06T08:19:47.018Z"
   },
   {
    "duration": 0,
    "start_time": "2023-04-06T08:19:47.019Z"
   },
   {
    "duration": 43,
    "start_time": "2023-04-06T08:20:21.755Z"
   },
   {
    "duration": 24,
    "start_time": "2023-04-06T08:23:27.102Z"
   },
   {
    "duration": 15,
    "start_time": "2023-04-06T08:23:31.860Z"
   },
   {
    "duration": 14,
    "start_time": "2023-04-06T08:25:22.755Z"
   },
   {
    "duration": 3,
    "start_time": "2023-04-06T08:25:35.466Z"
   },
   {
    "duration": 15,
    "start_time": "2023-04-06T08:25:52.582Z"
   },
   {
    "duration": 3,
    "start_time": "2023-04-06T08:26:25.145Z"
   },
   {
    "duration": 25,
    "start_time": "2023-04-06T08:27:07.218Z"
   },
   {
    "duration": 2121,
    "start_time": "2023-04-06T08:27:22.491Z"
   },
   {
    "duration": 2210,
    "start_time": "2023-04-06T08:27:24.614Z"
   },
   {
    "duration": 1281,
    "start_time": "2023-04-06T08:27:26.825Z"
   },
   {
    "duration": 92,
    "start_time": "2023-04-06T08:27:28.108Z"
   },
   {
    "duration": 13,
    "start_time": "2023-04-06T08:27:28.202Z"
   },
   {
    "duration": 4,
    "start_time": "2023-04-06T08:27:28.217Z"
   },
   {
    "duration": 19,
    "start_time": "2023-04-06T08:27:28.223Z"
   },
   {
    "duration": 7,
    "start_time": "2023-04-06T08:27:28.244Z"
   },
   {
    "duration": 31,
    "start_time": "2023-04-06T08:27:28.253Z"
   },
   {
    "duration": 5,
    "start_time": "2023-04-06T08:27:28.287Z"
   },
   {
    "duration": 8,
    "start_time": "2023-04-06T08:27:28.293Z"
   },
   {
    "duration": 428,
    "start_time": "2023-04-06T08:27:28.302Z"
   },
   {
    "duration": 14,
    "start_time": "2023-04-06T08:27:28.732Z"
   },
   {
    "duration": 53,
    "start_time": "2023-04-06T08:27:28.748Z"
   },
   {
    "duration": 292,
    "start_time": "2023-04-06T08:27:28.803Z"
   },
   {
    "duration": 114,
    "start_time": "2023-04-06T08:27:29.098Z"
   },
   {
    "duration": 2,
    "start_time": "2023-04-06T08:27:29.214Z"
   },
   {
    "duration": 29,
    "start_time": "2023-04-06T08:27:29.219Z"
   },
   {
    "duration": 13,
    "start_time": "2023-04-06T08:27:29.250Z"
   },
   {
    "duration": 25,
    "start_time": "2023-04-06T08:27:29.265Z"
   },
   {
    "duration": 4,
    "start_time": "2023-04-06T08:27:29.292Z"
   },
   {
    "duration": 10,
    "start_time": "2023-04-06T08:27:29.298Z"
   },
   {
    "duration": 7,
    "start_time": "2023-04-06T08:27:29.310Z"
   },
   {
    "duration": 43,
    "start_time": "2023-04-06T08:27:29.319Z"
   },
   {
    "duration": 21,
    "start_time": "2023-04-06T08:27:29.364Z"
   },
   {
    "duration": 32,
    "start_time": "2023-04-06T08:27:29.387Z"
   },
   {
    "duration": 186,
    "start_time": "2023-04-06T08:27:29.421Z"
   },
   {
    "duration": 0,
    "start_time": "2023-04-06T08:27:29.609Z"
   },
   {
    "duration": 0,
    "start_time": "2023-04-06T08:27:29.611Z"
   },
   {
    "duration": 0,
    "start_time": "2023-04-06T08:27:29.613Z"
   },
   {
    "duration": 0,
    "start_time": "2023-04-06T08:27:29.614Z"
   },
   {
    "duration": 0,
    "start_time": "2023-04-06T08:27:29.615Z"
   },
   {
    "duration": 0,
    "start_time": "2023-04-06T08:27:29.616Z"
   },
   {
    "duration": 0,
    "start_time": "2023-04-06T08:27:29.618Z"
   },
   {
    "duration": 0,
    "start_time": "2023-04-06T08:27:29.619Z"
   },
   {
    "duration": 0,
    "start_time": "2023-04-06T08:27:29.620Z"
   },
   {
    "duration": 0,
    "start_time": "2023-04-06T08:27:29.622Z"
   },
   {
    "duration": 0,
    "start_time": "2023-04-06T08:27:29.623Z"
   },
   {
    "duration": 0,
    "start_time": "2023-04-06T08:27:29.624Z"
   },
   {
    "duration": 0,
    "start_time": "2023-04-06T08:27:29.625Z"
   },
   {
    "duration": 0,
    "start_time": "2023-04-06T08:27:29.627Z"
   },
   {
    "duration": 0,
    "start_time": "2023-04-06T08:27:29.628Z"
   },
   {
    "duration": 15,
    "start_time": "2023-04-06T08:28:09.921Z"
   },
   {
    "duration": 9,
    "start_time": "2023-04-06T08:28:31.903Z"
   },
   {
    "duration": 17,
    "start_time": "2023-04-06T08:31:21.795Z"
   },
   {
    "duration": 2180,
    "start_time": "2023-04-06T08:31:26.567Z"
   },
   {
    "duration": 2348,
    "start_time": "2023-04-06T08:31:28.749Z"
   },
   {
    "duration": 1258,
    "start_time": "2023-04-06T08:31:31.099Z"
   },
   {
    "duration": 93,
    "start_time": "2023-04-06T08:31:32.359Z"
   },
   {
    "duration": 12,
    "start_time": "2023-04-06T08:31:32.453Z"
   },
   {
    "duration": 3,
    "start_time": "2023-04-06T08:31:32.467Z"
   },
   {
    "duration": 20,
    "start_time": "2023-04-06T08:31:32.471Z"
   },
   {
    "duration": 20,
    "start_time": "2023-04-06T08:31:32.492Z"
   },
   {
    "duration": 29,
    "start_time": "2023-04-06T08:31:32.513Z"
   },
   {
    "duration": 40,
    "start_time": "2023-04-06T08:31:32.545Z"
   },
   {
    "duration": 29,
    "start_time": "2023-04-06T08:31:32.587Z"
   },
   {
    "duration": 442,
    "start_time": "2023-04-06T08:31:32.618Z"
   },
   {
    "duration": 21,
    "start_time": "2023-04-06T08:31:33.062Z"
   },
   {
    "duration": 49,
    "start_time": "2023-04-06T08:31:33.084Z"
   },
   {
    "duration": 296,
    "start_time": "2023-04-06T08:31:33.135Z"
   },
   {
    "duration": 106,
    "start_time": "2023-04-06T08:31:33.432Z"
   },
   {
    "duration": 16,
    "start_time": "2023-04-06T08:31:33.540Z"
   },
   {
    "duration": 4,
    "start_time": "2023-04-06T08:31:33.557Z"
   },
   {
    "duration": 22,
    "start_time": "2023-04-06T08:31:33.563Z"
   },
   {
    "duration": 7,
    "start_time": "2023-04-06T08:31:33.586Z"
   },
   {
    "duration": 37,
    "start_time": "2023-04-06T08:31:33.595Z"
   },
   {
    "duration": 13,
    "start_time": "2023-04-06T08:31:33.634Z"
   },
   {
    "duration": 50,
    "start_time": "2023-04-06T08:31:33.649Z"
   },
   {
    "duration": 7484,
    "start_time": "2023-04-06T08:31:33.700Z"
   },
   {
    "duration": 6161,
    "start_time": "2023-04-06T08:31:41.186Z"
   },
   {
    "duration": 1553,
    "start_time": "2023-04-06T08:31:47.349Z"
   },
   {
    "duration": 379,
    "start_time": "2023-04-06T08:31:48.904Z"
   },
   {
    "duration": 9,
    "start_time": "2023-04-06T08:31:49.286Z"
   },
   {
    "duration": 9544,
    "start_time": "2023-04-06T08:31:49.296Z"
   },
   {
    "duration": 9222,
    "start_time": "2023-04-06T08:31:58.841Z"
   },
   {
    "duration": 1639,
    "start_time": "2023-04-06T08:32:08.065Z"
   },
   {
    "duration": 101,
    "start_time": "2023-04-06T08:32:09.784Z"
   },
   {
    "duration": 4255,
    "start_time": "2023-04-06T08:32:09.887Z"
   },
   {
    "duration": 3930,
    "start_time": "2023-04-06T08:32:14.144Z"
   },
   {
    "duration": 913,
    "start_time": "2023-04-06T08:32:18.076Z"
   },
   {
    "duration": 202,
    "start_time": "2023-04-06T08:32:18.992Z"
   },
   {
    "duration": 157,
    "start_time": "2023-04-06T08:32:19.196Z"
   },
   {
    "duration": 379,
    "start_time": "2023-04-06T08:32:19.356Z"
   },
   {
    "duration": 149,
    "start_time": "2023-04-06T08:32:19.737Z"
   },
   {
    "duration": 13,
    "start_time": "2023-04-06T08:34:33.879Z"
   },
   {
    "duration": 17,
    "start_time": "2023-04-06T08:34:35.095Z"
   },
   {
    "duration": 15,
    "start_time": "2023-04-06T08:34:36.967Z"
   },
   {
    "duration": 12,
    "start_time": "2023-04-06T08:34:41.552Z"
   },
   {
    "duration": 8,
    "start_time": "2023-04-06T08:34:43.608Z"
   },
   {
    "duration": 9,
    "start_time": "2023-04-06T08:34:45.527Z"
   },
   {
    "duration": 10,
    "start_time": "2023-04-06T08:34:46.295Z"
   },
   {
    "duration": 19,
    "start_time": "2023-04-06T08:34:49.127Z"
   },
   {
    "duration": 12,
    "start_time": "2023-04-06T08:34:54.960Z"
   },
   {
    "duration": 9,
    "start_time": "2023-04-06T08:34:55.783Z"
   },
   {
    "duration": 20,
    "start_time": "2023-04-06T08:35:00.327Z"
   },
   {
    "duration": 9,
    "start_time": "2023-04-06T08:35:03.343Z"
   },
   {
    "duration": 8,
    "start_time": "2023-04-06T08:35:44.950Z"
   },
   {
    "duration": 352,
    "start_time": "2023-04-06T08:49:35.831Z"
   },
   {
    "duration": 5,
    "start_time": "2023-04-06T08:54:46.625Z"
   },
   {
    "duration": 8,
    "start_time": "2023-04-06T08:54:54.711Z"
   },
   {
    "duration": 6,
    "start_time": "2023-04-06T08:56:13.070Z"
   },
   {
    "duration": 7,
    "start_time": "2023-04-06T09:06:21.079Z"
   },
   {
    "duration": 8,
    "start_time": "2023-04-06T09:06:24.439Z"
   },
   {
    "duration": 5,
    "start_time": "2023-04-06T09:08:53.111Z"
   },
   {
    "duration": 25,
    "start_time": "2023-04-06T09:09:16.405Z"
   },
   {
    "duration": 24,
    "start_time": "2023-04-06T09:10:02.586Z"
   },
   {
    "duration": 24,
    "start_time": "2023-04-06T09:10:27.308Z"
   },
   {
    "duration": 23,
    "start_time": "2023-04-06T09:10:53.164Z"
   },
   {
    "duration": 2204,
    "start_time": "2023-04-06T09:11:01.156Z"
   },
   {
    "duration": 2283,
    "start_time": "2023-04-06T09:11:03.362Z"
   },
   {
    "duration": 1331,
    "start_time": "2023-04-06T09:11:05.647Z"
   },
   {
    "duration": 125,
    "start_time": "2023-04-06T09:11:06.980Z"
   },
   {
    "duration": 12,
    "start_time": "2023-04-06T09:11:07.107Z"
   },
   {
    "duration": 4,
    "start_time": "2023-04-06T09:11:07.121Z"
   },
   {
    "duration": 15,
    "start_time": "2023-04-06T09:11:07.126Z"
   },
   {
    "duration": 7,
    "start_time": "2023-04-06T09:11:07.143Z"
   },
   {
    "duration": 7,
    "start_time": "2023-04-06T09:11:07.152Z"
   },
   {
    "duration": 5,
    "start_time": "2023-04-06T09:11:07.184Z"
   },
   {
    "duration": 8,
    "start_time": "2023-04-06T09:11:07.190Z"
   },
   {
    "duration": 407,
    "start_time": "2023-04-06T09:11:07.200Z"
   },
   {
    "duration": 13,
    "start_time": "2023-04-06T09:11:07.609Z"
   },
   {
    "duration": 41,
    "start_time": "2023-04-06T09:11:07.624Z"
   },
   {
    "duration": 284,
    "start_time": "2023-04-06T09:11:07.682Z"
   },
   {
    "duration": 115,
    "start_time": "2023-04-06T09:11:07.968Z"
   },
   {
    "duration": 14,
    "start_time": "2023-04-06T09:11:08.085Z"
   },
   {
    "duration": 4,
    "start_time": "2023-04-06T09:11:08.100Z"
   },
   {
    "duration": 7,
    "start_time": "2023-04-06T09:11:08.106Z"
   },
   {
    "duration": 6,
    "start_time": "2023-04-06T09:11:08.115Z"
   },
   {
    "duration": 38,
    "start_time": "2023-04-06T09:11:08.123Z"
   },
   {
    "duration": 15,
    "start_time": "2023-04-06T09:11:08.183Z"
   },
   {
    "duration": 20,
    "start_time": "2023-04-06T09:11:08.199Z"
   },
   {
    "duration": 6599,
    "start_time": "2023-04-06T09:11:08.220Z"
   },
   {
    "duration": 7061,
    "start_time": "2023-04-06T09:11:14.821Z"
   },
   {
    "duration": 1210,
    "start_time": "2023-04-06T09:11:21.883Z"
   },
   {
    "duration": 384,
    "start_time": "2023-04-06T09:11:23.096Z"
   },
   {
    "duration": 8,
    "start_time": "2023-04-06T09:11:23.485Z"
   },
   {
    "duration": 9319,
    "start_time": "2023-04-06T09:11:23.494Z"
   },
   {
    "duration": 8351,
    "start_time": "2023-04-06T09:11:32.815Z"
   },
   {
    "duration": 1440,
    "start_time": "2023-04-06T09:11:41.167Z"
   },
   {
    "duration": 177,
    "start_time": "2023-04-06T09:11:42.608Z"
   },
   {
    "duration": 4301,
    "start_time": "2023-04-06T09:11:42.786Z"
   },
   {
    "duration": 3983,
    "start_time": "2023-04-06T09:11:47.089Z"
   },
   {
    "duration": 815,
    "start_time": "2023-04-06T09:11:51.074Z"
   },
   {
    "duration": 199,
    "start_time": "2023-04-06T09:11:51.891Z"
   },
   {
    "duration": 174,
    "start_time": "2023-04-06T09:11:52.091Z"
   },
   {
    "duration": 17,
    "start_time": "2023-04-06T09:11:52.267Z"
   },
   {
    "duration": 349,
    "start_time": "2023-04-06T09:11:52.286Z"
   },
   {
    "duration": 22,
    "start_time": "2023-04-06T09:14:01.864Z"
   },
   {
    "duration": 5,
    "start_time": "2023-04-06T09:29:40.565Z"
   },
   {
    "duration": 8,
    "start_time": "2023-04-06T09:29:43.164Z"
   },
   {
    "duration": 2534,
    "start_time": "2023-04-06T09:29:58.319Z"
   },
   {
    "duration": 2293,
    "start_time": "2023-04-06T09:30:00.855Z"
   },
   {
    "duration": 1323,
    "start_time": "2023-04-06T09:30:03.150Z"
   },
   {
    "duration": 115,
    "start_time": "2023-04-06T09:30:04.475Z"
   },
   {
    "duration": 13,
    "start_time": "2023-04-06T09:30:04.592Z"
   },
   {
    "duration": 5,
    "start_time": "2023-04-06T09:30:04.607Z"
   },
   {
    "duration": 12,
    "start_time": "2023-04-06T09:30:04.614Z"
   },
   {
    "duration": 19,
    "start_time": "2023-04-06T09:30:04.628Z"
   },
   {
    "duration": 6,
    "start_time": "2023-04-06T09:30:04.649Z"
   },
   {
    "duration": 27,
    "start_time": "2023-04-06T09:30:04.657Z"
   },
   {
    "duration": 5,
    "start_time": "2023-04-06T09:30:04.686Z"
   },
   {
    "duration": 419,
    "start_time": "2023-04-06T09:30:04.693Z"
   },
   {
    "duration": 13,
    "start_time": "2023-04-06T09:30:05.114Z"
   },
   {
    "duration": 55,
    "start_time": "2023-04-06T09:30:05.129Z"
   },
   {
    "duration": 284,
    "start_time": "2023-04-06T09:30:05.185Z"
   },
   {
    "duration": 107,
    "start_time": "2023-04-06T09:30:05.471Z"
   },
   {
    "duration": 16,
    "start_time": "2023-04-06T09:30:05.583Z"
   },
   {
    "duration": 5,
    "start_time": "2023-04-06T09:30:05.601Z"
   },
   {
    "duration": 13,
    "start_time": "2023-04-06T09:30:05.608Z"
   },
   {
    "duration": 5,
    "start_time": "2023-04-06T09:30:05.622Z"
   },
   {
    "duration": 37,
    "start_time": "2023-04-06T09:30:05.629Z"
   },
   {
    "duration": 32,
    "start_time": "2023-04-06T09:30:05.668Z"
   },
   {
    "duration": 15,
    "start_time": "2023-04-06T09:30:05.702Z"
   },
   {
    "duration": 6494,
    "start_time": "2023-04-06T09:30:05.719Z"
   },
   {
    "duration": 6409,
    "start_time": "2023-04-06T09:30:12.215Z"
   },
   {
    "duration": 1176,
    "start_time": "2023-04-06T09:30:18.626Z"
   },
   {
    "duration": 391,
    "start_time": "2023-04-06T09:30:19.805Z"
   },
   {
    "duration": 11,
    "start_time": "2023-04-06T09:30:20.201Z"
   },
   {
    "duration": 9960,
    "start_time": "2023-04-06T09:30:20.213Z"
   },
   {
    "duration": 9009,
    "start_time": "2023-04-06T09:30:30.175Z"
   },
   {
    "duration": 1597,
    "start_time": "2023-04-06T09:30:39.186Z"
   },
   {
    "duration": 102,
    "start_time": "2023-04-06T09:30:40.787Z"
   },
   {
    "duration": 4211,
    "start_time": "2023-04-06T09:30:40.891Z"
   },
   {
    "duration": 3894,
    "start_time": "2023-04-06T09:30:45.104Z"
   },
   {
    "duration": 794,
    "start_time": "2023-04-06T09:30:48.999Z"
   },
   {
    "duration": 196,
    "start_time": "2023-04-06T09:30:49.795Z"
   },
   {
    "duration": 150,
    "start_time": "2023-04-06T09:30:49.993Z"
   },
   {
    "duration": 7,
    "start_time": "2023-04-06T09:30:50.144Z"
   },
   {
    "duration": 391,
    "start_time": "2023-04-06T09:30:50.152Z"
   },
   {
    "duration": 10,
    "start_time": "2023-04-06T09:35:16.133Z"
   },
   {
    "duration": 4,
    "start_time": "2023-04-06T09:35:52.925Z"
   },
   {
    "duration": 2321,
    "start_time": "2023-04-06T09:36:05.004Z"
   },
   {
    "duration": 2209,
    "start_time": "2023-04-06T09:36:07.328Z"
   },
   {
    "duration": 1243,
    "start_time": "2023-04-06T09:36:09.543Z"
   },
   {
    "duration": 96,
    "start_time": "2023-04-06T09:36:10.788Z"
   },
   {
    "duration": 11,
    "start_time": "2023-04-06T09:36:10.886Z"
   },
   {
    "duration": 3,
    "start_time": "2023-04-06T09:36:10.899Z"
   },
   {
    "duration": 20,
    "start_time": "2023-04-06T09:36:10.904Z"
   },
   {
    "duration": 9,
    "start_time": "2023-04-06T09:36:10.927Z"
   },
   {
    "duration": 7,
    "start_time": "2023-04-06T09:36:10.941Z"
   },
   {
    "duration": 6,
    "start_time": "2023-04-06T09:36:10.983Z"
   },
   {
    "duration": 7,
    "start_time": "2023-04-06T09:36:10.991Z"
   },
   {
    "duration": 419,
    "start_time": "2023-04-06T09:36:11.000Z"
   },
   {
    "duration": 14,
    "start_time": "2023-04-06T09:36:11.421Z"
   },
   {
    "duration": 58,
    "start_time": "2023-04-06T09:36:11.437Z"
   },
   {
    "duration": 293,
    "start_time": "2023-04-06T09:36:11.497Z"
   },
   {
    "duration": 115,
    "start_time": "2023-04-06T09:36:11.792Z"
   },
   {
    "duration": 17,
    "start_time": "2023-04-06T09:36:11.909Z"
   },
   {
    "duration": 4,
    "start_time": "2023-04-06T09:36:11.928Z"
   },
   {
    "duration": 8,
    "start_time": "2023-04-06T09:36:11.934Z"
   },
   {
    "duration": 8,
    "start_time": "2023-04-06T09:36:11.943Z"
   },
   {
    "duration": 58,
    "start_time": "2023-04-06T09:36:11.952Z"
   },
   {
    "duration": 16,
    "start_time": "2023-04-06T09:36:12.011Z"
   },
   {
    "duration": 24,
    "start_time": "2023-04-06T09:36:12.030Z"
   },
   {
    "duration": 6474,
    "start_time": "2023-04-06T09:36:12.056Z"
   },
   {
    "duration": 6193,
    "start_time": "2023-04-06T09:36:18.533Z"
   },
   {
    "duration": 1174,
    "start_time": "2023-04-06T09:36:24.727Z"
   },
   {
    "duration": 378,
    "start_time": "2023-04-06T09:36:25.906Z"
   },
   {
    "duration": 9,
    "start_time": "2023-04-06T09:36:26.286Z"
   },
   {
    "duration": 9621,
    "start_time": "2023-04-06T09:36:26.297Z"
   },
   {
    "duration": 9092,
    "start_time": "2023-04-06T09:36:35.919Z"
   },
   {
    "duration": 1396,
    "start_time": "2023-04-06T09:36:45.013Z"
   },
   {
    "duration": 15,
    "start_time": "2023-04-06T09:36:46.482Z"
   },
   {
    "duration": 4290,
    "start_time": "2023-04-06T09:36:46.584Z"
   },
   {
    "duration": 4250,
    "start_time": "2023-04-06T09:36:50.876Z"
   },
   {
    "duration": 1868,
    "start_time": "2023-04-06T09:36:55.128Z"
   },
   {
    "duration": 195,
    "start_time": "2023-04-06T09:36:56.999Z"
   },
   {
    "duration": 156,
    "start_time": "2023-04-06T09:36:57.196Z"
   },
   {
    "duration": 6,
    "start_time": "2023-04-06T09:36:57.354Z"
   },
   {
    "duration": 387,
    "start_time": "2023-04-06T09:36:57.362Z"
   },
   {
    "duration": 2008,
    "start_time": "2023-04-20T09:30:44.191Z"
   },
   {
    "duration": 2641,
    "start_time": "2023-04-20T09:30:50.792Z"
   },
   {
    "duration": 18,
    "start_time": "2023-04-20T09:31:03.880Z"
   },
   {
    "duration": 9,
    "start_time": "2023-04-20T09:31:04.091Z"
   },
   {
    "duration": 9,
    "start_time": "2023-04-20T09:31:04.297Z"
   },
   {
    "duration": 16,
    "start_time": "2023-04-20T09:31:06.587Z"
   },
   {
    "duration": 14,
    "start_time": "2023-04-20T09:31:06.816Z"
   },
   {
    "duration": 14,
    "start_time": "2023-04-20T09:31:08.348Z"
   },
   {
    "duration": 13,
    "start_time": "2023-04-20T09:31:49.690Z"
   },
   {
    "duration": 37,
    "start_time": "2023-04-20T09:31:53.695Z"
   },
   {
    "duration": 34,
    "start_time": "2023-04-20T09:31:53.990Z"
   },
   {
    "duration": 36,
    "start_time": "2023-04-20T09:31:55.588Z"
   },
   {
    "duration": 37,
    "start_time": "2023-04-20T09:33:51.103Z"
   },
   {
    "duration": 4,
    "start_time": "2023-04-20T09:33:51.756Z"
   },
   {
    "duration": 103,
    "start_time": "2023-04-20T09:34:12.665Z"
   },
   {
    "duration": 2,
    "start_time": "2023-04-20T09:34:17.347Z"
   },
   {
    "duration": 103,
    "start_time": "2023-04-20T09:34:19.696Z"
   },
   {
    "duration": 7,
    "start_time": "2023-04-20T09:34:27.297Z"
   },
   {
    "duration": 6,
    "start_time": "2023-04-20T09:34:29.865Z"
   },
   {
    "duration": 4,
    "start_time": "2023-04-20T09:34:30.206Z"
   },
   {
    "duration": 3,
    "start_time": "2023-04-20T09:35:33.008Z"
   },
   {
    "duration": 3,
    "start_time": "2023-04-20T09:35:46.625Z"
   },
   {
    "duration": 6,
    "start_time": "2023-04-20T09:36:02.921Z"
   },
   {
    "duration": 4,
    "start_time": "2023-04-20T09:36:51.084Z"
   },
   {
    "duration": 20,
    "start_time": "2023-04-20T09:37:24.010Z"
   },
   {
    "duration": 9,
    "start_time": "2023-04-20T09:38:49.303Z"
   },
   {
    "duration": 1321,
    "start_time": "2023-04-20T09:38:50.609Z"
   },
   {
    "duration": 1333,
    "start_time": "2023-04-20T09:38:51.931Z"
   },
   {
    "duration": 1393,
    "start_time": "2023-04-20T09:38:53.266Z"
   },
   {
    "duration": 100,
    "start_time": "2023-04-20T09:42:11.928Z"
   },
   {
    "duration": 133,
    "start_time": "2023-04-20T09:42:14.126Z"
   },
   {
    "duration": 6,
    "start_time": "2023-04-20T09:43:01.101Z"
   },
   {
    "duration": 1508,
    "start_time": "2023-04-20T09:43:02.716Z"
   },
   {
    "duration": 1399,
    "start_time": "2023-04-20T09:43:04.226Z"
   },
   {
    "duration": 1386,
    "start_time": "2023-04-20T09:43:05.627Z"
   },
   {
    "duration": 44,
    "start_time": "2023-04-20T09:58:59.611Z"
   },
   {
    "duration": 1365,
    "start_time": "2023-04-20T09:59:06.398Z"
   },
   {
    "duration": 1553,
    "start_time": "2023-04-20T09:59:07.765Z"
   },
   {
    "duration": 12,
    "start_time": "2023-04-20T09:59:09.319Z"
   },
   {
    "duration": 7,
    "start_time": "2023-04-20T09:59:09.333Z"
   },
   {
    "duration": 15,
    "start_time": "2023-04-20T09:59:09.342Z"
   },
   {
    "duration": 41,
    "start_time": "2023-04-20T09:59:09.359Z"
   },
   {
    "duration": 18,
    "start_time": "2023-04-20T09:59:09.402Z"
   },
   {
    "duration": 13,
    "start_time": "2023-04-20T09:59:09.421Z"
   },
   {
    "duration": 4,
    "start_time": "2023-04-20T09:59:09.435Z"
   },
   {
    "duration": 121,
    "start_time": "2023-04-20T09:59:09.442Z"
   },
   {
    "duration": 18,
    "start_time": "2023-04-20T09:59:09.565Z"
   },
   {
    "duration": 10,
    "start_time": "2023-04-20T09:59:09.585Z"
   },
   {
    "duration": 47,
    "start_time": "2023-04-20T09:59:09.597Z"
   },
   {
    "duration": 31,
    "start_time": "2023-04-20T09:59:09.646Z"
   },
   {
    "duration": 31,
    "start_time": "2023-04-20T09:59:09.679Z"
   },
   {
    "duration": 174,
    "start_time": "2023-04-20T09:59:09.711Z"
   },
   {
    "duration": 37,
    "start_time": "2023-04-20T09:59:09.886Z"
   },
   {
    "duration": 15,
    "start_time": "2023-04-20T09:59:09.924Z"
   },
   {
    "duration": 105,
    "start_time": "2023-04-20T09:59:09.940Z"
   },
   {
    "duration": 3,
    "start_time": "2023-04-20T09:59:10.135Z"
   },
   {
    "duration": 98,
    "start_time": "2023-04-20T09:59:10.139Z"
   },
   {
    "duration": 5,
    "start_time": "2023-04-20T09:59:10.239Z"
   },
   {
    "duration": 4,
    "start_time": "2023-04-20T09:59:10.246Z"
   },
   {
    "duration": 5,
    "start_time": "2023-04-20T09:59:10.338Z"
   },
   {
    "duration": 4,
    "start_time": "2023-04-20T09:59:10.345Z"
   },
   {
    "duration": 4,
    "start_time": "2023-04-20T09:59:10.436Z"
   },
   {
    "duration": 11,
    "start_time": "2023-04-20T09:59:10.441Z"
   },
   {
    "duration": 8,
    "start_time": "2023-04-20T09:59:10.455Z"
   },
   {
    "duration": 20,
    "start_time": "2023-04-20T09:59:10.464Z"
   },
   {
    "duration": 6,
    "start_time": "2023-04-20T09:59:10.486Z"
   },
   {
    "duration": 1071,
    "start_time": "2023-04-20T09:59:10.493Z"
   },
   {
    "duration": 1237,
    "start_time": "2023-04-20T09:59:11.566Z"
   },
   {
    "duration": 1196,
    "start_time": "2023-04-20T09:59:12.804Z"
   },
   {
    "duration": 1121,
    "start_time": "2023-04-20T10:01:11.582Z"
   },
   {
    "duration": 1059,
    "start_time": "2023-04-20T10:01:19.317Z"
   },
   {
    "duration": 1016,
    "start_time": "2023-04-20T10:01:34.028Z"
   },
   {
    "duration": 1035,
    "start_time": "2023-04-20T10:01:36.901Z"
   },
   {
    "duration": 64,
    "start_time": "2023-04-20T14:38:55.377Z"
   },
   {
    "duration": 5,
    "start_time": "2023-04-20T14:38:58.285Z"
   },
   {
    "duration": 1713,
    "start_time": "2023-04-20T14:39:03.689Z"
   },
   {
    "duration": 2164,
    "start_time": "2023-04-20T14:39:05.405Z"
   },
   {
    "duration": 14,
    "start_time": "2023-04-20T14:39:07.571Z"
   },
   {
    "duration": 19,
    "start_time": "2023-04-20T14:39:07.587Z"
   },
   {
    "duration": 24,
    "start_time": "2023-04-20T14:39:07.609Z"
   },
   {
    "duration": 17,
    "start_time": "2023-04-20T14:39:07.636Z"
   },
   {
    "duration": 14,
    "start_time": "2023-04-20T14:39:07.654Z"
   },
   {
    "duration": 23,
    "start_time": "2023-04-20T14:39:07.670Z"
   },
   {
    "duration": 6,
    "start_time": "2023-04-20T14:39:07.695Z"
   },
   {
    "duration": 148,
    "start_time": "2023-04-20T14:39:07.703Z"
   },
   {
    "duration": 20,
    "start_time": "2023-04-20T14:39:07.853Z"
   },
   {
    "duration": 33,
    "start_time": "2023-04-20T14:39:07.874Z"
   },
   {
    "duration": 51,
    "start_time": "2023-04-20T14:39:07.909Z"
   },
   {
    "duration": 45,
    "start_time": "2023-04-20T14:39:07.964Z"
   },
   {
    "duration": 37,
    "start_time": "2023-04-20T14:39:08.010Z"
   },
   {
    "duration": 225,
    "start_time": "2023-04-20T14:39:08.049Z"
   },
   {
    "duration": 3,
    "start_time": "2023-04-20T14:39:08.276Z"
   },
   {
    "duration": 589,
    "start_time": "2023-04-20T14:39:08.281Z"
   },
   {
    "duration": 50,
    "start_time": "2023-04-20T14:39:08.872Z"
   },
   {
    "duration": 5,
    "start_time": "2023-04-20T14:39:08.924Z"
   },
   {
    "duration": 86,
    "start_time": "2023-04-20T14:39:08.931Z"
   },
   {
    "duration": 3,
    "start_time": "2023-04-20T14:39:09.094Z"
   },
   {
    "duration": 97,
    "start_time": "2023-04-20T14:39:09.103Z"
   },
   {
    "duration": 6,
    "start_time": "2023-04-20T14:39:09.202Z"
   },
   {
    "duration": 96,
    "start_time": "2023-04-20T14:39:09.212Z"
   },
   {
    "duration": 88,
    "start_time": "2023-04-20T14:39:09.311Z"
   },
   {
    "duration": 18,
    "start_time": "2023-04-20T14:39:09.401Z"
   },
   {
    "duration": 44,
    "start_time": "2023-04-20T14:39:09.421Z"
   },
   {
    "duration": 38,
    "start_time": "2023-04-20T14:39:09.467Z"
   },
   {
    "duration": 35,
    "start_time": "2023-04-20T14:39:09.507Z"
   },
   {
    "duration": 49,
    "start_time": "2023-04-20T14:39:09.544Z"
   },
   {
    "duration": 24,
    "start_time": "2023-04-20T14:39:09.596Z"
   },
   {
    "duration": 1411,
    "start_time": "2023-04-20T14:39:09.622Z"
   },
   {
    "duration": 1590,
    "start_time": "2023-04-20T14:39:11.035Z"
   },
   {
    "duration": 2371,
    "start_time": "2023-04-20T14:39:12.627Z"
   },
   {
    "duration": 519,
    "start_time": "2023-04-20T14:39:37.375Z"
   },
   {
    "duration": 40,
    "start_time": "2023-04-20T14:42:05.884Z"
   },
   {
    "duration": 54,
    "start_time": "2023-04-20T14:42:38.810Z"
   },
   {
    "duration": 781,
    "start_time": "2023-04-20T14:45:01.040Z"
   },
   {
    "duration": 1080,
    "start_time": "2023-04-20T14:45:20.433Z"
   },
   {
    "duration": 1205,
    "start_time": "2023-04-20T14:45:40.410Z"
   },
   {
    "duration": 1042,
    "start_time": "2023-04-20T14:45:48.584Z"
   },
   {
    "duration": 1037,
    "start_time": "2023-04-20T14:45:54.688Z"
   },
   {
    "duration": 519,
    "start_time": "2023-04-20T14:51:07.067Z"
   },
   {
    "duration": 144,
    "start_time": "2023-04-20T14:51:24.828Z"
   },
   {
    "duration": 4774,
    "start_time": "2023-04-20T14:51:53.473Z"
   },
   {
    "duration": 1140,
    "start_time": "2023-04-20T14:52:05.746Z"
   },
   {
    "duration": 1397,
    "start_time": "2023-04-20T14:52:10.075Z"
   },
   {
    "duration": 1368,
    "start_time": "2023-04-20T14:52:32.532Z"
   },
   {
    "duration": 1276,
    "start_time": "2023-04-20T14:52:37.210Z"
   },
   {
    "duration": 412,
    "start_time": "2023-04-20T14:53:15.851Z"
   },
   {
    "duration": 394,
    "start_time": "2023-04-20T14:53:38.474Z"
   },
   {
    "duration": 347,
    "start_time": "2023-04-20T14:54:36.313Z"
   },
   {
    "duration": 1140,
    "start_time": "2023-04-20T14:54:51.478Z"
   },
   {
    "duration": 1199,
    "start_time": "2023-04-20T14:55:21.336Z"
   },
   {
    "duration": 1069,
    "start_time": "2023-04-20T14:55:28.299Z"
   },
   {
    "duration": 1183,
    "start_time": "2023-04-20T14:57:15.038Z"
   },
   {
    "duration": 978,
    "start_time": "2023-04-20T14:57:52.109Z"
   },
   {
    "duration": 1214,
    "start_time": "2023-04-20T14:58:00.445Z"
   },
   {
    "duration": 1014,
    "start_time": "2023-04-20T15:01:08.762Z"
   },
   {
    "duration": 1000,
    "start_time": "2023-04-20T15:02:19.304Z"
   },
   {
    "duration": 1010,
    "start_time": "2023-04-20T15:02:23.577Z"
   },
   {
    "duration": 699,
    "start_time": "2023-04-20T15:02:56.508Z"
   },
   {
    "duration": 1062,
    "start_time": "2023-04-20T15:03:07.143Z"
   },
   {
    "duration": 1080,
    "start_time": "2023-04-20T15:03:34.845Z"
   },
   {
    "duration": 1206,
    "start_time": "2023-04-20T15:03:40.099Z"
   },
   {
    "duration": 3012,
    "start_time": "2023-04-20T15:03:45.275Z"
   },
   {
    "duration": 1039,
    "start_time": "2023-04-20T15:03:58.527Z"
   },
   {
    "duration": 538,
    "start_time": "2023-04-20T15:06:09.508Z"
   },
   {
    "duration": 18,
    "start_time": "2023-04-20T15:06:25.316Z"
   },
   {
    "duration": 1032,
    "start_time": "2023-04-20T15:06:37.804Z"
   },
   {
    "duration": 410,
    "start_time": "2023-04-20T15:06:51.420Z"
   },
   {
    "duration": 1003,
    "start_time": "2023-04-20T15:07:03.157Z"
   },
   {
    "duration": 1073,
    "start_time": "2023-04-20T15:07:18.125Z"
   },
   {
    "duration": 10,
    "start_time": "2023-04-20T15:22:43.541Z"
   },
   {
    "duration": 35,
    "start_time": "2023-04-20T15:22:49.388Z"
   },
   {
    "duration": 4,
    "start_time": "2023-04-20T15:22:50.212Z"
   },
   {
    "duration": 11,
    "start_time": "2023-04-20T15:22:51.804Z"
   },
   {
    "duration": 41,
    "start_time": "2023-04-20T15:23:15.949Z"
   },
   {
    "duration": 4,
    "start_time": "2023-04-20T15:23:16.635Z"
   },
   {
    "duration": 15,
    "start_time": "2023-04-20T15:23:17.500Z"
   },
   {
    "duration": 6,
    "start_time": "2023-04-20T15:23:38.508Z"
   },
   {
    "duration": 20,
    "start_time": "2023-04-20T15:23:39.346Z"
   },
   {
    "duration": 4,
    "start_time": "2023-04-20T15:23:59.562Z"
   },
   {
    "duration": 26,
    "start_time": "2023-04-20T15:24:00.249Z"
   },
   {
    "duration": 14,
    "start_time": "2023-04-20T15:26:58.529Z"
   },
   {
    "duration": 1603,
    "start_time": "2023-04-20T15:27:10.859Z"
   },
   {
    "duration": 635,
    "start_time": "2023-04-20T15:27:12.465Z"
   },
   {
    "duration": 14,
    "start_time": "2023-04-20T15:27:13.102Z"
   },
   {
    "duration": 11,
    "start_time": "2023-04-20T15:27:13.118Z"
   },
   {
    "duration": 23,
    "start_time": "2023-04-20T15:27:13.131Z"
   },
   {
    "duration": 25,
    "start_time": "2023-04-20T15:27:13.156Z"
   },
   {
    "duration": 24,
    "start_time": "2023-04-20T15:27:13.184Z"
   },
   {
    "duration": 17,
    "start_time": "2023-04-20T15:27:13.211Z"
   },
   {
    "duration": 12,
    "start_time": "2023-04-20T15:27:13.230Z"
   },
   {
    "duration": 161,
    "start_time": "2023-04-20T15:27:13.245Z"
   },
   {
    "duration": 21,
    "start_time": "2023-04-20T15:27:13.408Z"
   },
   {
    "duration": 25,
    "start_time": "2023-04-20T15:27:13.431Z"
   },
   {
    "duration": 56,
    "start_time": "2023-04-20T15:27:13.458Z"
   },
   {
    "duration": 41,
    "start_time": "2023-04-20T15:27:13.516Z"
   },
   {
    "duration": 58,
    "start_time": "2023-04-20T15:27:13.558Z"
   },
   {
    "duration": 190,
    "start_time": "2023-04-20T15:27:13.618Z"
   },
   {
    "duration": 3,
    "start_time": "2023-04-20T15:27:13.810Z"
   },
   {
    "duration": 1049,
    "start_time": "2023-04-20T15:27:13.815Z"
   },
   {
    "duration": 148,
    "start_time": "2023-04-20T15:27:14.865Z"
   },
   {
    "duration": 5,
    "start_time": "2023-04-20T15:27:15.015Z"
   },
   {
    "duration": 141,
    "start_time": "2023-04-20T15:27:15.022Z"
   },
   {
    "duration": 0,
    "start_time": "2023-04-20T15:27:15.165Z"
   },
   {
    "duration": 0,
    "start_time": "2023-04-20T15:27:15.167Z"
   },
   {
    "duration": 0,
    "start_time": "2023-04-20T15:27:15.167Z"
   },
   {
    "duration": 0,
    "start_time": "2023-04-20T15:27:15.169Z"
   },
   {
    "duration": 0,
    "start_time": "2023-04-20T15:27:15.170Z"
   },
   {
    "duration": 0,
    "start_time": "2023-04-20T15:27:15.172Z"
   },
   {
    "duration": 0,
    "start_time": "2023-04-20T15:27:15.173Z"
   },
   {
    "duration": 0,
    "start_time": "2023-04-20T15:27:15.175Z"
   },
   {
    "duration": 0,
    "start_time": "2023-04-20T15:27:15.177Z"
   },
   {
    "duration": 0,
    "start_time": "2023-04-20T15:27:15.178Z"
   },
   {
    "duration": 0,
    "start_time": "2023-04-20T15:27:15.194Z"
   },
   {
    "duration": 0,
    "start_time": "2023-04-20T15:27:15.195Z"
   },
   {
    "duration": 0,
    "start_time": "2023-04-20T15:27:15.196Z"
   },
   {
    "duration": 0,
    "start_time": "2023-04-20T15:27:15.197Z"
   },
   {
    "duration": 0,
    "start_time": "2023-04-20T15:27:15.198Z"
   },
   {
    "duration": 0,
    "start_time": "2023-04-20T15:27:15.200Z"
   },
   {
    "duration": 4,
    "start_time": "2023-04-20T15:27:47.473Z"
   },
   {
    "duration": 36,
    "start_time": "2023-04-20T15:27:48.975Z"
   },
   {
    "duration": 4,
    "start_time": "2023-04-20T15:31:32.132Z"
   },
   {
    "duration": 19,
    "start_time": "2023-04-20T15:31:33.556Z"
   },
   {
    "duration": 68,
    "start_time": "2023-04-20T15:37:56.382Z"
   },
   {
    "duration": 50,
    "start_time": "2023-04-20T15:38:11.295Z"
   },
   {
    "duration": 24,
    "start_time": "2023-04-20T15:38:25.094Z"
   },
   {
    "duration": 4,
    "start_time": "2023-04-20T15:38:27.886Z"
   },
   {
    "duration": 180,
    "start_time": "2023-04-20T15:38:28.814Z"
   },
   {
    "duration": 10,
    "start_time": "2023-04-20T16:00:34.521Z"
   },
   {
    "duration": 5,
    "start_time": "2023-04-20T16:00:35.988Z"
   },
   {
    "duration": 35,
    "start_time": "2023-04-20T16:00:36.788Z"
   },
   {
    "duration": 12,
    "start_time": "2023-04-20T16:01:05.338Z"
   },
   {
    "duration": 1595,
    "start_time": "2023-04-20T16:01:11.686Z"
   },
   {
    "duration": 479,
    "start_time": "2023-04-20T16:01:13.284Z"
   },
   {
    "duration": 13,
    "start_time": "2023-04-20T16:01:13.764Z"
   },
   {
    "duration": 20,
    "start_time": "2023-04-20T16:01:13.779Z"
   },
   {
    "duration": 17,
    "start_time": "2023-04-20T16:01:13.802Z"
   },
   {
    "duration": 23,
    "start_time": "2023-04-20T16:01:13.821Z"
   },
   {
    "duration": 16,
    "start_time": "2023-04-20T16:01:13.846Z"
   },
   {
    "duration": 14,
    "start_time": "2023-04-20T16:01:13.864Z"
   },
   {
    "duration": 5,
    "start_time": "2023-04-20T16:01:13.893Z"
   },
   {
    "duration": 163,
    "start_time": "2023-04-20T16:01:13.900Z"
   },
   {
    "duration": 30,
    "start_time": "2023-04-20T16:01:14.065Z"
   },
   {
    "duration": 16,
    "start_time": "2023-04-20T16:01:14.097Z"
   },
   {
    "duration": 44,
    "start_time": "2023-04-20T16:01:14.115Z"
   },
   {
    "duration": 61,
    "start_time": "2023-04-20T16:01:14.162Z"
   },
   {
    "duration": 37,
    "start_time": "2023-04-20T16:01:14.225Z"
   },
   {
    "duration": 205,
    "start_time": "2023-04-20T16:01:14.263Z"
   },
   {
    "duration": 3,
    "start_time": "2023-04-20T16:01:14.469Z"
   },
   {
    "duration": 1049,
    "start_time": "2023-04-20T16:01:14.473Z"
   },
   {
    "duration": 122,
    "start_time": "2023-04-20T16:01:15.523Z"
   },
   {
    "duration": 4,
    "start_time": "2023-04-20T16:01:15.647Z"
   },
   {
    "duration": 144,
    "start_time": "2023-04-20T16:01:15.653Z"
   },
   {
    "duration": 93,
    "start_time": "2023-04-20T16:01:15.802Z"
   },
   {
    "duration": 57,
    "start_time": "2023-04-20T16:01:15.897Z"
   },
   {
    "duration": 3,
    "start_time": "2023-04-20T16:01:15.956Z"
   },
   {
    "duration": 45,
    "start_time": "2023-04-20T16:01:15.960Z"
   },
   {
    "duration": 5,
    "start_time": "2023-04-20T16:01:16.007Z"
   },
   {
    "duration": 8,
    "start_time": "2023-04-20T16:01:16.094Z"
   },
   {
    "duration": 93,
    "start_time": "2023-04-20T16:01:16.104Z"
   },
   {
    "duration": 4,
    "start_time": "2023-04-20T16:01:16.199Z"
   },
   {
    "duration": 7,
    "start_time": "2023-04-20T16:01:16.205Z"
   },
   {
    "duration": 9,
    "start_time": "2023-04-20T16:01:16.214Z"
   },
   {
    "duration": 9,
    "start_time": "2023-04-20T16:01:16.225Z"
   },
   {
    "duration": 79,
    "start_time": "2023-04-20T16:01:16.236Z"
   },
   {
    "duration": 7,
    "start_time": "2023-04-20T16:01:16.317Z"
   },
   {
    "duration": 1594,
    "start_time": "2023-04-20T16:01:16.326Z"
   },
   {
    "duration": 1896,
    "start_time": "2023-04-20T16:01:17.922Z"
   },
   {
    "duration": 2020,
    "start_time": "2023-04-20T16:01:19.820Z"
   },
   {
    "duration": 323,
    "start_time": "2023-04-20T16:02:52.485Z"
   },
   {
    "duration": 61,
    "start_time": "2023-04-20T16:03:01.935Z"
   },
   {
    "duration": 398,
    "start_time": "2023-04-20T16:03:20.311Z"
   },
   {
    "duration": 405,
    "start_time": "2023-04-20T16:05:50.807Z"
   },
   {
    "duration": 1520,
    "start_time": "2023-04-20T16:06:40.884Z"
   },
   {
    "duration": 511,
    "start_time": "2023-04-20T16:06:42.408Z"
   },
   {
    "duration": 16,
    "start_time": "2023-04-20T16:06:42.921Z"
   },
   {
    "duration": 11,
    "start_time": "2023-04-20T16:06:42.938Z"
   },
   {
    "duration": 15,
    "start_time": "2023-04-20T16:06:42.952Z"
   },
   {
    "duration": 37,
    "start_time": "2023-04-20T16:06:42.969Z"
   },
   {
    "duration": 15,
    "start_time": "2023-04-20T16:06:43.008Z"
   },
   {
    "duration": 14,
    "start_time": "2023-04-20T16:06:43.025Z"
   },
   {
    "duration": 4,
    "start_time": "2023-04-20T16:06:43.041Z"
   },
   {
    "duration": 188,
    "start_time": "2023-04-20T16:06:43.046Z"
   },
   {
    "duration": 27,
    "start_time": "2023-04-20T16:06:43.236Z"
   },
   {
    "duration": 32,
    "start_time": "2023-04-20T16:06:43.266Z"
   },
   {
    "duration": 46,
    "start_time": "2023-04-20T16:06:43.300Z"
   },
   {
    "duration": 55,
    "start_time": "2023-04-20T16:06:43.349Z"
   },
   {
    "duration": 41,
    "start_time": "2023-04-20T16:06:43.405Z"
   },
   {
    "duration": 209,
    "start_time": "2023-04-20T16:06:43.447Z"
   },
   {
    "duration": 3,
    "start_time": "2023-04-20T16:06:43.658Z"
   },
   {
    "duration": 1069,
    "start_time": "2023-04-20T16:06:43.663Z"
   },
   {
    "duration": 135,
    "start_time": "2023-04-20T16:06:44.740Z"
   },
   {
    "duration": 7,
    "start_time": "2023-04-20T16:06:44.877Z"
   },
   {
    "duration": 42,
    "start_time": "2023-04-20T16:06:44.886Z"
   },
   {
    "duration": 3,
    "start_time": "2023-04-20T16:06:44.929Z"
   },
   {
    "duration": 66,
    "start_time": "2023-04-20T16:06:44.934Z"
   },
   {
    "duration": 6,
    "start_time": "2023-04-20T16:06:45.002Z"
   },
   {
    "duration": 85,
    "start_time": "2023-04-20T16:06:45.010Z"
   },
   {
    "duration": 14,
    "start_time": "2023-04-20T16:06:45.097Z"
   },
   {
    "duration": 407,
    "start_time": "2023-04-20T16:06:45.113Z"
   },
   {
    "duration": 74,
    "start_time": "2023-04-20T16:06:45.524Z"
   },
   {
    "duration": 13,
    "start_time": "2023-04-20T16:06:45.606Z"
   },
   {
    "duration": 10,
    "start_time": "2023-04-20T16:06:45.694Z"
   },
   {
    "duration": 4,
    "start_time": "2023-04-20T16:06:45.706Z"
   },
   {
    "duration": 29,
    "start_time": "2023-04-20T16:06:45.712Z"
   },
   {
    "duration": 17,
    "start_time": "2023-04-20T16:06:45.743Z"
   },
   {
    "duration": 1508,
    "start_time": "2023-04-20T16:06:45.762Z"
   },
   {
    "duration": 2046,
    "start_time": "2023-04-20T16:06:47.272Z"
   },
   {
    "duration": 2286,
    "start_time": "2023-04-20T16:06:49.321Z"
   },
   {
    "duration": 3,
    "start_time": "2023-04-20T16:09:35.588Z"
   },
   {
    "duration": 4,
    "start_time": "2023-04-20T16:09:36.488Z"
   },
   {
    "duration": 4,
    "start_time": "2023-04-20T16:11:53.591Z"
   },
   {
    "duration": 27,
    "start_time": "2023-04-20T16:11:54.910Z"
   },
   {
    "duration": 8,
    "start_time": "2023-04-20T16:12:09.284Z"
   },
   {
    "duration": 64,
    "start_time": "2023-04-20T16:12:28.494Z"
   },
   {
    "duration": 1328,
    "start_time": "2023-04-20T16:16:53.909Z"
   },
   {
    "duration": 1339,
    "start_time": "2023-04-20T16:16:57.433Z"
   },
   {
    "duration": 1601,
    "start_time": "2023-04-20T16:17:03.314Z"
   },
   {
    "duration": 1437,
    "start_time": "2023-04-20T16:26:44.485Z"
   },
   {
    "duration": 484,
    "start_time": "2023-04-20T16:26:45.924Z"
   },
   {
    "duration": 13,
    "start_time": "2023-04-20T16:26:46.410Z"
   },
   {
    "duration": 9,
    "start_time": "2023-04-20T16:26:46.425Z"
   },
   {
    "duration": 14,
    "start_time": "2023-04-20T16:26:46.436Z"
   },
   {
    "duration": 27,
    "start_time": "2023-04-20T16:26:46.452Z"
   },
   {
    "duration": 29,
    "start_time": "2023-04-20T16:26:46.480Z"
   },
   {
    "duration": 19,
    "start_time": "2023-04-20T16:26:46.511Z"
   },
   {
    "duration": 6,
    "start_time": "2023-04-20T16:26:46.532Z"
   },
   {
    "duration": 167,
    "start_time": "2023-04-20T16:26:46.539Z"
   },
   {
    "duration": 22,
    "start_time": "2023-04-20T16:26:46.708Z"
   },
   {
    "duration": 14,
    "start_time": "2023-04-20T16:26:46.732Z"
   },
   {
    "duration": 72,
    "start_time": "2023-04-20T16:26:46.748Z"
   },
   {
    "duration": 40,
    "start_time": "2023-04-20T16:26:46.823Z"
   },
   {
    "duration": 52,
    "start_time": "2023-04-20T16:26:46.865Z"
   },
   {
    "duration": 194,
    "start_time": "2023-04-20T16:26:46.919Z"
   },
   {
    "duration": 3,
    "start_time": "2023-04-20T16:26:47.115Z"
   },
   {
    "duration": 1060,
    "start_time": "2023-04-20T16:26:47.120Z"
   },
   {
    "duration": 154,
    "start_time": "2023-04-20T16:26:48.183Z"
   },
   {
    "duration": 5,
    "start_time": "2023-04-20T16:26:48.338Z"
   },
   {
    "duration": 30,
    "start_time": "2023-04-20T16:26:48.344Z"
   },
   {
    "duration": 2,
    "start_time": "2023-04-20T16:26:48.376Z"
   },
   {
    "duration": 22,
    "start_time": "2023-04-20T16:26:48.392Z"
   },
   {
    "duration": 79,
    "start_time": "2023-04-20T16:26:48.416Z"
   },
   {
    "duration": 96,
    "start_time": "2023-04-20T16:26:48.498Z"
   },
   {
    "duration": 6,
    "start_time": "2023-04-20T16:26:48.598Z"
   },
   {
    "duration": 302,
    "start_time": "2023-04-20T16:26:48.606Z"
   },
   {
    "duration": 5,
    "start_time": "2023-04-20T16:26:48.911Z"
   },
   {
    "duration": 77,
    "start_time": "2023-04-20T16:26:48.918Z"
   },
   {
    "duration": 11,
    "start_time": "2023-04-20T16:26:48.997Z"
   },
   {
    "duration": 82,
    "start_time": "2023-04-20T16:26:49.010Z"
   },
   {
    "duration": 153,
    "start_time": "2023-04-20T16:26:49.095Z"
   },
   {
    "duration": 0,
    "start_time": "2023-04-20T16:26:49.250Z"
   },
   {
    "duration": 0,
    "start_time": "2023-04-20T16:26:49.252Z"
   },
   {
    "duration": 0,
    "start_time": "2023-04-20T16:26:49.254Z"
   },
   {
    "duration": 0,
    "start_time": "2023-04-20T16:26:49.255Z"
   },
   {
    "duration": 21,
    "start_time": "2023-04-20T16:27:28.143Z"
   },
   {
    "duration": 11,
    "start_time": "2023-04-20T16:28:13.688Z"
   },
   {
    "duration": 6,
    "start_time": "2023-04-20T16:28:16.151Z"
   },
   {
    "duration": 1322,
    "start_time": "2023-04-20T16:28:17.096Z"
   },
   {
    "duration": 1316,
    "start_time": "2023-04-20T16:28:26.334Z"
   },
   {
    "duration": 1414,
    "start_time": "2023-04-20T16:28:31.211Z"
   },
   {
    "duration": 7,
    "start_time": "2023-04-20T16:31:35.340Z"
   },
   {
    "duration": 1585,
    "start_time": "2023-04-20T16:31:37.918Z"
   },
   {
    "duration": 6,
    "start_time": "2023-04-20T16:32:50.021Z"
   },
   {
    "duration": 1508,
    "start_time": "2023-04-20T16:32:52.346Z"
   },
   {
    "duration": 9,
    "start_time": "2023-04-20T16:33:00.115Z"
   },
   {
    "duration": 1446,
    "start_time": "2023-04-20T16:33:01.849Z"
   },
   {
    "duration": 7,
    "start_time": "2023-04-20T16:33:16.019Z"
   },
   {
    "duration": 1387,
    "start_time": "2023-04-20T16:33:18.209Z"
   },
   {
    "duration": 1443,
    "start_time": "2023-04-20T16:33:25.192Z"
   },
   {
    "duration": 1373,
    "start_time": "2023-04-20T16:33:29.320Z"
   },
   {
    "duration": 7,
    "start_time": "2023-04-20T16:34:04.388Z"
   },
   {
    "duration": 1512,
    "start_time": "2023-04-20T16:34:06.915Z"
   },
   {
    "duration": 117,
    "start_time": "2023-04-20T16:34:14.945Z"
   },
   {
    "duration": 1384,
    "start_time": "2023-04-20T16:34:16.945Z"
   }
  ],
  "kernelspec": {
   "display_name": "Python 3 (ipykernel)",
   "language": "python",
   "name": "python3"
  },
  "language_info": {
   "codemirror_mode": {
    "name": "ipython",
    "version": 3
   },
   "file_extension": ".py",
   "mimetype": "text/x-python",
   "name": "python",
   "nbconvert_exporter": "python",
   "pygments_lexer": "ipython3",
   "version": "3.9.15"
  },
  "toc": {
   "base_numbering": 1,
   "nav_menu": {},
   "number_sections": true,
   "sideBar": true,
   "skip_h1_title": true,
   "title_cell": "Table of Contents",
   "title_sidebar": "Contents",
   "toc_cell": true,
   "toc_position": {
    "height": "calc(100% - 180px)",
    "left": "10px",
    "top": "150px",
    "width": "205.938px"
   },
   "toc_section_display": true,
   "toc_window_display": true
  }
 },
 "nbformat": 4,
 "nbformat_minor": 5
}
