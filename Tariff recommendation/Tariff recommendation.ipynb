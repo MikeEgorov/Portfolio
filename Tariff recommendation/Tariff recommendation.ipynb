{
 "cells": [
  {
   "cell_type": "markdown",
   "id": "c92b3b82",
   "metadata": {
    "toc": true
   },
   "source": [
    "<h1>Table of Contents<span class=\"tocSkip\"></span></h1>\n",
    "<div class=\"toc\"><ul class=\"toc-item\"><li><span><a href=\"#Знакомство-с-данными.\" data-toc-modified-id=\"Знакомство-с-данными.-1\"><span class=\"toc-item-num\">1&nbsp;&nbsp;</span>Знакомство с данными.</a></span></li><li><span><a href=\"#Разделение-данных-на-выборки.\" data-toc-modified-id=\"Разделение-данных-на-выборки.-2\"><span class=\"toc-item-num\">2&nbsp;&nbsp;</span>Разделение данных на выборки.</a></span></li><li><span><a href=\"#Исследование-качества-разных-типов-моделей-с-подбором-гиперпараметров.\" data-toc-modified-id=\"Исследование-качества-разных-типов-моделей-с-подбором-гиперпараметров.-3\"><span class=\"toc-item-num\">3&nbsp;&nbsp;</span>Исследование качества разных типов моделей с подбором гиперпараметров.</a></span></li><li><span><a href=\"#Проверка-выбранной-модели-на-тестовой-выборке.\" data-toc-modified-id=\"Проверка-выбранной-модели-на-тестовой-выборке.-4\"><span class=\"toc-item-num\">4&nbsp;&nbsp;</span>Проверка выбранной модели на тестовой выборке.</a></span></li><li><span><a href=\"#Проверка-модели-на-вменяемость.\" data-toc-modified-id=\"Проверка-модели-на-вменяемость.-5\"><span class=\"toc-item-num\">5&nbsp;&nbsp;</span>Проверка модели на вменяемость.</a></span></li><li><span><a href=\"#Общий-вывод-по-исследованию:\" data-toc-modified-id=\"Общий-вывод-по-исследованию:-6\"><span class=\"toc-item-num\">6&nbsp;&nbsp;</span>Общий вывод по исследованию:</a></span></li></ul></div>"
   ]
  },
  {
   "cell_type": "markdown",
   "id": "c763e03a",
   "metadata": {},
   "source": [
    "<div class=\"alert alert-info\"><b>Описание проекта:</b>\n",
    "   \n",
    "# \"Подбор нового тарифа для клиентов с архивными тарифами\"\n",
    "\n",
    "***\n",
    "\n",
    "**Цели проекта:**\n",
    "- рекомендовать пользователям архивных тарифов переход на новые тарифы: «Смарт» или «Ультра».\n",
    "    \n",
    "***\n",
    "    \n",
    "**Задачи исследования:**\n",
    "- проанализировать поведение клиентов, которые уже перешли на новые тарифы;\n",
    "- по результатам проведенного анализа данных построить модель (со значением accuracy не менее 0.75), которая поможет выбрать подходящий тариф для клиентов на архивном тарифе, для последующей рекомендации этого тарифа клиенту;\n",
    "- проверка выбранной модели на вменяемость.\n",
    "    \n",
    "***\n",
    "    \n",
    "**Этапы исследования:**\n",
    "- знакомство с данными;\n",
    "- разделение данных на выборки;\n",
    "- исследование качества разных типов моделей с подбором гиперпараметров;\n",
    "- проверка выбранной модели на тестовой выборке;\n",
    "- проверка модели на вменяемость.\n",
    "    \n",
    "***\n",
    "\n",
    "<b>Описание данных</b>\n",
    "<br>Каждый объект в наборе данных — это информация о поведении одного пользователя за месяц. \n",
    "<br>Известно:\n",
    "* сalls — количество звонков,\n",
    "* minutes — суммарная длительность звонков в минутах,\n",
    "* messages — количество sms-сообщений,\n",
    "* mb_used — израсходованный интернет-трафик в Мб,\n",
    "* is_ultra — каким тарифом пользовался в течение месяца («Ультра» — 1, «Смарт» — 0).    \n",
    "    \n",
    "***  \n",
    "    \n",
    "В сооветствии с условиями построим модель для задачи классификации с учителем.\n",
    "    \n",
    "</div>"
   ]
  },
  {
   "cell_type": "markdown",
   "id": "6940f766",
   "metadata": {},
   "source": [
    "***"
   ]
  },
  {
   "cell_type": "markdown",
   "id": "afb0e699",
   "metadata": {},
   "source": [
    "### Знакомство с данными."
   ]
  },
  {
   "cell_type": "code",
   "execution_count": 1,
   "id": "47d4c523",
   "metadata": {},
   "outputs": [],
   "source": [
    "import warnings\n",
    "\n",
    "import pandas as pd\n",
    "\n",
    "from sklearn.tree import DecisionTreeClassifier\n",
    "from sklearn.ensemble import RandomForestClassifier\n",
    "from sklearn.linear_model import LogisticRegression\n",
    "from sklearn.metrics import accuracy_score, confusion_matrix, ConfusionMatrixDisplay\n",
    "from sklearn.model_selection import train_test_split\n",
    "from sklearn.dummy import DummyClassifier\n",
    "import seaborn as sns\n",
    "\n",
    "# Избавляемся от вывода предупреждений\n",
    "warnings.simplefilter(\"ignore\")\n",
    "\n",
    "# Отображение всех колонок\n",
    "pd.set_option('display.max_columns', None)"
   ]
  },
  {
   "cell_type": "code",
   "execution_count": 2,
   "id": "29de0262",
   "metadata": {},
   "outputs": [
    {
     "data": {
      "text/html": [
       "<div>\n",
       "<style scoped>\n",
       "    .dataframe tbody tr th:only-of-type {\n",
       "        vertical-align: middle;\n",
       "    }\n",
       "\n",
       "    .dataframe tbody tr th {\n",
       "        vertical-align: top;\n",
       "    }\n",
       "\n",
       "    .dataframe thead th {\n",
       "        text-align: right;\n",
       "    }\n",
       "</style>\n",
       "<table border=\"1\" class=\"dataframe\">\n",
       "  <thead>\n",
       "    <tr style=\"text-align: right;\">\n",
       "      <th></th>\n",
       "      <th>calls</th>\n",
       "      <th>minutes</th>\n",
       "      <th>messages</th>\n",
       "      <th>mb_used</th>\n",
       "      <th>is_ultra</th>\n",
       "    </tr>\n",
       "  </thead>\n",
       "  <tbody>\n",
       "    <tr>\n",
       "      <th>0</th>\n",
       "      <td>40.0</td>\n",
       "      <td>311.90</td>\n",
       "      <td>83.0</td>\n",
       "      <td>19915.42</td>\n",
       "      <td>0</td>\n",
       "    </tr>\n",
       "    <tr>\n",
       "      <th>1</th>\n",
       "      <td>85.0</td>\n",
       "      <td>516.75</td>\n",
       "      <td>56.0</td>\n",
       "      <td>22696.96</td>\n",
       "      <td>0</td>\n",
       "    </tr>\n",
       "    <tr>\n",
       "      <th>2</th>\n",
       "      <td>77.0</td>\n",
       "      <td>467.66</td>\n",
       "      <td>86.0</td>\n",
       "      <td>21060.45</td>\n",
       "      <td>0</td>\n",
       "    </tr>\n",
       "    <tr>\n",
       "      <th>3</th>\n",
       "      <td>106.0</td>\n",
       "      <td>745.53</td>\n",
       "      <td>81.0</td>\n",
       "      <td>8437.39</td>\n",
       "      <td>1</td>\n",
       "    </tr>\n",
       "    <tr>\n",
       "      <th>4</th>\n",
       "      <td>66.0</td>\n",
       "      <td>418.74</td>\n",
       "      <td>1.0</td>\n",
       "      <td>14502.75</td>\n",
       "      <td>0</td>\n",
       "    </tr>\n",
       "  </tbody>\n",
       "</table>\n",
       "</div>"
      ],
      "text/plain": [
       "   calls  minutes  messages   mb_used  is_ultra\n",
       "0   40.0   311.90      83.0  19915.42         0\n",
       "1   85.0   516.75      56.0  22696.96         0\n",
       "2   77.0   467.66      86.0  21060.45         0\n",
       "3  106.0   745.53      81.0   8437.39         1\n",
       "4   66.0   418.74       1.0  14502.75         0"
      ]
     },
     "execution_count": 2,
     "metadata": {},
     "output_type": "execute_result"
    }
   ],
   "source": [
    "# Открываем файл с датасетом, выводим первые 5 строк.\n",
    "\n",
    "try:\n",
    "    data = pd.read_csv('C:/Датасеты и проекты/users_behavior.csv')\n",
    "except:\n",
    "    data = pd.read_csv('/datasets/users_behavior.csv')\n",
    "    \n",
    "data.head()"
   ]
  },
  {
   "cell_type": "code",
   "execution_count": 3,
   "id": "6f40acff",
   "metadata": {},
   "outputs": [
    {
     "name": "stdout",
     "output_type": "stream",
     "text": [
      "<class 'pandas.core.frame.DataFrame'>\n",
      "RangeIndex: 3214 entries, 0 to 3213\n",
      "Data columns (total 5 columns):\n",
      " #   Column    Non-Null Count  Dtype  \n",
      "---  ------    --------------  -----  \n",
      " 0   calls     3214 non-null   float64\n",
      " 1   minutes   3214 non-null   float64\n",
      " 2   messages  3214 non-null   float64\n",
      " 3   mb_used   3214 non-null   float64\n",
      " 4   is_ultra  3214 non-null   int64  \n",
      "dtypes: float64(4), int64(1)\n",
      "memory usage: 125.7 KB\n"
     ]
    }
   ],
   "source": [
    "# Получаем информацию о датасете.\n",
    "data.info()"
   ]
  },
  {
   "cell_type": "code",
   "execution_count": 4,
   "id": "e1d786cc",
   "metadata": {},
   "outputs": [
    {
     "data": {
      "text/plain": [
       "(3214, 5)"
      ]
     },
     "execution_count": 4,
     "metadata": {},
     "output_type": "execute_result"
    }
   ],
   "source": [
    "# Узнаем количество строк и столбцов в датафрейме.\n",
    "data.shape"
   ]
  },
  {
   "cell_type": "code",
   "execution_count": 5,
   "id": "8763759e",
   "metadata": {},
   "outputs": [
    {
     "data": {
      "text/plain": [
       "calls       0\n",
       "minutes     0\n",
       "messages    0\n",
       "mb_used     0\n",
       "is_ultra    0\n",
       "dtype: int64"
      ]
     },
     "execution_count": 5,
     "metadata": {},
     "output_type": "execute_result"
    }
   ],
   "source": [
    "# Выводим количество пропущенных значений для каждого признака.\n",
    "data.isna().sum()"
   ]
  },
  {
   "cell_type": "markdown",
   "id": "6a7e3d06",
   "metadata": {},
   "source": [
    " <div class=\"alert alert-info\"><b>Наблюдения:</b>\n",
    "   \n",
    "Пропусков среди признаков не имеется.\n",
    "</div>"
   ]
  },
  {
   "cell_type": "code",
   "execution_count": 6,
   "id": "eac571f6",
   "metadata": {},
   "outputs": [
    {
     "data": {
      "image/png": "[encoded data removed]",
      "text/plain": [
       "<Figure size 640x480 with 2 Axes>"
      ]
     },
     "metadata": {},
     "output_type": "display_data"
    }
   ],
   "source": [
    "# Построим матрицу корреляции признаков.\n",
    "sns.heatmap(data.corr(), annot=True, cmap='coolwarm');"
   ]
  },
  {
   "cell_type": "markdown",
   "id": "0d40c2eb",
   "metadata": {},
   "source": [
    " <div class=\"alert alert-info\"><b>Наблюдения:</b>\n",
    "   \n",
    "Явных зависимостей между признаками (за исключением calls и minutes, что в принципе логично) не прослеживается.\n",
    "</div>"
   ]
  },
  {
   "cell_type": "code",
   "execution_count": 7,
   "id": "c2ea4bc5",
   "metadata": {},
   "outputs": [
    {
     "data": {
      "text/html": [
       "<div>\n",
       "<style scoped>\n",
       "    .dataframe tbody tr th:only-of-type {\n",
       "        vertical-align: middle;\n",
       "    }\n",
       "\n",
       "    .dataframe tbody tr th {\n",
       "        vertical-align: top;\n",
       "    }\n",
       "\n",
       "    .dataframe thead th {\n",
       "        text-align: right;\n",
       "    }\n",
       "</style>\n",
       "<table border=\"1\" class=\"dataframe\">\n",
       "  <thead>\n",
       "    <tr style=\"text-align: right;\">\n",
       "      <th></th>\n",
       "      <th>calls</th>\n",
       "      <th>minutes</th>\n",
       "      <th>messages</th>\n",
       "      <th>mb_used</th>\n",
       "      <th>is_ultra</th>\n",
       "    </tr>\n",
       "  </thead>\n",
       "  <tbody>\n",
       "    <tr>\n",
       "      <th>count</th>\n",
       "      <td>3214.000000</td>\n",
       "      <td>3214.000000</td>\n",
       "      <td>3214.000000</td>\n",
       "      <td>3214.000000</td>\n",
       "      <td>3214.000000</td>\n",
       "    </tr>\n",
       "    <tr>\n",
       "      <th>mean</th>\n",
       "      <td>63.038892</td>\n",
       "      <td>438.208787</td>\n",
       "      <td>38.281269</td>\n",
       "      <td>17207.673836</td>\n",
       "      <td>0.306472</td>\n",
       "    </tr>\n",
       "    <tr>\n",
       "      <th>std</th>\n",
       "      <td>33.236368</td>\n",
       "      <td>234.569872</td>\n",
       "      <td>36.148326</td>\n",
       "      <td>7570.968246</td>\n",
       "      <td>0.461100</td>\n",
       "    </tr>\n",
       "    <tr>\n",
       "      <th>min</th>\n",
       "      <td>0.000000</td>\n",
       "      <td>0.000000</td>\n",
       "      <td>0.000000</td>\n",
       "      <td>0.000000</td>\n",
       "      <td>0.000000</td>\n",
       "    </tr>\n",
       "    <tr>\n",
       "      <th>25%</th>\n",
       "      <td>40.000000</td>\n",
       "      <td>274.575000</td>\n",
       "      <td>9.000000</td>\n",
       "      <td>12491.902500</td>\n",
       "      <td>0.000000</td>\n",
       "    </tr>\n",
       "    <tr>\n",
       "      <th>50%</th>\n",
       "      <td>62.000000</td>\n",
       "      <td>430.600000</td>\n",
       "      <td>30.000000</td>\n",
       "      <td>16943.235000</td>\n",
       "      <td>0.000000</td>\n",
       "    </tr>\n",
       "    <tr>\n",
       "      <th>75%</th>\n",
       "      <td>82.000000</td>\n",
       "      <td>571.927500</td>\n",
       "      <td>57.000000</td>\n",
       "      <td>21424.700000</td>\n",
       "      <td>1.000000</td>\n",
       "    </tr>\n",
       "    <tr>\n",
       "      <th>max</th>\n",
       "      <td>244.000000</td>\n",
       "      <td>1632.060000</td>\n",
       "      <td>224.000000</td>\n",
       "      <td>49745.730000</td>\n",
       "      <td>1.000000</td>\n",
       "    </tr>\n",
       "  </tbody>\n",
       "</table>\n",
       "</div>"
      ],
      "text/plain": [
       "             calls      minutes     messages       mb_used     is_ultra\n",
       "count  3214.000000  3214.000000  3214.000000   3214.000000  3214.000000\n",
       "mean     63.038892   438.208787    38.281269  17207.673836     0.306472\n",
       "std      33.236368   234.569872    36.148326   7570.968246     0.461100\n",
       "min       0.000000     0.000000     0.000000      0.000000     0.000000\n",
       "25%      40.000000   274.575000     9.000000  12491.902500     0.000000\n",
       "50%      62.000000   430.600000    30.000000  16943.235000     0.000000\n",
       "75%      82.000000   571.927500    57.000000  21424.700000     1.000000\n",
       "max     244.000000  1632.060000   224.000000  49745.730000     1.000000"
      ]
     },
     "execution_count": 7,
     "metadata": {},
     "output_type": "execute_result"
    }
   ],
   "source": [
    "# Посмотрим распределение численных значений признаков.\n",
    "data.describe()"
   ]
  },
  {
   "cell_type": "markdown",
   "id": "fc0e7cc3",
   "metadata": {},
   "source": [
    " <div class=\"alert alert-info\"><b>Наблюдения:</b>\n",
    "   \n",
    "Прослеживается неравномерное распределение значений столбца 'is_ultra'."
   ]
  },
  {
   "cell_type": "code",
   "execution_count": 8,
   "id": "be7b7182",
   "metadata": {},
   "outputs": [
    {
     "data": {
      "image/png": "[encoded data removed]",
      "text/plain": [
       "<Figure size 500x300 with 1 Axes>"
      ]
     },
     "metadata": {},
     "output_type": "display_data"
    }
   ],
   "source": [
    "# Посмотрим распределение значений столбца 'is_ultra' на графике.\n",
    "data['is_ultra'].hist(bins=3, range = (0, 1), figsize=(5, 3));"
   ]
  },
  {
   "cell_type": "code",
   "execution_count": 9,
   "id": "461558b2",
   "metadata": {},
   "outputs": [
    {
     "data": {
      "text/plain": [
       "0    0.693528\n",
       "1    0.306472\n",
       "Name: is_ultra, dtype: float64"
      ]
     },
     "execution_count": 9,
     "metadata": {},
     "output_type": "execute_result"
    }
   ],
   "source": [
    "data['is_ultra'].value_counts(normalize=True)"
   ]
  },
  {
   "cell_type": "markdown",
   "id": "214934ce",
   "metadata": {},
   "source": [
    " <div class=\"alert alert-info\"><b>Наблюдения:</b>\n",
    "   \n",
    "Прослеживается несбалансированность классов в целевом признаке (столбец 'is_ultra').\n",
    "</div>"
   ]
  },
  {
   "cell_type": "markdown",
   "id": "d7840849",
   "metadata": {},
   "source": [
    "***"
   ]
  },
  {
   "cell_type": "markdown",
   "id": "f091b3d0",
   "metadata": {},
   "source": [
    "### Разделение данных на выборки."
   ]
  },
  {
   "cell_type": "code",
   "execution_count": 10,
   "id": "ba9870a4",
   "metadata": {},
   "outputs": [],
   "source": [
    "# Разделим исходные данные на обучающую, валидационную и тестовую выборки из расчета 60% - 20% - 20% соответственно.\n",
    "data_train, data_valid = train_test_split(data, test_size=0.40, random_state=12345, stratify = data['is_ultra'])\n",
    "data_valid, data_test = train_test_split(data_valid, test_size=0.50, random_state=12345)"
   ]
  },
  {
   "cell_type": "markdown",
   "id": "78e904e0",
   "metadata": {},
   "source": [
    " <div class=\"alert alert-info\"><b>Комментарий:</b>\n",
    "   \n",
    "Выберем в качестве целевого признака столбец 'is_ultra'. Сформируем обучающий, валидационный и тестовый датасеты.\n",
    "</div>"
   ]
  },
  {
   "cell_type": "code",
   "execution_count": 11,
   "id": "1a149e02",
   "metadata": {},
   "outputs": [],
   "source": [
    "features_train = data_train.drop(['is_ultra'], axis=1)\n",
    "target_train = data_train['is_ultra']\n",
    "\n",
    "features_valid = data_valid.drop(['is_ultra'], axis=1)\n",
    "target_valid = data_valid['is_ultra']\n",
    "\n",
    "features_test = data_test.drop(['is_ultra'], axis=1)\n",
    "target_test = data_test['is_ultra']"
   ]
  },
  {
   "cell_type": "code",
   "execution_count": 12,
   "id": "94587908",
   "metadata": {},
   "outputs": [
    {
     "name": "stdout",
     "output_type": "stream",
     "text": [
      "(1928, 4)\n",
      "(1928,)\n"
     ]
    }
   ],
   "source": [
    "# Узнаем количество строк в обучающей выборке.\n",
    "print(features_train.shape)\n",
    "print(target_train.shape)"
   ]
  },
  {
   "cell_type": "code",
   "execution_count": 13,
   "id": "f69d5248",
   "metadata": {},
   "outputs": [
    {
     "name": "stdout",
     "output_type": "stream",
     "text": [
      "(643, 4)\n",
      "(643,)\n"
     ]
    }
   ],
   "source": [
    "# Узнаем количество строк в валидационной выборке.\n",
    "print(features_valid.shape)\n",
    "print(target_valid.shape)"
   ]
  },
  {
   "cell_type": "code",
   "execution_count": 14,
   "id": "132c9fa0",
   "metadata": {},
   "outputs": [
    {
     "name": "stdout",
     "output_type": "stream",
     "text": [
      "(643, 4)\n",
      "(643,)\n"
     ]
    }
   ],
   "source": [
    "# Узнаем количество строк в тестовой выборке.\n",
    "print(features_test.shape)\n",
    "print(target_test.shape)"
   ]
  },
  {
   "cell_type": "markdown",
   "id": "a0bbaa41",
   "metadata": {},
   "source": [
    "***"
   ]
  },
  {
   "cell_type": "markdown",
   "id": "655c2e01",
   "metadata": {},
   "source": [
    "### Исследование качества разных типов моделей с подбором гиперпараметров."
   ]
  },
  {
   "cell_type": "code",
   "execution_count": 15,
   "id": "4f57dd06",
   "metadata": {},
   "outputs": [
    {
     "name": "stdout",
     "output_type": "stream",
     "text": [
      "Accuracy наилучшей модели на валидационной выборке: 0.8180404354587869\n",
      "Максимальная глубина: 6\n",
      "максимальное количество листьев в дереве: 11\n",
      "Wall time: 2.96 s\n"
     ]
    }
   ],
   "source": [
    "%%time\n",
    "\n",
    "# Исследуем качество модели \"дерево решений\".\n",
    "best_model_tree = None\n",
    "best_result_tree = 0\n",
    "best_depth_tree = 0\n",
    "best_max_leaf_nodes = 0\n",
    "\n",
    "for depth in range(1, 11):\n",
    "    for nodes in range(2, 50):    \n",
    "        model_1 = DecisionTreeClassifier(random_state=12345, max_depth=depth, max_leaf_nodes=nodes)\n",
    "        model_1.fit(features_train, target_train)\n",
    "        predictions_valid = model_1.predict(features_valid) # < найдите предсказания на валидационной выборке >\n",
    "        result = accuracy_score(target_valid, predictions_valid)\n",
    "        if result > best_result_tree:\n",
    "            best_model_tree = model_1\n",
    "            best_result_tree = result #  сохраните наилучшее значение метрики accuracy на валидационных данных\n",
    "            best_depth_tree = depth\n",
    "            best_max_leaf_nodes = nodes\n",
    "\n",
    "print('Accuracy наилучшей модели на валидационной выборке:', best_result_tree)\n",
    "print('Максимальная глубина:', best_depth_tree)\n",
    "print('максимальное количество листьев в дереве:', best_max_leaf_nodes)"
   ]
  },
  {
   "cell_type": "markdown",
   "id": "b133f402",
   "metadata": {},
   "source": [
    " <div class=\"alert alert-info\"><b>Комментарий:</b>\n",
    "   \n",
    "Получили максимальное значение Accuracy на валидационной выборке у модели \"дерево решений\" - 0.8180404354587869, удовлетворяющее условию задачи (не менее 0.75), при максимальной глубине дерева: 6 и с максимальным количеством листьев в дереве: 11.\n",
    "</div>"
   ]
  },
  {
   "cell_type": "code",
   "execution_count": 16,
   "id": "2d75c90e",
   "metadata": {},
   "outputs": [
    {
     "name": "stdout",
     "output_type": "stream",
     "text": [
      "Accuracy наилучшей модели на валидационной выборке: 0.8242612752721618\n",
      "Количество деревьев: 30\n",
      "Максимальная глубина: 8\n",
      "Wall time: 4.33 s\n"
     ]
    }
   ],
   "source": [
    "%%time\n",
    "\n",
    "# Исследуем качество модели \"случайный лес\".\n",
    "best_model_forest = None\n",
    "best_result_forest = 0\n",
    "best_est_forest = 0\n",
    "best_depth_forest = 0\n",
    "\n",
    "for est in range(10, 51, 10):\n",
    "    for depth in range (1, 11):\n",
    "        model_2 = RandomForestClassifier(random_state=12345, n_estimators=est, max_depth=depth)  \n",
    "        model_2.fit(features_train, target_train)\n",
    "        result = model_2.score(features_valid, target_valid)\n",
    "        if result > best_result_forest:\n",
    "            best_model_forest = model_2\n",
    "            best_result_forest = result\n",
    "            best_est_forest = est\n",
    "            best_depth_forest = depth\n",
    "\n",
    "print(\"Accuracy наилучшей модели на валидационной выборке:\", best_result_forest) \n",
    "print(\"Количество деревьев:\", best_est_forest)\n",
    "print(\"Максимальная глубина:\", best_depth_forest)"
   ]
  },
  {
   "cell_type": "markdown",
   "id": "66369789",
   "metadata": {},
   "source": [
    " <div class=\"alert alert-info\"><b>Комментарий:</b>\n",
    "   \n",
    "Получили максимальное значение Accuracy на валидационной выборке у модели \"случайный лес\" - 0.8242612752721618, удовлетворяющее условию задачи (не менее 0.75), с количеством деревьев: 30 и при максимальной глубине дерева: 8.\n",
    "</div>"
   ]
  },
  {
   "cell_type": "code",
   "execution_count": 17,
   "id": "54091d7c",
   "metadata": {},
   "outputs": [
    {
     "name": "stdout",
     "output_type": "stream",
     "text": [
      "Accuracy наилучшей модели на валидационной выборке: 0.7371695178849145\n",
      "Наилучшее значение параметра solver: newton-cg\n",
      "Wall time: 295 ms\n"
     ]
    }
   ],
   "source": [
    "%%time\n",
    "\n",
    "# Исследуем качество модели \"логистическая регрессия\".\n",
    "best_model_logistic = None\n",
    "best_result_logistic = 0\n",
    "best_solver_logistic = ''\n",
    "\n",
    "solvers = ['newton-cg', 'lbfgs', 'liblinear', 'sag', 'saga']\n",
    "\n",
    "for solver in solvers:\n",
    "    model_3 = LogisticRegression(random_state=12345, solver=solver).fit(features_train, target_train)    \n",
    "    result = model_3.score(features_valid, target_valid)\n",
    "    if result > best_result_logistic:\n",
    "        best_model_logistic = model_3\n",
    "        best_result_logistic = result\n",
    "        best_solver_logistic = solver\n",
    "        \n",
    "print(\"Accuracy наилучшей модели на валидационной выборке:\", best_result_logistic) \n",
    "print(\"Наилучшее значение параметра solver:\", best_solver_logistic)"
   ]
  },
  {
   "cell_type": "markdown",
   "id": "80a3d6d5",
   "metadata": {},
   "source": [
    " <div class=\"alert alert-info\"><b>Комментарий:</b>\n",
    "   \n",
    "Получили максимальное значение Accuracy на валидационной выборке у модели \"логистическая регрессия\" - 0.7371695178849145, не удовлетворяющее условию задачи (не менее 0.75), с наилучшим значением параметра solver: 'newton-cg'.  \n",
    "Указанную модель не применяем.\n",
    "</div>"
   ]
  },
  {
   "cell_type": "markdown",
   "id": "5336d108",
   "metadata": {},
   "source": [
    " <div class=\"alert alert-info\"><b>Вывод по результатам оценки моделей:</b>\n",
    "   \n",
    "* По итогам сравнения качества разных моделей с учетом их гиперпараметров максимальное значение Accuracy на валидационной выборке у модели \"случайный лес\" - 0.8242612752721618 (с количеством деревьев: 30 и при максимальной глубине дерева: 8), поэтому именно ее применим к тестовой выборке. \n",
    "\n",
    "</div>"
   ]
  },
  {
   "cell_type": "markdown",
   "id": "faac2919",
   "metadata": {},
   "source": [
    "***"
   ]
  },
  {
   "cell_type": "markdown",
   "id": "47286a65",
   "metadata": {},
   "source": [
    "### Проверка выбранной модели на тестовой выборке."
   ]
  },
  {
   "cell_type": "code",
   "execution_count": 18,
   "id": "6e80b91b",
   "metadata": {},
   "outputs": [
    {
     "name": "stdout",
     "output_type": "stream",
     "text": [
      "Accuracy на тестовой выборке: 0.8009331259720062\n"
     ]
    }
   ],
   "source": [
    "# Применим модель \"случайный лес\" к тестовой выборке.\n",
    "print(\"Accuracy на тестовой выборке:\", best_model_forest.score(features_test, target_test))"
   ]
  },
  {
   "cell_type": "markdown",
   "id": "7457c817",
   "metadata": {},
   "source": [
    " <div class=\"alert alert-info\"><b>Промежуточный вывод:</b>\n",
    "   \n",
    "Accuracy на тестовой выборке удовлетворяет условию задачи (не менее 0.75) и составляет - 0.8009331259720062.  \n",
    "Таким образом, лучшей моделью является RandomForestClassifier (\"случайный лес\") с количеством деревьев: 30 и при максимальной глубине дерева: 8.   \n",
    "Указанную модель можно применять.\n",
    "</div>"
   ]
  },
  {
   "cell_type": "markdown",
   "id": "c52259f6",
   "metadata": {},
   "source": [
    "***"
   ]
  },
  {
   "cell_type": "markdown",
   "id": "1b808439",
   "metadata": {},
   "source": [
    "### Проверка модели на вменяемость."
   ]
  },
  {
   "cell_type": "code",
   "execution_count": 19,
   "id": "74bd8324",
   "metadata": {},
   "outputs": [
    {
     "name": "stdout",
     "output_type": "stream",
     "text": [
      "Accuracy наилучшей модели на валидационной выборке: 0.6920684292379471\n",
      "Наилучшее значение параметра strategy: most_frequent\n"
     ]
    }
   ],
   "source": [
    "# Проверка модели на вменяемость. Используем для этого модель DummyClassifier.\n",
    "# Исследуем качество модели \"DummyClassifier\".\n",
    "\n",
    "best_model_dummy = None\n",
    "best_result_dummy = 0\n",
    "best_strategy_dummy = ''\n",
    "\n",
    "strategies = ['most_frequent', 'prior', 'stratified', 'uniform']\n",
    "\n",
    "for strategy in strategies:\n",
    "    model_4 = DummyClassifier(strategy=strategy, random_state=12345).fit(features_train, target_train)    \n",
    "    result = model_4.score(features_valid, target_valid)\n",
    "    if result > best_result_dummy:\n",
    "        best_model_dummy = model_4\n",
    "        best_result_dummy = result\n",
    "        best_strategy_dummy = strategy\n",
    "        \n",
    "\n",
    "print(\"Accuracy наилучшей модели на валидационной выборке:\", best_result_dummy) \n",
    "print(\"Наилучшее значение параметра strategy:\", best_strategy_dummy)      "
   ]
  },
  {
   "cell_type": "code",
   "execution_count": 20,
   "id": "9203d17c",
   "metadata": {},
   "outputs": [
    {
     "name": "stdout",
     "output_type": "stream",
     "text": [
      "Значение accuracy модели DummyClassifier: 0.6951788491446346\n"
     ]
    }
   ],
   "source": [
    "# Проверим качество модели \"DummyClassifier\" на тестовой выборке.\n",
    "print(\"Значение accuracy модели DummyClassifier:\", best_model_dummy.score(features_test, target_test))   "
   ]
  },
  {
   "cell_type": "code",
   "execution_count": 21,
   "id": "17977df6",
   "metadata": {
    "scrolled": false
   },
   "outputs": [
    {
     "data": {
      "image/png": "[encoded data removed]",
      "text/plain": [
       "<Figure size 640x480 with 2 Axes>"
      ]
     },
     "metadata": {},
     "output_type": "display_data"
    }
   ],
   "source": [
    "# Построим Confusion Matrix по модели RandomForestClassifier ко всему датасету. \n",
    "\n",
    "y_actual = list(data['is_ultra'])\n",
    "y_predicted = model_2.predict(data.drop(['is_ultra'], axis=1))\n",
    "\n",
    "c_matrix = confusion_matrix(y_actual, y_predicted)\n",
    "cm_display = ConfusionMatrixDisplay(c_matrix).plot()"
   ]
  },
  {
   "cell_type": "markdown",
   "id": "678b47ce",
   "metadata": {},
   "source": [
    "<div class=\"alert alert-info\"><b>Комментарий:</b>\n",
    "\n",
    "По итогам применения матрицы ошибок наблюдаем следующее:\n",
    "- 2164 предсказания были истинно негативными,\n",
    "- 598 предсказаний были истинно позитивными,\n",
    "- 65 предсказаний были ошибочно позитивными,\n",
    "- 387 предсказаний были ошибочно негативными.\n",
    "\n",
    "Модель показывает ошибки при предсказании негативных признаков.\n",
    "    \n",
    "</div>"
   ]
  },
  {
   "cell_type": "markdown",
   "id": "67f15fd4",
   "metadata": {},
   "source": [
    "***"
   ]
  },
  {
   "cell_type": "markdown",
   "id": "591fdf20",
   "metadata": {},
   "source": [
    " <div class=\"alert alert-info\"><b><h3>Общий вывод по исследованию:</h3></b>\n",
    "\n",
    "* В целях решения поставленных задач исходные данные были разделены на 3 выборки: обучающую, валидационную и тестовую.      \n",
    "Были исследованы три модели ML: DecisionTreeClassifier, RandomForestClassifier, LogisticRegression.\n",
    "   \n",
    "* По итогам сравнения качества разных моделей с учетом их гиперпараметров максимальное значение Accuracy на валидационной выборке было получено у модели RandomForestClassifier - 0.8242612752721618 (с количеством деревьев: 30 и при максимальной глубине дерева: 8).\n",
    "    \n",
    "* В результате применения указанной модели к тестовой выборке было получено значение Accuracy 0.8009331259720062, что удовлетворяет условию задачи (не менее 0.75).  \n",
    "    \n",
    "* При проверке на вменяемость модель DummyClassifier показала значение Accuracy на валидационной выборке - 0.6920684292379471, на тестовой - 0.6951788491446346. Значение Accuracy модели DummyClassifier ниже, чем значение Accuracy модели RandomForestClassifier. Таким образом, модель RandomForestClassifier вменяема. Вместе с этим, при построении Confusion Matrix было выявлено, что модель RandomForestClassifier в основном ошибается при предсказании негативных признаков.\n",
    "\n",
    "</div>"
   ]
  }
 ],
 "metadata": {
  "ExecuteTimeLog": [
   {
    "duration": 2048,
    "start_time": "2023-03-16T08:17:23.652Z"
   },
   {
    "duration": 335,
    "start_time": "2023-03-16T08:17:25.707Z"
   },
   {
    "duration": 5,
    "start_time": "2023-03-16T08:17:26.044Z"
   },
   {
    "duration": 25,
    "start_time": "2023-03-16T08:17:26.051Z"
   },
   {
    "duration": 12,
    "start_time": "2023-03-16T08:17:26.083Z"
   },
   {
    "duration": 25,
    "start_time": "2023-03-16T08:17:26.097Z"
   },
   {
    "duration": 9,
    "start_time": "2023-03-16T08:17:26.129Z"
   },
   {
    "duration": 4261,
    "start_time": "2023-03-16T08:17:26.147Z"
   },
   {
    "duration": 19,
    "start_time": "2023-03-16T08:17:30.415Z"
   },
   {
    "duration": 5549,
    "start_time": "2023-03-16T08:17:30.441Z"
   },
   {
    "duration": 24,
    "start_time": "2023-03-16T08:17:35.992Z"
   },
   {
    "duration": 9,
    "start_time": "2023-03-16T08:17:36.018Z"
   },
   {
    "duration": 392,
    "start_time": "2023-03-16T08:17:36.037Z"
   },
   {
    "duration": 35,
    "start_time": "2023-03-16T08:17:36.431Z"
   },
   {
    "duration": 14,
    "start_time": "2023-03-16T08:17:36.477Z"
   },
   {
    "duration": 39,
    "start_time": "2023-03-16T08:17:36.499Z"
   },
   {
    "duration": 13,
    "start_time": "2023-03-16T08:17:36.541Z"
   },
   {
    "duration": 1070,
    "start_time": "2023-03-16T09:51:27.681Z"
   },
   {
    "duration": 1244,
    "start_time": "2023-03-16T09:51:37.328Z"
   },
   {
    "duration": 126,
    "start_time": "2023-03-16T09:51:38.574Z"
   },
   {
    "duration": 4,
    "start_time": "2023-03-16T09:51:38.702Z"
   },
   {
    "duration": 8,
    "start_time": "2023-03-16T09:51:38.707Z"
   },
   {
    "duration": 3,
    "start_time": "2023-03-16T09:51:38.717Z"
   },
   {
    "duration": 9,
    "start_time": "2023-03-16T09:51:38.721Z"
   },
   {
    "duration": 14,
    "start_time": "2023-03-16T09:51:38.731Z"
   },
   {
    "duration": 3159,
    "start_time": "2023-03-16T09:51:38.747Z"
   },
   {
    "duration": 5,
    "start_time": "2023-03-16T09:51:41.908Z"
   },
   {
    "duration": 4158,
    "start_time": "2023-03-16T09:51:41.915Z"
   },
   {
    "duration": 17,
    "start_time": "2023-03-16T09:51:46.075Z"
   },
   {
    "duration": 3,
    "start_time": "2023-03-16T09:51:46.094Z"
   },
   {
    "duration": 284,
    "start_time": "2023-03-16T09:51:46.099Z"
   },
   {
    "duration": 7,
    "start_time": "2023-03-16T09:51:46.390Z"
   },
   {
    "duration": 9,
    "start_time": "2023-03-16T09:51:46.399Z"
   },
   {
    "duration": 9,
    "start_time": "2023-03-16T09:51:46.410Z"
   },
   {
    "duration": 5,
    "start_time": "2023-03-16T09:51:46.421Z"
   },
   {
    "duration": 139,
    "start_time": "2023-03-16T09:51:46.428Z"
   },
   {
    "duration": 53,
    "start_time": "2023-03-16T15:44:20.981Z"
   },
   {
    "duration": 1166,
    "start_time": "2023-03-16T15:44:29.259Z"
   },
   {
    "duration": 129,
    "start_time": "2023-03-16T15:44:30.428Z"
   },
   {
    "duration": 4,
    "start_time": "2023-03-16T15:44:33.946Z"
   },
   {
    "duration": 9,
    "start_time": "2023-03-16T15:44:34.772Z"
   },
   {
    "duration": 12,
    "start_time": "2023-03-16T15:44:39.324Z"
   },
   {
    "duration": 12,
    "start_time": "2023-03-16T15:44:44.234Z"
   },
   {
    "duration": 13,
    "start_time": "2023-03-16T15:44:49.289Z"
   },
   {
    "duration": 10,
    "start_time": "2023-03-16T15:45:28.171Z"
   },
   {
    "duration": 8,
    "start_time": "2023-03-16T15:47:09.369Z"
   },
   {
    "duration": 9,
    "start_time": "2023-03-16T15:47:41.833Z"
   },
   {
    "duration": 37,
    "start_time": "2023-03-16T15:48:32.207Z"
   },
   {
    "duration": 3,
    "start_time": "2023-03-16T15:49:39.384Z"
   },
   {
    "duration": 4,
    "start_time": "2023-03-16T15:49:44.669Z"
   },
   {
    "duration": 3,
    "start_time": "2023-03-16T15:49:51.350Z"
   },
   {
    "duration": 6,
    "start_time": "2023-03-16T16:00:09.003Z"
   },
   {
    "duration": 7,
    "start_time": "2023-03-16T16:01:51.187Z"
   },
   {
    "duration": 575,
    "start_time": "2023-03-16T16:02:42.937Z"
   },
   {
    "duration": 116,
    "start_time": "2023-03-16T16:02:59.993Z"
   },
   {
    "duration": 138,
    "start_time": "2023-03-16T16:03:06.625Z"
   },
   {
    "duration": 117,
    "start_time": "2023-03-16T16:03:09.721Z"
   },
   {
    "duration": 130,
    "start_time": "2023-03-16T16:03:15.071Z"
   },
   {
    "duration": 225,
    "start_time": "2023-03-16T16:03:18.241Z"
   },
   {
    "duration": 194,
    "start_time": "2023-03-16T16:03:28.000Z"
   },
   {
    "duration": 177,
    "start_time": "2023-03-16T16:03:37.898Z"
   },
   {
    "duration": 11,
    "start_time": "2023-03-16T16:04:42.218Z"
   },
   {
    "duration": 12,
    "start_time": "2023-03-16T16:04:53.815Z"
   },
   {
    "duration": 100,
    "start_time": "2023-03-16T16:05:52.230Z"
   },
   {
    "duration": 117,
    "start_time": "2023-03-16T16:05:57.814Z"
   },
   {
    "duration": 145,
    "start_time": "2023-03-16T16:06:02.713Z"
   },
   {
    "duration": 108,
    "start_time": "2023-03-16T16:06:08.863Z"
   },
   {
    "duration": 108,
    "start_time": "2023-03-16T16:06:11.838Z"
   },
   {
    "duration": 12,
    "start_time": "2023-03-16T16:11:01.713Z"
   },
   {
    "duration": 260,
    "start_time": "2023-03-16T16:11:16.697Z"
   },
   {
    "duration": 187,
    "start_time": "2023-03-16T16:11:23.065Z"
   },
   {
    "duration": 252,
    "start_time": "2023-03-16T16:11:31.753Z"
   },
   {
    "duration": 153,
    "start_time": "2023-03-16T16:11:42.072Z"
   },
   {
    "duration": 172,
    "start_time": "2023-03-16T16:11:56.562Z"
   },
   {
    "duration": 120,
    "start_time": "2023-03-16T16:12:18.480Z"
   },
   {
    "duration": 161,
    "start_time": "2023-03-16T16:12:25.984Z"
   },
   {
    "duration": 126,
    "start_time": "2023-03-16T16:12:35.696Z"
   },
   {
    "duration": 110,
    "start_time": "2023-03-16T16:12:44.384Z"
   },
   {
    "duration": 154,
    "start_time": "2023-03-16T16:12:51.087Z"
   },
   {
    "duration": 145,
    "start_time": "2023-03-16T16:14:15.606Z"
   },
   {
    "duration": 134,
    "start_time": "2023-03-16T16:14:22.215Z"
   },
   {
    "duration": 150,
    "start_time": "2023-03-16T16:14:31.934Z"
   },
   {
    "duration": 117,
    "start_time": "2023-03-16T16:15:59.325Z"
   },
   {
    "duration": 120,
    "start_time": "2023-03-16T16:16:02.708Z"
   },
   {
    "duration": 123,
    "start_time": "2023-03-16T16:16:08.556Z"
   },
   {
    "duration": 109,
    "start_time": "2023-03-16T16:16:13.298Z"
   },
   {
    "duration": 171,
    "start_time": "2023-03-16T16:16:24.077Z"
   },
   {
    "duration": 234,
    "start_time": "2023-03-16T16:16:28.644Z"
   },
   {
    "duration": 116,
    "start_time": "2023-03-16T16:16:33.644Z"
   },
   {
    "duration": 158,
    "start_time": "2023-03-16T16:18:36.186Z"
   },
   {
    "duration": 178,
    "start_time": "2023-03-16T16:20:28.161Z"
   },
   {
    "duration": 12,
    "start_time": "2023-03-16T16:25:07.380Z"
   },
   {
    "duration": 8,
    "start_time": "2023-03-16T16:25:23.148Z"
   },
   {
    "duration": 7,
    "start_time": "2023-03-16T16:25:29.723Z"
   },
   {
    "duration": 2872,
    "start_time": "2023-03-16T16:25:34.804Z"
   },
   {
    "duration": 6,
    "start_time": "2023-03-16T16:25:53.683Z"
   },
   {
    "duration": 3885,
    "start_time": "2023-03-16T16:26:27.346Z"
   },
   {
    "duration": 13,
    "start_time": "2023-03-16T16:26:36.179Z"
   },
   {
    "duration": 205,
    "start_time": "2023-03-16T16:26:41.659Z"
   },
   {
    "duration": 6,
    "start_time": "2023-03-16T16:26:46.819Z"
   },
   {
    "duration": 204,
    "start_time": "2023-03-16T16:26:50.930Z"
   },
   {
    "duration": 7,
    "start_time": "2023-03-16T16:27:05.058Z"
   },
   {
    "duration": 8,
    "start_time": "2023-03-16T16:28:02.185Z"
   },
   {
    "duration": 6,
    "start_time": "2023-03-16T16:31:24.271Z"
   },
   {
    "duration": 6,
    "start_time": "2023-03-16T16:31:34.892Z"
   },
   {
    "duration": 3,
    "start_time": "2023-03-16T16:31:42.533Z"
   },
   {
    "duration": 4,
    "start_time": "2023-03-16T16:31:51.592Z"
   },
   {
    "duration": 3,
    "start_time": "2023-03-16T16:32:00.646Z"
   },
   {
    "duration": 43,
    "start_time": "2023-03-16T16:37:23.344Z"
   },
   {
    "duration": 5,
    "start_time": "2023-03-16T16:37:27.656Z"
   },
   {
    "duration": 8,
    "start_time": "2023-03-16T16:37:30.008Z"
   },
   {
    "duration": 4,
    "start_time": "2023-03-16T16:56:56.998Z"
   },
   {
    "duration": 64,
    "start_time": "2023-03-16T16:56:58.423Z"
   },
   {
    "duration": 17,
    "start_time": "2023-03-16T16:57:00.445Z"
   },
   {
    "duration": 14,
    "start_time": "2023-03-16T16:57:01.862Z"
   },
   {
    "duration": 375,
    "start_time": "2023-03-16T16:57:09.820Z"
   },
   {
    "duration": 362,
    "start_time": "2023-03-16T16:58:39.988Z"
   },
   {
    "duration": 372,
    "start_time": "2023-03-16T16:58:48.283Z"
   },
   {
    "duration": 339,
    "start_time": "2023-03-16T17:04:57.790Z"
   },
   {
    "duration": 384,
    "start_time": "2023-03-16T17:05:41.846Z"
   },
   {
    "duration": 4,
    "start_time": "2023-03-16T17:08:08.955Z"
   },
   {
    "duration": 3,
    "start_time": "2023-03-16T17:08:28.452Z"
   },
   {
    "duration": 5,
    "start_time": "2023-03-16T17:08:29.459Z"
   },
   {
    "duration": 2920,
    "start_time": "2023-03-16T17:09:47.794Z"
   },
   {
    "duration": 2838,
    "start_time": "2023-03-16T17:10:31.449Z"
   },
   {
    "duration": 6,
    "start_time": "2023-03-16T17:10:58.008Z"
   },
   {
    "duration": 3988,
    "start_time": "2023-03-16T17:11:51.264Z"
   },
   {
    "duration": 198,
    "start_time": "2023-03-16T17:12:37.430Z"
   },
   {
    "duration": 14,
    "start_time": "2023-03-16T17:18:26.650Z"
   },
   {
    "duration": 11,
    "start_time": "2023-03-16T17:20:04.431Z"
   },
   {
    "duration": 3,
    "start_time": "2023-03-16T17:27:50.792Z"
   },
   {
    "duration": 2705,
    "start_time": "2023-03-16T17:28:04.232Z"
   },
   {
    "duration": 1414,
    "start_time": "2023-03-16T17:28:16.238Z"
   },
   {
    "duration": 65,
    "start_time": "2023-03-16T17:28:17.654Z"
   },
   {
    "duration": 13,
    "start_time": "2023-03-16T17:28:17.721Z"
   },
   {
    "duration": 7,
    "start_time": "2023-03-16T17:28:17.736Z"
   },
   {
    "duration": 8,
    "start_time": "2023-03-16T17:28:17.745Z"
   },
   {
    "duration": 392,
    "start_time": "2023-03-16T17:28:17.754Z"
   },
   {
    "duration": 35,
    "start_time": "2023-03-16T17:28:18.148Z"
   },
   {
    "duration": 811,
    "start_time": "2023-03-16T17:28:18.185Z"
   },
   {
    "duration": 0,
    "start_time": "2023-03-16T17:28:18.998Z"
   },
   {
    "duration": 0,
    "start_time": "2023-03-16T17:28:19.001Z"
   },
   {
    "duration": 0,
    "start_time": "2023-03-16T17:28:19.002Z"
   },
   {
    "duration": 0,
    "start_time": "2023-03-16T17:28:19.003Z"
   },
   {
    "duration": 0,
    "start_time": "2023-03-16T17:28:19.004Z"
   },
   {
    "duration": 0,
    "start_time": "2023-03-16T17:28:19.005Z"
   },
   {
    "duration": 0,
    "start_time": "2023-03-16T17:28:19.006Z"
   },
   {
    "duration": 0,
    "start_time": "2023-03-16T17:28:19.006Z"
   },
   {
    "duration": 0,
    "start_time": "2023-03-16T17:28:19.008Z"
   },
   {
    "duration": 0,
    "start_time": "2023-03-16T17:28:19.008Z"
   },
   {
    "duration": 0,
    "start_time": "2023-03-16T17:28:19.009Z"
   },
   {
    "duration": 0,
    "start_time": "2023-03-16T17:28:19.010Z"
   },
   {
    "duration": 0,
    "start_time": "2023-03-16T17:28:19.011Z"
   },
   {
    "duration": 0,
    "start_time": "2023-03-16T17:28:19.012Z"
   },
   {
    "duration": 0,
    "start_time": "2023-03-16T17:28:19.013Z"
   },
   {
    "duration": 0,
    "start_time": "2023-03-16T17:28:19.014Z"
   },
   {
    "duration": 114,
    "start_time": "2023-03-16T17:28:37.663Z"
   },
   {
    "duration": 7,
    "start_time": "2023-03-16T17:28:42.126Z"
   },
   {
    "duration": 7,
    "start_time": "2023-03-16T17:28:45.007Z"
   },
   {
    "duration": 5,
    "start_time": "2023-03-16T17:28:45.792Z"
   },
   {
    "duration": 3,
    "start_time": "2023-03-16T17:28:46.646Z"
   },
   {
    "duration": 3,
    "start_time": "2023-03-16T17:28:48.270Z"
   },
   {
    "duration": 4,
    "start_time": "2023-03-16T17:28:49.189Z"
   },
   {
    "duration": 17,
    "start_time": "2023-03-16T17:28:52.496Z"
   },
   {
    "duration": 1408,
    "start_time": "2023-03-16T17:29:09.191Z"
   },
   {
    "duration": 65,
    "start_time": "2023-03-16T17:29:10.601Z"
   },
   {
    "duration": 11,
    "start_time": "2023-03-16T17:29:10.667Z"
   },
   {
    "duration": 4,
    "start_time": "2023-03-16T17:29:10.680Z"
   },
   {
    "duration": 7,
    "start_time": "2023-03-16T17:29:10.685Z"
   },
   {
    "duration": 368,
    "start_time": "2023-03-16T17:29:10.694Z"
   },
   {
    "duration": 28,
    "start_time": "2023-03-16T17:29:11.064Z"
   },
   {
    "duration": 124,
    "start_time": "2023-03-16T17:29:11.093Z"
   },
   {
    "duration": 7,
    "start_time": "2023-03-16T17:29:11.219Z"
   },
   {
    "duration": 6,
    "start_time": "2023-03-16T17:29:11.229Z"
   },
   {
    "duration": 6,
    "start_time": "2023-03-16T17:29:11.237Z"
   },
   {
    "duration": 6,
    "start_time": "2023-03-16T17:29:11.244Z"
   },
   {
    "duration": 23,
    "start_time": "2023-03-16T17:29:11.252Z"
   },
   {
    "duration": 5,
    "start_time": "2023-03-16T17:29:11.277Z"
   },
   {
    "duration": 4,
    "start_time": "2023-03-16T17:29:11.284Z"
   },
   {
    "duration": 2698,
    "start_time": "2023-03-16T17:29:11.289Z"
   },
   {
    "duration": 3673,
    "start_time": "2023-03-16T17:29:13.989Z"
   },
   {
    "duration": 2,
    "start_time": "2023-03-16T17:29:17.664Z"
   },
   {
    "duration": 192,
    "start_time": "2023-03-16T17:29:17.676Z"
   },
   {
    "duration": 14,
    "start_time": "2023-03-16T17:29:17.870Z"
   },
   {
    "duration": 2,
    "start_time": "2023-03-16T17:29:17.886Z"
   },
   {
    "duration": 11,
    "start_time": "2023-03-16T17:29:17.889Z"
   },
   {
    "duration": 4,
    "start_time": "2023-03-16T17:29:17.901Z"
   },
   {
    "duration": 127,
    "start_time": "2023-03-16T17:29:17.906Z"
   },
   {
    "duration": 10,
    "start_time": "2023-03-16T17:29:40.086Z"
   },
   {
    "duration": 5,
    "start_time": "2023-03-16T17:29:42.620Z"
   },
   {
    "duration": 2657,
    "start_time": "2023-03-16T17:31:46.251Z"
   },
   {
    "duration": 3703,
    "start_time": "2023-03-16T17:31:51.588Z"
   },
   {
    "duration": 182,
    "start_time": "2023-03-16T17:31:59.988Z"
   },
   {
    "duration": 11,
    "start_time": "2023-03-16T17:32:07.780Z"
   },
   {
    "duration": 10,
    "start_time": "2023-03-16T17:33:21.899Z"
   },
   {
    "duration": 5,
    "start_time": "2023-03-16T17:33:23.121Z"
   },
   {
    "duration": 11,
    "start_time": "2023-03-16T17:33:23.769Z"
   },
   {
    "duration": 13,
    "start_time": "2023-03-16T17:42:00.401Z"
   },
   {
    "duration": 10,
    "start_time": "2023-03-16T17:42:22.601Z"
   },
   {
    "duration": 5,
    "start_time": "2023-03-16T17:42:31.249Z"
   },
   {
    "duration": 17,
    "start_time": "2023-03-16T17:42:44.193Z"
   },
   {
    "duration": 5,
    "start_time": "2023-03-16T17:43:37.392Z"
   },
   {
    "duration": 9,
    "start_time": "2023-03-16T17:43:42.007Z"
   },
   {
    "duration": 10,
    "start_time": "2023-03-16T17:43:48.063Z"
   },
   {
    "duration": 9,
    "start_time": "2023-03-16T17:43:53.063Z"
   },
   {
    "duration": 7,
    "start_time": "2023-03-16T17:44:57.120Z"
   },
   {
    "duration": 6,
    "start_time": "2023-03-16T17:45:03.335Z"
   },
   {
    "duration": 16,
    "start_time": "2023-03-16T17:45:59.110Z"
   },
   {
    "duration": 18,
    "start_time": "2023-03-16T17:49:07.913Z"
   },
   {
    "duration": 15,
    "start_time": "2023-03-16T17:49:22.689Z"
   },
   {
    "duration": 15,
    "start_time": "2023-03-16T17:49:43.434Z"
   },
   {
    "duration": 17,
    "start_time": "2023-03-16T17:50:13.416Z"
   },
   {
    "duration": 14,
    "start_time": "2023-03-16T17:50:25.593Z"
   },
   {
    "duration": 1450,
    "start_time": "2023-03-16T17:50:39.963Z"
   },
   {
    "duration": 72,
    "start_time": "2023-03-16T17:50:41.415Z"
   },
   {
    "duration": 13,
    "start_time": "2023-03-16T17:50:41.493Z"
   },
   {
    "duration": 7,
    "start_time": "2023-03-16T17:50:41.508Z"
   },
   {
    "duration": 8,
    "start_time": "2023-03-16T17:50:41.516Z"
   },
   {
    "duration": 421,
    "start_time": "2023-03-16T17:50:41.526Z"
   },
   {
    "duration": 34,
    "start_time": "2023-03-16T17:50:41.949Z"
   },
   {
    "duration": 118,
    "start_time": "2023-03-16T17:50:41.985Z"
   },
   {
    "duration": 8,
    "start_time": "2023-03-16T17:50:42.106Z"
   },
   {
    "duration": 22,
    "start_time": "2023-03-16T17:50:42.116Z"
   },
   {
    "duration": 7,
    "start_time": "2023-03-16T17:50:42.139Z"
   },
   {
    "duration": 13,
    "start_time": "2023-03-16T17:50:42.148Z"
   },
   {
    "duration": 6,
    "start_time": "2023-03-16T17:50:42.163Z"
   },
   {
    "duration": 12,
    "start_time": "2023-03-16T17:50:42.175Z"
   },
   {
    "duration": 5,
    "start_time": "2023-03-16T17:50:42.190Z"
   },
   {
    "duration": 2834,
    "start_time": "2023-03-16T17:50:42.196Z"
   },
   {
    "duration": 3785,
    "start_time": "2023-03-16T17:50:45.031Z"
   },
   {
    "duration": 2,
    "start_time": "2023-03-16T17:50:48.818Z"
   },
   {
    "duration": 203,
    "start_time": "2023-03-16T17:50:48.822Z"
   },
   {
    "duration": 12,
    "start_time": "2023-03-16T17:50:49.027Z"
   },
   {
    "duration": 9,
    "start_time": "2023-03-16T17:50:49.040Z"
   },
   {
    "duration": 28,
    "start_time": "2023-03-16T17:50:49.051Z"
   },
   {
    "duration": 11,
    "start_time": "2023-03-16T17:50:49.080Z"
   },
   {
    "duration": 122,
    "start_time": "2023-03-16T17:50:49.092Z"
   },
   {
    "duration": 13,
    "start_time": "2023-03-16T17:51:05.753Z"
   },
   {
    "duration": 5,
    "start_time": "2023-03-16T17:51:09.609Z"
   },
   {
    "duration": 24,
    "start_time": "2023-03-16T17:51:21.865Z"
   },
   {
    "duration": 17,
    "start_time": "2023-03-16T17:51:36.768Z"
   },
   {
    "duration": 15,
    "start_time": "2023-03-16T17:51:45.039Z"
   },
   {
    "duration": 17,
    "start_time": "2023-03-16T17:52:40.856Z"
   },
   {
    "duration": 15,
    "start_time": "2023-03-16T17:52:47.615Z"
   },
   {
    "duration": 23,
    "start_time": "2023-03-16T17:53:13.375Z"
   },
   {
    "duration": 15,
    "start_time": "2023-03-16T17:53:24.279Z"
   },
   {
    "duration": 14,
    "start_time": "2023-03-16T17:53:58.886Z"
   },
   {
    "duration": 6,
    "start_time": "2023-03-16T17:54:20.309Z"
   },
   {
    "duration": 11,
    "start_time": "2023-03-16T17:54:40.254Z"
   },
   {
    "duration": 9,
    "start_time": "2023-03-16T17:54:42.685Z"
   },
   {
    "duration": 12,
    "start_time": "2023-03-16T17:54:48.013Z"
   },
   {
    "duration": 8,
    "start_time": "2023-03-16T17:54:59.900Z"
   },
   {
    "duration": 12,
    "start_time": "2023-03-16T17:55:50.227Z"
   },
   {
    "duration": 9,
    "start_time": "2023-03-16T17:56:12.323Z"
   },
   {
    "duration": 12,
    "start_time": "2023-03-16T17:56:35.324Z"
   },
   {
    "duration": 10,
    "start_time": "2023-03-16T18:17:51.928Z"
   },
   {
    "duration": 117,
    "start_time": "2023-03-16T18:19:43.037Z"
   },
   {
    "duration": 241,
    "start_time": "2023-03-16T18:19:54.022Z"
   },
   {
    "duration": 243,
    "start_time": "2023-03-16T18:24:48.055Z"
   },
   {
    "duration": 169,
    "start_time": "2023-03-16T18:34:21.240Z"
   },
   {
    "duration": 55,
    "start_time": "2023-03-17T06:55:12.664Z"
   },
   {
    "duration": 1769,
    "start_time": "2023-03-17T06:55:18.506Z"
   },
   {
    "duration": 188,
    "start_time": "2023-03-17T06:55:20.277Z"
   },
   {
    "duration": 15,
    "start_time": "2023-03-17T06:55:20.467Z"
   },
   {
    "duration": 25,
    "start_time": "2023-03-17T06:55:20.486Z"
   },
   {
    "duration": 12,
    "start_time": "2023-03-17T06:55:20.513Z"
   },
   {
    "duration": 501,
    "start_time": "2023-03-17T06:55:20.527Z"
   },
   {
    "duration": 25,
    "start_time": "2023-03-17T06:55:21.030Z"
   },
   {
    "duration": 134,
    "start_time": "2023-03-17T06:55:21.057Z"
   },
   {
    "duration": 9,
    "start_time": "2023-03-17T06:55:21.193Z"
   },
   {
    "duration": 11,
    "start_time": "2023-03-17T06:55:21.206Z"
   },
   {
    "duration": 9,
    "start_time": "2023-03-17T06:55:21.219Z"
   },
   {
    "duration": 12,
    "start_time": "2023-03-17T06:55:21.230Z"
   },
   {
    "duration": 31,
    "start_time": "2023-03-17T06:55:21.244Z"
   },
   {
    "duration": 18,
    "start_time": "2023-03-17T06:55:21.278Z"
   },
   {
    "duration": 7,
    "start_time": "2023-03-17T06:55:21.298Z"
   },
   {
    "duration": 3088,
    "start_time": "2023-03-17T06:55:21.307Z"
   },
   {
    "duration": 4221,
    "start_time": "2023-03-17T06:55:24.397Z"
   },
   {
    "duration": 4,
    "start_time": "2023-03-17T06:55:28.620Z"
   },
   {
    "duration": 238,
    "start_time": "2023-03-17T06:55:28.626Z"
   },
   {
    "duration": 20,
    "start_time": "2023-03-17T06:55:28.866Z"
   },
   {
    "duration": 20,
    "start_time": "2023-03-17T06:55:28.888Z"
   },
   {
    "duration": 32,
    "start_time": "2023-03-17T06:55:28.911Z"
   },
   {
    "duration": 30,
    "start_time": "2023-03-17T06:55:28.945Z"
   },
   {
    "duration": 358,
    "start_time": "2023-03-17T06:55:28.979Z"
   },
   {
    "duration": 15,
    "start_time": "2023-03-17T06:57:49.331Z"
   },
   {
    "duration": 6,
    "start_time": "2023-03-17T06:57:50.372Z"
   }
  ],
  "kernelspec": {
   "display_name": "Python 3 (ipykernel)",
   "language": "python",
   "name": "python3"
  },
  "language_info": {
   "codemirror_mode": {
    "name": "ipython",
    "version": 3
   },
   "file_extension": ".py",
   "mimetype": "text/x-python",
   "name": "python",
   "nbconvert_exporter": "python",
   "pygments_lexer": "ipython3",
   "version": "3.9.15"
  },
  "toc": {
   "base_numbering": 1,
   "nav_menu": {},
   "number_sections": true,
   "sideBar": true,
   "skip_h1_title": true,
   "title_cell": "Table of Contents",
   "title_sidebar": "Contents",
   "toc_cell": true,
   "toc_position": {
    "height": "calc(100% - 180px)",
    "left": "10px",
    "top": "150px",
    "width": "311.548px"
   },
   "toc_section_display": true,
   "toc_window_display": false
  }
 },
 "nbformat": 4,
 "nbformat_minor": 5
}
