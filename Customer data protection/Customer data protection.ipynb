{
 "cells": [
  {
   "cell_type": "markdown",
   "id": "c92b3b82",
   "metadata": {
    "toc": true
   },
   "source": [
    "<h1>Table of Contents<span class=\"tocSkip\"></span></h1>\n",
    "<div class=\"toc\"><ul class=\"toc-item\"><li><span><a href=\"#Загрузка-и-подготовка-данных.\" data-toc-modified-id=\"Загрузка-и-подготовка-данных.-1\"><span class=\"toc-item-num\">1&nbsp;&nbsp;</span>Загрузка и подготовка данных.</a></span></li><li><span><a href=\"#Сравнение-качества-линейной-регрессии.\" data-toc-modified-id=\"Сравнение-качества-линейной-регрессии.-2\"><span class=\"toc-item-num\">2&nbsp;&nbsp;</span>Сравнение качества линейной регрессии.</a></span><ul class=\"toc-item\"><li><span><a href=\"#Обоснование-решения.\" data-toc-modified-id=\"Обоснование-решения.-2.1\"><span class=\"toc-item-num\">2.1&nbsp;&nbsp;</span>Обоснование решения.</a></span></li></ul></li><li><span><a href=\"#Разработка-алгоритма-преобразования-данных.\" data-toc-modified-id=\"Разработка-алгоритма-преобразования-данных.-3\"><span class=\"toc-item-num\">3&nbsp;&nbsp;</span>Разработка алгоритма преобразования данных.</a></span></li><li><span><a href=\"#Проверка-качества-линейной-регрессии\" data-toc-modified-id=\"Проверка-качества-линейной-регрессии-4\"><span class=\"toc-item-num\">4&nbsp;&nbsp;</span>Проверка качества линейной регрессии</a></span></li><li><span><a href=\"#Общий-вывод-по-исследованию:\" data-toc-modified-id=\"Общий-вывод-по-исследованию:-5\"><span class=\"toc-item-num\">5&nbsp;&nbsp;</span>Общий вывод по исследованию:</a></span></li></ul></div>"
   ]
  },
  {
   "cell_type": "markdown",
   "id": "c763e03a",
   "metadata": {},
   "source": [
    "<div class=\"alert alert-info\"><b>Описание проекта:</b>\n",
    "   \n",
    "# \"Защита данных клиентов страховой компании «Хоть потоп»\"\n",
    "\n",
    "***\n",
    "\n",
    "**Цели проекта:**\n",
    "- защитить данные, чтобы при преобразовании качество моделей машинного обучения не ухудшилось.\n",
    "    \n",
    "***\n",
    "    \n",
    "**Задачи исследования:**  \n",
    "- умножить признаки на обратимую матрицу и проверить, изменится ли качество линейной регрессии;\n",
    "- обосновать, почему при разработке алгоритма преобразования данных качество линейной регрессии не поменяется;   \n",
    "- проверить через метрику R2, что качество линейной регрессии из sklearn не отличается до и после преобразования данных. \n",
    "    \n",
    "***\n",
    "    \n",
    "**Этапы исследования:** \n",
    "- загрузка и подготовка данных;\n",
    "- сравнение качества линейной регрессии на исходных данных и на преобразованных;\n",
    "- разработка алгоритма преобразования данных для решения задачи, программирование алгоритма с использованием матричных операций;\n",
    "- общий вывод по исследованию.\n",
    "    \n",
    "***\n",
    "  \n",
    "</div>"
   ]
  },
  {
   "cell_type": "markdown",
   "id": "6940f766",
   "metadata": {},
   "source": [
    "***"
   ]
  },
  {
   "cell_type": "markdown",
   "id": "afb0e699",
   "metadata": {},
   "source": [
    "### Загрузка и подготовка данных."
   ]
  },
  {
   "cell_type": "code",
   "execution_count": 1,
   "id": "47d4c523",
   "metadata": {
    "scrolled": false
   },
   "outputs": [],
   "source": [
    "import warnings\n",
    "import os\n",
    "\n",
    "import pandas as pd\n",
    "import numpy as np\n",
    "\n",
    "from sklearn.linear_model import LinearRegression\n",
    "from sklearn.preprocessing import StandardScaler\n",
    "from sklearn.pipeline import Pipeline, make_pipeline\n",
    "from sklearn.model_selection import train_test_split\n",
    "from sklearn.metrics import r2_score, mean_squared_error\n",
    "\n",
    "import matplotlib.pyplot as plt\n",
    "import seaborn as sns\n",
    "\n",
    "# Избавляемся от вывода предупреждений\n",
    "warnings.simplefilter(\"ignore\")\n",
    "\n",
    "# Отображение всех колонок\n",
    "pd.set_option('display.max_columns', None)\n",
    "\n",
    "# Константы\n",
    "RANDOM_STATE = 12345"
   ]
  },
  {
   "cell_type": "code",
   "execution_count": 2,
   "id": "01ad34e2",
   "metadata": {},
   "outputs": [],
   "source": [
    "pth1 = 'C:/Датасеты и проекты/insurance.csv'\n",
    "pth2 = '/datasets/insurance.csv'\n",
    "\n",
    "if os.path.exists(pth1):\n",
    "    data = pd.read_csv(pth1)\n",
    "elif os.path.exists(pth2):\n",
    "    data = pd.read_csv(pth2)\n",
    "else:\n",
    "    print('Something is wrong')"
   ]
  },
  {
   "cell_type": "code",
   "execution_count": 3,
   "id": "01ea956f",
   "metadata": {},
   "outputs": [
    {
     "data": {
      "text/html": [
       "<div>\n",
       "<style scoped>\n",
       "    .dataframe tbody tr th:only-of-type {\n",
       "        vertical-align: middle;\n",
       "    }\n",
       "\n",
       "    .dataframe tbody tr th {\n",
       "        vertical-align: top;\n",
       "    }\n",
       "\n",
       "    .dataframe thead th {\n",
       "        text-align: right;\n",
       "    }\n",
       "</style>\n",
       "<table border=\"1\" class=\"dataframe\">\n",
       "  <thead>\n",
       "    <tr style=\"text-align: right;\">\n",
       "      <th></th>\n",
       "      <th>Пол</th>\n",
       "      <th>Возраст</th>\n",
       "      <th>Зарплата</th>\n",
       "      <th>Члены семьи</th>\n",
       "      <th>Страховые выплаты</th>\n",
       "    </tr>\n",
       "  </thead>\n",
       "  <tbody>\n",
       "    <tr>\n",
       "      <th>0</th>\n",
       "      <td>1</td>\n",
       "      <td>41.0</td>\n",
       "      <td>49600.0</td>\n",
       "      <td>1</td>\n",
       "      <td>0</td>\n",
       "    </tr>\n",
       "    <tr>\n",
       "      <th>1</th>\n",
       "      <td>0</td>\n",
       "      <td>46.0</td>\n",
       "      <td>38000.0</td>\n",
       "      <td>1</td>\n",
       "      <td>1</td>\n",
       "    </tr>\n",
       "    <tr>\n",
       "      <th>2</th>\n",
       "      <td>0</td>\n",
       "      <td>29.0</td>\n",
       "      <td>21000.0</td>\n",
       "      <td>0</td>\n",
       "      <td>0</td>\n",
       "    </tr>\n",
       "    <tr>\n",
       "      <th>3</th>\n",
       "      <td>0</td>\n",
       "      <td>21.0</td>\n",
       "      <td>41700.0</td>\n",
       "      <td>2</td>\n",
       "      <td>0</td>\n",
       "    </tr>\n",
       "    <tr>\n",
       "      <th>4</th>\n",
       "      <td>1</td>\n",
       "      <td>28.0</td>\n",
       "      <td>26100.0</td>\n",
       "      <td>0</td>\n",
       "      <td>0</td>\n",
       "    </tr>\n",
       "  </tbody>\n",
       "</table>\n",
       "</div>"
      ],
      "text/plain": [
       "   Пол  Возраст  Зарплата  Члены семьи  Страховые выплаты\n",
       "0    1     41.0   49600.0            1                  0\n",
       "1    0     46.0   38000.0            1                  1\n",
       "2    0     29.0   21000.0            0                  0\n",
       "3    0     21.0   41700.0            2                  0\n",
       "4    1     28.0   26100.0            0                  0"
      ]
     },
     "execution_count": 3,
     "metadata": {},
     "output_type": "execute_result"
    }
   ],
   "source": [
    "# Выводим первые 5 строк датасета с данными.\n",
    "data.head()"
   ]
  },
  {
   "cell_type": "code",
   "execution_count": 4,
   "id": "845a04f0",
   "metadata": {
    "scrolled": false
   },
   "outputs": [
    {
     "name": "stdout",
     "output_type": "stream",
     "text": [
      "Количество строк и столбцов в датасете \"Данные о клиентах\": (5000, 5)\n",
      "------------------------------\n",
      "Пропуски в датасете \"Данные о клиентах\":\n",
      "Пол                  0\n",
      "Возраст              0\n",
      "Зарплата             0\n",
      "Члены семьи          0\n",
      "Страховые выплаты    0\n",
      "dtype: int64\n",
      "------------------------------\n",
      "Информация о типах данных в датасете \"Данные о клиентах\":\n",
      "Пол                    int64\n",
      "Возраст              float64\n",
      "Зарплата             float64\n",
      "Члены семьи            int64\n",
      "Страховые выплаты      int64\n",
      "dtype: object\n",
      "------------------------------\n",
      "Распределение численных значений признаков в датасете:\n",
      "               Пол      Возраст      Зарплата  Члены семьи  Страховые выплаты\n",
      "count  5000.000000  5000.000000   5000.000000  5000.000000        5000.000000\n",
      "mean      0.499000    30.952800  39916.360000     1.194200           0.148000\n",
      "std       0.500049     8.440807   9900.083569     1.091387           0.463183\n",
      "min       0.000000    18.000000   5300.000000     0.000000           0.000000\n",
      "25%       0.000000    24.000000  33300.000000     0.000000           0.000000\n",
      "50%       0.000000    30.000000  40200.000000     1.000000           0.000000\n",
      "75%       1.000000    37.000000  46600.000000     2.000000           0.000000\n",
      "max       1.000000    65.000000  79000.000000     6.000000           5.000000\n",
      "<--><--><--><--><--><--><--><--><--><--><--><--><--><--><--> \n",
      "\n"
     ]
    }
   ],
   "source": [
    "# Получение информации о датасете.\n",
    "data_all = [data]\n",
    "data_names = ['Данные о клиентах']\n",
    "\n",
    "for i in range(len(data_all)):\n",
    "        print(f'Количество строк и столбцов в датасете \"{data_names[i]}\": {data_all[i].shape}')\n",
    "        print('-' * 30)\n",
    "        print(f'Пропуски в датасете \"{data_names[i]}\":\\n{data_all[i].isna().sum()}')\n",
    "        print('-' * 30)\n",
    "        print(f'Информация о типах данных в датасете \"{data_names[i]}\":\\n{data_all[i].dtypes}')\n",
    "        print('-' * 30)\n",
    "        print(f'Распределение численных значений признаков в датасете:\\n{data_all[i].describe()}')\n",
    "        print('<-->' * 15,'\\n')        "
   ]
  },
  {
   "cell_type": "code",
   "execution_count": 5,
   "id": "00ebef85",
   "metadata": {},
   "outputs": [
    {
     "name": "stdout",
     "output_type": "stream",
     "text": [
      "[41. 46. 29. 21. 28. 43. 39. 25. 36. 32. 38. 23. 40. 34. 26. 42. 27. 33.\n",
      " 47. 30. 19. 31. 22. 20. 24. 18. 37. 48. 45. 44. 52. 49. 35. 56. 65. 55.\n",
      " 57. 54. 50. 53. 51. 58. 59. 60. 61. 62.]\n",
      "\n",
      "[49600. 38000. 21000. 41700. 26100. 41000. 39700. 38600. 49700. 51700.\n",
      " 36600. 29300. 39500. 55000. 43700. 23300. 48900. 33200. 36900. 43500.\n",
      " 36100. 26600. 48700. 40400. 38400. 34600. 34800. 36800. 42200. 46300.\n",
      " 30300. 51000. 28100. 64800. 30400. 45300. 38300. 49500. 19400. 40200.\n",
      " 31700. 69200. 33100. 31600. 34500. 38700. 39600. 42400. 34900. 30500.\n",
      " 24200. 49900. 14300. 47000. 44800. 43800. 42700. 35400. 57200. 29600.\n",
      " 37400. 48100. 33700. 61800. 39400. 15600. 52600. 37600. 52500. 32700.\n",
      " 51600. 60900. 41800. 47400. 26500. 45900. 35700. 34300. 26700. 25700.\n",
      " 33300. 31100. 31500. 42100. 37300. 42500. 27300. 46800. 33500. 44300.\n",
      " 41600. 53900. 40100. 44600. 45000. 32000. 38200. 33000. 38500. 51800.\n",
      " 33800. 46400. 43200. 31800. 50200. 35100. 30700. 45800. 49300. 42800.\n",
      " 33600. 50300. 34000. 36400. 44900. 43600. 54600. 52800. 29700. 39000.\n",
      " 44100. 31900. 37700. 35200. 43100. 51300. 47500. 40800. 26800. 64900.\n",
      " 35900. 31200. 39900. 43300. 33900. 40700. 44700. 53400. 30600. 56000.\n",
      " 35600. 55200. 40600. 48300. 50800. 41200. 44200. 44400. 40500. 39800.\n",
      " 16600. 48400. 25100. 23100. 32100. 31000. 42900. 46700. 26000. 55900.\n",
      " 52000. 41500. 49400. 60300. 45600. 49000. 37500. 21900. 45100. 47900.\n",
      " 54300. 32400. 41300. 44500. 23200. 37900. 48000. 52100. 45700. 29900.\n",
      " 42600. 45200. 36000. 46500. 23800. 30200. 24400. 32800. 29000. 43400.\n",
      " 51500. 61700. 45400. 50700. 36200. 41900. 27900. 47200. 48800. 55100.\n",
      " 48200. 35500. 35000. 43900. 40000. 22000. 40300. 36300. 49800. 25600.\n",
      " 42300. 54900. 25500. 32900. 36700. 38900. 24700. 28800. 22900. 47300.\n",
      " 14500. 28700. 44000. 34100. 53000. 59300. 28500. 47100. 41400. 58900.\n",
      " 17500. 54200. 43000. 29800. 20000. 13800. 27500. 67700. 28000. 37100.\n",
      "  8900. 14600. 56200. 38800. 27700. 50500. 58400. 34700. 34400. 49100.\n",
      " 50900. 28200. 61500. 32500. 25900.  9800. 28300. 41100. 62000. 32600.\n",
      " 37200. 53800. 24000. 53600. 54800. 59600. 20200. 21700. 29200. 38100.\n",
      " 20700. 32300. 21200. 62100. 54000. 24500. 51900. 47800. 56100. 55300.\n",
      " 58100. 28900. 39100. 58000. 27200. 24600. 30100. 57100. 60100. 22200.\n",
      " 47700. 24900. 37800. 52700. 34200. 18700. 42000. 26300. 22600. 30900.\n",
      " 35800. 30800. 51100. 53300. 46200. 24100. 54700. 51200. 62300. 51400.\n",
      " 40900. 23400. 35300. 55800. 33400. 21300. 30000. 56700. 46900.  5300.\n",
      " 39200. 57500. 31300. 53700. 21600. 50000. 36500. 16400. 15900. 65100.\n",
      " 59900. 63200. 26200. 61200. 48500. 32200. 29100. 50100. 22700. 28600.\n",
      " 23500. 23700. 19600. 17800. 50600. 57900. 22500. 22100. 58300. 64100.\n",
      " 25000. 60400. 59100. 37000. 62400. 29500. 25800. 25400. 26900. 21500.\n",
      " 52200. 46600. 57300. 46100. 19300. 18900. 31400. 28400. 29400. 17600.\n",
      " 13900. 52400. 11300. 46000. 60500. 58700. 58200. 24800. 63700. 60600.\n",
      " 20400. 26400. 55600. 57000. 45500. 48600. 57600. 52900. 62800. 17000.\n",
      " 56500. 52300. 18400. 63300. 12900. 27000. 55700. 39300. 27800. 18300.\n",
      " 56300. 59800. 24300. 14400. 13400. 17900. 47600. 54500. 54400. 23900.\n",
      " 13000. 19900. 55400. 22800. 61000. 57400. 23000. 20500. 53200. 18100.\n",
      " 25300. 59500. 18200. 50400. 21100. 20900. 27400. 17300. 60700. 70600.\n",
      " 17700. 19700. 49200. 63100. 59200. 14700. 53100. 21800. 68000. 16500.\n",
      " 71400. 10000. 55500. 54100. 56400. 20600. 66300. 18800. 11000. 66100.\n",
      " 27100. 57800. 53500. 19200. 58500. 64000. 63600. 23600. 25200. 19100.\n",
      " 18600. 57700. 62700. 56600. 21400. 58800. 68400. 17100. 13300. 68500.\n",
      " 56900. 64400. 27600. 67200. 16200. 58600. 62200. 16000. 79000. 22300.\n",
      " 11200. 71600. 61300. 70500. 67100. 59000. 13500. 16700. 15700. 60000.\n",
      " 17400. 63400. 61900. 65200. 62600. 14100. 20100. 63800. 15100. 70000.\n",
      " 60200. 20300. 65900. 15200. 63500. 13200. 68900. 12200.  6000. 74800.\n",
      " 59700. 10800. 19000. 10600. 69400. 15000. 75200. 62500. 16300. 20800.\n",
      "  7400. 65300. 61400. 56800.]\n"
     ]
    }
   ],
   "source": [
    "# Исследуем уникальные значения столбцов 'Возраст' и 'Зарплата'.\n",
    "\n",
    "print(data['Возраст'].unique())\n",
    "print()\n",
    "print(data['Зарплата'].unique())"
   ]
  },
  {
   "cell_type": "code",
   "execution_count": 6,
   "id": "e023f6c7",
   "metadata": {},
   "outputs": [],
   "source": [
    "# Поскольку значения в данных столбцах не содержат знаков после запятой, то приведем их к типу int64.\n",
    "data = data.astype({'Возраст':'int64','Зарплата':'int64'},errors='ignore')"
   ]
  },
  {
   "cell_type": "markdown",
   "id": "ccd65122",
   "metadata": {},
   "source": [
    " <div class=\"alert alert-info\"><b>Комментарий:</b>\n",
    "   \n",
    "По результатам получения информации о датасетах:\n",
    "* Представлены данные по 5000 клиентов\n",
    "* Пропусков в данных нет\n",
    "* Типы данных в столбцах оптимизированы по их содержимому\n",
    "* Явных аномалий в численных значениях не прослеживается\n",
    "    \n",
    "</div>"
   ]
  },
  {
   "cell_type": "code",
   "execution_count": 7,
   "id": "4534a9f1",
   "metadata": {},
   "outputs": [
    {
     "data": {
      "image/png": "[encoded data removed]",
      "text/plain": [
       "<Figure size 432x288 with 2 Axes>"
      ]
     },
     "metadata": {
      "needs_background": "light"
     },
     "output_type": "display_data"
    }
   ],
   "source": [
    "# Построим матрицу корреляции признаков.\n",
    "sns.heatmap(data.corr(), annot=True, cmap='coolwarm');\n",
    "plt.title(f'Матрица корреляции признаков');"
   ]
  },
  {
   "cell_type": "markdown",
   "id": "4bd1a82e",
   "metadata": {},
   "source": [
    " <div class=\"alert alert-info\"><b>Наблюдения:</b>\n",
    "   \n",
    "Прослеживается зависимость между страховыми выплатами и возрастом клиентов.\n",
    "    \n",
    "</div>"
   ]
  },
  {
   "cell_type": "code",
   "execution_count": 8,
   "id": "02c263cc",
   "metadata": {},
   "outputs": [],
   "source": [
    "# Поскольку мы работаем с данными страховой компании, то в качестве целевого признака выбираем 'Страховые выплаты'.\n",
    "features = data.drop('Страховые выплаты', axis=1)\n",
    "target = data['Страховые выплаты']"
   ]
  },
  {
   "cell_type": "code",
   "execution_count": 9,
   "id": "e7358e9a",
   "metadata": {},
   "outputs": [],
   "source": [
    "# Разделим данные на обучающую и тестовую выборки.\n",
    "train_features, test_features, train_target, test_target = train_test_split(features, \n",
    "                                                                            target, \n",
    "                                                                            test_size=0.25, \n",
    "                                                                            random_state=RANDOM_STATE)"
   ]
  },
  {
   "cell_type": "code",
   "execution_count": 10,
   "id": "126dfafa",
   "metadata": {},
   "outputs": [
    {
     "name": "stdout",
     "output_type": "stream",
     "text": [
      "Распределение данных в обучающей выборке: (3750, 4), (3750,)\n",
      "Распределение данных в тестовой выборке: (1250, 4), (1250,)\n"
     ]
    }
   ],
   "source": [
    "# Проверим распределение данных в обучающей и тестовой выборках.\n",
    "print(f'Распределение данных в обучающей выборке: {train_features.shape}, {train_target.shape}')\n",
    "print(f'Распределение данных в тестовой выборке: {test_features.shape}, {test_target.shape}')"
   ]
  },
  {
   "cell_type": "markdown",
   "id": "bd531638",
   "metadata": {},
   "source": [
    "<div class=\"alert alert-info\"><b>Промежуточные выводы:</b>\n",
    "\n",
    "На данном этапе выполнены следующие действия:\n",
    "- исследованы типы данных в признаках, типы данных оптимизированы по их содержимому.\n",
    "- изучена информация о датасете, пропусков в данных не обнаружено, явных аномалий в численных значениях не прослеживается.\n",
    "- при построении матрицы корреляции признаков установлена зависимость между страховыми выплатами и возрастом клиентов, что в принципе ожидаемо. \n",
    "- определен целевой признак, данные разделены на обучающую и тестовую выборки.\n",
    "\n",
    "</div>"
   ]
  },
  {
   "cell_type": "markdown",
   "id": "0d6fee01",
   "metadata": {},
   "source": [
    "***"
   ]
  },
  {
   "cell_type": "markdown",
   "id": "e620b1c7",
   "metadata": {},
   "source": [
    "### Сравнение качества линейной регрессии."
   ]
  },
  {
   "cell_type": "code",
   "execution_count": 11,
   "id": "85ba39bc",
   "metadata": {},
   "outputs": [],
   "source": [
    "# Создадим модель линейной регрессии для предсказания.\n",
    "\n",
    "class LinearRegression_basic:\n",
    "    def fit(self, train_features, train_target):\n",
    "        X = np.concatenate((np.ones((train_features.shape[0], 1)), train_features), axis=1)\n",
    "        y = train_target\n",
    "        w = np.linalg.inv(X.T.dot(X)).dot(X.T).dot(y) # < напишите код здесь >\n",
    "        self.w = w[1:]\n",
    "        self.w0 = w[0]\n",
    "        \n",
    "    def predict(self, test_features):\n",
    "        return test_features.dot(self.w) + self.w0\n",
    "    \n",
    "pipeline = make_pipeline(StandardScaler(), LinearRegression_basic())"
   ]
  },
  {
   "cell_type": "code",
   "execution_count": 12,
   "id": "9044bec0",
   "metadata": {},
   "outputs": [
    {
     "name": "stdout",
     "output_type": "stream",
     "text": [
      "Значение метрики R2 на основе исходных данных: 0.43522756840833365\n",
      "Значение метрики MSE на основе исходных данных: 0.1166051753161418\n"
     ]
    }
   ],
   "source": [
    "# На основе исходных данных проверим качество модели, используя метрику MSE, и адекватность модели, используя метрику R2.\n",
    "pipeline.fit(train_features, train_target)\n",
    "predictions = pipeline.predict(test_features)\n",
    "print(f'Значение метрики R2 на основе исходных данных: {r2_score(test_target, predictions)}')\n",
    "print(f'Значение метрики MSE на основе исходных данных: {mean_squared_error(test_target, predictions)}')"
   ]
  },
  {
   "cell_type": "markdown",
   "id": "b81d6f45",
   "metadata": {},
   "source": [
    " <div class=\"alert alert-info\"><b>Комментарий:</b>\n",
    "   \n",
    "По правилам матричного умножения ширина первой матрицы должна быть равна высоте второй. Обратимая матрица является квадратной.     \n",
    "Следовательно необходимо построить случайную квадратную матрицу размером, равным ширине  матрицы 'train_features'.\n",
    "    \n",
    "</div>"
   ]
  },
  {
   "cell_type": "code",
   "execution_count": 13,
   "id": "1ac4e592",
   "metadata": {},
   "outputs": [],
   "source": [
    "# Напишем функцию для построения случайной квадратной обратимой матрицы.\n",
    "def func(dim):\n",
    "    transform_matrix = np.random.randn(dim, dim)\n",
    "    try: \n",
    "        inv = np.linalg.inv(transform_matrix)\n",
    "        return transform_matrix      \n",
    "    except:\n",
    "        func(dim)"
   ]
  },
  {
   "cell_type": "code",
   "execution_count": 14,
   "id": "fd480b4a",
   "metadata": {},
   "outputs": [
    {
     "data": {
      "text/plain": [
       "array([[ 0.617158  , -1.13605902, -0.42441627, -0.715251  ],\n",
       "       [ 0.06167403,  0.4506843 ,  0.40939858, -0.33816742],\n",
       "       [-1.32145426,  1.58793142,  0.43227186,  0.38581298],\n",
       "       [-0.27831228,  0.49246084, -0.43679747,  0.03814949]])"
      ]
     },
     "execution_count": 14,
     "metadata": {},
     "output_type": "execute_result"
    }
   ],
   "source": [
    "# Построение случайной квадратной матрицы, равной ширине матрицы 'train_features' .\n",
    "P = func(train_features.shape[1])\n",
    "P"
   ]
  },
  {
   "cell_type": "code",
   "execution_count": 15,
   "id": "09aedc92",
   "metadata": {},
   "outputs": [],
   "source": [
    "# Умножим признаки обучающей и тестовой выборок на обратимую матрицу.\n",
    "train_P = train_features.dot(P)\n",
    "test_P = test_features.dot(P)"
   ]
  },
  {
   "cell_type": "code",
   "execution_count": 16,
   "id": "7ebf32fe",
   "metadata": {},
   "outputs": [
    {
     "name": "stdout",
     "output_type": "stream",
     "text": [
      "                 0             1             2             3\n",
      "3369 -47833.653440  57501.853295  15664.984203  13951.211748\n",
      "1441 -76113.051391  91479.037102  24912.354185  22210.614979\n",
      "571  -54310.074894  65278.895794  17779.037342  15846.130465\n",
      "225  -59595.645244  71632.424218  19509.762370  17388.029735\n",
      "2558 -66864.107017  80365.187446  21885.592599  19511.053803\n"
     ]
    }
   ],
   "source": [
    "# Выведем первые пять строк измененных признаков обучающей выборки.\n",
    "print(train_P.head())"
   ]
  },
  {
   "cell_type": "markdown",
   "id": "3af78e76",
   "metadata": {},
   "source": [
    " <div class=\"alert alert-info\"><b>Наблюдения:</b>\n",
    "   \n",
    "Данные приняли неидентифицируемый вид и значения.\n",
    "    \n",
    "</div>"
   ]
  },
  {
   "cell_type": "code",
   "execution_count": 17,
   "id": "774cb814",
   "metadata": {},
   "outputs": [
    {
     "name": "stdout",
     "output_type": "stream",
     "text": [
      "Значение метрики R2 на основе измененных данных: 0.4352275676720465\n",
      "Значение метрики MSE на основе измененных данных: 0.11660517546815859\n"
     ]
    }
   ],
   "source": [
    "# На основе измененных данных проверим качество модели, используя метрику MSE, и адекватность модели, используя метрику R2.\n",
    "pipeline.fit(train_P, train_target)\n",
    "predictions = pipeline.predict(test_P)\n",
    "\n",
    "print(f'Значение метрики R2 на основе измененных данных: {r2_score(test_target, predictions)}')\n",
    "print(f'Значение метрики MSE на основе измененных данных: {mean_squared_error(test_target, predictions)}')"
   ]
  },
  {
   "cell_type": "markdown",
   "id": "ffabaddd",
   "metadata": {},
   "source": [
    " <div class=\"alert alert-info\"><b>Комментарий:</b>\n",
    "    \n",
    "Значение метрики R2 на основе исходных данных: 0.43522756840833365    \n",
    "Значение метрики MSE на основе исходных данных: 0.1166051753161418\n",
    "    \n",
    "Значение метрики R2 на основе измененных данных: 0.4352275685147502    \n",
    "Значение метрики MSE на основе измененных данных: 0.11660517529417061    \n",
    "\n",
    "Расхождение метрик у моделей, построенных на основе исходных и измененных данных, начинается с 10 знака после запятой, на основании чего можно сделать вывод, что качество линейной регрессии после преобразования данных не изменилось.\n",
    "    \n",
    "</div>"
   ]
  },
  {
   "cell_type": "markdown",
   "id": "8ec86b5b",
   "metadata": {},
   "source": [
    "#### Обоснование решения."
   ]
  },
  {
   "cell_type": "markdown",
   "id": "c07d2799",
   "metadata": {},
   "source": [
    "Свойства матриц:\n",
    "$$(AB)^T = A^TB^T$$\n",
    "$$(AB)^{-1} = A^{-1}B^{-1}$$\n",
    "$$AE = EA = A$$\n",
    "$$(ABC)^{-1} = C^{-1}(AB)^{-1} = (BC)^{-1}A^{-1} = C^{-1}B^{-1}A^{-1}$$\n",
    "\n",
    "Произведение квадратной матрицы и обратной для нее матрицы равно единичной матрице.\n",
    "$$AA^{-1} = A^{-1}A = E$$\n",
    "\n",
    "Применим свойства в нашем исследовании."
   ]
  },
  {
   "cell_type": "markdown",
   "id": "0a33a23b",
   "metadata": {},
   "source": [
    "Минимальное значение MSE линейной регрессии на основе исходных данных получается, когда веса равны этой величине: \n",
    "$$w = (X^TX)^{-1} X^Ty$$\n",
    "\n",
    "Учитывая, что признаки в исходных данных мы умножили на случайную обратимую матрицу P (обозначим получившуюся матрицу <b>Z = XP</b>), то минимальное значение MSE линейной регрессии на основе измененных данных получается, когда веса равны этой величине: \n",
    "$$w_p = (Z^TZ)^{-1} Z^Ty$$\n",
    "\n",
    "Заменим в данной формуле <b>Z</b> на <b>XP</b>:\n",
    "$$w_p = ((XP)^TXP)^{-1} (XP)^Ty$$\n",
    "\n",
    "Основываясь на свойствах матриц, раскроем скобки:\n",
    "$$w_p = ((XP)^TXP)^{-1} (XP)^Ty = (X^TP^TXP)^{-1}X^T(P)^Ty$$\n",
    "\n",
    "Для удобства проставим скобки и, опираясь на свойства произведения квадратной матрицы и обратной для нее матрицы (их произведение равно единичной матрице (<b>E</b>)), а также, что произведение матрицы на единичную равно самой матрице , сократим $(P^T)^{-1}$ и $P^T$:\n",
    "\n",
    "$$\n",
    "w_p = (P^T (X^T X) P)^{-1} (P)^T X^T y =  (P^T)^{-1}(X^T X)^{-1} (P)^{-1} (P)^T X^T y =  P^{-1}(X^TX)^{-1}EX^Ty = P^{-1}(X^TX)^{-1}X^Ty\n",
    "$$  \n",
    "\n",
    "В свою очередь $(X^TX)^{-1} X^Ty = w$.\n",
    "\n",
    "Следовательно: \n",
    "$$\n",
    "w_p = P^{-1}(X^TX)^{-1}X^Ty = P^{-1}w\n",
    "$$  \n",
    "\n",
    "Узнаем значение вектора предсказаний ($\\alpha$) на основе исходных данных:\n",
    "$$\\alpha = Xw$$ \n",
    "\n",
    "Сравним значения вектора предсказаний ($\\alpha_p$) на основе измененных данных, где Z заменим на WP, а значение $w_p$ \n",
    "на полученный результат $P^{-1}w$.\n",
    "\n",
    "В итоге получим\n",
    "$$\\alpha_p = Zw_p = XPP^{-1}w$$ \n",
    "\n",
    "Основываясь на свойствах произведения квадратной матрицы и обратной для нее матрицы (их произведение равно единичной матрице), а также, что произведение матрицы на единичную равно самой матрице, сократим $(P^T)^{-1}$ и $P^T$.\n",
    "\n",
    "В итоге получаем следующую формулу расчета значения вектора предсказаний ($\\alpha_p$) на основе измененных данных:\n",
    "$$\\alpha_p = XwE = Xw = \\alpha$$ \n",
    "\n",
    "Таким образом, получаем, что при умножении признаков на случайную обратимую матрицу значения весов линейной регрессии на основе исходных данных равны значению весов линейной регрессии на основе измененных данных, поэтому качество линейной регрессии не меняется."
   ]
  },
  {
   "cell_type": "markdown",
   "id": "f7248acb",
   "metadata": {},
   "source": [
    "На данном этапе выполнены следующие действия:\n",
    "- создали модель линейной регрессии для предсказания.\n",
    "- на основе исходных данных проверили качество и адекватность модели.\n",
    "- умножили признаки на случайную обратимую матрицу и проверили качество и адекватность модели на основе измененных данных. \n",
    "- Расхождение метрик у моделей, построенных на основе исходных и измененных данных, начинается с 10 знака после запятой, на основании чего можно сделать вывод, что качество линейной регрессии после преобразования данных не изменилось.\n",
    "- на основе свойств матриц подготовлено обоснование того, что качество линейной регрессии после преобразования данных не изменилось (при умножении признаков на случайную обратимую матрицу значения весов линейной регрессии на основе исходных данных равны значению весов линейной регрессии на основе измененных данных, поэтому качество линейной регрессии не меняется). "
   ]
  },
  {
   "cell_type": "markdown",
   "id": "2c7abcc4",
   "metadata": {},
   "source": [
    "***"
   ]
  },
  {
   "cell_type": "markdown",
   "id": "b248ff6c",
   "metadata": {},
   "source": [
    "### Разработка алгоритма преобразования данных."
   ]
  },
  {
   "cell_type": "markdown",
   "id": "7b5f0fd1",
   "metadata": {},
   "source": [
    "Учитывая выводы, полученные в предыдущем разделе о том, что при умножении признаков на случайную обратимую матрицу качество линейной регрессии не меняется, а также наблюдение, что при таком умножении данные принимают неидентифицируемый вид и значения, целесообразно для решения задачи исследования (защитить данные, чтобы при преобразовании качество моделей машинного обучения не ухудшилось) использовать следующий алгоритм:\n",
    "* построение случайной обратимой квадратной матрицы размерами, равными ширине матрицы с признаками (если полученная матрица необратима, то генерируем матрицы до получения обратимой)\n",
    "* построение новой матрицы с признаками путем умножения исходной матрицы с признаками на построенную случайную обратимую матрицу\n",
    "* построение моделей ML на основе новой матрицы с признаками"
   ]
  },
  {
   "cell_type": "markdown",
   "id": "d70a16f6",
   "metadata": {},
   "source": [
    "<div class=\"alert alert-info\"><b>Промежуточные выводы:</b>\n",
    "\n",
    "На основании произведенных выше расчетов и полученных наблюдений (в результате умножения признаков на обратимую матрицу данные приняли неидентифицируемый вид и значения) разработал алгоритм для защиты данных согласно условия задачи (\"чтобы при преобразовании качество моделей машинного обучения не ухудшилось\").\n",
    " \n",
    "</div>"
   ]
  },
  {
   "cell_type": "markdown",
   "id": "6f3dc62c",
   "metadata": {},
   "source": [
    "***"
   ]
  },
  {
   "cell_type": "markdown",
   "id": "3a9c354e",
   "metadata": {},
   "source": [
    "### Проверка качества линейной регрессии"
   ]
  },
  {
   "cell_type": "code",
   "execution_count": 18,
   "id": "e84643a0",
   "metadata": {},
   "outputs": [
    {
     "name": "stdout",
     "output_type": "stream",
     "text": [
      "Значение метрики R2 на основе исходных данных: 0.43522756840833365\n",
      "Значение метрики MSE на основе исходных данных: 0.1166051753161418\n"
     ]
    }
   ],
   "source": [
    "# На основе исходных данных проверим качество линейной регрессии из sklearn, используя метрику MSE, \n",
    "# и адекватность модели, используя метрику R2.\n",
    "\n",
    "pipeline.fit(train_features, train_target)\n",
    "predictions = pipeline.predict(test_features)\n",
    "print(f'Значение метрики R2 на основе исходных данных: {r2_score(test_target, predictions)}')\n",
    "print(f'Значение метрики MSE на основе исходных данных: {mean_squared_error(test_target, predictions)}')"
   ]
  },
  {
   "cell_type": "code",
   "execution_count": 19,
   "id": "19eb467f",
   "metadata": {},
   "outputs": [],
   "source": [
    "# Построение случайной квадратной матрицы, равной ширине матрицы 'train_features' .\n",
    "P = func(train_features.shape[1])"
   ]
  },
  {
   "cell_type": "code",
   "execution_count": 20,
   "id": "d445271c",
   "metadata": {},
   "outputs": [],
   "source": [
    "# Умножим признаки обучающей и тестовой выборок на обратимую матрицу.\n",
    "train_P = train_features.dot(P)\n",
    "test_P = test_features.dot(P)"
   ]
  },
  {
   "cell_type": "code",
   "execution_count": 21,
   "id": "be4d4d04",
   "metadata": {},
   "outputs": [
    {
     "data": {
      "text/html": [
       "<div>\n",
       "<style scoped>\n",
       "    .dataframe tbody tr th:only-of-type {\n",
       "        vertical-align: middle;\n",
       "    }\n",
       "\n",
       "    .dataframe tbody tr th {\n",
       "        vertical-align: top;\n",
       "    }\n",
       "\n",
       "    .dataframe thead th {\n",
       "        text-align: right;\n",
       "    }\n",
       "</style>\n",
       "<table border=\"1\" class=\"dataframe\">\n",
       "  <thead>\n",
       "    <tr style=\"text-align: right;\">\n",
       "      <th></th>\n",
       "      <th>0</th>\n",
       "      <th>1</th>\n",
       "      <th>2</th>\n",
       "      <th>3</th>\n",
       "    </tr>\n",
       "  </thead>\n",
       "  <tbody>\n",
       "    <tr>\n",
       "      <th>3369</th>\n",
       "      <td>70883.171631</td>\n",
       "      <td>-22536.150665</td>\n",
       "      <td>96775.089242</td>\n",
       "      <td>29384.195775</td>\n",
       "    </tr>\n",
       "    <tr>\n",
       "      <th>1441</th>\n",
       "      <td>112824.958321</td>\n",
       "      <td>-35864.755920</td>\n",
       "      <td>153920.034892</td>\n",
       "      <td>46724.169874</td>\n",
       "    </tr>\n",
       "    <tr>\n",
       "      <th>571</th>\n",
       "      <td>80496.405236</td>\n",
       "      <td>-25590.069646</td>\n",
       "      <td>109842.332109</td>\n",
       "      <td>33346.078880</td>\n",
       "    </tr>\n",
       "    <tr>\n",
       "      <th>225</th>\n",
       "      <td>88329.715639</td>\n",
       "      <td>-28080.634205</td>\n",
       "      <td>120534.319081</td>\n",
       "      <td>36592.320127</td>\n",
       "    </tr>\n",
       "    <tr>\n",
       "      <th>2558</th>\n",
       "      <td>99109.009423</td>\n",
       "      <td>-31504.624543</td>\n",
       "      <td>135219.106661</td>\n",
       "      <td>41047.405831</td>\n",
       "    </tr>\n",
       "  </tbody>\n",
       "</table>\n",
       "</div>"
      ],
      "text/plain": [
       "                  0             1              2             3\n",
       "3369   70883.171631 -22536.150665   96775.089242  29384.195775\n",
       "1441  112824.958321 -35864.755920  153920.034892  46724.169874\n",
       "571    80496.405236 -25590.069646  109842.332109  33346.078880\n",
       "225    88329.715639 -28080.634205  120534.319081  36592.320127\n",
       "2558   99109.009423 -31504.624543  135219.106661  41047.405831"
      ]
     },
     "execution_count": 21,
     "metadata": {},
     "output_type": "execute_result"
    }
   ],
   "source": [
    "# Выведем первые пять строк измененных признаков обучающей выборки.\n",
    "train_P.head()"
   ]
  },
  {
   "cell_type": "markdown",
   "id": "e705b81a",
   "metadata": {},
   "source": [
    " <div class=\"alert alert-info\"><b>Наблюдения:</b>\n",
    "   \n",
    "Данные приняли неидентифицируемый вид и значения.\n",
    "    \n",
    "</div>"
   ]
  },
  {
   "cell_type": "code",
   "execution_count": 22,
   "id": "b70f367e",
   "metadata": {},
   "outputs": [
    {
     "name": "stdout",
     "output_type": "stream",
     "text": [
      "Значение метрики R2 на основе измененных данных: 0.43522756852706357\n",
      "Значение метрики MSE на основе измененных данных: 0.11660517529162835\n"
     ]
    }
   ],
   "source": [
    "# На основе измененных данных проверим качество линейной регрессии из sklearn, используя метрику MSE, \n",
    "# и адекватность модели, используя метрику R2.\n",
    "\n",
    "pipeline.fit(train_P, train_target)\n",
    "predictions = pipeline.predict(test_P)\n",
    "\n",
    "print(f'Значение метрики R2 на основе измененных данных: {r2_score(test_target, predictions)}')\n",
    "print(f'Значение метрики MSE на основе измененных данных: {mean_squared_error(test_target, predictions)}')"
   ]
  },
  {
   "cell_type": "markdown",
   "id": "aa488c6b",
   "metadata": {},
   "source": [
    "***"
   ]
  },
  {
   "cell_type": "markdown",
   "id": "591fdf20",
   "metadata": {},
   "source": [
    " <div class=\"alert alert-info\"><h3>Общий вывод по исследованию:</h3>\n",
    "    \n",
    "В целях решения поставленных задач:\n",
    "* умножил признаки на обратимую матрицу и проверил, изменится ли качество линейной регрессии;\n",
    "* обосновал, почему при разработке алгоритма преобразования данных качество линейной регрессии не поменялось;\n",
    "* проверил через метрику R2 и MSE, что качество линейной регрессии из sklearn не отличается до и после преобразования данных.\n",
    "   \n",
    "При применении линейной регрессии из sklearn:   \n",
    "Значение метрики R2 на основе исходных данных: 0.43522756840833365    \n",
    "Значение метрики MSE на основе исходных данных: 0.1166051753161418\n",
    "    \n",
    "Значение метрики R2 на основе измененных данных: 0.43522756852706357    \n",
    "Значение метрики MSE на основе измененных данных: 0.11660517529162835    \n",
    "\n",
    "Расхождение метрик у моделей линейной регрессии из sklearn, построенных на основе исходных и измененных данных, начинается с 10 знака после запятой, на основании чего можно сделать вывод, что качество линейной регрессии после преобразования данных не изменилось, в связи с чем применение указанного алгоритма для защиты данных  при построении моделей ML целесообразно.\n",
    "\n",
    "</div>"
   ]
  }
 ],
 "metadata": {
  "ExecuteTimeLog": [
   {
    "duration": 2048,
    "start_time": "2023-03-16T08:17:23.652Z"
   },
   {
    "duration": 335,
    "start_time": "2023-03-16T08:17:25.707Z"
   },
   {
    "duration": 5,
    "start_time": "2023-03-16T08:17:26.044Z"
   },
   {
    "duration": 25,
    "start_time": "2023-03-16T08:17:26.051Z"
   },
   {
    "duration": 12,
    "start_time": "2023-03-16T08:17:26.083Z"
   },
   {
    "duration": 25,
    "start_time": "2023-03-16T08:17:26.097Z"
   },
   {
    "duration": 9,
    "start_time": "2023-03-16T08:17:26.129Z"
   },
   {
    "duration": 4261,
    "start_time": "2023-03-16T08:17:26.147Z"
   },
   {
    "duration": 19,
    "start_time": "2023-03-16T08:17:30.415Z"
   },
   {
    "duration": 5549,
    "start_time": "2023-03-16T08:17:30.441Z"
   },
   {
    "duration": 24,
    "start_time": "2023-03-16T08:17:35.992Z"
   },
   {
    "duration": 9,
    "start_time": "2023-03-16T08:17:36.018Z"
   },
   {
    "duration": 392,
    "start_time": "2023-03-16T08:17:36.037Z"
   },
   {
    "duration": 35,
    "start_time": "2023-03-16T08:17:36.431Z"
   },
   {
    "duration": 14,
    "start_time": "2023-03-16T08:17:36.477Z"
   },
   {
    "duration": 39,
    "start_time": "2023-03-16T08:17:36.499Z"
   },
   {
    "duration": 13,
    "start_time": "2023-03-16T08:17:36.541Z"
   },
   {
    "duration": 1070,
    "start_time": "2023-03-16T09:51:27.681Z"
   },
   {
    "duration": 1244,
    "start_time": "2023-03-16T09:51:37.328Z"
   },
   {
    "duration": 126,
    "start_time": "2023-03-16T09:51:38.574Z"
   },
   {
    "duration": 4,
    "start_time": "2023-03-16T09:51:38.702Z"
   },
   {
    "duration": 8,
    "start_time": "2023-03-16T09:51:38.707Z"
   },
   {
    "duration": 3,
    "start_time": "2023-03-16T09:51:38.717Z"
   },
   {
    "duration": 9,
    "start_time": "2023-03-16T09:51:38.721Z"
   },
   {
    "duration": 14,
    "start_time": "2023-03-16T09:51:38.731Z"
   },
   {
    "duration": 3159,
    "start_time": "2023-03-16T09:51:38.747Z"
   },
   {
    "duration": 5,
    "start_time": "2023-03-16T09:51:41.908Z"
   },
   {
    "duration": 4158,
    "start_time": "2023-03-16T09:51:41.915Z"
   },
   {
    "duration": 17,
    "start_time": "2023-03-16T09:51:46.075Z"
   },
   {
    "duration": 3,
    "start_time": "2023-03-16T09:51:46.094Z"
   },
   {
    "duration": 284,
    "start_time": "2023-03-16T09:51:46.099Z"
   },
   {
    "duration": 7,
    "start_time": "2023-03-16T09:51:46.390Z"
   },
   {
    "duration": 9,
    "start_time": "2023-03-16T09:51:46.399Z"
   },
   {
    "duration": 9,
    "start_time": "2023-03-16T09:51:46.410Z"
   },
   {
    "duration": 5,
    "start_time": "2023-03-16T09:51:46.421Z"
   },
   {
    "duration": 139,
    "start_time": "2023-03-16T09:51:46.428Z"
   },
   {
    "duration": 53,
    "start_time": "2023-03-16T15:44:20.981Z"
   },
   {
    "duration": 1166,
    "start_time": "2023-03-16T15:44:29.259Z"
   },
   {
    "duration": 129,
    "start_time": "2023-03-16T15:44:30.428Z"
   },
   {
    "duration": 4,
    "start_time": "2023-03-16T15:44:33.946Z"
   },
   {
    "duration": 9,
    "start_time": "2023-03-16T15:44:34.772Z"
   },
   {
    "duration": 12,
    "start_time": "2023-03-16T15:44:39.324Z"
   },
   {
    "duration": 12,
    "start_time": "2023-03-16T15:44:44.234Z"
   },
   {
    "duration": 13,
    "start_time": "2023-03-16T15:44:49.289Z"
   },
   {
    "duration": 10,
    "start_time": "2023-03-16T15:45:28.171Z"
   },
   {
    "duration": 8,
    "start_time": "2023-03-16T15:47:09.369Z"
   },
   {
    "duration": 9,
    "start_time": "2023-03-16T15:47:41.833Z"
   },
   {
    "duration": 37,
    "start_time": "2023-03-16T15:48:32.207Z"
   },
   {
    "duration": 3,
    "start_time": "2023-03-16T15:49:39.384Z"
   },
   {
    "duration": 4,
    "start_time": "2023-03-16T15:49:44.669Z"
   },
   {
    "duration": 3,
    "start_time": "2023-03-16T15:49:51.350Z"
   },
   {
    "duration": 6,
    "start_time": "2023-03-16T16:00:09.003Z"
   },
   {
    "duration": 7,
    "start_time": "2023-03-16T16:01:51.187Z"
   },
   {
    "duration": 575,
    "start_time": "2023-03-16T16:02:42.937Z"
   },
   {
    "duration": 116,
    "start_time": "2023-03-16T16:02:59.993Z"
   },
   {
    "duration": 138,
    "start_time": "2023-03-16T16:03:06.625Z"
   },
   {
    "duration": 117,
    "start_time": "2023-03-16T16:03:09.721Z"
   },
   {
    "duration": 130,
    "start_time": "2023-03-16T16:03:15.071Z"
   },
   {
    "duration": 225,
    "start_time": "2023-03-16T16:03:18.241Z"
   },
   {
    "duration": 194,
    "start_time": "2023-03-16T16:03:28.000Z"
   },
   {
    "duration": 177,
    "start_time": "2023-03-16T16:03:37.898Z"
   },
   {
    "duration": 11,
    "start_time": "2023-03-16T16:04:42.218Z"
   },
   {
    "duration": 12,
    "start_time": "2023-03-16T16:04:53.815Z"
   },
   {
    "duration": 100,
    "start_time": "2023-03-16T16:05:52.230Z"
   },
   {
    "duration": 117,
    "start_time": "2023-03-16T16:05:57.814Z"
   },
   {
    "duration": 145,
    "start_time": "2023-03-16T16:06:02.713Z"
   },
   {
    "duration": 108,
    "start_time": "2023-03-16T16:06:08.863Z"
   },
   {
    "duration": 108,
    "start_time": "2023-03-16T16:06:11.838Z"
   },
   {
    "duration": 12,
    "start_time": "2023-03-16T16:11:01.713Z"
   },
   {
    "duration": 260,
    "start_time": "2023-03-16T16:11:16.697Z"
   },
   {
    "duration": 187,
    "start_time": "2023-03-16T16:11:23.065Z"
   },
   {
    "duration": 252,
    "start_time": "2023-03-16T16:11:31.753Z"
   },
   {
    "duration": 153,
    "start_time": "2023-03-16T16:11:42.072Z"
   },
   {
    "duration": 172,
    "start_time": "2023-03-16T16:11:56.562Z"
   },
   {
    "duration": 120,
    "start_time": "2023-03-16T16:12:18.480Z"
   },
   {
    "duration": 161,
    "start_time": "2023-03-16T16:12:25.984Z"
   },
   {
    "duration": 126,
    "start_time": "2023-03-16T16:12:35.696Z"
   },
   {
    "duration": 110,
    "start_time": "2023-03-16T16:12:44.384Z"
   },
   {
    "duration": 154,
    "start_time": "2023-03-16T16:12:51.087Z"
   },
   {
    "duration": 145,
    "start_time": "2023-03-16T16:14:15.606Z"
   },
   {
    "duration": 134,
    "start_time": "2023-03-16T16:14:22.215Z"
   },
   {
    "duration": 150,
    "start_time": "2023-03-16T16:14:31.934Z"
   },
   {
    "duration": 117,
    "start_time": "2023-03-16T16:15:59.325Z"
   },
   {
    "duration": 120,
    "start_time": "2023-03-16T16:16:02.708Z"
   },
   {
    "duration": 123,
    "start_time": "2023-03-16T16:16:08.556Z"
   },
   {
    "duration": 109,
    "start_time": "2023-03-16T16:16:13.298Z"
   },
   {
    "duration": 171,
    "start_time": "2023-03-16T16:16:24.077Z"
   },
   {
    "duration": 234,
    "start_time": "2023-03-16T16:16:28.644Z"
   },
   {
    "duration": 116,
    "start_time": "2023-03-16T16:16:33.644Z"
   },
   {
    "duration": 158,
    "start_time": "2023-03-16T16:18:36.186Z"
   },
   {
    "duration": 178,
    "start_time": "2023-03-16T16:20:28.161Z"
   },
   {
    "duration": 12,
    "start_time": "2023-03-16T16:25:07.380Z"
   },
   {
    "duration": 8,
    "start_time": "2023-03-16T16:25:23.148Z"
   },
   {
    "duration": 7,
    "start_time": "2023-03-16T16:25:29.723Z"
   },
   {
    "duration": 2872,
    "start_time": "2023-03-16T16:25:34.804Z"
   },
   {
    "duration": 6,
    "start_time": "2023-03-16T16:25:53.683Z"
   },
   {
    "duration": 3885,
    "start_time": "2023-03-16T16:26:27.346Z"
   },
   {
    "duration": 13,
    "start_time": "2023-03-16T16:26:36.179Z"
   },
   {
    "duration": 205,
    "start_time": "2023-03-16T16:26:41.659Z"
   },
   {
    "duration": 6,
    "start_time": "2023-03-16T16:26:46.819Z"
   },
   {
    "duration": 204,
    "start_time": "2023-03-16T16:26:50.930Z"
   },
   {
    "duration": 7,
    "start_time": "2023-03-16T16:27:05.058Z"
   },
   {
    "duration": 8,
    "start_time": "2023-03-16T16:28:02.185Z"
   },
   {
    "duration": 6,
    "start_time": "2023-03-16T16:31:24.271Z"
   },
   {
    "duration": 6,
    "start_time": "2023-03-16T16:31:34.892Z"
   },
   {
    "duration": 3,
    "start_time": "2023-03-16T16:31:42.533Z"
   },
   {
    "duration": 4,
    "start_time": "2023-03-16T16:31:51.592Z"
   },
   {
    "duration": 3,
    "start_time": "2023-03-16T16:32:00.646Z"
   },
   {
    "duration": 43,
    "start_time": "2023-03-16T16:37:23.344Z"
   },
   {
    "duration": 5,
    "start_time": "2023-03-16T16:37:27.656Z"
   },
   {
    "duration": 8,
    "start_time": "2023-03-16T16:37:30.008Z"
   },
   {
    "duration": 4,
    "start_time": "2023-03-16T16:56:56.998Z"
   },
   {
    "duration": 64,
    "start_time": "2023-03-16T16:56:58.423Z"
   },
   {
    "duration": 17,
    "start_time": "2023-03-16T16:57:00.445Z"
   },
   {
    "duration": 14,
    "start_time": "2023-03-16T16:57:01.862Z"
   },
   {
    "duration": 375,
    "start_time": "2023-03-16T16:57:09.820Z"
   },
   {
    "duration": 362,
    "start_time": "2023-03-16T16:58:39.988Z"
   },
   {
    "duration": 372,
    "start_time": "2023-03-16T16:58:48.283Z"
   },
   {
    "duration": 339,
    "start_time": "2023-03-16T17:04:57.790Z"
   },
   {
    "duration": 384,
    "start_time": "2023-03-16T17:05:41.846Z"
   },
   {
    "duration": 4,
    "start_time": "2023-03-16T17:08:08.955Z"
   },
   {
    "duration": 3,
    "start_time": "2023-03-16T17:08:28.452Z"
   },
   {
    "duration": 5,
    "start_time": "2023-03-16T17:08:29.459Z"
   },
   {
    "duration": 2920,
    "start_time": "2023-03-16T17:09:47.794Z"
   },
   {
    "duration": 2838,
    "start_time": "2023-03-16T17:10:31.449Z"
   },
   {
    "duration": 6,
    "start_time": "2023-03-16T17:10:58.008Z"
   },
   {
    "duration": 3988,
    "start_time": "2023-03-16T17:11:51.264Z"
   },
   {
    "duration": 198,
    "start_time": "2023-03-16T17:12:37.430Z"
   },
   {
    "duration": 14,
    "start_time": "2023-03-16T17:18:26.650Z"
   },
   {
    "duration": 11,
    "start_time": "2023-03-16T17:20:04.431Z"
   },
   {
    "duration": 3,
    "start_time": "2023-03-16T17:27:50.792Z"
   },
   {
    "duration": 2705,
    "start_time": "2023-03-16T17:28:04.232Z"
   },
   {
    "duration": 1414,
    "start_time": "2023-03-16T17:28:16.238Z"
   },
   {
    "duration": 65,
    "start_time": "2023-03-16T17:28:17.654Z"
   },
   {
    "duration": 13,
    "start_time": "2023-03-16T17:28:17.721Z"
   },
   {
    "duration": 7,
    "start_time": "2023-03-16T17:28:17.736Z"
   },
   {
    "duration": 8,
    "start_time": "2023-03-16T17:28:17.745Z"
   },
   {
    "duration": 392,
    "start_time": "2023-03-16T17:28:17.754Z"
   },
   {
    "duration": 35,
    "start_time": "2023-03-16T17:28:18.148Z"
   },
   {
    "duration": 811,
    "start_time": "2023-03-16T17:28:18.185Z"
   },
   {
    "duration": 0,
    "start_time": "2023-03-16T17:28:18.998Z"
   },
   {
    "duration": 0,
    "start_time": "2023-03-16T17:28:19.001Z"
   },
   {
    "duration": 0,
    "start_time": "2023-03-16T17:28:19.002Z"
   },
   {
    "duration": 0,
    "start_time": "2023-03-16T17:28:19.003Z"
   },
   {
    "duration": 0,
    "start_time": "2023-03-16T17:28:19.004Z"
   },
   {
    "duration": 0,
    "start_time": "2023-03-16T17:28:19.005Z"
   },
   {
    "duration": 0,
    "start_time": "2023-03-16T17:28:19.006Z"
   },
   {
    "duration": 0,
    "start_time": "2023-03-16T17:28:19.006Z"
   },
   {
    "duration": 0,
    "start_time": "2023-03-16T17:28:19.008Z"
   },
   {
    "duration": 0,
    "start_time": "2023-03-16T17:28:19.008Z"
   },
   {
    "duration": 0,
    "start_time": "2023-03-16T17:28:19.009Z"
   },
   {
    "duration": 0,
    "start_time": "2023-03-16T17:28:19.010Z"
   },
   {
    "duration": 0,
    "start_time": "2023-03-16T17:28:19.011Z"
   },
   {
    "duration": 0,
    "start_time": "2023-03-16T17:28:19.012Z"
   },
   {
    "duration": 0,
    "start_time": "2023-03-16T17:28:19.013Z"
   },
   {
    "duration": 0,
    "start_time": "2023-03-16T17:28:19.014Z"
   },
   {
    "duration": 114,
    "start_time": "2023-03-16T17:28:37.663Z"
   },
   {
    "duration": 7,
    "start_time": "2023-03-16T17:28:42.126Z"
   },
   {
    "duration": 7,
    "start_time": "2023-03-16T17:28:45.007Z"
   },
   {
    "duration": 5,
    "start_time": "2023-03-16T17:28:45.792Z"
   },
   {
    "duration": 3,
    "start_time": "2023-03-16T17:28:46.646Z"
   },
   {
    "duration": 3,
    "start_time": "2023-03-16T17:28:48.270Z"
   },
   {
    "duration": 4,
    "start_time": "2023-03-16T17:28:49.189Z"
   },
   {
    "duration": 17,
    "start_time": "2023-03-16T17:28:52.496Z"
   },
   {
    "duration": 1408,
    "start_time": "2023-03-16T17:29:09.191Z"
   },
   {
    "duration": 65,
    "start_time": "2023-03-16T17:29:10.601Z"
   },
   {
    "duration": 11,
    "start_time": "2023-03-16T17:29:10.667Z"
   },
   {
    "duration": 4,
    "start_time": "2023-03-16T17:29:10.680Z"
   },
   {
    "duration": 7,
    "start_time": "2023-03-16T17:29:10.685Z"
   },
   {
    "duration": 368,
    "start_time": "2023-03-16T17:29:10.694Z"
   },
   {
    "duration": 28,
    "start_time": "2023-03-16T17:29:11.064Z"
   },
   {
    "duration": 124,
    "start_time": "2023-03-16T17:29:11.093Z"
   },
   {
    "duration": 7,
    "start_time": "2023-03-16T17:29:11.219Z"
   },
   {
    "duration": 6,
    "start_time": "2023-03-16T17:29:11.229Z"
   },
   {
    "duration": 6,
    "start_time": "2023-03-16T17:29:11.237Z"
   },
   {
    "duration": 6,
    "start_time": "2023-03-16T17:29:11.244Z"
   },
   {
    "duration": 23,
    "start_time": "2023-03-16T17:29:11.252Z"
   },
   {
    "duration": 5,
    "start_time": "2023-03-16T17:29:11.277Z"
   },
   {
    "duration": 4,
    "start_time": "2023-03-16T17:29:11.284Z"
   },
   {
    "duration": 2698,
    "start_time": "2023-03-16T17:29:11.289Z"
   },
   {
    "duration": 3673,
    "start_time": "2023-03-16T17:29:13.989Z"
   },
   {
    "duration": 2,
    "start_time": "2023-03-16T17:29:17.664Z"
   },
   {
    "duration": 192,
    "start_time": "2023-03-16T17:29:17.676Z"
   },
   {
    "duration": 14,
    "start_time": "2023-03-16T17:29:17.870Z"
   },
   {
    "duration": 2,
    "start_time": "2023-03-16T17:29:17.886Z"
   },
   {
    "duration": 11,
    "start_time": "2023-03-16T17:29:17.889Z"
   },
   {
    "duration": 4,
    "start_time": "2023-03-16T17:29:17.901Z"
   },
   {
    "duration": 127,
    "start_time": "2023-03-16T17:29:17.906Z"
   },
   {
    "duration": 10,
    "start_time": "2023-03-16T17:29:40.086Z"
   },
   {
    "duration": 5,
    "start_time": "2023-03-16T17:29:42.620Z"
   },
   {
    "duration": 2657,
    "start_time": "2023-03-16T17:31:46.251Z"
   },
   {
    "duration": 3703,
    "start_time": "2023-03-16T17:31:51.588Z"
   },
   {
    "duration": 182,
    "start_time": "2023-03-16T17:31:59.988Z"
   },
   {
    "duration": 11,
    "start_time": "2023-03-16T17:32:07.780Z"
   },
   {
    "duration": 10,
    "start_time": "2023-03-16T17:33:21.899Z"
   },
   {
    "duration": 5,
    "start_time": "2023-03-16T17:33:23.121Z"
   },
   {
    "duration": 11,
    "start_time": "2023-03-16T17:33:23.769Z"
   },
   {
    "duration": 13,
    "start_time": "2023-03-16T17:42:00.401Z"
   },
   {
    "duration": 10,
    "start_time": "2023-03-16T17:42:22.601Z"
   },
   {
    "duration": 5,
    "start_time": "2023-03-16T17:42:31.249Z"
   },
   {
    "duration": 17,
    "start_time": "2023-03-16T17:42:44.193Z"
   },
   {
    "duration": 5,
    "start_time": "2023-03-16T17:43:37.392Z"
   },
   {
    "duration": 9,
    "start_time": "2023-03-16T17:43:42.007Z"
   },
   {
    "duration": 10,
    "start_time": "2023-03-16T17:43:48.063Z"
   },
   {
    "duration": 9,
    "start_time": "2023-03-16T17:43:53.063Z"
   },
   {
    "duration": 7,
    "start_time": "2023-03-16T17:44:57.120Z"
   },
   {
    "duration": 6,
    "start_time": "2023-03-16T17:45:03.335Z"
   },
   {
    "duration": 16,
    "start_time": "2023-03-16T17:45:59.110Z"
   },
   {
    "duration": 18,
    "start_time": "2023-03-16T17:49:07.913Z"
   },
   {
    "duration": 15,
    "start_time": "2023-03-16T17:49:22.689Z"
   },
   {
    "duration": 15,
    "start_time": "2023-03-16T17:49:43.434Z"
   },
   {
    "duration": 17,
    "start_time": "2023-03-16T17:50:13.416Z"
   },
   {
    "duration": 14,
    "start_time": "2023-03-16T17:50:25.593Z"
   },
   {
    "duration": 1450,
    "start_time": "2023-03-16T17:50:39.963Z"
   },
   {
    "duration": 72,
    "start_time": "2023-03-16T17:50:41.415Z"
   },
   {
    "duration": 13,
    "start_time": "2023-03-16T17:50:41.493Z"
   },
   {
    "duration": 7,
    "start_time": "2023-03-16T17:50:41.508Z"
   },
   {
    "duration": 8,
    "start_time": "2023-03-16T17:50:41.516Z"
   },
   {
    "duration": 421,
    "start_time": "2023-03-16T17:50:41.526Z"
   },
   {
    "duration": 34,
    "start_time": "2023-03-16T17:50:41.949Z"
   },
   {
    "duration": 118,
    "start_time": "2023-03-16T17:50:41.985Z"
   },
   {
    "duration": 8,
    "start_time": "2023-03-16T17:50:42.106Z"
   },
   {
    "duration": 22,
    "start_time": "2023-03-16T17:50:42.116Z"
   },
   {
    "duration": 7,
    "start_time": "2023-03-16T17:50:42.139Z"
   },
   {
    "duration": 13,
    "start_time": "2023-03-16T17:50:42.148Z"
   },
   {
    "duration": 6,
    "start_time": "2023-03-16T17:50:42.163Z"
   },
   {
    "duration": 12,
    "start_time": "2023-03-16T17:50:42.175Z"
   },
   {
    "duration": 5,
    "start_time": "2023-03-16T17:50:42.190Z"
   },
   {
    "duration": 2834,
    "start_time": "2023-03-16T17:50:42.196Z"
   },
   {
    "duration": 3785,
    "start_time": "2023-03-16T17:50:45.031Z"
   },
   {
    "duration": 2,
    "start_time": "2023-03-16T17:50:48.818Z"
   },
   {
    "duration": 203,
    "start_time": "2023-03-16T17:50:48.822Z"
   },
   {
    "duration": 12,
    "start_time": "2023-03-16T17:50:49.027Z"
   },
   {
    "duration": 9,
    "start_time": "2023-03-16T17:50:49.040Z"
   },
   {
    "duration": 28,
    "start_time": "2023-03-16T17:50:49.051Z"
   },
   {
    "duration": 11,
    "start_time": "2023-03-16T17:50:49.080Z"
   },
   {
    "duration": 122,
    "start_time": "2023-03-16T17:50:49.092Z"
   },
   {
    "duration": 13,
    "start_time": "2023-03-16T17:51:05.753Z"
   },
   {
    "duration": 5,
    "start_time": "2023-03-16T17:51:09.609Z"
   },
   {
    "duration": 24,
    "start_time": "2023-03-16T17:51:21.865Z"
   },
   {
    "duration": 17,
    "start_time": "2023-03-16T17:51:36.768Z"
   },
   {
    "duration": 15,
    "start_time": "2023-03-16T17:51:45.039Z"
   },
   {
    "duration": 17,
    "start_time": "2023-03-16T17:52:40.856Z"
   },
   {
    "duration": 15,
    "start_time": "2023-03-16T17:52:47.615Z"
   },
   {
    "duration": 23,
    "start_time": "2023-03-16T17:53:13.375Z"
   },
   {
    "duration": 15,
    "start_time": "2023-03-16T17:53:24.279Z"
   },
   {
    "duration": 14,
    "start_time": "2023-03-16T17:53:58.886Z"
   },
   {
    "duration": 6,
    "start_time": "2023-03-16T17:54:20.309Z"
   },
   {
    "duration": 11,
    "start_time": "2023-03-16T17:54:40.254Z"
   },
   {
    "duration": 9,
    "start_time": "2023-03-16T17:54:42.685Z"
   },
   {
    "duration": 12,
    "start_time": "2023-03-16T17:54:48.013Z"
   },
   {
    "duration": 8,
    "start_time": "2023-03-16T17:54:59.900Z"
   },
   {
    "duration": 12,
    "start_time": "2023-03-16T17:55:50.227Z"
   },
   {
    "duration": 9,
    "start_time": "2023-03-16T17:56:12.323Z"
   },
   {
    "duration": 12,
    "start_time": "2023-03-16T17:56:35.324Z"
   },
   {
    "duration": 10,
    "start_time": "2023-03-16T18:17:51.928Z"
   },
   {
    "duration": 117,
    "start_time": "2023-03-16T18:19:43.037Z"
   },
   {
    "duration": 241,
    "start_time": "2023-03-16T18:19:54.022Z"
   },
   {
    "duration": 243,
    "start_time": "2023-03-16T18:24:48.055Z"
   },
   {
    "duration": 169,
    "start_time": "2023-03-16T18:34:21.240Z"
   },
   {
    "duration": 55,
    "start_time": "2023-03-17T06:55:12.664Z"
   },
   {
    "duration": 1769,
    "start_time": "2023-03-17T06:55:18.506Z"
   },
   {
    "duration": 188,
    "start_time": "2023-03-17T06:55:20.277Z"
   },
   {
    "duration": 15,
    "start_time": "2023-03-17T06:55:20.467Z"
   },
   {
    "duration": 25,
    "start_time": "2023-03-17T06:55:20.486Z"
   },
   {
    "duration": 12,
    "start_time": "2023-03-17T06:55:20.513Z"
   },
   {
    "duration": 501,
    "start_time": "2023-03-17T06:55:20.527Z"
   },
   {
    "duration": 25,
    "start_time": "2023-03-17T06:55:21.030Z"
   },
   {
    "duration": 134,
    "start_time": "2023-03-17T06:55:21.057Z"
   },
   {
    "duration": 9,
    "start_time": "2023-03-17T06:55:21.193Z"
   },
   {
    "duration": 11,
    "start_time": "2023-03-17T06:55:21.206Z"
   },
   {
    "duration": 9,
    "start_time": "2023-03-17T06:55:21.219Z"
   },
   {
    "duration": 12,
    "start_time": "2023-03-17T06:55:21.230Z"
   },
   {
    "duration": 31,
    "start_time": "2023-03-17T06:55:21.244Z"
   },
   {
    "duration": 18,
    "start_time": "2023-03-17T06:55:21.278Z"
   },
   {
    "duration": 7,
    "start_time": "2023-03-17T06:55:21.298Z"
   },
   {
    "duration": 3088,
    "start_time": "2023-03-17T06:55:21.307Z"
   },
   {
    "duration": 4221,
    "start_time": "2023-03-17T06:55:24.397Z"
   },
   {
    "duration": 4,
    "start_time": "2023-03-17T06:55:28.620Z"
   },
   {
    "duration": 238,
    "start_time": "2023-03-17T06:55:28.626Z"
   },
   {
    "duration": 20,
    "start_time": "2023-03-17T06:55:28.866Z"
   },
   {
    "duration": 20,
    "start_time": "2023-03-17T06:55:28.888Z"
   },
   {
    "duration": 32,
    "start_time": "2023-03-17T06:55:28.911Z"
   },
   {
    "duration": 30,
    "start_time": "2023-03-17T06:55:28.945Z"
   },
   {
    "duration": 358,
    "start_time": "2023-03-17T06:55:28.979Z"
   },
   {
    "duration": 15,
    "start_time": "2023-03-17T06:57:49.331Z"
   },
   {
    "duration": 6,
    "start_time": "2023-03-17T06:57:50.372Z"
   },
   {
    "duration": 3320,
    "start_time": "2023-04-05T08:47:46.228Z"
   },
   {
    "duration": 233,
    "start_time": "2023-04-05T08:47:49.551Z"
   },
   {
    "duration": 15,
    "start_time": "2023-04-05T08:47:49.786Z"
   },
   {
    "duration": 13,
    "start_time": "2023-04-05T08:47:49.803Z"
   },
   {
    "duration": 18,
    "start_time": "2023-04-05T08:47:49.818Z"
   },
   {
    "duration": 13,
    "start_time": "2023-04-05T08:47:49.838Z"
   },
   {
    "duration": 23,
    "start_time": "2023-04-05T08:47:49.854Z"
   },
   {
    "duration": 28,
    "start_time": "2023-04-05T08:47:49.880Z"
   },
   {
    "duration": 28,
    "start_time": "2023-04-05T08:47:49.910Z"
   },
   {
    "duration": 470,
    "start_time": "2023-04-05T08:47:49.941Z"
   },
   {
    "duration": 14,
    "start_time": "2023-04-05T08:47:50.413Z"
   },
   {
    "duration": 36,
    "start_time": "2023-04-05T08:47:50.434Z"
   },
   {
    "duration": 136,
    "start_time": "2023-04-05T08:47:50.472Z"
   },
   {
    "duration": 7,
    "start_time": "2023-04-05T08:47:50.610Z"
   },
   {
    "duration": 24,
    "start_time": "2023-04-05T08:47:50.619Z"
   },
   {
    "duration": 19,
    "start_time": "2023-04-05T08:47:50.645Z"
   },
   {
    "duration": 5,
    "start_time": "2023-04-05T08:47:50.665Z"
   },
   {
    "duration": 13,
    "start_time": "2023-04-05T08:47:50.671Z"
   },
   {
    "duration": 9,
    "start_time": "2023-04-05T08:47:50.686Z"
   },
   {
    "duration": 5985,
    "start_time": "2023-04-05T08:47:50.697Z"
   },
   {
    "duration": 7412,
    "start_time": "2023-04-05T08:47:56.684Z"
   },
   {
    "duration": 15041,
    "start_time": "2023-04-05T08:48:04.099Z"
   },
   {
    "duration": 431,
    "start_time": "2023-04-05T08:48:19.142Z"
   },
   {
    "duration": 14,
    "start_time": "2023-04-05T08:48:19.576Z"
   },
   {
    "duration": 12336,
    "start_time": "2023-04-05T08:48:19.592Z"
   },
   {
    "duration": 12153,
    "start_time": "2023-04-05T08:48:31.933Z"
   },
   {
    "duration": 23356,
    "start_time": "2023-04-05T08:48:44.087Z"
   },
   {
    "duration": 98,
    "start_time": "2023-04-05T08:49:07.447Z"
   },
   {
    "duration": 4251,
    "start_time": "2023-04-05T08:49:07.547Z"
   },
   {
    "duration": 3825,
    "start_time": "2023-04-05T08:49:11.800Z"
   },
   {
    "duration": 9804,
    "start_time": "2023-04-05T08:49:15.632Z"
   },
   {
    "duration": 17,
    "start_time": "2023-04-05T08:49:25.438Z"
   },
   {
    "duration": 218,
    "start_time": "2023-04-05T08:49:25.457Z"
   },
   {
    "duration": 415,
    "start_time": "2023-04-05T08:49:25.677Z"
   },
   {
    "duration": 1814,
    "start_time": "2023-04-05T09:50:18.579Z"
   },
   {
    "duration": 1481,
    "start_time": "2023-04-05T09:50:41.790Z"
   },
   {
    "duration": 117,
    "start_time": "2023-04-05T09:50:43.274Z"
   },
   {
    "duration": 15,
    "start_time": "2023-04-05T09:50:43.392Z"
   },
   {
    "duration": 4,
    "start_time": "2023-04-05T09:50:43.409Z"
   },
   {
    "duration": 14,
    "start_time": "2023-04-05T09:50:43.414Z"
   },
   {
    "duration": 8,
    "start_time": "2023-04-05T09:50:43.430Z"
   },
   {
    "duration": 25,
    "start_time": "2023-04-05T09:50:43.439Z"
   },
   {
    "duration": 5,
    "start_time": "2023-04-05T09:50:43.466Z"
   },
   {
    "duration": 10,
    "start_time": "2023-04-05T09:50:43.473Z"
   },
   {
    "duration": 447,
    "start_time": "2023-04-05T09:50:43.486Z"
   },
   {
    "duration": 15,
    "start_time": "2023-04-05T09:50:43.934Z"
   },
   {
    "duration": 37,
    "start_time": "2023-04-05T09:50:43.950Z"
   },
   {
    "duration": 143,
    "start_time": "2023-04-05T09:50:43.988Z"
   },
   {
    "duration": 8,
    "start_time": "2023-04-05T09:50:44.133Z"
   },
   {
    "duration": 10,
    "start_time": "2023-04-05T09:50:44.143Z"
   },
   {
    "duration": 16,
    "start_time": "2023-04-05T09:50:44.154Z"
   },
   {
    "duration": 4,
    "start_time": "2023-04-05T09:50:44.171Z"
   },
   {
    "duration": 9,
    "start_time": "2023-04-05T09:50:44.176Z"
   },
   {
    "duration": 37,
    "start_time": "2023-04-05T09:50:44.187Z"
   },
   {
    "duration": 5822,
    "start_time": "2023-04-05T09:50:44.226Z"
   },
   {
    "duration": 6235,
    "start_time": "2023-04-05T09:50:50.050Z"
   },
   {
    "duration": 7037,
    "start_time": "2023-04-05T09:50:56.287Z"
   },
   {
    "duration": 352,
    "start_time": "2023-04-05T09:51:03.327Z"
   },
   {
    "duration": 17,
    "start_time": "2023-04-05T09:51:03.681Z"
   },
   {
    "duration": 11729,
    "start_time": "2023-04-05T09:51:03.700Z"
   },
   {
    "duration": 11841,
    "start_time": "2023-04-05T09:51:15.431Z"
   },
   {
    "duration": 20495,
    "start_time": "2023-04-05T09:51:27.274Z"
   },
   {
    "duration": 98,
    "start_time": "2023-04-05T09:51:47.827Z"
   },
   {
    "duration": 3885,
    "start_time": "2023-04-05T09:51:47.928Z"
   },
   {
    "duration": 3704,
    "start_time": "2023-04-05T09:51:51.815Z"
   },
   {
    "duration": 5019,
    "start_time": "2023-04-05T09:51:55.520Z"
   },
   {
    "duration": 20,
    "start_time": "2023-04-05T09:52:00.625Z"
   },
   {
    "duration": 209,
    "start_time": "2023-04-05T09:52:00.648Z"
   },
   {
    "duration": 443,
    "start_time": "2023-04-05T09:52:00.859Z"
   },
   {
    "duration": 1507,
    "start_time": "2023-04-05T09:59:18.012Z"
   },
   {
    "duration": 73,
    "start_time": "2023-04-05T09:59:19.521Z"
   },
   {
    "duration": 13,
    "start_time": "2023-04-05T09:59:19.596Z"
   },
   {
    "duration": 4,
    "start_time": "2023-04-05T09:59:19.611Z"
   },
   {
    "duration": 21,
    "start_time": "2023-04-05T09:59:19.616Z"
   },
   {
    "duration": 8,
    "start_time": "2023-04-05T09:59:19.638Z"
   },
   {
    "duration": 8,
    "start_time": "2023-04-05T09:59:19.648Z"
   },
   {
    "duration": 17,
    "start_time": "2023-04-05T09:59:19.658Z"
   },
   {
    "duration": 17,
    "start_time": "2023-04-05T09:59:19.677Z"
   },
   {
    "duration": 434,
    "start_time": "2023-04-05T09:59:19.697Z"
   },
   {
    "duration": 13,
    "start_time": "2023-04-05T09:59:20.133Z"
   },
   {
    "duration": 48,
    "start_time": "2023-04-05T09:59:20.147Z"
   },
   {
    "duration": 164,
    "start_time": "2023-04-05T09:59:20.197Z"
   },
   {
    "duration": 10,
    "start_time": "2023-04-05T09:59:20.363Z"
   },
   {
    "duration": 28,
    "start_time": "2023-04-05T09:59:20.375Z"
   },
   {
    "duration": 44,
    "start_time": "2023-04-05T09:59:20.406Z"
   },
   {
    "duration": 8,
    "start_time": "2023-04-05T09:59:20.452Z"
   },
   {
    "duration": 20,
    "start_time": "2023-04-05T09:59:20.461Z"
   },
   {
    "duration": 30,
    "start_time": "2023-04-05T09:59:20.483Z"
   },
   {
    "duration": 5860,
    "start_time": "2023-04-05T09:59:20.516Z"
   },
   {
    "duration": 6108,
    "start_time": "2023-04-05T09:59:26.378Z"
   },
   {
    "duration": 8836,
    "start_time": "2023-04-05T09:59:32.488Z"
   },
   {
    "duration": 262,
    "start_time": "2023-04-05T09:59:41.326Z"
   },
   {
    "duration": 12,
    "start_time": "2023-04-05T09:59:41.591Z"
   },
   {
    "duration": 8490,
    "start_time": "2023-04-05T09:59:41.605Z"
   },
   {
    "duration": 8285,
    "start_time": "2023-04-05T09:59:50.097Z"
   },
   {
    "duration": 12840,
    "start_time": "2023-04-05T09:59:58.384Z"
   },
   {
    "duration": 99,
    "start_time": "2023-04-05T10:00:11.230Z"
   },
   {
    "duration": 4358,
    "start_time": "2023-04-05T10:00:11.332Z"
   },
   {
    "duration": 4115,
    "start_time": "2023-04-05T10:00:15.692Z"
   },
   {
    "duration": 5549,
    "start_time": "2023-04-05T10:00:19.809Z"
   },
   {
    "duration": 106,
    "start_time": "2023-04-05T10:00:25.425Z"
   },
   {
    "duration": 169,
    "start_time": "2023-04-05T10:00:25.533Z"
   },
   {
    "duration": 382,
    "start_time": "2023-04-05T10:00:25.704Z"
   },
   {
    "duration": 6,
    "start_time": "2023-04-05T10:05:08.544Z"
   },
   {
    "duration": 10,
    "start_time": "2023-04-05T10:05:13.089Z"
   },
   {
    "duration": 5,
    "start_time": "2023-04-05T10:05:17.601Z"
   },
   {
    "duration": 8,
    "start_time": "2023-04-05T10:05:35.815Z"
   },
   {
    "duration": 9,
    "start_time": "2023-04-05T10:06:03.489Z"
   },
   {
    "duration": 8,
    "start_time": "2023-04-05T10:06:11.135Z"
   },
   {
    "duration": 7,
    "start_time": "2023-04-05T10:06:22.111Z"
   },
   {
    "duration": 1486,
    "start_time": "2023-04-05T10:06:26.439Z"
   },
   {
    "duration": 75,
    "start_time": "2023-04-05T10:06:27.928Z"
   },
   {
    "duration": 13,
    "start_time": "2023-04-05T10:06:28.004Z"
   },
   {
    "duration": 3,
    "start_time": "2023-04-05T10:06:28.020Z"
   },
   {
    "duration": 13,
    "start_time": "2023-04-05T10:06:28.025Z"
   },
   {
    "duration": 8,
    "start_time": "2023-04-05T10:06:28.039Z"
   },
   {
    "duration": 24,
    "start_time": "2023-04-05T10:06:28.048Z"
   },
   {
    "duration": 12,
    "start_time": "2023-04-05T10:06:28.074Z"
   },
   {
    "duration": 4,
    "start_time": "2023-04-05T10:06:28.088Z"
   },
   {
    "duration": 424,
    "start_time": "2023-04-05T10:06:28.096Z"
   },
   {
    "duration": 14,
    "start_time": "2023-04-05T10:06:28.522Z"
   },
   {
    "duration": 35,
    "start_time": "2023-04-05T10:06:28.537Z"
   },
   {
    "duration": 136,
    "start_time": "2023-04-05T10:06:28.574Z"
   },
   {
    "duration": 17,
    "start_time": "2023-04-05T10:06:28.712Z"
   },
   {
    "duration": 15,
    "start_time": "2023-04-05T10:06:28.731Z"
   },
   {
    "duration": 23,
    "start_time": "2023-04-05T10:06:28.747Z"
   },
   {
    "duration": 9,
    "start_time": "2023-04-05T10:06:28.771Z"
   },
   {
    "duration": 25,
    "start_time": "2023-04-05T10:06:28.782Z"
   },
   {
    "duration": 15,
    "start_time": "2023-04-05T10:06:28.808Z"
   },
   {
    "duration": 5792,
    "start_time": "2023-04-05T10:06:28.825Z"
   },
   {
    "duration": 5804,
    "start_time": "2023-04-05T10:06:34.619Z"
   },
   {
    "duration": 6699,
    "start_time": "2023-04-05T10:06:40.425Z"
   },
   {
    "duration": 339,
    "start_time": "2023-04-05T10:06:47.128Z"
   },
   {
    "duration": 12,
    "start_time": "2023-04-05T10:06:47.468Z"
   },
   {
    "duration": 8524,
    "start_time": "2023-04-05T10:06:47.482Z"
   },
   {
    "duration": 8222,
    "start_time": "2023-04-05T10:06:56.009Z"
   },
   {
    "duration": 11292,
    "start_time": "2023-04-05T10:07:04.233Z"
   },
   {
    "duration": 98,
    "start_time": "2023-04-05T10:07:15.529Z"
   },
   {
    "duration": 4276,
    "start_time": "2023-04-05T10:07:15.629Z"
   },
   {
    "duration": 4323,
    "start_time": "2023-04-05T10:07:19.907Z"
   },
   {
    "duration": 4734,
    "start_time": "2023-04-05T10:07:24.232Z"
   },
   {
    "duration": 102,
    "start_time": "2023-04-05T10:07:29.023Z"
   },
   {
    "duration": 160,
    "start_time": "2023-04-05T10:07:29.127Z"
   },
   {
    "duration": 405,
    "start_time": "2023-04-05T10:07:29.289Z"
   },
   {
    "duration": 129,
    "start_time": "2023-04-05T10:07:29.696Z"
   },
   {
    "duration": 8,
    "start_time": "2023-04-05T10:07:45.622Z"
   },
   {
    "duration": 8,
    "start_time": "2023-04-05T10:08:07.797Z"
   },
   {
    "duration": 4,
    "start_time": "2023-04-05T10:08:29.141Z"
   },
   {
    "duration": 6,
    "start_time": "2023-04-05T10:08:31.748Z"
   },
   {
    "duration": 23,
    "start_time": "2023-04-05T10:09:21.331Z"
   },
   {
    "duration": 11,
    "start_time": "2023-04-05T10:09:36.324Z"
   },
   {
    "duration": 11,
    "start_time": "2023-04-05T10:09:46.476Z"
   },
   {
    "duration": 1497,
    "start_time": "2023-04-05T10:09:56.015Z"
   },
   {
    "duration": 175,
    "start_time": "2023-04-05T10:09:57.514Z"
   },
   {
    "duration": 14,
    "start_time": "2023-04-05T10:09:57.691Z"
   },
   {
    "duration": 15,
    "start_time": "2023-04-05T10:09:57.707Z"
   },
   {
    "duration": 13,
    "start_time": "2023-04-05T10:09:57.724Z"
   },
   {
    "duration": 9,
    "start_time": "2023-04-05T10:09:57.739Z"
   },
   {
    "duration": 7,
    "start_time": "2023-04-05T10:09:57.750Z"
   },
   {
    "duration": 21,
    "start_time": "2023-04-05T10:09:57.759Z"
   },
   {
    "duration": 9,
    "start_time": "2023-04-05T10:09:57.782Z"
   },
   {
    "duration": 430,
    "start_time": "2023-04-05T10:09:57.794Z"
   },
   {
    "duration": 18,
    "start_time": "2023-04-05T10:09:58.226Z"
   },
   {
    "duration": 36,
    "start_time": "2023-04-05T10:09:58.245Z"
   },
   {
    "duration": 143,
    "start_time": "2023-04-05T10:09:58.283Z"
   },
   {
    "duration": 7,
    "start_time": "2023-04-05T10:09:58.428Z"
   },
   {
    "duration": 9,
    "start_time": "2023-04-05T10:09:58.437Z"
   },
   {
    "duration": 16,
    "start_time": "2023-04-05T10:09:58.448Z"
   },
   {
    "duration": 4,
    "start_time": "2023-04-05T10:09:58.466Z"
   },
   {
    "duration": 22,
    "start_time": "2023-04-05T10:09:58.472Z"
   },
   {
    "duration": 39,
    "start_time": "2023-04-05T10:09:58.495Z"
   },
   {
    "duration": 155,
    "start_time": "2023-04-05T10:09:58.536Z"
   },
   {
    "duration": 0,
    "start_time": "2023-04-05T10:09:58.693Z"
   },
   {
    "duration": 0,
    "start_time": "2023-04-05T10:09:58.694Z"
   },
   {
    "duration": 0,
    "start_time": "2023-04-05T10:09:58.695Z"
   },
   {
    "duration": 0,
    "start_time": "2023-04-05T10:09:58.696Z"
   },
   {
    "duration": 0,
    "start_time": "2023-04-05T10:09:58.698Z"
   },
   {
    "duration": 0,
    "start_time": "2023-04-05T10:09:58.699Z"
   },
   {
    "duration": 0,
    "start_time": "2023-04-05T10:09:58.700Z"
   },
   {
    "duration": 0,
    "start_time": "2023-04-05T10:09:58.702Z"
   },
   {
    "duration": 0,
    "start_time": "2023-04-05T10:09:58.703Z"
   },
   {
    "duration": 0,
    "start_time": "2023-04-05T10:09:58.723Z"
   },
   {
    "duration": 0,
    "start_time": "2023-04-05T10:09:58.725Z"
   },
   {
    "duration": 0,
    "start_time": "2023-04-05T10:09:58.727Z"
   },
   {
    "duration": 0,
    "start_time": "2023-04-05T10:09:58.728Z"
   },
   {
    "duration": 0,
    "start_time": "2023-04-05T10:09:58.730Z"
   },
   {
    "duration": 7,
    "start_time": "2023-04-05T10:10:33.603Z"
   },
   {
    "duration": 25,
    "start_time": "2023-04-05T10:12:38.025Z"
   },
   {
    "duration": 16,
    "start_time": "2023-04-05T10:12:46.856Z"
   },
   {
    "duration": 4,
    "start_time": "2023-04-05T10:12:48.023Z"
   },
   {
    "duration": 4,
    "start_time": "2023-04-05T10:12:48.808Z"
   },
   {
    "duration": 4,
    "start_time": "2023-04-05T10:12:50.575Z"
   },
   {
    "duration": 31,
    "start_time": "2023-04-05T10:12:52.208Z"
   },
   {
    "duration": 4,
    "start_time": "2023-04-05T10:13:27.160Z"
   },
   {
    "duration": 26,
    "start_time": "2023-04-05T10:14:04.496Z"
   },
   {
    "duration": 6,
    "start_time": "2023-04-05T10:16:17.399Z"
   },
   {
    "duration": 6,
    "start_time": "2023-04-05T10:16:19.648Z"
   },
   {
    "duration": 394,
    "start_time": "2023-04-05T10:16:23.836Z"
   },
   {
    "duration": 18,
    "start_time": "2023-04-05T10:16:37.420Z"
   },
   {
    "duration": 1665,
    "start_time": "2023-04-05T10:16:49.071Z"
   },
   {
    "duration": 207,
    "start_time": "2023-04-05T10:16:50.739Z"
   },
   {
    "duration": 14,
    "start_time": "2023-04-05T10:16:50.948Z"
   },
   {
    "duration": 8,
    "start_time": "2023-04-05T10:16:50.963Z"
   },
   {
    "duration": 15,
    "start_time": "2023-04-05T10:16:50.974Z"
   },
   {
    "duration": 34,
    "start_time": "2023-04-05T10:16:50.991Z"
   },
   {
    "duration": 9,
    "start_time": "2023-04-05T10:16:51.028Z"
   },
   {
    "duration": 17,
    "start_time": "2023-04-05T10:16:51.039Z"
   },
   {
    "duration": 25,
    "start_time": "2023-04-05T10:16:51.058Z"
   },
   {
    "duration": 462,
    "start_time": "2023-04-05T10:16:51.085Z"
   },
   {
    "duration": 15,
    "start_time": "2023-04-05T10:16:51.549Z"
   },
   {
    "duration": 39,
    "start_time": "2023-04-05T10:16:51.566Z"
   },
   {
    "duration": 136,
    "start_time": "2023-04-05T10:16:51.624Z"
   },
   {
    "duration": 8,
    "start_time": "2023-04-05T10:16:51.763Z"
   },
   {
    "duration": 19,
    "start_time": "2023-04-05T10:16:51.773Z"
   },
   {
    "duration": 33,
    "start_time": "2023-04-05T10:16:51.794Z"
   },
   {
    "duration": 4,
    "start_time": "2023-04-05T10:16:51.829Z"
   },
   {
    "duration": 7,
    "start_time": "2023-04-05T10:16:51.835Z"
   },
   {
    "duration": 8,
    "start_time": "2023-04-05T10:16:51.844Z"
   },
   {
    "duration": 5756,
    "start_time": "2023-04-05T10:16:51.854Z"
   },
   {
    "duration": 6245,
    "start_time": "2023-04-05T10:16:57.612Z"
   },
   {
    "duration": 6270,
    "start_time": "2023-04-05T10:17:03.859Z"
   },
   {
    "duration": 352,
    "start_time": "2023-04-05T10:17:10.132Z"
   },
   {
    "duration": 20,
    "start_time": "2023-04-05T10:17:10.486Z"
   },
   {
    "duration": 8801,
    "start_time": "2023-04-05T10:17:10.509Z"
   },
   {
    "duration": 8303,
    "start_time": "2023-04-05T10:17:19.312Z"
   },
   {
    "duration": 19708,
    "start_time": "2023-04-05T10:17:27.616Z"
   },
   {
    "duration": 100,
    "start_time": "2023-04-05T10:17:47.331Z"
   },
   {
    "duration": 4382,
    "start_time": "2023-04-05T10:17:47.433Z"
   },
   {
    "duration": 4219,
    "start_time": "2023-04-05T10:17:51.817Z"
   },
   {
    "duration": 6795,
    "start_time": "2023-04-05T10:17:56.038Z"
   },
   {
    "duration": 102,
    "start_time": "2023-04-05T10:18:02.835Z"
   },
   {
    "duration": 163,
    "start_time": "2023-04-05T10:18:02.939Z"
   },
   {
    "duration": 382,
    "start_time": "2023-04-05T10:18:03.104Z"
   },
   {
    "duration": 374,
    "start_time": "2023-04-05T10:48:55.892Z"
   },
   {
    "duration": 361,
    "start_time": "2023-04-05T10:49:04.368Z"
   },
   {
    "duration": 357,
    "start_time": "2023-04-05T10:49:19.732Z"
   },
   {
    "duration": 370,
    "start_time": "2023-04-05T10:50:29.532Z"
   },
   {
    "duration": 375,
    "start_time": "2023-04-05T10:50:33.278Z"
   },
   {
    "duration": 340,
    "start_time": "2023-04-05T10:50:36.259Z"
   },
   {
    "duration": 365,
    "start_time": "2023-04-05T10:50:39.421Z"
   },
   {
    "duration": 124,
    "start_time": "2023-04-05T10:53:28.112Z"
   },
   {
    "duration": 1449,
    "start_time": "2023-04-05T10:53:33.569Z"
   },
   {
    "duration": 75,
    "start_time": "2023-04-05T10:53:35.020Z"
   },
   {
    "duration": 13,
    "start_time": "2023-04-05T10:53:35.096Z"
   },
   {
    "duration": 3,
    "start_time": "2023-04-05T10:53:35.112Z"
   },
   {
    "duration": 13,
    "start_time": "2023-04-05T10:53:35.117Z"
   },
   {
    "duration": 7,
    "start_time": "2023-04-05T10:53:35.132Z"
   },
   {
    "duration": 5,
    "start_time": "2023-04-05T10:53:35.141Z"
   },
   {
    "duration": 5,
    "start_time": "2023-04-05T10:53:35.148Z"
   },
   {
    "duration": 5,
    "start_time": "2023-04-05T10:53:35.154Z"
   },
   {
    "duration": 471,
    "start_time": "2023-04-05T10:53:35.162Z"
   },
   {
    "duration": 14,
    "start_time": "2023-04-05T10:53:35.634Z"
   },
   {
    "duration": 51,
    "start_time": "2023-04-05T10:53:35.650Z"
   },
   {
    "duration": 125,
    "start_time": "2023-04-05T10:53:35.703Z"
   },
   {
    "duration": 8,
    "start_time": "2023-04-05T10:53:35.830Z"
   },
   {
    "duration": 11,
    "start_time": "2023-04-05T10:53:35.839Z"
   },
   {
    "duration": 24,
    "start_time": "2023-04-05T10:53:35.852Z"
   },
   {
    "duration": 15,
    "start_time": "2023-04-05T10:53:35.877Z"
   },
   {
    "duration": 13,
    "start_time": "2023-04-05T10:53:35.894Z"
   },
   {
    "duration": 19,
    "start_time": "2023-04-05T10:53:35.909Z"
   },
   {
    "duration": 7156,
    "start_time": "2023-04-05T10:53:35.930Z"
   },
   {
    "duration": 6771,
    "start_time": "2023-04-05T10:53:43.088Z"
   },
   {
    "duration": 6663,
    "start_time": "2023-04-05T10:53:49.861Z"
   },
   {
    "duration": 261,
    "start_time": "2023-04-05T10:53:56.528Z"
   },
   {
    "duration": 14,
    "start_time": "2023-04-05T10:53:56.790Z"
   },
   {
    "duration": 10544,
    "start_time": "2023-04-05T10:53:56.806Z"
   },
   {
    "duration": 9502,
    "start_time": "2023-04-05T10:54:07.352Z"
   },
   {
    "duration": 12069,
    "start_time": "2023-04-05T10:54:16.856Z"
   },
   {
    "duration": 103,
    "start_time": "2023-04-05T10:54:28.929Z"
   },
   {
    "duration": 4962,
    "start_time": "2023-04-05T10:54:29.035Z"
   },
   {
    "duration": 4458,
    "start_time": "2023-04-05T10:54:33.999Z"
   },
   {
    "duration": 6198,
    "start_time": "2023-04-05T10:54:38.459Z"
   },
   {
    "duration": 171,
    "start_time": "2023-04-05T10:54:44.661Z"
   },
   {
    "duration": 172,
    "start_time": "2023-04-05T10:54:44.835Z"
   },
   {
    "duration": 382,
    "start_time": "2023-04-05T10:54:45.009Z"
   },
   {
    "duration": 256,
    "start_time": "2023-04-05T10:55:52.336Z"
   },
   {
    "duration": 142,
    "start_time": "2023-04-05T10:56:01.103Z"
   },
   {
    "duration": 186,
    "start_time": "2023-04-05T10:56:08.455Z"
   },
   {
    "duration": 145,
    "start_time": "2023-04-05T10:56:47.326Z"
   },
   {
    "duration": 8,
    "start_time": "2023-04-05T10:57:00.397Z"
   },
   {
    "duration": 130,
    "start_time": "2023-04-05T10:57:06.446Z"
   },
   {
    "duration": 7221,
    "start_time": "2023-04-05T10:58:58.019Z"
   },
   {
    "duration": 46,
    "start_time": "2023-04-05T16:26:04.957Z"
   },
   {
    "duration": 7140,
    "start_time": "2023-04-05T16:26:10.890Z"
   },
   {
    "duration": 1543,
    "start_time": "2023-04-05T16:26:18.032Z"
   },
   {
    "duration": 144,
    "start_time": "2023-04-05T16:26:19.577Z"
   },
   {
    "duration": 14,
    "start_time": "2023-04-05T16:26:19.723Z"
   },
   {
    "duration": 20,
    "start_time": "2023-04-05T16:26:19.738Z"
   },
   {
    "duration": 12,
    "start_time": "2023-04-05T16:26:19.759Z"
   },
   {
    "duration": 8,
    "start_time": "2023-04-05T16:26:19.773Z"
   },
   {
    "duration": 5,
    "start_time": "2023-04-05T16:26:19.782Z"
   },
   {
    "duration": 7,
    "start_time": "2023-04-05T16:26:19.788Z"
   },
   {
    "duration": 8,
    "start_time": "2023-04-05T16:26:19.797Z"
   },
   {
    "duration": 465,
    "start_time": "2023-04-05T16:26:19.806Z"
   },
   {
    "duration": 18,
    "start_time": "2023-04-05T16:26:20.273Z"
   },
   {
    "duration": 52,
    "start_time": "2023-04-05T16:26:20.293Z"
   },
   {
    "duration": 130,
    "start_time": "2023-04-05T16:26:20.346Z"
   },
   {
    "duration": 11,
    "start_time": "2023-04-05T16:26:20.478Z"
   },
   {
    "duration": 19,
    "start_time": "2023-04-05T16:26:20.491Z"
   },
   {
    "duration": 17,
    "start_time": "2023-04-05T16:26:20.512Z"
   },
   {
    "duration": 8,
    "start_time": "2023-04-05T16:26:20.531Z"
   },
   {
    "duration": 16,
    "start_time": "2023-04-05T16:26:20.552Z"
   },
   {
    "duration": 3,
    "start_time": "2023-04-05T16:26:20.570Z"
   },
   {
    "duration": 8041,
    "start_time": "2023-04-05T16:26:20.574Z"
   },
   {
    "duration": 7442,
    "start_time": "2023-04-05T16:26:28.617Z"
   },
   {
    "duration": 14028,
    "start_time": "2023-04-05T16:26:36.060Z"
   },
   {
    "duration": 249,
    "start_time": "2023-04-05T16:26:50.149Z"
   },
   {
    "duration": 11,
    "start_time": "2023-04-05T16:26:50.400Z"
   },
   {
    "duration": 11358,
    "start_time": "2023-04-05T16:26:50.412Z"
   },
   {
    "duration": 9936,
    "start_time": "2023-04-05T16:27:01.771Z"
   },
   {
    "duration": 31552,
    "start_time": "2023-04-05T16:27:11.711Z"
   },
   {
    "duration": 81,
    "start_time": "2023-04-05T16:27:43.265Z"
   },
   {
    "duration": 5231,
    "start_time": "2023-04-05T16:27:43.348Z"
   },
   {
    "duration": 4617,
    "start_time": "2023-04-05T16:27:48.581Z"
   },
   {
    "duration": 8385,
    "start_time": "2023-04-05T16:27:53.199Z"
   },
   {
    "duration": 97,
    "start_time": "2023-04-05T16:28:01.657Z"
   },
   {
    "duration": 137,
    "start_time": "2023-04-05T16:28:01.758Z"
   },
   {
    "duration": 369,
    "start_time": "2023-04-05T16:28:01.897Z"
   },
   {
    "duration": 35,
    "start_time": "2023-04-05T16:28:07.485Z"
   },
   {
    "duration": 44,
    "start_time": "2023-04-05T16:28:46.209Z"
   },
   {
    "duration": 53,
    "start_time": "2023-04-05T16:29:29.407Z"
   },
   {
    "duration": 49,
    "start_time": "2023-04-05T16:30:10.971Z"
   },
   {
    "duration": 131,
    "start_time": "2023-04-05T16:31:42.032Z"
   },
   {
    "duration": 164,
    "start_time": "2023-04-05T16:32:25.919Z"
   },
   {
    "duration": 240,
    "start_time": "2023-04-05T16:33:59.276Z"
   },
   {
    "duration": 105,
    "start_time": "2023-04-05T16:36:04.931Z"
   },
   {
    "duration": 12,
    "start_time": "2023-04-05T16:37:43.102Z"
   },
   {
    "duration": 117,
    "start_time": "2023-04-05T16:46:05.862Z"
   },
   {
    "duration": 89,
    "start_time": "2023-04-05T16:46:41.983Z"
   },
   {
    "duration": 7,
    "start_time": "2023-04-05T16:47:36.189Z"
   },
   {
    "duration": 95,
    "start_time": "2023-04-05T16:47:43.677Z"
   },
   {
    "duration": 79,
    "start_time": "2023-04-05T16:49:10.851Z"
   },
   {
    "duration": 101,
    "start_time": "2023-04-05T16:49:35.019Z"
   },
   {
    "duration": 11,
    "start_time": "2023-04-05T16:50:22.161Z"
   },
   {
    "duration": 83,
    "start_time": "2023-04-05T16:50:47.358Z"
   },
   {
    "duration": 147,
    "start_time": "2023-04-05T16:52:03.160Z"
   },
   {
    "duration": 103,
    "start_time": "2023-04-05T16:52:09.008Z"
   },
   {
    "duration": 92,
    "start_time": "2023-04-05T16:52:51.311Z"
   },
   {
    "duration": 115,
    "start_time": "2023-04-05T16:53:06.593Z"
   },
   {
    "duration": 91,
    "start_time": "2023-04-05T16:53:50.637Z"
   },
   {
    "duration": 120,
    "start_time": "2023-04-05T16:57:28.458Z"
   },
   {
    "duration": 2031,
    "start_time": "2023-04-05T16:59:39.796Z"
   },
   {
    "duration": 1203,
    "start_time": "2023-04-05T16:59:41.830Z"
   },
   {
    "duration": 77,
    "start_time": "2023-04-05T16:59:43.034Z"
   },
   {
    "duration": 11,
    "start_time": "2023-04-05T16:59:43.113Z"
   },
   {
    "duration": 2,
    "start_time": "2023-04-05T16:59:43.126Z"
   },
   {
    "duration": 21,
    "start_time": "2023-04-05T16:59:43.130Z"
   },
   {
    "duration": 8,
    "start_time": "2023-04-05T16:59:43.152Z"
   },
   {
    "duration": 5,
    "start_time": "2023-04-05T16:59:43.162Z"
   },
   {
    "duration": 4,
    "start_time": "2023-04-05T16:59:43.168Z"
   },
   {
    "duration": 5,
    "start_time": "2023-04-05T16:59:43.174Z"
   },
   {
    "duration": 439,
    "start_time": "2023-04-05T16:59:43.180Z"
   },
   {
    "duration": 29,
    "start_time": "2023-04-05T16:59:43.620Z"
   },
   {
    "duration": 36,
    "start_time": "2023-04-05T16:59:43.651Z"
   },
   {
    "duration": 94,
    "start_time": "2023-04-05T16:59:43.689Z"
   },
   {
    "duration": 96,
    "start_time": "2023-04-05T16:59:43.785Z"
   },
   {
    "duration": 10,
    "start_time": "2023-04-05T16:59:43.882Z"
   },
   {
    "duration": 15,
    "start_time": "2023-04-05T16:59:43.893Z"
   },
   {
    "duration": 3,
    "start_time": "2023-04-05T16:59:43.909Z"
   },
   {
    "duration": 38,
    "start_time": "2023-04-05T16:59:43.913Z"
   },
   {
    "duration": 3,
    "start_time": "2023-04-05T16:59:43.953Z"
   },
   {
    "duration": 7514,
    "start_time": "2023-04-05T16:59:43.958Z"
   },
   {
    "duration": 7043,
    "start_time": "2023-04-05T16:59:51.474Z"
   },
   {
    "duration": 11225,
    "start_time": "2023-04-05T16:59:58.518Z"
   },
   {
    "duration": 241,
    "start_time": "2023-04-05T17:00:09.751Z"
   },
   {
    "duration": 10,
    "start_time": "2023-04-05T17:00:09.994Z"
   },
   {
    "duration": 10932,
    "start_time": "2023-04-05T17:00:10.006Z"
   },
   {
    "duration": 9784,
    "start_time": "2023-04-05T17:00:20.950Z"
   },
   {
    "duration": 27220,
    "start_time": "2023-04-05T17:00:30.737Z"
   },
   {
    "duration": 103,
    "start_time": "2023-04-05T17:00:57.958Z"
   },
   {
    "duration": 5093,
    "start_time": "2023-04-05T17:00:58.063Z"
   },
   {
    "duration": 4636,
    "start_time": "2023-04-05T17:01:03.157Z"
   },
   {
    "duration": 12150,
    "start_time": "2023-04-05T17:01:07.795Z"
   },
   {
    "duration": 98,
    "start_time": "2023-04-05T17:01:19.947Z"
   },
   {
    "duration": 140,
    "start_time": "2023-04-05T17:01:20.047Z"
   },
   {
    "duration": 347,
    "start_time": "2023-04-05T17:01:20.189Z"
   },
   {
    "duration": 113,
    "start_time": "2023-04-05T17:01:20.542Z"
   },
   {
    "duration": 108,
    "start_time": "2023-04-05T17:02:26.428Z"
   },
   {
    "duration": 89,
    "start_time": "2023-04-05T17:02:43.161Z"
   },
   {
    "duration": 99,
    "start_time": "2023-04-05T17:03:08.561Z"
   },
   {
    "duration": 94,
    "start_time": "2023-04-05T17:04:50.665Z"
   },
   {
    "duration": 275,
    "start_time": "2023-04-05T17:07:05.766Z"
   },
   {
    "duration": 292,
    "start_time": "2023-04-05T17:07:46.784Z"
   },
   {
    "duration": 254,
    "start_time": "2023-04-05T17:07:50.259Z"
   },
   {
    "duration": 270,
    "start_time": "2023-04-05T17:08:02.624Z"
   },
   {
    "duration": 250,
    "start_time": "2023-04-05T17:08:10.967Z"
   },
   {
    "duration": 358,
    "start_time": "2023-04-05T17:08:15.607Z"
   },
   {
    "duration": 243,
    "start_time": "2023-04-05T17:09:17.670Z"
   },
   {
    "duration": 266,
    "start_time": "2023-04-05T17:09:27.563Z"
   },
   {
    "duration": 250,
    "start_time": "2023-04-05T17:09:37.059Z"
   },
   {
    "duration": 233,
    "start_time": "2023-04-05T17:09:40.974Z"
   },
   {
    "duration": 254,
    "start_time": "2023-04-05T17:10:20.352Z"
   },
   {
    "duration": 303,
    "start_time": "2023-04-05T17:11:17.173Z"
   },
   {
    "duration": 300,
    "start_time": "2023-04-05T17:11:38.316Z"
   },
   {
    "duration": 289,
    "start_time": "2023-04-05T17:12:53.540Z"
   },
   {
    "duration": 300,
    "start_time": "2023-04-05T17:13:00.533Z"
   },
   {
    "duration": 142,
    "start_time": "2023-04-05T17:13:39.057Z"
   },
   {
    "duration": 93,
    "start_time": "2023-04-05T17:13:52.171Z"
   },
   {
    "duration": 13,
    "start_time": "2023-04-05T17:14:10.691Z"
   },
   {
    "duration": 86,
    "start_time": "2023-04-05T17:14:16.003Z"
   },
   {
    "duration": 277,
    "start_time": "2023-04-05T17:15:13.755Z"
   },
   {
    "duration": 280,
    "start_time": "2023-04-05T17:15:17.883Z"
   },
   {
    "duration": 354,
    "start_time": "2023-04-05T17:15:23.461Z"
   },
   {
    "duration": 316,
    "start_time": "2023-04-05T17:15:28.897Z"
   },
   {
    "duration": 257,
    "start_time": "2023-04-05T17:15:39.264Z"
   },
   {
    "duration": 304,
    "start_time": "2023-04-05T17:18:46.007Z"
   },
   {
    "duration": 248,
    "start_time": "2023-04-05T17:19:13.964Z"
   },
   {
    "duration": 2055,
    "start_time": "2023-04-05T17:19:20.583Z"
   },
   {
    "duration": 1215,
    "start_time": "2023-04-05T17:19:22.642Z"
   },
   {
    "duration": 70,
    "start_time": "2023-04-05T17:19:23.859Z"
   },
   {
    "duration": 15,
    "start_time": "2023-04-05T17:19:23.931Z"
   },
   {
    "duration": 6,
    "start_time": "2023-04-05T17:19:23.948Z"
   },
   {
    "duration": 19,
    "start_time": "2023-04-05T17:19:23.956Z"
   },
   {
    "duration": 7,
    "start_time": "2023-04-05T17:19:23.977Z"
   },
   {
    "duration": 16,
    "start_time": "2023-04-05T17:19:23.985Z"
   },
   {
    "duration": 18,
    "start_time": "2023-04-05T17:19:24.002Z"
   },
   {
    "duration": 8,
    "start_time": "2023-04-05T17:19:24.022Z"
   },
   {
    "duration": 373,
    "start_time": "2023-04-05T17:19:24.031Z"
   },
   {
    "duration": 14,
    "start_time": "2023-04-05T17:19:24.406Z"
   },
   {
    "duration": 49,
    "start_time": "2023-04-05T17:19:24.422Z"
   },
   {
    "duration": 242,
    "start_time": "2023-04-05T17:19:24.473Z"
   },
   {
    "duration": 103,
    "start_time": "2023-04-05T17:19:24.716Z"
   },
   {
    "duration": 9,
    "start_time": "2023-04-05T17:19:24.821Z"
   },
   {
    "duration": 25,
    "start_time": "2023-04-05T17:19:24.831Z"
   },
   {
    "duration": 3,
    "start_time": "2023-04-05T17:19:24.857Z"
   },
   {
    "duration": 5,
    "start_time": "2023-04-05T17:19:24.861Z"
   },
   {
    "duration": 3,
    "start_time": "2023-04-05T17:19:24.867Z"
   },
   {
    "duration": 7713,
    "start_time": "2023-04-05T17:19:24.871Z"
   },
   {
    "duration": 7145,
    "start_time": "2023-04-05T17:19:32.585Z"
   },
   {
    "duration": 18115,
    "start_time": "2023-04-05T17:19:39.732Z"
   },
   {
    "duration": 306,
    "start_time": "2023-04-05T17:19:57.850Z"
   },
   {
    "duration": 11,
    "start_time": "2023-04-05T17:19:58.159Z"
   },
   {
    "duration": 11247,
    "start_time": "2023-04-05T17:19:58.172Z"
   },
   {
    "duration": 9570,
    "start_time": "2023-04-05T17:20:09.421Z"
   },
   {
    "duration": 28259,
    "start_time": "2023-04-05T17:20:18.994Z"
   },
   {
    "duration": 99,
    "start_time": "2023-04-05T17:20:47.258Z"
   },
   {
    "duration": 4820,
    "start_time": "2023-04-05T17:20:47.359Z"
   },
   {
    "duration": 4496,
    "start_time": "2023-04-05T17:20:52.181Z"
   },
   {
    "duration": 13661,
    "start_time": "2023-04-05T17:20:56.678Z"
   },
   {
    "duration": 101,
    "start_time": "2023-04-05T17:21:10.341Z"
   },
   {
    "duration": 122,
    "start_time": "2023-04-05T17:21:10.447Z"
   },
   {
    "duration": 305,
    "start_time": "2023-04-05T17:21:10.571Z"
   },
   {
    "duration": 279,
    "start_time": "2023-04-05T17:21:11.729Z"
   },
   {
    "duration": 268,
    "start_time": "2023-04-05T17:22:19.138Z"
   },
   {
    "duration": 266,
    "start_time": "2023-04-05T17:22:51.584Z"
   },
   {
    "duration": 272,
    "start_time": "2023-04-05T17:23:20.637Z"
   },
   {
    "duration": 122,
    "start_time": "2023-04-05T17:24:04.751Z"
   },
   {
    "duration": 404,
    "start_time": "2023-04-05T17:25:00.183Z"
   },
   {
    "duration": 385,
    "start_time": "2023-04-05T17:25:06.193Z"
   },
   {
    "duration": 359,
    "start_time": "2023-04-05T17:27:15.704Z"
   },
   {
    "duration": 363,
    "start_time": "2023-04-05T17:27:27.152Z"
   },
   {
    "duration": 280,
    "start_time": "2023-04-05T17:27:35.134Z"
   },
   {
    "duration": 300,
    "start_time": "2023-04-05T17:27:45.599Z"
   },
   {
    "duration": 202,
    "start_time": "2023-04-05T17:28:00.079Z"
   },
   {
    "duration": 346,
    "start_time": "2023-04-05T17:29:01.358Z"
   },
   {
    "duration": 434,
    "start_time": "2023-04-05T17:29:05.798Z"
   },
   {
    "duration": 350,
    "start_time": "2023-04-05T17:31:03.203Z"
   },
   {
    "duration": 344,
    "start_time": "2023-04-05T17:31:19.955Z"
   },
   {
    "duration": 320,
    "start_time": "2023-04-05T17:31:29.075Z"
   },
   {
    "duration": 356,
    "start_time": "2023-04-05T17:31:33.505Z"
   },
   {
    "duration": 377,
    "start_time": "2023-04-05T17:31:49.969Z"
   },
   {
    "duration": 28,
    "start_time": "2023-04-05T17:32:00.521Z"
   },
   {
    "duration": 328,
    "start_time": "2023-04-05T17:32:16.089Z"
   },
   {
    "duration": 175,
    "start_time": "2023-04-05T17:32:45.735Z"
   },
   {
    "duration": 10,
    "start_time": "2023-04-05T17:32:52.871Z"
   },
   {
    "duration": 217,
    "start_time": "2023-04-05T17:33:32.224Z"
   },
   {
    "duration": 301,
    "start_time": "2023-04-05T17:33:54.466Z"
   },
   {
    "duration": 2174,
    "start_time": "2023-04-05T17:34:00.686Z"
   },
   {
    "duration": 1196,
    "start_time": "2023-04-05T17:34:02.862Z"
   },
   {
    "duration": 73,
    "start_time": "2023-04-05T17:34:04.059Z"
   },
   {
    "duration": 17,
    "start_time": "2023-04-05T17:34:04.134Z"
   },
   {
    "duration": 3,
    "start_time": "2023-04-05T17:34:04.153Z"
   },
   {
    "duration": 11,
    "start_time": "2023-04-05T17:34:04.158Z"
   },
   {
    "duration": 7,
    "start_time": "2023-04-05T17:34:04.171Z"
   },
   {
    "duration": 5,
    "start_time": "2023-04-05T17:34:04.180Z"
   },
   {
    "duration": 4,
    "start_time": "2023-04-05T17:34:04.186Z"
   },
   {
    "duration": 5,
    "start_time": "2023-04-05T17:34:04.192Z"
   },
   {
    "duration": 451,
    "start_time": "2023-04-05T17:34:04.198Z"
   },
   {
    "duration": 13,
    "start_time": "2023-04-05T17:34:04.654Z"
   },
   {
    "duration": 37,
    "start_time": "2023-04-05T17:34:04.668Z"
   },
   {
    "duration": 300,
    "start_time": "2023-04-05T17:34:04.706Z"
   },
   {
    "duration": 109,
    "start_time": "2023-04-05T17:34:05.008Z"
   },
   {
    "duration": 10,
    "start_time": "2023-04-05T17:34:05.119Z"
   },
   {
    "duration": 29,
    "start_time": "2023-04-05T17:34:05.131Z"
   },
   {
    "duration": 3,
    "start_time": "2023-04-05T17:34:05.162Z"
   },
   {
    "duration": 9,
    "start_time": "2023-04-05T17:34:05.167Z"
   },
   {
    "duration": 14,
    "start_time": "2023-04-05T17:34:05.178Z"
   },
   {
    "duration": 7381,
    "start_time": "2023-04-05T17:34:05.193Z"
   },
   {
    "duration": 7039,
    "start_time": "2023-04-05T17:34:12.576Z"
   },
   {
    "duration": 14327,
    "start_time": "2023-04-05T17:34:19.617Z"
   },
   {
    "duration": 264,
    "start_time": "2023-04-05T17:34:33.947Z"
   },
   {
    "duration": 11,
    "start_time": "2023-04-05T17:34:34.212Z"
   },
   {
    "duration": 10641,
    "start_time": "2023-04-05T17:34:34.225Z"
   },
   {
    "duration": 9341,
    "start_time": "2023-04-05T17:34:44.867Z"
   },
   {
    "duration": 30829,
    "start_time": "2023-04-05T17:34:54.212Z"
   },
   {
    "duration": 92,
    "start_time": "2023-04-05T17:35:25.047Z"
   },
   {
    "duration": 4959,
    "start_time": "2023-04-05T17:35:25.141Z"
   },
   {
    "duration": 4400,
    "start_time": "2023-04-05T17:35:30.101Z"
   },
   {
    "duration": 11172,
    "start_time": "2023-04-05T17:35:34.503Z"
   },
   {
    "duration": 165,
    "start_time": "2023-04-05T17:35:45.677Z"
   },
   {
    "duration": 133,
    "start_time": "2023-04-05T17:35:45.843Z"
   },
   {
    "duration": 300,
    "start_time": "2023-04-05T17:35:45.978Z"
   },
   {
    "duration": 81,
    "start_time": "2023-04-05T17:37:02.026Z"
   },
   {
    "duration": 83,
    "start_time": "2023-04-05T17:37:05.995Z"
   },
   {
    "duration": 302,
    "start_time": "2023-04-05T17:38:08.097Z"
   },
   {
    "duration": 282,
    "start_time": "2023-04-05T17:38:35.329Z"
   },
   {
    "duration": 403,
    "start_time": "2023-04-05T17:41:00.221Z"
   },
   {
    "duration": 295,
    "start_time": "2023-04-05T17:41:54.821Z"
   },
   {
    "duration": 459,
    "start_time": "2023-04-05T17:43:09.835Z"
   },
   {
    "duration": 351,
    "start_time": "2023-04-05T17:43:17.307Z"
   },
   {
    "duration": 281,
    "start_time": "2023-04-05T17:43:26.475Z"
   },
   {
    "duration": 302,
    "start_time": "2023-04-05T17:44:37.891Z"
   },
   {
    "duration": 291,
    "start_time": "2023-04-05T17:45:05.737Z"
   },
   {
    "duration": 264,
    "start_time": "2023-04-05T17:45:14.840Z"
   },
   {
    "duration": 230,
    "start_time": "2023-04-05T17:45:22.176Z"
   },
   {
    "duration": 299,
    "start_time": "2023-04-05T17:45:50.809Z"
   },
   {
    "duration": 44,
    "start_time": "2023-04-05T17:46:18.096Z"
   },
   {
    "duration": 93,
    "start_time": "2023-04-05T17:46:21.975Z"
   },
   {
    "duration": 90,
    "start_time": "2023-04-05T17:46:28.375Z"
   },
   {
    "duration": 87,
    "start_time": "2023-04-05T17:47:57.502Z"
   },
   {
    "duration": 2178,
    "start_time": "2023-04-05T17:51:55.230Z"
   },
   {
    "duration": 1254,
    "start_time": "2023-04-05T17:51:57.411Z"
   },
   {
    "duration": 72,
    "start_time": "2023-04-05T17:51:58.667Z"
   },
   {
    "duration": 16,
    "start_time": "2023-04-05T17:51:58.742Z"
   },
   {
    "duration": 4,
    "start_time": "2023-04-05T17:51:58.760Z"
   },
   {
    "duration": 15,
    "start_time": "2023-04-05T17:51:58.766Z"
   },
   {
    "duration": 9,
    "start_time": "2023-04-05T17:51:58.782Z"
   },
   {
    "duration": 5,
    "start_time": "2023-04-05T17:51:58.794Z"
   },
   {
    "duration": 39,
    "start_time": "2023-04-05T17:51:58.801Z"
   },
   {
    "duration": 5,
    "start_time": "2023-04-05T17:51:58.845Z"
   },
   {
    "duration": 365,
    "start_time": "2023-04-05T17:51:58.852Z"
   },
   {
    "duration": 12,
    "start_time": "2023-04-05T17:51:59.218Z"
   },
   {
    "duration": 36,
    "start_time": "2023-04-05T17:51:59.239Z"
   },
   {
    "duration": 279,
    "start_time": "2023-04-05T17:51:59.276Z"
   },
   {
    "duration": 2289,
    "start_time": "2023-04-05T17:54:31.888Z"
   },
   {
    "duration": 1279,
    "start_time": "2023-04-05T17:54:34.180Z"
   },
   {
    "duration": 71,
    "start_time": "2023-04-05T17:54:35.460Z"
   },
   {
    "duration": 13,
    "start_time": "2023-04-05T17:54:35.534Z"
   },
   {
    "duration": 4,
    "start_time": "2023-04-05T17:54:35.549Z"
   },
   {
    "duration": 11,
    "start_time": "2023-04-05T17:54:35.555Z"
   },
   {
    "duration": 8,
    "start_time": "2023-04-05T17:54:35.568Z"
   },
   {
    "duration": 5,
    "start_time": "2023-04-05T17:54:35.578Z"
   },
   {
    "duration": 5,
    "start_time": "2023-04-05T17:54:35.584Z"
   },
   {
    "duration": 48,
    "start_time": "2023-04-05T17:54:35.592Z"
   },
   {
    "duration": 376,
    "start_time": "2023-04-05T17:54:35.642Z"
   },
   {
    "duration": 21,
    "start_time": "2023-04-05T17:54:36.019Z"
   },
   {
    "duration": 38,
    "start_time": "2023-04-05T17:54:36.042Z"
   },
   {
    "duration": 313,
    "start_time": "2023-04-05T17:54:36.082Z"
   },
   {
    "duration": 132,
    "start_time": "2023-04-05T17:54:36.398Z"
   },
   {
    "duration": 18,
    "start_time": "2023-04-05T17:54:36.532Z"
   },
   {
    "duration": 14,
    "start_time": "2023-04-05T17:54:36.552Z"
   },
   {
    "duration": 3,
    "start_time": "2023-04-05T17:54:36.569Z"
   },
   {
    "duration": 3,
    "start_time": "2023-04-05T17:54:36.574Z"
   },
   {
    "duration": 5,
    "start_time": "2023-04-05T17:54:36.579Z"
   },
   {
    "duration": 8195,
    "start_time": "2023-04-05T17:54:36.586Z"
   },
   {
    "duration": 7359,
    "start_time": "2023-04-05T17:54:44.782Z"
   },
   {
    "duration": 10711,
    "start_time": "2023-04-05T17:54:52.143Z"
   },
   {
    "duration": 301,
    "start_time": "2023-04-05T17:55:02.856Z"
   },
   {
    "duration": 15,
    "start_time": "2023-04-05T17:55:03.158Z"
   },
   {
    "duration": 11558,
    "start_time": "2023-04-05T17:55:03.175Z"
   },
   {
    "duration": 9840,
    "start_time": "2023-04-05T17:55:14.735Z"
   },
   {
    "duration": 13464,
    "start_time": "2023-04-05T17:55:24.578Z"
   },
   {
    "duration": 97,
    "start_time": "2023-04-05T17:55:38.044Z"
   },
   {
    "duration": 2212,
    "start_time": "2023-04-05T17:55:40.641Z"
   },
   {
    "duration": 1222,
    "start_time": "2023-04-05T17:55:42.856Z"
   },
   {
    "duration": 89,
    "start_time": "2023-04-05T17:55:44.080Z"
   },
   {
    "duration": 14,
    "start_time": "2023-04-05T17:55:44.172Z"
   },
   {
    "duration": 4,
    "start_time": "2023-04-05T17:55:44.188Z"
   },
   {
    "duration": 16,
    "start_time": "2023-04-05T17:55:44.194Z"
   },
   {
    "duration": 33,
    "start_time": "2023-04-05T17:55:44.212Z"
   },
   {
    "duration": 7,
    "start_time": "2023-04-05T17:55:44.247Z"
   },
   {
    "duration": 10,
    "start_time": "2023-04-05T17:55:44.255Z"
   },
   {
    "duration": 13,
    "start_time": "2023-04-05T17:55:44.269Z"
   },
   {
    "duration": 446,
    "start_time": "2023-04-05T17:55:44.283Z"
   },
   {
    "duration": 20,
    "start_time": "2023-04-05T17:55:44.730Z"
   },
   {
    "duration": 50,
    "start_time": "2023-04-05T17:55:44.752Z"
   },
   {
    "duration": 313,
    "start_time": "2023-04-05T17:55:44.804Z"
   },
   {
    "duration": 96049,
    "start_time": "2023-04-05T17:55:45.119Z"
   },
   {
    "duration": 0,
    "start_time": "2023-04-05T17:57:21.171Z"
   },
   {
    "duration": 0,
    "start_time": "2023-04-05T17:57:21.171Z"
   },
   {
    "duration": 0,
    "start_time": "2023-04-05T17:57:21.172Z"
   },
   {
    "duration": 0,
    "start_time": "2023-04-05T17:57:21.173Z"
   },
   {
    "duration": 0,
    "start_time": "2023-04-05T17:57:21.174Z"
   },
   {
    "duration": 0,
    "start_time": "2023-04-05T17:57:21.175Z"
   },
   {
    "duration": 0,
    "start_time": "2023-04-05T17:57:21.176Z"
   },
   {
    "duration": 0,
    "start_time": "2023-04-05T17:57:21.177Z"
   },
   {
    "duration": 0,
    "start_time": "2023-04-05T17:57:21.178Z"
   },
   {
    "duration": 0,
    "start_time": "2023-04-05T17:57:21.179Z"
   },
   {
    "duration": 0,
    "start_time": "2023-04-05T17:57:21.180Z"
   },
   {
    "duration": 0,
    "start_time": "2023-04-05T17:57:21.181Z"
   },
   {
    "duration": 0,
    "start_time": "2023-04-05T17:57:21.182Z"
   },
   {
    "duration": 0,
    "start_time": "2023-04-05T17:57:21.183Z"
   },
   {
    "duration": 0,
    "start_time": "2023-04-05T17:57:21.184Z"
   },
   {
    "duration": 0,
    "start_time": "2023-04-05T17:57:21.184Z"
   },
   {
    "duration": 0,
    "start_time": "2023-04-05T17:57:21.185Z"
   },
   {
    "duration": 0,
    "start_time": "2023-04-05T17:57:21.186Z"
   },
   {
    "duration": 0,
    "start_time": "2023-04-05T17:57:21.187Z"
   },
   {
    "duration": 0,
    "start_time": "2023-04-05T17:57:21.188Z"
   },
   {
    "duration": 2183,
    "start_time": "2023-04-05T17:58:56.168Z"
   },
   {
    "duration": 1227,
    "start_time": "2023-04-05T17:58:58.353Z"
   },
   {
    "duration": 114,
    "start_time": "2023-04-05T17:58:59.582Z"
   },
   {
    "duration": 17,
    "start_time": "2023-04-05T17:58:59.698Z"
   },
   {
    "duration": 5,
    "start_time": "2023-04-05T17:58:59.717Z"
   },
   {
    "duration": 19,
    "start_time": "2023-04-05T17:58:59.723Z"
   },
   {
    "duration": 10,
    "start_time": "2023-04-05T17:58:59.744Z"
   },
   {
    "duration": 17,
    "start_time": "2023-04-05T17:58:59.756Z"
   },
   {
    "duration": 6,
    "start_time": "2023-04-05T17:58:59.775Z"
   },
   {
    "duration": 5,
    "start_time": "2023-04-05T17:58:59.784Z"
   },
   {
    "duration": 441,
    "start_time": "2023-04-05T17:58:59.790Z"
   },
   {
    "duration": 18,
    "start_time": "2023-04-05T17:59:00.233Z"
   },
   {
    "duration": 56,
    "start_time": "2023-04-05T17:59:00.253Z"
   },
   {
    "duration": 335,
    "start_time": "2023-04-05T17:59:00.311Z"
   },
   {
    "duration": 2039,
    "start_time": "2023-04-05T17:59:54.012Z"
   },
   {
    "duration": 1265,
    "start_time": "2023-04-05T17:59:56.053Z"
   },
   {
    "duration": 70,
    "start_time": "2023-04-05T17:59:57.319Z"
   },
   {
    "duration": 11,
    "start_time": "2023-04-05T17:59:57.391Z"
   },
   {
    "duration": 4,
    "start_time": "2023-04-05T17:59:57.440Z"
   },
   {
    "duration": 21,
    "start_time": "2023-04-05T17:59:57.446Z"
   },
   {
    "duration": 10,
    "start_time": "2023-04-05T17:59:57.469Z"
   },
   {
    "duration": 8,
    "start_time": "2023-04-05T17:59:57.481Z"
   },
   {
    "duration": 6,
    "start_time": "2023-04-05T17:59:57.541Z"
   },
   {
    "duration": 4,
    "start_time": "2023-04-05T17:59:57.550Z"
   },
   {
    "duration": 603,
    "start_time": "2023-04-05T17:59:57.555Z"
   },
   {
    "duration": 12,
    "start_time": "2023-04-05T17:59:58.160Z"
   },
   {
    "duration": 90,
    "start_time": "2023-04-05T17:59:58.174Z"
   },
   {
    "duration": 415,
    "start_time": "2023-04-05T17:59:58.266Z"
   },
   {
    "duration": 59,
    "start_time": "2023-04-05T17:59:58.683Z"
   },
   {
    "duration": 7,
    "start_time": "2023-04-05T17:59:58.744Z"
   },
   {
    "duration": 13,
    "start_time": "2023-04-05T17:59:58.753Z"
   },
   {
    "duration": 73,
    "start_time": "2023-04-05T17:59:58.767Z"
   },
   {
    "duration": 4,
    "start_time": "2023-04-05T17:59:58.841Z"
   },
   {
    "duration": 5,
    "start_time": "2023-04-05T17:59:58.846Z"
   },
   {
    "duration": 4,
    "start_time": "2023-04-05T17:59:58.852Z"
   },
   {
    "duration": 9904,
    "start_time": "2023-04-05T17:59:58.858Z"
   },
   {
    "duration": 6757,
    "start_time": "2023-04-05T18:00:08.764Z"
   },
   {
    "duration": 5983,
    "start_time": "2023-04-05T18:00:15.522Z"
   },
   {
    "duration": 220,
    "start_time": "2023-04-05T18:00:21.541Z"
   },
   {
    "duration": 12,
    "start_time": "2023-04-05T18:00:21.763Z"
   },
   {
    "duration": 11354,
    "start_time": "2023-04-05T18:00:21.777Z"
   },
   {
    "duration": 9705,
    "start_time": "2023-04-05T18:00:33.134Z"
   },
   {
    "duration": 10817,
    "start_time": "2023-04-05T18:00:42.841Z"
   },
   {
    "duration": 15,
    "start_time": "2023-04-05T18:00:53.740Z"
   },
   {
    "duration": 5461,
    "start_time": "2023-04-05T18:00:53.757Z"
   },
   {
    "duration": 2361,
    "start_time": "2023-04-05T18:01:04.847Z"
   },
   {
    "duration": 1285,
    "start_time": "2023-04-05T18:01:07.210Z"
   },
   {
    "duration": 80,
    "start_time": "2023-04-05T18:01:08.496Z"
   },
   {
    "duration": 17,
    "start_time": "2023-04-05T18:01:08.580Z"
   },
   {
    "duration": 4,
    "start_time": "2023-04-05T18:01:08.599Z"
   },
   {
    "duration": 15,
    "start_time": "2023-04-05T18:01:08.605Z"
   },
   {
    "duration": 9,
    "start_time": "2023-04-05T18:01:08.641Z"
   },
   {
    "duration": 8,
    "start_time": "2023-04-05T18:01:08.652Z"
   },
   {
    "duration": 8,
    "start_time": "2023-04-05T18:01:08.662Z"
   },
   {
    "duration": 7,
    "start_time": "2023-04-05T18:01:08.673Z"
   },
   {
    "duration": 445,
    "start_time": "2023-04-05T18:01:08.682Z"
   },
   {
    "duration": 17,
    "start_time": "2023-04-05T18:01:09.128Z"
   },
   {
    "duration": 40,
    "start_time": "2023-04-05T18:01:09.147Z"
   },
   {
    "duration": 353,
    "start_time": "2023-04-05T18:01:09.189Z"
   },
   {
    "duration": 6,
    "start_time": "2023-04-05T18:01:09.545Z"
   },
   {
    "duration": 140,
    "start_time": "2023-04-05T18:01:09.552Z"
   },
   {
    "duration": 10,
    "start_time": "2023-04-05T18:01:09.693Z"
   },
   {
    "duration": 24,
    "start_time": "2023-04-05T18:01:09.704Z"
   },
   {
    "duration": 10,
    "start_time": "2023-04-05T18:01:09.731Z"
   },
   {
    "duration": 14,
    "start_time": "2023-04-05T18:01:09.743Z"
   },
   {
    "duration": 8,
    "start_time": "2023-04-05T18:01:09.759Z"
   },
   {
    "duration": 9039,
    "start_time": "2023-04-05T18:01:09.768Z"
   },
   {
    "duration": 7238,
    "start_time": "2023-04-05T18:01:18.809Z"
   },
   {
    "duration": 5499,
    "start_time": "2023-04-05T18:01:26.049Z"
   },
   {
    "duration": 219,
    "start_time": "2023-04-05T18:01:31.551Z"
   },
   {
    "duration": 12,
    "start_time": "2023-04-05T18:01:31.772Z"
   },
   {
    "duration": 11381,
    "start_time": "2023-04-05T18:01:31.786Z"
   },
   {
    "duration": 2109,
    "start_time": "2023-04-05T18:01:50.602Z"
   },
   {
    "duration": 1261,
    "start_time": "2023-04-05T18:01:52.713Z"
   },
   {
    "duration": 74,
    "start_time": "2023-04-05T18:01:53.976Z"
   },
   {
    "duration": 15,
    "start_time": "2023-04-05T18:01:54.053Z"
   },
   {
    "duration": 4,
    "start_time": "2023-04-05T18:01:54.070Z"
   },
   {
    "duration": 15,
    "start_time": "2023-04-05T18:01:54.076Z"
   },
   {
    "duration": 8,
    "start_time": "2023-04-05T18:01:54.093Z"
   },
   {
    "duration": 41,
    "start_time": "2023-04-05T18:01:54.103Z"
   },
   {
    "duration": 6,
    "start_time": "2023-04-05T18:01:54.146Z"
   },
   {
    "duration": 6,
    "start_time": "2023-04-05T18:01:54.155Z"
   },
   {
    "duration": 382,
    "start_time": "2023-04-05T18:01:54.163Z"
   },
   {
    "duration": 18,
    "start_time": "2023-04-05T18:01:54.548Z"
   },
   {
    "duration": 89,
    "start_time": "2023-04-05T18:01:54.568Z"
   },
   {
    "duration": 585,
    "start_time": "2023-04-05T18:01:54.659Z"
   },
   {
    "duration": 8,
    "start_time": "2023-04-05T18:01:55.246Z"
   },
   {
    "duration": 288,
    "start_time": "2023-04-05T18:01:55.256Z"
   },
   {
    "duration": 14,
    "start_time": "2023-04-05T18:01:55.546Z"
   },
   {
    "duration": 22,
    "start_time": "2023-04-05T18:01:55.562Z"
   },
   {
    "duration": 17,
    "start_time": "2023-04-05T18:01:55.640Z"
   },
   {
    "duration": 11,
    "start_time": "2023-04-05T18:01:55.660Z"
   },
   {
    "duration": 14,
    "start_time": "2023-04-05T18:01:55.673Z"
   },
   {
    "duration": 9571,
    "start_time": "2023-04-05T18:01:55.689Z"
   },
   {
    "duration": 7283,
    "start_time": "2023-04-05T18:02:05.261Z"
   },
   {
    "duration": 5801,
    "start_time": "2023-04-05T18:02:12.546Z"
   },
   {
    "duration": 323,
    "start_time": "2023-04-05T18:02:18.349Z"
   },
   {
    "duration": 14,
    "start_time": "2023-04-05T18:02:18.674Z"
   },
   {
    "duration": 10956,
    "start_time": "2023-04-05T18:02:18.690Z"
   },
   {
    "duration": 9740,
    "start_time": "2023-04-05T18:02:29.650Z"
   },
   {
    "duration": 8074,
    "start_time": "2023-04-05T18:02:39.392Z"
   },
   {
    "duration": 95,
    "start_time": "2023-04-05T18:02:47.467Z"
   },
   {
    "duration": 5039,
    "start_time": "2023-04-05T18:02:47.564Z"
   },
   {
    "duration": 4516,
    "start_time": "2023-04-05T18:02:52.605Z"
   },
   {
    "duration": 2562,
    "start_time": "2023-04-05T18:02:57.122Z"
   },
   {
    "duration": 159,
    "start_time": "2023-04-05T18:02:59.686Z"
   },
   {
    "duration": 152,
    "start_time": "2023-04-05T18:02:59.847Z"
   },
   {
    "duration": 383,
    "start_time": "2023-04-05T18:03:00.002Z"
   },
   {
    "duration": 6,
    "start_time": "2023-04-05T18:14:58.192Z"
   },
   {
    "duration": 123,
    "start_time": "2023-04-05T18:15:20.592Z"
   },
   {
    "duration": 5,
    "start_time": "2023-04-05T18:15:43.919Z"
   },
   {
    "duration": 92,
    "start_time": "2023-04-05T18:16:14.527Z"
   },
   {
    "duration": 4,
    "start_time": "2023-04-05T18:18:06.038Z"
   },
   {
    "duration": 5,
    "start_time": "2023-04-05T18:18:13.550Z"
   },
   {
    "duration": 6,
    "start_time": "2023-04-05T18:18:52.062Z"
   },
   {
    "duration": 83,
    "start_time": "2023-04-05T18:19:05.724Z"
   },
   {
    "duration": 75,
    "start_time": "2023-04-05T18:20:08.701Z"
   },
   {
    "duration": 78,
    "start_time": "2023-04-05T18:20:14.916Z"
   },
   {
    "duration": 241,
    "start_time": "2023-04-05T18:25:04.640Z"
   },
   {
    "duration": 199,
    "start_time": "2023-04-05T18:26:15.343Z"
   },
   {
    "duration": 99,
    "start_time": "2023-04-05T18:26:19.551Z"
   },
   {
    "duration": 199,
    "start_time": "2023-04-05T18:26:23.167Z"
   },
   {
    "duration": 101,
    "start_time": "2023-04-05T18:26:43.917Z"
   },
   {
    "duration": 193,
    "start_time": "2023-04-05T18:26:49.151Z"
   },
   {
    "duration": 225,
    "start_time": "2023-04-05T18:28:14.903Z"
   },
   {
    "duration": 259,
    "start_time": "2023-04-05T18:28:24.855Z"
   },
   {
    "duration": 279,
    "start_time": "2023-04-05T18:31:28.907Z"
   },
   {
    "duration": 280,
    "start_time": "2023-04-05T18:31:34.235Z"
   },
   {
    "duration": 104,
    "start_time": "2023-04-05T18:31:49.210Z"
   },
   {
    "duration": 9,
    "start_time": "2023-04-05T18:32:38.442Z"
   },
   {
    "duration": 10,
    "start_time": "2023-04-05T18:32:41.146Z"
   },
   {
    "duration": 79,
    "start_time": "2023-04-05T18:32:49.842Z"
   },
   {
    "duration": 85,
    "start_time": "2023-04-05T18:33:01.098Z"
   },
   {
    "duration": 84,
    "start_time": "2023-04-05T18:33:03.985Z"
   },
   {
    "duration": 88,
    "start_time": "2023-04-05T18:35:42.424Z"
   },
   {
    "duration": 89,
    "start_time": "2023-04-05T18:35:49.045Z"
   },
   {
    "duration": 88,
    "start_time": "2023-04-05T18:36:26.927Z"
   },
   {
    "duration": 85,
    "start_time": "2023-04-05T18:37:46.883Z"
   },
   {
    "duration": 47,
    "start_time": "2023-04-06T06:37:22.492Z"
   },
   {
    "duration": 7117,
    "start_time": "2023-04-06T06:37:31.911Z"
   },
   {
    "duration": 1416,
    "start_time": "2023-04-06T06:37:39.031Z"
   },
   {
    "duration": 311,
    "start_time": "2023-04-06T06:37:40.449Z"
   },
   {
    "duration": 12,
    "start_time": "2023-04-06T06:37:40.762Z"
   },
   {
    "duration": 3,
    "start_time": "2023-04-06T06:37:40.776Z"
   },
   {
    "duration": 12,
    "start_time": "2023-04-06T06:37:40.780Z"
   },
   {
    "duration": 6,
    "start_time": "2023-04-06T06:37:40.794Z"
   },
   {
    "duration": 8,
    "start_time": "2023-04-06T06:37:40.802Z"
   },
   {
    "duration": 13,
    "start_time": "2023-04-06T06:37:40.811Z"
   },
   {
    "duration": 5,
    "start_time": "2023-04-06T06:37:40.826Z"
   },
   {
    "duration": 496,
    "start_time": "2023-04-06T06:37:40.832Z"
   },
   {
    "duration": 15,
    "start_time": "2023-04-06T06:37:41.329Z"
   },
   {
    "duration": 54,
    "start_time": "2023-04-06T06:37:41.346Z"
   },
   {
    "duration": 310,
    "start_time": "2023-04-06T06:37:41.402Z"
   },
   {
    "duration": 108,
    "start_time": "2023-04-06T06:37:41.714Z"
   },
   {
    "duration": 11,
    "start_time": "2023-04-06T06:37:41.823Z"
   },
   {
    "duration": 15,
    "start_time": "2023-04-06T06:37:41.835Z"
   },
   {
    "duration": 4,
    "start_time": "2023-04-06T06:37:41.851Z"
   },
   {
    "duration": 26,
    "start_time": "2023-04-06T06:37:41.856Z"
   },
   {
    "duration": 4,
    "start_time": "2023-04-06T06:37:41.884Z"
   },
   {
    "duration": 6973,
    "start_time": "2023-04-06T06:37:41.889Z"
   },
   {
    "duration": 6853,
    "start_time": "2023-04-06T06:37:48.864Z"
   },
   {
    "duration": 7170,
    "start_time": "2023-04-06T06:37:55.719Z"
   },
   {
    "duration": 398,
    "start_time": "2023-04-06T06:38:02.892Z"
   },
   {
    "duration": 12,
    "start_time": "2023-04-06T06:38:03.292Z"
   },
   {
    "duration": 10396,
    "start_time": "2023-04-06T06:38:03.305Z"
   },
   {
    "duration": 9427,
    "start_time": "2023-04-06T06:38:13.702Z"
   },
   {
    "duration": 11893,
    "start_time": "2023-04-06T06:38:23.132Z"
   },
   {
    "duration": 155,
    "start_time": "2023-04-06T06:38:35.028Z"
   },
   {
    "duration": 5165,
    "start_time": "2023-04-06T06:38:35.185Z"
   },
   {
    "duration": 4751,
    "start_time": "2023-04-06T06:38:40.352Z"
   },
   {
    "duration": 5679,
    "start_time": "2023-04-06T06:38:45.105Z"
   },
   {
    "duration": 113,
    "start_time": "2023-04-06T06:38:50.786Z"
   },
   {
    "duration": 143,
    "start_time": "2023-04-06T06:38:50.901Z"
   },
   {
    "duration": 381,
    "start_time": "2023-04-06T06:38:51.046Z"
   },
   {
    "duration": 286,
    "start_time": "2023-04-06T06:39:25.560Z"
   },
   {
    "duration": 6678,
    "start_time": "2023-04-06T06:40:11.846Z"
   },
   {
    "duration": 4,
    "start_time": "2023-04-06T06:41:50.437Z"
   },
   {
    "duration": 18,
    "start_time": "2023-04-06T06:43:26.660Z"
   },
   {
    "duration": 14,
    "start_time": "2023-04-06T06:44:35.363Z"
   },
   {
    "duration": 5667,
    "start_time": "2023-04-06T06:44:41.995Z"
   },
   {
    "duration": 2229,
    "start_time": "2023-04-06T06:46:19.990Z"
   },
   {
    "duration": 2071,
    "start_time": "2023-04-06T06:46:22.221Z"
   },
   {
    "duration": 1230,
    "start_time": "2023-04-06T06:46:24.293Z"
   },
   {
    "duration": 88,
    "start_time": "2023-04-06T06:46:25.525Z"
   },
   {
    "duration": 14,
    "start_time": "2023-04-06T06:46:25.614Z"
   },
   {
    "duration": 19,
    "start_time": "2023-04-06T06:46:25.629Z"
   },
   {
    "duration": 22,
    "start_time": "2023-04-06T06:46:25.649Z"
   },
   {
    "duration": 13,
    "start_time": "2023-04-06T06:46:25.673Z"
   },
   {
    "duration": 19,
    "start_time": "2023-04-06T06:46:25.688Z"
   },
   {
    "duration": 6,
    "start_time": "2023-04-06T06:46:25.711Z"
   },
   {
    "duration": 6,
    "start_time": "2023-04-06T06:46:25.719Z"
   },
   {
    "duration": 415,
    "start_time": "2023-04-06T06:46:25.726Z"
   },
   {
    "duration": 14,
    "start_time": "2023-04-06T06:46:26.143Z"
   },
   {
    "duration": 57,
    "start_time": "2023-04-06T06:46:26.158Z"
   },
   {
    "duration": 269,
    "start_time": "2023-04-06T06:46:26.216Z"
   },
   {
    "duration": 102,
    "start_time": "2023-04-06T06:46:26.487Z"
   },
   {
    "duration": 11,
    "start_time": "2023-04-06T06:46:26.591Z"
   },
   {
    "duration": 16,
    "start_time": "2023-04-06T06:46:26.604Z"
   },
   {
    "duration": 22,
    "start_time": "2023-04-06T06:46:26.622Z"
   },
   {
    "duration": 9,
    "start_time": "2023-04-06T06:46:26.646Z"
   },
   {
    "duration": 17,
    "start_time": "2023-04-06T06:46:26.657Z"
   },
   {
    "duration": 25,
    "start_time": "2023-04-06T06:46:26.676Z"
   },
   {
    "duration": 5609,
    "start_time": "2023-04-06T06:46:26.703Z"
   },
   {
    "duration": 6002,
    "start_time": "2023-04-06T06:46:32.314Z"
   },
   {
    "duration": 1172,
    "start_time": "2023-04-06T06:46:38.317Z"
   },
   {
    "duration": 341,
    "start_time": "2023-04-06T06:46:39.491Z"
   },
   {
    "duration": 143,
    "start_time": "2023-04-06T06:46:39.834Z"
   },
   {
    "duration": 0,
    "start_time": "2023-04-06T06:46:39.979Z"
   },
   {
    "duration": 0,
    "start_time": "2023-04-06T06:46:39.983Z"
   },
   {
    "duration": 0,
    "start_time": "2023-04-06T06:46:39.984Z"
   },
   {
    "duration": 0,
    "start_time": "2023-04-06T06:46:39.985Z"
   },
   {
    "duration": 0,
    "start_time": "2023-04-06T06:46:39.986Z"
   },
   {
    "duration": 0,
    "start_time": "2023-04-06T06:46:39.987Z"
   },
   {
    "duration": 0,
    "start_time": "2023-04-06T06:46:39.988Z"
   },
   {
    "duration": 0,
    "start_time": "2023-04-06T06:46:39.989Z"
   },
   {
    "duration": 0,
    "start_time": "2023-04-06T06:46:40.051Z"
   },
   {
    "duration": 0,
    "start_time": "2023-04-06T06:46:40.053Z"
   },
   {
    "duration": 17,
    "start_time": "2023-04-06T06:47:53.112Z"
   },
   {
    "duration": 874,
    "start_time": "2023-04-06T06:48:44.414Z"
   },
   {
    "duration": 141,
    "start_time": "2023-04-06T06:48:48.455Z"
   },
   {
    "duration": 4,
    "start_time": "2023-04-06T06:49:57.446Z"
   },
   {
    "duration": 6,
    "start_time": "2023-04-06T06:50:20.277Z"
   },
   {
    "duration": 4,
    "start_time": "2023-04-06T06:50:24.702Z"
   },
   {
    "duration": 2196,
    "start_time": "2023-04-06T06:50:31.425Z"
   },
   {
    "duration": 2195,
    "start_time": "2023-04-06T06:50:33.623Z"
   },
   {
    "duration": 1204,
    "start_time": "2023-04-06T06:50:35.820Z"
   },
   {
    "duration": 97,
    "start_time": "2023-04-06T06:50:37.026Z"
   },
   {
    "duration": 10,
    "start_time": "2023-04-06T06:50:37.125Z"
   },
   {
    "duration": 26,
    "start_time": "2023-04-06T06:50:37.137Z"
   },
   {
    "duration": 46,
    "start_time": "2023-04-06T06:50:37.164Z"
   },
   {
    "duration": 47,
    "start_time": "2023-04-06T06:50:37.211Z"
   },
   {
    "duration": 27,
    "start_time": "2023-04-06T06:50:37.260Z"
   },
   {
    "duration": 28,
    "start_time": "2023-04-06T06:50:37.290Z"
   },
   {
    "duration": 29,
    "start_time": "2023-04-06T06:50:37.320Z"
   },
   {
    "duration": 423,
    "start_time": "2023-04-06T06:50:37.350Z"
   },
   {
    "duration": 13,
    "start_time": "2023-04-06T06:50:37.774Z"
   },
   {
    "duration": 67,
    "start_time": "2023-04-06T06:50:37.789Z"
   },
   {
    "duration": 308,
    "start_time": "2023-04-06T06:50:37.857Z"
   },
   {
    "duration": 105,
    "start_time": "2023-04-06T06:50:38.166Z"
   },
   {
    "duration": 9,
    "start_time": "2023-04-06T06:50:38.273Z"
   },
   {
    "duration": 44,
    "start_time": "2023-04-06T06:50:38.283Z"
   },
   {
    "duration": 32,
    "start_time": "2023-04-06T06:50:38.329Z"
   },
   {
    "duration": 55,
    "start_time": "2023-04-06T06:50:38.363Z"
   },
   {
    "duration": 39,
    "start_time": "2023-04-06T06:50:38.419Z"
   },
   {
    "duration": 97,
    "start_time": "2023-04-06T06:50:38.459Z"
   },
   {
    "duration": 28,
    "start_time": "2023-04-06T06:50:38.557Z"
   },
   {
    "duration": 6444,
    "start_time": "2023-04-06T06:50:38.586Z"
   },
   {
    "duration": 5919,
    "start_time": "2023-04-06T06:50:45.031Z"
   },
   {
    "duration": 949,
    "start_time": "2023-04-06T06:50:50.952Z"
   },
   {
    "duration": 304,
    "start_time": "2023-04-06T06:50:51.903Z"
   },
   {
    "duration": 9,
    "start_time": "2023-04-06T06:50:52.210Z"
   },
   {
    "duration": 9122,
    "start_time": "2023-04-06T06:50:52.221Z"
   },
   {
    "duration": 8567,
    "start_time": "2023-04-06T06:51:01.345Z"
   },
   {
    "duration": 2706,
    "start_time": "2023-04-06T06:51:09.914Z"
   },
   {
    "duration": 101,
    "start_time": "2023-04-06T06:51:12.691Z"
   },
   {
    "duration": 4322,
    "start_time": "2023-04-06T06:51:12.793Z"
   },
   {
    "duration": 4190,
    "start_time": "2023-04-06T06:51:17.117Z"
   },
   {
    "duration": 880,
    "start_time": "2023-04-06T06:51:21.309Z"
   },
   {
    "duration": 203,
    "start_time": "2023-04-06T06:51:22.191Z"
   },
   {
    "duration": 148,
    "start_time": "2023-04-06T06:51:22.396Z"
   },
   {
    "duration": 403,
    "start_time": "2023-04-06T06:51:22.545Z"
   },
   {
    "duration": 6363,
    "start_time": "2023-04-06T06:53:54.861Z"
   },
   {
    "duration": 6233,
    "start_time": "2023-04-06T06:55:01.785Z"
   },
   {
    "duration": 864,
    "start_time": "2023-04-06T06:56:07.737Z"
   },
   {
    "duration": 140,
    "start_time": "2023-04-06T06:56:56.137Z"
   },
   {
    "duration": 4,
    "start_time": "2023-04-06T07:08:20.535Z"
   },
   {
    "duration": 36,
    "start_time": "2023-04-06T07:12:47.065Z"
   },
   {
    "duration": 5,
    "start_time": "2023-04-06T07:14:57.574Z"
   },
   {
    "duration": 113,
    "start_time": "2023-04-06T07:16:52.245Z"
   },
   {
    "duration": 866,
    "start_time": "2023-04-06T07:16:58.923Z"
   },
   {
    "duration": 2142,
    "start_time": "2023-04-06T07:19:45.254Z"
   },
   {
    "duration": 2115,
    "start_time": "2023-04-06T07:19:47.398Z"
   },
   {
    "duration": 1232,
    "start_time": "2023-04-06T07:19:49.514Z"
   },
   {
    "duration": 88,
    "start_time": "2023-04-06T07:19:50.748Z"
   },
   {
    "duration": 13,
    "start_time": "2023-04-06T07:19:50.837Z"
   },
   {
    "duration": 7,
    "start_time": "2023-04-06T07:19:50.852Z"
   },
   {
    "duration": 19,
    "start_time": "2023-04-06T07:19:50.860Z"
   },
   {
    "duration": 13,
    "start_time": "2023-04-06T07:19:50.880Z"
   },
   {
    "duration": 21,
    "start_time": "2023-04-06T07:19:50.894Z"
   },
   {
    "duration": 7,
    "start_time": "2023-04-06T07:19:50.918Z"
   },
   {
    "duration": 8,
    "start_time": "2023-04-06T07:19:50.927Z"
   },
   {
    "duration": 406,
    "start_time": "2023-04-06T07:19:50.936Z"
   },
   {
    "duration": 13,
    "start_time": "2023-04-06T07:19:51.344Z"
   },
   {
    "duration": 54,
    "start_time": "2023-04-06T07:19:51.358Z"
   },
   {
    "duration": 274,
    "start_time": "2023-04-06T07:19:51.413Z"
   },
   {
    "duration": 99,
    "start_time": "2023-04-06T07:19:51.689Z"
   },
   {
    "duration": 2,
    "start_time": "2023-04-06T07:19:51.790Z"
   },
   {
    "duration": 122,
    "start_time": "2023-04-06T07:19:51.794Z"
   },
   {
    "duration": 0,
    "start_time": "2023-04-06T07:19:51.918Z"
   },
   {
    "duration": 0,
    "start_time": "2023-04-06T07:19:51.919Z"
   },
   {
    "duration": 0,
    "start_time": "2023-04-06T07:19:51.920Z"
   },
   {
    "duration": 0,
    "start_time": "2023-04-06T07:19:51.921Z"
   },
   {
    "duration": 0,
    "start_time": "2023-04-06T07:19:51.923Z"
   },
   {
    "duration": 0,
    "start_time": "2023-04-06T07:19:51.924Z"
   },
   {
    "duration": 0,
    "start_time": "2023-04-06T07:19:51.924Z"
   },
   {
    "duration": 0,
    "start_time": "2023-04-06T07:19:51.926Z"
   },
   {
    "duration": 0,
    "start_time": "2023-04-06T07:19:51.928Z"
   },
   {
    "duration": 0,
    "start_time": "2023-04-06T07:19:51.929Z"
   },
   {
    "duration": 0,
    "start_time": "2023-04-06T07:19:51.931Z"
   },
   {
    "duration": 0,
    "start_time": "2023-04-06T07:19:51.932Z"
   },
   {
    "duration": 0,
    "start_time": "2023-04-06T07:19:51.934Z"
   },
   {
    "duration": 0,
    "start_time": "2023-04-06T07:19:51.935Z"
   },
   {
    "duration": 0,
    "start_time": "2023-04-06T07:19:51.937Z"
   },
   {
    "duration": 0,
    "start_time": "2023-04-06T07:19:51.938Z"
   },
   {
    "duration": 0,
    "start_time": "2023-04-06T07:19:51.939Z"
   },
   {
    "duration": 0,
    "start_time": "2023-04-06T07:19:51.940Z"
   },
   {
    "duration": 0,
    "start_time": "2023-04-06T07:19:51.941Z"
   },
   {
    "duration": 19,
    "start_time": "2023-04-06T07:20:35.545Z"
   },
   {
    "duration": 4,
    "start_time": "2023-04-06T07:20:57.424Z"
   },
   {
    "duration": 14,
    "start_time": "2023-04-06T07:21:52.736Z"
   },
   {
    "duration": 3,
    "start_time": "2023-04-06T07:21:54.567Z"
   },
   {
    "duration": 3,
    "start_time": "2023-04-06T07:21:55.623Z"
   },
   {
    "duration": 3,
    "start_time": "2023-04-06T07:21:57.167Z"
   },
   {
    "duration": 19,
    "start_time": "2023-04-06T07:21:58.749Z"
   },
   {
    "duration": 13,
    "start_time": "2023-04-06T07:42:48.956Z"
   },
   {
    "duration": 12,
    "start_time": "2023-04-06T07:43:04.068Z"
   },
   {
    "duration": 13,
    "start_time": "2023-04-06T07:43:21.715Z"
   },
   {
    "duration": 16,
    "start_time": "2023-04-06T07:45:36.625Z"
   },
   {
    "duration": 2360,
    "start_time": "2023-04-06T08:19:39.237Z"
   },
   {
    "duration": 2428,
    "start_time": "2023-04-06T08:19:41.600Z"
   },
   {
    "duration": 1403,
    "start_time": "2023-04-06T08:19:44.030Z"
   },
   {
    "duration": 183,
    "start_time": "2023-04-06T08:19:45.435Z"
   },
   {
    "duration": 14,
    "start_time": "2023-04-06T08:19:45.620Z"
   },
   {
    "duration": 11,
    "start_time": "2023-04-06T08:19:45.636Z"
   },
   {
    "duration": 18,
    "start_time": "2023-04-06T08:19:45.648Z"
   },
   {
    "duration": 10,
    "start_time": "2023-04-06T08:19:45.668Z"
   },
   {
    "duration": 22,
    "start_time": "2023-04-06T08:19:45.682Z"
   },
   {
    "duration": 13,
    "start_time": "2023-04-06T08:19:45.706Z"
   },
   {
    "duration": 14,
    "start_time": "2023-04-06T08:19:45.720Z"
   },
   {
    "duration": 440,
    "start_time": "2023-04-06T08:19:45.736Z"
   },
   {
    "duration": 18,
    "start_time": "2023-04-06T08:19:46.177Z"
   },
   {
    "duration": 41,
    "start_time": "2023-04-06T08:19:46.196Z"
   },
   {
    "duration": 327,
    "start_time": "2023-04-06T08:19:46.239Z"
   },
   {
    "duration": 134,
    "start_time": "2023-04-06T08:19:46.568Z"
   },
   {
    "duration": 3,
    "start_time": "2023-04-06T08:19:46.703Z"
   },
   {
    "duration": 33,
    "start_time": "2023-04-06T08:19:46.708Z"
   },
   {
    "duration": 15,
    "start_time": "2023-04-06T08:19:46.743Z"
   },
   {
    "duration": 25,
    "start_time": "2023-04-06T08:19:46.760Z"
   },
   {
    "duration": 21,
    "start_time": "2023-04-06T08:19:46.786Z"
   },
   {
    "duration": 18,
    "start_time": "2023-04-06T08:19:46.809Z"
   },
   {
    "duration": 20,
    "start_time": "2023-04-06T08:19:46.828Z"
   },
   {
    "duration": 149,
    "start_time": "2023-04-06T08:19:46.849Z"
   },
   {
    "duration": 0,
    "start_time": "2023-04-06T08:19:47.000Z"
   },
   {
    "duration": 0,
    "start_time": "2023-04-06T08:19:47.002Z"
   },
   {
    "duration": 0,
    "start_time": "2023-04-06T08:19:47.003Z"
   },
   {
    "duration": 0,
    "start_time": "2023-04-06T08:19:47.004Z"
   },
   {
    "duration": 0,
    "start_time": "2023-04-06T08:19:47.005Z"
   },
   {
    "duration": 0,
    "start_time": "2023-04-06T08:19:47.006Z"
   },
   {
    "duration": 0,
    "start_time": "2023-04-06T08:19:47.007Z"
   },
   {
    "duration": 0,
    "start_time": "2023-04-06T08:19:47.009Z"
   },
   {
    "duration": 0,
    "start_time": "2023-04-06T08:19:47.010Z"
   },
   {
    "duration": 0,
    "start_time": "2023-04-06T08:19:47.011Z"
   },
   {
    "duration": 0,
    "start_time": "2023-04-06T08:19:47.012Z"
   },
   {
    "duration": 0,
    "start_time": "2023-04-06T08:19:47.013Z"
   },
   {
    "duration": 0,
    "start_time": "2023-04-06T08:19:47.014Z"
   },
   {
    "duration": 0,
    "start_time": "2023-04-06T08:19:47.016Z"
   },
   {
    "duration": 0,
    "start_time": "2023-04-06T08:19:47.017Z"
   },
   {
    "duration": 0,
    "start_time": "2023-04-06T08:19:47.018Z"
   },
   {
    "duration": 0,
    "start_time": "2023-04-06T08:19:47.019Z"
   },
   {
    "duration": 43,
    "start_time": "2023-04-06T08:20:21.755Z"
   },
   {
    "duration": 24,
    "start_time": "2023-04-06T08:23:27.102Z"
   },
   {
    "duration": 15,
    "start_time": "2023-04-06T08:23:31.860Z"
   },
   {
    "duration": 14,
    "start_time": "2023-04-06T08:25:22.755Z"
   },
   {
    "duration": 3,
    "start_time": "2023-04-06T08:25:35.466Z"
   },
   {
    "duration": 15,
    "start_time": "2023-04-06T08:25:52.582Z"
   },
   {
    "duration": 3,
    "start_time": "2023-04-06T08:26:25.145Z"
   },
   {
    "duration": 25,
    "start_time": "2023-04-06T08:27:07.218Z"
   },
   {
    "duration": 2121,
    "start_time": "2023-04-06T08:27:22.491Z"
   },
   {
    "duration": 2210,
    "start_time": "2023-04-06T08:27:24.614Z"
   },
   {
    "duration": 1281,
    "start_time": "2023-04-06T08:27:26.825Z"
   },
   {
    "duration": 92,
    "start_time": "2023-04-06T08:27:28.108Z"
   },
   {
    "duration": 13,
    "start_time": "2023-04-06T08:27:28.202Z"
   },
   {
    "duration": 4,
    "start_time": "2023-04-06T08:27:28.217Z"
   },
   {
    "duration": 19,
    "start_time": "2023-04-06T08:27:28.223Z"
   },
   {
    "duration": 7,
    "start_time": "2023-04-06T08:27:28.244Z"
   },
   {
    "duration": 31,
    "start_time": "2023-04-06T08:27:28.253Z"
   },
   {
    "duration": 5,
    "start_time": "2023-04-06T08:27:28.287Z"
   },
   {
    "duration": 8,
    "start_time": "2023-04-06T08:27:28.293Z"
   },
   {
    "duration": 428,
    "start_time": "2023-04-06T08:27:28.302Z"
   },
   {
    "duration": 14,
    "start_time": "2023-04-06T08:27:28.732Z"
   },
   {
    "duration": 53,
    "start_time": "2023-04-06T08:27:28.748Z"
   },
   {
    "duration": 292,
    "start_time": "2023-04-06T08:27:28.803Z"
   },
   {
    "duration": 114,
    "start_time": "2023-04-06T08:27:29.098Z"
   },
   {
    "duration": 2,
    "start_time": "2023-04-06T08:27:29.214Z"
   },
   {
    "duration": 29,
    "start_time": "2023-04-06T08:27:29.219Z"
   },
   {
    "duration": 13,
    "start_time": "2023-04-06T08:27:29.250Z"
   },
   {
    "duration": 25,
    "start_time": "2023-04-06T08:27:29.265Z"
   },
   {
    "duration": 4,
    "start_time": "2023-04-06T08:27:29.292Z"
   },
   {
    "duration": 10,
    "start_time": "2023-04-06T08:27:29.298Z"
   },
   {
    "duration": 7,
    "start_time": "2023-04-06T08:27:29.310Z"
   },
   {
    "duration": 43,
    "start_time": "2023-04-06T08:27:29.319Z"
   },
   {
    "duration": 21,
    "start_time": "2023-04-06T08:27:29.364Z"
   },
   {
    "duration": 32,
    "start_time": "2023-04-06T08:27:29.387Z"
   },
   {
    "duration": 186,
    "start_time": "2023-04-06T08:27:29.421Z"
   },
   {
    "duration": 0,
    "start_time": "2023-04-06T08:27:29.609Z"
   },
   {
    "duration": 0,
    "start_time": "2023-04-06T08:27:29.611Z"
   },
   {
    "duration": 0,
    "start_time": "2023-04-06T08:27:29.613Z"
   },
   {
    "duration": 0,
    "start_time": "2023-04-06T08:27:29.614Z"
   },
   {
    "duration": 0,
    "start_time": "2023-04-06T08:27:29.615Z"
   },
   {
    "duration": 0,
    "start_time": "2023-04-06T08:27:29.616Z"
   },
   {
    "duration": 0,
    "start_time": "2023-04-06T08:27:29.618Z"
   },
   {
    "duration": 0,
    "start_time": "2023-04-06T08:27:29.619Z"
   },
   {
    "duration": 0,
    "start_time": "2023-04-06T08:27:29.620Z"
   },
   {
    "duration": 0,
    "start_time": "2023-04-06T08:27:29.622Z"
   },
   {
    "duration": 0,
    "start_time": "2023-04-06T08:27:29.623Z"
   },
   {
    "duration": 0,
    "start_time": "2023-04-06T08:27:29.624Z"
   },
   {
    "duration": 0,
    "start_time": "2023-04-06T08:27:29.625Z"
   },
   {
    "duration": 0,
    "start_time": "2023-04-06T08:27:29.627Z"
   },
   {
    "duration": 0,
    "start_time": "2023-04-06T08:27:29.628Z"
   },
   {
    "duration": 15,
    "start_time": "2023-04-06T08:28:09.921Z"
   },
   {
    "duration": 9,
    "start_time": "2023-04-06T08:28:31.903Z"
   },
   {
    "duration": 17,
    "start_time": "2023-04-06T08:31:21.795Z"
   },
   {
    "duration": 2180,
    "start_time": "2023-04-06T08:31:26.567Z"
   },
   {
    "duration": 2348,
    "start_time": "2023-04-06T08:31:28.749Z"
   },
   {
    "duration": 1258,
    "start_time": "2023-04-06T08:31:31.099Z"
   },
   {
    "duration": 93,
    "start_time": "2023-04-06T08:31:32.359Z"
   },
   {
    "duration": 12,
    "start_time": "2023-04-06T08:31:32.453Z"
   },
   {
    "duration": 3,
    "start_time": "2023-04-06T08:31:32.467Z"
   },
   {
    "duration": 20,
    "start_time": "2023-04-06T08:31:32.471Z"
   },
   {
    "duration": 20,
    "start_time": "2023-04-06T08:31:32.492Z"
   },
   {
    "duration": 29,
    "start_time": "2023-04-06T08:31:32.513Z"
   },
   {
    "duration": 40,
    "start_time": "2023-04-06T08:31:32.545Z"
   },
   {
    "duration": 29,
    "start_time": "2023-04-06T08:31:32.587Z"
   },
   {
    "duration": 442,
    "start_time": "2023-04-06T08:31:32.618Z"
   },
   {
    "duration": 21,
    "start_time": "2023-04-06T08:31:33.062Z"
   },
   {
    "duration": 49,
    "start_time": "2023-04-06T08:31:33.084Z"
   },
   {
    "duration": 296,
    "start_time": "2023-04-06T08:31:33.135Z"
   },
   {
    "duration": 106,
    "start_time": "2023-04-06T08:31:33.432Z"
   },
   {
    "duration": 16,
    "start_time": "2023-04-06T08:31:33.540Z"
   },
   {
    "duration": 4,
    "start_time": "2023-04-06T08:31:33.557Z"
   },
   {
    "duration": 22,
    "start_time": "2023-04-06T08:31:33.563Z"
   },
   {
    "duration": 7,
    "start_time": "2023-04-06T08:31:33.586Z"
   },
   {
    "duration": 37,
    "start_time": "2023-04-06T08:31:33.595Z"
   },
   {
    "duration": 13,
    "start_time": "2023-04-06T08:31:33.634Z"
   },
   {
    "duration": 50,
    "start_time": "2023-04-06T08:31:33.649Z"
   },
   {
    "duration": 7484,
    "start_time": "2023-04-06T08:31:33.700Z"
   },
   {
    "duration": 6161,
    "start_time": "2023-04-06T08:31:41.186Z"
   },
   {
    "duration": 1553,
    "start_time": "2023-04-06T08:31:47.349Z"
   },
   {
    "duration": 379,
    "start_time": "2023-04-06T08:31:48.904Z"
   },
   {
    "duration": 9,
    "start_time": "2023-04-06T08:31:49.286Z"
   },
   {
    "duration": 9544,
    "start_time": "2023-04-06T08:31:49.296Z"
   },
   {
    "duration": 9222,
    "start_time": "2023-04-06T08:31:58.841Z"
   },
   {
    "duration": 1639,
    "start_time": "2023-04-06T08:32:08.065Z"
   },
   {
    "duration": 101,
    "start_time": "2023-04-06T08:32:09.784Z"
   },
   {
    "duration": 4255,
    "start_time": "2023-04-06T08:32:09.887Z"
   },
   {
    "duration": 3930,
    "start_time": "2023-04-06T08:32:14.144Z"
   },
   {
    "duration": 913,
    "start_time": "2023-04-06T08:32:18.076Z"
   },
   {
    "duration": 202,
    "start_time": "2023-04-06T08:32:18.992Z"
   },
   {
    "duration": 157,
    "start_time": "2023-04-06T08:32:19.196Z"
   },
   {
    "duration": 379,
    "start_time": "2023-04-06T08:32:19.356Z"
   },
   {
    "duration": 149,
    "start_time": "2023-04-06T08:32:19.737Z"
   },
   {
    "duration": 13,
    "start_time": "2023-04-06T08:34:33.879Z"
   },
   {
    "duration": 17,
    "start_time": "2023-04-06T08:34:35.095Z"
   },
   {
    "duration": 15,
    "start_time": "2023-04-06T08:34:36.967Z"
   },
   {
    "duration": 12,
    "start_time": "2023-04-06T08:34:41.552Z"
   },
   {
    "duration": 8,
    "start_time": "2023-04-06T08:34:43.608Z"
   },
   {
    "duration": 9,
    "start_time": "2023-04-06T08:34:45.527Z"
   },
   {
    "duration": 10,
    "start_time": "2023-04-06T08:34:46.295Z"
   },
   {
    "duration": 19,
    "start_time": "2023-04-06T08:34:49.127Z"
   },
   {
    "duration": 12,
    "start_time": "2023-04-06T08:34:54.960Z"
   },
   {
    "duration": 9,
    "start_time": "2023-04-06T08:34:55.783Z"
   },
   {
    "duration": 20,
    "start_time": "2023-04-06T08:35:00.327Z"
   },
   {
    "duration": 9,
    "start_time": "2023-04-06T08:35:03.343Z"
   },
   {
    "duration": 8,
    "start_time": "2023-04-06T08:35:44.950Z"
   },
   {
    "duration": 352,
    "start_time": "2023-04-06T08:49:35.831Z"
   },
   {
    "duration": 5,
    "start_time": "2023-04-06T08:54:46.625Z"
   },
   {
    "duration": 8,
    "start_time": "2023-04-06T08:54:54.711Z"
   },
   {
    "duration": 6,
    "start_time": "2023-04-06T08:56:13.070Z"
   },
   {
    "duration": 7,
    "start_time": "2023-04-06T09:06:21.079Z"
   },
   {
    "duration": 8,
    "start_time": "2023-04-06T09:06:24.439Z"
   },
   {
    "duration": 5,
    "start_time": "2023-04-06T09:08:53.111Z"
   },
   {
    "duration": 25,
    "start_time": "2023-04-06T09:09:16.405Z"
   },
   {
    "duration": 24,
    "start_time": "2023-04-06T09:10:02.586Z"
   },
   {
    "duration": 24,
    "start_time": "2023-04-06T09:10:27.308Z"
   },
   {
    "duration": 23,
    "start_time": "2023-04-06T09:10:53.164Z"
   },
   {
    "duration": 2204,
    "start_time": "2023-04-06T09:11:01.156Z"
   },
   {
    "duration": 2283,
    "start_time": "2023-04-06T09:11:03.362Z"
   },
   {
    "duration": 1331,
    "start_time": "2023-04-06T09:11:05.647Z"
   },
   {
    "duration": 125,
    "start_time": "2023-04-06T09:11:06.980Z"
   },
   {
    "duration": 12,
    "start_time": "2023-04-06T09:11:07.107Z"
   },
   {
    "duration": 4,
    "start_time": "2023-04-06T09:11:07.121Z"
   },
   {
    "duration": 15,
    "start_time": "2023-04-06T09:11:07.126Z"
   },
   {
    "duration": 7,
    "start_time": "2023-04-06T09:11:07.143Z"
   },
   {
    "duration": 7,
    "start_time": "2023-04-06T09:11:07.152Z"
   },
   {
    "duration": 5,
    "start_time": "2023-04-06T09:11:07.184Z"
   },
   {
    "duration": 8,
    "start_time": "2023-04-06T09:11:07.190Z"
   },
   {
    "duration": 407,
    "start_time": "2023-04-06T09:11:07.200Z"
   },
   {
    "duration": 13,
    "start_time": "2023-04-06T09:11:07.609Z"
   },
   {
    "duration": 41,
    "start_time": "2023-04-06T09:11:07.624Z"
   },
   {
    "duration": 284,
    "start_time": "2023-04-06T09:11:07.682Z"
   },
   {
    "duration": 115,
    "start_time": "2023-04-06T09:11:07.968Z"
   },
   {
    "duration": 14,
    "start_time": "2023-04-06T09:11:08.085Z"
   },
   {
    "duration": 4,
    "start_time": "2023-04-06T09:11:08.100Z"
   },
   {
    "duration": 7,
    "start_time": "2023-04-06T09:11:08.106Z"
   },
   {
    "duration": 6,
    "start_time": "2023-04-06T09:11:08.115Z"
   },
   {
    "duration": 38,
    "start_time": "2023-04-06T09:11:08.123Z"
   },
   {
    "duration": 15,
    "start_time": "2023-04-06T09:11:08.183Z"
   },
   {
    "duration": 20,
    "start_time": "2023-04-06T09:11:08.199Z"
   },
   {
    "duration": 6599,
    "start_time": "2023-04-06T09:11:08.220Z"
   },
   {
    "duration": 7061,
    "start_time": "2023-04-06T09:11:14.821Z"
   },
   {
    "duration": 1210,
    "start_time": "2023-04-06T09:11:21.883Z"
   },
   {
    "duration": 384,
    "start_time": "2023-04-06T09:11:23.096Z"
   },
   {
    "duration": 8,
    "start_time": "2023-04-06T09:11:23.485Z"
   },
   {
    "duration": 9319,
    "start_time": "2023-04-06T09:11:23.494Z"
   },
   {
    "duration": 8351,
    "start_time": "2023-04-06T09:11:32.815Z"
   },
   {
    "duration": 1440,
    "start_time": "2023-04-06T09:11:41.167Z"
   },
   {
    "duration": 177,
    "start_time": "2023-04-06T09:11:42.608Z"
   },
   {
    "duration": 4301,
    "start_time": "2023-04-06T09:11:42.786Z"
   },
   {
    "duration": 3983,
    "start_time": "2023-04-06T09:11:47.089Z"
   },
   {
    "duration": 815,
    "start_time": "2023-04-06T09:11:51.074Z"
   },
   {
    "duration": 199,
    "start_time": "2023-04-06T09:11:51.891Z"
   },
   {
    "duration": 174,
    "start_time": "2023-04-06T09:11:52.091Z"
   },
   {
    "duration": 17,
    "start_time": "2023-04-06T09:11:52.267Z"
   },
   {
    "duration": 349,
    "start_time": "2023-04-06T09:11:52.286Z"
   },
   {
    "duration": 22,
    "start_time": "2023-04-06T09:14:01.864Z"
   },
   {
    "duration": 5,
    "start_time": "2023-04-06T09:29:40.565Z"
   },
   {
    "duration": 8,
    "start_time": "2023-04-06T09:29:43.164Z"
   },
   {
    "duration": 2534,
    "start_time": "2023-04-06T09:29:58.319Z"
   },
   {
    "duration": 2293,
    "start_time": "2023-04-06T09:30:00.855Z"
   },
   {
    "duration": 1323,
    "start_time": "2023-04-06T09:30:03.150Z"
   },
   {
    "duration": 115,
    "start_time": "2023-04-06T09:30:04.475Z"
   },
   {
    "duration": 13,
    "start_time": "2023-04-06T09:30:04.592Z"
   },
   {
    "duration": 5,
    "start_time": "2023-04-06T09:30:04.607Z"
   },
   {
    "duration": 12,
    "start_time": "2023-04-06T09:30:04.614Z"
   },
   {
    "duration": 19,
    "start_time": "2023-04-06T09:30:04.628Z"
   },
   {
    "duration": 6,
    "start_time": "2023-04-06T09:30:04.649Z"
   },
   {
    "duration": 27,
    "start_time": "2023-04-06T09:30:04.657Z"
   },
   {
    "duration": 5,
    "start_time": "2023-04-06T09:30:04.686Z"
   },
   {
    "duration": 419,
    "start_time": "2023-04-06T09:30:04.693Z"
   },
   {
    "duration": 13,
    "start_time": "2023-04-06T09:30:05.114Z"
   },
   {
    "duration": 55,
    "start_time": "2023-04-06T09:30:05.129Z"
   },
   {
    "duration": 284,
    "start_time": "2023-04-06T09:30:05.185Z"
   },
   {
    "duration": 107,
    "start_time": "2023-04-06T09:30:05.471Z"
   },
   {
    "duration": 16,
    "start_time": "2023-04-06T09:30:05.583Z"
   },
   {
    "duration": 5,
    "start_time": "2023-04-06T09:30:05.601Z"
   },
   {
    "duration": 13,
    "start_time": "2023-04-06T09:30:05.608Z"
   },
   {
    "duration": 5,
    "start_time": "2023-04-06T09:30:05.622Z"
   },
   {
    "duration": 37,
    "start_time": "2023-04-06T09:30:05.629Z"
   },
   {
    "duration": 32,
    "start_time": "2023-04-06T09:30:05.668Z"
   },
   {
    "duration": 15,
    "start_time": "2023-04-06T09:30:05.702Z"
   },
   {
    "duration": 6494,
    "start_time": "2023-04-06T09:30:05.719Z"
   },
   {
    "duration": 6409,
    "start_time": "2023-04-06T09:30:12.215Z"
   },
   {
    "duration": 1176,
    "start_time": "2023-04-06T09:30:18.626Z"
   },
   {
    "duration": 391,
    "start_time": "2023-04-06T09:30:19.805Z"
   },
   {
    "duration": 11,
    "start_time": "2023-04-06T09:30:20.201Z"
   },
   {
    "duration": 9960,
    "start_time": "2023-04-06T09:30:20.213Z"
   },
   {
    "duration": 9009,
    "start_time": "2023-04-06T09:30:30.175Z"
   },
   {
    "duration": 1597,
    "start_time": "2023-04-06T09:30:39.186Z"
   },
   {
    "duration": 102,
    "start_time": "2023-04-06T09:30:40.787Z"
   },
   {
    "duration": 4211,
    "start_time": "2023-04-06T09:30:40.891Z"
   },
   {
    "duration": 3894,
    "start_time": "2023-04-06T09:30:45.104Z"
   },
   {
    "duration": 794,
    "start_time": "2023-04-06T09:30:48.999Z"
   },
   {
    "duration": 196,
    "start_time": "2023-04-06T09:30:49.795Z"
   },
   {
    "duration": 150,
    "start_time": "2023-04-06T09:30:49.993Z"
   },
   {
    "duration": 7,
    "start_time": "2023-04-06T09:30:50.144Z"
   },
   {
    "duration": 391,
    "start_time": "2023-04-06T09:30:50.152Z"
   },
   {
    "duration": 10,
    "start_time": "2023-04-06T09:35:16.133Z"
   },
   {
    "duration": 4,
    "start_time": "2023-04-06T09:35:52.925Z"
   },
   {
    "duration": 2321,
    "start_time": "2023-04-06T09:36:05.004Z"
   },
   {
    "duration": 2209,
    "start_time": "2023-04-06T09:36:07.328Z"
   },
   {
    "duration": 1243,
    "start_time": "2023-04-06T09:36:09.543Z"
   },
   {
    "duration": 96,
    "start_time": "2023-04-06T09:36:10.788Z"
   },
   {
    "duration": 11,
    "start_time": "2023-04-06T09:36:10.886Z"
   },
   {
    "duration": 3,
    "start_time": "2023-04-06T09:36:10.899Z"
   },
   {
    "duration": 20,
    "start_time": "2023-04-06T09:36:10.904Z"
   },
   {
    "duration": 9,
    "start_time": "2023-04-06T09:36:10.927Z"
   },
   {
    "duration": 7,
    "start_time": "2023-04-06T09:36:10.941Z"
   },
   {
    "duration": 6,
    "start_time": "2023-04-06T09:36:10.983Z"
   },
   {
    "duration": 7,
    "start_time": "2023-04-06T09:36:10.991Z"
   },
   {
    "duration": 419,
    "start_time": "2023-04-06T09:36:11.000Z"
   },
   {
    "duration": 14,
    "start_time": "2023-04-06T09:36:11.421Z"
   },
   {
    "duration": 58,
    "start_time": "2023-04-06T09:36:11.437Z"
   },
   {
    "duration": 293,
    "start_time": "2023-04-06T09:36:11.497Z"
   },
   {
    "duration": 115,
    "start_time": "2023-04-06T09:36:11.792Z"
   },
   {
    "duration": 17,
    "start_time": "2023-04-06T09:36:11.909Z"
   },
   {
    "duration": 4,
    "start_time": "2023-04-06T09:36:11.928Z"
   },
   {
    "duration": 8,
    "start_time": "2023-04-06T09:36:11.934Z"
   },
   {
    "duration": 8,
    "start_time": "2023-04-06T09:36:11.943Z"
   },
   {
    "duration": 58,
    "start_time": "2023-04-06T09:36:11.952Z"
   },
   {
    "duration": 16,
    "start_time": "2023-04-06T09:36:12.011Z"
   },
   {
    "duration": 24,
    "start_time": "2023-04-06T09:36:12.030Z"
   },
   {
    "duration": 6474,
    "start_time": "2023-04-06T09:36:12.056Z"
   },
   {
    "duration": 6193,
    "start_time": "2023-04-06T09:36:18.533Z"
   },
   {
    "duration": 1174,
    "start_time": "2023-04-06T09:36:24.727Z"
   },
   {
    "duration": 378,
    "start_time": "2023-04-06T09:36:25.906Z"
   },
   {
    "duration": 9,
    "start_time": "2023-04-06T09:36:26.286Z"
   },
   {
    "duration": 9621,
    "start_time": "2023-04-06T09:36:26.297Z"
   },
   {
    "duration": 9092,
    "start_time": "2023-04-06T09:36:35.919Z"
   },
   {
    "duration": 1396,
    "start_time": "2023-04-06T09:36:45.013Z"
   },
   {
    "duration": 15,
    "start_time": "2023-04-06T09:36:46.482Z"
   },
   {
    "duration": 4290,
    "start_time": "2023-04-06T09:36:46.584Z"
   },
   {
    "duration": 4250,
    "start_time": "2023-04-06T09:36:50.876Z"
   },
   {
    "duration": 1868,
    "start_time": "2023-04-06T09:36:55.128Z"
   },
   {
    "duration": 195,
    "start_time": "2023-04-06T09:36:56.999Z"
   },
   {
    "duration": 156,
    "start_time": "2023-04-06T09:36:57.196Z"
   },
   {
    "duration": 6,
    "start_time": "2023-04-06T09:36:57.354Z"
   },
   {
    "duration": 387,
    "start_time": "2023-04-06T09:36:57.362Z"
   },
   {
    "duration": 2008,
    "start_time": "2023-04-20T09:30:44.191Z"
   },
   {
    "duration": 2641,
    "start_time": "2023-04-20T09:30:50.792Z"
   },
   {
    "duration": 18,
    "start_time": "2023-04-20T09:31:03.880Z"
   },
   {
    "duration": 9,
    "start_time": "2023-04-20T09:31:04.091Z"
   },
   {
    "duration": 9,
    "start_time": "2023-04-20T09:31:04.297Z"
   },
   {
    "duration": 16,
    "start_time": "2023-04-20T09:31:06.587Z"
   },
   {
    "duration": 14,
    "start_time": "2023-04-20T09:31:06.816Z"
   },
   {
    "duration": 14,
    "start_time": "2023-04-20T09:31:08.348Z"
   },
   {
    "duration": 13,
    "start_time": "2023-04-20T09:31:49.690Z"
   },
   {
    "duration": 37,
    "start_time": "2023-04-20T09:31:53.695Z"
   },
   {
    "duration": 34,
    "start_time": "2023-04-20T09:31:53.990Z"
   },
   {
    "duration": 36,
    "start_time": "2023-04-20T09:31:55.588Z"
   },
   {
    "duration": 37,
    "start_time": "2023-04-20T09:33:51.103Z"
   },
   {
    "duration": 4,
    "start_time": "2023-04-20T09:33:51.756Z"
   },
   {
    "duration": 103,
    "start_time": "2023-04-20T09:34:12.665Z"
   },
   {
    "duration": 2,
    "start_time": "2023-04-20T09:34:17.347Z"
   },
   {
    "duration": 103,
    "start_time": "2023-04-20T09:34:19.696Z"
   },
   {
    "duration": 7,
    "start_time": "2023-04-20T09:34:27.297Z"
   },
   {
    "duration": 6,
    "start_time": "2023-04-20T09:34:29.865Z"
   },
   {
    "duration": 4,
    "start_time": "2023-04-20T09:34:30.206Z"
   },
   {
    "duration": 3,
    "start_time": "2023-04-20T09:35:33.008Z"
   },
   {
    "duration": 3,
    "start_time": "2023-04-20T09:35:46.625Z"
   },
   {
    "duration": 6,
    "start_time": "2023-04-20T09:36:02.921Z"
   },
   {
    "duration": 4,
    "start_time": "2023-04-20T09:36:51.084Z"
   },
   {
    "duration": 20,
    "start_time": "2023-04-20T09:37:24.010Z"
   },
   {
    "duration": 9,
    "start_time": "2023-04-20T09:38:49.303Z"
   },
   {
    "duration": 1321,
    "start_time": "2023-04-20T09:38:50.609Z"
   },
   {
    "duration": 1333,
    "start_time": "2023-04-20T09:38:51.931Z"
   },
   {
    "duration": 1393,
    "start_time": "2023-04-20T09:38:53.266Z"
   },
   {
    "duration": 100,
    "start_time": "2023-04-20T09:42:11.928Z"
   },
   {
    "duration": 133,
    "start_time": "2023-04-20T09:42:14.126Z"
   },
   {
    "duration": 6,
    "start_time": "2023-04-20T09:43:01.101Z"
   },
   {
    "duration": 1508,
    "start_time": "2023-04-20T09:43:02.716Z"
   },
   {
    "duration": 1399,
    "start_time": "2023-04-20T09:43:04.226Z"
   },
   {
    "duration": 1386,
    "start_time": "2023-04-20T09:43:05.627Z"
   },
   {
    "duration": 44,
    "start_time": "2023-04-20T09:58:59.611Z"
   },
   {
    "duration": 1365,
    "start_time": "2023-04-20T09:59:06.398Z"
   },
   {
    "duration": 1553,
    "start_time": "2023-04-20T09:59:07.765Z"
   },
   {
    "duration": 12,
    "start_time": "2023-04-20T09:59:09.319Z"
   },
   {
    "duration": 7,
    "start_time": "2023-04-20T09:59:09.333Z"
   },
   {
    "duration": 15,
    "start_time": "2023-04-20T09:59:09.342Z"
   },
   {
    "duration": 41,
    "start_time": "2023-04-20T09:59:09.359Z"
   },
   {
    "duration": 18,
    "start_time": "2023-04-20T09:59:09.402Z"
   },
   {
    "duration": 13,
    "start_time": "2023-04-20T09:59:09.421Z"
   },
   {
    "duration": 4,
    "start_time": "2023-04-20T09:59:09.435Z"
   },
   {
    "duration": 121,
    "start_time": "2023-04-20T09:59:09.442Z"
   },
   {
    "duration": 18,
    "start_time": "2023-04-20T09:59:09.565Z"
   },
   {
    "duration": 10,
    "start_time": "2023-04-20T09:59:09.585Z"
   },
   {
    "duration": 47,
    "start_time": "2023-04-20T09:59:09.597Z"
   },
   {
    "duration": 31,
    "start_time": "2023-04-20T09:59:09.646Z"
   },
   {
    "duration": 31,
    "start_time": "2023-04-20T09:59:09.679Z"
   },
   {
    "duration": 174,
    "start_time": "2023-04-20T09:59:09.711Z"
   },
   {
    "duration": 37,
    "start_time": "2023-04-20T09:59:09.886Z"
   },
   {
    "duration": 15,
    "start_time": "2023-04-20T09:59:09.924Z"
   },
   {
    "duration": 105,
    "start_time": "2023-04-20T09:59:09.940Z"
   },
   {
    "duration": 3,
    "start_time": "2023-04-20T09:59:10.135Z"
   },
   {
    "duration": 98,
    "start_time": "2023-04-20T09:59:10.139Z"
   },
   {
    "duration": 5,
    "start_time": "2023-04-20T09:59:10.239Z"
   },
   {
    "duration": 4,
    "start_time": "2023-04-20T09:59:10.246Z"
   },
   {
    "duration": 5,
    "start_time": "2023-04-20T09:59:10.338Z"
   },
   {
    "duration": 4,
    "start_time": "2023-04-20T09:59:10.345Z"
   },
   {
    "duration": 4,
    "start_time": "2023-04-20T09:59:10.436Z"
   },
   {
    "duration": 11,
    "start_time": "2023-04-20T09:59:10.441Z"
   },
   {
    "duration": 8,
    "start_time": "2023-04-20T09:59:10.455Z"
   },
   {
    "duration": 20,
    "start_time": "2023-04-20T09:59:10.464Z"
   },
   {
    "duration": 6,
    "start_time": "2023-04-20T09:59:10.486Z"
   },
   {
    "duration": 1071,
    "start_time": "2023-04-20T09:59:10.493Z"
   },
   {
    "duration": 1237,
    "start_time": "2023-04-20T09:59:11.566Z"
   },
   {
    "duration": 1196,
    "start_time": "2023-04-20T09:59:12.804Z"
   },
   {
    "duration": 1121,
    "start_time": "2023-04-20T10:01:11.582Z"
   },
   {
    "duration": 1059,
    "start_time": "2023-04-20T10:01:19.317Z"
   },
   {
    "duration": 1016,
    "start_time": "2023-04-20T10:01:34.028Z"
   },
   {
    "duration": 1035,
    "start_time": "2023-04-20T10:01:36.901Z"
   },
   {
    "duration": 64,
    "start_time": "2023-04-20T14:38:55.377Z"
   },
   {
    "duration": 5,
    "start_time": "2023-04-20T14:38:58.285Z"
   },
   {
    "duration": 1713,
    "start_time": "2023-04-20T14:39:03.689Z"
   },
   {
    "duration": 2164,
    "start_time": "2023-04-20T14:39:05.405Z"
   },
   {
    "duration": 14,
    "start_time": "2023-04-20T14:39:07.571Z"
   },
   {
    "duration": 19,
    "start_time": "2023-04-20T14:39:07.587Z"
   },
   {
    "duration": 24,
    "start_time": "2023-04-20T14:39:07.609Z"
   },
   {
    "duration": 17,
    "start_time": "2023-04-20T14:39:07.636Z"
   },
   {
    "duration": 14,
    "start_time": "2023-04-20T14:39:07.654Z"
   },
   {
    "duration": 23,
    "start_time": "2023-04-20T14:39:07.670Z"
   },
   {
    "duration": 6,
    "start_time": "2023-04-20T14:39:07.695Z"
   },
   {
    "duration": 148,
    "start_time": "2023-04-20T14:39:07.703Z"
   },
   {
    "duration": 20,
    "start_time": "2023-04-20T14:39:07.853Z"
   },
   {
    "duration": 33,
    "start_time": "2023-04-20T14:39:07.874Z"
   },
   {
    "duration": 51,
    "start_time": "2023-04-20T14:39:07.909Z"
   },
   {
    "duration": 45,
    "start_time": "2023-04-20T14:39:07.964Z"
   },
   {
    "duration": 37,
    "start_time": "2023-04-20T14:39:08.010Z"
   },
   {
    "duration": 225,
    "start_time": "2023-04-20T14:39:08.049Z"
   },
   {
    "duration": 3,
    "start_time": "2023-04-20T14:39:08.276Z"
   },
   {
    "duration": 589,
    "start_time": "2023-04-20T14:39:08.281Z"
   },
   {
    "duration": 50,
    "start_time": "2023-04-20T14:39:08.872Z"
   },
   {
    "duration": 5,
    "start_time": "2023-04-20T14:39:08.924Z"
   },
   {
    "duration": 86,
    "start_time": "2023-04-20T14:39:08.931Z"
   },
   {
    "duration": 3,
    "start_time": "2023-04-20T14:39:09.094Z"
   },
   {
    "duration": 97,
    "start_time": "2023-04-20T14:39:09.103Z"
   },
   {
    "duration": 6,
    "start_time": "2023-04-20T14:39:09.202Z"
   },
   {
    "duration": 96,
    "start_time": "2023-04-20T14:39:09.212Z"
   },
   {
    "duration": 88,
    "start_time": "2023-04-20T14:39:09.311Z"
   },
   {
    "duration": 18,
    "start_time": "2023-04-20T14:39:09.401Z"
   },
   {
    "duration": 44,
    "start_time": "2023-04-20T14:39:09.421Z"
   },
   {
    "duration": 38,
    "start_time": "2023-04-20T14:39:09.467Z"
   },
   {
    "duration": 35,
    "start_time": "2023-04-20T14:39:09.507Z"
   },
   {
    "duration": 49,
    "start_time": "2023-04-20T14:39:09.544Z"
   },
   {
    "duration": 24,
    "start_time": "2023-04-20T14:39:09.596Z"
   },
   {
    "duration": 1411,
    "start_time": "2023-04-20T14:39:09.622Z"
   },
   {
    "duration": 1590,
    "start_time": "2023-04-20T14:39:11.035Z"
   },
   {
    "duration": 2371,
    "start_time": "2023-04-20T14:39:12.627Z"
   },
   {
    "duration": 519,
    "start_time": "2023-04-20T14:39:37.375Z"
   },
   {
    "duration": 40,
    "start_time": "2023-04-20T14:42:05.884Z"
   },
   {
    "duration": 54,
    "start_time": "2023-04-20T14:42:38.810Z"
   },
   {
    "duration": 781,
    "start_time": "2023-04-20T14:45:01.040Z"
   },
   {
    "duration": 1080,
    "start_time": "2023-04-20T14:45:20.433Z"
   },
   {
    "duration": 1205,
    "start_time": "2023-04-20T14:45:40.410Z"
   },
   {
    "duration": 1042,
    "start_time": "2023-04-20T14:45:48.584Z"
   },
   {
    "duration": 1037,
    "start_time": "2023-04-20T14:45:54.688Z"
   },
   {
    "duration": 519,
    "start_time": "2023-04-20T14:51:07.067Z"
   },
   {
    "duration": 144,
    "start_time": "2023-04-20T14:51:24.828Z"
   },
   {
    "duration": 4774,
    "start_time": "2023-04-20T14:51:53.473Z"
   },
   {
    "duration": 1140,
    "start_time": "2023-04-20T14:52:05.746Z"
   },
   {
    "duration": 1397,
    "start_time": "2023-04-20T14:52:10.075Z"
   },
   {
    "duration": 1368,
    "start_time": "2023-04-20T14:52:32.532Z"
   },
   {
    "duration": 1276,
    "start_time": "2023-04-20T14:52:37.210Z"
   },
   {
    "duration": 412,
    "start_time": "2023-04-20T14:53:15.851Z"
   },
   {
    "duration": 394,
    "start_time": "2023-04-20T14:53:38.474Z"
   },
   {
    "duration": 347,
    "start_time": "2023-04-20T14:54:36.313Z"
   },
   {
    "duration": 1140,
    "start_time": "2023-04-20T14:54:51.478Z"
   },
   {
    "duration": 1199,
    "start_time": "2023-04-20T14:55:21.336Z"
   },
   {
    "duration": 1069,
    "start_time": "2023-04-20T14:55:28.299Z"
   },
   {
    "duration": 1183,
    "start_time": "2023-04-20T14:57:15.038Z"
   },
   {
    "duration": 978,
    "start_time": "2023-04-20T14:57:52.109Z"
   },
   {
    "duration": 1214,
    "start_time": "2023-04-20T14:58:00.445Z"
   },
   {
    "duration": 1014,
    "start_time": "2023-04-20T15:01:08.762Z"
   },
   {
    "duration": 1000,
    "start_time": "2023-04-20T15:02:19.304Z"
   },
   {
    "duration": 1010,
    "start_time": "2023-04-20T15:02:23.577Z"
   },
   {
    "duration": 699,
    "start_time": "2023-04-20T15:02:56.508Z"
   },
   {
    "duration": 1062,
    "start_time": "2023-04-20T15:03:07.143Z"
   },
   {
    "duration": 1080,
    "start_time": "2023-04-20T15:03:34.845Z"
   },
   {
    "duration": 1206,
    "start_time": "2023-04-20T15:03:40.099Z"
   },
   {
    "duration": 3012,
    "start_time": "2023-04-20T15:03:45.275Z"
   },
   {
    "duration": 1039,
    "start_time": "2023-04-20T15:03:58.527Z"
   },
   {
    "duration": 538,
    "start_time": "2023-04-20T15:06:09.508Z"
   },
   {
    "duration": 18,
    "start_time": "2023-04-20T15:06:25.316Z"
   },
   {
    "duration": 1032,
    "start_time": "2023-04-20T15:06:37.804Z"
   },
   {
    "duration": 410,
    "start_time": "2023-04-20T15:06:51.420Z"
   },
   {
    "duration": 1003,
    "start_time": "2023-04-20T15:07:03.157Z"
   },
   {
    "duration": 1073,
    "start_time": "2023-04-20T15:07:18.125Z"
   },
   {
    "duration": 10,
    "start_time": "2023-04-20T15:22:43.541Z"
   },
   {
    "duration": 35,
    "start_time": "2023-04-20T15:22:49.388Z"
   },
   {
    "duration": 4,
    "start_time": "2023-04-20T15:22:50.212Z"
   },
   {
    "duration": 11,
    "start_time": "2023-04-20T15:22:51.804Z"
   },
   {
    "duration": 41,
    "start_time": "2023-04-20T15:23:15.949Z"
   },
   {
    "duration": 4,
    "start_time": "2023-04-20T15:23:16.635Z"
   },
   {
    "duration": 15,
    "start_time": "2023-04-20T15:23:17.500Z"
   },
   {
    "duration": 6,
    "start_time": "2023-04-20T15:23:38.508Z"
   },
   {
    "duration": 20,
    "start_time": "2023-04-20T15:23:39.346Z"
   },
   {
    "duration": 4,
    "start_time": "2023-04-20T15:23:59.562Z"
   },
   {
    "duration": 26,
    "start_time": "2023-04-20T15:24:00.249Z"
   },
   {
    "duration": 14,
    "start_time": "2023-04-20T15:26:58.529Z"
   },
   {
    "duration": 1603,
    "start_time": "2023-04-20T15:27:10.859Z"
   },
   {
    "duration": 635,
    "start_time": "2023-04-20T15:27:12.465Z"
   },
   {
    "duration": 14,
    "start_time": "2023-04-20T15:27:13.102Z"
   },
   {
    "duration": 11,
    "start_time": "2023-04-20T15:27:13.118Z"
   },
   {
    "duration": 23,
    "start_time": "2023-04-20T15:27:13.131Z"
   },
   {
    "duration": 25,
    "start_time": "2023-04-20T15:27:13.156Z"
   },
   {
    "duration": 24,
    "start_time": "2023-04-20T15:27:13.184Z"
   },
   {
    "duration": 17,
    "start_time": "2023-04-20T15:27:13.211Z"
   },
   {
    "duration": 12,
    "start_time": "2023-04-20T15:27:13.230Z"
   },
   {
    "duration": 161,
    "start_time": "2023-04-20T15:27:13.245Z"
   },
   {
    "duration": 21,
    "start_time": "2023-04-20T15:27:13.408Z"
   },
   {
    "duration": 25,
    "start_time": "2023-04-20T15:27:13.431Z"
   },
   {
    "duration": 56,
    "start_time": "2023-04-20T15:27:13.458Z"
   },
   {
    "duration": 41,
    "start_time": "2023-04-20T15:27:13.516Z"
   },
   {
    "duration": 58,
    "start_time": "2023-04-20T15:27:13.558Z"
   },
   {
    "duration": 190,
    "start_time": "2023-04-20T15:27:13.618Z"
   },
   {
    "duration": 3,
    "start_time": "2023-04-20T15:27:13.810Z"
   },
   {
    "duration": 1049,
    "start_time": "2023-04-20T15:27:13.815Z"
   },
   {
    "duration": 148,
    "start_time": "2023-04-20T15:27:14.865Z"
   },
   {
    "duration": 5,
    "start_time": "2023-04-20T15:27:15.015Z"
   },
   {
    "duration": 141,
    "start_time": "2023-04-20T15:27:15.022Z"
   },
   {
    "duration": 0,
    "start_time": "2023-04-20T15:27:15.165Z"
   },
   {
    "duration": 0,
    "start_time": "2023-04-20T15:27:15.167Z"
   },
   {
    "duration": 0,
    "start_time": "2023-04-20T15:27:15.167Z"
   },
   {
    "duration": 0,
    "start_time": "2023-04-20T15:27:15.169Z"
   },
   {
    "duration": 0,
    "start_time": "2023-04-20T15:27:15.170Z"
   },
   {
    "duration": 0,
    "start_time": "2023-04-20T15:27:15.172Z"
   },
   {
    "duration": 0,
    "start_time": "2023-04-20T15:27:15.173Z"
   },
   {
    "duration": 0,
    "start_time": "2023-04-20T15:27:15.175Z"
   },
   {
    "duration": 0,
    "start_time": "2023-04-20T15:27:15.177Z"
   },
   {
    "duration": 0,
    "start_time": "2023-04-20T15:27:15.178Z"
   },
   {
    "duration": 0,
    "start_time": "2023-04-20T15:27:15.194Z"
   },
   {
    "duration": 0,
    "start_time": "2023-04-20T15:27:15.195Z"
   },
   {
    "duration": 0,
    "start_time": "2023-04-20T15:27:15.196Z"
   },
   {
    "duration": 0,
    "start_time": "2023-04-20T15:27:15.197Z"
   },
   {
    "duration": 0,
    "start_time": "2023-04-20T15:27:15.198Z"
   },
   {
    "duration": 0,
    "start_time": "2023-04-20T15:27:15.200Z"
   },
   {
    "duration": 4,
    "start_time": "2023-04-20T15:27:47.473Z"
   },
   {
    "duration": 36,
    "start_time": "2023-04-20T15:27:48.975Z"
   },
   {
    "duration": 4,
    "start_time": "2023-04-20T15:31:32.132Z"
   },
   {
    "duration": 19,
    "start_time": "2023-04-20T15:31:33.556Z"
   },
   {
    "duration": 68,
    "start_time": "2023-04-20T15:37:56.382Z"
   },
   {
    "duration": 50,
    "start_time": "2023-04-20T15:38:11.295Z"
   },
   {
    "duration": 24,
    "start_time": "2023-04-20T15:38:25.094Z"
   },
   {
    "duration": 4,
    "start_time": "2023-04-20T15:38:27.886Z"
   },
   {
    "duration": 180,
    "start_time": "2023-04-20T15:38:28.814Z"
   },
   {
    "duration": 10,
    "start_time": "2023-04-20T16:00:34.521Z"
   },
   {
    "duration": 5,
    "start_time": "2023-04-20T16:00:35.988Z"
   },
   {
    "duration": 35,
    "start_time": "2023-04-20T16:00:36.788Z"
   },
   {
    "duration": 12,
    "start_time": "2023-04-20T16:01:05.338Z"
   },
   {
    "duration": 1595,
    "start_time": "2023-04-20T16:01:11.686Z"
   },
   {
    "duration": 479,
    "start_time": "2023-04-20T16:01:13.284Z"
   },
   {
    "duration": 13,
    "start_time": "2023-04-20T16:01:13.764Z"
   },
   {
    "duration": 20,
    "start_time": "2023-04-20T16:01:13.779Z"
   },
   {
    "duration": 17,
    "start_time": "2023-04-20T16:01:13.802Z"
   },
   {
    "duration": 23,
    "start_time": "2023-04-20T16:01:13.821Z"
   },
   {
    "duration": 16,
    "start_time": "2023-04-20T16:01:13.846Z"
   },
   {
    "duration": 14,
    "start_time": "2023-04-20T16:01:13.864Z"
   },
   {
    "duration": 5,
    "start_time": "2023-04-20T16:01:13.893Z"
   },
   {
    "duration": 163,
    "start_time": "2023-04-20T16:01:13.900Z"
   },
   {
    "duration": 30,
    "start_time": "2023-04-20T16:01:14.065Z"
   },
   {
    "duration": 16,
    "start_time": "2023-04-20T16:01:14.097Z"
   },
   {
    "duration": 44,
    "start_time": "2023-04-20T16:01:14.115Z"
   },
   {
    "duration": 61,
    "start_time": "2023-04-20T16:01:14.162Z"
   },
   {
    "duration": 37,
    "start_time": "2023-04-20T16:01:14.225Z"
   },
   {
    "duration": 205,
    "start_time": "2023-04-20T16:01:14.263Z"
   },
   {
    "duration": 3,
    "start_time": "2023-04-20T16:01:14.469Z"
   },
   {
    "duration": 1049,
    "start_time": "2023-04-20T16:01:14.473Z"
   },
   {
    "duration": 122,
    "start_time": "2023-04-20T16:01:15.523Z"
   },
   {
    "duration": 4,
    "start_time": "2023-04-20T16:01:15.647Z"
   },
   {
    "duration": 144,
    "start_time": "2023-04-20T16:01:15.653Z"
   },
   {
    "duration": 93,
    "start_time": "2023-04-20T16:01:15.802Z"
   },
   {
    "duration": 57,
    "start_time": "2023-04-20T16:01:15.897Z"
   },
   {
    "duration": 3,
    "start_time": "2023-04-20T16:01:15.956Z"
   },
   {
    "duration": 45,
    "start_time": "2023-04-20T16:01:15.960Z"
   },
   {
    "duration": 5,
    "start_time": "2023-04-20T16:01:16.007Z"
   },
   {
    "duration": 8,
    "start_time": "2023-04-20T16:01:16.094Z"
   },
   {
    "duration": 93,
    "start_time": "2023-04-20T16:01:16.104Z"
   },
   {
    "duration": 4,
    "start_time": "2023-04-20T16:01:16.199Z"
   },
   {
    "duration": 7,
    "start_time": "2023-04-20T16:01:16.205Z"
   },
   {
    "duration": 9,
    "start_time": "2023-04-20T16:01:16.214Z"
   },
   {
    "duration": 9,
    "start_time": "2023-04-20T16:01:16.225Z"
   },
   {
    "duration": 79,
    "start_time": "2023-04-20T16:01:16.236Z"
   },
   {
    "duration": 7,
    "start_time": "2023-04-20T16:01:16.317Z"
   },
   {
    "duration": 1594,
    "start_time": "2023-04-20T16:01:16.326Z"
   },
   {
    "duration": 1896,
    "start_time": "2023-04-20T16:01:17.922Z"
   },
   {
    "duration": 2020,
    "start_time": "2023-04-20T16:01:19.820Z"
   },
   {
    "duration": 323,
    "start_time": "2023-04-20T16:02:52.485Z"
   },
   {
    "duration": 61,
    "start_time": "2023-04-20T16:03:01.935Z"
   },
   {
    "duration": 398,
    "start_time": "2023-04-20T16:03:20.311Z"
   },
   {
    "duration": 405,
    "start_time": "2023-04-20T16:05:50.807Z"
   },
   {
    "duration": 1520,
    "start_time": "2023-04-20T16:06:40.884Z"
   },
   {
    "duration": 511,
    "start_time": "2023-04-20T16:06:42.408Z"
   },
   {
    "duration": 16,
    "start_time": "2023-04-20T16:06:42.921Z"
   },
   {
    "duration": 11,
    "start_time": "2023-04-20T16:06:42.938Z"
   },
   {
    "duration": 15,
    "start_time": "2023-04-20T16:06:42.952Z"
   },
   {
    "duration": 37,
    "start_time": "2023-04-20T16:06:42.969Z"
   },
   {
    "duration": 15,
    "start_time": "2023-04-20T16:06:43.008Z"
   },
   {
    "duration": 14,
    "start_time": "2023-04-20T16:06:43.025Z"
   },
   {
    "duration": 4,
    "start_time": "2023-04-20T16:06:43.041Z"
   },
   {
    "duration": 188,
    "start_time": "2023-04-20T16:06:43.046Z"
   },
   {
    "duration": 27,
    "start_time": "2023-04-20T16:06:43.236Z"
   },
   {
    "duration": 32,
    "start_time": "2023-04-20T16:06:43.266Z"
   },
   {
    "duration": 46,
    "start_time": "2023-04-20T16:06:43.300Z"
   },
   {
    "duration": 55,
    "start_time": "2023-04-20T16:06:43.349Z"
   },
   {
    "duration": 41,
    "start_time": "2023-04-20T16:06:43.405Z"
   },
   {
    "duration": 209,
    "start_time": "2023-04-20T16:06:43.447Z"
   },
   {
    "duration": 3,
    "start_time": "2023-04-20T16:06:43.658Z"
   },
   {
    "duration": 1069,
    "start_time": "2023-04-20T16:06:43.663Z"
   },
   {
    "duration": 135,
    "start_time": "2023-04-20T16:06:44.740Z"
   },
   {
    "duration": 7,
    "start_time": "2023-04-20T16:06:44.877Z"
   },
   {
    "duration": 42,
    "start_time": "2023-04-20T16:06:44.886Z"
   },
   {
    "duration": 3,
    "start_time": "2023-04-20T16:06:44.929Z"
   },
   {
    "duration": 66,
    "start_time": "2023-04-20T16:06:44.934Z"
   },
   {
    "duration": 6,
    "start_time": "2023-04-20T16:06:45.002Z"
   },
   {
    "duration": 85,
    "start_time": "2023-04-20T16:06:45.010Z"
   },
   {
    "duration": 14,
    "start_time": "2023-04-20T16:06:45.097Z"
   },
   {
    "duration": 407,
    "start_time": "2023-04-20T16:06:45.113Z"
   },
   {
    "duration": 74,
    "start_time": "2023-04-20T16:06:45.524Z"
   },
   {
    "duration": 13,
    "start_time": "2023-04-20T16:06:45.606Z"
   },
   {
    "duration": 10,
    "start_time": "2023-04-20T16:06:45.694Z"
   },
   {
    "duration": 4,
    "start_time": "2023-04-20T16:06:45.706Z"
   },
   {
    "duration": 29,
    "start_time": "2023-04-20T16:06:45.712Z"
   },
   {
    "duration": 17,
    "start_time": "2023-04-20T16:06:45.743Z"
   },
   {
    "duration": 1508,
    "start_time": "2023-04-20T16:06:45.762Z"
   },
   {
    "duration": 2046,
    "start_time": "2023-04-20T16:06:47.272Z"
   },
   {
    "duration": 2286,
    "start_time": "2023-04-20T16:06:49.321Z"
   },
   {
    "duration": 3,
    "start_time": "2023-04-20T16:09:35.588Z"
   },
   {
    "duration": 4,
    "start_time": "2023-04-20T16:09:36.488Z"
   },
   {
    "duration": 4,
    "start_time": "2023-04-20T16:11:53.591Z"
   },
   {
    "duration": 27,
    "start_time": "2023-04-20T16:11:54.910Z"
   },
   {
    "duration": 8,
    "start_time": "2023-04-20T16:12:09.284Z"
   },
   {
    "duration": 64,
    "start_time": "2023-04-20T16:12:28.494Z"
   },
   {
    "duration": 1328,
    "start_time": "2023-04-20T16:16:53.909Z"
   },
   {
    "duration": 1339,
    "start_time": "2023-04-20T16:16:57.433Z"
   },
   {
    "duration": 1601,
    "start_time": "2023-04-20T16:17:03.314Z"
   },
   {
    "duration": 1437,
    "start_time": "2023-04-20T16:26:44.485Z"
   },
   {
    "duration": 484,
    "start_time": "2023-04-20T16:26:45.924Z"
   },
   {
    "duration": 13,
    "start_time": "2023-04-20T16:26:46.410Z"
   },
   {
    "duration": 9,
    "start_time": "2023-04-20T16:26:46.425Z"
   },
   {
    "duration": 14,
    "start_time": "2023-04-20T16:26:46.436Z"
   },
   {
    "duration": 27,
    "start_time": "2023-04-20T16:26:46.452Z"
   },
   {
    "duration": 29,
    "start_time": "2023-04-20T16:26:46.480Z"
   },
   {
    "duration": 19,
    "start_time": "2023-04-20T16:26:46.511Z"
   },
   {
    "duration": 6,
    "start_time": "2023-04-20T16:26:46.532Z"
   },
   {
    "duration": 167,
    "start_time": "2023-04-20T16:26:46.539Z"
   },
   {
    "duration": 22,
    "start_time": "2023-04-20T16:26:46.708Z"
   },
   {
    "duration": 14,
    "start_time": "2023-04-20T16:26:46.732Z"
   },
   {
    "duration": 72,
    "start_time": "2023-04-20T16:26:46.748Z"
   },
   {
    "duration": 40,
    "start_time": "2023-04-20T16:26:46.823Z"
   },
   {
    "duration": 52,
    "start_time": "2023-04-20T16:26:46.865Z"
   },
   {
    "duration": 194,
    "start_time": "2023-04-20T16:26:46.919Z"
   },
   {
    "duration": 3,
    "start_time": "2023-04-20T16:26:47.115Z"
   },
   {
    "duration": 1060,
    "start_time": "2023-04-20T16:26:47.120Z"
   },
   {
    "duration": 154,
    "start_time": "2023-04-20T16:26:48.183Z"
   },
   {
    "duration": 5,
    "start_time": "2023-04-20T16:26:48.338Z"
   },
   {
    "duration": 30,
    "start_time": "2023-04-20T16:26:48.344Z"
   },
   {
    "duration": 2,
    "start_time": "2023-04-20T16:26:48.376Z"
   },
   {
    "duration": 22,
    "start_time": "2023-04-20T16:26:48.392Z"
   },
   {
    "duration": 79,
    "start_time": "2023-04-20T16:26:48.416Z"
   },
   {
    "duration": 96,
    "start_time": "2023-04-20T16:26:48.498Z"
   },
   {
    "duration": 6,
    "start_time": "2023-04-20T16:26:48.598Z"
   },
   {
    "duration": 302,
    "start_time": "2023-04-20T16:26:48.606Z"
   },
   {
    "duration": 5,
    "start_time": "2023-04-20T16:26:48.911Z"
   },
   {
    "duration": 77,
    "start_time": "2023-04-20T16:26:48.918Z"
   },
   {
    "duration": 11,
    "start_time": "2023-04-20T16:26:48.997Z"
   },
   {
    "duration": 82,
    "start_time": "2023-04-20T16:26:49.010Z"
   },
   {
    "duration": 153,
    "start_time": "2023-04-20T16:26:49.095Z"
   },
   {
    "duration": 0,
    "start_time": "2023-04-20T16:26:49.250Z"
   },
   {
    "duration": 0,
    "start_time": "2023-04-20T16:26:49.252Z"
   },
   {
    "duration": 0,
    "start_time": "2023-04-20T16:26:49.254Z"
   },
   {
    "duration": 0,
    "start_time": "2023-04-20T16:26:49.255Z"
   },
   {
    "duration": 21,
    "start_time": "2023-04-20T16:27:28.143Z"
   },
   {
    "duration": 11,
    "start_time": "2023-04-20T16:28:13.688Z"
   },
   {
    "duration": 6,
    "start_time": "2023-04-20T16:28:16.151Z"
   },
   {
    "duration": 1322,
    "start_time": "2023-04-20T16:28:17.096Z"
   },
   {
    "duration": 1316,
    "start_time": "2023-04-20T16:28:26.334Z"
   },
   {
    "duration": 1414,
    "start_time": "2023-04-20T16:28:31.211Z"
   },
   {
    "duration": 7,
    "start_time": "2023-04-20T16:31:35.340Z"
   },
   {
    "duration": 1585,
    "start_time": "2023-04-20T16:31:37.918Z"
   },
   {
    "duration": 6,
    "start_time": "2023-04-20T16:32:50.021Z"
   },
   {
    "duration": 1508,
    "start_time": "2023-04-20T16:32:52.346Z"
   },
   {
    "duration": 9,
    "start_time": "2023-04-20T16:33:00.115Z"
   },
   {
    "duration": 1446,
    "start_time": "2023-04-20T16:33:01.849Z"
   },
   {
    "duration": 7,
    "start_time": "2023-04-20T16:33:16.019Z"
   },
   {
    "duration": 1387,
    "start_time": "2023-04-20T16:33:18.209Z"
   },
   {
    "duration": 1443,
    "start_time": "2023-04-20T16:33:25.192Z"
   },
   {
    "duration": 1373,
    "start_time": "2023-04-20T16:33:29.320Z"
   },
   {
    "duration": 7,
    "start_time": "2023-04-20T16:34:04.388Z"
   },
   {
    "duration": 1512,
    "start_time": "2023-04-20T16:34:06.915Z"
   },
   {
    "duration": 117,
    "start_time": "2023-04-20T16:34:14.945Z"
   },
   {
    "duration": 1384,
    "start_time": "2023-04-20T16:34:16.945Z"
   },
   {
    "duration": 1288,
    "start_time": "2023-04-29T08:35:24.614Z"
   },
   {
    "duration": 808,
    "start_time": "2023-04-29T08:35:25.904Z"
   },
   {
    "duration": 59,
    "start_time": "2023-04-29T08:35:26.713Z"
   },
   {
    "duration": 76,
    "start_time": "2023-04-29T08:35:26.774Z"
   },
   {
    "duration": 56,
    "start_time": "2023-04-29T08:35:26.853Z"
   },
   {
    "duration": 248,
    "start_time": "2023-04-29T08:35:26.911Z"
   },
   {
    "duration": 39,
    "start_time": "2023-04-29T08:35:27.161Z"
   },
   {
    "duration": 8,
    "start_time": "2023-04-29T08:35:27.202Z"
   },
   {
    "duration": 4,
    "start_time": "2023-04-29T08:35:27.212Z"
   },
   {
    "duration": 16,
    "start_time": "2023-04-29T08:35:27.217Z"
   },
   {
    "duration": 19,
    "start_time": "2023-04-29T08:35:27.234Z"
   },
   {
    "duration": 228,
    "start_time": "2023-04-29T08:35:27.255Z"
   },
   {
    "duration": 5,
    "start_time": "2023-04-29T08:35:27.485Z"
   },
   {
    "duration": 59,
    "start_time": "2023-04-29T08:35:27.493Z"
   },
   {
    "duration": 1982,
    "start_time": "2023-04-29T08:35:27.554Z"
   },
   {
    "duration": 830,
    "start_time": "2023-04-29T08:35:29.538Z"
   },
   {
    "duration": 3,
    "start_time": "2023-04-29T08:35:30.369Z"
   },
   {
    "duration": 32,
    "start_time": "2023-04-29T08:35:30.373Z"
   },
   {
    "duration": 2071,
    "start_time": "2023-04-29T08:35:30.406Z"
   },
   {
    "duration": 657,
    "start_time": "2023-04-29T08:35:32.478Z"
   },
   {
    "duration": 4,
    "start_time": "2023-04-29T08:35:33.137Z"
   },
   {
    "duration": 11,
    "start_time": "2023-04-29T08:35:33.143Z"
   },
   {
    "duration": 4,
    "start_time": "2023-04-29T08:35:33.155Z"
   },
   {
    "duration": 7,
    "start_time": "2023-04-29T08:35:33.160Z"
   },
   {
    "duration": 3,
    "start_time": "2023-04-29T08:35:33.169Z"
   },
   {
    "duration": 21,
    "start_time": "2023-04-29T08:35:33.174Z"
   },
   {
    "duration": 3005,
    "start_time": "2023-04-29T08:35:33.196Z"
   },
   {
    "duration": 46365,
    "start_time": "2023-04-29T08:35:36.203Z"
   },
   {
    "duration": 9,
    "start_time": "2023-04-29T08:49:56.633Z"
   },
   {
    "duration": 211,
    "start_time": "2023-04-29T08:49:56.644Z"
   },
   {
    "duration": 0,
    "start_time": "2023-04-29T08:49:56.857Z"
   },
   {
    "duration": 0,
    "start_time": "2023-04-29T08:49:56.858Z"
   },
   {
    "duration": 0,
    "start_time": "2023-04-29T08:49:56.859Z"
   },
   {
    "duration": 3,
    "start_time": "2023-04-29T08:52:38.494Z"
   },
   {
    "duration": 4,
    "start_time": "2023-04-29T08:52:43.975Z"
   },
   {
    "duration": 1767,
    "start_time": "2023-04-29T08:53:59.800Z"
   },
   {
    "duration": 1788,
    "start_time": "2023-04-29T08:54:01.569Z"
   },
   {
    "duration": 7,
    "start_time": "2023-04-29T08:54:03.359Z"
   },
   {
    "duration": 9,
    "start_time": "2023-04-29T08:54:03.367Z"
   },
   {
    "duration": 1772,
    "start_time": "2023-05-01T13:47:56.597Z"
   },
   {
    "duration": 3399,
    "start_time": "2023-05-01T13:48:02.599Z"
   },
   {
    "duration": 71,
    "start_time": "2023-05-01T13:48:15.050Z"
   },
   {
    "duration": 65,
    "start_time": "2023-05-01T13:48:17.089Z"
   },
   {
    "duration": 43,
    "start_time": "2023-05-01T13:48:18.991Z"
   },
   {
    "duration": 293,
    "start_time": "2023-05-01T13:48:21.226Z"
   },
   {
    "duration": 1511,
    "start_time": "2023-05-01T13:48:27.857Z"
   },
   {
    "duration": 766,
    "start_time": "2023-05-01T13:48:29.370Z"
   },
   {
    "duration": 70,
    "start_time": "2023-05-01T13:48:30.138Z"
   },
   {
    "duration": 84,
    "start_time": "2023-05-01T13:48:30.210Z"
   },
   {
    "duration": 58,
    "start_time": "2023-05-01T13:48:30.296Z"
   },
   {
    "duration": 367,
    "start_time": "2023-05-01T13:48:30.356Z"
   },
   {
    "duration": 42,
    "start_time": "2023-05-01T13:48:30.725Z"
   },
   {
    "duration": 48,
    "start_time": "2023-05-01T13:48:30.769Z"
   },
   {
    "duration": 256,
    "start_time": "2023-05-01T13:48:30.820Z"
   },
   {
    "duration": 48,
    "start_time": "2023-05-01T13:48:31.080Z"
   },
   {
    "duration": 59,
    "start_time": "2023-05-01T13:48:31.130Z"
   },
   {
    "duration": 263,
    "start_time": "2023-05-01T13:48:31.191Z"
   },
   {
    "duration": 6,
    "start_time": "2023-05-01T13:48:31.456Z"
   },
   {
    "duration": 84,
    "start_time": "2023-05-01T13:48:31.464Z"
   },
   {
    "duration": 1569,
    "start_time": "2023-05-01T13:48:31.551Z"
   },
   {
    "duration": 669,
    "start_time": "2023-05-01T13:48:33.122Z"
   },
   {
    "duration": 4,
    "start_time": "2023-05-01T13:48:33.792Z"
   },
   {
    "duration": 32,
    "start_time": "2023-05-01T13:48:33.798Z"
   },
   {
    "duration": 1819,
    "start_time": "2023-05-01T13:48:33.832Z"
   },
   {
    "duration": 614,
    "start_time": "2023-05-01T13:48:35.653Z"
   },
   {
    "duration": 6,
    "start_time": "2023-05-01T13:48:36.269Z"
   },
   {
    "duration": 25,
    "start_time": "2023-05-01T13:48:36.277Z"
   },
   {
    "duration": 16,
    "start_time": "2023-05-01T13:48:36.305Z"
   },
   {
    "duration": 29,
    "start_time": "2023-05-01T13:48:36.323Z"
   },
   {
    "duration": 36,
    "start_time": "2023-05-01T13:48:36.354Z"
   },
   {
    "duration": 37,
    "start_time": "2023-05-01T13:48:36.392Z"
   },
   {
    "duration": 3023,
    "start_time": "2023-05-01T13:48:36.431Z"
   },
   {
    "duration": 55630,
    "start_time": "2023-05-01T13:48:39.543Z"
   },
   {
    "duration": 680806,
    "start_time": "2023-05-01T13:49:35.175Z"
   },
   {
    "duration": 8,
    "start_time": "2023-05-01T14:00:55.983Z"
   },
   {
    "duration": 1889,
    "start_time": "2023-05-01T14:00:55.993Z"
   },
   {
    "duration": 1835,
    "start_time": "2023-05-01T14:00:57.885Z"
   },
   {
    "duration": 25,
    "start_time": "2023-05-01T14:00:59.723Z"
   },
   {
    "duration": 14,
    "start_time": "2023-05-01T14:00:59.750Z"
   },
   {
    "duration": 10,
    "start_time": "2023-05-01T14:01:00.892Z"
   },
   {
    "duration": 1828,
    "start_time": "2023-05-01T14:01:02.102Z"
   },
   {
    "duration": 1912,
    "start_time": "2023-05-01T14:01:04.230Z"
   },
   {
    "duration": 12,
    "start_time": "2023-05-01T14:01:06.145Z"
   },
   {
    "duration": 12,
    "start_time": "2023-05-01T14:01:10.221Z"
   },
   {
    "duration": 5,
    "start_time": "2023-05-01T14:27:00.805Z"
   },
   {
    "duration": 900,
    "start_time": "2023-05-01T14:27:03.300Z"
   },
   {
    "duration": 75,
    "start_time": "2023-05-01T14:27:13.128Z"
   },
   {
    "duration": 75,
    "start_time": "2023-05-01T14:27:15.621Z"
   },
   {
    "duration": 70,
    "start_time": "2023-05-01T14:27:16.950Z"
   },
   {
    "duration": 307,
    "start_time": "2023-05-01T14:27:18.644Z"
   },
   {
    "duration": 1638,
    "start_time": "2023-05-01T14:27:37.420Z"
   },
   {
    "duration": 862,
    "start_time": "2023-05-01T14:27:40.685Z"
   },
   {
    "duration": 72,
    "start_time": "2023-05-01T14:27:45.548Z"
   },
   {
    "duration": 67,
    "start_time": "2023-05-01T14:27:47.876Z"
   },
   {
    "duration": 50,
    "start_time": "2023-05-01T14:27:50.309Z"
   },
   {
    "duration": 345,
    "start_time": "2023-05-01T14:27:52.740Z"
   },
   {
    "duration": 818,
    "start_time": "2023-05-01T14:28:57.899Z"
   },
   {
    "duration": 73,
    "start_time": "2023-05-01T14:29:02.243Z"
   },
   {
    "duration": 75,
    "start_time": "2023-05-01T14:29:04.176Z"
   },
   {
    "duration": 60,
    "start_time": "2023-05-01T14:29:06.067Z"
   },
   {
    "duration": 306,
    "start_time": "2023-05-01T14:29:07.580Z"
   },
   {
    "duration": 25,
    "start_time": "2023-05-01T14:44:41.668Z"
   },
   {
    "duration": 12,
    "start_time": "2023-05-01T14:44:46.059Z"
   },
   {
    "duration": 199,
    "start_time": "2023-05-01T14:59:01.959Z"
   },
   {
    "duration": 1711,
    "start_time": "2023-05-01T14:59:18.830Z"
   },
   {
    "duration": 794,
    "start_time": "2023-05-01T14:59:20.544Z"
   },
   {
    "duration": 82,
    "start_time": "2023-05-01T14:59:21.340Z"
   },
   {
    "duration": 79,
    "start_time": "2023-05-01T14:59:21.425Z"
   },
   {
    "duration": 67,
    "start_time": "2023-05-01T14:59:21.505Z"
   },
   {
    "duration": 309,
    "start_time": "2023-05-01T14:59:21.574Z"
   },
   {
    "duration": 23,
    "start_time": "2023-05-01T14:59:21.885Z"
   },
   {
    "duration": 8,
    "start_time": "2023-05-01T14:59:21.911Z"
   },
   {
    "duration": 5,
    "start_time": "2023-05-01T14:59:21.941Z"
   },
   {
    "duration": 14,
    "start_time": "2023-05-01T14:59:21.949Z"
   },
   {
    "duration": 45,
    "start_time": "2023-05-01T14:59:21.965Z"
   },
   {
    "duration": 252,
    "start_time": "2023-05-01T14:59:22.012Z"
   },
   {
    "duration": 8,
    "start_time": "2023-05-01T14:59:22.266Z"
   },
   {
    "duration": 84,
    "start_time": "2023-05-01T14:59:22.277Z"
   },
   {
    "duration": 1610,
    "start_time": "2023-05-01T14:59:22.363Z"
   },
   {
    "duration": 691,
    "start_time": "2023-05-01T14:59:23.975Z"
   },
   {
    "duration": 3,
    "start_time": "2023-05-01T14:59:24.669Z"
   },
   {
    "duration": 19,
    "start_time": "2023-05-01T14:59:24.674Z"
   },
   {
    "duration": 1953,
    "start_time": "2023-05-01T14:59:24.695Z"
   },
   {
    "duration": 561,
    "start_time": "2023-05-01T14:59:26.650Z"
   },
   {
    "duration": 10,
    "start_time": "2023-05-01T14:59:27.213Z"
   },
   {
    "duration": 28,
    "start_time": "2023-05-01T14:59:27.226Z"
   },
   {
    "duration": 15,
    "start_time": "2023-05-01T14:59:27.256Z"
   },
   {
    "duration": 19,
    "start_time": "2023-05-01T14:59:27.272Z"
   },
   {
    "duration": 18,
    "start_time": "2023-05-01T14:59:27.293Z"
   },
   {
    "duration": 19,
    "start_time": "2023-05-01T14:59:27.313Z"
   },
   {
    "duration": 4014,
    "start_time": "2023-05-01T14:59:27.334Z"
   },
   {
    "duration": 29336,
    "start_time": "2023-05-01T14:59:31.352Z"
   },
   {
    "duration": 143729,
    "start_time": "2023-05-01T15:00:00.690Z"
   },
   {
    "duration": 8,
    "start_time": "2023-05-01T15:02:24.421Z"
   },
   {
    "duration": 1917,
    "start_time": "2023-05-01T15:02:24.430Z"
   },
   {
    "duration": 2207,
    "start_time": "2023-05-01T15:02:26.351Z"
   },
   {
    "duration": 9,
    "start_time": "2023-05-01T15:02:28.561Z"
   },
   {
    "duration": 20,
    "start_time": "2023-05-01T15:02:28.571Z"
   },
   {
    "duration": 2010,
    "start_time": "2023-05-01T15:02:50.340Z"
   },
   {
    "duration": 1917,
    "start_time": "2023-05-01T15:02:59.703Z"
   },
   {
    "duration": 843,
    "start_time": "2023-05-01T15:03:01.623Z"
   },
   {
    "duration": 78,
    "start_time": "2023-05-01T15:03:02.468Z"
   },
   {
    "duration": 68,
    "start_time": "2023-05-01T15:03:02.550Z"
   },
   {
    "duration": 78,
    "start_time": "2023-05-01T15:03:02.621Z"
   },
   {
    "duration": 330,
    "start_time": "2023-05-01T15:03:02.702Z"
   },
   {
    "duration": 29,
    "start_time": "2023-05-01T15:03:03.034Z"
   },
   {
    "duration": 11,
    "start_time": "2023-05-01T15:03:03.065Z"
   },
   {
    "duration": 14,
    "start_time": "2023-05-01T15:03:03.079Z"
   },
   {
    "duration": 17,
    "start_time": "2023-05-01T15:03:03.096Z"
   },
   {
    "duration": 38,
    "start_time": "2023-05-01T15:03:03.115Z"
   },
   {
    "duration": 309,
    "start_time": "2023-05-01T15:03:03.154Z"
   },
   {
    "duration": 7,
    "start_time": "2023-05-01T15:03:03.466Z"
   },
   {
    "duration": 120,
    "start_time": "2023-05-01T15:03:03.478Z"
   },
   {
    "duration": 1581,
    "start_time": "2023-05-01T15:03:03.600Z"
   },
   {
    "duration": 694,
    "start_time": "2023-05-01T15:03:05.183Z"
   },
   {
    "duration": 3,
    "start_time": "2023-05-01T15:03:05.879Z"
   },
   {
    "duration": 34,
    "start_time": "2023-05-01T15:03:05.884Z"
   },
   {
    "duration": 1977,
    "start_time": "2023-05-01T15:03:05.920Z"
   },
   {
    "duration": 539,
    "start_time": "2023-05-01T15:03:07.899Z"
   },
   {
    "duration": 5,
    "start_time": "2023-05-01T15:03:08.441Z"
   },
   {
    "duration": 30,
    "start_time": "2023-05-01T15:03:08.448Z"
   },
   {
    "duration": 15,
    "start_time": "2023-05-01T15:03:08.480Z"
   },
   {
    "duration": 15,
    "start_time": "2023-05-01T15:03:08.498Z"
   },
   {
    "duration": 66,
    "start_time": "2023-05-01T15:03:08.516Z"
   },
   {
    "duration": 59,
    "start_time": "2023-05-01T15:03:08.584Z"
   },
   {
    "duration": 2296,
    "start_time": "2023-05-01T15:03:08.646Z"
   },
   {
    "duration": 29712,
    "start_time": "2023-05-01T15:03:10.946Z"
   },
   {
    "duration": 13397,
    "start_time": "2023-05-01T15:03:40.660Z"
   },
   {
    "duration": 7,
    "start_time": "2023-05-01T15:03:54.059Z"
   },
   {
    "duration": 1862,
    "start_time": "2023-05-01T15:03:54.068Z"
   },
   {
    "duration": 1884,
    "start_time": "2023-05-01T15:03:55.933Z"
   },
   {
    "duration": 9,
    "start_time": "2023-05-01T15:03:57.819Z"
   },
   {
    "duration": 12,
    "start_time": "2023-05-01T15:03:57.841Z"
   },
   {
    "duration": 56003,
    "start_time": "2023-05-01T15:04:02.236Z"
   },
   {
    "duration": 3130,
    "start_time": "2023-05-01T15:05:15.816Z"
   },
   {
    "duration": 1734,
    "start_time": "2023-05-02T07:07:27.651Z"
   },
   {
    "duration": 1422,
    "start_time": "2023-05-02T07:08:42.216Z"
   },
   {
    "duration": 1825,
    "start_time": "2023-05-02T07:08:43.640Z"
   },
   {
    "duration": 63,
    "start_time": "2023-05-02T07:08:45.467Z"
   },
   {
    "duration": 85,
    "start_time": "2023-05-02T07:08:45.532Z"
   },
   {
    "duration": 51,
    "start_time": "2023-05-02T07:08:45.620Z"
   },
   {
    "duration": 308,
    "start_time": "2023-05-02T07:08:45.673Z"
   },
   {
    "duration": 38,
    "start_time": "2023-05-02T07:08:45.982Z"
   },
   {
    "duration": 8,
    "start_time": "2023-05-02T07:08:46.022Z"
   },
   {
    "duration": 13,
    "start_time": "2023-05-02T07:08:46.032Z"
   },
   {
    "duration": 13,
    "start_time": "2023-05-02T07:08:46.047Z"
   },
   {
    "duration": 13,
    "start_time": "2023-05-02T07:08:46.061Z"
   },
   {
    "duration": 235,
    "start_time": "2023-05-02T07:08:46.091Z"
   },
   {
    "duration": 5,
    "start_time": "2023-05-02T07:08:46.328Z"
   },
   {
    "duration": 80,
    "start_time": "2023-05-02T07:08:46.336Z"
   },
   {
    "duration": 1584,
    "start_time": "2023-05-02T07:08:46.418Z"
   },
   {
    "duration": 622,
    "start_time": "2023-05-02T07:08:48.004Z"
   },
   {
    "duration": 3,
    "start_time": "2023-05-02T07:08:48.628Z"
   },
   {
    "duration": 10,
    "start_time": "2023-05-02T07:08:48.633Z"
   },
   {
    "duration": 1626,
    "start_time": "2023-05-02T07:08:48.644Z"
   },
   {
    "duration": 514,
    "start_time": "2023-05-02T07:08:50.272Z"
   },
   {
    "duration": 5,
    "start_time": "2023-05-02T07:08:50.788Z"
   },
   {
    "duration": 10,
    "start_time": "2023-05-02T07:08:50.795Z"
   },
   {
    "duration": 10,
    "start_time": "2023-05-02T07:08:50.807Z"
   },
   {
    "duration": 5,
    "start_time": "2023-05-02T07:08:50.819Z"
   },
   {
    "duration": 4,
    "start_time": "2023-05-02T07:08:50.826Z"
   },
   {
    "duration": 12,
    "start_time": "2023-05-02T07:08:50.832Z"
   },
   {
    "duration": 135,
    "start_time": "2023-05-02T07:08:50.846Z"
   },
   {
    "duration": 0,
    "start_time": "2023-05-02T07:08:50.982Z"
   },
   {
    "duration": 0,
    "start_time": "2023-05-02T07:08:50.984Z"
   },
   {
    "duration": 0,
    "start_time": "2023-05-02T07:08:50.985Z"
   },
   {
    "duration": 0,
    "start_time": "2023-05-02T07:08:50.986Z"
   },
   {
    "duration": 0,
    "start_time": "2023-05-02T07:08:50.992Z"
   },
   {
    "duration": 0,
    "start_time": "2023-05-02T07:08:50.993Z"
   },
   {
    "duration": 0,
    "start_time": "2023-05-02T07:08:50.994Z"
   },
   {
    "duration": 0,
    "start_time": "2023-05-02T07:08:50.995Z"
   },
   {
    "duration": 1376,
    "start_time": "2023-05-02T07:10:10.489Z"
   },
   {
    "duration": 664,
    "start_time": "2023-05-02T07:10:11.866Z"
   },
   {
    "duration": 62,
    "start_time": "2023-05-02T07:10:12.532Z"
   },
   {
    "duration": 60,
    "start_time": "2023-05-02T07:10:12.596Z"
   },
   {
    "duration": 58,
    "start_time": "2023-05-02T07:10:12.658Z"
   },
   {
    "duration": 293,
    "start_time": "2023-05-02T07:10:12.717Z"
   },
   {
    "duration": 23,
    "start_time": "2023-05-02T07:10:13.012Z"
   },
   {
    "duration": 9,
    "start_time": "2023-05-02T07:10:13.036Z"
   },
   {
    "duration": 5,
    "start_time": "2023-05-02T07:10:13.046Z"
   },
   {
    "duration": 39,
    "start_time": "2023-05-02T07:10:13.054Z"
   },
   {
    "duration": 16,
    "start_time": "2023-05-02T07:10:13.095Z"
   },
   {
    "duration": 233,
    "start_time": "2023-05-02T07:10:13.113Z"
   },
   {
    "duration": 6,
    "start_time": "2023-05-02T07:10:13.348Z"
   },
   {
    "duration": 73,
    "start_time": "2023-05-02T07:10:13.355Z"
   },
   {
    "duration": 1392,
    "start_time": "2023-05-02T07:10:13.430Z"
   },
   {
    "duration": 1097,
    "start_time": "2023-05-02T07:10:14.824Z"
   },
   {
    "duration": 3,
    "start_time": "2023-05-02T07:10:15.922Z"
   },
   {
    "duration": 69,
    "start_time": "2023-05-02T07:10:15.927Z"
   },
   {
    "duration": 2141,
    "start_time": "2023-05-02T07:10:15.998Z"
   },
   {
    "duration": 619,
    "start_time": "2023-05-02T07:10:18.140Z"
   },
   {
    "duration": 6,
    "start_time": "2023-05-02T07:10:18.761Z"
   },
   {
    "duration": 43,
    "start_time": "2023-05-02T07:10:18.769Z"
   },
   {
    "duration": 20,
    "start_time": "2023-05-02T07:10:18.814Z"
   },
   {
    "duration": 25,
    "start_time": "2023-05-02T07:10:18.836Z"
   },
   {
    "duration": 47,
    "start_time": "2023-05-02T07:10:18.863Z"
   },
   {
    "duration": 45,
    "start_time": "2023-05-02T07:10:18.912Z"
   },
   {
    "duration": 45,
    "start_time": "2023-05-02T07:10:18.958Z"
   },
   {
    "duration": 2389,
    "start_time": "2023-05-02T07:10:19.007Z"
   },
   {
    "duration": 50628,
    "start_time": "2023-05-02T07:10:21.398Z"
   },
   {
    "duration": 19556,
    "start_time": "2023-05-02T07:11:12.028Z"
   },
   {
    "duration": 7,
    "start_time": "2023-05-02T07:11:31.586Z"
   },
   {
    "duration": 1724,
    "start_time": "2023-05-02T07:11:31.595Z"
   },
   {
    "duration": 1744,
    "start_time": "2023-05-02T07:11:33.320Z"
   },
   {
    "duration": 8,
    "start_time": "2023-05-02T07:11:35.065Z"
   },
   {
    "duration": 23,
    "start_time": "2023-05-02T07:11:35.075Z"
   },
   {
    "duration": 1470,
    "start_time": "2023-05-02T07:15:37.356Z"
   },
   {
    "duration": 677,
    "start_time": "2023-05-02T07:15:38.828Z"
   },
   {
    "duration": 66,
    "start_time": "2023-05-02T07:15:39.507Z"
   },
   {
    "duration": 65,
    "start_time": "2023-05-02T07:15:39.575Z"
   },
   {
    "duration": 51,
    "start_time": "2023-05-02T07:15:39.642Z"
   },
   {
    "duration": 253,
    "start_time": "2023-05-02T07:15:39.695Z"
   },
   {
    "duration": 21,
    "start_time": "2023-05-02T07:15:39.950Z"
   },
   {
    "duration": 25,
    "start_time": "2023-05-02T07:15:39.973Z"
   },
   {
    "duration": 17,
    "start_time": "2023-05-02T07:15:40.000Z"
   },
   {
    "duration": 29,
    "start_time": "2023-05-02T07:15:40.019Z"
   },
   {
    "duration": 30,
    "start_time": "2023-05-02T07:15:40.050Z"
   },
   {
    "duration": 225,
    "start_time": "2023-05-02T07:15:40.081Z"
   },
   {
    "duration": 5,
    "start_time": "2023-05-02T07:15:40.307Z"
   },
   {
    "duration": 69,
    "start_time": "2023-05-02T07:15:40.313Z"
   },
   {
    "duration": 1447,
    "start_time": "2023-05-02T07:15:40.384Z"
   },
   {
    "duration": 623,
    "start_time": "2023-05-02T07:15:41.832Z"
   },
   {
    "duration": 3,
    "start_time": "2023-05-02T07:15:42.458Z"
   },
   {
    "duration": 10,
    "start_time": "2023-05-02T07:15:42.463Z"
   },
   {
    "duration": 1658,
    "start_time": "2023-05-02T07:15:42.491Z"
   },
   {
    "duration": 634,
    "start_time": "2023-05-02T07:15:44.150Z"
   },
   {
    "duration": 4,
    "start_time": "2023-05-02T07:15:44.791Z"
   },
   {
    "duration": 15,
    "start_time": "2023-05-02T07:15:44.797Z"
   },
   {
    "duration": 25,
    "start_time": "2023-05-02T07:15:44.814Z"
   },
   {
    "duration": 20,
    "start_time": "2023-05-02T07:15:44.841Z"
   },
   {
    "duration": 27,
    "start_time": "2023-05-02T07:15:44.863Z"
   },
   {
    "duration": 20,
    "start_time": "2023-05-02T07:15:44.891Z"
   },
   {
    "duration": 58,
    "start_time": "2023-05-02T07:15:44.913Z"
   },
   {
    "duration": 24,
    "start_time": "2023-05-02T07:15:44.974Z"
   },
   {
    "duration": 109,
    "start_time": "2023-05-02T07:15:45.000Z"
   },
   {
    "duration": 0,
    "start_time": "2023-05-02T07:15:45.110Z"
   },
   {
    "duration": 0,
    "start_time": "2023-05-02T07:15:45.111Z"
   },
   {
    "duration": 0,
    "start_time": "2023-05-02T07:15:45.112Z"
   },
   {
    "duration": 0,
    "start_time": "2023-05-02T07:15:45.113Z"
   },
   {
    "duration": 0,
    "start_time": "2023-05-02T07:15:45.114Z"
   },
   {
    "duration": 0,
    "start_time": "2023-05-02T07:15:45.115Z"
   },
   {
    "duration": 0,
    "start_time": "2023-05-02T07:15:45.117Z"
   },
   {
    "duration": 0,
    "start_time": "2023-05-02T07:15:45.117Z"
   },
   {
    "duration": 5,
    "start_time": "2023-05-02T07:16:38.318Z"
   },
   {
    "duration": 2882,
    "start_time": "2023-05-02T07:23:33.516Z"
   },
   {
    "duration": 6633,
    "start_time": "2023-05-13T05:40:00.493Z"
   },
   {
    "duration": 174,
    "start_time": "2023-05-13T05:40:07.128Z"
   },
   {
    "duration": 49,
    "start_time": "2023-05-13T05:40:07.304Z"
   },
   {
    "duration": 203,
    "start_time": "2023-05-13T05:40:07.355Z"
   },
   {
    "duration": 107,
    "start_time": "2023-05-13T05:40:07.559Z"
   },
   {
    "duration": 163,
    "start_time": "2023-05-13T05:40:07.668Z"
   },
   {
    "duration": 891,
    "start_time": "2023-05-13T05:40:07.843Z"
   },
   {
    "duration": 14,
    "start_time": "2023-05-13T05:40:08.743Z"
   },
   {
    "duration": 157,
    "start_time": "2023-05-13T05:40:08.768Z"
   },
   {
    "duration": 179,
    "start_time": "2023-05-13T05:40:08.928Z"
   },
   {
    "duration": 125,
    "start_time": "2023-05-13T05:40:09.109Z"
   },
   {
    "duration": 246,
    "start_time": "2023-05-13T05:40:09.236Z"
   },
   {
    "duration": 139,
    "start_time": "2023-05-13T05:40:09.484Z"
   },
   {
    "duration": 178,
    "start_time": "2023-05-13T05:40:09.625Z"
   },
   {
    "duration": 160,
    "start_time": "2023-05-13T05:40:09.805Z"
   },
   {
    "duration": 183,
    "start_time": "2023-05-13T05:40:09.968Z"
   },
   {
    "duration": 160,
    "start_time": "2023-05-13T05:40:10.156Z"
   },
   {
    "duration": 278,
    "start_time": "2023-05-13T05:40:10.328Z"
   },
   {
    "duration": 227,
    "start_time": "2023-05-13T05:40:10.607Z"
   },
   {
    "duration": 158,
    "start_time": "2023-05-13T05:40:10.856Z"
   },
   {
    "duration": 124,
    "start_time": "2023-05-13T05:40:11.026Z"
   },
   {
    "duration": 123,
    "start_time": "2023-05-13T05:40:11.159Z"
   },
   {
    "duration": 1979,
    "start_time": "2023-05-15T06:10:37.156Z"
   },
   {
    "duration": 128,
    "start_time": "2023-05-15T06:10:39.140Z"
   },
   {
    "duration": 14,
    "start_time": "2023-05-15T06:10:39.270Z"
   },
   {
    "duration": 43,
    "start_time": "2023-05-15T06:10:39.286Z"
   },
   {
    "duration": 9,
    "start_time": "2023-05-15T06:10:39.332Z"
   },
   {
    "duration": 43,
    "start_time": "2023-05-15T06:10:39.343Z"
   },
   {
    "duration": 491,
    "start_time": "2023-05-15T06:10:39.388Z"
   },
   {
    "duration": 5,
    "start_time": "2023-05-15T06:10:39.880Z"
   },
   {
    "duration": 12,
    "start_time": "2023-05-15T06:10:39.887Z"
   },
   {
    "duration": 19,
    "start_time": "2023-05-15T06:10:39.901Z"
   },
   {
    "duration": 6,
    "start_time": "2023-05-15T06:10:39.922Z"
   },
   {
    "duration": 30,
    "start_time": "2023-05-15T06:10:39.930Z"
   },
   {
    "duration": 101,
    "start_time": "2023-05-15T06:10:39.978Z"
   },
   {
    "duration": 14,
    "start_time": "2023-05-15T06:10:40.083Z"
   },
   {
    "duration": 79,
    "start_time": "2023-05-15T06:10:40.099Z"
   },
   {
    "duration": 99,
    "start_time": "2023-05-15T06:10:40.181Z"
   },
   {
    "duration": 37,
    "start_time": "2023-05-15T06:10:40.282Z"
   },
   {
    "duration": 70,
    "start_time": "2023-05-15T06:10:40.321Z"
   },
   {
    "duration": 96,
    "start_time": "2023-05-15T06:10:40.485Z"
   },
   {
    "duration": 94,
    "start_time": "2023-05-15T06:10:40.586Z"
   },
   {
    "duration": 26,
    "start_time": "2023-05-15T06:10:40.682Z"
   },
   {
    "duration": 23,
    "start_time": "2023-05-15T06:10:40.709Z"
   },
   {
    "duration": 116,
    "start_time": "2023-05-15T06:19:20.847Z"
   },
   {
    "duration": 17,
    "start_time": "2023-05-15T06:25:45.626Z"
   },
   {
    "duration": 16,
    "start_time": "2023-05-15T06:27:36.273Z"
   },
   {
    "duration": 6,
    "start_time": "2023-05-15T06:31:20.556Z"
   },
   {
    "duration": 8,
    "start_time": "2023-05-15T06:32:51.067Z"
   },
   {
    "duration": 15,
    "start_time": "2023-05-15T06:33:27.161Z"
   },
   {
    "duration": 7,
    "start_time": "2023-05-15T06:34:00.156Z"
   },
   {
    "duration": 8,
    "start_time": "2023-05-15T06:34:12.654Z"
   },
   {
    "duration": 14,
    "start_time": "2023-05-15T06:34:25.689Z"
   },
   {
    "duration": 14,
    "start_time": "2023-05-15T06:35:04.241Z"
   },
   {
    "duration": 1644,
    "start_time": "2023-05-15T06:35:53.610Z"
   },
   {
    "duration": 48,
    "start_time": "2023-05-15T06:35:55.256Z"
   },
   {
    "duration": 17,
    "start_time": "2023-05-15T06:35:55.306Z"
   },
   {
    "duration": 36,
    "start_time": "2023-05-15T06:35:55.326Z"
   },
   {
    "duration": 15,
    "start_time": "2023-05-15T06:35:55.363Z"
   },
   {
    "duration": 5,
    "start_time": "2023-05-15T06:35:55.380Z"
   },
   {
    "duration": 474,
    "start_time": "2023-05-15T06:35:55.387Z"
   },
   {
    "duration": 10,
    "start_time": "2023-05-15T06:35:55.868Z"
   },
   {
    "duration": 8,
    "start_time": "2023-05-15T06:35:55.880Z"
   },
   {
    "duration": 5,
    "start_time": "2023-05-15T06:35:55.892Z"
   },
   {
    "duration": 7,
    "start_time": "2023-05-15T06:35:55.899Z"
   },
   {
    "duration": 70,
    "start_time": "2023-05-15T06:35:55.908Z"
   },
   {
    "duration": 235,
    "start_time": "2023-05-15T06:35:55.982Z"
   },
   {
    "duration": 0,
    "start_time": "2023-05-15T06:35:56.219Z"
   },
   {
    "duration": 0,
    "start_time": "2023-05-15T06:35:56.221Z"
   },
   {
    "duration": 0,
    "start_time": "2023-05-15T06:35:56.222Z"
   },
   {
    "duration": 0,
    "start_time": "2023-05-15T06:35:56.223Z"
   },
   {
    "duration": 0,
    "start_time": "2023-05-15T06:35:56.225Z"
   },
   {
    "duration": 0,
    "start_time": "2023-05-15T06:35:56.226Z"
   },
   {
    "duration": 0,
    "start_time": "2023-05-15T06:35:56.228Z"
   },
   {
    "duration": 0,
    "start_time": "2023-05-15T06:35:56.229Z"
   },
   {
    "duration": 0,
    "start_time": "2023-05-15T06:35:56.230Z"
   },
   {
    "duration": 0,
    "start_time": "2023-05-15T06:35:56.232Z"
   },
   {
    "duration": 0,
    "start_time": "2023-05-15T06:35:56.233Z"
   },
   {
    "duration": 0,
    "start_time": "2023-05-15T06:35:56.235Z"
   },
   {
    "duration": 0,
    "start_time": "2023-05-15T06:35:56.236Z"
   },
   {
    "duration": 0,
    "start_time": "2023-05-15T06:35:56.238Z"
   },
   {
    "duration": 12,
    "start_time": "2023-05-15T06:37:37.160Z"
   },
   {
    "duration": 7,
    "start_time": "2023-05-15T06:37:38.614Z"
   },
   {
    "duration": 9,
    "start_time": "2023-05-15T06:37:42.815Z"
   },
   {
    "duration": 21,
    "start_time": "2023-05-15T06:37:45.207Z"
   },
   {
    "duration": 8,
    "start_time": "2023-05-15T06:37:56.775Z"
   },
   {
    "duration": 11,
    "start_time": "2023-05-15T06:37:58.256Z"
   },
   {
    "duration": 8,
    "start_time": "2023-05-15T06:37:59.078Z"
   },
   {
    "duration": 38,
    "start_time": "2023-05-15T06:38:00.657Z"
   },
   {
    "duration": 5,
    "start_time": "2023-05-15T06:38:57.796Z"
   },
   {
    "duration": 9,
    "start_time": "2023-05-15T06:39:13.940Z"
   },
   {
    "duration": 7,
    "start_time": "2023-05-15T06:39:17.694Z"
   },
   {
    "duration": 8,
    "start_time": "2023-05-15T06:39:18.797Z"
   },
   {
    "duration": 16,
    "start_time": "2023-05-15T06:39:20.549Z"
   },
   {
    "duration": 1520,
    "start_time": "2023-05-15T06:40:14.590Z"
   },
   {
    "duration": 75,
    "start_time": "2023-05-15T06:40:16.112Z"
   },
   {
    "duration": 20,
    "start_time": "2023-05-15T06:40:16.190Z"
   },
   {
    "duration": 38,
    "start_time": "2023-05-15T06:40:16.214Z"
   },
   {
    "duration": 34,
    "start_time": "2023-05-15T06:40:16.255Z"
   },
   {
    "duration": 7,
    "start_time": "2023-05-15T06:40:16.291Z"
   },
   {
    "duration": 545,
    "start_time": "2023-05-15T06:40:16.301Z"
   },
   {
    "duration": 5,
    "start_time": "2023-05-15T06:40:16.848Z"
   },
   {
    "duration": 7,
    "start_time": "2023-05-15T06:40:16.856Z"
   },
   {
    "duration": 7,
    "start_time": "2023-05-15T06:40:16.881Z"
   },
   {
    "duration": 11,
    "start_time": "2023-05-15T06:40:16.890Z"
   },
   {
    "duration": 17,
    "start_time": "2023-05-15T06:40:16.903Z"
   },
   {
    "duration": 55,
    "start_time": "2023-05-15T06:40:16.923Z"
   },
   {
    "duration": 6,
    "start_time": "2023-05-15T06:40:16.980Z"
   },
   {
    "duration": 5,
    "start_time": "2023-05-15T06:40:16.988Z"
   },
   {
    "duration": 85,
    "start_time": "2023-05-15T06:40:16.996Z"
   },
   {
    "duration": 7,
    "start_time": "2023-05-15T06:40:17.083Z"
   },
   {
    "duration": 91,
    "start_time": "2023-05-15T06:40:17.092Z"
   },
   {
    "duration": 2,
    "start_time": "2023-05-15T06:40:17.185Z"
   },
   {
    "duration": 4,
    "start_time": "2023-05-15T06:40:17.189Z"
   },
   {
    "duration": 84,
    "start_time": "2023-05-15T06:40:17.197Z"
   },
   {
    "duration": 4,
    "start_time": "2023-05-15T06:40:17.284Z"
   },
   {
    "duration": 4,
    "start_time": "2023-05-15T06:40:17.290Z"
   },
   {
    "duration": 90,
    "start_time": "2023-05-15T06:40:17.296Z"
   },
   {
    "duration": 6,
    "start_time": "2023-05-15T06:40:17.388Z"
   },
   {
    "duration": 4,
    "start_time": "2023-05-15T06:40:17.396Z"
   },
   {
    "duration": 79,
    "start_time": "2023-05-15T06:40:17.402Z"
   },
   {
    "duration": 19,
    "start_time": "2023-05-15T06:40:17.485Z"
   },
   {
    "duration": 3,
    "start_time": "2023-05-15T06:43:56.233Z"
   },
   {
    "duration": 5,
    "start_time": "2023-05-15T06:43:57.233Z"
   },
   {
    "duration": 9,
    "start_time": "2023-05-15T06:43:58.031Z"
   },
   {
    "duration": 12,
    "start_time": "2023-05-15T06:44:33.855Z"
   },
   {
    "duration": 7,
    "start_time": "2023-05-15T06:44:55.035Z"
   },
   {
    "duration": 4,
    "start_time": "2023-05-15T06:46:07.304Z"
   },
   {
    "duration": 213,
    "start_time": "2023-05-15T06:46:08.643Z"
   },
   {
    "duration": 18,
    "start_time": "2023-05-15T06:46:26.855Z"
   },
   {
    "duration": 15,
    "start_time": "2023-05-15T06:47:21.536Z"
   },
   {
    "duration": 5,
    "start_time": "2023-05-15T06:47:41.916Z"
   },
   {
    "duration": 4,
    "start_time": "2023-05-15T06:47:43.044Z"
   },
   {
    "duration": 9,
    "start_time": "2023-05-15T06:47:43.845Z"
   },
   {
    "duration": 19,
    "start_time": "2023-05-15T06:48:23.349Z"
   },
   {
    "duration": 20,
    "start_time": "2023-05-15T06:49:44.996Z"
   },
   {
    "duration": 4,
    "start_time": "2023-05-15T06:49:48.123Z"
   },
   {
    "duration": 8,
    "start_time": "2023-05-15T06:49:48.787Z"
   },
   {
    "duration": 4,
    "start_time": "2023-05-15T06:50:10.234Z"
   },
   {
    "duration": 14,
    "start_time": "2023-05-15T06:50:11.930Z"
   },
   {
    "duration": 9,
    "start_time": "2023-05-15T06:50:15.601Z"
   },
   {
    "duration": 8,
    "start_time": "2023-05-15T06:50:17.090Z"
   },
   {
    "duration": 8,
    "start_time": "2023-05-15T06:50:17.826Z"
   },
   {
    "duration": 17,
    "start_time": "2023-05-15T06:50:19.339Z"
   },
   {
    "duration": 3,
    "start_time": "2023-05-15T06:51:21.217Z"
   },
   {
    "duration": 4,
    "start_time": "2023-05-15T06:51:22.301Z"
   },
   {
    "duration": 4,
    "start_time": "2023-05-15T06:51:23.353Z"
   },
   {
    "duration": 18,
    "start_time": "2023-05-15T06:51:24.057Z"
   },
   {
    "duration": 7,
    "start_time": "2023-05-15T06:51:30.072Z"
   },
   {
    "duration": 18,
    "start_time": "2023-05-15T06:51:38.842Z"
   },
   {
    "duration": 4,
    "start_time": "2023-05-15T06:51:43.641Z"
   },
   {
    "duration": 4,
    "start_time": "2023-05-15T06:51:48.152Z"
   },
   {
    "duration": 4,
    "start_time": "2023-05-15T06:51:49.201Z"
   },
   {
    "duration": 16,
    "start_time": "2023-05-15T06:51:51.320Z"
   },
   {
    "duration": 4,
    "start_time": "2023-05-15T06:52:21.032Z"
   },
   {
    "duration": 4,
    "start_time": "2023-05-15T06:52:21.888Z"
   },
   {
    "duration": 4,
    "start_time": "2023-05-15T06:52:22.552Z"
   },
   {
    "duration": 26,
    "start_time": "2023-05-15T06:52:23.329Z"
   },
   {
    "duration": 4,
    "start_time": "2023-05-15T06:52:52.241Z"
   },
   {
    "duration": 5,
    "start_time": "2023-05-15T06:52:52.761Z"
   },
   {
    "duration": 4,
    "start_time": "2023-05-15T06:52:53.401Z"
   },
   {
    "duration": 22,
    "start_time": "2023-05-15T06:52:54.082Z"
   },
   {
    "duration": 314,
    "start_time": "2023-05-15T06:54:45.038Z"
   },
   {
    "duration": 5,
    "start_time": "2023-05-15T06:54:48.726Z"
   },
   {
    "duration": 9,
    "start_time": "2023-05-15T06:54:49.695Z"
   },
   {
    "duration": 4,
    "start_time": "2023-05-15T06:54:50.463Z"
   },
   {
    "duration": 14,
    "start_time": "2023-05-15T06:54:51.205Z"
   },
   {
    "duration": 1426,
    "start_time": "2023-05-15T06:54:57.520Z"
   },
   {
    "duration": 73,
    "start_time": "2023-05-15T06:54:58.949Z"
   },
   {
    "duration": 19,
    "start_time": "2023-05-15T06:54:59.024Z"
   },
   {
    "duration": 34,
    "start_time": "2023-05-15T06:54:59.050Z"
   },
   {
    "duration": 11,
    "start_time": "2023-05-15T06:54:59.087Z"
   },
   {
    "duration": 20,
    "start_time": "2023-05-15T06:54:59.104Z"
   },
   {
    "duration": 562,
    "start_time": "2023-05-15T06:54:59.127Z"
   },
   {
    "duration": 5,
    "start_time": "2023-05-15T06:54:59.691Z"
   },
   {
    "duration": 25,
    "start_time": "2023-05-15T06:54:59.698Z"
   },
   {
    "duration": 30,
    "start_time": "2023-05-15T06:54:59.725Z"
   },
   {
    "duration": 14,
    "start_time": "2023-05-15T06:54:59.757Z"
   },
   {
    "duration": 41,
    "start_time": "2023-05-15T06:54:59.772Z"
   },
   {
    "duration": 68,
    "start_time": "2023-05-15T06:54:59.814Z"
   },
   {
    "duration": 93,
    "start_time": "2023-05-15T06:54:59.885Z"
   },
   {
    "duration": 18,
    "start_time": "2023-05-15T06:54:59.980Z"
   },
   {
    "duration": 15,
    "start_time": "2023-05-15T06:55:00.000Z"
   },
   {
    "duration": 113,
    "start_time": "2023-05-15T06:55:00.080Z"
   },
   {
    "duration": 86,
    "start_time": "2023-05-15T06:55:00.196Z"
   },
   {
    "duration": 157,
    "start_time": "2023-05-15T06:55:00.289Z"
   },
   {
    "duration": 68,
    "start_time": "2023-05-15T06:55:00.448Z"
   },
   {
    "duration": 52,
    "start_time": "2023-05-15T06:55:00.518Z"
   },
   {
    "duration": 55,
    "start_time": "2023-05-15T06:55:00.571Z"
   },
   {
    "duration": 45,
    "start_time": "2023-05-15T06:55:00.628Z"
   },
   {
    "duration": 98,
    "start_time": "2023-05-15T06:55:00.675Z"
   },
   {
    "duration": 119,
    "start_time": "2023-05-15T06:55:00.774Z"
   },
   {
    "duration": 56,
    "start_time": "2023-05-15T06:55:00.895Z"
   },
   {
    "duration": 43,
    "start_time": "2023-05-15T06:55:00.953Z"
   },
   {
    "duration": 1474,
    "start_time": "2023-05-15T06:56:34.795Z"
   },
   {
    "duration": 49,
    "start_time": "2023-05-15T06:56:36.273Z"
   },
   {
    "duration": 20,
    "start_time": "2023-05-15T06:56:36.943Z"
   },
   {
    "duration": 25,
    "start_time": "2023-05-15T06:56:38.067Z"
   },
   {
    "duration": 12,
    "start_time": "2023-05-15T06:56:40.084Z"
   },
   {
    "duration": 6,
    "start_time": "2023-05-15T06:56:42.187Z"
   },
   {
    "duration": 410,
    "start_time": "2023-05-15T06:56:43.868Z"
   },
   {
    "duration": 5,
    "start_time": "2023-05-15T06:56:47.492Z"
   },
   {
    "duration": 7,
    "start_time": "2023-05-15T06:56:48.180Z"
   },
   {
    "duration": 4,
    "start_time": "2023-05-15T06:56:49.860Z"
   },
   {
    "duration": 7,
    "start_time": "2023-05-15T06:57:10.445Z"
   },
   {
    "duration": 28,
    "start_time": "2023-05-15T06:57:15.971Z"
   },
   {
    "duration": 12,
    "start_time": "2023-05-15T06:57:19.515Z"
   },
   {
    "duration": 5,
    "start_time": "2023-05-15T06:57:23.027Z"
   },
   {
    "duration": 4,
    "start_time": "2023-05-15T06:57:24.468Z"
   },
   {
    "duration": 27,
    "start_time": "2023-05-15T06:57:26.796Z"
   },
   {
    "duration": 6,
    "start_time": "2023-05-15T06:58:59.253Z"
   },
   {
    "duration": 5,
    "start_time": "2023-05-15T06:59:04.082Z"
   },
   {
    "duration": 5,
    "start_time": "2023-05-15T07:02:11.310Z"
   },
   {
    "duration": 5,
    "start_time": "2023-05-15T07:03:25.269Z"
   },
   {
    "duration": 7,
    "start_time": "2023-05-15T07:03:25.853Z"
   },
   {
    "duration": 6,
    "start_time": "2023-05-15T07:08:13.632Z"
   },
   {
    "duration": 4,
    "start_time": "2023-05-15T07:08:14.489Z"
   },
   {
    "duration": 8,
    "start_time": "2023-05-15T07:08:15.303Z"
   },
   {
    "duration": 30,
    "start_time": "2023-05-15T07:08:16.536Z"
   },
   {
    "duration": 1546,
    "start_time": "2023-05-15T07:10:50.060Z"
   },
   {
    "duration": 65,
    "start_time": "2023-05-15T07:10:51.609Z"
   },
   {
    "duration": 16,
    "start_time": "2023-05-15T07:10:51.676Z"
   },
   {
    "duration": 40,
    "start_time": "2023-05-15T07:10:51.695Z"
   },
   {
    "duration": 13,
    "start_time": "2023-05-15T07:10:51.738Z"
   },
   {
    "duration": 6,
    "start_time": "2023-05-15T07:10:51.779Z"
   },
   {
    "duration": 397,
    "start_time": "2023-05-15T07:10:51.787Z"
   },
   {
    "duration": 5,
    "start_time": "2023-05-15T07:10:52.185Z"
   },
   {
    "duration": 39,
    "start_time": "2023-05-15T07:10:52.192Z"
   },
   {
    "duration": 34,
    "start_time": "2023-05-15T07:10:52.235Z"
   },
   {
    "duration": 30,
    "start_time": "2023-05-15T07:10:52.271Z"
   },
   {
    "duration": 45,
    "start_time": "2023-05-15T07:10:52.306Z"
   },
   {
    "duration": 3,
    "start_time": "2023-05-15T07:10:52.356Z"
   },
   {
    "duration": 17,
    "start_time": "2023-05-15T07:10:52.362Z"
   },
   {
    "duration": 7,
    "start_time": "2023-05-15T07:10:52.382Z"
   },
   {
    "duration": 4,
    "start_time": "2023-05-15T07:10:52.391Z"
   },
   {
    "duration": 87,
    "start_time": "2023-05-15T07:10:52.396Z"
   },
   {
    "duration": 100,
    "start_time": "2023-05-15T07:10:52.484Z"
   },
   {
    "duration": 93,
    "start_time": "2023-05-15T07:10:52.586Z"
   },
   {
    "duration": 4,
    "start_time": "2023-05-15T07:10:52.682Z"
   },
   {
    "duration": 8,
    "start_time": "2023-05-15T07:10:52.688Z"
   },
   {
    "duration": 87,
    "start_time": "2023-05-15T07:10:52.700Z"
   },
   {
    "duration": 89,
    "start_time": "2023-05-15T07:10:52.790Z"
   },
   {
    "duration": 1518,
    "start_time": "2023-05-15T07:27:39.013Z"
   },
   {
    "duration": 893,
    "start_time": "2023-05-15T07:27:47.478Z"
   },
   {
    "duration": 1198,
    "start_time": "2023-05-15T07:29:45.451Z"
   },
   {
    "duration": 7,
    "start_time": "2023-05-15T07:29:55.322Z"
   },
   {
    "duration": 6,
    "start_time": "2023-05-15T07:30:21.225Z"
   },
   {
    "duration": 4,
    "start_time": "2023-05-15T07:30:23.555Z"
   },
   {
    "duration": 7,
    "start_time": "2023-05-15T07:30:24.573Z"
   },
   {
    "duration": 13,
    "start_time": "2023-05-15T07:30:27.203Z"
   },
   {
    "duration": 1372,
    "start_time": "2023-05-15T07:30:38.017Z"
   },
   {
    "duration": 155,
    "start_time": "2023-05-15T07:30:39.392Z"
   },
   {
    "duration": 16,
    "start_time": "2023-05-15T07:30:39.549Z"
   },
   {
    "duration": 35,
    "start_time": "2023-05-15T07:30:39.568Z"
   },
   {
    "duration": 10,
    "start_time": "2023-05-15T07:30:39.605Z"
   },
   {
    "duration": 6,
    "start_time": "2023-05-15T07:30:39.617Z"
   },
   {
    "duration": 443,
    "start_time": "2023-05-15T07:30:39.625Z"
   },
   {
    "duration": 4,
    "start_time": "2023-05-15T07:30:40.077Z"
   },
   {
    "duration": 20,
    "start_time": "2023-05-15T07:30:40.083Z"
   },
   {
    "duration": 5,
    "start_time": "2023-05-15T07:30:40.106Z"
   },
   {
    "duration": 5,
    "start_time": "2023-05-15T07:30:40.113Z"
   },
   {
    "duration": 18,
    "start_time": "2023-05-15T07:30:40.120Z"
   },
   {
    "duration": 3,
    "start_time": "2023-05-15T07:30:40.178Z"
   },
   {
    "duration": 5,
    "start_time": "2023-05-15T07:30:40.183Z"
   },
   {
    "duration": 92,
    "start_time": "2023-05-15T07:30:40.190Z"
   },
   {
    "duration": 5,
    "start_time": "2023-05-15T07:30:40.284Z"
   },
   {
    "duration": 89,
    "start_time": "2023-05-15T07:30:40.292Z"
   },
   {
    "duration": 96,
    "start_time": "2023-05-15T07:30:40.383Z"
   },
   {
    "duration": 101,
    "start_time": "2023-05-15T07:30:40.481Z"
   },
   {
    "duration": 3,
    "start_time": "2023-05-15T07:30:40.583Z"
   },
   {
    "duration": 5,
    "start_time": "2023-05-15T07:30:40.588Z"
   },
   {
    "duration": 91,
    "start_time": "2023-05-15T07:30:40.595Z"
   },
   {
    "duration": 97,
    "start_time": "2023-05-15T07:30:40.688Z"
   },
   {
    "duration": 5,
    "start_time": "2023-05-15T07:31:14.129Z"
   },
   {
    "duration": 4,
    "start_time": "2023-05-15T07:31:14.888Z"
   },
   {
    "duration": 6,
    "start_time": "2023-05-15T07:31:15.514Z"
   },
   {
    "duration": 13,
    "start_time": "2023-05-15T07:31:17.393Z"
   },
   {
    "duration": 5,
    "start_time": "2023-05-15T07:44:38.252Z"
   },
   {
    "duration": 2,
    "start_time": "2023-05-15T07:52:28.916Z"
   },
   {
    "duration": 246,
    "start_time": "2023-05-15T07:56:16.713Z"
   },
   {
    "duration": 16,
    "start_time": "2023-05-15T07:57:05.624Z"
   },
   {
    "duration": 17,
    "start_time": "2023-05-15T07:57:11.272Z"
   },
   {
    "duration": 18,
    "start_time": "2023-05-15T07:57:27.076Z"
   },
   {
    "duration": 6,
    "start_time": "2023-05-15T07:57:59.225Z"
   },
   {
    "duration": 13,
    "start_time": "2023-05-15T07:58:00.810Z"
   },
   {
    "duration": 6,
    "start_time": "2023-05-15T07:59:07.832Z"
   },
   {
    "duration": 12,
    "start_time": "2023-05-15T07:59:09.655Z"
   },
   {
    "duration": 4,
    "start_time": "2023-05-15T07:59:11.093Z"
   },
   {
    "duration": 16,
    "start_time": "2023-05-15T07:59:12.637Z"
   },
   {
    "duration": 7,
    "start_time": "2023-05-15T08:01:26.228Z"
   },
   {
    "duration": 5,
    "start_time": "2023-05-15T08:15:15.423Z"
   },
   {
    "duration": 86,
    "start_time": "2023-05-15T08:15:47.510Z"
   },
   {
    "duration": 22,
    "start_time": "2023-05-15T08:16:15.182Z"
   },
   {
    "duration": 14,
    "start_time": "2023-05-15T08:17:25.333Z"
   },
   {
    "duration": 16,
    "start_time": "2023-05-15T08:17:45.576Z"
   },
   {
    "duration": 12,
    "start_time": "2023-05-15T08:26:10.212Z"
   },
   {
    "duration": 16,
    "start_time": "2023-05-15T08:28:08.795Z"
   },
   {
    "duration": 10,
    "start_time": "2023-05-15T08:28:55.376Z"
   },
   {
    "duration": 5,
    "start_time": "2023-05-15T08:29:54.197Z"
   },
   {
    "duration": 25,
    "start_time": "2023-05-15T08:29:57.078Z"
   },
   {
    "duration": 2042,
    "start_time": "2023-05-15T08:30:02.487Z"
   },
   {
    "duration": 78,
    "start_time": "2023-05-15T08:30:04.531Z"
   },
   {
    "duration": 12,
    "start_time": "2023-05-15T08:30:04.611Z"
   },
   {
    "duration": 46,
    "start_time": "2023-05-15T08:30:04.626Z"
   },
   {
    "duration": 18,
    "start_time": "2023-05-15T08:30:04.673Z"
   },
   {
    "duration": 22,
    "start_time": "2023-05-15T08:30:04.693Z"
   },
   {
    "duration": 462,
    "start_time": "2023-05-15T08:30:04.716Z"
   },
   {
    "duration": 4,
    "start_time": "2023-05-15T08:30:05.180Z"
   },
   {
    "duration": 7,
    "start_time": "2023-05-15T08:30:05.187Z"
   },
   {
    "duration": 4,
    "start_time": "2023-05-15T08:30:05.201Z"
   },
   {
    "duration": 21,
    "start_time": "2023-05-15T08:30:05.207Z"
   },
   {
    "duration": 28,
    "start_time": "2023-05-15T08:30:05.230Z"
   },
   {
    "duration": 5,
    "start_time": "2023-05-15T08:30:05.281Z"
   },
   {
    "duration": 294,
    "start_time": "2023-05-15T08:30:05.291Z"
   },
   {
    "duration": 0,
    "start_time": "2023-05-15T08:30:05.590Z"
   },
   {
    "duration": 0,
    "start_time": "2023-05-15T08:30:05.595Z"
   },
   {
    "duration": 1,
    "start_time": "2023-05-15T08:30:05.597Z"
   },
   {
    "duration": 0,
    "start_time": "2023-05-15T08:30:05.601Z"
   },
   {
    "duration": 0,
    "start_time": "2023-05-15T08:30:05.602Z"
   },
   {
    "duration": 0,
    "start_time": "2023-05-15T08:30:05.604Z"
   },
   {
    "duration": 0,
    "start_time": "2023-05-15T08:30:05.606Z"
   },
   {
    "duration": 0,
    "start_time": "2023-05-15T08:30:05.607Z"
   },
   {
    "duration": 0,
    "start_time": "2023-05-15T08:30:05.608Z"
   },
   {
    "duration": 1,
    "start_time": "2023-05-15T08:30:05.609Z"
   },
   {
    "duration": 4,
    "start_time": "2023-05-15T08:42:23.926Z"
   },
   {
    "duration": 14,
    "start_time": "2023-05-15T08:42:24.499Z"
   },
   {
    "duration": 13,
    "start_time": "2023-05-15T08:42:30.296Z"
   },
   {
    "duration": 10,
    "start_time": "2023-05-15T08:42:43.204Z"
   },
   {
    "duration": 4,
    "start_time": "2023-05-15T08:42:45.296Z"
   },
   {
    "duration": 12,
    "start_time": "2023-05-15T08:42:45.811Z"
   },
   {
    "duration": 11,
    "start_time": "2023-05-15T08:42:49.851Z"
   },
   {
    "duration": 10,
    "start_time": "2023-05-15T08:45:30.305Z"
   },
   {
    "duration": 5,
    "start_time": "2023-05-15T08:46:48.976Z"
   },
   {
    "duration": 16,
    "start_time": "2023-05-15T08:46:50.624Z"
   },
   {
    "duration": 4,
    "start_time": "2023-05-15T08:48:00.993Z"
   },
   {
    "duration": 14,
    "start_time": "2023-05-15T08:48:02.150Z"
   },
   {
    "duration": 4,
    "start_time": "2023-05-15T08:49:07.541Z"
   },
   {
    "duration": 17,
    "start_time": "2023-05-15T08:49:08.125Z"
   },
   {
    "duration": 334,
    "start_time": "2023-05-15T08:51:32.377Z"
   },
   {
    "duration": 4,
    "start_time": "2023-05-15T08:51:43.843Z"
   },
   {
    "duration": 27,
    "start_time": "2023-05-15T08:51:45.879Z"
   },
   {
    "duration": 4,
    "start_time": "2023-05-15T08:57:21.732Z"
   },
   {
    "duration": 4,
    "start_time": "2023-05-15T08:57:29.386Z"
   },
   {
    "duration": 4,
    "start_time": "2023-05-15T08:57:33.740Z"
   },
   {
    "duration": 9,
    "start_time": "2023-05-15T08:57:36.388Z"
   },
   {
    "duration": 4,
    "start_time": "2023-05-15T08:57:39.462Z"
   },
   {
    "duration": 7,
    "start_time": "2023-05-15T08:57:41.108Z"
   },
   {
    "duration": 14,
    "start_time": "2023-05-15T08:58:01.238Z"
   },
   {
    "duration": 5,
    "start_time": "2023-05-15T08:59:09.567Z"
   },
   {
    "duration": 7,
    "start_time": "2023-05-15T08:59:10.198Z"
   },
   {
    "duration": 18,
    "start_time": "2023-05-15T08:59:12.227Z"
   },
   {
    "duration": 1520,
    "start_time": "2023-05-15T08:59:39.599Z"
   },
   {
    "duration": 108,
    "start_time": "2023-05-15T08:59:41.122Z"
   },
   {
    "duration": 14,
    "start_time": "2023-05-15T08:59:41.232Z"
   },
   {
    "duration": 27,
    "start_time": "2023-05-15T08:59:41.248Z"
   },
   {
    "duration": 15,
    "start_time": "2023-05-15T08:59:41.277Z"
   },
   {
    "duration": 10,
    "start_time": "2023-05-15T08:59:41.294Z"
   },
   {
    "duration": 417,
    "start_time": "2023-05-15T08:59:41.306Z"
   },
   {
    "duration": 4,
    "start_time": "2023-05-15T08:59:41.725Z"
   },
   {
    "duration": 7,
    "start_time": "2023-05-15T08:59:41.731Z"
   },
   {
    "duration": 7,
    "start_time": "2023-05-15T08:59:41.741Z"
   },
   {
    "duration": 28,
    "start_time": "2023-05-15T08:59:41.750Z"
   },
   {
    "duration": 31,
    "start_time": "2023-05-15T08:59:41.780Z"
   },
   {
    "duration": 74,
    "start_time": "2023-05-15T08:59:41.813Z"
   },
   {
    "duration": 5,
    "start_time": "2023-05-15T08:59:41.889Z"
   },
   {
    "duration": 201,
    "start_time": "2023-05-15T08:59:41.900Z"
   },
   {
    "duration": 0,
    "start_time": "2023-05-15T08:59:42.103Z"
   },
   {
    "duration": 0,
    "start_time": "2023-05-15T08:59:42.105Z"
   },
   {
    "duration": 0,
    "start_time": "2023-05-15T08:59:42.106Z"
   },
   {
    "duration": 0,
    "start_time": "2023-05-15T08:59:42.107Z"
   },
   {
    "duration": 0,
    "start_time": "2023-05-15T08:59:42.108Z"
   },
   {
    "duration": 0,
    "start_time": "2023-05-15T08:59:42.110Z"
   },
   {
    "duration": 0,
    "start_time": "2023-05-15T08:59:42.111Z"
   },
   {
    "duration": 0,
    "start_time": "2023-05-15T08:59:42.113Z"
   },
   {
    "duration": 0,
    "start_time": "2023-05-15T08:59:42.115Z"
   },
   {
    "duration": 0,
    "start_time": "2023-05-15T08:59:42.116Z"
   },
   {
    "duration": 6,
    "start_time": "2023-05-15T09:00:52.201Z"
   },
   {
    "duration": 5,
    "start_time": "2023-05-15T09:00:56.492Z"
   },
   {
    "duration": 6,
    "start_time": "2023-05-15T09:00:57.892Z"
   },
   {
    "duration": 7,
    "start_time": "2023-05-15T09:01:20.693Z"
   },
   {
    "duration": 27,
    "start_time": "2023-05-15T09:01:34.491Z"
   },
   {
    "duration": 9,
    "start_time": "2023-05-15T09:02:49.984Z"
   },
   {
    "duration": 19,
    "start_time": "2023-05-15T09:02:56.093Z"
   },
   {
    "duration": 3,
    "start_time": "2023-05-15T09:03:22.403Z"
   },
   {
    "duration": 5,
    "start_time": "2023-05-15T09:03:25.710Z"
   },
   {
    "duration": 4,
    "start_time": "2023-05-15T09:03:29.951Z"
   },
   {
    "duration": 6,
    "start_time": "2023-05-15T09:03:30.631Z"
   },
   {
    "duration": 15,
    "start_time": "2023-05-15T09:03:31.751Z"
   },
   {
    "duration": 5,
    "start_time": "2023-05-15T09:03:53.511Z"
   },
   {
    "duration": 6,
    "start_time": "2023-05-15T09:03:55.393Z"
   },
   {
    "duration": 4,
    "start_time": "2023-05-15T09:03:58.695Z"
   },
   {
    "duration": 7,
    "start_time": "2023-05-15T09:03:59.343Z"
   },
   {
    "duration": 11,
    "start_time": "2023-05-15T09:04:00.102Z"
   },
   {
    "duration": 3,
    "start_time": "2023-05-15T09:04:30.711Z"
   },
   {
    "duration": 4,
    "start_time": "2023-05-15T09:04:38.817Z"
   },
   {
    "duration": 4,
    "start_time": "2023-05-15T09:04:43.944Z"
   },
   {
    "duration": 7,
    "start_time": "2023-05-15T09:04:46.230Z"
   },
   {
    "duration": 15,
    "start_time": "2023-05-15T09:04:57.787Z"
   },
   {
    "duration": 3,
    "start_time": "2023-05-15T09:05:16.350Z"
   },
   {
    "duration": 11,
    "start_time": "2023-05-15T09:05:19.396Z"
   },
   {
    "duration": 6,
    "start_time": "2023-05-15T09:05:28.647Z"
   },
   {
    "duration": 7,
    "start_time": "2023-05-15T09:05:42.901Z"
   },
   {
    "duration": 7,
    "start_time": "2023-05-15T09:05:48.742Z"
   },
   {
    "duration": 12,
    "start_time": "2023-05-15T09:06:01.509Z"
   },
   {
    "duration": 4,
    "start_time": "2023-05-15T09:06:20.182Z"
   },
   {
    "duration": 6,
    "start_time": "2023-05-15T09:06:32.437Z"
   },
   {
    "duration": 7,
    "start_time": "2023-05-15T09:06:33.645Z"
   },
   {
    "duration": 6,
    "start_time": "2023-05-15T09:06:34.748Z"
   },
   {
    "duration": 4,
    "start_time": "2023-05-15T09:06:39.272Z"
   },
   {
    "duration": 1968,
    "start_time": "2023-05-15T09:06:44.421Z"
   },
   {
    "duration": 166,
    "start_time": "2023-05-15T09:06:46.392Z"
   },
   {
    "duration": 16,
    "start_time": "2023-05-15T09:06:46.560Z"
   },
   {
    "duration": 58,
    "start_time": "2023-05-15T09:06:46.578Z"
   },
   {
    "duration": 11,
    "start_time": "2023-05-15T09:06:46.638Z"
   },
   {
    "duration": 40,
    "start_time": "2023-05-15T09:06:46.651Z"
   },
   {
    "duration": 527,
    "start_time": "2023-05-15T09:06:46.706Z"
   },
   {
    "duration": 6,
    "start_time": "2023-05-15T09:06:47.236Z"
   },
   {
    "duration": 31,
    "start_time": "2023-05-15T09:06:47.244Z"
   },
   {
    "duration": 30,
    "start_time": "2023-05-15T09:06:47.279Z"
   },
   {
    "duration": 8,
    "start_time": "2023-05-15T09:06:47.317Z"
   },
   {
    "duration": 62,
    "start_time": "2023-05-15T09:06:47.327Z"
   },
   {
    "duration": 8,
    "start_time": "2023-05-15T09:06:47.401Z"
   },
   {
    "duration": 248,
    "start_time": "2023-05-15T09:06:47.412Z"
   },
   {
    "duration": 0,
    "start_time": "2023-05-15T09:06:47.663Z"
   },
   {
    "duration": 0,
    "start_time": "2023-05-15T09:06:47.665Z"
   },
   {
    "duration": 0,
    "start_time": "2023-05-15T09:06:47.666Z"
   },
   {
    "duration": 0,
    "start_time": "2023-05-15T09:06:47.667Z"
   },
   {
    "duration": 0,
    "start_time": "2023-05-15T09:06:47.669Z"
   },
   {
    "duration": 0,
    "start_time": "2023-05-15T09:06:47.670Z"
   },
   {
    "duration": 0,
    "start_time": "2023-05-15T09:06:47.672Z"
   },
   {
    "duration": 0,
    "start_time": "2023-05-15T09:06:47.673Z"
   },
   {
    "duration": 0,
    "start_time": "2023-05-15T09:06:47.675Z"
   },
   {
    "duration": 15,
    "start_time": "2023-05-15T09:07:15.128Z"
   },
   {
    "duration": 19,
    "start_time": "2023-05-15T09:07:17.194Z"
   },
   {
    "duration": 6,
    "start_time": "2023-05-15T09:07:20.733Z"
   },
   {
    "duration": 9,
    "start_time": "2023-05-15T09:07:21.835Z"
   },
   {
    "duration": 25,
    "start_time": "2023-05-15T09:07:27.644Z"
   },
   {
    "duration": 1542,
    "start_time": "2023-05-15T09:21:20.161Z"
   },
   {
    "duration": 45,
    "start_time": "2023-05-15T09:21:21.705Z"
   },
   {
    "duration": 11,
    "start_time": "2023-05-15T09:21:21.752Z"
   },
   {
    "duration": 25,
    "start_time": "2023-05-15T09:21:21.765Z"
   },
   {
    "duration": 13,
    "start_time": "2023-05-15T09:21:21.792Z"
   },
   {
    "duration": 6,
    "start_time": "2023-05-15T09:21:21.807Z"
   },
   {
    "duration": 371,
    "start_time": "2023-05-15T09:21:21.814Z"
   },
   {
    "duration": 7,
    "start_time": "2023-05-15T09:21:22.188Z"
   },
   {
    "duration": 19,
    "start_time": "2023-05-15T09:21:22.197Z"
   },
   {
    "duration": 4,
    "start_time": "2023-05-15T09:21:22.218Z"
   },
   {
    "duration": 4,
    "start_time": "2023-05-15T09:21:22.225Z"
   },
   {
    "duration": 49,
    "start_time": "2023-05-15T09:21:22.231Z"
   },
   {
    "duration": 5,
    "start_time": "2023-05-15T09:21:22.290Z"
   },
   {
    "duration": 7,
    "start_time": "2023-05-15T09:21:22.297Z"
   },
   {
    "duration": 6,
    "start_time": "2023-05-15T09:21:22.306Z"
   },
   {
    "duration": 65,
    "start_time": "2023-05-15T09:21:22.314Z"
   },
   {
    "duration": 14,
    "start_time": "2023-05-15T09:21:22.383Z"
   },
   {
    "duration": 82,
    "start_time": "2023-05-15T09:21:22.398Z"
   },
   {
    "duration": 10,
    "start_time": "2023-05-15T09:21:22.482Z"
   },
   {
    "duration": 6,
    "start_time": "2023-05-15T09:21:22.495Z"
   },
   {
    "duration": 81,
    "start_time": "2023-05-15T09:21:22.502Z"
   },
   {
    "duration": 17,
    "start_time": "2023-05-15T09:21:22.590Z"
   },
   {
    "duration": 1788,
    "start_time": "2023-05-15T09:30:13.697Z"
   },
   {
    "duration": 320,
    "start_time": "2023-05-15T09:30:15.492Z"
   },
   {
    "duration": 16,
    "start_time": "2023-05-15T09:30:15.814Z"
   },
   {
    "duration": 30,
    "start_time": "2023-05-15T09:30:15.832Z"
   },
   {
    "duration": 16,
    "start_time": "2023-05-15T09:30:15.866Z"
   },
   {
    "duration": 15,
    "start_time": "2023-05-15T09:30:15.884Z"
   },
   {
    "duration": 423,
    "start_time": "2023-05-15T09:30:15.903Z"
   },
   {
    "duration": 5,
    "start_time": "2023-05-15T09:30:16.328Z"
   },
   {
    "duration": 7,
    "start_time": "2023-05-15T09:30:16.335Z"
   },
   {
    "duration": 5,
    "start_time": "2023-05-15T09:30:16.344Z"
   },
   {
    "duration": 15,
    "start_time": "2023-05-15T09:30:16.351Z"
   },
   {
    "duration": 43,
    "start_time": "2023-05-15T09:30:16.368Z"
   },
   {
    "duration": 67,
    "start_time": "2023-05-15T09:30:16.413Z"
   },
   {
    "duration": 14,
    "start_time": "2023-05-15T09:30:16.487Z"
   },
   {
    "duration": 83,
    "start_time": "2023-05-15T09:30:16.504Z"
   },
   {
    "duration": 96,
    "start_time": "2023-05-15T09:30:16.591Z"
   },
   {
    "duration": 16,
    "start_time": "2023-05-15T09:30:16.692Z"
   },
   {
    "duration": 80,
    "start_time": "2023-05-15T09:30:16.712Z"
   },
   {
    "duration": 11,
    "start_time": "2023-05-15T09:30:16.798Z"
   },
   {
    "duration": 13,
    "start_time": "2023-05-15T09:30:16.878Z"
   },
   {
    "duration": 19,
    "start_time": "2023-05-15T09:30:16.897Z"
   },
   {
    "duration": 79,
    "start_time": "2023-05-15T09:30:16.918Z"
   },
   {
    "duration": 1436,
    "start_time": "2023-05-15T09:31:50.343Z"
   },
   {
    "duration": 77,
    "start_time": "2023-05-15T09:31:51.784Z"
   },
   {
    "duration": 12,
    "start_time": "2023-05-15T09:31:51.862Z"
   },
   {
    "duration": 39,
    "start_time": "2023-05-15T09:31:51.876Z"
   },
   {
    "duration": 31,
    "start_time": "2023-05-15T09:31:51.916Z"
   },
   {
    "duration": 23,
    "start_time": "2023-05-15T09:31:51.950Z"
   },
   {
    "duration": 389,
    "start_time": "2023-05-15T09:31:51.975Z"
   },
   {
    "duration": 17,
    "start_time": "2023-05-15T09:31:52.367Z"
   },
   {
    "duration": 13,
    "start_time": "2023-05-15T09:31:52.393Z"
   },
   {
    "duration": 23,
    "start_time": "2023-05-15T09:31:52.409Z"
   },
   {
    "duration": 25,
    "start_time": "2023-05-15T09:31:52.434Z"
   },
   {
    "duration": 38,
    "start_time": "2023-05-15T09:31:52.461Z"
   },
   {
    "duration": 79,
    "start_time": "2023-05-15T09:31:52.500Z"
   },
   {
    "duration": 108,
    "start_time": "2023-05-15T09:31:52.581Z"
   },
   {
    "duration": 17,
    "start_time": "2023-05-15T09:31:52.691Z"
   },
   {
    "duration": 74,
    "start_time": "2023-05-15T09:31:52.709Z"
   },
   {
    "duration": 32,
    "start_time": "2023-05-15T09:31:52.785Z"
   },
   {
    "duration": 24,
    "start_time": "2023-05-15T09:31:52.888Z"
   },
   {
    "duration": 13,
    "start_time": "2023-05-15T09:31:52.978Z"
   },
   {
    "duration": 19,
    "start_time": "2023-05-15T09:31:52.996Z"
   },
   {
    "duration": 16,
    "start_time": "2023-05-15T09:31:53.077Z"
   },
   {
    "duration": 93,
    "start_time": "2023-05-15T09:31:53.095Z"
   },
   {
    "duration": 1569,
    "start_time": "2023-05-15T09:32:34.772Z"
   },
   {
    "duration": 71,
    "start_time": "2023-05-15T09:32:36.344Z"
   },
   {
    "duration": 13,
    "start_time": "2023-05-15T09:32:36.417Z"
   },
   {
    "duration": 27,
    "start_time": "2023-05-15T09:32:36.432Z"
   },
   {
    "duration": 7,
    "start_time": "2023-05-15T09:32:36.462Z"
   },
   {
    "duration": 6,
    "start_time": "2023-05-15T09:32:36.471Z"
   },
   {
    "duration": 401,
    "start_time": "2023-05-15T09:32:36.482Z"
   },
   {
    "duration": 6,
    "start_time": "2023-05-15T09:32:36.885Z"
   },
   {
    "duration": 8,
    "start_time": "2023-05-15T09:32:36.895Z"
   },
   {
    "duration": 6,
    "start_time": "2023-05-15T09:32:36.904Z"
   },
   {
    "duration": 5,
    "start_time": "2023-05-15T09:32:36.912Z"
   },
   {
    "duration": 12,
    "start_time": "2023-05-15T09:32:36.919Z"
   },
   {
    "duration": 11,
    "start_time": "2023-05-15T09:32:36.979Z"
   },
   {
    "duration": 5,
    "start_time": "2023-05-15T09:32:36.993Z"
   },
   {
    "duration": 79,
    "start_time": "2023-05-15T09:32:37.001Z"
   },
   {
    "duration": 15,
    "start_time": "2023-05-15T09:32:37.082Z"
   },
   {
    "duration": 96,
    "start_time": "2023-05-15T09:32:37.100Z"
   },
   {
    "duration": 92,
    "start_time": "2023-05-15T09:32:37.201Z"
   },
   {
    "duration": 10,
    "start_time": "2023-05-15T09:32:37.297Z"
   },
   {
    "duration": 72,
    "start_time": "2023-05-15T09:32:37.311Z"
   },
   {
    "duration": 91,
    "start_time": "2023-05-15T09:32:37.388Z"
   },
   {
    "duration": 17,
    "start_time": "2023-05-15T09:32:37.484Z"
   },
   {
    "duration": 4,
    "start_time": "2023-05-15T09:41:29.939Z"
   },
   {
    "duration": 17,
    "start_time": "2023-05-15T09:41:45.798Z"
   },
   {
    "duration": 14,
    "start_time": "2023-05-15T09:41:46.756Z"
   },
   {
    "duration": 3,
    "start_time": "2023-05-15T09:41:48.003Z"
   },
   {
    "duration": 4,
    "start_time": "2023-05-15T09:41:49.945Z"
   },
   {
    "duration": 24,
    "start_time": "2023-05-15T09:41:50.769Z"
   },
   {
    "duration": 21,
    "start_time": "2023-05-15T09:41:52.466Z"
   },
   {
    "duration": 14,
    "start_time": "2023-05-15T09:42:37.859Z"
   },
   {
    "duration": 22,
    "start_time": "2023-05-15T09:42:54.873Z"
   },
   {
    "duration": 3,
    "start_time": "2023-05-15T09:43:04.796Z"
   },
   {
    "duration": 12,
    "start_time": "2023-05-15T09:43:51.098Z"
   },
   {
    "duration": 1742,
    "start_time": "2023-05-15T09:43:56.996Z"
   },
   {
    "duration": 112,
    "start_time": "2023-05-15T09:43:58.740Z"
   },
   {
    "duration": 13,
    "start_time": "2023-05-15T09:43:58.854Z"
   },
   {
    "duration": 37,
    "start_time": "2023-05-15T09:43:58.871Z"
   },
   {
    "duration": 8,
    "start_time": "2023-05-15T09:43:58.910Z"
   },
   {
    "duration": 7,
    "start_time": "2023-05-15T09:43:58.919Z"
   },
   {
    "duration": 432,
    "start_time": "2023-05-15T09:43:58.928Z"
   },
   {
    "duration": 5,
    "start_time": "2023-05-15T09:43:59.362Z"
   },
   {
    "duration": 12,
    "start_time": "2023-05-15T09:43:59.377Z"
   },
   {
    "duration": 6,
    "start_time": "2023-05-15T09:43:59.393Z"
   },
   {
    "duration": 7,
    "start_time": "2023-05-15T09:43:59.400Z"
   },
   {
    "duration": 15,
    "start_time": "2023-05-15T09:43:59.409Z"
   },
   {
    "duration": 7,
    "start_time": "2023-05-15T09:43:59.488Z"
   },
   {
    "duration": 9,
    "start_time": "2023-05-15T09:43:59.498Z"
   },
   {
    "duration": 69,
    "start_time": "2023-05-15T09:43:59.509Z"
   },
   {
    "duration": 16,
    "start_time": "2023-05-15T09:43:59.580Z"
   },
   {
    "duration": 90,
    "start_time": "2023-05-15T09:43:59.598Z"
   },
   {
    "duration": 22,
    "start_time": "2023-05-15T09:43:59.690Z"
   },
   {
    "duration": 13,
    "start_time": "2023-05-15T09:43:59.782Z"
   },
   {
    "duration": 78,
    "start_time": "2023-05-15T09:43:59.801Z"
   },
   {
    "duration": 10,
    "start_time": "2023-05-15T09:43:59.882Z"
   },
   {
    "duration": 91,
    "start_time": "2023-05-15T09:43:59.894Z"
   }
  ],
  "kernelspec": {
   "display_name": "Python 3 (ipykernel)",
   "language": "python",
   "name": "python3"
  },
  "language_info": {
   "codemirror_mode": {
    "name": "ipython",
    "version": 3
   },
   "file_extension": ".py",
   "mimetype": "text/x-python",
   "name": "python",
   "nbconvert_exporter": "python",
   "pygments_lexer": "ipython3",
   "version": "3.9.15"
  },
  "toc": {
   "base_numbering": 1,
   "nav_menu": {},
   "number_sections": true,
   "sideBar": true,
   "skip_h1_title": true,
   "title_cell": "Table of Contents",
   "title_sidebar": "Contents",
   "toc_cell": true,
   "toc_position": {
    "height": "calc(100% - 180px)",
    "left": "10px",
    "top": "150px",
    "width": "307.797px"
   },
   "toc_section_display": true,
   "toc_window_display": false
  }
 },
 "nbformat": 4,
 "nbformat_minor": 5
}
