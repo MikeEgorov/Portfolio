{
 "cells": [
  {
   "cell_type": "markdown",
   "id": "c763e03a",
   "metadata": {},
   "source": [
    "<div class=\"alert alert-info\"><b>Описание проекта:</b>\n",
    "   \n",
    "# \"Восстановление золота из золотосодержащей руды\"\n",
    "\n",
    "***\n",
    "\n",
    "**Цели проекта:**\n",
    "- предсказать коэффициент восстановления золота из золотосодержащей руды.\n",
    "    \n",
    "***\n",
    "    \n",
    "**Задачи исследования:**  \n",
    "- проверить правильность расчета эффективности обогащения;\n",
    "- исследовать изменение концентрации металлов (Au, Ag, Pb) на различных этапах очистки, а также суммарную концентрацию всех веществ на разных стадиях: в сырье, в черновом и финальном концентратах;\n",
    "- построить модели ML и выбрать наилучшую по метрике sMAPE;\n",
    "- проверить модель на тестовой выборке.\n",
    "    \n",
    "***\n",
    "    \n",
    "**Этапы исследования:** \n",
    "- загрузка и подготовка данных;\n",
    "- анализ данных;\n",
    "- построение моделей и выбор лучшей;\n",
    "- общий вывод по исследованию.\n",
    "    \n",
    "***\n",
    "    \n",
    "В сооветствии с условиями решим задачу регрессии.\n",
    "    \n",
    "</div>"
   ]
  },
  {
   "cell_type": "markdown",
   "id": "c92b3b82",
   "metadata": {
    "toc": true
   },
   "source": [
    "<h1>Table of Contents<span class=\"tocSkip\"></span></h1>\n",
    "<div class=\"toc\"><ul class=\"toc-item\"><li><span><a href=\"#Загрузка-и-подготовка-данных.\" data-toc-modified-id=\"Загрузка-и-подготовка-данных.-1\"><span class=\"toc-item-num\">1&nbsp;&nbsp;</span>Загрузка и подготовка данных.</a></span></li><li><span><a href=\"#Анализ-данных.\" data-toc-modified-id=\"Анализ-данных.-2\"><span class=\"toc-item-num\">2&nbsp;&nbsp;</span>Анализ данных.</a></span><ul class=\"toc-item\"><li><span><a href=\"#Изменение-концентрации-металлов-(Au,-Ag,-Pb)-на-различных-этапах-очистки.\" data-toc-modified-id=\"Изменение-концентрации-металлов-(Au,-Ag,-Pb)-на-различных-этапах-очистки.-2.1\"><span class=\"toc-item-num\">2.1&nbsp;&nbsp;</span>Изменение концентрации металлов (Au, Ag, Pb) на различных этапах очистки.</a></span></li><li><span><a href=\"#Распределение-размеров-гранул-сырья-на-обучающей-и-тестовой-выборках.\" data-toc-modified-id=\"Распределение-размеров-гранул-сырья-на-обучающей-и-тестовой-выборках.-2.2\"><span class=\"toc-item-num\">2.2&nbsp;&nbsp;</span>Распределение размеров гранул сырья на обучающей и тестовой выборках.</a></span></li><li><span><a href=\"#Исследование-суммарной-концентрации-всех-веществ-на-разных-стадиях.\" data-toc-modified-id=\"Исследование-суммарной-концентрации-всех-веществ-на-разных-стадиях.-2.3\"><span class=\"toc-item-num\">2.3&nbsp;&nbsp;</span>Исследование суммарной концентрации всех веществ на разных стадиях.</a></span></li></ul></li><li><span><a href=\"#Построение-модели.\" data-toc-modified-id=\"Построение-модели.-3\"><span class=\"toc-item-num\">3&nbsp;&nbsp;</span>Построение модели.</a></span><ul class=\"toc-item\"><li><span><a href=\"#Функция-для-вычисления-итоговой-sMAPE.\" data-toc-modified-id=\"Функция-для-вычисления-итоговой-sMAPE.-3.1\"><span class=\"toc-item-num\">3.1&nbsp;&nbsp;</span>Функция для вычисления итоговой sMAPE.</a></span></li><li><span><a href=\"#Обучение-разных-моделей-и-выбор-лучшей.\" data-toc-modified-id=\"Обучение-разных-моделей-и-выбор-лучшей.-3.2\"><span class=\"toc-item-num\">3.2&nbsp;&nbsp;</span>Обучение разных моделей и выбор лучшей.</a></span></li><li><span><a href=\"#Применение-лучшей-модели-к-тестовой-выборке.\" data-toc-modified-id=\"Применение-лучшей-модели-к-тестовой-выборке.-3.3\"><span class=\"toc-item-num\">3.3&nbsp;&nbsp;</span>Применение лучшей модели к тестовой выборке.</a></span></li><li><span><a href=\"#Проверка-модели-на-вменяемость.\" data-toc-modified-id=\"Проверка-модели-на-вменяемость.-3.4\"><span class=\"toc-item-num\">3.4&nbsp;&nbsp;</span>Проверка модели на вменяемость.</a></span></li></ul></li><li><span><a href=\"#Общий-вывод-по-исследованию:\" data-toc-modified-id=\"Общий-вывод-по-исследованию:-4\"><span class=\"toc-item-num\">4&nbsp;&nbsp;</span>Общий вывод по исследованию:</a></span></li></ul></div>"
   ]
  },
  {
   "cell_type": "markdown",
   "id": "6940f766",
   "metadata": {},
   "source": [
    "***"
   ]
  },
  {
   "cell_type": "markdown",
   "id": "afb0e699",
   "metadata": {},
   "source": [
    "### Загрузка и подготовка данных."
   ]
  },
  {
   "cell_type": "code",
   "execution_count": 1,
   "id": "47d4c523",
   "metadata": {
    "scrolled": false
   },
   "outputs": [],
   "source": [
    "import warnings\n",
    "\n",
    "import pandas as pd\n",
    "import numpy as np\n",
    "\n",
    "from sklearn.linear_model import LinearRegression\n",
    "from sklearn.tree import DecisionTreeRegressor\n",
    "from sklearn.ensemble import RandomForestRegressor\n",
    "from sklearn import preprocessing\n",
    "from sklearn.dummy import DummyRegressor\n",
    "from sklearn.model_selection import train_test_split, cross_val_score, GridSearchCV\n",
    "from sklearn.metrics import mean_absolute_error, make_scorer\n",
    "\n",
    "import matplotlib.pyplot as plt\n",
    "import seaborn as sns\n",
    "\n",
    "# Избавляемся от вывода предупреждений\n",
    "warnings.simplefilter(\"ignore\")\n",
    "\n",
    "# Отображение всех колонок\n",
    "pd.set_option('display.max_columns', None)\n",
    "\n",
    "# Константы\n",
    "RANDOM_STATE = 12345"
   ]
  },
  {
   "cell_type": "code",
   "execution_count": 2,
   "id": "f0b41ac6",
   "metadata": {},
   "outputs": [],
   "source": [
    "# Открываем файлы с данными. Признак 'date' сразу приведем к типу datetime64[ns].\n",
    "try:\n",
    "    data_full = pd.read_csv('C:\\Датасеты и проекты/gold_recovery_full_new.csv', parse_dates=['date'])   # Исходные данные\n",
    "    data_train = pd.read_csv('C:\\Датасеты и проекты/gold_recovery_train_new.csv', parse_dates=['date']) # Обучающая выборка\n",
    "    data_test = pd.read_csv('C:\\Датасеты и проекты/gold_recovery_test_new.csv', parse_dates=['date'])   # Тестовая выборка\n",
    "except:\n",
    "    data_full = pd.read_csv('/datasets/gold_recovery_full_new.csv', parse_dates=['date'])\n",
    "    data_train = pd.read_csv('/datasets/gold_recovery_train_new.csv', parse_dates=['date'])\n",
    "    data_test = pd.read_csv('/datasets/gold_recovery_test_new.csv', parse_dates=['date'])"
   ]
  },
  {
   "cell_type": "code",
   "execution_count": 3,
   "id": "01ea956f",
   "metadata": {},
   "outputs": [
    {
     "data": {
      "text/html": [
       "<div>\n",
       "<style scoped>\n",
       "    .dataframe tbody tr th:only-of-type {\n",
       "        vertical-align: middle;\n",
       "    }\n",
       "\n",
       "    .dataframe tbody tr th {\n",
       "        vertical-align: top;\n",
       "    }\n",
       "\n",
       "    .dataframe thead th {\n",
       "        text-align: right;\n",
       "    }\n",
       "</style>\n",
       "<table border=\"1\" class=\"dataframe\">\n",
       "  <thead>\n",
       "    <tr style=\"text-align: right;\">\n",
       "      <th></th>\n",
       "      <th>date</th>\n",
       "      <th>final.output.concentrate_ag</th>\n",
       "      <th>final.output.concentrate_pb</th>\n",
       "      <th>final.output.concentrate_sol</th>\n",
       "      <th>final.output.concentrate_au</th>\n",
       "      <th>final.output.recovery</th>\n",
       "      <th>final.output.tail_ag</th>\n",
       "      <th>final.output.tail_pb</th>\n",
       "      <th>final.output.tail_sol</th>\n",
       "      <th>final.output.tail_au</th>\n",
       "      <th>primary_cleaner.input.sulfate</th>\n",
       "      <th>primary_cleaner.input.depressant</th>\n",
       "      <th>primary_cleaner.input.feed_size</th>\n",
       "      <th>primary_cleaner.input.xanthate</th>\n",
       "      <th>primary_cleaner.output.concentrate_ag</th>\n",
       "      <th>primary_cleaner.output.concentrate_pb</th>\n",
       "      <th>primary_cleaner.output.concentrate_sol</th>\n",
       "      <th>primary_cleaner.output.concentrate_au</th>\n",
       "      <th>primary_cleaner.output.tail_ag</th>\n",
       "      <th>primary_cleaner.output.tail_pb</th>\n",
       "      <th>primary_cleaner.output.tail_sol</th>\n",
       "      <th>primary_cleaner.output.tail_au</th>\n",
       "      <th>primary_cleaner.state.floatbank8_a_air</th>\n",
       "      <th>primary_cleaner.state.floatbank8_a_level</th>\n",
       "      <th>primary_cleaner.state.floatbank8_b_air</th>\n",
       "      <th>primary_cleaner.state.floatbank8_b_level</th>\n",
       "      <th>primary_cleaner.state.floatbank8_c_air</th>\n",
       "      <th>primary_cleaner.state.floatbank8_c_level</th>\n",
       "      <th>primary_cleaner.state.floatbank8_d_air</th>\n",
       "      <th>primary_cleaner.state.floatbank8_d_level</th>\n",
       "      <th>rougher.calculation.sulfate_to_au_concentrate</th>\n",
       "      <th>rougher.calculation.floatbank10_sulfate_to_au_feed</th>\n",
       "      <th>rougher.calculation.floatbank11_sulfate_to_au_feed</th>\n",
       "      <th>rougher.calculation.au_pb_ratio</th>\n",
       "      <th>rougher.input.feed_ag</th>\n",
       "      <th>rougher.input.feed_pb</th>\n",
       "      <th>rougher.input.feed_rate</th>\n",
       "      <th>rougher.input.feed_size</th>\n",
       "      <th>rougher.input.feed_sol</th>\n",
       "      <th>rougher.input.feed_au</th>\n",
       "      <th>rougher.input.floatbank10_sulfate</th>\n",
       "      <th>rougher.input.floatbank10_xanthate</th>\n",
       "      <th>rougher.input.floatbank11_sulfate</th>\n",
       "      <th>rougher.input.floatbank11_xanthate</th>\n",
       "      <th>rougher.output.concentrate_ag</th>\n",
       "      <th>rougher.output.concentrate_pb</th>\n",
       "      <th>rougher.output.concentrate_sol</th>\n",
       "      <th>rougher.output.concentrate_au</th>\n",
       "      <th>rougher.output.recovery</th>\n",
       "      <th>rougher.output.tail_ag</th>\n",
       "      <th>rougher.output.tail_pb</th>\n",
       "      <th>rougher.output.tail_sol</th>\n",
       "      <th>rougher.output.tail_au</th>\n",
       "      <th>rougher.state.floatbank10_a_air</th>\n",
       "      <th>rougher.state.floatbank10_a_level</th>\n",
       "      <th>rougher.state.floatbank10_b_air</th>\n",
       "      <th>rougher.state.floatbank10_b_level</th>\n",
       "      <th>rougher.state.floatbank10_c_air</th>\n",
       "      <th>rougher.state.floatbank10_c_level</th>\n",
       "      <th>rougher.state.floatbank10_d_air</th>\n",
       "      <th>rougher.state.floatbank10_d_level</th>\n",
       "      <th>rougher.state.floatbank10_e_air</th>\n",
       "      <th>rougher.state.floatbank10_e_level</th>\n",
       "      <th>rougher.state.floatbank10_f_air</th>\n",
       "      <th>rougher.state.floatbank10_f_level</th>\n",
       "      <th>secondary_cleaner.output.tail_ag</th>\n",
       "      <th>secondary_cleaner.output.tail_pb</th>\n",
       "      <th>secondary_cleaner.output.tail_sol</th>\n",
       "      <th>secondary_cleaner.output.tail_au</th>\n",
       "      <th>secondary_cleaner.state.floatbank2_a_air</th>\n",
       "      <th>secondary_cleaner.state.floatbank2_a_level</th>\n",
       "      <th>secondary_cleaner.state.floatbank2_b_air</th>\n",
       "      <th>secondary_cleaner.state.floatbank2_b_level</th>\n",
       "      <th>secondary_cleaner.state.floatbank3_a_air</th>\n",
       "      <th>secondary_cleaner.state.floatbank3_a_level</th>\n",
       "      <th>secondary_cleaner.state.floatbank3_b_air</th>\n",
       "      <th>secondary_cleaner.state.floatbank3_b_level</th>\n",
       "      <th>secondary_cleaner.state.floatbank4_a_air</th>\n",
       "      <th>secondary_cleaner.state.floatbank4_a_level</th>\n",
       "      <th>secondary_cleaner.state.floatbank4_b_air</th>\n",
       "      <th>secondary_cleaner.state.floatbank4_b_level</th>\n",
       "      <th>secondary_cleaner.state.floatbank5_a_air</th>\n",
       "      <th>secondary_cleaner.state.floatbank5_a_level</th>\n",
       "      <th>secondary_cleaner.state.floatbank5_b_air</th>\n",
       "      <th>secondary_cleaner.state.floatbank5_b_level</th>\n",
       "      <th>secondary_cleaner.state.floatbank6_a_air</th>\n",
       "      <th>secondary_cleaner.state.floatbank6_a_level</th>\n",
       "    </tr>\n",
       "  </thead>\n",
       "  <tbody>\n",
       "    <tr>\n",
       "      <th>0</th>\n",
       "      <td>2016-01-15 00:00:00</td>\n",
       "      <td>6.055403</td>\n",
       "      <td>9.889648</td>\n",
       "      <td>5.507324</td>\n",
       "      <td>42.192020</td>\n",
       "      <td>70.541216</td>\n",
       "      <td>10.411962</td>\n",
       "      <td>0.895447</td>\n",
       "      <td>16.904297</td>\n",
       "      <td>2.143149</td>\n",
       "      <td>127.092003</td>\n",
       "      <td>10.128295</td>\n",
       "      <td>7.25</td>\n",
       "      <td>0.988759</td>\n",
       "      <td>8.547551</td>\n",
       "      <td>10.389648</td>\n",
       "      <td>19.529297</td>\n",
       "      <td>34.174427</td>\n",
       "      <td>14.936526</td>\n",
       "      <td>2.534912</td>\n",
       "      <td>7.476074</td>\n",
       "      <td>2.106679</td>\n",
       "      <td>1549.775757</td>\n",
       "      <td>-498.912140</td>\n",
       "      <td>1551.434204</td>\n",
       "      <td>-516.403442</td>\n",
       "      <td>1549.873901</td>\n",
       "      <td>-498.666595</td>\n",
       "      <td>1554.367432</td>\n",
       "      <td>-493.428131</td>\n",
       "      <td>41885.707031</td>\n",
       "      <td>3481.779053</td>\n",
       "      <td>3520.337158</td>\n",
       "      <td>2.838687</td>\n",
       "      <td>6.100378</td>\n",
       "      <td>2.284912</td>\n",
       "      <td>523.546326</td>\n",
       "      <td>55.486599</td>\n",
       "      <td>36.808594</td>\n",
       "      <td>6.486150</td>\n",
       "      <td>11.986616</td>\n",
       "      <td>6.007990</td>\n",
       "      <td>11.836743</td>\n",
       "      <td>6.005818</td>\n",
       "      <td>11.500771</td>\n",
       "      <td>7.101074</td>\n",
       "      <td>28.029297</td>\n",
       "      <td>19.793808</td>\n",
       "      <td>87.107763</td>\n",
       "      <td>5.008018</td>\n",
       "      <td>0.508728</td>\n",
       "      <td>19.154297</td>\n",
       "      <td>1.170244</td>\n",
       "      <td>999.706909</td>\n",
       "      <td>-404.066986</td>\n",
       "      <td>1603.011353</td>\n",
       "      <td>-434.715027</td>\n",
       "      <td>1602.375000</td>\n",
       "      <td>-442.204468</td>\n",
       "      <td>1598.937256</td>\n",
       "      <td>-451.294128</td>\n",
       "      <td>1404.472046</td>\n",
       "      <td>-455.462982</td>\n",
       "      <td>1416.354980</td>\n",
       "      <td>-451.939636</td>\n",
       "      <td>14.500184</td>\n",
       "      <td>4.694824</td>\n",
       "      <td>8.764648</td>\n",
       "      <td>2.606185</td>\n",
       "      <td>25.853109</td>\n",
       "      <td>-498.526489</td>\n",
       "      <td>23.893660</td>\n",
       "      <td>-501.406281</td>\n",
       "      <td>23.961798</td>\n",
       "      <td>-495.262817</td>\n",
       "      <td>21.940409</td>\n",
       "      <td>-499.340973</td>\n",
       "      <td>14.016835</td>\n",
       "      <td>-502.488007</td>\n",
       "      <td>12.099931</td>\n",
       "      <td>-504.715942</td>\n",
       "      <td>9.925633</td>\n",
       "      <td>-498.310211</td>\n",
       "      <td>8.079666</td>\n",
       "      <td>-500.470978</td>\n",
       "      <td>14.151341</td>\n",
       "      <td>-605.841980</td>\n",
       "    </tr>\n",
       "    <tr>\n",
       "      <th>1</th>\n",
       "      <td>2016-01-15 01:00:00</td>\n",
       "      <td>6.029369</td>\n",
       "      <td>9.968944</td>\n",
       "      <td>5.257781</td>\n",
       "      <td>42.701629</td>\n",
       "      <td>69.266198</td>\n",
       "      <td>10.462676</td>\n",
       "      <td>0.927452</td>\n",
       "      <td>16.634514</td>\n",
       "      <td>2.224930</td>\n",
       "      <td>125.629232</td>\n",
       "      <td>10.296251</td>\n",
       "      <td>7.25</td>\n",
       "      <td>1.002663</td>\n",
       "      <td>8.558743</td>\n",
       "      <td>10.497069</td>\n",
       "      <td>19.369147</td>\n",
       "      <td>34.118526</td>\n",
       "      <td>16.250511</td>\n",
       "      <td>3.049646</td>\n",
       "      <td>6.733907</td>\n",
       "      <td>2.353017</td>\n",
       "      <td>1576.166671</td>\n",
       "      <td>-500.904965</td>\n",
       "      <td>1575.950626</td>\n",
       "      <td>-499.865889</td>\n",
       "      <td>1575.994189</td>\n",
       "      <td>-499.315107</td>\n",
       "      <td>1574.479259</td>\n",
       "      <td>-498.931665</td>\n",
       "      <td>42050.861809</td>\n",
       "      <td>3498.370979</td>\n",
       "      <td>3489.981857</td>\n",
       "      <td>2.858998</td>\n",
       "      <td>6.161113</td>\n",
       "      <td>2.266033</td>\n",
       "      <td>525.290581</td>\n",
       "      <td>57.278666</td>\n",
       "      <td>35.753385</td>\n",
       "      <td>6.478583</td>\n",
       "      <td>11.971193</td>\n",
       "      <td>6.005766</td>\n",
       "      <td>11.996163</td>\n",
       "      <td>6.012594</td>\n",
       "      <td>11.615865</td>\n",
       "      <td>7.278807</td>\n",
       "      <td>28.067063</td>\n",
       "      <td>20.050975</td>\n",
       "      <td>86.843261</td>\n",
       "      <td>4.955378</td>\n",
       "      <td>0.536689</td>\n",
       "      <td>18.965234</td>\n",
       "      <td>1.184827</td>\n",
       "      <td>1000.286398</td>\n",
       "      <td>-400.065196</td>\n",
       "      <td>1600.754587</td>\n",
       "      <td>-449.953435</td>\n",
       "      <td>1600.479580</td>\n",
       "      <td>-449.830646</td>\n",
       "      <td>1600.527589</td>\n",
       "      <td>-449.953649</td>\n",
       "      <td>1399.227084</td>\n",
       "      <td>-450.869848</td>\n",
       "      <td>1399.719514</td>\n",
       "      <td>-450.119001</td>\n",
       "      <td>14.265474</td>\n",
       "      <td>4.592547</td>\n",
       "      <td>9.001494</td>\n",
       "      <td>2.488248</td>\n",
       "      <td>25.880539</td>\n",
       "      <td>-499.989656</td>\n",
       "      <td>23.889530</td>\n",
       "      <td>-500.372428</td>\n",
       "      <td>23.970550</td>\n",
       "      <td>-500.085473</td>\n",
       "      <td>22.085714</td>\n",
       "      <td>-499.446897</td>\n",
       "      <td>13.992281</td>\n",
       "      <td>-505.503262</td>\n",
       "      <td>11.950531</td>\n",
       "      <td>-501.331529</td>\n",
       "      <td>10.039245</td>\n",
       "      <td>-500.169983</td>\n",
       "      <td>7.984757</td>\n",
       "      <td>-500.582168</td>\n",
       "      <td>13.998353</td>\n",
       "      <td>-599.787184</td>\n",
       "    </tr>\n",
       "    <tr>\n",
       "      <th>2</th>\n",
       "      <td>2016-01-15 02:00:00</td>\n",
       "      <td>6.055926</td>\n",
       "      <td>10.213995</td>\n",
       "      <td>5.383759</td>\n",
       "      <td>42.657501</td>\n",
       "      <td>68.116445</td>\n",
       "      <td>10.507046</td>\n",
       "      <td>0.953716</td>\n",
       "      <td>16.208849</td>\n",
       "      <td>2.257889</td>\n",
       "      <td>123.819808</td>\n",
       "      <td>11.316280</td>\n",
       "      <td>7.25</td>\n",
       "      <td>0.991265</td>\n",
       "      <td>8.603505</td>\n",
       "      <td>10.354494</td>\n",
       "      <td>19.167579</td>\n",
       "      <td>33.969464</td>\n",
       "      <td>16.491823</td>\n",
       "      <td>3.124664</td>\n",
       "      <td>6.471768</td>\n",
       "      <td>2.416800</td>\n",
       "      <td>1601.556163</td>\n",
       "      <td>-499.997791</td>\n",
       "      <td>1600.386685</td>\n",
       "      <td>-500.607762</td>\n",
       "      <td>1602.003542</td>\n",
       "      <td>-500.870069</td>\n",
       "      <td>1599.541515</td>\n",
       "      <td>-499.827444</td>\n",
       "      <td>42018.101184</td>\n",
       "      <td>3495.348910</td>\n",
       "      <td>3502.359819</td>\n",
       "      <td>2.945989</td>\n",
       "      <td>6.116455</td>\n",
       "      <td>2.159622</td>\n",
       "      <td>530.026610</td>\n",
       "      <td>57.510649</td>\n",
       "      <td>35.971630</td>\n",
       "      <td>6.362222</td>\n",
       "      <td>11.920603</td>\n",
       "      <td>6.197377</td>\n",
       "      <td>11.920305</td>\n",
       "      <td>6.204633</td>\n",
       "      <td>11.695753</td>\n",
       "      <td>7.216833</td>\n",
       "      <td>27.454037</td>\n",
       "      <td>19.737170</td>\n",
       "      <td>86.842308</td>\n",
       "      <td>4.843460</td>\n",
       "      <td>0.546416</td>\n",
       "      <td>18.808533</td>\n",
       "      <td>1.162562</td>\n",
       "      <td>999.719565</td>\n",
       "      <td>-400.074028</td>\n",
       "      <td>1599.337330</td>\n",
       "      <td>-450.008530</td>\n",
       "      <td>1599.672797</td>\n",
       "      <td>-449.954491</td>\n",
       "      <td>1599.849325</td>\n",
       "      <td>-449.954185</td>\n",
       "      <td>1399.180945</td>\n",
       "      <td>-449.937588</td>\n",
       "      <td>1400.316682</td>\n",
       "      <td>-450.527147</td>\n",
       "      <td>14.115662</td>\n",
       "      <td>4.624775</td>\n",
       "      <td>8.842896</td>\n",
       "      <td>2.458187</td>\n",
       "      <td>26.005245</td>\n",
       "      <td>-499.929616</td>\n",
       "      <td>23.886657</td>\n",
       "      <td>-499.951928</td>\n",
       "      <td>23.913535</td>\n",
       "      <td>-499.442343</td>\n",
       "      <td>23.957717</td>\n",
       "      <td>-499.901982</td>\n",
       "      <td>14.015015</td>\n",
       "      <td>-502.520901</td>\n",
       "      <td>11.912783</td>\n",
       "      <td>-501.133383</td>\n",
       "      <td>10.070913</td>\n",
       "      <td>-500.129135</td>\n",
       "      <td>8.013877</td>\n",
       "      <td>-500.517572</td>\n",
       "      <td>14.028663</td>\n",
       "      <td>-601.427363</td>\n",
       "    </tr>\n",
       "    <tr>\n",
       "      <th>3</th>\n",
       "      <td>2016-01-15 03:00:00</td>\n",
       "      <td>6.047977</td>\n",
       "      <td>9.977019</td>\n",
       "      <td>4.858634</td>\n",
       "      <td>42.689819</td>\n",
       "      <td>68.347543</td>\n",
       "      <td>10.422762</td>\n",
       "      <td>0.883763</td>\n",
       "      <td>16.532835</td>\n",
       "      <td>2.146849</td>\n",
       "      <td>122.270188</td>\n",
       "      <td>11.322140</td>\n",
       "      <td>7.25</td>\n",
       "      <td>0.996739</td>\n",
       "      <td>7.221879</td>\n",
       "      <td>8.496563</td>\n",
       "      <td>15.978538</td>\n",
       "      <td>28.260743</td>\n",
       "      <td>16.024359</td>\n",
       "      <td>2.960362</td>\n",
       "      <td>6.843791</td>\n",
       "      <td>2.262051</td>\n",
       "      <td>1599.968720</td>\n",
       "      <td>-500.951778</td>\n",
       "      <td>1600.659236</td>\n",
       "      <td>-499.677094</td>\n",
       "      <td>1600.304144</td>\n",
       "      <td>-500.727997</td>\n",
       "      <td>1600.449520</td>\n",
       "      <td>-500.052575</td>\n",
       "      <td>42029.447991</td>\n",
       "      <td>3498.578313</td>\n",
       "      <td>3499.162912</td>\n",
       "      <td>3.002340</td>\n",
       "      <td>6.043309</td>\n",
       "      <td>2.037807</td>\n",
       "      <td>542.590390</td>\n",
       "      <td>57.792734</td>\n",
       "      <td>36.862241</td>\n",
       "      <td>6.118189</td>\n",
       "      <td>11.630094</td>\n",
       "      <td>6.203177</td>\n",
       "      <td>11.692450</td>\n",
       "      <td>6.196578</td>\n",
       "      <td>11.915047</td>\n",
       "      <td>7.175616</td>\n",
       "      <td>27.341277</td>\n",
       "      <td>19.320810</td>\n",
       "      <td>87.226430</td>\n",
       "      <td>4.655288</td>\n",
       "      <td>0.542525</td>\n",
       "      <td>19.330200</td>\n",
       "      <td>1.079755</td>\n",
       "      <td>999.814770</td>\n",
       "      <td>-400.200179</td>\n",
       "      <td>1600.059442</td>\n",
       "      <td>-450.619948</td>\n",
       "      <td>1600.012842</td>\n",
       "      <td>-449.910497</td>\n",
       "      <td>1597.725177</td>\n",
       "      <td>-450.130127</td>\n",
       "      <td>1400.943157</td>\n",
       "      <td>-450.030142</td>\n",
       "      <td>1400.234743</td>\n",
       "      <td>-449.790835</td>\n",
       "      <td>13.732071</td>\n",
       "      <td>4.482453</td>\n",
       "      <td>9.122857</td>\n",
       "      <td>2.322062</td>\n",
       "      <td>25.942508</td>\n",
       "      <td>-499.176749</td>\n",
       "      <td>23.955516</td>\n",
       "      <td>-499.848796</td>\n",
       "      <td>23.966838</td>\n",
       "      <td>-500.008812</td>\n",
       "      <td>23.954443</td>\n",
       "      <td>-499.944710</td>\n",
       "      <td>14.036510</td>\n",
       "      <td>-500.857308</td>\n",
       "      <td>11.999550</td>\n",
       "      <td>-501.193686</td>\n",
       "      <td>9.970366</td>\n",
       "      <td>-499.201640</td>\n",
       "      <td>7.977324</td>\n",
       "      <td>-500.255908</td>\n",
       "      <td>14.005551</td>\n",
       "      <td>-599.996129</td>\n",
       "    </tr>\n",
       "    <tr>\n",
       "      <th>4</th>\n",
       "      <td>2016-01-15 04:00:00</td>\n",
       "      <td>6.148599</td>\n",
       "      <td>10.142511</td>\n",
       "      <td>4.939416</td>\n",
       "      <td>42.774141</td>\n",
       "      <td>66.927016</td>\n",
       "      <td>10.360302</td>\n",
       "      <td>0.792826</td>\n",
       "      <td>16.525686</td>\n",
       "      <td>2.055292</td>\n",
       "      <td>117.988169</td>\n",
       "      <td>11.913613</td>\n",
       "      <td>7.25</td>\n",
       "      <td>1.009869</td>\n",
       "      <td>9.089428</td>\n",
       "      <td>9.986786</td>\n",
       "      <td>19.199864</td>\n",
       "      <td>33.044932</td>\n",
       "      <td>16.480185</td>\n",
       "      <td>3.112100</td>\n",
       "      <td>6.550154</td>\n",
       "      <td>2.277073</td>\n",
       "      <td>1601.339707</td>\n",
       "      <td>-498.975456</td>\n",
       "      <td>1601.437854</td>\n",
       "      <td>-500.323246</td>\n",
       "      <td>1599.581894</td>\n",
       "      <td>-500.888152</td>\n",
       "      <td>1602.649541</td>\n",
       "      <td>-500.593010</td>\n",
       "      <td>42125.354245</td>\n",
       "      <td>3494.800771</td>\n",
       "      <td>3506.679315</td>\n",
       "      <td>3.169615</td>\n",
       "      <td>6.060915</td>\n",
       "      <td>1.786875</td>\n",
       "      <td>540.531893</td>\n",
       "      <td>56.047189</td>\n",
       "      <td>34.347666</td>\n",
       "      <td>5.663707</td>\n",
       "      <td>10.957755</td>\n",
       "      <td>6.198826</td>\n",
       "      <td>10.960521</td>\n",
       "      <td>6.194897</td>\n",
       "      <td>12.411054</td>\n",
       "      <td>7.240205</td>\n",
       "      <td>27.041023</td>\n",
       "      <td>19.216101</td>\n",
       "      <td>86.688794</td>\n",
       "      <td>4.552800</td>\n",
       "      <td>0.515438</td>\n",
       "      <td>19.267422</td>\n",
       "      <td>1.012642</td>\n",
       "      <td>999.678690</td>\n",
       "      <td>-399.752729</td>\n",
       "      <td>1600.208824</td>\n",
       "      <td>-449.599614</td>\n",
       "      <td>1600.357732</td>\n",
       "      <td>-450.034364</td>\n",
       "      <td>1599.759049</td>\n",
       "      <td>-449.909799</td>\n",
       "      <td>1401.560902</td>\n",
       "      <td>-448.877187</td>\n",
       "      <td>1401.160227</td>\n",
       "      <td>-450.407128</td>\n",
       "      <td>14.079996</td>\n",
       "      <td>4.470737</td>\n",
       "      <td>8.871028</td>\n",
       "      <td>2.330448</td>\n",
       "      <td>26.024787</td>\n",
       "      <td>-500.279091</td>\n",
       "      <td>23.955345</td>\n",
       "      <td>-500.593614</td>\n",
       "      <td>23.985703</td>\n",
       "      <td>-500.083811</td>\n",
       "      <td>23.958945</td>\n",
       "      <td>-499.990309</td>\n",
       "      <td>14.027298</td>\n",
       "      <td>-499.838632</td>\n",
       "      <td>11.953070</td>\n",
       "      <td>-501.053894</td>\n",
       "      <td>9.925709</td>\n",
       "      <td>-501.686727</td>\n",
       "      <td>7.894242</td>\n",
       "      <td>-500.356035</td>\n",
       "      <td>13.996647</td>\n",
       "      <td>-601.496691</td>\n",
       "    </tr>\n",
       "  </tbody>\n",
       "</table>\n",
       "</div>"
      ],
      "text/plain": [
       "                 date  final.output.concentrate_ag  \\\n",
       "0 2016-01-15 00:00:00                     6.055403   \n",
       "1 2016-01-15 01:00:00                     6.029369   \n",
       "2 2016-01-15 02:00:00                     6.055926   \n",
       "3 2016-01-15 03:00:00                     6.047977   \n",
       "4 2016-01-15 04:00:00                     6.148599   \n",
       "\n",
       "   final.output.concentrate_pb  final.output.concentrate_sol  \\\n",
       "0                     9.889648                      5.507324   \n",
       "1                     9.968944                      5.257781   \n",
       "2                    10.213995                      5.383759   \n",
       "3                     9.977019                      4.858634   \n",
       "4                    10.142511                      4.939416   \n",
       "\n",
       "   final.output.concentrate_au  final.output.recovery  final.output.tail_ag  \\\n",
       "0                    42.192020              70.541216             10.411962   \n",
       "1                    42.701629              69.266198             10.462676   \n",
       "2                    42.657501              68.116445             10.507046   \n",
       "3                    42.689819              68.347543             10.422762   \n",
       "4                    42.774141              66.927016             10.360302   \n",
       "\n",
       "   final.output.tail_pb  final.output.tail_sol  final.output.tail_au  \\\n",
       "0              0.895447              16.904297              2.143149   \n",
       "1              0.927452              16.634514              2.224930   \n",
       "2              0.953716              16.208849              2.257889   \n",
       "3              0.883763              16.532835              2.146849   \n",
       "4              0.792826              16.525686              2.055292   \n",
       "\n",
       "   primary_cleaner.input.sulfate  primary_cleaner.input.depressant  \\\n",
       "0                     127.092003                         10.128295   \n",
       "1                     125.629232                         10.296251   \n",
       "2                     123.819808                         11.316280   \n",
       "3                     122.270188                         11.322140   \n",
       "4                     117.988169                         11.913613   \n",
       "\n",
       "   primary_cleaner.input.feed_size  primary_cleaner.input.xanthate  \\\n",
       "0                             7.25                        0.988759   \n",
       "1                             7.25                        1.002663   \n",
       "2                             7.25                        0.991265   \n",
       "3                             7.25                        0.996739   \n",
       "4                             7.25                        1.009869   \n",
       "\n",
       "   primary_cleaner.output.concentrate_ag  \\\n",
       "0                               8.547551   \n",
       "1                               8.558743   \n",
       "2                               8.603505   \n",
       "3                               7.221879   \n",
       "4                               9.089428   \n",
       "\n",
       "   primary_cleaner.output.concentrate_pb  \\\n",
       "0                              10.389648   \n",
       "1                              10.497069   \n",
       "2                              10.354494   \n",
       "3                               8.496563   \n",
       "4                               9.986786   \n",
       "\n",
       "   primary_cleaner.output.concentrate_sol  \\\n",
       "0                               19.529297   \n",
       "1                               19.369147   \n",
       "2                               19.167579   \n",
       "3                               15.978538   \n",
       "4                               19.199864   \n",
       "\n",
       "   primary_cleaner.output.concentrate_au  primary_cleaner.output.tail_ag  \\\n",
       "0                              34.174427                       14.936526   \n",
       "1                              34.118526                       16.250511   \n",
       "2                              33.969464                       16.491823   \n",
       "3                              28.260743                       16.024359   \n",
       "4                              33.044932                       16.480185   \n",
       "\n",
       "   primary_cleaner.output.tail_pb  primary_cleaner.output.tail_sol  \\\n",
       "0                        2.534912                         7.476074   \n",
       "1                        3.049646                         6.733907   \n",
       "2                        3.124664                         6.471768   \n",
       "3                        2.960362                         6.843791   \n",
       "4                        3.112100                         6.550154   \n",
       "\n",
       "   primary_cleaner.output.tail_au  primary_cleaner.state.floatbank8_a_air  \\\n",
       "0                        2.106679                             1549.775757   \n",
       "1                        2.353017                             1576.166671   \n",
       "2                        2.416800                             1601.556163   \n",
       "3                        2.262051                             1599.968720   \n",
       "4                        2.277073                             1601.339707   \n",
       "\n",
       "   primary_cleaner.state.floatbank8_a_level  \\\n",
       "0                               -498.912140   \n",
       "1                               -500.904965   \n",
       "2                               -499.997791   \n",
       "3                               -500.951778   \n",
       "4                               -498.975456   \n",
       "\n",
       "   primary_cleaner.state.floatbank8_b_air  \\\n",
       "0                             1551.434204   \n",
       "1                             1575.950626   \n",
       "2                             1600.386685   \n",
       "3                             1600.659236   \n",
       "4                             1601.437854   \n",
       "\n",
       "   primary_cleaner.state.floatbank8_b_level  \\\n",
       "0                               -516.403442   \n",
       "1                               -499.865889   \n",
       "2                               -500.607762   \n",
       "3                               -499.677094   \n",
       "4                               -500.323246   \n",
       "\n",
       "   primary_cleaner.state.floatbank8_c_air  \\\n",
       "0                             1549.873901   \n",
       "1                             1575.994189   \n",
       "2                             1602.003542   \n",
       "3                             1600.304144   \n",
       "4                             1599.581894   \n",
       "\n",
       "   primary_cleaner.state.floatbank8_c_level  \\\n",
       "0                               -498.666595   \n",
       "1                               -499.315107   \n",
       "2                               -500.870069   \n",
       "3                               -500.727997   \n",
       "4                               -500.888152   \n",
       "\n",
       "   primary_cleaner.state.floatbank8_d_air  \\\n",
       "0                             1554.367432   \n",
       "1                             1574.479259   \n",
       "2                             1599.541515   \n",
       "3                             1600.449520   \n",
       "4                             1602.649541   \n",
       "\n",
       "   primary_cleaner.state.floatbank8_d_level  \\\n",
       "0                               -493.428131   \n",
       "1                               -498.931665   \n",
       "2                               -499.827444   \n",
       "3                               -500.052575   \n",
       "4                               -500.593010   \n",
       "\n",
       "   rougher.calculation.sulfate_to_au_concentrate  \\\n",
       "0                                   41885.707031   \n",
       "1                                   42050.861809   \n",
       "2                                   42018.101184   \n",
       "3                                   42029.447991   \n",
       "4                                   42125.354245   \n",
       "\n",
       "   rougher.calculation.floatbank10_sulfate_to_au_feed  \\\n",
       "0                                        3481.779053    \n",
       "1                                        3498.370979    \n",
       "2                                        3495.348910    \n",
       "3                                        3498.578313    \n",
       "4                                        3494.800771    \n",
       "\n",
       "   rougher.calculation.floatbank11_sulfate_to_au_feed  \\\n",
       "0                                        3520.337158    \n",
       "1                                        3489.981857    \n",
       "2                                        3502.359819    \n",
       "3                                        3499.162912    \n",
       "4                                        3506.679315    \n",
       "\n",
       "   rougher.calculation.au_pb_ratio  rougher.input.feed_ag  \\\n",
       "0                         2.838687               6.100378   \n",
       "1                         2.858998               6.161113   \n",
       "2                         2.945989               6.116455   \n",
       "3                         3.002340               6.043309   \n",
       "4                         3.169615               6.060915   \n",
       "\n",
       "   rougher.input.feed_pb  rougher.input.feed_rate  rougher.input.feed_size  \\\n",
       "0               2.284912               523.546326                55.486599   \n",
       "1               2.266033               525.290581                57.278666   \n",
       "2               2.159622               530.026610                57.510649   \n",
       "3               2.037807               542.590390                57.792734   \n",
       "4               1.786875               540.531893                56.047189   \n",
       "\n",
       "   rougher.input.feed_sol  rougher.input.feed_au  \\\n",
       "0               36.808594               6.486150   \n",
       "1               35.753385               6.478583   \n",
       "2               35.971630               6.362222   \n",
       "3               36.862241               6.118189   \n",
       "4               34.347666               5.663707   \n",
       "\n",
       "   rougher.input.floatbank10_sulfate  rougher.input.floatbank10_xanthate  \\\n",
       "0                          11.986616                            6.007990   \n",
       "1                          11.971193                            6.005766   \n",
       "2                          11.920603                            6.197377   \n",
       "3                          11.630094                            6.203177   \n",
       "4                          10.957755                            6.198826   \n",
       "\n",
       "   rougher.input.floatbank11_sulfate  rougher.input.floatbank11_xanthate  \\\n",
       "0                          11.836743                            6.005818   \n",
       "1                          11.996163                            6.012594   \n",
       "2                          11.920305                            6.204633   \n",
       "3                          11.692450                            6.196578   \n",
       "4                          10.960521                            6.194897   \n",
       "\n",
       "   rougher.output.concentrate_ag  rougher.output.concentrate_pb  \\\n",
       "0                      11.500771                       7.101074   \n",
       "1                      11.615865                       7.278807   \n",
       "2                      11.695753                       7.216833   \n",
       "3                      11.915047                       7.175616   \n",
       "4                      12.411054                       7.240205   \n",
       "\n",
       "   rougher.output.concentrate_sol  rougher.output.concentrate_au  \\\n",
       "0                       28.029297                      19.793808   \n",
       "1                       28.067063                      20.050975   \n",
       "2                       27.454037                      19.737170   \n",
       "3                       27.341277                      19.320810   \n",
       "4                       27.041023                      19.216101   \n",
       "\n",
       "   rougher.output.recovery  rougher.output.tail_ag  rougher.output.tail_pb  \\\n",
       "0                87.107763                5.008018                0.508728   \n",
       "1                86.843261                4.955378                0.536689   \n",
       "2                86.842308                4.843460                0.546416   \n",
       "3                87.226430                4.655288                0.542525   \n",
       "4                86.688794                4.552800                0.515438   \n",
       "\n",
       "   rougher.output.tail_sol  rougher.output.tail_au  \\\n",
       "0                19.154297                1.170244   \n",
       "1                18.965234                1.184827   \n",
       "2                18.808533                1.162562   \n",
       "3                19.330200                1.079755   \n",
       "4                19.267422                1.012642   \n",
       "\n",
       "   rougher.state.floatbank10_a_air  rougher.state.floatbank10_a_level  \\\n",
       "0                       999.706909                        -404.066986   \n",
       "1                      1000.286398                        -400.065196   \n",
       "2                       999.719565                        -400.074028   \n",
       "3                       999.814770                        -400.200179   \n",
       "4                       999.678690                        -399.752729   \n",
       "\n",
       "   rougher.state.floatbank10_b_air  rougher.state.floatbank10_b_level  \\\n",
       "0                      1603.011353                        -434.715027   \n",
       "1                      1600.754587                        -449.953435   \n",
       "2                      1599.337330                        -450.008530   \n",
       "3                      1600.059442                        -450.619948   \n",
       "4                      1600.208824                        -449.599614   \n",
       "\n",
       "   rougher.state.floatbank10_c_air  rougher.state.floatbank10_c_level  \\\n",
       "0                      1602.375000                        -442.204468   \n",
       "1                      1600.479580                        -449.830646   \n",
       "2                      1599.672797                        -449.954491   \n",
       "3                      1600.012842                        -449.910497   \n",
       "4                      1600.357732                        -450.034364   \n",
       "\n",
       "   rougher.state.floatbank10_d_air  rougher.state.floatbank10_d_level  \\\n",
       "0                      1598.937256                        -451.294128   \n",
       "1                      1600.527589                        -449.953649   \n",
       "2                      1599.849325                        -449.954185   \n",
       "3                      1597.725177                        -450.130127   \n",
       "4                      1599.759049                        -449.909799   \n",
       "\n",
       "   rougher.state.floatbank10_e_air  rougher.state.floatbank10_e_level  \\\n",
       "0                      1404.472046                        -455.462982   \n",
       "1                      1399.227084                        -450.869848   \n",
       "2                      1399.180945                        -449.937588   \n",
       "3                      1400.943157                        -450.030142   \n",
       "4                      1401.560902                        -448.877187   \n",
       "\n",
       "   rougher.state.floatbank10_f_air  rougher.state.floatbank10_f_level  \\\n",
       "0                      1416.354980                        -451.939636   \n",
       "1                      1399.719514                        -450.119001   \n",
       "2                      1400.316682                        -450.527147   \n",
       "3                      1400.234743                        -449.790835   \n",
       "4                      1401.160227                        -450.407128   \n",
       "\n",
       "   secondary_cleaner.output.tail_ag  secondary_cleaner.output.tail_pb  \\\n",
       "0                         14.500184                          4.694824   \n",
       "1                         14.265474                          4.592547   \n",
       "2                         14.115662                          4.624775   \n",
       "3                         13.732071                          4.482453   \n",
       "4                         14.079996                          4.470737   \n",
       "\n",
       "   secondary_cleaner.output.tail_sol  secondary_cleaner.output.tail_au  \\\n",
       "0                           8.764648                          2.606185   \n",
       "1                           9.001494                          2.488248   \n",
       "2                           8.842896                          2.458187   \n",
       "3                           9.122857                          2.322062   \n",
       "4                           8.871028                          2.330448   \n",
       "\n",
       "   secondary_cleaner.state.floatbank2_a_air  \\\n",
       "0                                 25.853109   \n",
       "1                                 25.880539   \n",
       "2                                 26.005245   \n",
       "3                                 25.942508   \n",
       "4                                 26.024787   \n",
       "\n",
       "   secondary_cleaner.state.floatbank2_a_level  \\\n",
       "0                                 -498.526489   \n",
       "1                                 -499.989656   \n",
       "2                                 -499.929616   \n",
       "3                                 -499.176749   \n",
       "4                                 -500.279091   \n",
       "\n",
       "   secondary_cleaner.state.floatbank2_b_air  \\\n",
       "0                                 23.893660   \n",
       "1                                 23.889530   \n",
       "2                                 23.886657   \n",
       "3                                 23.955516   \n",
       "4                                 23.955345   \n",
       "\n",
       "   secondary_cleaner.state.floatbank2_b_level  \\\n",
       "0                                 -501.406281   \n",
       "1                                 -500.372428   \n",
       "2                                 -499.951928   \n",
       "3                                 -499.848796   \n",
       "4                                 -500.593614   \n",
       "\n",
       "   secondary_cleaner.state.floatbank3_a_air  \\\n",
       "0                                 23.961798   \n",
       "1                                 23.970550   \n",
       "2                                 23.913535   \n",
       "3                                 23.966838   \n",
       "4                                 23.985703   \n",
       "\n",
       "   secondary_cleaner.state.floatbank3_a_level  \\\n",
       "0                                 -495.262817   \n",
       "1                                 -500.085473   \n",
       "2                                 -499.442343   \n",
       "3                                 -500.008812   \n",
       "4                                 -500.083811   \n",
       "\n",
       "   secondary_cleaner.state.floatbank3_b_air  \\\n",
       "0                                 21.940409   \n",
       "1                                 22.085714   \n",
       "2                                 23.957717   \n",
       "3                                 23.954443   \n",
       "4                                 23.958945   \n",
       "\n",
       "   secondary_cleaner.state.floatbank3_b_level  \\\n",
       "0                                 -499.340973   \n",
       "1                                 -499.446897   \n",
       "2                                 -499.901982   \n",
       "3                                 -499.944710   \n",
       "4                                 -499.990309   \n",
       "\n",
       "   secondary_cleaner.state.floatbank4_a_air  \\\n",
       "0                                 14.016835   \n",
       "1                                 13.992281   \n",
       "2                                 14.015015   \n",
       "3                                 14.036510   \n",
       "4                                 14.027298   \n",
       "\n",
       "   secondary_cleaner.state.floatbank4_a_level  \\\n",
       "0                                 -502.488007   \n",
       "1                                 -505.503262   \n",
       "2                                 -502.520901   \n",
       "3                                 -500.857308   \n",
       "4                                 -499.838632   \n",
       "\n",
       "   secondary_cleaner.state.floatbank4_b_air  \\\n",
       "0                                 12.099931   \n",
       "1                                 11.950531   \n",
       "2                                 11.912783   \n",
       "3                                 11.999550   \n",
       "4                                 11.953070   \n",
       "\n",
       "   secondary_cleaner.state.floatbank4_b_level  \\\n",
       "0                                 -504.715942   \n",
       "1                                 -501.331529   \n",
       "2                                 -501.133383   \n",
       "3                                 -501.193686   \n",
       "4                                 -501.053894   \n",
       "\n",
       "   secondary_cleaner.state.floatbank5_a_air  \\\n",
       "0                                  9.925633   \n",
       "1                                 10.039245   \n",
       "2                                 10.070913   \n",
       "3                                  9.970366   \n",
       "4                                  9.925709   \n",
       "\n",
       "   secondary_cleaner.state.floatbank5_a_level  \\\n",
       "0                                 -498.310211   \n",
       "1                                 -500.169983   \n",
       "2                                 -500.129135   \n",
       "3                                 -499.201640   \n",
       "4                                 -501.686727   \n",
       "\n",
       "   secondary_cleaner.state.floatbank5_b_air  \\\n",
       "0                                  8.079666   \n",
       "1                                  7.984757   \n",
       "2                                  8.013877   \n",
       "3                                  7.977324   \n",
       "4                                  7.894242   \n",
       "\n",
       "   secondary_cleaner.state.floatbank5_b_level  \\\n",
       "0                                 -500.470978   \n",
       "1                                 -500.582168   \n",
       "2                                 -500.517572   \n",
       "3                                 -500.255908   \n",
       "4                                 -500.356035   \n",
       "\n",
       "   secondary_cleaner.state.floatbank6_a_air  \\\n",
       "0                                 14.151341   \n",
       "1                                 13.998353   \n",
       "2                                 14.028663   \n",
       "3                                 14.005551   \n",
       "4                                 13.996647   \n",
       "\n",
       "   secondary_cleaner.state.floatbank6_a_level  \n",
       "0                                 -605.841980  \n",
       "1                                 -599.787184  \n",
       "2                                 -601.427363  \n",
       "3                                 -599.996129  \n",
       "4                                 -601.496691  "
      ]
     },
     "execution_count": 3,
     "metadata": {},
     "output_type": "execute_result"
    }
   ],
   "source": [
    "# Выводим первые 5 строк датасета с исходными данными.\n",
    "data_full.head()"
   ]
  },
  {
   "cell_type": "code",
   "execution_count": 4,
   "id": "158a4a07",
   "metadata": {
    "scrolled": false
   },
   "outputs": [
    {
     "data": {
      "text/html": [
       "<div>\n",
       "<style scoped>\n",
       "    .dataframe tbody tr th:only-of-type {\n",
       "        vertical-align: middle;\n",
       "    }\n",
       "\n",
       "    .dataframe tbody tr th {\n",
       "        vertical-align: top;\n",
       "    }\n",
       "\n",
       "    .dataframe thead th {\n",
       "        text-align: right;\n",
       "    }\n",
       "</style>\n",
       "<table border=\"1\" class=\"dataframe\">\n",
       "  <thead>\n",
       "    <tr style=\"text-align: right;\">\n",
       "      <th></th>\n",
       "      <th>date</th>\n",
       "      <th>final.output.concentrate_ag</th>\n",
       "      <th>final.output.concentrate_pb</th>\n",
       "      <th>final.output.concentrate_sol</th>\n",
       "      <th>final.output.concentrate_au</th>\n",
       "      <th>final.output.recovery</th>\n",
       "      <th>final.output.tail_ag</th>\n",
       "      <th>final.output.tail_pb</th>\n",
       "      <th>final.output.tail_sol</th>\n",
       "      <th>final.output.tail_au</th>\n",
       "      <th>primary_cleaner.input.sulfate</th>\n",
       "      <th>primary_cleaner.input.depressant</th>\n",
       "      <th>primary_cleaner.input.feed_size</th>\n",
       "      <th>primary_cleaner.input.xanthate</th>\n",
       "      <th>primary_cleaner.output.concentrate_ag</th>\n",
       "      <th>primary_cleaner.output.concentrate_pb</th>\n",
       "      <th>primary_cleaner.output.concentrate_sol</th>\n",
       "      <th>primary_cleaner.output.concentrate_au</th>\n",
       "      <th>primary_cleaner.output.tail_ag</th>\n",
       "      <th>primary_cleaner.output.tail_pb</th>\n",
       "      <th>primary_cleaner.output.tail_sol</th>\n",
       "      <th>primary_cleaner.output.tail_au</th>\n",
       "      <th>primary_cleaner.state.floatbank8_a_air</th>\n",
       "      <th>primary_cleaner.state.floatbank8_a_level</th>\n",
       "      <th>primary_cleaner.state.floatbank8_b_air</th>\n",
       "      <th>primary_cleaner.state.floatbank8_b_level</th>\n",
       "      <th>primary_cleaner.state.floatbank8_c_air</th>\n",
       "      <th>primary_cleaner.state.floatbank8_c_level</th>\n",
       "      <th>primary_cleaner.state.floatbank8_d_air</th>\n",
       "      <th>primary_cleaner.state.floatbank8_d_level</th>\n",
       "      <th>rougher.calculation.sulfate_to_au_concentrate</th>\n",
       "      <th>rougher.calculation.floatbank10_sulfate_to_au_feed</th>\n",
       "      <th>rougher.calculation.floatbank11_sulfate_to_au_feed</th>\n",
       "      <th>rougher.calculation.au_pb_ratio</th>\n",
       "      <th>rougher.input.feed_ag</th>\n",
       "      <th>rougher.input.feed_pb</th>\n",
       "      <th>rougher.input.feed_rate</th>\n",
       "      <th>rougher.input.feed_size</th>\n",
       "      <th>rougher.input.feed_sol</th>\n",
       "      <th>rougher.input.feed_au</th>\n",
       "      <th>rougher.input.floatbank10_sulfate</th>\n",
       "      <th>rougher.input.floatbank10_xanthate</th>\n",
       "      <th>rougher.input.floatbank11_sulfate</th>\n",
       "      <th>rougher.input.floatbank11_xanthate</th>\n",
       "      <th>rougher.output.concentrate_ag</th>\n",
       "      <th>rougher.output.concentrate_pb</th>\n",
       "      <th>rougher.output.concentrate_sol</th>\n",
       "      <th>rougher.output.concentrate_au</th>\n",
       "      <th>rougher.output.recovery</th>\n",
       "      <th>rougher.output.tail_ag</th>\n",
       "      <th>rougher.output.tail_pb</th>\n",
       "      <th>rougher.output.tail_sol</th>\n",
       "      <th>rougher.output.tail_au</th>\n",
       "      <th>rougher.state.floatbank10_a_air</th>\n",
       "      <th>rougher.state.floatbank10_a_level</th>\n",
       "      <th>rougher.state.floatbank10_b_air</th>\n",
       "      <th>rougher.state.floatbank10_b_level</th>\n",
       "      <th>rougher.state.floatbank10_c_air</th>\n",
       "      <th>rougher.state.floatbank10_c_level</th>\n",
       "      <th>rougher.state.floatbank10_d_air</th>\n",
       "      <th>rougher.state.floatbank10_d_level</th>\n",
       "      <th>rougher.state.floatbank10_e_air</th>\n",
       "      <th>rougher.state.floatbank10_e_level</th>\n",
       "      <th>rougher.state.floatbank10_f_air</th>\n",
       "      <th>rougher.state.floatbank10_f_level</th>\n",
       "      <th>secondary_cleaner.output.tail_ag</th>\n",
       "      <th>secondary_cleaner.output.tail_pb</th>\n",
       "      <th>secondary_cleaner.output.tail_sol</th>\n",
       "      <th>secondary_cleaner.output.tail_au</th>\n",
       "      <th>secondary_cleaner.state.floatbank2_a_air</th>\n",
       "      <th>secondary_cleaner.state.floatbank2_a_level</th>\n",
       "      <th>secondary_cleaner.state.floatbank2_b_air</th>\n",
       "      <th>secondary_cleaner.state.floatbank2_b_level</th>\n",
       "      <th>secondary_cleaner.state.floatbank3_a_air</th>\n",
       "      <th>secondary_cleaner.state.floatbank3_a_level</th>\n",
       "      <th>secondary_cleaner.state.floatbank3_b_air</th>\n",
       "      <th>secondary_cleaner.state.floatbank3_b_level</th>\n",
       "      <th>secondary_cleaner.state.floatbank4_a_air</th>\n",
       "      <th>secondary_cleaner.state.floatbank4_a_level</th>\n",
       "      <th>secondary_cleaner.state.floatbank4_b_air</th>\n",
       "      <th>secondary_cleaner.state.floatbank4_b_level</th>\n",
       "      <th>secondary_cleaner.state.floatbank5_a_air</th>\n",
       "      <th>secondary_cleaner.state.floatbank5_a_level</th>\n",
       "      <th>secondary_cleaner.state.floatbank5_b_air</th>\n",
       "      <th>secondary_cleaner.state.floatbank5_b_level</th>\n",
       "      <th>secondary_cleaner.state.floatbank6_a_air</th>\n",
       "      <th>secondary_cleaner.state.floatbank6_a_level</th>\n",
       "    </tr>\n",
       "  </thead>\n",
       "  <tbody>\n",
       "    <tr>\n",
       "      <th>0</th>\n",
       "      <td>2016-01-15 00:00:00</td>\n",
       "      <td>6.055403</td>\n",
       "      <td>9.889648</td>\n",
       "      <td>5.507324</td>\n",
       "      <td>42.192020</td>\n",
       "      <td>70.541216</td>\n",
       "      <td>10.411962</td>\n",
       "      <td>0.895447</td>\n",
       "      <td>16.904297</td>\n",
       "      <td>2.143149</td>\n",
       "      <td>127.092003</td>\n",
       "      <td>10.128295</td>\n",
       "      <td>7.25</td>\n",
       "      <td>0.988759</td>\n",
       "      <td>8.547551</td>\n",
       "      <td>10.389648</td>\n",
       "      <td>19.529297</td>\n",
       "      <td>34.174427</td>\n",
       "      <td>14.936526</td>\n",
       "      <td>2.534912</td>\n",
       "      <td>7.476074</td>\n",
       "      <td>2.106679</td>\n",
       "      <td>1549.775757</td>\n",
       "      <td>-498.912140</td>\n",
       "      <td>1551.434204</td>\n",
       "      <td>-516.403442</td>\n",
       "      <td>1549.873901</td>\n",
       "      <td>-498.666595</td>\n",
       "      <td>1554.367432</td>\n",
       "      <td>-493.428131</td>\n",
       "      <td>41885.707031</td>\n",
       "      <td>3481.779053</td>\n",
       "      <td>3520.337158</td>\n",
       "      <td>2.838687</td>\n",
       "      <td>6.100378</td>\n",
       "      <td>2.284912</td>\n",
       "      <td>523.546326</td>\n",
       "      <td>55.486599</td>\n",
       "      <td>36.808594</td>\n",
       "      <td>6.486150</td>\n",
       "      <td>11.986616</td>\n",
       "      <td>6.007990</td>\n",
       "      <td>11.836743</td>\n",
       "      <td>6.005818</td>\n",
       "      <td>11.500771</td>\n",
       "      <td>7.101074</td>\n",
       "      <td>28.029297</td>\n",
       "      <td>19.793808</td>\n",
       "      <td>87.107763</td>\n",
       "      <td>5.008018</td>\n",
       "      <td>0.508728</td>\n",
       "      <td>19.154297</td>\n",
       "      <td>1.170244</td>\n",
       "      <td>999.706909</td>\n",
       "      <td>-404.066986</td>\n",
       "      <td>1603.011353</td>\n",
       "      <td>-434.715027</td>\n",
       "      <td>1602.375000</td>\n",
       "      <td>-442.204468</td>\n",
       "      <td>1598.937256</td>\n",
       "      <td>-451.294128</td>\n",
       "      <td>1404.472046</td>\n",
       "      <td>-455.462982</td>\n",
       "      <td>1416.354980</td>\n",
       "      <td>-451.939636</td>\n",
       "      <td>14.500184</td>\n",
       "      <td>4.694824</td>\n",
       "      <td>8.764648</td>\n",
       "      <td>2.606185</td>\n",
       "      <td>25.853109</td>\n",
       "      <td>-498.526489</td>\n",
       "      <td>23.893660</td>\n",
       "      <td>-501.406281</td>\n",
       "      <td>23.961798</td>\n",
       "      <td>-495.262817</td>\n",
       "      <td>21.940409</td>\n",
       "      <td>-499.340973</td>\n",
       "      <td>14.016835</td>\n",
       "      <td>-502.488007</td>\n",
       "      <td>12.099931</td>\n",
       "      <td>-504.715942</td>\n",
       "      <td>9.925633</td>\n",
       "      <td>-498.310211</td>\n",
       "      <td>8.079666</td>\n",
       "      <td>-500.470978</td>\n",
       "      <td>14.151341</td>\n",
       "      <td>-605.841980</td>\n",
       "    </tr>\n",
       "    <tr>\n",
       "      <th>1</th>\n",
       "      <td>2016-01-15 01:00:00</td>\n",
       "      <td>6.029369</td>\n",
       "      <td>9.968944</td>\n",
       "      <td>5.257781</td>\n",
       "      <td>42.701629</td>\n",
       "      <td>69.266198</td>\n",
       "      <td>10.462676</td>\n",
       "      <td>0.927452</td>\n",
       "      <td>16.634514</td>\n",
       "      <td>2.224930</td>\n",
       "      <td>125.629232</td>\n",
       "      <td>10.296251</td>\n",
       "      <td>7.25</td>\n",
       "      <td>1.002663</td>\n",
       "      <td>8.558743</td>\n",
       "      <td>10.497069</td>\n",
       "      <td>19.369147</td>\n",
       "      <td>34.118526</td>\n",
       "      <td>16.250511</td>\n",
       "      <td>3.049646</td>\n",
       "      <td>6.733907</td>\n",
       "      <td>2.353017</td>\n",
       "      <td>1576.166671</td>\n",
       "      <td>-500.904965</td>\n",
       "      <td>1575.950626</td>\n",
       "      <td>-499.865889</td>\n",
       "      <td>1575.994189</td>\n",
       "      <td>-499.315107</td>\n",
       "      <td>1574.479259</td>\n",
       "      <td>-498.931665</td>\n",
       "      <td>42050.861809</td>\n",
       "      <td>3498.370979</td>\n",
       "      <td>3489.981857</td>\n",
       "      <td>2.858998</td>\n",
       "      <td>6.161113</td>\n",
       "      <td>2.266033</td>\n",
       "      <td>525.290581</td>\n",
       "      <td>57.278666</td>\n",
       "      <td>35.753385</td>\n",
       "      <td>6.478583</td>\n",
       "      <td>11.971193</td>\n",
       "      <td>6.005766</td>\n",
       "      <td>11.996163</td>\n",
       "      <td>6.012594</td>\n",
       "      <td>11.615865</td>\n",
       "      <td>7.278807</td>\n",
       "      <td>28.067063</td>\n",
       "      <td>20.050975</td>\n",
       "      <td>86.843261</td>\n",
       "      <td>4.955378</td>\n",
       "      <td>0.536689</td>\n",
       "      <td>18.965234</td>\n",
       "      <td>1.184827</td>\n",
       "      <td>1000.286398</td>\n",
       "      <td>-400.065196</td>\n",
       "      <td>1600.754587</td>\n",
       "      <td>-449.953435</td>\n",
       "      <td>1600.479580</td>\n",
       "      <td>-449.830646</td>\n",
       "      <td>1600.527589</td>\n",
       "      <td>-449.953649</td>\n",
       "      <td>1399.227084</td>\n",
       "      <td>-450.869848</td>\n",
       "      <td>1399.719514</td>\n",
       "      <td>-450.119001</td>\n",
       "      <td>14.265474</td>\n",
       "      <td>4.592547</td>\n",
       "      <td>9.001494</td>\n",
       "      <td>2.488248</td>\n",
       "      <td>25.880539</td>\n",
       "      <td>-499.989656</td>\n",
       "      <td>23.889530</td>\n",
       "      <td>-500.372428</td>\n",
       "      <td>23.970550</td>\n",
       "      <td>-500.085473</td>\n",
       "      <td>22.085714</td>\n",
       "      <td>-499.446897</td>\n",
       "      <td>13.992281</td>\n",
       "      <td>-505.503262</td>\n",
       "      <td>11.950531</td>\n",
       "      <td>-501.331529</td>\n",
       "      <td>10.039245</td>\n",
       "      <td>-500.169983</td>\n",
       "      <td>7.984757</td>\n",
       "      <td>-500.582168</td>\n",
       "      <td>13.998353</td>\n",
       "      <td>-599.787184</td>\n",
       "    </tr>\n",
       "    <tr>\n",
       "      <th>2</th>\n",
       "      <td>2016-01-15 02:00:00</td>\n",
       "      <td>6.055926</td>\n",
       "      <td>10.213995</td>\n",
       "      <td>5.383759</td>\n",
       "      <td>42.657501</td>\n",
       "      <td>68.116445</td>\n",
       "      <td>10.507046</td>\n",
       "      <td>0.953716</td>\n",
       "      <td>16.208849</td>\n",
       "      <td>2.257889</td>\n",
       "      <td>123.819808</td>\n",
       "      <td>11.316280</td>\n",
       "      <td>7.25</td>\n",
       "      <td>0.991265</td>\n",
       "      <td>8.603505</td>\n",
       "      <td>10.354494</td>\n",
       "      <td>19.167579</td>\n",
       "      <td>33.969464</td>\n",
       "      <td>16.491823</td>\n",
       "      <td>3.124664</td>\n",
       "      <td>6.471768</td>\n",
       "      <td>2.416800</td>\n",
       "      <td>1601.556163</td>\n",
       "      <td>-499.997791</td>\n",
       "      <td>1600.386685</td>\n",
       "      <td>-500.607762</td>\n",
       "      <td>1602.003542</td>\n",
       "      <td>-500.870069</td>\n",
       "      <td>1599.541515</td>\n",
       "      <td>-499.827444</td>\n",
       "      <td>42018.101184</td>\n",
       "      <td>3495.348910</td>\n",
       "      <td>3502.359819</td>\n",
       "      <td>2.945989</td>\n",
       "      <td>6.116455</td>\n",
       "      <td>2.159622</td>\n",
       "      <td>530.026610</td>\n",
       "      <td>57.510649</td>\n",
       "      <td>35.971630</td>\n",
       "      <td>6.362222</td>\n",
       "      <td>11.920603</td>\n",
       "      <td>6.197377</td>\n",
       "      <td>11.920305</td>\n",
       "      <td>6.204633</td>\n",
       "      <td>11.695753</td>\n",
       "      <td>7.216833</td>\n",
       "      <td>27.454037</td>\n",
       "      <td>19.737170</td>\n",
       "      <td>86.842308</td>\n",
       "      <td>4.843460</td>\n",
       "      <td>0.546416</td>\n",
       "      <td>18.808533</td>\n",
       "      <td>1.162562</td>\n",
       "      <td>999.719565</td>\n",
       "      <td>-400.074028</td>\n",
       "      <td>1599.337330</td>\n",
       "      <td>-450.008530</td>\n",
       "      <td>1599.672797</td>\n",
       "      <td>-449.954491</td>\n",
       "      <td>1599.849325</td>\n",
       "      <td>-449.954185</td>\n",
       "      <td>1399.180945</td>\n",
       "      <td>-449.937588</td>\n",
       "      <td>1400.316682</td>\n",
       "      <td>-450.527147</td>\n",
       "      <td>14.115662</td>\n",
       "      <td>4.624775</td>\n",
       "      <td>8.842896</td>\n",
       "      <td>2.458187</td>\n",
       "      <td>26.005245</td>\n",
       "      <td>-499.929616</td>\n",
       "      <td>23.886657</td>\n",
       "      <td>-499.951928</td>\n",
       "      <td>23.913535</td>\n",
       "      <td>-499.442343</td>\n",
       "      <td>23.957717</td>\n",
       "      <td>-499.901982</td>\n",
       "      <td>14.015015</td>\n",
       "      <td>-502.520901</td>\n",
       "      <td>11.912783</td>\n",
       "      <td>-501.133383</td>\n",
       "      <td>10.070913</td>\n",
       "      <td>-500.129135</td>\n",
       "      <td>8.013877</td>\n",
       "      <td>-500.517572</td>\n",
       "      <td>14.028663</td>\n",
       "      <td>-601.427363</td>\n",
       "    </tr>\n",
       "    <tr>\n",
       "      <th>3</th>\n",
       "      <td>2016-01-15 03:00:00</td>\n",
       "      <td>6.047977</td>\n",
       "      <td>9.977019</td>\n",
       "      <td>4.858634</td>\n",
       "      <td>42.689819</td>\n",
       "      <td>68.347543</td>\n",
       "      <td>10.422762</td>\n",
       "      <td>0.883763</td>\n",
       "      <td>16.532835</td>\n",
       "      <td>2.146849</td>\n",
       "      <td>122.270188</td>\n",
       "      <td>11.322140</td>\n",
       "      <td>7.25</td>\n",
       "      <td>0.996739</td>\n",
       "      <td>7.221879</td>\n",
       "      <td>8.496563</td>\n",
       "      <td>15.978538</td>\n",
       "      <td>28.260743</td>\n",
       "      <td>16.024359</td>\n",
       "      <td>2.960362</td>\n",
       "      <td>6.843791</td>\n",
       "      <td>2.262051</td>\n",
       "      <td>1599.968720</td>\n",
       "      <td>-500.951778</td>\n",
       "      <td>1600.659236</td>\n",
       "      <td>-499.677094</td>\n",
       "      <td>1600.304144</td>\n",
       "      <td>-500.727997</td>\n",
       "      <td>1600.449520</td>\n",
       "      <td>-500.052575</td>\n",
       "      <td>42029.447991</td>\n",
       "      <td>3498.578313</td>\n",
       "      <td>3499.162912</td>\n",
       "      <td>3.002340</td>\n",
       "      <td>6.043309</td>\n",
       "      <td>2.037807</td>\n",
       "      <td>542.590390</td>\n",
       "      <td>57.792734</td>\n",
       "      <td>36.862241</td>\n",
       "      <td>6.118189</td>\n",
       "      <td>11.630094</td>\n",
       "      <td>6.203177</td>\n",
       "      <td>11.692450</td>\n",
       "      <td>6.196578</td>\n",
       "      <td>11.915047</td>\n",
       "      <td>7.175616</td>\n",
       "      <td>27.341277</td>\n",
       "      <td>19.320810</td>\n",
       "      <td>87.226430</td>\n",
       "      <td>4.655288</td>\n",
       "      <td>0.542525</td>\n",
       "      <td>19.330200</td>\n",
       "      <td>1.079755</td>\n",
       "      <td>999.814770</td>\n",
       "      <td>-400.200179</td>\n",
       "      <td>1600.059442</td>\n",
       "      <td>-450.619948</td>\n",
       "      <td>1600.012842</td>\n",
       "      <td>-449.910497</td>\n",
       "      <td>1597.725177</td>\n",
       "      <td>-450.130127</td>\n",
       "      <td>1400.943157</td>\n",
       "      <td>-450.030142</td>\n",
       "      <td>1400.234743</td>\n",
       "      <td>-449.790835</td>\n",
       "      <td>13.732071</td>\n",
       "      <td>4.482453</td>\n",
       "      <td>9.122857</td>\n",
       "      <td>2.322062</td>\n",
       "      <td>25.942508</td>\n",
       "      <td>-499.176749</td>\n",
       "      <td>23.955516</td>\n",
       "      <td>-499.848796</td>\n",
       "      <td>23.966838</td>\n",
       "      <td>-500.008812</td>\n",
       "      <td>23.954443</td>\n",
       "      <td>-499.944710</td>\n",
       "      <td>14.036510</td>\n",
       "      <td>-500.857308</td>\n",
       "      <td>11.999550</td>\n",
       "      <td>-501.193686</td>\n",
       "      <td>9.970366</td>\n",
       "      <td>-499.201640</td>\n",
       "      <td>7.977324</td>\n",
       "      <td>-500.255908</td>\n",
       "      <td>14.005551</td>\n",
       "      <td>-599.996129</td>\n",
       "    </tr>\n",
       "    <tr>\n",
       "      <th>4</th>\n",
       "      <td>2016-01-15 04:00:00</td>\n",
       "      <td>6.148599</td>\n",
       "      <td>10.142511</td>\n",
       "      <td>4.939416</td>\n",
       "      <td>42.774141</td>\n",
       "      <td>66.927016</td>\n",
       "      <td>10.360302</td>\n",
       "      <td>0.792826</td>\n",
       "      <td>16.525686</td>\n",
       "      <td>2.055292</td>\n",
       "      <td>117.988169</td>\n",
       "      <td>11.913613</td>\n",
       "      <td>7.25</td>\n",
       "      <td>1.009869</td>\n",
       "      <td>9.089428</td>\n",
       "      <td>9.986786</td>\n",
       "      <td>19.199864</td>\n",
       "      <td>33.044932</td>\n",
       "      <td>16.480185</td>\n",
       "      <td>3.112100</td>\n",
       "      <td>6.550154</td>\n",
       "      <td>2.277073</td>\n",
       "      <td>1601.339707</td>\n",
       "      <td>-498.975456</td>\n",
       "      <td>1601.437854</td>\n",
       "      <td>-500.323246</td>\n",
       "      <td>1599.581894</td>\n",
       "      <td>-500.888152</td>\n",
       "      <td>1602.649541</td>\n",
       "      <td>-500.593010</td>\n",
       "      <td>42125.354245</td>\n",
       "      <td>3494.800771</td>\n",
       "      <td>3506.679315</td>\n",
       "      <td>3.169615</td>\n",
       "      <td>6.060915</td>\n",
       "      <td>1.786875</td>\n",
       "      <td>540.531893</td>\n",
       "      <td>56.047189</td>\n",
       "      <td>34.347666</td>\n",
       "      <td>5.663707</td>\n",
       "      <td>10.957755</td>\n",
       "      <td>6.198826</td>\n",
       "      <td>10.960521</td>\n",
       "      <td>6.194897</td>\n",
       "      <td>12.411054</td>\n",
       "      <td>7.240205</td>\n",
       "      <td>27.041023</td>\n",
       "      <td>19.216101</td>\n",
       "      <td>86.688794</td>\n",
       "      <td>4.552800</td>\n",
       "      <td>0.515438</td>\n",
       "      <td>19.267422</td>\n",
       "      <td>1.012642</td>\n",
       "      <td>999.678690</td>\n",
       "      <td>-399.752729</td>\n",
       "      <td>1600.208824</td>\n",
       "      <td>-449.599614</td>\n",
       "      <td>1600.357732</td>\n",
       "      <td>-450.034364</td>\n",
       "      <td>1599.759049</td>\n",
       "      <td>-449.909799</td>\n",
       "      <td>1401.560902</td>\n",
       "      <td>-448.877187</td>\n",
       "      <td>1401.160227</td>\n",
       "      <td>-450.407128</td>\n",
       "      <td>14.079996</td>\n",
       "      <td>4.470737</td>\n",
       "      <td>8.871028</td>\n",
       "      <td>2.330448</td>\n",
       "      <td>26.024787</td>\n",
       "      <td>-500.279091</td>\n",
       "      <td>23.955345</td>\n",
       "      <td>-500.593614</td>\n",
       "      <td>23.985703</td>\n",
       "      <td>-500.083811</td>\n",
       "      <td>23.958945</td>\n",
       "      <td>-499.990309</td>\n",
       "      <td>14.027298</td>\n",
       "      <td>-499.838632</td>\n",
       "      <td>11.953070</td>\n",
       "      <td>-501.053894</td>\n",
       "      <td>9.925709</td>\n",
       "      <td>-501.686727</td>\n",
       "      <td>7.894242</td>\n",
       "      <td>-500.356035</td>\n",
       "      <td>13.996647</td>\n",
       "      <td>-601.496691</td>\n",
       "    </tr>\n",
       "  </tbody>\n",
       "</table>\n",
       "</div>"
      ],
      "text/plain": [
       "                 date  final.output.concentrate_ag  \\\n",
       "0 2016-01-15 00:00:00                     6.055403   \n",
       "1 2016-01-15 01:00:00                     6.029369   \n",
       "2 2016-01-15 02:00:00                     6.055926   \n",
       "3 2016-01-15 03:00:00                     6.047977   \n",
       "4 2016-01-15 04:00:00                     6.148599   \n",
       "\n",
       "   final.output.concentrate_pb  final.output.concentrate_sol  \\\n",
       "0                     9.889648                      5.507324   \n",
       "1                     9.968944                      5.257781   \n",
       "2                    10.213995                      5.383759   \n",
       "3                     9.977019                      4.858634   \n",
       "4                    10.142511                      4.939416   \n",
       "\n",
       "   final.output.concentrate_au  final.output.recovery  final.output.tail_ag  \\\n",
       "0                    42.192020              70.541216             10.411962   \n",
       "1                    42.701629              69.266198             10.462676   \n",
       "2                    42.657501              68.116445             10.507046   \n",
       "3                    42.689819              68.347543             10.422762   \n",
       "4                    42.774141              66.927016             10.360302   \n",
       "\n",
       "   final.output.tail_pb  final.output.tail_sol  final.output.tail_au  \\\n",
       "0              0.895447              16.904297              2.143149   \n",
       "1              0.927452              16.634514              2.224930   \n",
       "2              0.953716              16.208849              2.257889   \n",
       "3              0.883763              16.532835              2.146849   \n",
       "4              0.792826              16.525686              2.055292   \n",
       "\n",
       "   primary_cleaner.input.sulfate  primary_cleaner.input.depressant  \\\n",
       "0                     127.092003                         10.128295   \n",
       "1                     125.629232                         10.296251   \n",
       "2                     123.819808                         11.316280   \n",
       "3                     122.270188                         11.322140   \n",
       "4                     117.988169                         11.913613   \n",
       "\n",
       "   primary_cleaner.input.feed_size  primary_cleaner.input.xanthate  \\\n",
       "0                             7.25                        0.988759   \n",
       "1                             7.25                        1.002663   \n",
       "2                             7.25                        0.991265   \n",
       "3                             7.25                        0.996739   \n",
       "4                             7.25                        1.009869   \n",
       "\n",
       "   primary_cleaner.output.concentrate_ag  \\\n",
       "0                               8.547551   \n",
       "1                               8.558743   \n",
       "2                               8.603505   \n",
       "3                               7.221879   \n",
       "4                               9.089428   \n",
       "\n",
       "   primary_cleaner.output.concentrate_pb  \\\n",
       "0                              10.389648   \n",
       "1                              10.497069   \n",
       "2                              10.354494   \n",
       "3                               8.496563   \n",
       "4                               9.986786   \n",
       "\n",
       "   primary_cleaner.output.concentrate_sol  \\\n",
       "0                               19.529297   \n",
       "1                               19.369147   \n",
       "2                               19.167579   \n",
       "3                               15.978538   \n",
       "4                               19.199864   \n",
       "\n",
       "   primary_cleaner.output.concentrate_au  primary_cleaner.output.tail_ag  \\\n",
       "0                              34.174427                       14.936526   \n",
       "1                              34.118526                       16.250511   \n",
       "2                              33.969464                       16.491823   \n",
       "3                              28.260743                       16.024359   \n",
       "4                              33.044932                       16.480185   \n",
       "\n",
       "   primary_cleaner.output.tail_pb  primary_cleaner.output.tail_sol  \\\n",
       "0                        2.534912                         7.476074   \n",
       "1                        3.049646                         6.733907   \n",
       "2                        3.124664                         6.471768   \n",
       "3                        2.960362                         6.843791   \n",
       "4                        3.112100                         6.550154   \n",
       "\n",
       "   primary_cleaner.output.tail_au  primary_cleaner.state.floatbank8_a_air  \\\n",
       "0                        2.106679                             1549.775757   \n",
       "1                        2.353017                             1576.166671   \n",
       "2                        2.416800                             1601.556163   \n",
       "3                        2.262051                             1599.968720   \n",
       "4                        2.277073                             1601.339707   \n",
       "\n",
       "   primary_cleaner.state.floatbank8_a_level  \\\n",
       "0                               -498.912140   \n",
       "1                               -500.904965   \n",
       "2                               -499.997791   \n",
       "3                               -500.951778   \n",
       "4                               -498.975456   \n",
       "\n",
       "   primary_cleaner.state.floatbank8_b_air  \\\n",
       "0                             1551.434204   \n",
       "1                             1575.950626   \n",
       "2                             1600.386685   \n",
       "3                             1600.659236   \n",
       "4                             1601.437854   \n",
       "\n",
       "   primary_cleaner.state.floatbank8_b_level  \\\n",
       "0                               -516.403442   \n",
       "1                               -499.865889   \n",
       "2                               -500.607762   \n",
       "3                               -499.677094   \n",
       "4                               -500.323246   \n",
       "\n",
       "   primary_cleaner.state.floatbank8_c_air  \\\n",
       "0                             1549.873901   \n",
       "1                             1575.994189   \n",
       "2                             1602.003542   \n",
       "3                             1600.304144   \n",
       "4                             1599.581894   \n",
       "\n",
       "   primary_cleaner.state.floatbank8_c_level  \\\n",
       "0                               -498.666595   \n",
       "1                               -499.315107   \n",
       "2                               -500.870069   \n",
       "3                               -500.727997   \n",
       "4                               -500.888152   \n",
       "\n",
       "   primary_cleaner.state.floatbank8_d_air  \\\n",
       "0                             1554.367432   \n",
       "1                             1574.479259   \n",
       "2                             1599.541515   \n",
       "3                             1600.449520   \n",
       "4                             1602.649541   \n",
       "\n",
       "   primary_cleaner.state.floatbank8_d_level  \\\n",
       "0                               -493.428131   \n",
       "1                               -498.931665   \n",
       "2                               -499.827444   \n",
       "3                               -500.052575   \n",
       "4                               -500.593010   \n",
       "\n",
       "   rougher.calculation.sulfate_to_au_concentrate  \\\n",
       "0                                   41885.707031   \n",
       "1                                   42050.861809   \n",
       "2                                   42018.101184   \n",
       "3                                   42029.447991   \n",
       "4                                   42125.354245   \n",
       "\n",
       "   rougher.calculation.floatbank10_sulfate_to_au_feed  \\\n",
       "0                                        3481.779053    \n",
       "1                                        3498.370979    \n",
       "2                                        3495.348910    \n",
       "3                                        3498.578313    \n",
       "4                                        3494.800771    \n",
       "\n",
       "   rougher.calculation.floatbank11_sulfate_to_au_feed  \\\n",
       "0                                        3520.337158    \n",
       "1                                        3489.981857    \n",
       "2                                        3502.359819    \n",
       "3                                        3499.162912    \n",
       "4                                        3506.679315    \n",
       "\n",
       "   rougher.calculation.au_pb_ratio  rougher.input.feed_ag  \\\n",
       "0                         2.838687               6.100378   \n",
       "1                         2.858998               6.161113   \n",
       "2                         2.945989               6.116455   \n",
       "3                         3.002340               6.043309   \n",
       "4                         3.169615               6.060915   \n",
       "\n",
       "   rougher.input.feed_pb  rougher.input.feed_rate  rougher.input.feed_size  \\\n",
       "0               2.284912               523.546326                55.486599   \n",
       "1               2.266033               525.290581                57.278666   \n",
       "2               2.159622               530.026610                57.510649   \n",
       "3               2.037807               542.590390                57.792734   \n",
       "4               1.786875               540.531893                56.047189   \n",
       "\n",
       "   rougher.input.feed_sol  rougher.input.feed_au  \\\n",
       "0               36.808594               6.486150   \n",
       "1               35.753385               6.478583   \n",
       "2               35.971630               6.362222   \n",
       "3               36.862241               6.118189   \n",
       "4               34.347666               5.663707   \n",
       "\n",
       "   rougher.input.floatbank10_sulfate  rougher.input.floatbank10_xanthate  \\\n",
       "0                          11.986616                            6.007990   \n",
       "1                          11.971193                            6.005766   \n",
       "2                          11.920603                            6.197377   \n",
       "3                          11.630094                            6.203177   \n",
       "4                          10.957755                            6.198826   \n",
       "\n",
       "   rougher.input.floatbank11_sulfate  rougher.input.floatbank11_xanthate  \\\n",
       "0                          11.836743                            6.005818   \n",
       "1                          11.996163                            6.012594   \n",
       "2                          11.920305                            6.204633   \n",
       "3                          11.692450                            6.196578   \n",
       "4                          10.960521                            6.194897   \n",
       "\n",
       "   rougher.output.concentrate_ag  rougher.output.concentrate_pb  \\\n",
       "0                      11.500771                       7.101074   \n",
       "1                      11.615865                       7.278807   \n",
       "2                      11.695753                       7.216833   \n",
       "3                      11.915047                       7.175616   \n",
       "4                      12.411054                       7.240205   \n",
       "\n",
       "   rougher.output.concentrate_sol  rougher.output.concentrate_au  \\\n",
       "0                       28.029297                      19.793808   \n",
       "1                       28.067063                      20.050975   \n",
       "2                       27.454037                      19.737170   \n",
       "3                       27.341277                      19.320810   \n",
       "4                       27.041023                      19.216101   \n",
       "\n",
       "   rougher.output.recovery  rougher.output.tail_ag  rougher.output.tail_pb  \\\n",
       "0                87.107763                5.008018                0.508728   \n",
       "1                86.843261                4.955378                0.536689   \n",
       "2                86.842308                4.843460                0.546416   \n",
       "3                87.226430                4.655288                0.542525   \n",
       "4                86.688794                4.552800                0.515438   \n",
       "\n",
       "   rougher.output.tail_sol  rougher.output.tail_au  \\\n",
       "0                19.154297                1.170244   \n",
       "1                18.965234                1.184827   \n",
       "2                18.808533                1.162562   \n",
       "3                19.330200                1.079755   \n",
       "4                19.267422                1.012642   \n",
       "\n",
       "   rougher.state.floatbank10_a_air  rougher.state.floatbank10_a_level  \\\n",
       "0                       999.706909                        -404.066986   \n",
       "1                      1000.286398                        -400.065196   \n",
       "2                       999.719565                        -400.074028   \n",
       "3                       999.814770                        -400.200179   \n",
       "4                       999.678690                        -399.752729   \n",
       "\n",
       "   rougher.state.floatbank10_b_air  rougher.state.floatbank10_b_level  \\\n",
       "0                      1603.011353                        -434.715027   \n",
       "1                      1600.754587                        -449.953435   \n",
       "2                      1599.337330                        -450.008530   \n",
       "3                      1600.059442                        -450.619948   \n",
       "4                      1600.208824                        -449.599614   \n",
       "\n",
       "   rougher.state.floatbank10_c_air  rougher.state.floatbank10_c_level  \\\n",
       "0                      1602.375000                        -442.204468   \n",
       "1                      1600.479580                        -449.830646   \n",
       "2                      1599.672797                        -449.954491   \n",
       "3                      1600.012842                        -449.910497   \n",
       "4                      1600.357732                        -450.034364   \n",
       "\n",
       "   rougher.state.floatbank10_d_air  rougher.state.floatbank10_d_level  \\\n",
       "0                      1598.937256                        -451.294128   \n",
       "1                      1600.527589                        -449.953649   \n",
       "2                      1599.849325                        -449.954185   \n",
       "3                      1597.725177                        -450.130127   \n",
       "4                      1599.759049                        -449.909799   \n",
       "\n",
       "   rougher.state.floatbank10_e_air  rougher.state.floatbank10_e_level  \\\n",
       "0                      1404.472046                        -455.462982   \n",
       "1                      1399.227084                        -450.869848   \n",
       "2                      1399.180945                        -449.937588   \n",
       "3                      1400.943157                        -450.030142   \n",
       "4                      1401.560902                        -448.877187   \n",
       "\n",
       "   rougher.state.floatbank10_f_air  rougher.state.floatbank10_f_level  \\\n",
       "0                      1416.354980                        -451.939636   \n",
       "1                      1399.719514                        -450.119001   \n",
       "2                      1400.316682                        -450.527147   \n",
       "3                      1400.234743                        -449.790835   \n",
       "4                      1401.160227                        -450.407128   \n",
       "\n",
       "   secondary_cleaner.output.tail_ag  secondary_cleaner.output.tail_pb  \\\n",
       "0                         14.500184                          4.694824   \n",
       "1                         14.265474                          4.592547   \n",
       "2                         14.115662                          4.624775   \n",
       "3                         13.732071                          4.482453   \n",
       "4                         14.079996                          4.470737   \n",
       "\n",
       "   secondary_cleaner.output.tail_sol  secondary_cleaner.output.tail_au  \\\n",
       "0                           8.764648                          2.606185   \n",
       "1                           9.001494                          2.488248   \n",
       "2                           8.842896                          2.458187   \n",
       "3                           9.122857                          2.322062   \n",
       "4                           8.871028                          2.330448   \n",
       "\n",
       "   secondary_cleaner.state.floatbank2_a_air  \\\n",
       "0                                 25.853109   \n",
       "1                                 25.880539   \n",
       "2                                 26.005245   \n",
       "3                                 25.942508   \n",
       "4                                 26.024787   \n",
       "\n",
       "   secondary_cleaner.state.floatbank2_a_level  \\\n",
       "0                                 -498.526489   \n",
       "1                                 -499.989656   \n",
       "2                                 -499.929616   \n",
       "3                                 -499.176749   \n",
       "4                                 -500.279091   \n",
       "\n",
       "   secondary_cleaner.state.floatbank2_b_air  \\\n",
       "0                                 23.893660   \n",
       "1                                 23.889530   \n",
       "2                                 23.886657   \n",
       "3                                 23.955516   \n",
       "4                                 23.955345   \n",
       "\n",
       "   secondary_cleaner.state.floatbank2_b_level  \\\n",
       "0                                 -501.406281   \n",
       "1                                 -500.372428   \n",
       "2                                 -499.951928   \n",
       "3                                 -499.848796   \n",
       "4                                 -500.593614   \n",
       "\n",
       "   secondary_cleaner.state.floatbank3_a_air  \\\n",
       "0                                 23.961798   \n",
       "1                                 23.970550   \n",
       "2                                 23.913535   \n",
       "3                                 23.966838   \n",
       "4                                 23.985703   \n",
       "\n",
       "   secondary_cleaner.state.floatbank3_a_level  \\\n",
       "0                                 -495.262817   \n",
       "1                                 -500.085473   \n",
       "2                                 -499.442343   \n",
       "3                                 -500.008812   \n",
       "4                                 -500.083811   \n",
       "\n",
       "   secondary_cleaner.state.floatbank3_b_air  \\\n",
       "0                                 21.940409   \n",
       "1                                 22.085714   \n",
       "2                                 23.957717   \n",
       "3                                 23.954443   \n",
       "4                                 23.958945   \n",
       "\n",
       "   secondary_cleaner.state.floatbank3_b_level  \\\n",
       "0                                 -499.340973   \n",
       "1                                 -499.446897   \n",
       "2                                 -499.901982   \n",
       "3                                 -499.944710   \n",
       "4                                 -499.990309   \n",
       "\n",
       "   secondary_cleaner.state.floatbank4_a_air  \\\n",
       "0                                 14.016835   \n",
       "1                                 13.992281   \n",
       "2                                 14.015015   \n",
       "3                                 14.036510   \n",
       "4                                 14.027298   \n",
       "\n",
       "   secondary_cleaner.state.floatbank4_a_level  \\\n",
       "0                                 -502.488007   \n",
       "1                                 -505.503262   \n",
       "2                                 -502.520901   \n",
       "3                                 -500.857308   \n",
       "4                                 -499.838632   \n",
       "\n",
       "   secondary_cleaner.state.floatbank4_b_air  \\\n",
       "0                                 12.099931   \n",
       "1                                 11.950531   \n",
       "2                                 11.912783   \n",
       "3                                 11.999550   \n",
       "4                                 11.953070   \n",
       "\n",
       "   secondary_cleaner.state.floatbank4_b_level  \\\n",
       "0                                 -504.715942   \n",
       "1                                 -501.331529   \n",
       "2                                 -501.133383   \n",
       "3                                 -501.193686   \n",
       "4                                 -501.053894   \n",
       "\n",
       "   secondary_cleaner.state.floatbank5_a_air  \\\n",
       "0                                  9.925633   \n",
       "1                                 10.039245   \n",
       "2                                 10.070913   \n",
       "3                                  9.970366   \n",
       "4                                  9.925709   \n",
       "\n",
       "   secondary_cleaner.state.floatbank5_a_level  \\\n",
       "0                                 -498.310211   \n",
       "1                                 -500.169983   \n",
       "2                                 -500.129135   \n",
       "3                                 -499.201640   \n",
       "4                                 -501.686727   \n",
       "\n",
       "   secondary_cleaner.state.floatbank5_b_air  \\\n",
       "0                                  8.079666   \n",
       "1                                  7.984757   \n",
       "2                                  8.013877   \n",
       "3                                  7.977324   \n",
       "4                                  7.894242   \n",
       "\n",
       "   secondary_cleaner.state.floatbank5_b_level  \\\n",
       "0                                 -500.470978   \n",
       "1                                 -500.582168   \n",
       "2                                 -500.517572   \n",
       "3                                 -500.255908   \n",
       "4                                 -500.356035   \n",
       "\n",
       "   secondary_cleaner.state.floatbank6_a_air  \\\n",
       "0                                 14.151341   \n",
       "1                                 13.998353   \n",
       "2                                 14.028663   \n",
       "3                                 14.005551   \n",
       "4                                 13.996647   \n",
       "\n",
       "   secondary_cleaner.state.floatbank6_a_level  \n",
       "0                                 -605.841980  \n",
       "1                                 -599.787184  \n",
       "2                                 -601.427363  \n",
       "3                                 -599.996129  \n",
       "4                                 -601.496691  "
      ]
     },
     "execution_count": 4,
     "metadata": {},
     "output_type": "execute_result"
    }
   ],
   "source": [
    "# Выводим первые 5 строк обучающей выборки.\n",
    "data_train.head()"
   ]
  },
  {
   "cell_type": "code",
   "execution_count": 5,
   "id": "d63598e2",
   "metadata": {
    "scrolled": false
   },
   "outputs": [
    {
     "data": {
      "text/html": [
       "<div>\n",
       "<style scoped>\n",
       "    .dataframe tbody tr th:only-of-type {\n",
       "        vertical-align: middle;\n",
       "    }\n",
       "\n",
       "    .dataframe tbody tr th {\n",
       "        vertical-align: top;\n",
       "    }\n",
       "\n",
       "    .dataframe thead th {\n",
       "        text-align: right;\n",
       "    }\n",
       "</style>\n",
       "<table border=\"1\" class=\"dataframe\">\n",
       "  <thead>\n",
       "    <tr style=\"text-align: right;\">\n",
       "      <th></th>\n",
       "      <th>date</th>\n",
       "      <th>primary_cleaner.input.sulfate</th>\n",
       "      <th>primary_cleaner.input.depressant</th>\n",
       "      <th>primary_cleaner.input.feed_size</th>\n",
       "      <th>primary_cleaner.input.xanthate</th>\n",
       "      <th>primary_cleaner.state.floatbank8_a_air</th>\n",
       "      <th>primary_cleaner.state.floatbank8_a_level</th>\n",
       "      <th>primary_cleaner.state.floatbank8_b_air</th>\n",
       "      <th>primary_cleaner.state.floatbank8_b_level</th>\n",
       "      <th>primary_cleaner.state.floatbank8_c_air</th>\n",
       "      <th>primary_cleaner.state.floatbank8_c_level</th>\n",
       "      <th>primary_cleaner.state.floatbank8_d_air</th>\n",
       "      <th>primary_cleaner.state.floatbank8_d_level</th>\n",
       "      <th>rougher.input.feed_ag</th>\n",
       "      <th>rougher.input.feed_pb</th>\n",
       "      <th>rougher.input.feed_rate</th>\n",
       "      <th>rougher.input.feed_size</th>\n",
       "      <th>rougher.input.feed_sol</th>\n",
       "      <th>rougher.input.feed_au</th>\n",
       "      <th>rougher.input.floatbank10_sulfate</th>\n",
       "      <th>rougher.input.floatbank10_xanthate</th>\n",
       "      <th>rougher.input.floatbank11_sulfate</th>\n",
       "      <th>rougher.input.floatbank11_xanthate</th>\n",
       "      <th>rougher.state.floatbank10_a_air</th>\n",
       "      <th>rougher.state.floatbank10_a_level</th>\n",
       "      <th>rougher.state.floatbank10_b_air</th>\n",
       "      <th>rougher.state.floatbank10_b_level</th>\n",
       "      <th>rougher.state.floatbank10_c_air</th>\n",
       "      <th>rougher.state.floatbank10_c_level</th>\n",
       "      <th>rougher.state.floatbank10_d_air</th>\n",
       "      <th>rougher.state.floatbank10_d_level</th>\n",
       "      <th>rougher.state.floatbank10_e_air</th>\n",
       "      <th>rougher.state.floatbank10_e_level</th>\n",
       "      <th>rougher.state.floatbank10_f_air</th>\n",
       "      <th>rougher.state.floatbank10_f_level</th>\n",
       "      <th>secondary_cleaner.state.floatbank2_a_air</th>\n",
       "      <th>secondary_cleaner.state.floatbank2_a_level</th>\n",
       "      <th>secondary_cleaner.state.floatbank2_b_air</th>\n",
       "      <th>secondary_cleaner.state.floatbank2_b_level</th>\n",
       "      <th>secondary_cleaner.state.floatbank3_a_air</th>\n",
       "      <th>secondary_cleaner.state.floatbank3_a_level</th>\n",
       "      <th>secondary_cleaner.state.floatbank3_b_air</th>\n",
       "      <th>secondary_cleaner.state.floatbank3_b_level</th>\n",
       "      <th>secondary_cleaner.state.floatbank4_a_air</th>\n",
       "      <th>secondary_cleaner.state.floatbank4_a_level</th>\n",
       "      <th>secondary_cleaner.state.floatbank4_b_air</th>\n",
       "      <th>secondary_cleaner.state.floatbank4_b_level</th>\n",
       "      <th>secondary_cleaner.state.floatbank5_a_air</th>\n",
       "      <th>secondary_cleaner.state.floatbank5_a_level</th>\n",
       "      <th>secondary_cleaner.state.floatbank5_b_air</th>\n",
       "      <th>secondary_cleaner.state.floatbank5_b_level</th>\n",
       "      <th>secondary_cleaner.state.floatbank6_a_air</th>\n",
       "      <th>secondary_cleaner.state.floatbank6_a_level</th>\n",
       "    </tr>\n",
       "  </thead>\n",
       "  <tbody>\n",
       "    <tr>\n",
       "      <th>0</th>\n",
       "      <td>2016-09-01 00:59:59</td>\n",
       "      <td>210.800909</td>\n",
       "      <td>14.993118</td>\n",
       "      <td>8.080000</td>\n",
       "      <td>1.005021</td>\n",
       "      <td>1398.981301</td>\n",
       "      <td>-500.225577</td>\n",
       "      <td>1399.144926</td>\n",
       "      <td>-499.919735</td>\n",
       "      <td>1400.102998</td>\n",
       "      <td>-500.704369</td>\n",
       "      <td>1399.001695</td>\n",
       "      <td>-499.485144</td>\n",
       "      <td>13.128569</td>\n",
       "      <td>5.636710</td>\n",
       "      <td>489.793655</td>\n",
       "      <td>62.710452</td>\n",
       "      <td>42.022440</td>\n",
       "      <td>12.084103</td>\n",
       "      <td>16.922877</td>\n",
       "      <td>6.153479</td>\n",
       "      <td>16.867518</td>\n",
       "      <td>6.150709</td>\n",
       "      <td>1001.849317</td>\n",
       "      <td>-350.301265</td>\n",
       "      <td>1249.738612</td>\n",
       "      <td>-399.107531</td>\n",
       "      <td>1249.750520</td>\n",
       "      <td>-399.396730</td>\n",
       "      <td>1198.287855</td>\n",
       "      <td>-399.488594</td>\n",
       "      <td>999.472250</td>\n",
       "      <td>-399.530962</td>\n",
       "      <td>949.566189</td>\n",
       "      <td>-398.180807</td>\n",
       "      <td>24.938200</td>\n",
       "      <td>-500.490963</td>\n",
       "      <td>14.947607</td>\n",
       "      <td>-500.013837</td>\n",
       "      <td>20.018166</td>\n",
       "      <td>-450.395995</td>\n",
       "      <td>13.987058</td>\n",
       "      <td>-449.831513</td>\n",
       "      <td>12.023554</td>\n",
       "      <td>-497.795834</td>\n",
       "      <td>8.016656</td>\n",
       "      <td>-501.289139</td>\n",
       "      <td>7.946562</td>\n",
       "      <td>-432.317850</td>\n",
       "      <td>4.872511</td>\n",
       "      <td>-500.037437</td>\n",
       "      <td>26.705889</td>\n",
       "      <td>-499.709414</td>\n",
       "    </tr>\n",
       "    <tr>\n",
       "      <th>1</th>\n",
       "      <td>2016-09-01 01:59:59</td>\n",
       "      <td>215.392455</td>\n",
       "      <td>14.987471</td>\n",
       "      <td>8.080000</td>\n",
       "      <td>0.990469</td>\n",
       "      <td>1398.777912</td>\n",
       "      <td>-500.057435</td>\n",
       "      <td>1398.055362</td>\n",
       "      <td>-499.778182</td>\n",
       "      <td>1396.151033</td>\n",
       "      <td>-499.240168</td>\n",
       "      <td>1399.508091</td>\n",
       "      <td>-500.416324</td>\n",
       "      <td>13.036280</td>\n",
       "      <td>5.526065</td>\n",
       "      <td>490.104534</td>\n",
       "      <td>61.961163</td>\n",
       "      <td>41.187903</td>\n",
       "      <td>11.918977</td>\n",
       "      <td>17.002532</td>\n",
       "      <td>5.999043</td>\n",
       "      <td>16.996063</td>\n",
       "      <td>6.002315</td>\n",
       "      <td>998.690785</td>\n",
       "      <td>-350.425704</td>\n",
       "      <td>1248.395457</td>\n",
       "      <td>-399.946025</td>\n",
       "      <td>1249.514451</td>\n",
       "      <td>-399.630810</td>\n",
       "      <td>1200.506459</td>\n",
       "      <td>-399.942434</td>\n",
       "      <td>1000.002114</td>\n",
       "      <td>-399.491528</td>\n",
       "      <td>950.200009</td>\n",
       "      <td>-405.787514</td>\n",
       "      <td>24.923466</td>\n",
       "      <td>-499.813963</td>\n",
       "      <td>14.930873</td>\n",
       "      <td>-500.764452</td>\n",
       "      <td>19.988503</td>\n",
       "      <td>-450.114024</td>\n",
       "      <td>14.092981</td>\n",
       "      <td>-450.059163</td>\n",
       "      <td>12.058140</td>\n",
       "      <td>-498.695773</td>\n",
       "      <td>8.130979</td>\n",
       "      <td>-499.634209</td>\n",
       "      <td>7.958270</td>\n",
       "      <td>-525.839648</td>\n",
       "      <td>4.878850</td>\n",
       "      <td>-500.162375</td>\n",
       "      <td>25.019940</td>\n",
       "      <td>-499.819438</td>\n",
       "    </tr>\n",
       "    <tr>\n",
       "      <th>2</th>\n",
       "      <td>2016-09-01 02:59:59</td>\n",
       "      <td>215.259946</td>\n",
       "      <td>12.884934</td>\n",
       "      <td>7.786667</td>\n",
       "      <td>0.996043</td>\n",
       "      <td>1398.493666</td>\n",
       "      <td>-500.868360</td>\n",
       "      <td>1398.860436</td>\n",
       "      <td>-499.764529</td>\n",
       "      <td>1398.075709</td>\n",
       "      <td>-502.151509</td>\n",
       "      <td>1399.497088</td>\n",
       "      <td>-499.715479</td>\n",
       "      <td>13.138412</td>\n",
       "      <td>5.426561</td>\n",
       "      <td>489.617969</td>\n",
       "      <td>66.903807</td>\n",
       "      <td>42.546294</td>\n",
       "      <td>12.091332</td>\n",
       "      <td>16.992520</td>\n",
       "      <td>5.850632</td>\n",
       "      <td>16.982096</td>\n",
       "      <td>5.853594</td>\n",
       "      <td>998.516720</td>\n",
       "      <td>-349.783538</td>\n",
       "      <td>1247.440748</td>\n",
       "      <td>-400.264330</td>\n",
       "      <td>1248.207204</td>\n",
       "      <td>-401.074405</td>\n",
       "      <td>1199.770026</td>\n",
       "      <td>-400.790582</td>\n",
       "      <td>999.925519</td>\n",
       "      <td>-399.236999</td>\n",
       "      <td>950.320481</td>\n",
       "      <td>-400.864340</td>\n",
       "      <td>24.908732</td>\n",
       "      <td>-500.304035</td>\n",
       "      <td>14.996511</td>\n",
       "      <td>-500.993821</td>\n",
       "      <td>20.039689</td>\n",
       "      <td>-450.263164</td>\n",
       "      <td>14.077881</td>\n",
       "      <td>-449.660997</td>\n",
       "      <td>11.962366</td>\n",
       "      <td>-498.767484</td>\n",
       "      <td>8.096893</td>\n",
       "      <td>-500.827423</td>\n",
       "      <td>8.071056</td>\n",
       "      <td>-500.801673</td>\n",
       "      <td>4.905125</td>\n",
       "      <td>-499.828510</td>\n",
       "      <td>24.994862</td>\n",
       "      <td>-500.622559</td>\n",
       "    </tr>\n",
       "    <tr>\n",
       "      <th>3</th>\n",
       "      <td>2016-09-01 03:59:59</td>\n",
       "      <td>215.336236</td>\n",
       "      <td>12.006805</td>\n",
       "      <td>7.640000</td>\n",
       "      <td>0.863514</td>\n",
       "      <td>1399.618111</td>\n",
       "      <td>-498.863574</td>\n",
       "      <td>1397.440120</td>\n",
       "      <td>-499.211024</td>\n",
       "      <td>1400.129303</td>\n",
       "      <td>-498.355873</td>\n",
       "      <td>1401.065165</td>\n",
       "      <td>-501.038738</td>\n",
       "      <td>12.400507</td>\n",
       "      <td>5.114758</td>\n",
       "      <td>476.618130</td>\n",
       "      <td>59.865919</td>\n",
       "      <td>41.060195</td>\n",
       "      <td>12.181597</td>\n",
       "      <td>16.532144</td>\n",
       "      <td>5.801935</td>\n",
       "      <td>16.515277</td>\n",
       "      <td>5.803657</td>\n",
       "      <td>1000.276604</td>\n",
       "      <td>-350.172597</td>\n",
       "      <td>1251.322675</td>\n",
       "      <td>-398.655289</td>\n",
       "      <td>1250.493702</td>\n",
       "      <td>-399.746728</td>\n",
       "      <td>1199.398691</td>\n",
       "      <td>-397.503052</td>\n",
       "      <td>1001.930679</td>\n",
       "      <td>-400.437573</td>\n",
       "      <td>950.735324</td>\n",
       "      <td>-399.802986</td>\n",
       "      <td>24.893998</td>\n",
       "      <td>-499.382374</td>\n",
       "      <td>14.916674</td>\n",
       "      <td>-499.862299</td>\n",
       "      <td>20.031100</td>\n",
       "      <td>-449.372570</td>\n",
       "      <td>14.013968</td>\n",
       "      <td>-449.526900</td>\n",
       "      <td>12.033091</td>\n",
       "      <td>-498.350935</td>\n",
       "      <td>8.074946</td>\n",
       "      <td>-499.474407</td>\n",
       "      <td>7.897085</td>\n",
       "      <td>-500.868509</td>\n",
       "      <td>4.931400</td>\n",
       "      <td>-499.963623</td>\n",
       "      <td>24.948919</td>\n",
       "      <td>-498.709987</td>\n",
       "    </tr>\n",
       "    <tr>\n",
       "      <th>4</th>\n",
       "      <td>2016-09-01 04:59:59</td>\n",
       "      <td>199.099327</td>\n",
       "      <td>10.682530</td>\n",
       "      <td>7.530000</td>\n",
       "      <td>0.805575</td>\n",
       "      <td>1401.268123</td>\n",
       "      <td>-500.808305</td>\n",
       "      <td>1398.128818</td>\n",
       "      <td>-499.504543</td>\n",
       "      <td>1402.172226</td>\n",
       "      <td>-500.810606</td>\n",
       "      <td>1399.480508</td>\n",
       "      <td>-499.374053</td>\n",
       "      <td>11.327427</td>\n",
       "      <td>4.767383</td>\n",
       "      <td>488.248117</td>\n",
       "      <td>63.315324</td>\n",
       "      <td>41.269161</td>\n",
       "      <td>11.290425</td>\n",
       "      <td>13.607257</td>\n",
       "      <td>5.738081</td>\n",
       "      <td>13.650053</td>\n",
       "      <td>5.739634</td>\n",
       "      <td>996.541302</td>\n",
       "      <td>-350.562517</td>\n",
       "      <td>1304.658848</td>\n",
       "      <td>-399.511519</td>\n",
       "      <td>1306.455515</td>\n",
       "      <td>-399.050685</td>\n",
       "      <td>1248.699349</td>\n",
       "      <td>-400.876894</td>\n",
       "      <td>1058.839106</td>\n",
       "      <td>-398.988239</td>\n",
       "      <td>949.645313</td>\n",
       "      <td>-399.277632</td>\n",
       "      <td>24.886905</td>\n",
       "      <td>-499.357375</td>\n",
       "      <td>14.979233</td>\n",
       "      <td>-500.186804</td>\n",
       "      <td>19.962364</td>\n",
       "      <td>-450.638828</td>\n",
       "      <td>14.009245</td>\n",
       "      <td>-450.022259</td>\n",
       "      <td>12.025367</td>\n",
       "      <td>-500.786497</td>\n",
       "      <td>8.054678</td>\n",
       "      <td>-500.397500</td>\n",
       "      <td>8.107890</td>\n",
       "      <td>-509.526725</td>\n",
       "      <td>4.957674</td>\n",
       "      <td>-500.360026</td>\n",
       "      <td>25.003331</td>\n",
       "      <td>-500.856333</td>\n",
       "    </tr>\n",
       "  </tbody>\n",
       "</table>\n",
       "</div>"
      ],
      "text/plain": [
       "                 date  primary_cleaner.input.sulfate  \\\n",
       "0 2016-09-01 00:59:59                     210.800909   \n",
       "1 2016-09-01 01:59:59                     215.392455   \n",
       "2 2016-09-01 02:59:59                     215.259946   \n",
       "3 2016-09-01 03:59:59                     215.336236   \n",
       "4 2016-09-01 04:59:59                     199.099327   \n",
       "\n",
       "   primary_cleaner.input.depressant  primary_cleaner.input.feed_size  \\\n",
       "0                         14.993118                         8.080000   \n",
       "1                         14.987471                         8.080000   \n",
       "2                         12.884934                         7.786667   \n",
       "3                         12.006805                         7.640000   \n",
       "4                         10.682530                         7.530000   \n",
       "\n",
       "   primary_cleaner.input.xanthate  primary_cleaner.state.floatbank8_a_air  \\\n",
       "0                        1.005021                             1398.981301   \n",
       "1                        0.990469                             1398.777912   \n",
       "2                        0.996043                             1398.493666   \n",
       "3                        0.863514                             1399.618111   \n",
       "4                        0.805575                             1401.268123   \n",
       "\n",
       "   primary_cleaner.state.floatbank8_a_level  \\\n",
       "0                               -500.225577   \n",
       "1                               -500.057435   \n",
       "2                               -500.868360   \n",
       "3                               -498.863574   \n",
       "4                               -500.808305   \n",
       "\n",
       "   primary_cleaner.state.floatbank8_b_air  \\\n",
       "0                             1399.144926   \n",
       "1                             1398.055362   \n",
       "2                             1398.860436   \n",
       "3                             1397.440120   \n",
       "4                             1398.128818   \n",
       "\n",
       "   primary_cleaner.state.floatbank8_b_level  \\\n",
       "0                               -499.919735   \n",
       "1                               -499.778182   \n",
       "2                               -499.764529   \n",
       "3                               -499.211024   \n",
       "4                               -499.504543   \n",
       "\n",
       "   primary_cleaner.state.floatbank8_c_air  \\\n",
       "0                             1400.102998   \n",
       "1                             1396.151033   \n",
       "2                             1398.075709   \n",
       "3                             1400.129303   \n",
       "4                             1402.172226   \n",
       "\n",
       "   primary_cleaner.state.floatbank8_c_level  \\\n",
       "0                               -500.704369   \n",
       "1                               -499.240168   \n",
       "2                               -502.151509   \n",
       "3                               -498.355873   \n",
       "4                               -500.810606   \n",
       "\n",
       "   primary_cleaner.state.floatbank8_d_air  \\\n",
       "0                             1399.001695   \n",
       "1                             1399.508091   \n",
       "2                             1399.497088   \n",
       "3                             1401.065165   \n",
       "4                             1399.480508   \n",
       "\n",
       "   primary_cleaner.state.floatbank8_d_level  rougher.input.feed_ag  \\\n",
       "0                               -499.485144              13.128569   \n",
       "1                               -500.416324              13.036280   \n",
       "2                               -499.715479              13.138412   \n",
       "3                               -501.038738              12.400507   \n",
       "4                               -499.374053              11.327427   \n",
       "\n",
       "   rougher.input.feed_pb  rougher.input.feed_rate  rougher.input.feed_size  \\\n",
       "0               5.636710               489.793655                62.710452   \n",
       "1               5.526065               490.104534                61.961163   \n",
       "2               5.426561               489.617969                66.903807   \n",
       "3               5.114758               476.618130                59.865919   \n",
       "4               4.767383               488.248117                63.315324   \n",
       "\n",
       "   rougher.input.feed_sol  rougher.input.feed_au  \\\n",
       "0               42.022440              12.084103   \n",
       "1               41.187903              11.918977   \n",
       "2               42.546294              12.091332   \n",
       "3               41.060195              12.181597   \n",
       "4               41.269161              11.290425   \n",
       "\n",
       "   rougher.input.floatbank10_sulfate  rougher.input.floatbank10_xanthate  \\\n",
       "0                          16.922877                            6.153479   \n",
       "1                          17.002532                            5.999043   \n",
       "2                          16.992520                            5.850632   \n",
       "3                          16.532144                            5.801935   \n",
       "4                          13.607257                            5.738081   \n",
       "\n",
       "   rougher.input.floatbank11_sulfate  rougher.input.floatbank11_xanthate  \\\n",
       "0                          16.867518                            6.150709   \n",
       "1                          16.996063                            6.002315   \n",
       "2                          16.982096                            5.853594   \n",
       "3                          16.515277                            5.803657   \n",
       "4                          13.650053                            5.739634   \n",
       "\n",
       "   rougher.state.floatbank10_a_air  rougher.state.floatbank10_a_level  \\\n",
       "0                      1001.849317                        -350.301265   \n",
       "1                       998.690785                        -350.425704   \n",
       "2                       998.516720                        -349.783538   \n",
       "3                      1000.276604                        -350.172597   \n",
       "4                       996.541302                        -350.562517   \n",
       "\n",
       "   rougher.state.floatbank10_b_air  rougher.state.floatbank10_b_level  \\\n",
       "0                      1249.738612                        -399.107531   \n",
       "1                      1248.395457                        -399.946025   \n",
       "2                      1247.440748                        -400.264330   \n",
       "3                      1251.322675                        -398.655289   \n",
       "4                      1304.658848                        -399.511519   \n",
       "\n",
       "   rougher.state.floatbank10_c_air  rougher.state.floatbank10_c_level  \\\n",
       "0                      1249.750520                        -399.396730   \n",
       "1                      1249.514451                        -399.630810   \n",
       "2                      1248.207204                        -401.074405   \n",
       "3                      1250.493702                        -399.746728   \n",
       "4                      1306.455515                        -399.050685   \n",
       "\n",
       "   rougher.state.floatbank10_d_air  rougher.state.floatbank10_d_level  \\\n",
       "0                      1198.287855                        -399.488594   \n",
       "1                      1200.506459                        -399.942434   \n",
       "2                      1199.770026                        -400.790582   \n",
       "3                      1199.398691                        -397.503052   \n",
       "4                      1248.699349                        -400.876894   \n",
       "\n",
       "   rougher.state.floatbank10_e_air  rougher.state.floatbank10_e_level  \\\n",
       "0                       999.472250                        -399.530962   \n",
       "1                      1000.002114                        -399.491528   \n",
       "2                       999.925519                        -399.236999   \n",
       "3                      1001.930679                        -400.437573   \n",
       "4                      1058.839106                        -398.988239   \n",
       "\n",
       "   rougher.state.floatbank10_f_air  rougher.state.floatbank10_f_level  \\\n",
       "0                       949.566189                        -398.180807   \n",
       "1                       950.200009                        -405.787514   \n",
       "2                       950.320481                        -400.864340   \n",
       "3                       950.735324                        -399.802986   \n",
       "4                       949.645313                        -399.277632   \n",
       "\n",
       "   secondary_cleaner.state.floatbank2_a_air  \\\n",
       "0                                 24.938200   \n",
       "1                                 24.923466   \n",
       "2                                 24.908732   \n",
       "3                                 24.893998   \n",
       "4                                 24.886905   \n",
       "\n",
       "   secondary_cleaner.state.floatbank2_a_level  \\\n",
       "0                                 -500.490963   \n",
       "1                                 -499.813963   \n",
       "2                                 -500.304035   \n",
       "3                                 -499.382374   \n",
       "4                                 -499.357375   \n",
       "\n",
       "   secondary_cleaner.state.floatbank2_b_air  \\\n",
       "0                                 14.947607   \n",
       "1                                 14.930873   \n",
       "2                                 14.996511   \n",
       "3                                 14.916674   \n",
       "4                                 14.979233   \n",
       "\n",
       "   secondary_cleaner.state.floatbank2_b_level  \\\n",
       "0                                 -500.013837   \n",
       "1                                 -500.764452   \n",
       "2                                 -500.993821   \n",
       "3                                 -499.862299   \n",
       "4                                 -500.186804   \n",
       "\n",
       "   secondary_cleaner.state.floatbank3_a_air  \\\n",
       "0                                 20.018166   \n",
       "1                                 19.988503   \n",
       "2                                 20.039689   \n",
       "3                                 20.031100   \n",
       "4                                 19.962364   \n",
       "\n",
       "   secondary_cleaner.state.floatbank3_a_level  \\\n",
       "0                                 -450.395995   \n",
       "1                                 -450.114024   \n",
       "2                                 -450.263164   \n",
       "3                                 -449.372570   \n",
       "4                                 -450.638828   \n",
       "\n",
       "   secondary_cleaner.state.floatbank3_b_air  \\\n",
       "0                                 13.987058   \n",
       "1                                 14.092981   \n",
       "2                                 14.077881   \n",
       "3                                 14.013968   \n",
       "4                                 14.009245   \n",
       "\n",
       "   secondary_cleaner.state.floatbank3_b_level  \\\n",
       "0                                 -449.831513   \n",
       "1                                 -450.059163   \n",
       "2                                 -449.660997   \n",
       "3                                 -449.526900   \n",
       "4                                 -450.022259   \n",
       "\n",
       "   secondary_cleaner.state.floatbank4_a_air  \\\n",
       "0                                 12.023554   \n",
       "1                                 12.058140   \n",
       "2                                 11.962366   \n",
       "3                                 12.033091   \n",
       "4                                 12.025367   \n",
       "\n",
       "   secondary_cleaner.state.floatbank4_a_level  \\\n",
       "0                                 -497.795834   \n",
       "1                                 -498.695773   \n",
       "2                                 -498.767484   \n",
       "3                                 -498.350935   \n",
       "4                                 -500.786497   \n",
       "\n",
       "   secondary_cleaner.state.floatbank4_b_air  \\\n",
       "0                                  8.016656   \n",
       "1                                  8.130979   \n",
       "2                                  8.096893   \n",
       "3                                  8.074946   \n",
       "4                                  8.054678   \n",
       "\n",
       "   secondary_cleaner.state.floatbank4_b_level  \\\n",
       "0                                 -501.289139   \n",
       "1                                 -499.634209   \n",
       "2                                 -500.827423   \n",
       "3                                 -499.474407   \n",
       "4                                 -500.397500   \n",
       "\n",
       "   secondary_cleaner.state.floatbank5_a_air  \\\n",
       "0                                  7.946562   \n",
       "1                                  7.958270   \n",
       "2                                  8.071056   \n",
       "3                                  7.897085   \n",
       "4                                  8.107890   \n",
       "\n",
       "   secondary_cleaner.state.floatbank5_a_level  \\\n",
       "0                                 -432.317850   \n",
       "1                                 -525.839648   \n",
       "2                                 -500.801673   \n",
       "3                                 -500.868509   \n",
       "4                                 -509.526725   \n",
       "\n",
       "   secondary_cleaner.state.floatbank5_b_air  \\\n",
       "0                                  4.872511   \n",
       "1                                  4.878850   \n",
       "2                                  4.905125   \n",
       "3                                  4.931400   \n",
       "4                                  4.957674   \n",
       "\n",
       "   secondary_cleaner.state.floatbank5_b_level  \\\n",
       "0                                 -500.037437   \n",
       "1                                 -500.162375   \n",
       "2                                 -499.828510   \n",
       "3                                 -499.963623   \n",
       "4                                 -500.360026   \n",
       "\n",
       "   secondary_cleaner.state.floatbank6_a_air  \\\n",
       "0                                 26.705889   \n",
       "1                                 25.019940   \n",
       "2                                 24.994862   \n",
       "3                                 24.948919   \n",
       "4                                 25.003331   \n",
       "\n",
       "   secondary_cleaner.state.floatbank6_a_level  \n",
       "0                                 -499.709414  \n",
       "1                                 -499.819438  \n",
       "2                                 -500.622559  \n",
       "3                                 -498.709987  \n",
       "4                                 -500.856333  "
      ]
     },
     "execution_count": 5,
     "metadata": {},
     "output_type": "execute_result"
    }
   ],
   "source": [
    "# Выводим первые 5 строк тестовой выборки.\n",
    "data_test.head()"
   ]
  },
  {
   "cell_type": "code",
   "execution_count": 6,
   "id": "845a04f0",
   "metadata": {
    "scrolled": false
   },
   "outputs": [
    {
     "name": "stdout",
     "output_type": "stream",
     "text": [
      "Количество строк и столбцов в датасете \"Исходные данные\": (19439, 87)\n",
      "------------------------------\n",
      "Пропуски в датасете \"Исходные данные\":\n",
      "date                                            0\n",
      "final.output.concentrate_ag                     1\n",
      "final.output.concentrate_pb                     1\n",
      "final.output.concentrate_sol                  211\n",
      "final.output.concentrate_au                     0\n",
      "                                             ... \n",
      "secondary_cleaner.state.floatbank5_a_level      1\n",
      "secondary_cleaner.state.floatbank5_b_air        1\n",
      "secondary_cleaner.state.floatbank5_b_level      1\n",
      "secondary_cleaner.state.floatbank6_a_air        2\n",
      "secondary_cleaner.state.floatbank6_a_level      1\n",
      "Length: 87, dtype: int64\n",
      "------------------------------\n",
      "Количество явных дубликатов в датасете \"Исходные данные\": 0\n",
      "------------------------------\n",
      "Информация о типах данных в датасете \"Исходные данные\":\n",
      "date                                          datetime64[ns]\n",
      "final.output.concentrate_ag                          float64\n",
      "final.output.concentrate_pb                          float64\n",
      "final.output.concentrate_sol                         float64\n",
      "final.output.concentrate_au                          float64\n",
      "                                                   ...      \n",
      "secondary_cleaner.state.floatbank5_a_level           float64\n",
      "secondary_cleaner.state.floatbank5_b_air             float64\n",
      "secondary_cleaner.state.floatbank5_b_level           float64\n",
      "secondary_cleaner.state.floatbank6_a_air             float64\n",
      "secondary_cleaner.state.floatbank6_a_level           float64\n",
      "Length: 87, dtype: object\n",
      "<--><--><--><--><--><--><--><--><--><--><--><--><--><--><--> \n",
      "\n",
      "Количество строк и столбцов в датасете \"Обучающая выборка\": (14149, 87)\n",
      "------------------------------\n",
      "Пропуски в датасете \"Обучающая выборка\":\n",
      "date                                            0\n",
      "final.output.concentrate_ag                     1\n",
      "final.output.concentrate_pb                     1\n",
      "final.output.concentrate_sol                  211\n",
      "final.output.concentrate_au                     0\n",
      "                                             ... \n",
      "secondary_cleaner.state.floatbank5_a_level      1\n",
      "secondary_cleaner.state.floatbank5_b_air        1\n",
      "secondary_cleaner.state.floatbank5_b_level      1\n",
      "secondary_cleaner.state.floatbank6_a_air        2\n",
      "secondary_cleaner.state.floatbank6_a_level      1\n",
      "Length: 87, dtype: int64\n",
      "------------------------------\n",
      "Количество явных дубликатов в датасете \"Обучающая выборка\": 0\n",
      "------------------------------\n",
      "Информация о типах данных в датасете \"Обучающая выборка\":\n",
      "date                                          datetime64[ns]\n",
      "final.output.concentrate_ag                          float64\n",
      "final.output.concentrate_pb                          float64\n",
      "final.output.concentrate_sol                         float64\n",
      "final.output.concentrate_au                          float64\n",
      "                                                   ...      \n",
      "secondary_cleaner.state.floatbank5_a_level           float64\n",
      "secondary_cleaner.state.floatbank5_b_air             float64\n",
      "secondary_cleaner.state.floatbank5_b_level           float64\n",
      "secondary_cleaner.state.floatbank6_a_air             float64\n",
      "secondary_cleaner.state.floatbank6_a_level           float64\n",
      "Length: 87, dtype: object\n",
      "<--><--><--><--><--><--><--><--><--><--><--><--><--><--><--> \n",
      "\n",
      "Количество строк и столбцов в датасете \"Тестовая выборка\": (5290, 53)\n",
      "------------------------------\n",
      "Пропуски в датасете \"Тестовая выборка\":\n",
      "date                                           0\n",
      "primary_cleaner.input.sulfate                  4\n",
      "primary_cleaner.input.depressant               5\n",
      "primary_cleaner.input.feed_size                0\n",
      "primary_cleaner.input.xanthate                 4\n",
      "primary_cleaner.state.floatbank8_a_air         0\n",
      "primary_cleaner.state.floatbank8_a_level       0\n",
      "primary_cleaner.state.floatbank8_b_air         0\n",
      "primary_cleaner.state.floatbank8_b_level       0\n",
      "primary_cleaner.state.floatbank8_c_air         0\n",
      "primary_cleaner.state.floatbank8_c_level       0\n",
      "primary_cleaner.state.floatbank8_d_air         0\n",
      "primary_cleaner.state.floatbank8_d_level       0\n",
      "rougher.input.feed_ag                          0\n",
      "rougher.input.feed_pb                          0\n",
      "rougher.input.feed_rate                        3\n",
      "rougher.input.feed_size                        1\n",
      "rougher.input.feed_sol                        21\n",
      "rougher.input.feed_au                          0\n",
      "rougher.input.floatbank10_sulfate              5\n",
      "rougher.input.floatbank10_xanthate             0\n",
      "rougher.input.floatbank11_sulfate              8\n",
      "rougher.input.floatbank11_xanthate            25\n",
      "rougher.state.floatbank10_a_air                0\n",
      "rougher.state.floatbank10_a_level              0\n",
      "rougher.state.floatbank10_b_air                0\n",
      "rougher.state.floatbank10_b_level              0\n",
      "rougher.state.floatbank10_c_air                0\n",
      "rougher.state.floatbank10_c_level              0\n",
      "rougher.state.floatbank10_d_air                0\n",
      "rougher.state.floatbank10_d_level              0\n",
      "rougher.state.floatbank10_e_air                0\n",
      "rougher.state.floatbank10_e_level              0\n",
      "rougher.state.floatbank10_f_air                0\n",
      "rougher.state.floatbank10_f_level              0\n",
      "secondary_cleaner.state.floatbank2_a_air       3\n",
      "secondary_cleaner.state.floatbank2_a_level     0\n",
      "secondary_cleaner.state.floatbank2_b_air       2\n",
      "secondary_cleaner.state.floatbank2_b_level     0\n",
      "secondary_cleaner.state.floatbank3_a_air       9\n",
      "secondary_cleaner.state.floatbank3_a_level     0\n",
      "secondary_cleaner.state.floatbank3_b_air       0\n",
      "secondary_cleaner.state.floatbank3_b_level     0\n",
      "secondary_cleaner.state.floatbank4_a_air       0\n",
      "secondary_cleaner.state.floatbank4_a_level     0\n",
      "secondary_cleaner.state.floatbank4_b_air       0\n",
      "secondary_cleaner.state.floatbank4_b_level     0\n",
      "secondary_cleaner.state.floatbank5_a_air       0\n",
      "secondary_cleaner.state.floatbank5_a_level     0\n",
      "secondary_cleaner.state.floatbank5_b_air       0\n",
      "secondary_cleaner.state.floatbank5_b_level     0\n",
      "secondary_cleaner.state.floatbank6_a_air       0\n",
      "secondary_cleaner.state.floatbank6_a_level     0\n",
      "dtype: int64\n",
      "------------------------------\n",
      "Количество явных дубликатов в датасете \"Тестовая выборка\": 0\n",
      "------------------------------\n",
      "Информация о типах данных в датасете \"Тестовая выборка\":\n",
      "date                                          datetime64[ns]\n",
      "primary_cleaner.input.sulfate                        float64\n",
      "primary_cleaner.input.depressant                     float64\n",
      "primary_cleaner.input.feed_size                      float64\n",
      "primary_cleaner.input.xanthate                       float64\n",
      "primary_cleaner.state.floatbank8_a_air               float64\n",
      "primary_cleaner.state.floatbank8_a_level             float64\n",
      "primary_cleaner.state.floatbank8_b_air               float64\n",
      "primary_cleaner.state.floatbank8_b_level             float64\n",
      "primary_cleaner.state.floatbank8_c_air               float64\n",
      "primary_cleaner.state.floatbank8_c_level             float64\n",
      "primary_cleaner.state.floatbank8_d_air               float64\n",
      "primary_cleaner.state.floatbank8_d_level             float64\n",
      "rougher.input.feed_ag                                float64\n",
      "rougher.input.feed_pb                                float64\n",
      "rougher.input.feed_rate                              float64\n",
      "rougher.input.feed_size                              float64\n",
      "rougher.input.feed_sol                               float64\n",
      "rougher.input.feed_au                                float64\n",
      "rougher.input.floatbank10_sulfate                    float64\n",
      "rougher.input.floatbank10_xanthate                   float64\n",
      "rougher.input.floatbank11_sulfate                    float64\n",
      "rougher.input.floatbank11_xanthate                   float64\n",
      "rougher.state.floatbank10_a_air                      float64\n",
      "rougher.state.floatbank10_a_level                    float64\n",
      "rougher.state.floatbank10_b_air                      float64\n",
      "rougher.state.floatbank10_b_level                    float64\n",
      "rougher.state.floatbank10_c_air                      float64\n",
      "rougher.state.floatbank10_c_level                    float64\n",
      "rougher.state.floatbank10_d_air                      float64\n",
      "rougher.state.floatbank10_d_level                    float64\n",
      "rougher.state.floatbank10_e_air                      float64\n",
      "rougher.state.floatbank10_e_level                    float64\n",
      "rougher.state.floatbank10_f_air                      float64\n",
      "rougher.state.floatbank10_f_level                    float64\n",
      "secondary_cleaner.state.floatbank2_a_air             float64\n",
      "secondary_cleaner.state.floatbank2_a_level           float64\n",
      "secondary_cleaner.state.floatbank2_b_air             float64\n",
      "secondary_cleaner.state.floatbank2_b_level           float64\n",
      "secondary_cleaner.state.floatbank3_a_air             float64\n",
      "secondary_cleaner.state.floatbank3_a_level           float64\n",
      "secondary_cleaner.state.floatbank3_b_air             float64\n",
      "secondary_cleaner.state.floatbank3_b_level           float64\n",
      "secondary_cleaner.state.floatbank4_a_air             float64\n",
      "secondary_cleaner.state.floatbank4_a_level           float64\n",
      "secondary_cleaner.state.floatbank4_b_air             float64\n",
      "secondary_cleaner.state.floatbank4_b_level           float64\n",
      "secondary_cleaner.state.floatbank5_a_air             float64\n",
      "secondary_cleaner.state.floatbank5_a_level           float64\n",
      "secondary_cleaner.state.floatbank5_b_air             float64\n",
      "secondary_cleaner.state.floatbank5_b_level           float64\n",
      "secondary_cleaner.state.floatbank6_a_air             float64\n",
      "secondary_cleaner.state.floatbank6_a_level           float64\n",
      "dtype: object\n",
      "<--><--><--><--><--><--><--><--><--><--><--><--><--><--><--> \n",
      "\n"
     ]
    }
   ],
   "source": [
    "# Цикл для получения информации о датасетах.\n",
    "data_all = [data_full, data_train, data_test]\n",
    "data_names = ['Исходные данные', 'Обучающая выборка', 'Тестовая выборка']\n",
    "\n",
    "for i in range(len(data_all)):\n",
    "        print(f'Количество строк и столбцов в датасете \"{data_names[i]}\": {data_all[i].shape}')\n",
    "        print('-' * 30)\n",
    "        print(f'Пропуски в датасете \"{data_names[i]}\":\\n{data_all[i].isna().sum()}')\n",
    "        print('-' * 30)\n",
    "        print(f'Количество явных дубликатов в датасете \"{data_names[i]}\": {data_all[i].duplicated().sum()}')\n",
    "        print('-' * 30)\n",
    "        print(f'Информация о типах данных в датасете \"{data_names[i]}\":\\n{data_all[i].dtypes}')\n",
    "        print('<-->' * 15,'\\n')        "
   ]
  },
  {
   "cell_type": "markdown",
   "id": "ccd65122",
   "metadata": {},
   "source": [
    " <div class=\"alert alert-info\"><b>Наблюдения:</b>\n",
    "   \n",
    "По результатам получения информации о датасетах прослеживается:\n",
    "* В данных имеются пропуски\n",
    "* В тестовой выборке отсутствуют некоторые признаки\n",
    "* Явных дубликатов в датасетах не выявлено\n",
    "    \n",
    "</div>"
   ]
  },
  {
   "cell_type": "code",
   "execution_count": 7,
   "id": "10be374d",
   "metadata": {},
   "outputs": [],
   "source": [
    "# Заполним пропуски в датасетах ближайшими значениями из предыдущих строк (метод - 'ffill').\n",
    "data_full = data_full.fillna(method='ffill')\n",
    "data_train = data_train.fillna(method='ffill')\n",
    "data_test = data_test.fillna(method='ffill')"
   ]
  },
  {
   "cell_type": "code",
   "execution_count": 8,
   "id": "13297c4e",
   "metadata": {},
   "outputs": [
    {
     "name": "stdout",
     "output_type": "stream",
     "text": [
      "Значение MAE: 9.73512347450521e-15\n"
     ]
    }
   ],
   "source": [
    "# Эффективность обогащения рассчитывается по формуле: recovery = ((c*(f-t))/(f*(c-t))) * 100\n",
    "c = data_train['rougher.output.concentrate_au']\n",
    "f = data_train['rougher.input.feed_au']\n",
    "t = data_train['rougher.output.tail_au']\n",
    "recovery = ((c*(f-t))/(f*(c-t))) * 100\n",
    "print('Значение MAE:', mean_absolute_error(data_train['rougher.output.recovery'], recovery))"
   ]
  },
  {
   "cell_type": "markdown",
   "id": "65d3f761",
   "metadata": {},
   "source": [
    " <div class=\"alert alert-info\"><b>Наблюдения:</b>\n",
    "   \n",
    "Отклонение значения признака 'rougher.output.recovery' от расчетных значений крайне мало, значит эффективность обогащения рассчитана правильно, а применение метода 'ffill' при заполнении пропусков не сильно повлияло на данные в целом.\n",
    "</div>"
   ]
  },
  {
   "cell_type": "code",
   "execution_count": 9,
   "id": "6518822c",
   "metadata": {},
   "outputs": [
    {
     "data": {
      "text/plain": [
       "{'final.output.concentrate_ag',\n",
       " 'final.output.concentrate_au',\n",
       " 'final.output.concentrate_pb',\n",
       " 'final.output.concentrate_sol',\n",
       " 'final.output.recovery',\n",
       " 'final.output.tail_ag',\n",
       " 'final.output.tail_au',\n",
       " 'final.output.tail_pb',\n",
       " 'final.output.tail_sol',\n",
       " 'primary_cleaner.output.concentrate_ag',\n",
       " 'primary_cleaner.output.concentrate_au',\n",
       " 'primary_cleaner.output.concentrate_pb',\n",
       " 'primary_cleaner.output.concentrate_sol',\n",
       " 'primary_cleaner.output.tail_ag',\n",
       " 'primary_cleaner.output.tail_au',\n",
       " 'primary_cleaner.output.tail_pb',\n",
       " 'primary_cleaner.output.tail_sol',\n",
       " 'rougher.calculation.au_pb_ratio',\n",
       " 'rougher.calculation.floatbank10_sulfate_to_au_feed',\n",
       " 'rougher.calculation.floatbank11_sulfate_to_au_feed',\n",
       " 'rougher.calculation.sulfate_to_au_concentrate',\n",
       " 'rougher.output.concentrate_ag',\n",
       " 'rougher.output.concentrate_au',\n",
       " 'rougher.output.concentrate_pb',\n",
       " 'rougher.output.concentrate_sol',\n",
       " 'rougher.output.recovery',\n",
       " 'rougher.output.tail_ag',\n",
       " 'rougher.output.tail_au',\n",
       " 'rougher.output.tail_pb',\n",
       " 'rougher.output.tail_sol',\n",
       " 'secondary_cleaner.output.tail_ag',\n",
       " 'secondary_cleaner.output.tail_au',\n",
       " 'secondary_cleaner.output.tail_pb',\n",
       " 'secondary_cleaner.output.tail_sol'}"
      ]
     },
     "execution_count": 9,
     "metadata": {},
     "output_type": "execute_result"
    }
   ],
   "source": [
    "# Узнаем, какие признаки отсутствуют в тестовой выборке.\n",
    "columns_absent = set(data_train.columns) - set(data_test.columns)\n",
    "columns_absent"
   ]
  },
  {
   "cell_type": "markdown",
   "id": "abcf119a",
   "metadata": {},
   "source": [
    " <div class=\"alert alert-info\"><b>Наблюдения:</b>\n",
    "   \n",
    "В тестовой выборке отсутствуют:\n",
    "* признаки, описывающиме характеристики полезных металлов в концентратах и хвостах после каждого из этапов очистки, а также на финальном этапе;\n",
    "* значения эффективности обогащения на этапе флотации и на финальном этапе;\n",
    "* расчетные характеристики на этапе флотации.\n",
    "    \n",
    "</div>"
   ]
  },
  {
   "cell_type": "code",
   "execution_count": 10,
   "id": "d4ea6ec9",
   "metadata": {},
   "outputs": [
    {
     "data": {
      "text/plain": [
       "primary_cleaner.output.tail_pb                        float64\n",
       "secondary_cleaner.output.tail_pb                      float64\n",
       "primary_cleaner.output.tail_ag                        float64\n",
       "rougher.output.tail_au                                float64\n",
       "rougher.output.concentrate_au                         float64\n",
       "final.output.tail_sol                                 float64\n",
       "final.output.tail_pb                                  float64\n",
       "rougher.calculation.floatbank10_sulfate_to_au_feed    float64\n",
       "primary_cleaner.output.concentrate_pb                 float64\n",
       "rougher.output.tail_pb                                float64\n",
       "rougher.output.concentrate_sol                        float64\n",
       "primary_cleaner.output.tail_sol                       float64\n",
       "rougher.output.tail_sol                               float64\n",
       "final.output.concentrate_au                           float64\n",
       "rougher.calculation.au_pb_ratio                       float64\n",
       "final.output.concentrate_ag                           float64\n",
       "rougher.output.tail_ag                                float64\n",
       "secondary_cleaner.output.tail_au                      float64\n",
       "secondary_cleaner.output.tail_ag                      float64\n",
       "final.output.concentrate_pb                           float64\n",
       "rougher.output.concentrate_ag                         float64\n",
       "secondary_cleaner.output.tail_sol                     float64\n",
       "primary_cleaner.output.concentrate_au                 float64\n",
       "final.output.concentrate_sol                          float64\n",
       "final.output.tail_au                                  float64\n",
       "rougher.output.recovery                               float64\n",
       "final.output.recovery                                 float64\n",
       "rougher.calculation.sulfate_to_au_concentrate         float64\n",
       "primary_cleaner.output.concentrate_sol                float64\n",
       "primary_cleaner.output.concentrate_ag                 float64\n",
       "primary_cleaner.output.tail_au                        float64\n",
       "rougher.output.concentrate_pb                         float64\n",
       "rougher.calculation.floatbank11_sulfate_to_au_feed    float64\n",
       "final.output.tail_ag                                  float64\n",
       "dtype: object"
      ]
     },
     "execution_count": 10,
     "metadata": {},
     "output_type": "execute_result"
    }
   ],
   "source": [
    "# Узнаем, к какому типу данных относятся значения отсутствующих признаков.\n",
    "data_train[columns_absent].dtypes"
   ]
  },
  {
   "cell_type": "markdown",
   "id": "55cd0a25",
   "metadata": {},
   "source": [
    " <div class=\"alert alert-info\"><b>Наблюдения:</b>\n",
    "   \n",
    "Значения отсутствующих в тестовой выборке признаков относятся к типу данных float64.\n",
    "    \n",
    "</div>"
   ]
  },
  {
   "cell_type": "markdown",
   "id": "6c16ee76",
   "metadata": {},
   "source": [
    " <div class=\"alert alert-info\"><b>Комментарий:</b>\n",
    "  \n",
    "Согласно условию задачи отсутствущие параметры замеряются и/или рассчитываются значительно позже.   \n",
    "В соответствии с целью исследования - предсказать коэффициент восстановления золота из золотосодержащей руды, указанные параметры и не должны присутствовать в тестовой выборке, поскольку данные значения не могут быть известны.\n",
    "    \n",
    "</div>"
   ]
  },
  {
   "cell_type": "code",
   "execution_count": 11,
   "id": "9ea9ce3e",
   "metadata": {
    "scrolled": false
   },
   "outputs": [
    {
     "data": {
      "text/plain": [
       "(5290, 55)"
      ]
     },
     "execution_count": 11,
     "metadata": {},
     "output_type": "execute_result"
    }
   ],
   "source": [
    "data_test = data_test.merge(data_full.loc[:, ['date','rougher.output.recovery','final.output.recovery']], on='date')\n",
    "data_test.shape"
   ]
  },
  {
   "cell_type": "markdown",
   "id": "6a735792",
   "metadata": {},
   "source": [
    "<div class=\"alert alert-info\"><b>Комментарий:</b>\n",
    "\n",
    "Поскольку целевыми признаками являются эффективность обогащения чернового концентрата (rougher.output.recovery) и эффективность обогащения финального концентрата (final.output.recovery), то их значения из исходного датасета для оценки качества модели добавим в тестовую выборку по колонке 'date'.\n",
    "\n",
    "</div>"
   ]
  },
  {
   "cell_type": "markdown",
   "id": "7a4c2bab",
   "metadata": {},
   "source": [
    "<div class=\"alert alert-info\"><b>Промежуточные выводы:</b>\n",
    "\n",
    "На данном этапе выполнены следующие действия:\n",
    "- признак 'date' при считывании всех трех датасетов сразу приведен к типу datetime64[ns].\n",
    "- исследованы типы данных в остальных признаках, типы данных соответствуют.\n",
    "- изучена информация о датасетах, в датасетах обнаружены пропуски.\n",
    "- согласно условию задачи \"соседние по времени параметры часто похожи\", на основании чего обнаруженные пропуски в датасетах заполнили ближайшими значениями из предыдущих строк (метод - 'ffill').\n",
    "- рассчитали эффективность обогащения на основе имеющихся данных по формуле и сравнили с имеющимися в обучающей выборке значениями ('rougher.output.recovery'). MAE составило 9.73512347450521e-15, что практически близко к нулю. Заполнение пропусков методом 'ffill' оправданно.\n",
    "- установили, что в тестовой выборке отсутствуют некоторые признаки, которые есть в обучающей выборке. Согласно условию задачи отсутствущие параметры замеряются и/или рассчитываются значительно позже. В результате чего пришли к выводу, что указанные параметры и не должны присутствовать в тестовой выборке.\n",
    "- дополнили тестовые данные столбцами с соответствующими значениями целевых признаков из исходного датасета.\n",
    "\n",
    "</div>"
   ]
  },
  {
   "cell_type": "markdown",
   "id": "93878012",
   "metadata": {},
   "source": [
    "***"
   ]
  },
  {
   "cell_type": "markdown",
   "id": "9d8f6046",
   "metadata": {},
   "source": [
    "### Анализ данных."
   ]
  },
  {
   "cell_type": "code",
   "execution_count": 12,
   "id": "bd93826a",
   "metadata": {
    "scrolled": false
   },
   "outputs": [
    {
     "data": {
      "text/html": [
       "<div>\n",
       "<style scoped>\n",
       "    .dataframe tbody tr th:only-of-type {\n",
       "        vertical-align: middle;\n",
       "    }\n",
       "\n",
       "    .dataframe tbody tr th {\n",
       "        vertical-align: top;\n",
       "    }\n",
       "\n",
       "    .dataframe thead th {\n",
       "        text-align: right;\n",
       "    }\n",
       "</style>\n",
       "<table border=\"1\" class=\"dataframe\">\n",
       "  <thead>\n",
       "    <tr style=\"text-align: right;\">\n",
       "      <th></th>\n",
       "      <th>count</th>\n",
       "      <th>mean</th>\n",
       "      <th>std</th>\n",
       "      <th>min</th>\n",
       "      <th>25%</th>\n",
       "      <th>50%</th>\n",
       "      <th>75%</th>\n",
       "      <th>max</th>\n",
       "    </tr>\n",
       "  </thead>\n",
       "  <tbody>\n",
       "    <tr>\n",
       "      <th>final.output.concentrate_ag</th>\n",
       "      <td>14149.0</td>\n",
       "      <td>5.141921</td>\n",
       "      <td>1.369603</td>\n",
       "      <td>0.000000</td>\n",
       "      <td>4.211500</td>\n",
       "      <td>4.994607</td>\n",
       "      <td>5.859495</td>\n",
       "      <td>16.001945</td>\n",
       "    </tr>\n",
       "    <tr>\n",
       "      <th>final.output.concentrate_pb</th>\n",
       "      <td>14149.0</td>\n",
       "      <td>10.132848</td>\n",
       "      <td>1.654925</td>\n",
       "      <td>0.000000</td>\n",
       "      <td>9.296833</td>\n",
       "      <td>10.297013</td>\n",
       "      <td>11.170578</td>\n",
       "      <td>17.031899</td>\n",
       "    </tr>\n",
       "    <tr>\n",
       "      <th>final.output.concentrate_sol</th>\n",
       "      <td>14149.0</td>\n",
       "      <td>9.109311</td>\n",
       "      <td>2.886929</td>\n",
       "      <td>0.000000</td>\n",
       "      <td>7.422466</td>\n",
       "      <td>8.801909</td>\n",
       "      <td>10.452148</td>\n",
       "      <td>18.124851</td>\n",
       "    </tr>\n",
       "    <tr>\n",
       "      <th>final.output.concentrate_au</th>\n",
       "      <td>14149.0</td>\n",
       "      <td>44.003792</td>\n",
       "      <td>4.905261</td>\n",
       "      <td>0.000000</td>\n",
       "      <td>43.276111</td>\n",
       "      <td>44.872436</td>\n",
       "      <td>46.166425</td>\n",
       "      <td>52.756638</td>\n",
       "    </tr>\n",
       "    <tr>\n",
       "      <th>final.output.recovery</th>\n",
       "      <td>14149.0</td>\n",
       "      <td>66.518832</td>\n",
       "      <td>10.295402</td>\n",
       "      <td>0.000000</td>\n",
       "      <td>62.545817</td>\n",
       "      <td>67.432775</td>\n",
       "      <td>72.346428</td>\n",
       "      <td>100.000000</td>\n",
       "    </tr>\n",
       "    <tr>\n",
       "      <th>...</th>\n",
       "      <td>...</td>\n",
       "      <td>...</td>\n",
       "      <td>...</td>\n",
       "      <td>...</td>\n",
       "      <td>...</td>\n",
       "      <td>...</td>\n",
       "      <td>...</td>\n",
       "      <td>...</td>\n",
       "    </tr>\n",
       "    <tr>\n",
       "      <th>secondary_cleaner.state.floatbank5_a_level</th>\n",
       "      <td>14149.0</td>\n",
       "      <td>-483.957839</td>\n",
       "      <td>37.892065</td>\n",
       "      <td>-797.142475</td>\n",
       "      <td>-500.363203</td>\n",
       "      <td>-499.702479</td>\n",
       "      <td>-487.864322</td>\n",
       "      <td>-275.073125</td>\n",
       "    </tr>\n",
       "    <tr>\n",
       "      <th>secondary_cleaner.state.floatbank5_b_air</th>\n",
       "      <td>14149.0</td>\n",
       "      <td>13.064236</td>\n",
       "      <td>5.765567</td>\n",
       "      <td>0.646208</td>\n",
       "      <td>8.994384</td>\n",
       "      <td>11.997537</td>\n",
       "      <td>17.982826</td>\n",
       "      <td>27.926001</td>\n",
       "    </tr>\n",
       "    <tr>\n",
       "      <th>secondary_cleaner.state.floatbank5_b_level</th>\n",
       "      <td>14149.0</td>\n",
       "      <td>-483.967726</td>\n",
       "      <td>39.206771</td>\n",
       "      <td>-800.006180</td>\n",
       "      <td>-500.105994</td>\n",
       "      <td>-499.914556</td>\n",
       "      <td>-453.274822</td>\n",
       "      <td>-157.396071</td>\n",
       "    </tr>\n",
       "    <tr>\n",
       "      <th>secondary_cleaner.state.floatbank6_a_air</th>\n",
       "      <td>14149.0</td>\n",
       "      <td>19.576675</td>\n",
       "      <td>5.764496</td>\n",
       "      <td>0.195324</td>\n",
       "      <td>14.989244</td>\n",
       "      <td>19.984165</td>\n",
       "      <td>24.991615</td>\n",
       "      <td>32.188906</td>\n",
       "    </tr>\n",
       "    <tr>\n",
       "      <th>secondary_cleaner.state.floatbank6_a_level</th>\n",
       "      <td>14149.0</td>\n",
       "      <td>-506.805007</td>\n",
       "      <td>37.086065</td>\n",
       "      <td>-809.398668</td>\n",
       "      <td>-500.745309</td>\n",
       "      <td>-500.061488</td>\n",
       "      <td>-499.536481</td>\n",
       "      <td>-104.427459</td>\n",
       "    </tr>\n",
       "  </tbody>\n",
       "</table>\n",
       "<p>86 rows × 8 columns</p>\n",
       "</div>"
      ],
      "text/plain": [
       "                                              count        mean        std  \\\n",
       "final.output.concentrate_ag                 14149.0    5.141921   1.369603   \n",
       "final.output.concentrate_pb                 14149.0   10.132848   1.654925   \n",
       "final.output.concentrate_sol                14149.0    9.109311   2.886929   \n",
       "final.output.concentrate_au                 14149.0   44.003792   4.905261   \n",
       "final.output.recovery                       14149.0   66.518832  10.295402   \n",
       "...                                             ...         ...        ...   \n",
       "secondary_cleaner.state.floatbank5_a_level  14149.0 -483.957839  37.892065   \n",
       "secondary_cleaner.state.floatbank5_b_air    14149.0   13.064236   5.765567   \n",
       "secondary_cleaner.state.floatbank5_b_level  14149.0 -483.967726  39.206771   \n",
       "secondary_cleaner.state.floatbank6_a_air    14149.0   19.576675   5.764496   \n",
       "secondary_cleaner.state.floatbank6_a_level  14149.0 -506.805007  37.086065   \n",
       "\n",
       "                                                   min         25%  \\\n",
       "final.output.concentrate_ag                   0.000000    4.211500   \n",
       "final.output.concentrate_pb                   0.000000    9.296833   \n",
       "final.output.concentrate_sol                  0.000000    7.422466   \n",
       "final.output.concentrate_au                   0.000000   43.276111   \n",
       "final.output.recovery                         0.000000   62.545817   \n",
       "...                                                ...         ...   \n",
       "secondary_cleaner.state.floatbank5_a_level -797.142475 -500.363203   \n",
       "secondary_cleaner.state.floatbank5_b_air      0.646208    8.994384   \n",
       "secondary_cleaner.state.floatbank5_b_level -800.006180 -500.105994   \n",
       "secondary_cleaner.state.floatbank6_a_air      0.195324   14.989244   \n",
       "secondary_cleaner.state.floatbank6_a_level -809.398668 -500.745309   \n",
       "\n",
       "                                                   50%         75%         max  \n",
       "final.output.concentrate_ag                   4.994607    5.859495   16.001945  \n",
       "final.output.concentrate_pb                  10.297013   11.170578   17.031899  \n",
       "final.output.concentrate_sol                  8.801909   10.452148   18.124851  \n",
       "final.output.concentrate_au                  44.872436   46.166425   52.756638  \n",
       "final.output.recovery                        67.432775   72.346428  100.000000  \n",
       "...                                                ...         ...         ...  \n",
       "secondary_cleaner.state.floatbank5_a_level -499.702479 -487.864322 -275.073125  \n",
       "secondary_cleaner.state.floatbank5_b_air     11.997537   17.982826   27.926001  \n",
       "secondary_cleaner.state.floatbank5_b_level -499.914556 -453.274822 -157.396071  \n",
       "secondary_cleaner.state.floatbank6_a_air     19.984165   24.991615   32.188906  \n",
       "secondary_cleaner.state.floatbank6_a_level -500.061488 -499.536481 -104.427459  \n",
       "\n",
       "[86 rows x 8 columns]"
      ]
     },
     "execution_count": 12,
     "metadata": {},
     "output_type": "execute_result"
    }
   ],
   "source": [
    "# Посмотрим распределение численных значений признаков в обучающей выборке.\n",
    "data_train.describe().T"
   ]
  },
  {
   "cell_type": "markdown",
   "id": "026bf128",
   "metadata": {},
   "source": [
    " <div class=\"alert alert-info\"><b>Комментарий:</b>\n",
    "   \n",
    "Имеются нулевые значения признаков. Указанные значения могут негативно отразиться на обучении моделей. Также при первичном исследовании изменения концентрации металлов (Au, Ag, Pb) на различных этапах очистки на графиках прослеживались выбросы в районе нуля. Я решил заменить нулевые значения признаков медианными значениями по столбцам с соответствующими признаками.\n",
    "</div>"
   ]
  },
  {
   "cell_type": "markdown",
   "id": "9f01e162",
   "metadata": {},
   "source": [
    "#### Изменение концентрации металлов (Au, Ag, Pb) на различных этапах очистки."
   ]
  },
  {
   "cell_type": "code",
   "execution_count": 13,
   "id": "871a4ca0",
   "metadata": {},
   "outputs": [],
   "source": [
    "# Нулевые значения заменим на NaN.\n",
    "data_train.replace(0, np.nan, inplace=True)"
   ]
  },
  {
   "cell_type": "code",
   "execution_count": 14,
   "id": "0ade6cfb",
   "metadata": {},
   "outputs": [],
   "source": [
    "# Циклом заменим значения NaN медианными значениями по столбцам с признаками.\n",
    "for i in data_train.columns:\n",
    "    data_train[str(i)] = data_train[str(i)].fillna(data_train[str(i)].median())"
   ]
  },
  {
   "cell_type": "code",
   "execution_count": 15,
   "id": "bc1b3afe",
   "metadata": {},
   "outputs": [
    {
     "data": {
      "image/png": "[encoded data removed]",
      "text/plain": [
       "<Figure size 1500x500 with 1 Axes>"
      ]
     },
     "metadata": {},
     "output_type": "display_data"
    },
    {
     "data": {
      "image/png": "[encoded data removed]",
      "text/plain": [
       "<Figure size 1500x500 with 1 Axes>"
      ]
     },
     "metadata": {},
     "output_type": "display_data"
    },
    {
     "data": {
      "image/png": "[encoded data removed]",
      "text/plain": [
       "<Figure size 1500x500 with 1 Axes>"
      ]
     },
     "metadata": {},
     "output_type": "display_data"
    }
   ],
   "source": [
    "# Визуализируем изменение концентрации металлов (Au, Ag, Pb) на различных этапах очистки.\n",
    "for i in ['au', 'ag', 'pb']:\n",
    "    plt.figure(figsize=[15, 5])\n",
    "    plt.title(f'Концентрация металла {i} на различных этапах очистки')\n",
    "        \n",
    "    plt.hist(data_train[f'rougher.input.feed_{i}'], \n",
    "             edgecolor = 'black', \n",
    "             bins=50, \n",
    "             alpha=0.6, \n",
    "             label='На этапе сырья')\n",
    "    plt.hist(data_train[f'rougher.output.concentrate_{i}'], \n",
    "             edgecolor = 'black', \n",
    "             bins=50, \n",
    "             alpha=0.6, \n",
    "             label='После флотации')\n",
    "    plt.hist(data_train[f'primary_cleaner.output.concentrate_{i}'], \n",
    "             edgecolor = 'black', \n",
    "             bins=50, \n",
    "             alpha=0.6, \n",
    "             label='После первичной очистки')\n",
    "    plt.hist(data_train[f'final.output.concentrate_{i}'], \n",
    "             edgecolor = 'black', \n",
    "             bins=50, \n",
    "             alpha=0.6, \n",
    "             label='После финальной очистки')\n",
    "    \n",
    "    plt.xlabel('Концентрация металла')\n",
    "    plt.ylabel('Количество наблюдений')\n",
    "    plt.legend(loc='upper right') \n"
   ]
  },
  {
   "cell_type": "markdown",
   "id": "5cc56156",
   "metadata": {},
   "source": [
    " <div class=\"alert alert-info\"><b>Наблюдения:</b>\n",
    "    \n",
    "Концентрация золота последовательно увеличивается, достигая максимальных значений после финальной очистки.\n",
    "     \n",
    "Концентрация серебра увеличивается до этапа флотации, а потом начинает снижаться до минимальных значений после финальной очистки.\n",
    "    \n",
    "Концентрация свинца увеличивается до этапа первичной очистки, достигая качественного улучшения после финальной очистки.\n",
    "\n",
    "</div>"
   ]
  },
  {
   "cell_type": "markdown",
   "id": "d2718226",
   "metadata": {},
   "source": [
    "####  Распределение размеров гранул сырья на обучающей и тестовой выборках."
   ]
  },
  {
   "cell_type": "code",
   "execution_count": 16,
   "id": "11a0da22",
   "metadata": {
    "scrolled": false
   },
   "outputs": [
    {
     "data": {
      "image/png": "[encoded data removed]",
      "text/plain": [
       "<Figure size 1500x500 with 2 Axes>"
      ]
     },
     "metadata": {},
     "output_type": "display_data"
    }
   ],
   "source": [
    "# Распределение гранул сырья исследуем через оценку значений плотности вероятности.\n",
    "\n",
    "fig, axes = plt.subplots(1 ,2, figsize=(15,5))\n",
    "\n",
    "axes[0].hist(data_train['rougher.input.feed_size'], \n",
    "             edgecolor = 'black',\n",
    "             bins = 100,\n",
    "             label='Обучающая выборка', \n",
    "             density=True, \n",
    "             alpha=0.6)\n",
    "axes[0].hist(data_test['rougher.input.feed_size'], \n",
    "             edgecolor = 'black',\n",
    "             bins = 100,\n",
    "             label='Тестовая выборка', \n",
    "             density=True, \n",
    "             alpha=0.5)\n",
    "axes[0].set_xlim([-10, 150])\n",
    "axes[0].legend(loc='upper right')\n",
    "axes[0].set_title('Распределение гранул сырья на этапе флотации')\n",
    "axes[0].set(xlabel='Размер гранул')\n",
    "axes[0].set(ylabel='Значения плотности вероятности')\n",
    "\n",
    "axes[1].hist(data_train['primary_cleaner.input.feed_size'], \n",
    "             edgecolor = 'black', \n",
    "             bins = 20,\n",
    "             label='Обучающая выборка', \n",
    "             density=True, \n",
    "             alpha=0.6)\n",
    "axes[1].hist(data_test['primary_cleaner.input.feed_size'], \n",
    "             edgecolor = 'black', \n",
    "             bins = 20,\n",
    "             label='Тестовая выборка', \n",
    "             density=True, \n",
    "             alpha=0.5)\n",
    "axes[1].set_xlim([4, 11])\n",
    "axes[1].legend(loc='upper right')\n",
    "axes[1].set_title('Распределение гранул сырья на первом этапе очистки')\n",
    "axes[1].set(xlabel='Размер гранул')\n",
    "axes[1].set(ylabel='Значения плотности вероятности');"
   ]
  },
  {
   "cell_type": "markdown",
   "id": "677f4e96",
   "metadata": {},
   "source": [
    " <div class=\"alert alert-info\"><b>Наблюдения:</b>\n",
    "   \n",
    "Визуализация значений плотности вероятности распределения гранул сырья на этапе флотации показывает, что распределения похожи.   \n",
    "Визуализация значений плотности вероятности распределения гранул сырья на первом этапе очистки указывает практически на полное совпадение распределений.  \n",
    "Таким образом, указанные данные можно использовать для построения модели ML и оценки ее качества.\n",
    "    \n",
    "</div>"
   ]
  },
  {
   "cell_type": "markdown",
   "id": "2a5496d2",
   "metadata": {},
   "source": [
    "#### Исследование суммарной концентрации всех веществ на разных стадиях."
   ]
  },
  {
   "cell_type": "code",
   "execution_count": 17,
   "id": "2726671b",
   "metadata": {},
   "outputs": [],
   "source": [
    "# Суммарная концентрация всех веществ на стадии сырья.\n",
    "rougher_input_sum_concentrate = data_train[['rougher.input.feed_au',\n",
    "                                           'rougher.input.feed_ag',\n",
    "                                           'rougher.input.feed_pb']].sum(axis= 1)\n",
    "\n",
    "# Суммарная концентрация всех веществ после флотации.\n",
    "rougher_output_sum_concentrate = data_train[['rougher.output.concentrate_au', \n",
    "                                            'rougher.output.concentrate_ag', \n",
    "                                            'rougher.output.concentrate_pb']].sum(axis= 1)\n",
    "\n",
    "# Суммарная концентрация всех веществ после после финальной очистки.\n",
    "final_output_sum_concentrate = data_train[['final.output.concentrate_ag', \n",
    "                                          'final.output.concentrate_pb',\n",
    "                                          'final.output.concentrate_au']].sum(axis= 1)\n",
    "\n",
    "total_sum_concentrate = [rougher_input_sum_concentrate, rougher_output_sum_concentrate, final_output_sum_concentrate]"
   ]
  },
  {
   "cell_type": "code",
   "execution_count": 18,
   "id": "ce4f2065",
   "metadata": {},
   "outputs": [
    {
     "data": {
      "image/png": "[encoded data removed]",
      "text/plain": [
       "<Figure size 1500x500 with 1 Axes>"
      ]
     },
     "metadata": {},
     "output_type": "display_data"
    },
    {
     "data": {
      "image/png": "[encoded data removed]",
      "text/plain": [
       "<Figure size 1500x500 with 1 Axes>"
      ]
     },
     "metadata": {},
     "output_type": "display_data"
    },
    {
     "data": {
      "image/png": "[encoded data removed]",
      "text/plain": [
       "<Figure size 1500x500 with 1 Axes>"
      ]
     },
     "metadata": {},
     "output_type": "display_data"
    }
   ],
   "source": [
    "# Визуализируем концентрацию полезных металлов (Au, Ag, Pb) на различных этапах очистки.\n",
    "stages_1 = ['rougher.input.feed_', 'rougher.output.concentrate_', 'final.output.concentrate_']\n",
    "names_of_stages = ['сырья', 'чернового концентрата', 'финального концентрата']\n",
    "\n",
    "for i in range(3):\n",
    "    plt.figure(figsize=[15, 5])\n",
    "    plt.title(f'Концентрация полезных металлов на стадии {names_of_stages[i]}')\n",
    "        \n",
    "    plt.hist(data_train[f'{stages_1[i]}au'], \n",
    "             edgecolor = 'black', \n",
    "             bins=50, \n",
    "             alpha=0.6, \n",
    "             label='золото')\n",
    "    plt.hist(data_train[f'{stages_1[i]}ag'], \n",
    "             edgecolor = 'black', \n",
    "             bins=50, \n",
    "             alpha=0.6, \n",
    "             label='серебро')\n",
    "    plt.hist(data_train[f'{stages_1[i]}pb'], \n",
    "             edgecolor = 'black', \n",
    "             bins=50, \n",
    "             alpha=0.6, \n",
    "             label='свинец')\n",
    "    plt.hist(total_sum_concentrate[i], \n",
    "             edgecolor = 'black', \n",
    "             bins=100, \n",
    "             alpha=0.6, \n",
    "             label='общая концентрация')\n",
    "        \n",
    "    plt.xlabel('Концентрация веществ')\n",
    "    plt.ylabel('Количество наблюдений')\n",
    "    plt.legend(loc='upper right')    "
   ]
  },
  {
   "cell_type": "code",
   "execution_count": 19,
   "id": "e228c64a",
   "metadata": {},
   "outputs": [
    {
     "data": {
      "image/png": "[encoded data removed]",
      "text/plain": [
       "<Figure size 1500x500 with 1 Axes>"
      ]
     },
     "metadata": {},
     "output_type": "display_data"
    }
   ],
   "source": [
    "# Визуализируем суммарные концентрации всех металлов на различных этапах очистки.\n",
    "plt.figure(figsize=[15, 5])\n",
    "plt.title('Суммарная концентрация всех веществ на разных стадиях')\n",
    "\n",
    "stages = ['На этапе сырья', 'После флотации', 'После финальной очистки']\n",
    "\n",
    "calculations = [rougher_input_sum_concentrate, \n",
    "                rougher_output_sum_concentrate, \n",
    "                final_output_sum_concentrate]\n",
    "\n",
    "for i in range(len(calculations)):\n",
    "    plt.hist(calculations[i], edgecolor = 'black', bins=80, alpha=0.6, label=stages[i])\n",
    "    \n",
    "plt.xlabel('Концентрация всех веществ')\n",
    "plt.ylabel('Показатели')\n",
    "plt.legend(loc='upper left');"
   ]
  },
  {
   "cell_type": "markdown",
   "id": "acf0bfe4",
   "metadata": {},
   "source": [
    " <div class=\"alert alert-info\"><b>Наблюдения:</b>\n",
    "   \n",
    "Исследование суммарной концентрации всех веществ на разных стадиях (в сырье, в черновом и финальном концентратах) показывает, что концентрация золота и свинца до стадии финального концентрата увеличивается, тогда как серебра падает. При этом видно, что сильнее всего увеличивается от этапа очистки к этапу концентрация золота.\n",
    "    \n",
    "</div>"
   ]
  },
  {
   "cell_type": "markdown",
   "id": "a9a11111",
   "metadata": {},
   "source": [
    "<div class=\"alert alert-info\"><b>Промежуточные выводы:</b>\n",
    "\n",
    "На данном этапе выполнены следующие действия:\n",
    "- при изучении распределения численных значений признаков в обучающей выборке были обнаружены нулевые значения, которые могут негативно отразиться на обучении моделей. Нулевые значения заменены на медианные.\n",
    "- проанализировано изменение концентрации металлов (Au, Ag, Pb) на различных этапах очистки.   \n",
    "- изучено распределение размеров гранул сырья на обучающей и тестовой выборках. Распределения между выборками похожи, поэтому указанные данные можно использовать для построения модели ML и оценки ее качества.\n",
    "- исследована суммарная концентрация всех веществ на разных стадиях. При этом было установлено, что сильнее всего увеличивается от этапа очистки к этапу концентрация золота.    \n",
    " \n",
    "</div>"
   ]
  },
  {
   "cell_type": "markdown",
   "id": "a6f8ee44",
   "metadata": {},
   "source": [
    "***"
   ]
  },
  {
   "cell_type": "markdown",
   "id": "50e53d3e",
   "metadata": {},
   "source": [
    "### Построение модели."
   ]
  },
  {
   "cell_type": "code",
   "execution_count": 20,
   "id": "e5749f19",
   "metadata": {},
   "outputs": [
    {
     "data": {
      "text/plain": [
       "{'final.output.concentrate_ag',\n",
       " 'final.output.concentrate_au',\n",
       " 'final.output.concentrate_pb',\n",
       " 'final.output.concentrate_sol',\n",
       " 'final.output.tail_ag',\n",
       " 'final.output.tail_au',\n",
       " 'final.output.tail_pb',\n",
       " 'final.output.tail_sol',\n",
       " 'primary_cleaner.output.concentrate_ag',\n",
       " 'primary_cleaner.output.concentrate_au',\n",
       " 'primary_cleaner.output.concentrate_pb',\n",
       " 'primary_cleaner.output.concentrate_sol',\n",
       " 'primary_cleaner.output.tail_ag',\n",
       " 'primary_cleaner.output.tail_au',\n",
       " 'primary_cleaner.output.tail_pb',\n",
       " 'primary_cleaner.output.tail_sol',\n",
       " 'rougher.calculation.au_pb_ratio',\n",
       " 'rougher.calculation.floatbank10_sulfate_to_au_feed',\n",
       " 'rougher.calculation.floatbank11_sulfate_to_au_feed',\n",
       " 'rougher.calculation.sulfate_to_au_concentrate',\n",
       " 'rougher.output.concentrate_ag',\n",
       " 'rougher.output.concentrate_au',\n",
       " 'rougher.output.concentrate_pb',\n",
       " 'rougher.output.concentrate_sol',\n",
       " 'rougher.output.tail_ag',\n",
       " 'rougher.output.tail_au',\n",
       " 'rougher.output.tail_pb',\n",
       " 'rougher.output.tail_sol',\n",
       " 'secondary_cleaner.output.tail_ag',\n",
       " 'secondary_cleaner.output.tail_au',\n",
       " 'secondary_cleaner.output.tail_pb',\n",
       " 'secondary_cleaner.output.tail_sol'}"
      ]
     },
     "execution_count": 20,
     "metadata": {},
     "output_type": "execute_result"
    }
   ],
   "source": [
    "# В связи с тем, что качество моделей будет оцениваться исключительно на основе данных, представленных в тестовой выборке, то\n",
    "# в целях исключения утечки данных при построении моделей выберем признаки, которые необходимо удалить из обучающей выборки.\n",
    "\n",
    "columns_absent_to_delete = columns_absent - set(['rougher.output.recovery','final.output.recovery'])\n",
    "columns_absent_to_delete"
   ]
  },
  {
   "cell_type": "code",
   "execution_count": 21,
   "id": "be41fe86",
   "metadata": {},
   "outputs": [
    {
     "data": {
      "text/plain": [
       "(14149, 55)"
      ]
     },
     "execution_count": 21,
     "metadata": {},
     "output_type": "execute_result"
    }
   ],
   "source": [
    "# Удалим выбранные признаки из обучающей выборки.\n",
    "data_train = data_train.drop(columns=columns_absent_to_delete, axis=1)\n",
    "data_train.shape"
   ]
  },
  {
   "cell_type": "markdown",
   "id": "53a76f68",
   "metadata": {},
   "source": [
    "<div class=\"alert alert-info\"><b>Комментарий:</b>\n",
    "\n",
    "Теперь мы получили одинаковое количество признаков в обучающей и тестовой выборках.\n",
    "\n",
    "</div>"
   ]
  },
  {
   "cell_type": "markdown",
   "id": "2d9c34ce",
   "metadata": {},
   "source": [
    "####  Функция для вычисления итоговой sMAPE."
   ]
  },
  {
   "cell_type": "code",
   "execution_count": 22,
   "id": "c7e19dbd",
   "metadata": {},
   "outputs": [],
   "source": [
    "# Напишем функцию для вычисления sMAPE.\n",
    "def smape(a, f):\n",
    "    return 1/len(a) * np.sum(2 * np.abs(f-a) / (np.abs(a) + np.abs(f))*100)"
   ]
  },
  {
   "cell_type": "code",
   "execution_count": 23,
   "id": "d885d450",
   "metadata": {},
   "outputs": [],
   "source": [
    "# Создадим переменную для расчета в процессе кросс-валидации метрики sMAPE.\n",
    "smape_scorer = make_scorer(smape, greater_is_better = False)"
   ]
  },
  {
   "cell_type": "code",
   "execution_count": 24,
   "id": "7e1b7b68",
   "metadata": {},
   "outputs": [],
   "source": [
    "# Напишем функцию для вычисления итоговой sMAPE.\n",
    "def smape_total(rougher, final):\n",
    "    return (0.25 * rougher + 0.75 * final)"
   ]
  },
  {
   "cell_type": "markdown",
   "id": "22a45c69",
   "metadata": {},
   "source": [
    "#### Обучение разных моделей и выбор лучшей."
   ]
  },
  {
   "cell_type": "markdown",
   "id": "6f63d991",
   "metadata": {},
   "source": [
    "<div class=\"alert alert-info\"><b>Комментарий:</b>\n",
    "\n",
    "Поскольку численные данные полностью готовы для построения моделей машиного обучения, признак 'date' в обучающей и тестовой выборках можно удалить.\n",
    "\n",
    "</div>"
   ]
  },
  {
   "cell_type": "code",
   "execution_count": 25,
   "id": "4fb6232d",
   "metadata": {},
   "outputs": [
    {
     "name": "stdout",
     "output_type": "stream",
     "text": [
      "(14149, 52)\n",
      "(14149,)\n",
      "(14149,)\n"
     ]
    }
   ],
   "source": [
    "# Разделим обучающие данные для построения моделей ml. Удалим признак 'date' и целевые признаки в обучающей выборке.\n",
    "features_train = data_train.drop(['date', 'rougher.output.recovery','final.output.recovery'], axis = 1)\n",
    "target_train_r = data_train['rougher.output.recovery']\n",
    "target_train_f = data_train['final.output.recovery']\n",
    "print(features_train.shape)\n",
    "print(target_train_r.shape)\n",
    "print(target_train_f.shape)"
   ]
  },
  {
   "cell_type": "code",
   "execution_count": 26,
   "id": "04c884db",
   "metadata": {},
   "outputs": [],
   "source": [
    "# Выполним стандартизацию непрерывных переменных.\n",
    "scaler = preprocessing.StandardScaler().fit(features_train)\n",
    "features_train = scaler.transform(features_train)"
   ]
  },
  {
   "cell_type": "code",
   "execution_count": 27,
   "id": "6416ad2d",
   "metadata": {
    "scrolled": false
   },
   "outputs": [
    {
     "name": "stdout",
     "output_type": "stream",
     "text": [
      "Итоговое sMAPE модели LinearRegression: 10.014030240800844\n",
      "Wall time: 6.9 s\n"
     ]
    }
   ],
   "source": [
    "%%time \n",
    "# Построим модели LinearRegression для кросс-валидации и расчитаем итоговое sMAPE.\n",
    "\n",
    "model_linreg_r = LinearRegression()\n",
    "scores_r = cross_val_score(model_linreg_r, \n",
    "                         features_train, \n",
    "                         target_train_r,\n",
    "                         scoring = smape_scorer,\n",
    "                         n_jobs = -1,\n",
    "                         cv=5) \n",
    "final_score_r = sum(scores_r) / len(scores_r)\n",
    "\n",
    "model_linreg_f = LinearRegression()\n",
    "scores_f = cross_val_score(model_linreg_f, \n",
    "                         features_train, \n",
    "                         target_train_f,\n",
    "                         scoring = smape_scorer,\n",
    "                         n_jobs = -1,\n",
    "                         cv=5) \n",
    "final_score_f = sum(scores_f) / len(scores_f)\n",
    "\n",
    "smape_final = abs(smape_total(final_score_r, final_score_f))\n",
    "print('Итоговое sMAPE модели LinearRegression:', smape_final)"
   ]
  },
  {
   "cell_type": "code",
   "execution_count": 28,
   "id": "10d0ba89",
   "metadata": {
    "scrolled": false
   },
   "outputs": [
    {
     "name": "stdout",
     "output_type": "stream",
     "text": [
      "Лучшее sMAPE модели DecisionTreeRegressor: 8.910078432000569 , глубина дерева: 3\n",
      "Wall time: 39.6 s\n"
     ]
    }
   ],
   "source": [
    "%%time \n",
    "# Построим модели DecisionTreeRegressor для кросс-валидации и расчитаем лучшее итоговое sMAPE.\n",
    "\n",
    "best_result_tree = 100\n",
    "best_depth_tree = 0\n",
    "\n",
    "for depth in range(1, 15):\n",
    "    model_destree_r = DecisionTreeRegressor(random_state=RANDOM_STATE, max_depth=depth)\n",
    "    scores_r = cross_val_score(model_destree_r, \n",
    "                                features_train, \n",
    "                                target_train_r,\n",
    "                                scoring = smape_scorer,\n",
    "                                n_jobs = -1,\n",
    "                                cv=5) \n",
    "    final_score_r = sum(scores_r) / len(scores_r)\n",
    "\n",
    "    model_destree_f = DecisionTreeRegressor(random_state=RANDOM_STATE, max_depth=depth)\n",
    "    scores_f = cross_val_score(model_destree_f, \n",
    "                                features_train, \n",
    "                                target_train_f,\n",
    "                                scoring = smape_scorer,\n",
    "                                n_jobs = -1,\n",
    "                                cv=5) \n",
    "    final_score_f = sum(scores_f) / len(scores_f)\n",
    "\n",
    "    smape_final = abs(smape_total(final_score_r, final_score_f))\n",
    "    if smape_final < best_result_tree:\n",
    "        best_result_tree = smape_final\n",
    "        best_depth_tree = depth        \n",
    "        \n",
    "print('Лучшее sMAPE модели DecisionTreeRegressor:', best_result_tree, ', глубина дерева:', best_depth_tree)"
   ]
  },
  {
   "cell_type": "code",
   "execution_count": 29,
   "id": "365535ae",
   "metadata": {
    "scrolled": true
   },
   "outputs": [
    {
     "name": "stderr",
     "output_type": "stream",
     "text": [
      "[Parallel(n_jobs=-1)]: Using backend LokyBackend with 4 concurrent workers.\n",
      "[Parallel(n_jobs=-1)]: Done   2 out of   5 | elapsed:    1.0s remaining:    1.6s\n",
      "[Parallel(n_jobs=-1)]: Done   3 out of   5 | elapsed:    1.0s remaining:    0.6s\n",
      "[Parallel(n_jobs=-1)]: Done   5 out of   5 | elapsed:    1.5s remaining:    0.0s\n",
      "[Parallel(n_jobs=-1)]: Done   5 out of   5 | elapsed:    1.5s finished\n",
      "[Parallel(n_jobs=-1)]: Using backend LokyBackend with 4 concurrent workers.\n",
      "[Parallel(n_jobs=-1)]: Done   2 out of   5 | elapsed:    0.8s remaining:    1.2s\n",
      "[Parallel(n_jobs=-1)]: Done   3 out of   5 | elapsed:    0.8s remaining:    0.5s\n",
      "[Parallel(n_jobs=-1)]: Done   5 out of   5 | elapsed:    1.2s remaining:    0.0s\n",
      "[Parallel(n_jobs=-1)]: Done   5 out of   5 | elapsed:    1.2s finished\n",
      "[Parallel(n_jobs=-1)]: Using backend LokyBackend with 4 concurrent workers.\n",
      "[Parallel(n_jobs=-1)]: Done   2 out of   5 | elapsed:    1.2s remaining:    1.8s\n",
      "[Parallel(n_jobs=-1)]: Done   3 out of   5 | elapsed:    1.2s remaining:    0.8s\n",
      "[Parallel(n_jobs=-1)]: Done   5 out of   5 | elapsed:    2.1s remaining:    0.0s\n",
      "[Parallel(n_jobs=-1)]: Done   5 out of   5 | elapsed:    2.1s finished\n",
      "[Parallel(n_jobs=-1)]: Using backend LokyBackend with 4 concurrent workers.\n",
      "[Parallel(n_jobs=-1)]: Done   2 out of   5 | elapsed:    1.2s remaining:    1.8s\n",
      "[Parallel(n_jobs=-1)]: Done   3 out of   5 | elapsed:    1.2s remaining:    0.8s\n",
      "[Parallel(n_jobs=-1)]: Done   5 out of   5 | elapsed:    2.0s remaining:    0.0s\n",
      "[Parallel(n_jobs=-1)]: Done   5 out of   5 | elapsed:    2.0s finished\n",
      "[Parallel(n_jobs=-1)]: Using backend LokyBackend with 4 concurrent workers.\n",
      "[Parallel(n_jobs=-1)]: Done   2 out of   5 | elapsed:    2.3s remaining:    3.5s\n",
      "[Parallel(n_jobs=-1)]: Done   3 out of   5 | elapsed:    2.3s remaining:    1.5s\n",
      "[Parallel(n_jobs=-1)]: Done   5 out of   5 | elapsed:    3.6s remaining:    0.0s\n",
      "[Parallel(n_jobs=-1)]: Done   5 out of   5 | elapsed:    3.6s finished\n",
      "[Parallel(n_jobs=-1)]: Using backend LokyBackend with 4 concurrent workers.\n",
      "[Parallel(n_jobs=-1)]: Done   2 out of   5 | elapsed:    4.1s remaining:    6.2s\n",
      "[Parallel(n_jobs=-1)]: Done   3 out of   5 | elapsed:    4.2s remaining:    2.8s\n",
      "[Parallel(n_jobs=-1)]: Done   5 out of   5 | elapsed:    6.5s remaining:    0.0s\n",
      "[Parallel(n_jobs=-1)]: Done   5 out of   5 | elapsed:    6.5s finished\n",
      "[Parallel(n_jobs=-1)]: Using backend LokyBackend with 4 concurrent workers.\n",
      "[Parallel(n_jobs=-1)]: Done   2 out of   5 | elapsed:    4.2s remaining:    6.3s\n",
      "[Parallel(n_jobs=-1)]: Done   3 out of   5 | elapsed:    4.2s remaining:    2.8s\n",
      "[Parallel(n_jobs=-1)]: Done   5 out of   5 | elapsed:    5.8s remaining:    0.0s\n",
      "[Parallel(n_jobs=-1)]: Done   5 out of   5 | elapsed:    5.8s finished\n",
      "[Parallel(n_jobs=-1)]: Using backend LokyBackend with 4 concurrent workers.\n",
      "[Parallel(n_jobs=-1)]: Done   2 out of   5 | elapsed:    3.2s remaining:    4.9s\n",
      "[Parallel(n_jobs=-1)]: Done   3 out of   5 | elapsed:    3.3s remaining:    2.1s\n",
      "[Parallel(n_jobs=-1)]: Done   5 out of   5 | elapsed:    4.9s remaining:    0.0s\n",
      "[Parallel(n_jobs=-1)]: Done   5 out of   5 | elapsed:    4.9s finished\n",
      "[Parallel(n_jobs=-1)]: Using backend LokyBackend with 4 concurrent workers.\n",
      "[Parallel(n_jobs=-1)]: Done   2 out of   5 | elapsed:    3.0s remaining:    4.5s\n",
      "[Parallel(n_jobs=-1)]: Done   3 out of   5 | elapsed:    3.0s remaining:    2.0s\n",
      "[Parallel(n_jobs=-1)]: Done   5 out of   5 | elapsed:    4.9s remaining:    0.0s\n",
      "[Parallel(n_jobs=-1)]: Done   5 out of   5 | elapsed:    4.9s finished\n",
      "[Parallel(n_jobs=-1)]: Using backend LokyBackend with 4 concurrent workers.\n",
      "[Parallel(n_jobs=-1)]: Done   2 out of   5 | elapsed:    3.1s remaining:    4.7s\n",
      "[Parallel(n_jobs=-1)]: Done   3 out of   5 | elapsed:    3.2s remaining:    2.1s\n",
      "[Parallel(n_jobs=-1)]: Done   5 out of   5 | elapsed:    5.1s remaining:    0.0s\n",
      "[Parallel(n_jobs=-1)]: Done   5 out of   5 | elapsed:    5.1s finished\n",
      "[Parallel(n_jobs=-1)]: Using backend LokyBackend with 4 concurrent workers.\n",
      "[Parallel(n_jobs=-1)]: Done   2 out of   5 | elapsed:    3.8s remaining:    5.7s\n",
      "[Parallel(n_jobs=-1)]: Done   3 out of   5 | elapsed:    3.8s remaining:    2.5s\n",
      "[Parallel(n_jobs=-1)]: Done   5 out of   5 | elapsed:    6.1s remaining:    0.0s\n",
      "[Parallel(n_jobs=-1)]: Done   5 out of   5 | elapsed:    6.1s finished\n",
      "[Parallel(n_jobs=-1)]: Using backend LokyBackend with 4 concurrent workers.\n",
      "[Parallel(n_jobs=-1)]: Done   2 out of   5 | elapsed:    4.0s remaining:    6.1s\n",
      "[Parallel(n_jobs=-1)]: Done   3 out of   5 | elapsed:    4.0s remaining:    2.6s\n",
      "[Parallel(n_jobs=-1)]: Done   5 out of   5 | elapsed:    6.8s remaining:    0.0s\n",
      "[Parallel(n_jobs=-1)]: Done   5 out of   5 | elapsed:    6.8s finished\n",
      "[Parallel(n_jobs=-1)]: Using backend LokyBackend with 4 concurrent workers.\n",
      "[Parallel(n_jobs=-1)]: Done   2 out of   5 | elapsed:    3.9s remaining:    5.8s\n",
      "[Parallel(n_jobs=-1)]: Done   3 out of   5 | elapsed:    3.9s remaining:    2.5s\n",
      "[Parallel(n_jobs=-1)]: Done   5 out of   5 | elapsed:    6.5s remaining:    0.0s\n",
      "[Parallel(n_jobs=-1)]: Done   5 out of   5 | elapsed:    6.5s finished\n",
      "[Parallel(n_jobs=-1)]: Using backend LokyBackend with 4 concurrent workers.\n",
      "[Parallel(n_jobs=-1)]: Done   2 out of   5 | elapsed:    4.3s remaining:    6.4s\n",
      "[Parallel(n_jobs=-1)]: Done   3 out of   5 | elapsed:    4.3s remaining:    2.8s\n",
      "[Parallel(n_jobs=-1)]: Done   5 out of   5 | elapsed:    7.2s remaining:    0.0s\n",
      "[Parallel(n_jobs=-1)]: Done   5 out of   5 | elapsed:    7.2s finished\n",
      "[Parallel(n_jobs=-1)]: Using backend LokyBackend with 4 concurrent workers.\n",
      "[Parallel(n_jobs=-1)]: Done   2 out of   5 | elapsed:    4.8s remaining:    7.3s\n",
      "[Parallel(n_jobs=-1)]: Done   3 out of   5 | elapsed:    4.9s remaining:    3.2s\n",
      "[Parallel(n_jobs=-1)]: Done   5 out of   5 | elapsed:    7.6s remaining:    0.0s\n",
      "[Parallel(n_jobs=-1)]: Done   5 out of   5 | elapsed:    7.6s finished\n",
      "[Parallel(n_jobs=-1)]: Using backend LokyBackend with 4 concurrent workers.\n",
      "[Parallel(n_jobs=-1)]: Done   2 out of   5 | elapsed:    4.2s remaining:    6.3s\n",
      "[Parallel(n_jobs=-1)]: Done   3 out of   5 | elapsed:    4.2s remaining:    2.7s\n",
      "[Parallel(n_jobs=-1)]: Done   5 out of   5 | elapsed:    6.9s remaining:    0.0s\n",
      "[Parallel(n_jobs=-1)]: Done   5 out of   5 | elapsed:    6.9s finished\n",
      "[Parallel(n_jobs=-1)]: Using backend LokyBackend with 4 concurrent workers.\n",
      "[Parallel(n_jobs=-1)]: Done   2 out of   5 | elapsed:    4.5s remaining:    6.8s\n",
      "[Parallel(n_jobs=-1)]: Done   3 out of   5 | elapsed:    4.5s remaining:    3.0s\n",
      "[Parallel(n_jobs=-1)]: Done   5 out of   5 | elapsed:    7.8s remaining:    0.0s\n",
      "[Parallel(n_jobs=-1)]: Done   5 out of   5 | elapsed:    7.8s finished\n",
      "[Parallel(n_jobs=-1)]: Using backend LokyBackend with 4 concurrent workers.\n",
      "[Parallel(n_jobs=-1)]: Done   2 out of   5 | elapsed:    4.7s remaining:    7.1s\n",
      "[Parallel(n_jobs=-1)]: Done   3 out of   5 | elapsed:    4.7s remaining:    3.1s\n",
      "[Parallel(n_jobs=-1)]: Done   5 out of   5 | elapsed:    7.8s remaining:    0.0s\n",
      "[Parallel(n_jobs=-1)]: Done   5 out of   5 | elapsed:    7.8s finished\n",
      "[Parallel(n_jobs=-1)]: Using backend LokyBackend with 4 concurrent workers.\n",
      "[Parallel(n_jobs=-1)]: Done   2 out of   5 | elapsed:    5.3s remaining:    8.0s\n",
      "[Parallel(n_jobs=-1)]: Done   3 out of   5 | elapsed:    5.3s remaining:    3.5s\n",
      "[Parallel(n_jobs=-1)]: Done   5 out of   5 | elapsed:    8.5s remaining:    0.0s\n",
      "[Parallel(n_jobs=-1)]: Done   5 out of   5 | elapsed:    8.5s finished\n",
      "[Parallel(n_jobs=-1)]: Using backend LokyBackend with 4 concurrent workers.\n",
      "[Parallel(n_jobs=-1)]: Done   2 out of   5 | elapsed:    4.9s remaining:    7.4s\n",
      "[Parallel(n_jobs=-1)]: Done   3 out of   5 | elapsed:    4.9s remaining:    3.2s\n",
      "[Parallel(n_jobs=-1)]: Done   5 out of   5 | elapsed:    8.1s remaining:    0.0s\n",
      "[Parallel(n_jobs=-1)]: Done   5 out of   5 | elapsed:    8.1s finished\n",
      "[Parallel(n_jobs=-1)]: Using backend LokyBackend with 4 concurrent workers.\n",
      "[Parallel(n_jobs=-1)]: Done   2 out of   5 | elapsed:    1.5s remaining:    2.2s\n",
      "[Parallel(n_jobs=-1)]: Done   3 out of   5 | elapsed:    1.5s remaining:    1.0s\n",
      "[Parallel(n_jobs=-1)]: Done   5 out of   5 | elapsed:    2.5s remaining:    0.0s\n",
      "[Parallel(n_jobs=-1)]: Done   5 out of   5 | elapsed:    2.5s finished\n",
      "[Parallel(n_jobs=-1)]: Using backend LokyBackend with 4 concurrent workers.\n"
     ]
    },
    {
     "name": "stderr",
     "output_type": "stream",
     "text": [
      "[Parallel(n_jobs=-1)]: Done   2 out of   5 | elapsed:    1.6s remaining:    2.4s\n",
      "[Parallel(n_jobs=-1)]: Done   3 out of   5 | elapsed:    1.6s remaining:    1.0s\n",
      "[Parallel(n_jobs=-1)]: Done   5 out of   5 | elapsed:    2.5s remaining:    0.0s\n",
      "[Parallel(n_jobs=-1)]: Done   5 out of   5 | elapsed:    2.5s finished\n",
      "[Parallel(n_jobs=-1)]: Using backend LokyBackend with 4 concurrent workers.\n",
      "[Parallel(n_jobs=-1)]: Done   2 out of   5 | elapsed:    2.5s remaining:    3.9s\n",
      "[Parallel(n_jobs=-1)]: Done   3 out of   5 | elapsed:    2.6s remaining:    1.7s\n",
      "[Parallel(n_jobs=-1)]: Done   5 out of   5 | elapsed:    4.3s remaining:    0.0s\n",
      "[Parallel(n_jobs=-1)]: Done   5 out of   5 | elapsed:    4.3s finished\n",
      "[Parallel(n_jobs=-1)]: Using backend LokyBackend with 4 concurrent workers.\n",
      "[Parallel(n_jobs=-1)]: Done   2 out of   5 | elapsed:    2.4s remaining:    3.7s\n",
      "[Parallel(n_jobs=-1)]: Done   3 out of   5 | elapsed:    2.4s remaining:    1.6s\n",
      "[Parallel(n_jobs=-1)]: Done   5 out of   5 | elapsed:    4.1s remaining:    0.0s\n",
      "[Parallel(n_jobs=-1)]: Done   5 out of   5 | elapsed:    4.1s finished\n",
      "[Parallel(n_jobs=-1)]: Using backend LokyBackend with 4 concurrent workers.\n",
      "[Parallel(n_jobs=-1)]: Done   2 out of   5 | elapsed:    4.1s remaining:    6.2s\n",
      "[Parallel(n_jobs=-1)]: Done   3 out of   5 | elapsed:    4.1s remaining:    2.7s\n",
      "[Parallel(n_jobs=-1)]: Done   5 out of   5 | elapsed:    7.4s remaining:    0.0s\n",
      "[Parallel(n_jobs=-1)]: Done   5 out of   5 | elapsed:    7.4s finished\n",
      "[Parallel(n_jobs=-1)]: Using backend LokyBackend with 4 concurrent workers.\n",
      "[Parallel(n_jobs=-1)]: Done   2 out of   5 | elapsed:    6.5s remaining:    9.8s\n",
      "[Parallel(n_jobs=-1)]: Done   3 out of   5 | elapsed:    6.5s remaining:    4.3s\n",
      "[Parallel(n_jobs=-1)]: Done   5 out of   5 | elapsed:    9.7s remaining:    0.0s\n",
      "[Parallel(n_jobs=-1)]: Done   5 out of   5 | elapsed:    9.7s finished\n",
      "[Parallel(n_jobs=-1)]: Using backend LokyBackend with 4 concurrent workers.\n",
      "[Parallel(n_jobs=-1)]: Done   2 out of   5 | elapsed:    4.8s remaining:    7.2s\n",
      "[Parallel(n_jobs=-1)]: Done   3 out of   5 | elapsed:    4.8s remaining:    3.2s\n",
      "[Parallel(n_jobs=-1)]: Done   5 out of   5 | elapsed:    7.8s remaining:    0.0s\n",
      "[Parallel(n_jobs=-1)]: Done   5 out of   5 | elapsed:    7.8s finished\n",
      "[Parallel(n_jobs=-1)]: Using backend LokyBackend with 4 concurrent workers.\n",
      "[Parallel(n_jobs=-1)]: Done   2 out of   5 | elapsed:    5.7s remaining:    8.6s\n",
      "[Parallel(n_jobs=-1)]: Done   3 out of   5 | elapsed:    5.7s remaining:    3.8s\n",
      "[Parallel(n_jobs=-1)]: Done   5 out of   5 | elapsed:    9.5s remaining:    0.0s\n",
      "[Parallel(n_jobs=-1)]: Done   5 out of   5 | elapsed:    9.5s finished\n",
      "[Parallel(n_jobs=-1)]: Using backend LokyBackend with 4 concurrent workers.\n",
      "[Parallel(n_jobs=-1)]: Done   2 out of   5 | elapsed:    7.2s remaining:   10.9s\n",
      "[Parallel(n_jobs=-1)]: Done   3 out of   5 | elapsed:    7.2s remaining:    4.8s\n",
      "[Parallel(n_jobs=-1)]: Done   5 out of   5 | elapsed:   11.6s remaining:    0.0s\n",
      "[Parallel(n_jobs=-1)]: Done   5 out of   5 | elapsed:   11.6s finished\n",
      "[Parallel(n_jobs=-1)]: Using backend LokyBackend with 4 concurrent workers.\n",
      "[Parallel(n_jobs=-1)]: Done   2 out of   5 | elapsed:    5.6s remaining:    8.5s\n",
      "[Parallel(n_jobs=-1)]: Done   3 out of   5 | elapsed:    5.6s remaining:    3.7s\n",
      "[Parallel(n_jobs=-1)]: Done   5 out of   5 | elapsed:    9.4s remaining:    0.0s\n",
      "[Parallel(n_jobs=-1)]: Done   5 out of   5 | elapsed:    9.4s finished\n",
      "[Parallel(n_jobs=-1)]: Using backend LokyBackend with 4 concurrent workers.\n",
      "[Parallel(n_jobs=-1)]: Done   2 out of   5 | elapsed:    6.6s remaining:   10.0s\n",
      "[Parallel(n_jobs=-1)]: Done   3 out of   5 | elapsed:    6.6s remaining:    4.4s\n",
      "[Parallel(n_jobs=-1)]: Done   5 out of   5 | elapsed:   11.9s remaining:    0.0s\n",
      "[Parallel(n_jobs=-1)]: Done   5 out of   5 | elapsed:   11.9s finished\n",
      "[Parallel(n_jobs=-1)]: Using backend LokyBackend with 4 concurrent workers.\n",
      "[Parallel(n_jobs=-1)]: Done   2 out of   5 | elapsed:    9.0s remaining:   13.6s\n",
      "[Parallel(n_jobs=-1)]: Done   3 out of   5 | elapsed:    9.0s remaining:    6.0s\n",
      "[Parallel(n_jobs=-1)]: Done   5 out of   5 | elapsed:   13.7s remaining:    0.0s\n",
      "[Parallel(n_jobs=-1)]: Done   5 out of   5 | elapsed:   13.7s finished\n",
      "[Parallel(n_jobs=-1)]: Using backend LokyBackend with 4 concurrent workers.\n",
      "[Parallel(n_jobs=-1)]: Done   2 out of   5 | elapsed:    8.8s remaining:   13.2s\n",
      "[Parallel(n_jobs=-1)]: Done   3 out of   5 | elapsed:    8.8s remaining:    5.9s\n",
      "[Parallel(n_jobs=-1)]: Done   5 out of   5 | elapsed:   14.7s remaining:    0.0s\n",
      "[Parallel(n_jobs=-1)]: Done   5 out of   5 | elapsed:   14.7s finished\n",
      "[Parallel(n_jobs=-1)]: Using backend LokyBackend with 4 concurrent workers.\n",
      "[Parallel(n_jobs=-1)]: Done   2 out of   5 | elapsed:    7.9s remaining:   11.9s\n",
      "[Parallel(n_jobs=-1)]: Done   3 out of   5 | elapsed:    7.9s remaining:    5.2s\n",
      "[Parallel(n_jobs=-1)]: Done   5 out of   5 | elapsed:   12.7s remaining:    0.0s\n",
      "[Parallel(n_jobs=-1)]: Done   5 out of   5 | elapsed:   12.7s finished\n",
      "[Parallel(n_jobs=-1)]: Using backend LokyBackend with 4 concurrent workers.\n",
      "[Parallel(n_jobs=-1)]: Done   2 out of   5 | elapsed:    8.1s remaining:   12.1s\n",
      "[Parallel(n_jobs=-1)]: Done   3 out of   5 | elapsed:    8.1s remaining:    5.3s\n",
      "[Parallel(n_jobs=-1)]: Done   5 out of   5 | elapsed:   13.4s remaining:    0.0s\n",
      "[Parallel(n_jobs=-1)]: Done   5 out of   5 | elapsed:   13.4s finished\n",
      "[Parallel(n_jobs=-1)]: Using backend LokyBackend with 4 concurrent workers.\n",
      "[Parallel(n_jobs=-1)]: Done   2 out of   5 | elapsed:    8.8s remaining:   13.2s\n",
      "[Parallel(n_jobs=-1)]: Done   3 out of   5 | elapsed:    8.8s remaining:    5.8s\n",
      "[Parallel(n_jobs=-1)]: Done   5 out of   5 | elapsed:   14.2s remaining:    0.0s\n",
      "[Parallel(n_jobs=-1)]: Done   5 out of   5 | elapsed:   14.2s finished\n",
      "[Parallel(n_jobs=-1)]: Using backend LokyBackend with 4 concurrent workers.\n",
      "[Parallel(n_jobs=-1)]: Done   2 out of   5 | elapsed:    8.8s remaining:   13.3s\n",
      "[Parallel(n_jobs=-1)]: Done   3 out of   5 | elapsed:    8.9s remaining:    5.9s\n",
      "[Parallel(n_jobs=-1)]: Done   5 out of   5 | elapsed:   14.7s remaining:    0.0s\n",
      "[Parallel(n_jobs=-1)]: Done   5 out of   5 | elapsed:   14.7s finished\n",
      "[Parallel(n_jobs=-1)]: Using backend LokyBackend with 4 concurrent workers.\n",
      "[Parallel(n_jobs=-1)]: Done   2 out of   5 | elapsed:   14.0s remaining:   21.1s\n",
      "[Parallel(n_jobs=-1)]: Done   3 out of   5 | elapsed:   14.0s remaining:    9.3s\n",
      "[Parallel(n_jobs=-1)]: Done   5 out of   5 | elapsed:   24.9s remaining:    0.0s\n",
      "[Parallel(n_jobs=-1)]: Done   5 out of   5 | elapsed:   24.9s finished\n",
      "[Parallel(n_jobs=-1)]: Using backend LokyBackend with 4 concurrent workers.\n",
      "[Parallel(n_jobs=-1)]: Done   2 out of   5 | elapsed:   10.1s remaining:   15.2s\n",
      "[Parallel(n_jobs=-1)]: Done   3 out of   5 | elapsed:   10.1s remaining:    6.7s\n",
      "[Parallel(n_jobs=-1)]: Done   5 out of   5 | elapsed:   16.6s remaining:    0.0s\n",
      "[Parallel(n_jobs=-1)]: Done   5 out of   5 | elapsed:   16.6s finished\n",
      "[Parallel(n_jobs=-1)]: Using backend LokyBackend with 4 concurrent workers.\n",
      "[Parallel(n_jobs=-1)]: Done   2 out of   5 | elapsed:    9.8s remaining:   14.7s\n",
      "[Parallel(n_jobs=-1)]: Done   3 out of   5 | elapsed:    9.9s remaining:    6.6s\n",
      "[Parallel(n_jobs=-1)]: Done   5 out of   5 | elapsed:   16.2s remaining:    0.0s\n",
      "[Parallel(n_jobs=-1)]: Done   5 out of   5 | elapsed:   16.2s finished\n",
      "[Parallel(n_jobs=-1)]: Using backend LokyBackend with 4 concurrent workers.\n",
      "[Parallel(n_jobs=-1)]: Done   2 out of   5 | elapsed:    1.9s remaining:    2.9s\n",
      "[Parallel(n_jobs=-1)]: Done   3 out of   5 | elapsed:    1.9s remaining:    1.2s\n",
      "[Parallel(n_jobs=-1)]: Done   5 out of   5 | elapsed:    3.2s remaining:    0.0s\n",
      "[Parallel(n_jobs=-1)]: Done   5 out of   5 | elapsed:    3.2s finished\n",
      "[Parallel(n_jobs=-1)]: Using backend LokyBackend with 4 concurrent workers.\n",
      "[Parallel(n_jobs=-1)]: Done   2 out of   5 | elapsed:    1.9s remaining:    2.9s\n",
      "[Parallel(n_jobs=-1)]: Done   3 out of   5 | elapsed:    1.9s remaining:    1.2s\n",
      "[Parallel(n_jobs=-1)]: Done   5 out of   5 | elapsed:    3.2s remaining:    0.0s\n",
      "[Parallel(n_jobs=-1)]: Done   5 out of   5 | elapsed:    3.2s finished\n",
      "[Parallel(n_jobs=-1)]: Using backend LokyBackend with 4 concurrent workers.\n",
      "[Parallel(n_jobs=-1)]: Done   2 out of   5 | elapsed:    3.6s remaining:    5.5s\n",
      "[Parallel(n_jobs=-1)]: Done   3 out of   5 | elapsed:    3.7s remaining:    2.4s\n"
     ]
    },
    {
     "name": "stderr",
     "output_type": "stream",
     "text": [
      "[Parallel(n_jobs=-1)]: Done   5 out of   5 | elapsed:    6.0s remaining:    0.0s\n",
      "[Parallel(n_jobs=-1)]: Done   5 out of   5 | elapsed:    6.0s finished\n",
      "[Parallel(n_jobs=-1)]: Using backend LokyBackend with 4 concurrent workers.\n",
      "[Parallel(n_jobs=-1)]: Done   2 out of   5 | elapsed:    3.7s remaining:    5.6s\n",
      "[Parallel(n_jobs=-1)]: Done   3 out of   5 | elapsed:    3.7s remaining:    2.4s\n",
      "[Parallel(n_jobs=-1)]: Done   5 out of   5 | elapsed:    6.7s remaining:    0.0s\n",
      "[Parallel(n_jobs=-1)]: Done   5 out of   5 | elapsed:    6.7s finished\n",
      "[Parallel(n_jobs=-1)]: Using backend LokyBackend with 4 concurrent workers.\n",
      "[Parallel(n_jobs=-1)]: Done   2 out of   5 | elapsed:    5.5s remaining:    8.2s\n",
      "[Parallel(n_jobs=-1)]: Done   3 out of   5 | elapsed:    5.5s remaining:    3.6s\n",
      "[Parallel(n_jobs=-1)]: Done   5 out of   5 | elapsed:    9.0s remaining:    0.0s\n",
      "[Parallel(n_jobs=-1)]: Done   5 out of   5 | elapsed:    9.0s finished\n",
      "[Parallel(n_jobs=-1)]: Using backend LokyBackend with 4 concurrent workers.\n",
      "[Parallel(n_jobs=-1)]: Done   2 out of   5 | elapsed:    5.2s remaining:    7.9s\n",
      "[Parallel(n_jobs=-1)]: Done   3 out of   5 | elapsed:    5.3s remaining:    3.5s\n",
      "[Parallel(n_jobs=-1)]: Done   5 out of   5 | elapsed:    8.8s remaining:    0.0s\n",
      "[Parallel(n_jobs=-1)]: Done   5 out of   5 | elapsed:    8.8s finished\n",
      "[Parallel(n_jobs=-1)]: Using backend LokyBackend with 4 concurrent workers.\n",
      "[Parallel(n_jobs=-1)]: Done   2 out of   5 | elapsed:    6.7s remaining:   10.1s\n",
      "[Parallel(n_jobs=-1)]: Done   3 out of   5 | elapsed:    6.7s remaining:    4.5s\n",
      "[Parallel(n_jobs=-1)]: Done   5 out of   5 | elapsed:   11.1s remaining:    0.0s\n",
      "[Parallel(n_jobs=-1)]: Done   5 out of   5 | elapsed:   11.1s finished\n",
      "[Parallel(n_jobs=-1)]: Using backend LokyBackend with 4 concurrent workers.\n",
      "[Parallel(n_jobs=-1)]: Done   2 out of   5 | elapsed:    6.8s remaining:   10.2s\n",
      "[Parallel(n_jobs=-1)]: Done   3 out of   5 | elapsed:    6.8s remaining:    4.5s\n",
      "[Parallel(n_jobs=-1)]: Done   5 out of   5 | elapsed:   11.3s remaining:    0.0s\n",
      "[Parallel(n_jobs=-1)]: Done   5 out of   5 | elapsed:   11.3s finished\n",
      "[Parallel(n_jobs=-1)]: Using backend LokyBackend with 4 concurrent workers.\n",
      "[Parallel(n_jobs=-1)]: Done   2 out of   5 | elapsed:    8.1s remaining:   12.2s\n",
      "[Parallel(n_jobs=-1)]: Done   3 out of   5 | elapsed:    8.1s remaining:    5.4s\n",
      "[Parallel(n_jobs=-1)]: Done   5 out of   5 | elapsed:   13.5s remaining:    0.0s\n",
      "[Parallel(n_jobs=-1)]: Done   5 out of   5 | elapsed:   13.5s finished\n",
      "[Parallel(n_jobs=-1)]: Using backend LokyBackend with 4 concurrent workers.\n",
      "[Parallel(n_jobs=-1)]: Done   2 out of   5 | elapsed:    8.3s remaining:   12.5s\n",
      "[Parallel(n_jobs=-1)]: Done   3 out of   5 | elapsed:    8.4s remaining:    5.5s\n",
      "[Parallel(n_jobs=-1)]: Done   5 out of   5 | elapsed:   13.8s remaining:    0.0s\n",
      "[Parallel(n_jobs=-1)]: Done   5 out of   5 | elapsed:   13.8s finished\n",
      "[Parallel(n_jobs=-1)]: Using backend LokyBackend with 4 concurrent workers.\n",
      "[Parallel(n_jobs=-1)]: Done   2 out of   5 | elapsed:    9.5s remaining:   14.3s\n",
      "[Parallel(n_jobs=-1)]: Done   3 out of   5 | elapsed:    9.6s remaining:    6.3s\n",
      "[Parallel(n_jobs=-1)]: Done   5 out of   5 | elapsed:   15.8s remaining:    0.0s\n",
      "[Parallel(n_jobs=-1)]: Done   5 out of   5 | elapsed:   15.8s finished\n",
      "[Parallel(n_jobs=-1)]: Using backend LokyBackend with 4 concurrent workers.\n",
      "[Parallel(n_jobs=-1)]: Done   2 out of   5 | elapsed:    9.7s remaining:   14.5s\n",
      "[Parallel(n_jobs=-1)]: Done   3 out of   5 | elapsed:    9.7s remaining:    6.4s\n",
      "[Parallel(n_jobs=-1)]: Done   5 out of   5 | elapsed:   15.9s remaining:    0.0s\n",
      "[Parallel(n_jobs=-1)]: Done   5 out of   5 | elapsed:   15.9s finished\n",
      "[Parallel(n_jobs=-1)]: Using backend LokyBackend with 4 concurrent workers.\n",
      "[Parallel(n_jobs=-1)]: Done   2 out of   5 | elapsed:   11.3s remaining:   17.0s\n",
      "[Parallel(n_jobs=-1)]: Done   3 out of   5 | elapsed:   11.3s remaining:    7.5s\n",
      "[Parallel(n_jobs=-1)]: Done   5 out of   5 | elapsed:   18.6s remaining:    0.0s\n",
      "[Parallel(n_jobs=-1)]: Done   5 out of   5 | elapsed:   18.6s finished\n",
      "[Parallel(n_jobs=-1)]: Using backend LokyBackend with 4 concurrent workers.\n",
      "[Parallel(n_jobs=-1)]: Done   2 out of   5 | elapsed:   11.0s remaining:   16.5s\n",
      "[Parallel(n_jobs=-1)]: Done   3 out of   5 | elapsed:   11.0s remaining:    7.3s\n",
      "[Parallel(n_jobs=-1)]: Done   5 out of   5 | elapsed:   18.2s remaining:    0.0s\n",
      "[Parallel(n_jobs=-1)]: Done   5 out of   5 | elapsed:   18.2s finished\n",
      "[Parallel(n_jobs=-1)]: Using backend LokyBackend with 4 concurrent workers.\n",
      "[Parallel(n_jobs=-1)]: Done   2 out of   5 | elapsed:   12.2s remaining:   18.3s\n",
      "[Parallel(n_jobs=-1)]: Done   3 out of   5 | elapsed:   12.2s remaining:    8.1s\n",
      "[Parallel(n_jobs=-1)]: Done   5 out of   5 | elapsed:   20.1s remaining:    0.0s\n",
      "[Parallel(n_jobs=-1)]: Done   5 out of   5 | elapsed:   20.1s finished\n",
      "[Parallel(n_jobs=-1)]: Using backend LokyBackend with 4 concurrent workers.\n",
      "[Parallel(n_jobs=-1)]: Done   2 out of   5 | elapsed:   12.2s remaining:   18.3s\n",
      "[Parallel(n_jobs=-1)]: Done   3 out of   5 | elapsed:   12.3s remaining:    8.2s\n",
      "[Parallel(n_jobs=-1)]: Done   5 out of   5 | elapsed:   20.3s remaining:    0.0s\n",
      "[Parallel(n_jobs=-1)]: Done   5 out of   5 | elapsed:   20.3s finished\n",
      "[Parallel(n_jobs=-1)]: Using backend LokyBackend with 4 concurrent workers.\n",
      "[Parallel(n_jobs=-1)]: Done   2 out of   5 | elapsed:   13.2s remaining:   19.9s\n",
      "[Parallel(n_jobs=-1)]: Done   3 out of   5 | elapsed:   13.2s remaining:    8.8s\n",
      "[Parallel(n_jobs=-1)]: Done   5 out of   5 | elapsed:   21.9s remaining:    0.0s\n",
      "[Parallel(n_jobs=-1)]: Done   5 out of   5 | elapsed:   21.9s finished\n",
      "[Parallel(n_jobs=-1)]: Using backend LokyBackend with 4 concurrent workers.\n",
      "[Parallel(n_jobs=-1)]: Done   2 out of   5 | elapsed:   13.5s remaining:   20.4s\n",
      "[Parallel(n_jobs=-1)]: Done   3 out of   5 | elapsed:   13.7s remaining:    9.1s\n",
      "[Parallel(n_jobs=-1)]: Done   5 out of   5 | elapsed:   22.3s remaining:    0.0s\n",
      "[Parallel(n_jobs=-1)]: Done   5 out of   5 | elapsed:   22.3s finished\n",
      "[Parallel(n_jobs=-1)]: Using backend LokyBackend with 4 concurrent workers.\n",
      "[Parallel(n_jobs=-1)]: Done   2 out of   5 | elapsed:   14.2s remaining:   21.4s\n",
      "[Parallel(n_jobs=-1)]: Done   3 out of   5 | elapsed:   14.3s remaining:    9.5s\n",
      "[Parallel(n_jobs=-1)]: Done   5 out of   5 | elapsed:   23.7s remaining:    0.0s\n",
      "[Parallel(n_jobs=-1)]: Done   5 out of   5 | elapsed:   23.7s finished\n",
      "[Parallel(n_jobs=-1)]: Using backend LokyBackend with 4 concurrent workers.\n",
      "[Parallel(n_jobs=-1)]: Done   2 out of   5 | elapsed:   14.7s remaining:   22.2s\n",
      "[Parallel(n_jobs=-1)]: Done   3 out of   5 | elapsed:   14.8s remaining:    9.8s\n",
      "[Parallel(n_jobs=-1)]: Done   5 out of   5 | elapsed:   24.1s remaining:    0.0s\n",
      "[Parallel(n_jobs=-1)]: Done   5 out of   5 | elapsed:   24.1s finished\n",
      "[Parallel(n_jobs=-1)]: Using backend LokyBackend with 4 concurrent workers.\n",
      "[Parallel(n_jobs=-1)]: Done   2 out of   5 | elapsed:    2.6s remaining:    3.9s\n",
      "[Parallel(n_jobs=-1)]: Done   3 out of   5 | elapsed:    2.6s remaining:    1.7s\n",
      "[Parallel(n_jobs=-1)]: Done   5 out of   5 | elapsed:    4.3s remaining:    0.0s\n",
      "[Parallel(n_jobs=-1)]: Done   5 out of   5 | elapsed:    4.3s finished\n",
      "[Parallel(n_jobs=-1)]: Using backend LokyBackend with 4 concurrent workers.\n",
      "[Parallel(n_jobs=-1)]: Done   2 out of   5 | elapsed:    2.5s remaining:    3.8s\n",
      "[Parallel(n_jobs=-1)]: Done   3 out of   5 | elapsed:    2.5s remaining:    1.7s\n",
      "[Parallel(n_jobs=-1)]: Done   5 out of   5 | elapsed:    4.3s remaining:    0.0s\n",
      "[Parallel(n_jobs=-1)]: Done   5 out of   5 | elapsed:    4.3s finished\n",
      "[Parallel(n_jobs=-1)]: Using backend LokyBackend with 4 concurrent workers.\n",
      "[Parallel(n_jobs=-1)]: Done   2 out of   5 | elapsed:    4.9s remaining:    7.3s\n",
      "[Parallel(n_jobs=-1)]: Done   3 out of   5 | elapsed:    4.9s remaining:    3.2s\n",
      "[Parallel(n_jobs=-1)]: Done   5 out of   5 | elapsed:    8.3s remaining:    0.0s\n",
      "[Parallel(n_jobs=-1)]: Done   5 out of   5 | elapsed:    8.3s finished\n",
      "[Parallel(n_jobs=-1)]: Using backend LokyBackend with 4 concurrent workers.\n",
      "[Parallel(n_jobs=-1)]: Done   2 out of   5 | elapsed:    7.1s remaining:   10.7s\n",
      "[Parallel(n_jobs=-1)]: Done   3 out of   5 | elapsed:    7.2s remaining:    4.8s\n",
      "[Parallel(n_jobs=-1)]: Done   5 out of   5 | elapsed:   11.7s remaining:    0.0s\n",
      "[Parallel(n_jobs=-1)]: Done   5 out of   5 | elapsed:   11.7s finished\n",
      "[Parallel(n_jobs=-1)]: Using backend LokyBackend with 4 concurrent workers.\n"
     ]
    },
    {
     "name": "stderr",
     "output_type": "stream",
     "text": [
      "[Parallel(n_jobs=-1)]: Done   2 out of   5 | elapsed:   10.7s remaining:   16.2s\n",
      "[Parallel(n_jobs=-1)]: Done   3 out of   5 | elapsed:   10.8s remaining:    7.2s\n",
      "[Parallel(n_jobs=-1)]: Done   5 out of   5 | elapsed:   15.7s remaining:    0.0s\n",
      "[Parallel(n_jobs=-1)]: Done   5 out of   5 | elapsed:   15.7s finished\n",
      "[Parallel(n_jobs=-1)]: Using backend LokyBackend with 4 concurrent workers.\n",
      "[Parallel(n_jobs=-1)]: Done   2 out of   5 | elapsed:    7.6s remaining:   11.4s\n",
      "[Parallel(n_jobs=-1)]: Done   3 out of   5 | elapsed:    7.6s remaining:    5.0s\n",
      "[Parallel(n_jobs=-1)]: Done   5 out of   5 | elapsed:   13.6s remaining:    0.0s\n",
      "[Parallel(n_jobs=-1)]: Done   5 out of   5 | elapsed:   13.6s finished\n",
      "[Parallel(n_jobs=-1)]: Using backend LokyBackend with 4 concurrent workers.\n",
      "[Parallel(n_jobs=-1)]: Done   2 out of   5 | elapsed:   14.9s remaining:   22.3s\n",
      "[Parallel(n_jobs=-1)]: Done   3 out of   5 | elapsed:   14.9s remaining:    9.9s\n",
      "[Parallel(n_jobs=-1)]: Done   5 out of   5 | elapsed:   20.9s remaining:    0.0s\n",
      "[Parallel(n_jobs=-1)]: Done   5 out of   5 | elapsed:   20.9s finished\n",
      "[Parallel(n_jobs=-1)]: Using backend LokyBackend with 4 concurrent workers.\n",
      "[Parallel(n_jobs=-1)]: Done   2 out of   5 | elapsed:    9.1s remaining:   13.7s\n",
      "[Parallel(n_jobs=-1)]: Done   3 out of   5 | elapsed:    9.1s remaining:    6.1s\n",
      "[Parallel(n_jobs=-1)]: Done   5 out of   5 | elapsed:   15.5s remaining:    0.0s\n",
      "[Parallel(n_jobs=-1)]: Done   5 out of   5 | elapsed:   15.5s finished\n",
      "[Parallel(n_jobs=-1)]: Using backend LokyBackend with 4 concurrent workers.\n",
      "[Parallel(n_jobs=-1)]: Done   2 out of   5 | elapsed:   10.9s remaining:   16.3s\n",
      "[Parallel(n_jobs=-1)]: Done   3 out of   5 | elapsed:   10.9s remaining:    7.3s\n",
      "[Parallel(n_jobs=-1)]: Done   5 out of   5 | elapsed:   18.2s remaining:    0.0s\n",
      "[Parallel(n_jobs=-1)]: Done   5 out of   5 | elapsed:   18.2s finished\n",
      "[Parallel(n_jobs=-1)]: Using backend LokyBackend with 4 concurrent workers.\n",
      "[Parallel(n_jobs=-1)]: Done   2 out of   5 | elapsed:   11.1s remaining:   16.6s\n",
      "[Parallel(n_jobs=-1)]: Done   3 out of   5 | elapsed:   11.1s remaining:    7.3s\n",
      "[Parallel(n_jobs=-1)]: Done   5 out of   5 | elapsed:   18.3s remaining:    0.0s\n",
      "[Parallel(n_jobs=-1)]: Done   5 out of   5 | elapsed:   18.3s finished\n",
      "[Parallel(n_jobs=-1)]: Using backend LokyBackend with 4 concurrent workers.\n",
      "[Parallel(n_jobs=-1)]: Done   2 out of   5 | elapsed:   12.7s remaining:   19.1s\n",
      "[Parallel(n_jobs=-1)]: Done   3 out of   5 | elapsed:   12.7s remaining:    8.4s\n",
      "[Parallel(n_jobs=-1)]: Done   5 out of   5 | elapsed:   21.1s remaining:    0.0s\n",
      "[Parallel(n_jobs=-1)]: Done   5 out of   5 | elapsed:   21.1s finished\n",
      "[Parallel(n_jobs=-1)]: Using backend LokyBackend with 4 concurrent workers.\n",
      "[Parallel(n_jobs=-1)]: Done   2 out of   5 | elapsed:   13.1s remaining:   19.7s\n",
      "[Parallel(n_jobs=-1)]: Done   3 out of   5 | elapsed:   13.1s remaining:    8.7s\n",
      "[Parallel(n_jobs=-1)]: Done   5 out of   5 | elapsed:   21.5s remaining:    0.0s\n",
      "[Parallel(n_jobs=-1)]: Done   5 out of   5 | elapsed:   21.5s finished\n",
      "[Parallel(n_jobs=-1)]: Using backend LokyBackend with 4 concurrent workers.\n",
      "[Parallel(n_jobs=-1)]: Done   2 out of   5 | elapsed:   14.4s remaining:   21.6s\n",
      "[Parallel(n_jobs=-1)]: Done   3 out of   5 | elapsed:   14.4s remaining:    9.6s\n",
      "[Parallel(n_jobs=-1)]: Done   5 out of   5 | elapsed:   23.9s remaining:    0.0s\n",
      "[Parallel(n_jobs=-1)]: Done   5 out of   5 | elapsed:   23.9s finished\n",
      "[Parallel(n_jobs=-1)]: Using backend LokyBackend with 4 concurrent workers.\n",
      "[Parallel(n_jobs=-1)]: Done   2 out of   5 | elapsed:   14.7s remaining:   22.1s\n",
      "[Parallel(n_jobs=-1)]: Done   3 out of   5 | elapsed:   14.7s remaining:    9.8s\n",
      "[Parallel(n_jobs=-1)]: Done   5 out of   5 | elapsed:   24.1s remaining:    0.0s\n",
      "[Parallel(n_jobs=-1)]: Done   5 out of   5 | elapsed:   24.1s finished\n",
      "[Parallel(n_jobs=-1)]: Using backend LokyBackend with 4 concurrent workers.\n",
      "[Parallel(n_jobs=-1)]: Done   2 out of   5 | elapsed:   16.0s remaining:   24.0s\n",
      "[Parallel(n_jobs=-1)]: Done   3 out of   5 | elapsed:   16.0s remaining:   10.7s\n",
      "[Parallel(n_jobs=-1)]: Done   5 out of   5 | elapsed:   26.5s remaining:    0.0s\n",
      "[Parallel(n_jobs=-1)]: Done   5 out of   5 | elapsed:   26.5s finished\n",
      "[Parallel(n_jobs=-1)]: Using backend LokyBackend with 4 concurrent workers.\n",
      "[Parallel(n_jobs=-1)]: Done   2 out of   5 | elapsed:   16.3s remaining:   24.5s\n",
      "[Parallel(n_jobs=-1)]: Done   3 out of   5 | elapsed:   16.4s remaining:   10.9s\n",
      "[Parallel(n_jobs=-1)]: Done   5 out of   5 | elapsed:   27.0s remaining:    0.0s\n",
      "[Parallel(n_jobs=-1)]: Done   5 out of   5 | elapsed:   27.0s finished\n",
      "[Parallel(n_jobs=-1)]: Using backend LokyBackend with 4 concurrent workers.\n",
      "[Parallel(n_jobs=-1)]: Done   2 out of   5 | elapsed:   17.6s remaining:   26.4s\n",
      "[Parallel(n_jobs=-1)]: Done   3 out of   5 | elapsed:   17.6s remaining:   11.7s\n",
      "[Parallel(n_jobs=-1)]: Done   5 out of   5 | elapsed:   29.2s remaining:    0.0s\n",
      "[Parallel(n_jobs=-1)]: Done   5 out of   5 | elapsed:   29.2s finished\n",
      "[Parallel(n_jobs=-1)]: Using backend LokyBackend with 4 concurrent workers.\n",
      "[Parallel(n_jobs=-1)]: Done   2 out of   5 | elapsed:   18.9s remaining:   28.4s\n",
      "[Parallel(n_jobs=-1)]: Done   3 out of   5 | elapsed:   18.9s remaining:   12.6s\n",
      "[Parallel(n_jobs=-1)]: Done   5 out of   5 | elapsed:   32.2s remaining:    0.0s\n",
      "[Parallel(n_jobs=-1)]: Done   5 out of   5 | elapsed:   32.2s finished\n",
      "[Parallel(n_jobs=-1)]: Using backend LokyBackend with 4 concurrent workers.\n",
      "[Parallel(n_jobs=-1)]: Done   2 out of   5 | elapsed:   19.0s remaining:   28.6s\n",
      "[Parallel(n_jobs=-1)]: Done   3 out of   5 | elapsed:   19.1s remaining:   12.7s\n",
      "[Parallel(n_jobs=-1)]: Done   5 out of   5 | elapsed:   32.1s remaining:    0.0s\n",
      "[Parallel(n_jobs=-1)]: Done   5 out of   5 | elapsed:   32.1s finished\n",
      "[Parallel(n_jobs=-1)]: Using backend LokyBackend with 4 concurrent workers.\n",
      "[Parallel(n_jobs=-1)]: Done   2 out of   5 | elapsed:   19.7s remaining:   29.6s\n",
      "[Parallel(n_jobs=-1)]: Done   3 out of   5 | elapsed:   19.7s remaining:   13.1s\n",
      "[Parallel(n_jobs=-1)]: Done   5 out of   5 | elapsed:   32.3s remaining:    0.0s\n",
      "[Parallel(n_jobs=-1)]: Done   5 out of   5 | elapsed:   32.3s finished\n",
      "[Parallel(n_jobs=-1)]: Using backend LokyBackend with 4 concurrent workers.\n",
      "[Parallel(n_jobs=-1)]: Done   2 out of   5 | elapsed:    3.2s remaining:    4.8s\n",
      "[Parallel(n_jobs=-1)]: Done   3 out of   5 | elapsed:    3.2s remaining:    2.1s\n",
      "[Parallel(n_jobs=-1)]: Done   5 out of   5 | elapsed:    5.3s remaining:    0.0s\n",
      "[Parallel(n_jobs=-1)]: Done   5 out of   5 | elapsed:    5.3s finished\n",
      "[Parallel(n_jobs=-1)]: Using backend LokyBackend with 4 concurrent workers.\n",
      "[Parallel(n_jobs=-1)]: Done   2 out of   5 | elapsed:    3.2s remaining:    4.8s\n",
      "[Parallel(n_jobs=-1)]: Done   3 out of   5 | elapsed:    3.2s remaining:    2.1s\n",
      "[Parallel(n_jobs=-1)]: Done   5 out of   5 | elapsed:    5.3s remaining:    0.0s\n",
      "[Parallel(n_jobs=-1)]: Done   5 out of   5 | elapsed:    5.3s finished\n",
      "[Parallel(n_jobs=-1)]: Using backend LokyBackend with 4 concurrent workers.\n",
      "[Parallel(n_jobs=-1)]: Done   2 out of   5 | elapsed:    6.1s remaining:    9.1s\n",
      "[Parallel(n_jobs=-1)]: Done   3 out of   5 | elapsed:    6.1s remaining:    4.0s\n",
      "[Parallel(n_jobs=-1)]: Done   5 out of   5 | elapsed:   10.0s remaining:    0.0s\n",
      "[Parallel(n_jobs=-1)]: Done   5 out of   5 | elapsed:   10.0s finished\n",
      "[Parallel(n_jobs=-1)]: Using backend LokyBackend with 4 concurrent workers.\n",
      "[Parallel(n_jobs=-1)]: Done   2 out of   5 | elapsed:    6.1s remaining:    9.2s\n",
      "[Parallel(n_jobs=-1)]: Done   3 out of   5 | elapsed:    6.1s remaining:    4.0s\n",
      "[Parallel(n_jobs=-1)]: Done   5 out of   5 | elapsed:   10.0s remaining:    0.0s\n",
      "[Parallel(n_jobs=-1)]: Done   5 out of   5 | elapsed:   10.0s finished\n",
      "[Parallel(n_jobs=-1)]: Using backend LokyBackend with 4 concurrent workers.\n",
      "[Parallel(n_jobs=-1)]: Done   2 out of   5 | elapsed:    8.7s remaining:   13.0s\n",
      "[Parallel(n_jobs=-1)]: Done   3 out of   5 | elapsed:    8.7s remaining:    5.8s\n",
      "[Parallel(n_jobs=-1)]: Done   5 out of   5 | elapsed:   14.3s remaining:    0.0s\n",
      "[Parallel(n_jobs=-1)]: Done   5 out of   5 | elapsed:   14.3s finished\n",
      "[Parallel(n_jobs=-1)]: Using backend LokyBackend with 4 concurrent workers.\n",
      "[Parallel(n_jobs=-1)]: Done   2 out of   5 | elapsed:    8.8s remaining:   13.3s\n",
      "[Parallel(n_jobs=-1)]: Done   3 out of   5 | elapsed:    8.8s remaining:    5.9s\n"
     ]
    },
    {
     "name": "stderr",
     "output_type": "stream",
     "text": [
      "[Parallel(n_jobs=-1)]: Done   5 out of   5 | elapsed:   14.6s remaining:    0.0s\n",
      "[Parallel(n_jobs=-1)]: Done   5 out of   5 | elapsed:   14.6s finished\n",
      "[Parallel(n_jobs=-1)]: Using backend LokyBackend with 4 concurrent workers.\n",
      "[Parallel(n_jobs=-1)]: Done   2 out of   5 | elapsed:   11.3s remaining:   17.0s\n",
      "[Parallel(n_jobs=-1)]: Done   3 out of   5 | elapsed:   11.3s remaining:    7.5s\n",
      "[Parallel(n_jobs=-1)]: Done   5 out of   5 | elapsed:   18.7s remaining:    0.0s\n",
      "[Parallel(n_jobs=-1)]: Done   5 out of   5 | elapsed:   18.7s finished\n",
      "[Parallel(n_jobs=-1)]: Using backend LokyBackend with 4 concurrent workers.\n",
      "[Parallel(n_jobs=-1)]: Done   2 out of   5 | elapsed:   11.8s remaining:   17.7s\n",
      "[Parallel(n_jobs=-1)]: Done   3 out of   5 | elapsed:   11.8s remaining:    7.8s\n",
      "[Parallel(n_jobs=-1)]: Done   5 out of   5 | elapsed:   19.8s remaining:    0.0s\n",
      "[Parallel(n_jobs=-1)]: Done   5 out of   5 | elapsed:   19.8s finished\n",
      "[Parallel(n_jobs=-1)]: Using backend LokyBackend with 4 concurrent workers.\n",
      "[Parallel(n_jobs=-1)]: Done   2 out of   5 | elapsed:   13.7s remaining:   20.6s\n",
      "[Parallel(n_jobs=-1)]: Done   3 out of   5 | elapsed:   13.8s remaining:    9.2s\n",
      "[Parallel(n_jobs=-1)]: Done   5 out of   5 | elapsed:   22.7s remaining:    0.0s\n",
      "[Parallel(n_jobs=-1)]: Done   5 out of   5 | elapsed:   22.7s finished\n",
      "[Parallel(n_jobs=-1)]: Using backend LokyBackend with 4 concurrent workers.\n",
      "[Parallel(n_jobs=-1)]: Done   2 out of   5 | elapsed:   13.8s remaining:   20.8s\n",
      "[Parallel(n_jobs=-1)]: Done   3 out of   5 | elapsed:   13.9s remaining:    9.2s\n",
      "[Parallel(n_jobs=-1)]: Done   5 out of   5 | elapsed:   22.8s remaining:    0.0s\n",
      "[Parallel(n_jobs=-1)]: Done   5 out of   5 | elapsed:   22.8s finished\n",
      "[Parallel(n_jobs=-1)]: Using backend LokyBackend with 4 concurrent workers.\n",
      "[Parallel(n_jobs=-1)]: Done   2 out of   5 | elapsed:   15.8s remaining:   23.8s\n",
      "[Parallel(n_jobs=-1)]: Done   3 out of   5 | elapsed:   15.9s remaining:   10.5s\n",
      "[Parallel(n_jobs=-1)]: Done   5 out of   5 | elapsed:   26.2s remaining:    0.0s\n",
      "[Parallel(n_jobs=-1)]: Done   5 out of   5 | elapsed:   26.2s finished\n",
      "[Parallel(n_jobs=-1)]: Using backend LokyBackend with 4 concurrent workers.\n",
      "[Parallel(n_jobs=-1)]: Done   2 out of   5 | elapsed:   16.2s remaining:   24.3s\n",
      "[Parallel(n_jobs=-1)]: Done   3 out of   5 | elapsed:   16.2s remaining:   10.8s\n",
      "[Parallel(n_jobs=-1)]: Done   5 out of   5 | elapsed:   26.5s remaining:    0.0s\n",
      "[Parallel(n_jobs=-1)]: Done   5 out of   5 | elapsed:   26.5s finished\n",
      "[Parallel(n_jobs=-1)]: Using backend LokyBackend with 4 concurrent workers.\n",
      "[Parallel(n_jobs=-1)]: Done   2 out of   5 | elapsed:   18.0s remaining:   27.0s\n",
      "[Parallel(n_jobs=-1)]: Done   3 out of   5 | elapsed:   18.0s remaining:   12.0s\n",
      "[Parallel(n_jobs=-1)]: Done   5 out of   5 | elapsed:   29.9s remaining:    0.0s\n",
      "[Parallel(n_jobs=-1)]: Done   5 out of   5 | elapsed:   29.9s finished\n",
      "[Parallel(n_jobs=-1)]: Using backend LokyBackend with 4 concurrent workers.\n",
      "[Parallel(n_jobs=-1)]: Done   2 out of   5 | elapsed:   22.4s remaining:   33.7s\n",
      "[Parallel(n_jobs=-1)]: Done   3 out of   5 | elapsed:   22.4s remaining:   14.9s\n",
      "[Parallel(n_jobs=-1)]: Done   5 out of   5 | elapsed:   34.6s remaining:    0.0s\n",
      "[Parallel(n_jobs=-1)]: Done   5 out of   5 | elapsed:   34.6s finished\n",
      "[Parallel(n_jobs=-1)]: Using backend LokyBackend with 4 concurrent workers.\n",
      "[Parallel(n_jobs=-1)]: Done   2 out of   5 | elapsed:   20.0s remaining:   30.1s\n",
      "[Parallel(n_jobs=-1)]: Done   3 out of   5 | elapsed:   20.0s remaining:   13.3s\n",
      "[Parallel(n_jobs=-1)]: Done   5 out of   5 | elapsed:   33.1s remaining:    0.0s\n",
      "[Parallel(n_jobs=-1)]: Done   5 out of   5 | elapsed:   33.1s finished\n",
      "[Parallel(n_jobs=-1)]: Using backend LokyBackend with 4 concurrent workers.\n",
      "[Parallel(n_jobs=-1)]: Done   2 out of   5 | elapsed:   20.5s remaining:   30.8s\n",
      "[Parallel(n_jobs=-1)]: Done   3 out of   5 | elapsed:   20.6s remaining:   13.7s\n",
      "[Parallel(n_jobs=-1)]: Done   5 out of   5 | elapsed:   33.7s remaining:    0.0s\n",
      "[Parallel(n_jobs=-1)]: Done   5 out of   5 | elapsed:   33.7s finished\n",
      "[Parallel(n_jobs=-1)]: Using backend LokyBackend with 4 concurrent workers.\n",
      "[Parallel(n_jobs=-1)]: Done   2 out of   5 | elapsed:   21.8s remaining:   32.8s\n",
      "[Parallel(n_jobs=-1)]: Done   3 out of   5 | elapsed:   22.0s remaining:   14.6s\n",
      "[Parallel(n_jobs=-1)]: Done   5 out of   5 | elapsed:   37.3s remaining:    0.0s\n",
      "[Parallel(n_jobs=-1)]: Done   5 out of   5 | elapsed:   37.3s finished\n",
      "[Parallel(n_jobs=-1)]: Using backend LokyBackend with 4 concurrent workers.\n",
      "[Parallel(n_jobs=-1)]: Done   2 out of   5 | elapsed:   22.7s remaining:   34.1s\n",
      "[Parallel(n_jobs=-1)]: Done   3 out of   5 | elapsed:   22.8s remaining:   15.1s\n",
      "[Parallel(n_jobs=-1)]: Done   5 out of   5 | elapsed:   37.2s remaining:    0.0s\n",
      "[Parallel(n_jobs=-1)]: Done   5 out of   5 | elapsed:   37.2s finished\n",
      "[Parallel(n_jobs=-1)]: Using backend LokyBackend with 4 concurrent workers.\n",
      "[Parallel(n_jobs=-1)]: Done   2 out of   5 | elapsed:   25.0s remaining:   37.6s\n",
      "[Parallel(n_jobs=-1)]: Done   3 out of   5 | elapsed:   25.1s remaining:   16.7s\n",
      "[Parallel(n_jobs=-1)]: Done   5 out of   5 | elapsed:   40.8s remaining:    0.0s\n",
      "[Parallel(n_jobs=-1)]: Done   5 out of   5 | elapsed:   40.8s finished\n",
      "[Parallel(n_jobs=-1)]: Using backend LokyBackend with 4 concurrent workers.\n",
      "[Parallel(n_jobs=-1)]: Done   2 out of   5 | elapsed:   24.5s remaining:   36.8s\n",
      "[Parallel(n_jobs=-1)]: Done   3 out of   5 | elapsed:   24.5s remaining:   16.3s\n"
     ]
    },
    {
     "name": "stdout",
     "output_type": "stream",
     "text": [
      "Лучшее sMAPE модели RandomForestRegressor: 8.42540861228336 глубина дерева: 4 количество деревьев: 10\n",
      "Wall time: 25min 24s\n"
     ]
    },
    {
     "name": "stderr",
     "output_type": "stream",
     "text": [
      "[Parallel(n_jobs=-1)]: Done   5 out of   5 | elapsed:   40.3s remaining:    0.0s\n",
      "[Parallel(n_jobs=-1)]: Done   5 out of   5 | elapsed:   40.3s finished\n"
     ]
    }
   ],
   "source": [
    "%%time\n",
    "# Построим модели RandomForestRegressor для кросс-валидации и расчитаем лучшее итоговое sMAPE.\n",
    "\n",
    "best_result_forest = 100\n",
    "best_est_forest = 0\n",
    "best_depth_forest = 0\n",
    "\n",
    "for est in range(10, 51, 10):\n",
    "    for depth in range (1, 11):\n",
    "        model_forest_r = RandomForestRegressor(random_state=RANDOM_STATE, n_estimators=est, max_depth=depth)\n",
    "        scores_r = cross_val_score(model_forest_r, \n",
    "                                  features_train, \n",
    "                                  target_train_r,\n",
    "                                  scoring = smape_scorer,\n",
    "                                  verbose=10,\n",
    "                                  n_jobs = -1,\n",
    "                                  cv=5) \n",
    "        final_score_r = sum(scores_r) / len(scores_r)\n",
    "\n",
    "        model_forest_f = RandomForestRegressor(random_state=RANDOM_STATE, n_estimators=est, max_depth=depth)\n",
    "        scores_f = cross_val_score(model_forest_f, \n",
    "                                   features_train, \n",
    "                                   target_train_f,\n",
    "                                   scoring = smape_scorer,\n",
    "                                   verbose=10,\n",
    "                                   n_jobs = -1,\n",
    "                                   cv=5) \n",
    "        final_score_f = sum(scores_f) / len(scores_f)\n",
    "\n",
    "        smape_final = abs(smape_total(final_score_r, final_score_f))\n",
    "        if smape_final < best_result_forest:\n",
    "            best_result_forest = smape_final\n",
    "            best_depth_forest = depth\n",
    "            best_est_forest = est\n",
    "            \n",
    "print('Лучшее sMAPE модели RandomForestRegressor:', best_result_forest,\n",
    "      'глубина дерева:', best_depth_forest,\n",
    "      'количество деревьев:', best_est_forest)"
   ]
  },
  {
   "cell_type": "markdown",
   "id": "ffc46ea0",
   "metadata": {},
   "source": [
    "<div class=\"alert alert-info\"><b>Комментарий:</b>\n",
    "\n",
    "Лучший результат метрики итоговой sMAPE показала модель RandomForestRegressor: 8.42540861228336, с количеством деревьев 10 и глубиной дерева 4.\n",
    "\n",
    "</div>"
   ]
  },
  {
   "cell_type": "markdown",
   "id": "ce160bb8",
   "metadata": {},
   "source": [
    "#### Применение лучшей модели к тестовой выборке."
   ]
  },
  {
   "cell_type": "code",
   "execution_count": 30,
   "id": "a2aa398c",
   "metadata": {},
   "outputs": [
    {
     "name": "stdout",
     "output_type": "stream",
     "text": [
      "(5290, 52)\n",
      "(5290,)\n",
      "(5290,)\n"
     ]
    }
   ],
   "source": [
    "# Разделим тестовые данные для применения лушей модели ml. Удалим признак 'date' и целевые признаки в тестовой выборке.\n",
    "features_test = data_test.drop(['date', 'rougher.output.recovery','final.output.recovery'], axis = 1)\n",
    "target_test_r = data_test['rougher.output.recovery']\n",
    "target_test_f = data_test['final.output.recovery']\n",
    "print(features_test.shape)\n",
    "print(target_test_r.shape)\n",
    "print(target_test_f.shape)"
   ]
  },
  {
   "cell_type": "code",
   "execution_count": 31,
   "id": "39f625b4",
   "metadata": {},
   "outputs": [],
   "source": [
    "# Обучим лучшую модель на обучающей выборке по признаку 'rougher.output.recovery'. Предскажем на тестовой выборке.\n",
    "model_best_r = RandomForestRegressor(random_state=RANDOM_STATE, n_estimators=10, max_depth=4)\n",
    "model_best_r.fit(features_train, target_train_r)\n",
    "predict_r = model_best_r.predict(features_test)"
   ]
  },
  {
   "cell_type": "code",
   "execution_count": 32,
   "id": "0af0ca93",
   "metadata": {},
   "outputs": [],
   "source": [
    "# Обучим лучшую модель на обучающей выборке по признаку 'final.output.recovery'. Предскажем на тестовой выборке.\n",
    "model_best_f = RandomForestRegressor(random_state=RANDOM_STATE, n_estimators=10, max_depth=4)\n",
    "model_best_f.fit(features_train, target_train_f)\n",
    "predict_f = model_best_f.predict(features_test)"
   ]
  },
  {
   "cell_type": "code",
   "execution_count": 33,
   "id": "7f0fccf0",
   "metadata": {},
   "outputs": [
    {
     "data": {
      "text/plain": [
       "9.528560512807566"
      ]
     },
     "execution_count": 33,
     "metadata": {},
     "output_type": "execute_result"
    }
   ],
   "source": [
    "# Рассчитаем значения sMAPE для целевых признаков тестовых данных.\n",
    "smape_r = smape(target_test_r, predict_r)\n",
    "smape_f = smape(target_test_f, predict_f)\n",
    "\n",
    "# Рассчитаем итоговое sMAPE на целевых признаках тестовых данных.\n",
    "final_smape_rf = smape_total(smape_r, smape_f)\n",
    "final_smape_rf"
   ]
  },
  {
   "cell_type": "markdown",
   "id": "bc4974c6",
   "metadata": {},
   "source": [
    "<div class=\"alert alert-info\"><b>Комментарий:</b>\n",
    "\n",
    "По результатам применения лучшей модели на тестовых данных получили значение итогового sMAPE: 9.528560512807566.\n",
    "\n",
    "</div>"
   ]
  },
  {
   "cell_type": "markdown",
   "id": "7273f62f",
   "metadata": {},
   "source": [
    "#### Проверка модели на вменяемость."
   ]
  },
  {
   "cell_type": "code",
   "execution_count": 34,
   "id": "a4eb6ac8",
   "metadata": {},
   "outputs": [
    {
     "data": {
      "text/plain": [
       "9.838339591835638"
      ]
     },
     "execution_count": 34,
     "metadata": {},
     "output_type": "execute_result"
    }
   ],
   "source": [
    "# Используем DummyRegressor.\n",
    "# Обучим модель DummyRegressor на обучающей выборке по целевым признакам. Предскажем на тестовой выборке.\n",
    "model_dummy_r = DummyRegressor(strategy=\"mean\")\n",
    "model_dummy_r.fit(features_train, target_train_r)\n",
    "dummy_predict_r = model_dummy_r.predict(features_test)\n",
    "\n",
    "model_dummy_f = DummyRegressor(strategy=\"mean\")\n",
    "model_dummy_f.fit(features_train, target_train_f)\n",
    "dummy_predict_f = model_dummy_f.predict(features_test)\n",
    "\n",
    "# Рассчитаем значения sMAPE для целевых признаков тестовых данных.\n",
    "smape_dummy_r = smape(target_test_r, dummy_predict_r)\n",
    "smape_dummy_f = smape(target_test_f, dummy_predict_f)\n",
    "\n",
    "# Рассчитаем итоговое sMAPE на целевых признаках тестовых данных.\n",
    "final_smape_dummy_rf = smape_total(smape_dummy_r, smape_dummy_f)\n",
    "final_smape_dummy_rf"
   ]
  },
  {
   "cell_type": "markdown",
   "id": "f2f59479",
   "metadata": {},
   "source": [
    "<div class=\"alert alert-info\"><b>Комментарий:</b>\n",
    "\n",
    "Результат RandomForestRegressor: 9.528560512807566.   \n",
    "Результат DummyRegressor: 9.838339591835638.\n",
    "    \n",
    "Выбранная нами модель RandomForestRegressor показывает результат лучше случайного, модель может применяться.\n",
    "\n",
    "</div>"
   ]
  },
  {
   "cell_type": "markdown",
   "id": "827c38d7",
   "metadata": {},
   "source": [
    "***"
   ]
  },
  {
   "cell_type": "markdown",
   "id": "591fdf20",
   "metadata": {},
   "source": [
    " <div class=\"alert alert-info\"><b><h3>Общий вывод по исследованию:</h4></b>\n",
    "\n",
    "В целях решения поставленных задач:\n",
    "* была проверена правильность расчета эффективностм обогащения;\n",
    "* исследованы изменение концентрации металлов (Au, Ag, Pb) на различных этапах очистки, а также суммарная концентрация всех веществ на разных стадиях: в сырье, в черновом и финальном концентратах;\n",
    "* построены модели ML и выбрана наилучшая по метрике sMAPE, которая была проверена на тестовой выборке.\n",
    "   \n",
    "Лучший результат метрики итоговой sMAPE показала модель RandomForestRegressor: 8.42540861228336, с количеством деревьев 10 и глубиной дерева 4.   \n",
    "По результатам применения лучшей модели на тестовых данных получили значение итогового sMAPE: 9.528560512807566.     \n",
    "При проверке на вменяемость выбранная нами модель RandomForestRegressor показала результат лучше случайного, модель может применяться.\n",
    "\n",
    "</div>"
   ]
  }
 ],
 "metadata": {
  "ExecuteTimeLog": [
   {
    "duration": 2048,
    "start_time": "2023-03-16T08:17:23.652Z"
   },
   {
    "duration": 335,
    "start_time": "2023-03-16T08:17:25.707Z"
   },
   {
    "duration": 5,
    "start_time": "2023-03-16T08:17:26.044Z"
   },
   {
    "duration": 25,
    "start_time": "2023-03-16T08:17:26.051Z"
   },
   {
    "duration": 12,
    "start_time": "2023-03-16T08:17:26.083Z"
   },
   {
    "duration": 25,
    "start_time": "2023-03-16T08:17:26.097Z"
   },
   {
    "duration": 9,
    "start_time": "2023-03-16T08:17:26.129Z"
   },
   {
    "duration": 4261,
    "start_time": "2023-03-16T08:17:26.147Z"
   },
   {
    "duration": 19,
    "start_time": "2023-03-16T08:17:30.415Z"
   },
   {
    "duration": 5549,
    "start_time": "2023-03-16T08:17:30.441Z"
   },
   {
    "duration": 24,
    "start_time": "2023-03-16T08:17:35.992Z"
   },
   {
    "duration": 9,
    "start_time": "2023-03-16T08:17:36.018Z"
   },
   {
    "duration": 392,
    "start_time": "2023-03-16T08:17:36.037Z"
   },
   {
    "duration": 35,
    "start_time": "2023-03-16T08:17:36.431Z"
   },
   {
    "duration": 14,
    "start_time": "2023-03-16T08:17:36.477Z"
   },
   {
    "duration": 39,
    "start_time": "2023-03-16T08:17:36.499Z"
   },
   {
    "duration": 13,
    "start_time": "2023-03-16T08:17:36.541Z"
   },
   {
    "duration": 1070,
    "start_time": "2023-03-16T09:51:27.681Z"
   },
   {
    "duration": 1244,
    "start_time": "2023-03-16T09:51:37.328Z"
   },
   {
    "duration": 126,
    "start_time": "2023-03-16T09:51:38.574Z"
   },
   {
    "duration": 4,
    "start_time": "2023-03-16T09:51:38.702Z"
   },
   {
    "duration": 8,
    "start_time": "2023-03-16T09:51:38.707Z"
   },
   {
    "duration": 3,
    "start_time": "2023-03-16T09:51:38.717Z"
   },
   {
    "duration": 9,
    "start_time": "2023-03-16T09:51:38.721Z"
   },
   {
    "duration": 14,
    "start_time": "2023-03-16T09:51:38.731Z"
   },
   {
    "duration": 3159,
    "start_time": "2023-03-16T09:51:38.747Z"
   },
   {
    "duration": 5,
    "start_time": "2023-03-16T09:51:41.908Z"
   },
   {
    "duration": 4158,
    "start_time": "2023-03-16T09:51:41.915Z"
   },
   {
    "duration": 17,
    "start_time": "2023-03-16T09:51:46.075Z"
   },
   {
    "duration": 3,
    "start_time": "2023-03-16T09:51:46.094Z"
   },
   {
    "duration": 284,
    "start_time": "2023-03-16T09:51:46.099Z"
   },
   {
    "duration": 7,
    "start_time": "2023-03-16T09:51:46.390Z"
   },
   {
    "duration": 9,
    "start_time": "2023-03-16T09:51:46.399Z"
   },
   {
    "duration": 9,
    "start_time": "2023-03-16T09:51:46.410Z"
   },
   {
    "duration": 5,
    "start_time": "2023-03-16T09:51:46.421Z"
   },
   {
    "duration": 139,
    "start_time": "2023-03-16T09:51:46.428Z"
   },
   {
    "duration": 53,
    "start_time": "2023-03-16T15:44:20.981Z"
   },
   {
    "duration": 1166,
    "start_time": "2023-03-16T15:44:29.259Z"
   },
   {
    "duration": 129,
    "start_time": "2023-03-16T15:44:30.428Z"
   },
   {
    "duration": 4,
    "start_time": "2023-03-16T15:44:33.946Z"
   },
   {
    "duration": 9,
    "start_time": "2023-03-16T15:44:34.772Z"
   },
   {
    "duration": 12,
    "start_time": "2023-03-16T15:44:39.324Z"
   },
   {
    "duration": 12,
    "start_time": "2023-03-16T15:44:44.234Z"
   },
   {
    "duration": 13,
    "start_time": "2023-03-16T15:44:49.289Z"
   },
   {
    "duration": 10,
    "start_time": "2023-03-16T15:45:28.171Z"
   },
   {
    "duration": 8,
    "start_time": "2023-03-16T15:47:09.369Z"
   },
   {
    "duration": 9,
    "start_time": "2023-03-16T15:47:41.833Z"
   },
   {
    "duration": 37,
    "start_time": "2023-03-16T15:48:32.207Z"
   },
   {
    "duration": 3,
    "start_time": "2023-03-16T15:49:39.384Z"
   },
   {
    "duration": 4,
    "start_time": "2023-03-16T15:49:44.669Z"
   },
   {
    "duration": 3,
    "start_time": "2023-03-16T15:49:51.350Z"
   },
   {
    "duration": 6,
    "start_time": "2023-03-16T16:00:09.003Z"
   },
   {
    "duration": 7,
    "start_time": "2023-03-16T16:01:51.187Z"
   },
   {
    "duration": 575,
    "start_time": "2023-03-16T16:02:42.937Z"
   },
   {
    "duration": 116,
    "start_time": "2023-03-16T16:02:59.993Z"
   },
   {
    "duration": 138,
    "start_time": "2023-03-16T16:03:06.625Z"
   },
   {
    "duration": 117,
    "start_time": "2023-03-16T16:03:09.721Z"
   },
   {
    "duration": 130,
    "start_time": "2023-03-16T16:03:15.071Z"
   },
   {
    "duration": 225,
    "start_time": "2023-03-16T16:03:18.241Z"
   },
   {
    "duration": 194,
    "start_time": "2023-03-16T16:03:28.000Z"
   },
   {
    "duration": 177,
    "start_time": "2023-03-16T16:03:37.898Z"
   },
   {
    "duration": 11,
    "start_time": "2023-03-16T16:04:42.218Z"
   },
   {
    "duration": 12,
    "start_time": "2023-03-16T16:04:53.815Z"
   },
   {
    "duration": 100,
    "start_time": "2023-03-16T16:05:52.230Z"
   },
   {
    "duration": 117,
    "start_time": "2023-03-16T16:05:57.814Z"
   },
   {
    "duration": 145,
    "start_time": "2023-03-16T16:06:02.713Z"
   },
   {
    "duration": 108,
    "start_time": "2023-03-16T16:06:08.863Z"
   },
   {
    "duration": 108,
    "start_time": "2023-03-16T16:06:11.838Z"
   },
   {
    "duration": 12,
    "start_time": "2023-03-16T16:11:01.713Z"
   },
   {
    "duration": 260,
    "start_time": "2023-03-16T16:11:16.697Z"
   },
   {
    "duration": 187,
    "start_time": "2023-03-16T16:11:23.065Z"
   },
   {
    "duration": 252,
    "start_time": "2023-03-16T16:11:31.753Z"
   },
   {
    "duration": 153,
    "start_time": "2023-03-16T16:11:42.072Z"
   },
   {
    "duration": 172,
    "start_time": "2023-03-16T16:11:56.562Z"
   },
   {
    "duration": 120,
    "start_time": "2023-03-16T16:12:18.480Z"
   },
   {
    "duration": 161,
    "start_time": "2023-03-16T16:12:25.984Z"
   },
   {
    "duration": 126,
    "start_time": "2023-03-16T16:12:35.696Z"
   },
   {
    "duration": 110,
    "start_time": "2023-03-16T16:12:44.384Z"
   },
   {
    "duration": 154,
    "start_time": "2023-03-16T16:12:51.087Z"
   },
   {
    "duration": 145,
    "start_time": "2023-03-16T16:14:15.606Z"
   },
   {
    "duration": 134,
    "start_time": "2023-03-16T16:14:22.215Z"
   },
   {
    "duration": 150,
    "start_time": "2023-03-16T16:14:31.934Z"
   },
   {
    "duration": 117,
    "start_time": "2023-03-16T16:15:59.325Z"
   },
   {
    "duration": 120,
    "start_time": "2023-03-16T16:16:02.708Z"
   },
   {
    "duration": 123,
    "start_time": "2023-03-16T16:16:08.556Z"
   },
   {
    "duration": 109,
    "start_time": "2023-03-16T16:16:13.298Z"
   },
   {
    "duration": 171,
    "start_time": "2023-03-16T16:16:24.077Z"
   },
   {
    "duration": 234,
    "start_time": "2023-03-16T16:16:28.644Z"
   },
   {
    "duration": 116,
    "start_time": "2023-03-16T16:16:33.644Z"
   },
   {
    "duration": 158,
    "start_time": "2023-03-16T16:18:36.186Z"
   },
   {
    "duration": 178,
    "start_time": "2023-03-16T16:20:28.161Z"
   },
   {
    "duration": 12,
    "start_time": "2023-03-16T16:25:07.380Z"
   },
   {
    "duration": 8,
    "start_time": "2023-03-16T16:25:23.148Z"
   },
   {
    "duration": 7,
    "start_time": "2023-03-16T16:25:29.723Z"
   },
   {
    "duration": 2872,
    "start_time": "2023-03-16T16:25:34.804Z"
   },
   {
    "duration": 6,
    "start_time": "2023-03-16T16:25:53.683Z"
   },
   {
    "duration": 3885,
    "start_time": "2023-03-16T16:26:27.346Z"
   },
   {
    "duration": 13,
    "start_time": "2023-03-16T16:26:36.179Z"
   },
   {
    "duration": 205,
    "start_time": "2023-03-16T16:26:41.659Z"
   },
   {
    "duration": 6,
    "start_time": "2023-03-16T16:26:46.819Z"
   },
   {
    "duration": 204,
    "start_time": "2023-03-16T16:26:50.930Z"
   },
   {
    "duration": 7,
    "start_time": "2023-03-16T16:27:05.058Z"
   },
   {
    "duration": 8,
    "start_time": "2023-03-16T16:28:02.185Z"
   },
   {
    "duration": 6,
    "start_time": "2023-03-16T16:31:24.271Z"
   },
   {
    "duration": 6,
    "start_time": "2023-03-16T16:31:34.892Z"
   },
   {
    "duration": 3,
    "start_time": "2023-03-16T16:31:42.533Z"
   },
   {
    "duration": 4,
    "start_time": "2023-03-16T16:31:51.592Z"
   },
   {
    "duration": 3,
    "start_time": "2023-03-16T16:32:00.646Z"
   },
   {
    "duration": 43,
    "start_time": "2023-03-16T16:37:23.344Z"
   },
   {
    "duration": 5,
    "start_time": "2023-03-16T16:37:27.656Z"
   },
   {
    "duration": 8,
    "start_time": "2023-03-16T16:37:30.008Z"
   },
   {
    "duration": 4,
    "start_time": "2023-03-16T16:56:56.998Z"
   },
   {
    "duration": 64,
    "start_time": "2023-03-16T16:56:58.423Z"
   },
   {
    "duration": 17,
    "start_time": "2023-03-16T16:57:00.445Z"
   },
   {
    "duration": 14,
    "start_time": "2023-03-16T16:57:01.862Z"
   },
   {
    "duration": 375,
    "start_time": "2023-03-16T16:57:09.820Z"
   },
   {
    "duration": 362,
    "start_time": "2023-03-16T16:58:39.988Z"
   },
   {
    "duration": 372,
    "start_time": "2023-03-16T16:58:48.283Z"
   },
   {
    "duration": 339,
    "start_time": "2023-03-16T17:04:57.790Z"
   },
   {
    "duration": 384,
    "start_time": "2023-03-16T17:05:41.846Z"
   },
   {
    "duration": 4,
    "start_time": "2023-03-16T17:08:08.955Z"
   },
   {
    "duration": 3,
    "start_time": "2023-03-16T17:08:28.452Z"
   },
   {
    "duration": 5,
    "start_time": "2023-03-16T17:08:29.459Z"
   },
   {
    "duration": 2920,
    "start_time": "2023-03-16T17:09:47.794Z"
   },
   {
    "duration": 2838,
    "start_time": "2023-03-16T17:10:31.449Z"
   },
   {
    "duration": 6,
    "start_time": "2023-03-16T17:10:58.008Z"
   },
   {
    "duration": 3988,
    "start_time": "2023-03-16T17:11:51.264Z"
   },
   {
    "duration": 198,
    "start_time": "2023-03-16T17:12:37.430Z"
   },
   {
    "duration": 14,
    "start_time": "2023-03-16T17:18:26.650Z"
   },
   {
    "duration": 11,
    "start_time": "2023-03-16T17:20:04.431Z"
   },
   {
    "duration": 3,
    "start_time": "2023-03-16T17:27:50.792Z"
   },
   {
    "duration": 2705,
    "start_time": "2023-03-16T17:28:04.232Z"
   },
   {
    "duration": 1414,
    "start_time": "2023-03-16T17:28:16.238Z"
   },
   {
    "duration": 65,
    "start_time": "2023-03-16T17:28:17.654Z"
   },
   {
    "duration": 13,
    "start_time": "2023-03-16T17:28:17.721Z"
   },
   {
    "duration": 7,
    "start_time": "2023-03-16T17:28:17.736Z"
   },
   {
    "duration": 8,
    "start_time": "2023-03-16T17:28:17.745Z"
   },
   {
    "duration": 392,
    "start_time": "2023-03-16T17:28:17.754Z"
   },
   {
    "duration": 35,
    "start_time": "2023-03-16T17:28:18.148Z"
   },
   {
    "duration": 811,
    "start_time": "2023-03-16T17:28:18.185Z"
   },
   {
    "duration": 0,
    "start_time": "2023-03-16T17:28:18.998Z"
   },
   {
    "duration": 0,
    "start_time": "2023-03-16T17:28:19.001Z"
   },
   {
    "duration": 0,
    "start_time": "2023-03-16T17:28:19.002Z"
   },
   {
    "duration": 0,
    "start_time": "2023-03-16T17:28:19.003Z"
   },
   {
    "duration": 0,
    "start_time": "2023-03-16T17:28:19.004Z"
   },
   {
    "duration": 0,
    "start_time": "2023-03-16T17:28:19.005Z"
   },
   {
    "duration": 0,
    "start_time": "2023-03-16T17:28:19.006Z"
   },
   {
    "duration": 0,
    "start_time": "2023-03-16T17:28:19.006Z"
   },
   {
    "duration": 0,
    "start_time": "2023-03-16T17:28:19.008Z"
   },
   {
    "duration": 0,
    "start_time": "2023-03-16T17:28:19.008Z"
   },
   {
    "duration": 0,
    "start_time": "2023-03-16T17:28:19.009Z"
   },
   {
    "duration": 0,
    "start_time": "2023-03-16T17:28:19.010Z"
   },
   {
    "duration": 0,
    "start_time": "2023-03-16T17:28:19.011Z"
   },
   {
    "duration": 0,
    "start_time": "2023-03-16T17:28:19.012Z"
   },
   {
    "duration": 0,
    "start_time": "2023-03-16T17:28:19.013Z"
   },
   {
    "duration": 0,
    "start_time": "2023-03-16T17:28:19.014Z"
   },
   {
    "duration": 114,
    "start_time": "2023-03-16T17:28:37.663Z"
   },
   {
    "duration": 7,
    "start_time": "2023-03-16T17:28:42.126Z"
   },
   {
    "duration": 7,
    "start_time": "2023-03-16T17:28:45.007Z"
   },
   {
    "duration": 5,
    "start_time": "2023-03-16T17:28:45.792Z"
   },
   {
    "duration": 3,
    "start_time": "2023-03-16T17:28:46.646Z"
   },
   {
    "duration": 3,
    "start_time": "2023-03-16T17:28:48.270Z"
   },
   {
    "duration": 4,
    "start_time": "2023-03-16T17:28:49.189Z"
   },
   {
    "duration": 17,
    "start_time": "2023-03-16T17:28:52.496Z"
   },
   {
    "duration": 1408,
    "start_time": "2023-03-16T17:29:09.191Z"
   },
   {
    "duration": 65,
    "start_time": "2023-03-16T17:29:10.601Z"
   },
   {
    "duration": 11,
    "start_time": "2023-03-16T17:29:10.667Z"
   },
   {
    "duration": 4,
    "start_time": "2023-03-16T17:29:10.680Z"
   },
   {
    "duration": 7,
    "start_time": "2023-03-16T17:29:10.685Z"
   },
   {
    "duration": 368,
    "start_time": "2023-03-16T17:29:10.694Z"
   },
   {
    "duration": 28,
    "start_time": "2023-03-16T17:29:11.064Z"
   },
   {
    "duration": 124,
    "start_time": "2023-03-16T17:29:11.093Z"
   },
   {
    "duration": 7,
    "start_time": "2023-03-16T17:29:11.219Z"
   },
   {
    "duration": 6,
    "start_time": "2023-03-16T17:29:11.229Z"
   },
   {
    "duration": 6,
    "start_time": "2023-03-16T17:29:11.237Z"
   },
   {
    "duration": 6,
    "start_time": "2023-03-16T17:29:11.244Z"
   },
   {
    "duration": 23,
    "start_time": "2023-03-16T17:29:11.252Z"
   },
   {
    "duration": 5,
    "start_time": "2023-03-16T17:29:11.277Z"
   },
   {
    "duration": 4,
    "start_time": "2023-03-16T17:29:11.284Z"
   },
   {
    "duration": 2698,
    "start_time": "2023-03-16T17:29:11.289Z"
   },
   {
    "duration": 3673,
    "start_time": "2023-03-16T17:29:13.989Z"
   },
   {
    "duration": 2,
    "start_time": "2023-03-16T17:29:17.664Z"
   },
   {
    "duration": 192,
    "start_time": "2023-03-16T17:29:17.676Z"
   },
   {
    "duration": 14,
    "start_time": "2023-03-16T17:29:17.870Z"
   },
   {
    "duration": 2,
    "start_time": "2023-03-16T17:29:17.886Z"
   },
   {
    "duration": 11,
    "start_time": "2023-03-16T17:29:17.889Z"
   },
   {
    "duration": 4,
    "start_time": "2023-03-16T17:29:17.901Z"
   },
   {
    "duration": 127,
    "start_time": "2023-03-16T17:29:17.906Z"
   },
   {
    "duration": 10,
    "start_time": "2023-03-16T17:29:40.086Z"
   },
   {
    "duration": 5,
    "start_time": "2023-03-16T17:29:42.620Z"
   },
   {
    "duration": 2657,
    "start_time": "2023-03-16T17:31:46.251Z"
   },
   {
    "duration": 3703,
    "start_time": "2023-03-16T17:31:51.588Z"
   },
   {
    "duration": 182,
    "start_time": "2023-03-16T17:31:59.988Z"
   },
   {
    "duration": 11,
    "start_time": "2023-03-16T17:32:07.780Z"
   },
   {
    "duration": 10,
    "start_time": "2023-03-16T17:33:21.899Z"
   },
   {
    "duration": 5,
    "start_time": "2023-03-16T17:33:23.121Z"
   },
   {
    "duration": 11,
    "start_time": "2023-03-16T17:33:23.769Z"
   },
   {
    "duration": 13,
    "start_time": "2023-03-16T17:42:00.401Z"
   },
   {
    "duration": 10,
    "start_time": "2023-03-16T17:42:22.601Z"
   },
   {
    "duration": 5,
    "start_time": "2023-03-16T17:42:31.249Z"
   },
   {
    "duration": 17,
    "start_time": "2023-03-16T17:42:44.193Z"
   },
   {
    "duration": 5,
    "start_time": "2023-03-16T17:43:37.392Z"
   },
   {
    "duration": 9,
    "start_time": "2023-03-16T17:43:42.007Z"
   },
   {
    "duration": 10,
    "start_time": "2023-03-16T17:43:48.063Z"
   },
   {
    "duration": 9,
    "start_time": "2023-03-16T17:43:53.063Z"
   },
   {
    "duration": 7,
    "start_time": "2023-03-16T17:44:57.120Z"
   },
   {
    "duration": 6,
    "start_time": "2023-03-16T17:45:03.335Z"
   },
   {
    "duration": 16,
    "start_time": "2023-03-16T17:45:59.110Z"
   },
   {
    "duration": 18,
    "start_time": "2023-03-16T17:49:07.913Z"
   },
   {
    "duration": 15,
    "start_time": "2023-03-16T17:49:22.689Z"
   },
   {
    "duration": 15,
    "start_time": "2023-03-16T17:49:43.434Z"
   },
   {
    "duration": 17,
    "start_time": "2023-03-16T17:50:13.416Z"
   },
   {
    "duration": 14,
    "start_time": "2023-03-16T17:50:25.593Z"
   },
   {
    "duration": 1450,
    "start_time": "2023-03-16T17:50:39.963Z"
   },
   {
    "duration": 72,
    "start_time": "2023-03-16T17:50:41.415Z"
   },
   {
    "duration": 13,
    "start_time": "2023-03-16T17:50:41.493Z"
   },
   {
    "duration": 7,
    "start_time": "2023-03-16T17:50:41.508Z"
   },
   {
    "duration": 8,
    "start_time": "2023-03-16T17:50:41.516Z"
   },
   {
    "duration": 421,
    "start_time": "2023-03-16T17:50:41.526Z"
   },
   {
    "duration": 34,
    "start_time": "2023-03-16T17:50:41.949Z"
   },
   {
    "duration": 118,
    "start_time": "2023-03-16T17:50:41.985Z"
   },
   {
    "duration": 8,
    "start_time": "2023-03-16T17:50:42.106Z"
   },
   {
    "duration": 22,
    "start_time": "2023-03-16T17:50:42.116Z"
   },
   {
    "duration": 7,
    "start_time": "2023-03-16T17:50:42.139Z"
   },
   {
    "duration": 13,
    "start_time": "2023-03-16T17:50:42.148Z"
   },
   {
    "duration": 6,
    "start_time": "2023-03-16T17:50:42.163Z"
   },
   {
    "duration": 12,
    "start_time": "2023-03-16T17:50:42.175Z"
   },
   {
    "duration": 5,
    "start_time": "2023-03-16T17:50:42.190Z"
   },
   {
    "duration": 2834,
    "start_time": "2023-03-16T17:50:42.196Z"
   },
   {
    "duration": 3785,
    "start_time": "2023-03-16T17:50:45.031Z"
   },
   {
    "duration": 2,
    "start_time": "2023-03-16T17:50:48.818Z"
   },
   {
    "duration": 203,
    "start_time": "2023-03-16T17:50:48.822Z"
   },
   {
    "duration": 12,
    "start_time": "2023-03-16T17:50:49.027Z"
   },
   {
    "duration": 9,
    "start_time": "2023-03-16T17:50:49.040Z"
   },
   {
    "duration": 28,
    "start_time": "2023-03-16T17:50:49.051Z"
   },
   {
    "duration": 11,
    "start_time": "2023-03-16T17:50:49.080Z"
   },
   {
    "duration": 122,
    "start_time": "2023-03-16T17:50:49.092Z"
   },
   {
    "duration": 13,
    "start_time": "2023-03-16T17:51:05.753Z"
   },
   {
    "duration": 5,
    "start_time": "2023-03-16T17:51:09.609Z"
   },
   {
    "duration": 24,
    "start_time": "2023-03-16T17:51:21.865Z"
   },
   {
    "duration": 17,
    "start_time": "2023-03-16T17:51:36.768Z"
   },
   {
    "duration": 15,
    "start_time": "2023-03-16T17:51:45.039Z"
   },
   {
    "duration": 17,
    "start_time": "2023-03-16T17:52:40.856Z"
   },
   {
    "duration": 15,
    "start_time": "2023-03-16T17:52:47.615Z"
   },
   {
    "duration": 23,
    "start_time": "2023-03-16T17:53:13.375Z"
   },
   {
    "duration": 15,
    "start_time": "2023-03-16T17:53:24.279Z"
   },
   {
    "duration": 14,
    "start_time": "2023-03-16T17:53:58.886Z"
   },
   {
    "duration": 6,
    "start_time": "2023-03-16T17:54:20.309Z"
   },
   {
    "duration": 11,
    "start_time": "2023-03-16T17:54:40.254Z"
   },
   {
    "duration": 9,
    "start_time": "2023-03-16T17:54:42.685Z"
   },
   {
    "duration": 12,
    "start_time": "2023-03-16T17:54:48.013Z"
   },
   {
    "duration": 8,
    "start_time": "2023-03-16T17:54:59.900Z"
   },
   {
    "duration": 12,
    "start_time": "2023-03-16T17:55:50.227Z"
   },
   {
    "duration": 9,
    "start_time": "2023-03-16T17:56:12.323Z"
   },
   {
    "duration": 12,
    "start_time": "2023-03-16T17:56:35.324Z"
   },
   {
    "duration": 10,
    "start_time": "2023-03-16T18:17:51.928Z"
   },
   {
    "duration": 117,
    "start_time": "2023-03-16T18:19:43.037Z"
   },
   {
    "duration": 241,
    "start_time": "2023-03-16T18:19:54.022Z"
   },
   {
    "duration": 243,
    "start_time": "2023-03-16T18:24:48.055Z"
   },
   {
    "duration": 169,
    "start_time": "2023-03-16T18:34:21.240Z"
   },
   {
    "duration": 55,
    "start_time": "2023-03-17T06:55:12.664Z"
   },
   {
    "duration": 1769,
    "start_time": "2023-03-17T06:55:18.506Z"
   },
   {
    "duration": 188,
    "start_time": "2023-03-17T06:55:20.277Z"
   },
   {
    "duration": 15,
    "start_time": "2023-03-17T06:55:20.467Z"
   },
   {
    "duration": 25,
    "start_time": "2023-03-17T06:55:20.486Z"
   },
   {
    "duration": 12,
    "start_time": "2023-03-17T06:55:20.513Z"
   },
   {
    "duration": 501,
    "start_time": "2023-03-17T06:55:20.527Z"
   },
   {
    "duration": 25,
    "start_time": "2023-03-17T06:55:21.030Z"
   },
   {
    "duration": 134,
    "start_time": "2023-03-17T06:55:21.057Z"
   },
   {
    "duration": 9,
    "start_time": "2023-03-17T06:55:21.193Z"
   },
   {
    "duration": 11,
    "start_time": "2023-03-17T06:55:21.206Z"
   },
   {
    "duration": 9,
    "start_time": "2023-03-17T06:55:21.219Z"
   },
   {
    "duration": 12,
    "start_time": "2023-03-17T06:55:21.230Z"
   },
   {
    "duration": 31,
    "start_time": "2023-03-17T06:55:21.244Z"
   },
   {
    "duration": 18,
    "start_time": "2023-03-17T06:55:21.278Z"
   },
   {
    "duration": 7,
    "start_time": "2023-03-17T06:55:21.298Z"
   },
   {
    "duration": 3088,
    "start_time": "2023-03-17T06:55:21.307Z"
   },
   {
    "duration": 4221,
    "start_time": "2023-03-17T06:55:24.397Z"
   },
   {
    "duration": 4,
    "start_time": "2023-03-17T06:55:28.620Z"
   },
   {
    "duration": 238,
    "start_time": "2023-03-17T06:55:28.626Z"
   },
   {
    "duration": 20,
    "start_time": "2023-03-17T06:55:28.866Z"
   },
   {
    "duration": 20,
    "start_time": "2023-03-17T06:55:28.888Z"
   },
   {
    "duration": 32,
    "start_time": "2023-03-17T06:55:28.911Z"
   },
   {
    "duration": 30,
    "start_time": "2023-03-17T06:55:28.945Z"
   },
   {
    "duration": 358,
    "start_time": "2023-03-17T06:55:28.979Z"
   },
   {
    "duration": 15,
    "start_time": "2023-03-17T06:57:49.331Z"
   },
   {
    "duration": 6,
    "start_time": "2023-03-17T06:57:50.372Z"
   },
   {
    "duration": 3320,
    "start_time": "2023-04-05T08:47:46.228Z"
   },
   {
    "duration": 233,
    "start_time": "2023-04-05T08:47:49.551Z"
   },
   {
    "duration": 15,
    "start_time": "2023-04-05T08:47:49.786Z"
   },
   {
    "duration": 13,
    "start_time": "2023-04-05T08:47:49.803Z"
   },
   {
    "duration": 18,
    "start_time": "2023-04-05T08:47:49.818Z"
   },
   {
    "duration": 13,
    "start_time": "2023-04-05T08:47:49.838Z"
   },
   {
    "duration": 23,
    "start_time": "2023-04-05T08:47:49.854Z"
   },
   {
    "duration": 28,
    "start_time": "2023-04-05T08:47:49.880Z"
   },
   {
    "duration": 28,
    "start_time": "2023-04-05T08:47:49.910Z"
   },
   {
    "duration": 470,
    "start_time": "2023-04-05T08:47:49.941Z"
   },
   {
    "duration": 14,
    "start_time": "2023-04-05T08:47:50.413Z"
   },
   {
    "duration": 36,
    "start_time": "2023-04-05T08:47:50.434Z"
   },
   {
    "duration": 136,
    "start_time": "2023-04-05T08:47:50.472Z"
   },
   {
    "duration": 7,
    "start_time": "2023-04-05T08:47:50.610Z"
   },
   {
    "duration": 24,
    "start_time": "2023-04-05T08:47:50.619Z"
   },
   {
    "duration": 19,
    "start_time": "2023-04-05T08:47:50.645Z"
   },
   {
    "duration": 5,
    "start_time": "2023-04-05T08:47:50.665Z"
   },
   {
    "duration": 13,
    "start_time": "2023-04-05T08:47:50.671Z"
   },
   {
    "duration": 9,
    "start_time": "2023-04-05T08:47:50.686Z"
   },
   {
    "duration": 5985,
    "start_time": "2023-04-05T08:47:50.697Z"
   },
   {
    "duration": 7412,
    "start_time": "2023-04-05T08:47:56.684Z"
   },
   {
    "duration": 15041,
    "start_time": "2023-04-05T08:48:04.099Z"
   },
   {
    "duration": 431,
    "start_time": "2023-04-05T08:48:19.142Z"
   },
   {
    "duration": 14,
    "start_time": "2023-04-05T08:48:19.576Z"
   },
   {
    "duration": 12336,
    "start_time": "2023-04-05T08:48:19.592Z"
   },
   {
    "duration": 12153,
    "start_time": "2023-04-05T08:48:31.933Z"
   },
   {
    "duration": 23356,
    "start_time": "2023-04-05T08:48:44.087Z"
   },
   {
    "duration": 98,
    "start_time": "2023-04-05T08:49:07.447Z"
   },
   {
    "duration": 4251,
    "start_time": "2023-04-05T08:49:07.547Z"
   },
   {
    "duration": 3825,
    "start_time": "2023-04-05T08:49:11.800Z"
   },
   {
    "duration": 9804,
    "start_time": "2023-04-05T08:49:15.632Z"
   },
   {
    "duration": 17,
    "start_time": "2023-04-05T08:49:25.438Z"
   },
   {
    "duration": 218,
    "start_time": "2023-04-05T08:49:25.457Z"
   },
   {
    "duration": 415,
    "start_time": "2023-04-05T08:49:25.677Z"
   },
   {
    "duration": 1814,
    "start_time": "2023-04-05T09:50:18.579Z"
   },
   {
    "duration": 1481,
    "start_time": "2023-04-05T09:50:41.790Z"
   },
   {
    "duration": 117,
    "start_time": "2023-04-05T09:50:43.274Z"
   },
   {
    "duration": 15,
    "start_time": "2023-04-05T09:50:43.392Z"
   },
   {
    "duration": 4,
    "start_time": "2023-04-05T09:50:43.409Z"
   },
   {
    "duration": 14,
    "start_time": "2023-04-05T09:50:43.414Z"
   },
   {
    "duration": 8,
    "start_time": "2023-04-05T09:50:43.430Z"
   },
   {
    "duration": 25,
    "start_time": "2023-04-05T09:50:43.439Z"
   },
   {
    "duration": 5,
    "start_time": "2023-04-05T09:50:43.466Z"
   },
   {
    "duration": 10,
    "start_time": "2023-04-05T09:50:43.473Z"
   },
   {
    "duration": 447,
    "start_time": "2023-04-05T09:50:43.486Z"
   },
   {
    "duration": 15,
    "start_time": "2023-04-05T09:50:43.934Z"
   },
   {
    "duration": 37,
    "start_time": "2023-04-05T09:50:43.950Z"
   },
   {
    "duration": 143,
    "start_time": "2023-04-05T09:50:43.988Z"
   },
   {
    "duration": 8,
    "start_time": "2023-04-05T09:50:44.133Z"
   },
   {
    "duration": 10,
    "start_time": "2023-04-05T09:50:44.143Z"
   },
   {
    "duration": 16,
    "start_time": "2023-04-05T09:50:44.154Z"
   },
   {
    "duration": 4,
    "start_time": "2023-04-05T09:50:44.171Z"
   },
   {
    "duration": 9,
    "start_time": "2023-04-05T09:50:44.176Z"
   },
   {
    "duration": 37,
    "start_time": "2023-04-05T09:50:44.187Z"
   },
   {
    "duration": 5822,
    "start_time": "2023-04-05T09:50:44.226Z"
   },
   {
    "duration": 6235,
    "start_time": "2023-04-05T09:50:50.050Z"
   },
   {
    "duration": 7037,
    "start_time": "2023-04-05T09:50:56.287Z"
   },
   {
    "duration": 352,
    "start_time": "2023-04-05T09:51:03.327Z"
   },
   {
    "duration": 17,
    "start_time": "2023-04-05T09:51:03.681Z"
   },
   {
    "duration": 11729,
    "start_time": "2023-04-05T09:51:03.700Z"
   },
   {
    "duration": 11841,
    "start_time": "2023-04-05T09:51:15.431Z"
   },
   {
    "duration": 20495,
    "start_time": "2023-04-05T09:51:27.274Z"
   },
   {
    "duration": 98,
    "start_time": "2023-04-05T09:51:47.827Z"
   },
   {
    "duration": 3885,
    "start_time": "2023-04-05T09:51:47.928Z"
   },
   {
    "duration": 3704,
    "start_time": "2023-04-05T09:51:51.815Z"
   },
   {
    "duration": 5019,
    "start_time": "2023-04-05T09:51:55.520Z"
   },
   {
    "duration": 20,
    "start_time": "2023-04-05T09:52:00.625Z"
   },
   {
    "duration": 209,
    "start_time": "2023-04-05T09:52:00.648Z"
   },
   {
    "duration": 443,
    "start_time": "2023-04-05T09:52:00.859Z"
   },
   {
    "duration": 1507,
    "start_time": "2023-04-05T09:59:18.012Z"
   },
   {
    "duration": 73,
    "start_time": "2023-04-05T09:59:19.521Z"
   },
   {
    "duration": 13,
    "start_time": "2023-04-05T09:59:19.596Z"
   },
   {
    "duration": 4,
    "start_time": "2023-04-05T09:59:19.611Z"
   },
   {
    "duration": 21,
    "start_time": "2023-04-05T09:59:19.616Z"
   },
   {
    "duration": 8,
    "start_time": "2023-04-05T09:59:19.638Z"
   },
   {
    "duration": 8,
    "start_time": "2023-04-05T09:59:19.648Z"
   },
   {
    "duration": 17,
    "start_time": "2023-04-05T09:59:19.658Z"
   },
   {
    "duration": 17,
    "start_time": "2023-04-05T09:59:19.677Z"
   },
   {
    "duration": 434,
    "start_time": "2023-04-05T09:59:19.697Z"
   },
   {
    "duration": 13,
    "start_time": "2023-04-05T09:59:20.133Z"
   },
   {
    "duration": 48,
    "start_time": "2023-04-05T09:59:20.147Z"
   },
   {
    "duration": 164,
    "start_time": "2023-04-05T09:59:20.197Z"
   },
   {
    "duration": 10,
    "start_time": "2023-04-05T09:59:20.363Z"
   },
   {
    "duration": 28,
    "start_time": "2023-04-05T09:59:20.375Z"
   },
   {
    "duration": 44,
    "start_time": "2023-04-05T09:59:20.406Z"
   },
   {
    "duration": 8,
    "start_time": "2023-04-05T09:59:20.452Z"
   },
   {
    "duration": 20,
    "start_time": "2023-04-05T09:59:20.461Z"
   },
   {
    "duration": 30,
    "start_time": "2023-04-05T09:59:20.483Z"
   },
   {
    "duration": 5860,
    "start_time": "2023-04-05T09:59:20.516Z"
   },
   {
    "duration": 6108,
    "start_time": "2023-04-05T09:59:26.378Z"
   },
   {
    "duration": 8836,
    "start_time": "2023-04-05T09:59:32.488Z"
   },
   {
    "duration": 262,
    "start_time": "2023-04-05T09:59:41.326Z"
   },
   {
    "duration": 12,
    "start_time": "2023-04-05T09:59:41.591Z"
   },
   {
    "duration": 8490,
    "start_time": "2023-04-05T09:59:41.605Z"
   },
   {
    "duration": 8285,
    "start_time": "2023-04-05T09:59:50.097Z"
   },
   {
    "duration": 12840,
    "start_time": "2023-04-05T09:59:58.384Z"
   },
   {
    "duration": 99,
    "start_time": "2023-04-05T10:00:11.230Z"
   },
   {
    "duration": 4358,
    "start_time": "2023-04-05T10:00:11.332Z"
   },
   {
    "duration": 4115,
    "start_time": "2023-04-05T10:00:15.692Z"
   },
   {
    "duration": 5549,
    "start_time": "2023-04-05T10:00:19.809Z"
   },
   {
    "duration": 106,
    "start_time": "2023-04-05T10:00:25.425Z"
   },
   {
    "duration": 169,
    "start_time": "2023-04-05T10:00:25.533Z"
   },
   {
    "duration": 382,
    "start_time": "2023-04-05T10:00:25.704Z"
   },
   {
    "duration": 6,
    "start_time": "2023-04-05T10:05:08.544Z"
   },
   {
    "duration": 10,
    "start_time": "2023-04-05T10:05:13.089Z"
   },
   {
    "duration": 5,
    "start_time": "2023-04-05T10:05:17.601Z"
   },
   {
    "duration": 8,
    "start_time": "2023-04-05T10:05:35.815Z"
   },
   {
    "duration": 9,
    "start_time": "2023-04-05T10:06:03.489Z"
   },
   {
    "duration": 8,
    "start_time": "2023-04-05T10:06:11.135Z"
   },
   {
    "duration": 7,
    "start_time": "2023-04-05T10:06:22.111Z"
   },
   {
    "duration": 1486,
    "start_time": "2023-04-05T10:06:26.439Z"
   },
   {
    "duration": 75,
    "start_time": "2023-04-05T10:06:27.928Z"
   },
   {
    "duration": 13,
    "start_time": "2023-04-05T10:06:28.004Z"
   },
   {
    "duration": 3,
    "start_time": "2023-04-05T10:06:28.020Z"
   },
   {
    "duration": 13,
    "start_time": "2023-04-05T10:06:28.025Z"
   },
   {
    "duration": 8,
    "start_time": "2023-04-05T10:06:28.039Z"
   },
   {
    "duration": 24,
    "start_time": "2023-04-05T10:06:28.048Z"
   },
   {
    "duration": 12,
    "start_time": "2023-04-05T10:06:28.074Z"
   },
   {
    "duration": 4,
    "start_time": "2023-04-05T10:06:28.088Z"
   },
   {
    "duration": 424,
    "start_time": "2023-04-05T10:06:28.096Z"
   },
   {
    "duration": 14,
    "start_time": "2023-04-05T10:06:28.522Z"
   },
   {
    "duration": 35,
    "start_time": "2023-04-05T10:06:28.537Z"
   },
   {
    "duration": 136,
    "start_time": "2023-04-05T10:06:28.574Z"
   },
   {
    "duration": 17,
    "start_time": "2023-04-05T10:06:28.712Z"
   },
   {
    "duration": 15,
    "start_time": "2023-04-05T10:06:28.731Z"
   },
   {
    "duration": 23,
    "start_time": "2023-04-05T10:06:28.747Z"
   },
   {
    "duration": 9,
    "start_time": "2023-04-05T10:06:28.771Z"
   },
   {
    "duration": 25,
    "start_time": "2023-04-05T10:06:28.782Z"
   },
   {
    "duration": 15,
    "start_time": "2023-04-05T10:06:28.808Z"
   },
   {
    "duration": 5792,
    "start_time": "2023-04-05T10:06:28.825Z"
   },
   {
    "duration": 5804,
    "start_time": "2023-04-05T10:06:34.619Z"
   },
   {
    "duration": 6699,
    "start_time": "2023-04-05T10:06:40.425Z"
   },
   {
    "duration": 339,
    "start_time": "2023-04-05T10:06:47.128Z"
   },
   {
    "duration": 12,
    "start_time": "2023-04-05T10:06:47.468Z"
   },
   {
    "duration": 8524,
    "start_time": "2023-04-05T10:06:47.482Z"
   },
   {
    "duration": 8222,
    "start_time": "2023-04-05T10:06:56.009Z"
   },
   {
    "duration": 11292,
    "start_time": "2023-04-05T10:07:04.233Z"
   },
   {
    "duration": 98,
    "start_time": "2023-04-05T10:07:15.529Z"
   },
   {
    "duration": 4276,
    "start_time": "2023-04-05T10:07:15.629Z"
   },
   {
    "duration": 4323,
    "start_time": "2023-04-05T10:07:19.907Z"
   },
   {
    "duration": 4734,
    "start_time": "2023-04-05T10:07:24.232Z"
   },
   {
    "duration": 102,
    "start_time": "2023-04-05T10:07:29.023Z"
   },
   {
    "duration": 160,
    "start_time": "2023-04-05T10:07:29.127Z"
   },
   {
    "duration": 405,
    "start_time": "2023-04-05T10:07:29.289Z"
   },
   {
    "duration": 129,
    "start_time": "2023-04-05T10:07:29.696Z"
   },
   {
    "duration": 8,
    "start_time": "2023-04-05T10:07:45.622Z"
   },
   {
    "duration": 8,
    "start_time": "2023-04-05T10:08:07.797Z"
   },
   {
    "duration": 4,
    "start_time": "2023-04-05T10:08:29.141Z"
   },
   {
    "duration": 6,
    "start_time": "2023-04-05T10:08:31.748Z"
   },
   {
    "duration": 23,
    "start_time": "2023-04-05T10:09:21.331Z"
   },
   {
    "duration": 11,
    "start_time": "2023-04-05T10:09:36.324Z"
   },
   {
    "duration": 11,
    "start_time": "2023-04-05T10:09:46.476Z"
   },
   {
    "duration": 1497,
    "start_time": "2023-04-05T10:09:56.015Z"
   },
   {
    "duration": 175,
    "start_time": "2023-04-05T10:09:57.514Z"
   },
   {
    "duration": 14,
    "start_time": "2023-04-05T10:09:57.691Z"
   },
   {
    "duration": 15,
    "start_time": "2023-04-05T10:09:57.707Z"
   },
   {
    "duration": 13,
    "start_time": "2023-04-05T10:09:57.724Z"
   },
   {
    "duration": 9,
    "start_time": "2023-04-05T10:09:57.739Z"
   },
   {
    "duration": 7,
    "start_time": "2023-04-05T10:09:57.750Z"
   },
   {
    "duration": 21,
    "start_time": "2023-04-05T10:09:57.759Z"
   },
   {
    "duration": 9,
    "start_time": "2023-04-05T10:09:57.782Z"
   },
   {
    "duration": 430,
    "start_time": "2023-04-05T10:09:57.794Z"
   },
   {
    "duration": 18,
    "start_time": "2023-04-05T10:09:58.226Z"
   },
   {
    "duration": 36,
    "start_time": "2023-04-05T10:09:58.245Z"
   },
   {
    "duration": 143,
    "start_time": "2023-04-05T10:09:58.283Z"
   },
   {
    "duration": 7,
    "start_time": "2023-04-05T10:09:58.428Z"
   },
   {
    "duration": 9,
    "start_time": "2023-04-05T10:09:58.437Z"
   },
   {
    "duration": 16,
    "start_time": "2023-04-05T10:09:58.448Z"
   },
   {
    "duration": 4,
    "start_time": "2023-04-05T10:09:58.466Z"
   },
   {
    "duration": 22,
    "start_time": "2023-04-05T10:09:58.472Z"
   },
   {
    "duration": 39,
    "start_time": "2023-04-05T10:09:58.495Z"
   },
   {
    "duration": 155,
    "start_time": "2023-04-05T10:09:58.536Z"
   },
   {
    "duration": 0,
    "start_time": "2023-04-05T10:09:58.693Z"
   },
   {
    "duration": 0,
    "start_time": "2023-04-05T10:09:58.694Z"
   },
   {
    "duration": 0,
    "start_time": "2023-04-05T10:09:58.695Z"
   },
   {
    "duration": 0,
    "start_time": "2023-04-05T10:09:58.696Z"
   },
   {
    "duration": 0,
    "start_time": "2023-04-05T10:09:58.698Z"
   },
   {
    "duration": 0,
    "start_time": "2023-04-05T10:09:58.699Z"
   },
   {
    "duration": 0,
    "start_time": "2023-04-05T10:09:58.700Z"
   },
   {
    "duration": 0,
    "start_time": "2023-04-05T10:09:58.702Z"
   },
   {
    "duration": 0,
    "start_time": "2023-04-05T10:09:58.703Z"
   },
   {
    "duration": 0,
    "start_time": "2023-04-05T10:09:58.723Z"
   },
   {
    "duration": 0,
    "start_time": "2023-04-05T10:09:58.725Z"
   },
   {
    "duration": 0,
    "start_time": "2023-04-05T10:09:58.727Z"
   },
   {
    "duration": 0,
    "start_time": "2023-04-05T10:09:58.728Z"
   },
   {
    "duration": 0,
    "start_time": "2023-04-05T10:09:58.730Z"
   },
   {
    "duration": 7,
    "start_time": "2023-04-05T10:10:33.603Z"
   },
   {
    "duration": 25,
    "start_time": "2023-04-05T10:12:38.025Z"
   },
   {
    "duration": 16,
    "start_time": "2023-04-05T10:12:46.856Z"
   },
   {
    "duration": 4,
    "start_time": "2023-04-05T10:12:48.023Z"
   },
   {
    "duration": 4,
    "start_time": "2023-04-05T10:12:48.808Z"
   },
   {
    "duration": 4,
    "start_time": "2023-04-05T10:12:50.575Z"
   },
   {
    "duration": 31,
    "start_time": "2023-04-05T10:12:52.208Z"
   },
   {
    "duration": 4,
    "start_time": "2023-04-05T10:13:27.160Z"
   },
   {
    "duration": 26,
    "start_time": "2023-04-05T10:14:04.496Z"
   },
   {
    "duration": 6,
    "start_time": "2023-04-05T10:16:17.399Z"
   },
   {
    "duration": 6,
    "start_time": "2023-04-05T10:16:19.648Z"
   },
   {
    "duration": 394,
    "start_time": "2023-04-05T10:16:23.836Z"
   },
   {
    "duration": 18,
    "start_time": "2023-04-05T10:16:37.420Z"
   },
   {
    "duration": 1665,
    "start_time": "2023-04-05T10:16:49.071Z"
   },
   {
    "duration": 207,
    "start_time": "2023-04-05T10:16:50.739Z"
   },
   {
    "duration": 14,
    "start_time": "2023-04-05T10:16:50.948Z"
   },
   {
    "duration": 8,
    "start_time": "2023-04-05T10:16:50.963Z"
   },
   {
    "duration": 15,
    "start_time": "2023-04-05T10:16:50.974Z"
   },
   {
    "duration": 34,
    "start_time": "2023-04-05T10:16:50.991Z"
   },
   {
    "duration": 9,
    "start_time": "2023-04-05T10:16:51.028Z"
   },
   {
    "duration": 17,
    "start_time": "2023-04-05T10:16:51.039Z"
   },
   {
    "duration": 25,
    "start_time": "2023-04-05T10:16:51.058Z"
   },
   {
    "duration": 462,
    "start_time": "2023-04-05T10:16:51.085Z"
   },
   {
    "duration": 15,
    "start_time": "2023-04-05T10:16:51.549Z"
   },
   {
    "duration": 39,
    "start_time": "2023-04-05T10:16:51.566Z"
   },
   {
    "duration": 136,
    "start_time": "2023-04-05T10:16:51.624Z"
   },
   {
    "duration": 8,
    "start_time": "2023-04-05T10:16:51.763Z"
   },
   {
    "duration": 19,
    "start_time": "2023-04-05T10:16:51.773Z"
   },
   {
    "duration": 33,
    "start_time": "2023-04-05T10:16:51.794Z"
   },
   {
    "duration": 4,
    "start_time": "2023-04-05T10:16:51.829Z"
   },
   {
    "duration": 7,
    "start_time": "2023-04-05T10:16:51.835Z"
   },
   {
    "duration": 8,
    "start_time": "2023-04-05T10:16:51.844Z"
   },
   {
    "duration": 5756,
    "start_time": "2023-04-05T10:16:51.854Z"
   },
   {
    "duration": 6245,
    "start_time": "2023-04-05T10:16:57.612Z"
   },
   {
    "duration": 6270,
    "start_time": "2023-04-05T10:17:03.859Z"
   },
   {
    "duration": 352,
    "start_time": "2023-04-05T10:17:10.132Z"
   },
   {
    "duration": 20,
    "start_time": "2023-04-05T10:17:10.486Z"
   },
   {
    "duration": 8801,
    "start_time": "2023-04-05T10:17:10.509Z"
   },
   {
    "duration": 8303,
    "start_time": "2023-04-05T10:17:19.312Z"
   },
   {
    "duration": 19708,
    "start_time": "2023-04-05T10:17:27.616Z"
   },
   {
    "duration": 100,
    "start_time": "2023-04-05T10:17:47.331Z"
   },
   {
    "duration": 4382,
    "start_time": "2023-04-05T10:17:47.433Z"
   },
   {
    "duration": 4219,
    "start_time": "2023-04-05T10:17:51.817Z"
   },
   {
    "duration": 6795,
    "start_time": "2023-04-05T10:17:56.038Z"
   },
   {
    "duration": 102,
    "start_time": "2023-04-05T10:18:02.835Z"
   },
   {
    "duration": 163,
    "start_time": "2023-04-05T10:18:02.939Z"
   },
   {
    "duration": 382,
    "start_time": "2023-04-05T10:18:03.104Z"
   },
   {
    "duration": 374,
    "start_time": "2023-04-05T10:48:55.892Z"
   },
   {
    "duration": 361,
    "start_time": "2023-04-05T10:49:04.368Z"
   },
   {
    "duration": 357,
    "start_time": "2023-04-05T10:49:19.732Z"
   },
   {
    "duration": 370,
    "start_time": "2023-04-05T10:50:29.532Z"
   },
   {
    "duration": 375,
    "start_time": "2023-04-05T10:50:33.278Z"
   },
   {
    "duration": 340,
    "start_time": "2023-04-05T10:50:36.259Z"
   },
   {
    "duration": 365,
    "start_time": "2023-04-05T10:50:39.421Z"
   },
   {
    "duration": 124,
    "start_time": "2023-04-05T10:53:28.112Z"
   },
   {
    "duration": 1449,
    "start_time": "2023-04-05T10:53:33.569Z"
   },
   {
    "duration": 75,
    "start_time": "2023-04-05T10:53:35.020Z"
   },
   {
    "duration": 13,
    "start_time": "2023-04-05T10:53:35.096Z"
   },
   {
    "duration": 3,
    "start_time": "2023-04-05T10:53:35.112Z"
   },
   {
    "duration": 13,
    "start_time": "2023-04-05T10:53:35.117Z"
   },
   {
    "duration": 7,
    "start_time": "2023-04-05T10:53:35.132Z"
   },
   {
    "duration": 5,
    "start_time": "2023-04-05T10:53:35.141Z"
   },
   {
    "duration": 5,
    "start_time": "2023-04-05T10:53:35.148Z"
   },
   {
    "duration": 5,
    "start_time": "2023-04-05T10:53:35.154Z"
   },
   {
    "duration": 471,
    "start_time": "2023-04-05T10:53:35.162Z"
   },
   {
    "duration": 14,
    "start_time": "2023-04-05T10:53:35.634Z"
   },
   {
    "duration": 51,
    "start_time": "2023-04-05T10:53:35.650Z"
   },
   {
    "duration": 125,
    "start_time": "2023-04-05T10:53:35.703Z"
   },
   {
    "duration": 8,
    "start_time": "2023-04-05T10:53:35.830Z"
   },
   {
    "duration": 11,
    "start_time": "2023-04-05T10:53:35.839Z"
   },
   {
    "duration": 24,
    "start_time": "2023-04-05T10:53:35.852Z"
   },
   {
    "duration": 15,
    "start_time": "2023-04-05T10:53:35.877Z"
   },
   {
    "duration": 13,
    "start_time": "2023-04-05T10:53:35.894Z"
   },
   {
    "duration": 19,
    "start_time": "2023-04-05T10:53:35.909Z"
   },
   {
    "duration": 7156,
    "start_time": "2023-04-05T10:53:35.930Z"
   },
   {
    "duration": 6771,
    "start_time": "2023-04-05T10:53:43.088Z"
   },
   {
    "duration": 6663,
    "start_time": "2023-04-05T10:53:49.861Z"
   },
   {
    "duration": 261,
    "start_time": "2023-04-05T10:53:56.528Z"
   },
   {
    "duration": 14,
    "start_time": "2023-04-05T10:53:56.790Z"
   },
   {
    "duration": 10544,
    "start_time": "2023-04-05T10:53:56.806Z"
   },
   {
    "duration": 9502,
    "start_time": "2023-04-05T10:54:07.352Z"
   },
   {
    "duration": 12069,
    "start_time": "2023-04-05T10:54:16.856Z"
   },
   {
    "duration": 103,
    "start_time": "2023-04-05T10:54:28.929Z"
   },
   {
    "duration": 4962,
    "start_time": "2023-04-05T10:54:29.035Z"
   },
   {
    "duration": 4458,
    "start_time": "2023-04-05T10:54:33.999Z"
   },
   {
    "duration": 6198,
    "start_time": "2023-04-05T10:54:38.459Z"
   },
   {
    "duration": 171,
    "start_time": "2023-04-05T10:54:44.661Z"
   },
   {
    "duration": 172,
    "start_time": "2023-04-05T10:54:44.835Z"
   },
   {
    "duration": 382,
    "start_time": "2023-04-05T10:54:45.009Z"
   },
   {
    "duration": 256,
    "start_time": "2023-04-05T10:55:52.336Z"
   },
   {
    "duration": 142,
    "start_time": "2023-04-05T10:56:01.103Z"
   },
   {
    "duration": 186,
    "start_time": "2023-04-05T10:56:08.455Z"
   },
   {
    "duration": 145,
    "start_time": "2023-04-05T10:56:47.326Z"
   },
   {
    "duration": 8,
    "start_time": "2023-04-05T10:57:00.397Z"
   },
   {
    "duration": 130,
    "start_time": "2023-04-05T10:57:06.446Z"
   },
   {
    "duration": 7221,
    "start_time": "2023-04-05T10:58:58.019Z"
   },
   {
    "duration": 46,
    "start_time": "2023-04-05T16:26:04.957Z"
   },
   {
    "duration": 7140,
    "start_time": "2023-04-05T16:26:10.890Z"
   },
   {
    "duration": 1543,
    "start_time": "2023-04-05T16:26:18.032Z"
   },
   {
    "duration": 144,
    "start_time": "2023-04-05T16:26:19.577Z"
   },
   {
    "duration": 14,
    "start_time": "2023-04-05T16:26:19.723Z"
   },
   {
    "duration": 20,
    "start_time": "2023-04-05T16:26:19.738Z"
   },
   {
    "duration": 12,
    "start_time": "2023-04-05T16:26:19.759Z"
   },
   {
    "duration": 8,
    "start_time": "2023-04-05T16:26:19.773Z"
   },
   {
    "duration": 5,
    "start_time": "2023-04-05T16:26:19.782Z"
   },
   {
    "duration": 7,
    "start_time": "2023-04-05T16:26:19.788Z"
   },
   {
    "duration": 8,
    "start_time": "2023-04-05T16:26:19.797Z"
   },
   {
    "duration": 465,
    "start_time": "2023-04-05T16:26:19.806Z"
   },
   {
    "duration": 18,
    "start_time": "2023-04-05T16:26:20.273Z"
   },
   {
    "duration": 52,
    "start_time": "2023-04-05T16:26:20.293Z"
   },
   {
    "duration": 130,
    "start_time": "2023-04-05T16:26:20.346Z"
   },
   {
    "duration": 11,
    "start_time": "2023-04-05T16:26:20.478Z"
   },
   {
    "duration": 19,
    "start_time": "2023-04-05T16:26:20.491Z"
   },
   {
    "duration": 17,
    "start_time": "2023-04-05T16:26:20.512Z"
   },
   {
    "duration": 8,
    "start_time": "2023-04-05T16:26:20.531Z"
   },
   {
    "duration": 16,
    "start_time": "2023-04-05T16:26:20.552Z"
   },
   {
    "duration": 3,
    "start_time": "2023-04-05T16:26:20.570Z"
   },
   {
    "duration": 8041,
    "start_time": "2023-04-05T16:26:20.574Z"
   },
   {
    "duration": 7442,
    "start_time": "2023-04-05T16:26:28.617Z"
   },
   {
    "duration": 14028,
    "start_time": "2023-04-05T16:26:36.060Z"
   },
   {
    "duration": 249,
    "start_time": "2023-04-05T16:26:50.149Z"
   },
   {
    "duration": 11,
    "start_time": "2023-04-05T16:26:50.400Z"
   },
   {
    "duration": 11358,
    "start_time": "2023-04-05T16:26:50.412Z"
   },
   {
    "duration": 9936,
    "start_time": "2023-04-05T16:27:01.771Z"
   },
   {
    "duration": 31552,
    "start_time": "2023-04-05T16:27:11.711Z"
   },
   {
    "duration": 81,
    "start_time": "2023-04-05T16:27:43.265Z"
   },
   {
    "duration": 5231,
    "start_time": "2023-04-05T16:27:43.348Z"
   },
   {
    "duration": 4617,
    "start_time": "2023-04-05T16:27:48.581Z"
   },
   {
    "duration": 8385,
    "start_time": "2023-04-05T16:27:53.199Z"
   },
   {
    "duration": 97,
    "start_time": "2023-04-05T16:28:01.657Z"
   },
   {
    "duration": 137,
    "start_time": "2023-04-05T16:28:01.758Z"
   },
   {
    "duration": 369,
    "start_time": "2023-04-05T16:28:01.897Z"
   },
   {
    "duration": 35,
    "start_time": "2023-04-05T16:28:07.485Z"
   },
   {
    "duration": 44,
    "start_time": "2023-04-05T16:28:46.209Z"
   },
   {
    "duration": 53,
    "start_time": "2023-04-05T16:29:29.407Z"
   },
   {
    "duration": 49,
    "start_time": "2023-04-05T16:30:10.971Z"
   },
   {
    "duration": 131,
    "start_time": "2023-04-05T16:31:42.032Z"
   },
   {
    "duration": 164,
    "start_time": "2023-04-05T16:32:25.919Z"
   },
   {
    "duration": 240,
    "start_time": "2023-04-05T16:33:59.276Z"
   },
   {
    "duration": 105,
    "start_time": "2023-04-05T16:36:04.931Z"
   },
   {
    "duration": 12,
    "start_time": "2023-04-05T16:37:43.102Z"
   },
   {
    "duration": 117,
    "start_time": "2023-04-05T16:46:05.862Z"
   },
   {
    "duration": 89,
    "start_time": "2023-04-05T16:46:41.983Z"
   },
   {
    "duration": 7,
    "start_time": "2023-04-05T16:47:36.189Z"
   },
   {
    "duration": 95,
    "start_time": "2023-04-05T16:47:43.677Z"
   },
   {
    "duration": 79,
    "start_time": "2023-04-05T16:49:10.851Z"
   },
   {
    "duration": 101,
    "start_time": "2023-04-05T16:49:35.019Z"
   },
   {
    "duration": 11,
    "start_time": "2023-04-05T16:50:22.161Z"
   },
   {
    "duration": 83,
    "start_time": "2023-04-05T16:50:47.358Z"
   },
   {
    "duration": 147,
    "start_time": "2023-04-05T16:52:03.160Z"
   },
   {
    "duration": 103,
    "start_time": "2023-04-05T16:52:09.008Z"
   },
   {
    "duration": 92,
    "start_time": "2023-04-05T16:52:51.311Z"
   },
   {
    "duration": 115,
    "start_time": "2023-04-05T16:53:06.593Z"
   },
   {
    "duration": 91,
    "start_time": "2023-04-05T16:53:50.637Z"
   },
   {
    "duration": 120,
    "start_time": "2023-04-05T16:57:28.458Z"
   },
   {
    "duration": 2031,
    "start_time": "2023-04-05T16:59:39.796Z"
   },
   {
    "duration": 1203,
    "start_time": "2023-04-05T16:59:41.830Z"
   },
   {
    "duration": 77,
    "start_time": "2023-04-05T16:59:43.034Z"
   },
   {
    "duration": 11,
    "start_time": "2023-04-05T16:59:43.113Z"
   },
   {
    "duration": 2,
    "start_time": "2023-04-05T16:59:43.126Z"
   },
   {
    "duration": 21,
    "start_time": "2023-04-05T16:59:43.130Z"
   },
   {
    "duration": 8,
    "start_time": "2023-04-05T16:59:43.152Z"
   },
   {
    "duration": 5,
    "start_time": "2023-04-05T16:59:43.162Z"
   },
   {
    "duration": 4,
    "start_time": "2023-04-05T16:59:43.168Z"
   },
   {
    "duration": 5,
    "start_time": "2023-04-05T16:59:43.174Z"
   },
   {
    "duration": 439,
    "start_time": "2023-04-05T16:59:43.180Z"
   },
   {
    "duration": 29,
    "start_time": "2023-04-05T16:59:43.620Z"
   },
   {
    "duration": 36,
    "start_time": "2023-04-05T16:59:43.651Z"
   },
   {
    "duration": 94,
    "start_time": "2023-04-05T16:59:43.689Z"
   },
   {
    "duration": 96,
    "start_time": "2023-04-05T16:59:43.785Z"
   },
   {
    "duration": 10,
    "start_time": "2023-04-05T16:59:43.882Z"
   },
   {
    "duration": 15,
    "start_time": "2023-04-05T16:59:43.893Z"
   },
   {
    "duration": 3,
    "start_time": "2023-04-05T16:59:43.909Z"
   },
   {
    "duration": 38,
    "start_time": "2023-04-05T16:59:43.913Z"
   },
   {
    "duration": 3,
    "start_time": "2023-04-05T16:59:43.953Z"
   },
   {
    "duration": 7514,
    "start_time": "2023-04-05T16:59:43.958Z"
   },
   {
    "duration": 7043,
    "start_time": "2023-04-05T16:59:51.474Z"
   },
   {
    "duration": 11225,
    "start_time": "2023-04-05T16:59:58.518Z"
   },
   {
    "duration": 241,
    "start_time": "2023-04-05T17:00:09.751Z"
   },
   {
    "duration": 10,
    "start_time": "2023-04-05T17:00:09.994Z"
   },
   {
    "duration": 10932,
    "start_time": "2023-04-05T17:00:10.006Z"
   },
   {
    "duration": 9784,
    "start_time": "2023-04-05T17:00:20.950Z"
   },
   {
    "duration": 27220,
    "start_time": "2023-04-05T17:00:30.737Z"
   },
   {
    "duration": 103,
    "start_time": "2023-04-05T17:00:57.958Z"
   },
   {
    "duration": 5093,
    "start_time": "2023-04-05T17:00:58.063Z"
   },
   {
    "duration": 4636,
    "start_time": "2023-04-05T17:01:03.157Z"
   },
   {
    "duration": 12150,
    "start_time": "2023-04-05T17:01:07.795Z"
   },
   {
    "duration": 98,
    "start_time": "2023-04-05T17:01:19.947Z"
   },
   {
    "duration": 140,
    "start_time": "2023-04-05T17:01:20.047Z"
   },
   {
    "duration": 347,
    "start_time": "2023-04-05T17:01:20.189Z"
   },
   {
    "duration": 113,
    "start_time": "2023-04-05T17:01:20.542Z"
   },
   {
    "duration": 108,
    "start_time": "2023-04-05T17:02:26.428Z"
   },
   {
    "duration": 89,
    "start_time": "2023-04-05T17:02:43.161Z"
   },
   {
    "duration": 99,
    "start_time": "2023-04-05T17:03:08.561Z"
   },
   {
    "duration": 94,
    "start_time": "2023-04-05T17:04:50.665Z"
   },
   {
    "duration": 275,
    "start_time": "2023-04-05T17:07:05.766Z"
   },
   {
    "duration": 292,
    "start_time": "2023-04-05T17:07:46.784Z"
   },
   {
    "duration": 254,
    "start_time": "2023-04-05T17:07:50.259Z"
   },
   {
    "duration": 270,
    "start_time": "2023-04-05T17:08:02.624Z"
   },
   {
    "duration": 250,
    "start_time": "2023-04-05T17:08:10.967Z"
   },
   {
    "duration": 358,
    "start_time": "2023-04-05T17:08:15.607Z"
   },
   {
    "duration": 243,
    "start_time": "2023-04-05T17:09:17.670Z"
   },
   {
    "duration": 266,
    "start_time": "2023-04-05T17:09:27.563Z"
   },
   {
    "duration": 250,
    "start_time": "2023-04-05T17:09:37.059Z"
   },
   {
    "duration": 233,
    "start_time": "2023-04-05T17:09:40.974Z"
   },
   {
    "duration": 254,
    "start_time": "2023-04-05T17:10:20.352Z"
   },
   {
    "duration": 303,
    "start_time": "2023-04-05T17:11:17.173Z"
   },
   {
    "duration": 300,
    "start_time": "2023-04-05T17:11:38.316Z"
   },
   {
    "duration": 289,
    "start_time": "2023-04-05T17:12:53.540Z"
   },
   {
    "duration": 300,
    "start_time": "2023-04-05T17:13:00.533Z"
   },
   {
    "duration": 142,
    "start_time": "2023-04-05T17:13:39.057Z"
   },
   {
    "duration": 93,
    "start_time": "2023-04-05T17:13:52.171Z"
   },
   {
    "duration": 13,
    "start_time": "2023-04-05T17:14:10.691Z"
   },
   {
    "duration": 86,
    "start_time": "2023-04-05T17:14:16.003Z"
   },
   {
    "duration": 277,
    "start_time": "2023-04-05T17:15:13.755Z"
   },
   {
    "duration": 280,
    "start_time": "2023-04-05T17:15:17.883Z"
   },
   {
    "duration": 354,
    "start_time": "2023-04-05T17:15:23.461Z"
   },
   {
    "duration": 316,
    "start_time": "2023-04-05T17:15:28.897Z"
   },
   {
    "duration": 257,
    "start_time": "2023-04-05T17:15:39.264Z"
   },
   {
    "duration": 304,
    "start_time": "2023-04-05T17:18:46.007Z"
   },
   {
    "duration": 248,
    "start_time": "2023-04-05T17:19:13.964Z"
   },
   {
    "duration": 2055,
    "start_time": "2023-04-05T17:19:20.583Z"
   },
   {
    "duration": 1215,
    "start_time": "2023-04-05T17:19:22.642Z"
   },
   {
    "duration": 70,
    "start_time": "2023-04-05T17:19:23.859Z"
   },
   {
    "duration": 15,
    "start_time": "2023-04-05T17:19:23.931Z"
   },
   {
    "duration": 6,
    "start_time": "2023-04-05T17:19:23.948Z"
   },
   {
    "duration": 19,
    "start_time": "2023-04-05T17:19:23.956Z"
   },
   {
    "duration": 7,
    "start_time": "2023-04-05T17:19:23.977Z"
   },
   {
    "duration": 16,
    "start_time": "2023-04-05T17:19:23.985Z"
   },
   {
    "duration": 18,
    "start_time": "2023-04-05T17:19:24.002Z"
   },
   {
    "duration": 8,
    "start_time": "2023-04-05T17:19:24.022Z"
   },
   {
    "duration": 373,
    "start_time": "2023-04-05T17:19:24.031Z"
   },
   {
    "duration": 14,
    "start_time": "2023-04-05T17:19:24.406Z"
   },
   {
    "duration": 49,
    "start_time": "2023-04-05T17:19:24.422Z"
   },
   {
    "duration": 242,
    "start_time": "2023-04-05T17:19:24.473Z"
   },
   {
    "duration": 103,
    "start_time": "2023-04-05T17:19:24.716Z"
   },
   {
    "duration": 9,
    "start_time": "2023-04-05T17:19:24.821Z"
   },
   {
    "duration": 25,
    "start_time": "2023-04-05T17:19:24.831Z"
   },
   {
    "duration": 3,
    "start_time": "2023-04-05T17:19:24.857Z"
   },
   {
    "duration": 5,
    "start_time": "2023-04-05T17:19:24.861Z"
   },
   {
    "duration": 3,
    "start_time": "2023-04-05T17:19:24.867Z"
   },
   {
    "duration": 7713,
    "start_time": "2023-04-05T17:19:24.871Z"
   },
   {
    "duration": 7145,
    "start_time": "2023-04-05T17:19:32.585Z"
   },
   {
    "duration": 18115,
    "start_time": "2023-04-05T17:19:39.732Z"
   },
   {
    "duration": 306,
    "start_time": "2023-04-05T17:19:57.850Z"
   },
   {
    "duration": 11,
    "start_time": "2023-04-05T17:19:58.159Z"
   },
   {
    "duration": 11247,
    "start_time": "2023-04-05T17:19:58.172Z"
   },
   {
    "duration": 9570,
    "start_time": "2023-04-05T17:20:09.421Z"
   },
   {
    "duration": 28259,
    "start_time": "2023-04-05T17:20:18.994Z"
   },
   {
    "duration": 99,
    "start_time": "2023-04-05T17:20:47.258Z"
   },
   {
    "duration": 4820,
    "start_time": "2023-04-05T17:20:47.359Z"
   },
   {
    "duration": 4496,
    "start_time": "2023-04-05T17:20:52.181Z"
   },
   {
    "duration": 13661,
    "start_time": "2023-04-05T17:20:56.678Z"
   },
   {
    "duration": 101,
    "start_time": "2023-04-05T17:21:10.341Z"
   },
   {
    "duration": 122,
    "start_time": "2023-04-05T17:21:10.447Z"
   },
   {
    "duration": 305,
    "start_time": "2023-04-05T17:21:10.571Z"
   },
   {
    "duration": 279,
    "start_time": "2023-04-05T17:21:11.729Z"
   },
   {
    "duration": 268,
    "start_time": "2023-04-05T17:22:19.138Z"
   },
   {
    "duration": 266,
    "start_time": "2023-04-05T17:22:51.584Z"
   },
   {
    "duration": 272,
    "start_time": "2023-04-05T17:23:20.637Z"
   },
   {
    "duration": 122,
    "start_time": "2023-04-05T17:24:04.751Z"
   },
   {
    "duration": 404,
    "start_time": "2023-04-05T17:25:00.183Z"
   },
   {
    "duration": 385,
    "start_time": "2023-04-05T17:25:06.193Z"
   },
   {
    "duration": 359,
    "start_time": "2023-04-05T17:27:15.704Z"
   },
   {
    "duration": 363,
    "start_time": "2023-04-05T17:27:27.152Z"
   },
   {
    "duration": 280,
    "start_time": "2023-04-05T17:27:35.134Z"
   },
   {
    "duration": 300,
    "start_time": "2023-04-05T17:27:45.599Z"
   },
   {
    "duration": 202,
    "start_time": "2023-04-05T17:28:00.079Z"
   },
   {
    "duration": 346,
    "start_time": "2023-04-05T17:29:01.358Z"
   },
   {
    "duration": 434,
    "start_time": "2023-04-05T17:29:05.798Z"
   },
   {
    "duration": 350,
    "start_time": "2023-04-05T17:31:03.203Z"
   },
   {
    "duration": 344,
    "start_time": "2023-04-05T17:31:19.955Z"
   },
   {
    "duration": 320,
    "start_time": "2023-04-05T17:31:29.075Z"
   },
   {
    "duration": 356,
    "start_time": "2023-04-05T17:31:33.505Z"
   },
   {
    "duration": 377,
    "start_time": "2023-04-05T17:31:49.969Z"
   },
   {
    "duration": 28,
    "start_time": "2023-04-05T17:32:00.521Z"
   },
   {
    "duration": 328,
    "start_time": "2023-04-05T17:32:16.089Z"
   },
   {
    "duration": 175,
    "start_time": "2023-04-05T17:32:45.735Z"
   },
   {
    "duration": 10,
    "start_time": "2023-04-05T17:32:52.871Z"
   },
   {
    "duration": 217,
    "start_time": "2023-04-05T17:33:32.224Z"
   },
   {
    "duration": 301,
    "start_time": "2023-04-05T17:33:54.466Z"
   },
   {
    "duration": 2174,
    "start_time": "2023-04-05T17:34:00.686Z"
   },
   {
    "duration": 1196,
    "start_time": "2023-04-05T17:34:02.862Z"
   },
   {
    "duration": 73,
    "start_time": "2023-04-05T17:34:04.059Z"
   },
   {
    "duration": 17,
    "start_time": "2023-04-05T17:34:04.134Z"
   },
   {
    "duration": 3,
    "start_time": "2023-04-05T17:34:04.153Z"
   },
   {
    "duration": 11,
    "start_time": "2023-04-05T17:34:04.158Z"
   },
   {
    "duration": 7,
    "start_time": "2023-04-05T17:34:04.171Z"
   },
   {
    "duration": 5,
    "start_time": "2023-04-05T17:34:04.180Z"
   },
   {
    "duration": 4,
    "start_time": "2023-04-05T17:34:04.186Z"
   },
   {
    "duration": 5,
    "start_time": "2023-04-05T17:34:04.192Z"
   },
   {
    "duration": 451,
    "start_time": "2023-04-05T17:34:04.198Z"
   },
   {
    "duration": 13,
    "start_time": "2023-04-05T17:34:04.654Z"
   },
   {
    "duration": 37,
    "start_time": "2023-04-05T17:34:04.668Z"
   },
   {
    "duration": 300,
    "start_time": "2023-04-05T17:34:04.706Z"
   },
   {
    "duration": 109,
    "start_time": "2023-04-05T17:34:05.008Z"
   },
   {
    "duration": 10,
    "start_time": "2023-04-05T17:34:05.119Z"
   },
   {
    "duration": 29,
    "start_time": "2023-04-05T17:34:05.131Z"
   },
   {
    "duration": 3,
    "start_time": "2023-04-05T17:34:05.162Z"
   },
   {
    "duration": 9,
    "start_time": "2023-04-05T17:34:05.167Z"
   },
   {
    "duration": 14,
    "start_time": "2023-04-05T17:34:05.178Z"
   },
   {
    "duration": 7381,
    "start_time": "2023-04-05T17:34:05.193Z"
   },
   {
    "duration": 7039,
    "start_time": "2023-04-05T17:34:12.576Z"
   },
   {
    "duration": 14327,
    "start_time": "2023-04-05T17:34:19.617Z"
   },
   {
    "duration": 264,
    "start_time": "2023-04-05T17:34:33.947Z"
   },
   {
    "duration": 11,
    "start_time": "2023-04-05T17:34:34.212Z"
   },
   {
    "duration": 10641,
    "start_time": "2023-04-05T17:34:34.225Z"
   },
   {
    "duration": 9341,
    "start_time": "2023-04-05T17:34:44.867Z"
   },
   {
    "duration": 30829,
    "start_time": "2023-04-05T17:34:54.212Z"
   },
   {
    "duration": 92,
    "start_time": "2023-04-05T17:35:25.047Z"
   },
   {
    "duration": 4959,
    "start_time": "2023-04-05T17:35:25.141Z"
   },
   {
    "duration": 4400,
    "start_time": "2023-04-05T17:35:30.101Z"
   },
   {
    "duration": 11172,
    "start_time": "2023-04-05T17:35:34.503Z"
   },
   {
    "duration": 165,
    "start_time": "2023-04-05T17:35:45.677Z"
   },
   {
    "duration": 133,
    "start_time": "2023-04-05T17:35:45.843Z"
   },
   {
    "duration": 300,
    "start_time": "2023-04-05T17:35:45.978Z"
   },
   {
    "duration": 81,
    "start_time": "2023-04-05T17:37:02.026Z"
   },
   {
    "duration": 83,
    "start_time": "2023-04-05T17:37:05.995Z"
   },
   {
    "duration": 302,
    "start_time": "2023-04-05T17:38:08.097Z"
   },
   {
    "duration": 282,
    "start_time": "2023-04-05T17:38:35.329Z"
   },
   {
    "duration": 403,
    "start_time": "2023-04-05T17:41:00.221Z"
   },
   {
    "duration": 295,
    "start_time": "2023-04-05T17:41:54.821Z"
   },
   {
    "duration": 459,
    "start_time": "2023-04-05T17:43:09.835Z"
   },
   {
    "duration": 351,
    "start_time": "2023-04-05T17:43:17.307Z"
   },
   {
    "duration": 281,
    "start_time": "2023-04-05T17:43:26.475Z"
   },
   {
    "duration": 302,
    "start_time": "2023-04-05T17:44:37.891Z"
   },
   {
    "duration": 291,
    "start_time": "2023-04-05T17:45:05.737Z"
   },
   {
    "duration": 264,
    "start_time": "2023-04-05T17:45:14.840Z"
   },
   {
    "duration": 230,
    "start_time": "2023-04-05T17:45:22.176Z"
   },
   {
    "duration": 299,
    "start_time": "2023-04-05T17:45:50.809Z"
   },
   {
    "duration": 44,
    "start_time": "2023-04-05T17:46:18.096Z"
   },
   {
    "duration": 93,
    "start_time": "2023-04-05T17:46:21.975Z"
   },
   {
    "duration": 90,
    "start_time": "2023-04-05T17:46:28.375Z"
   },
   {
    "duration": 87,
    "start_time": "2023-04-05T17:47:57.502Z"
   },
   {
    "duration": 2178,
    "start_time": "2023-04-05T17:51:55.230Z"
   },
   {
    "duration": 1254,
    "start_time": "2023-04-05T17:51:57.411Z"
   },
   {
    "duration": 72,
    "start_time": "2023-04-05T17:51:58.667Z"
   },
   {
    "duration": 16,
    "start_time": "2023-04-05T17:51:58.742Z"
   },
   {
    "duration": 4,
    "start_time": "2023-04-05T17:51:58.760Z"
   },
   {
    "duration": 15,
    "start_time": "2023-04-05T17:51:58.766Z"
   },
   {
    "duration": 9,
    "start_time": "2023-04-05T17:51:58.782Z"
   },
   {
    "duration": 5,
    "start_time": "2023-04-05T17:51:58.794Z"
   },
   {
    "duration": 39,
    "start_time": "2023-04-05T17:51:58.801Z"
   },
   {
    "duration": 5,
    "start_time": "2023-04-05T17:51:58.845Z"
   },
   {
    "duration": 365,
    "start_time": "2023-04-05T17:51:58.852Z"
   },
   {
    "duration": 12,
    "start_time": "2023-04-05T17:51:59.218Z"
   },
   {
    "duration": 36,
    "start_time": "2023-04-05T17:51:59.239Z"
   },
   {
    "duration": 279,
    "start_time": "2023-04-05T17:51:59.276Z"
   },
   {
    "duration": 2289,
    "start_time": "2023-04-05T17:54:31.888Z"
   },
   {
    "duration": 1279,
    "start_time": "2023-04-05T17:54:34.180Z"
   },
   {
    "duration": 71,
    "start_time": "2023-04-05T17:54:35.460Z"
   },
   {
    "duration": 13,
    "start_time": "2023-04-05T17:54:35.534Z"
   },
   {
    "duration": 4,
    "start_time": "2023-04-05T17:54:35.549Z"
   },
   {
    "duration": 11,
    "start_time": "2023-04-05T17:54:35.555Z"
   },
   {
    "duration": 8,
    "start_time": "2023-04-05T17:54:35.568Z"
   },
   {
    "duration": 5,
    "start_time": "2023-04-05T17:54:35.578Z"
   },
   {
    "duration": 5,
    "start_time": "2023-04-05T17:54:35.584Z"
   },
   {
    "duration": 48,
    "start_time": "2023-04-05T17:54:35.592Z"
   },
   {
    "duration": 376,
    "start_time": "2023-04-05T17:54:35.642Z"
   },
   {
    "duration": 21,
    "start_time": "2023-04-05T17:54:36.019Z"
   },
   {
    "duration": 38,
    "start_time": "2023-04-05T17:54:36.042Z"
   },
   {
    "duration": 313,
    "start_time": "2023-04-05T17:54:36.082Z"
   },
   {
    "duration": 132,
    "start_time": "2023-04-05T17:54:36.398Z"
   },
   {
    "duration": 18,
    "start_time": "2023-04-05T17:54:36.532Z"
   },
   {
    "duration": 14,
    "start_time": "2023-04-05T17:54:36.552Z"
   },
   {
    "duration": 3,
    "start_time": "2023-04-05T17:54:36.569Z"
   },
   {
    "duration": 3,
    "start_time": "2023-04-05T17:54:36.574Z"
   },
   {
    "duration": 5,
    "start_time": "2023-04-05T17:54:36.579Z"
   },
   {
    "duration": 8195,
    "start_time": "2023-04-05T17:54:36.586Z"
   },
   {
    "duration": 7359,
    "start_time": "2023-04-05T17:54:44.782Z"
   },
   {
    "duration": 10711,
    "start_time": "2023-04-05T17:54:52.143Z"
   },
   {
    "duration": 301,
    "start_time": "2023-04-05T17:55:02.856Z"
   },
   {
    "duration": 15,
    "start_time": "2023-04-05T17:55:03.158Z"
   },
   {
    "duration": 11558,
    "start_time": "2023-04-05T17:55:03.175Z"
   },
   {
    "duration": 9840,
    "start_time": "2023-04-05T17:55:14.735Z"
   },
   {
    "duration": 13464,
    "start_time": "2023-04-05T17:55:24.578Z"
   },
   {
    "duration": 97,
    "start_time": "2023-04-05T17:55:38.044Z"
   },
   {
    "duration": 2212,
    "start_time": "2023-04-05T17:55:40.641Z"
   },
   {
    "duration": 1222,
    "start_time": "2023-04-05T17:55:42.856Z"
   },
   {
    "duration": 89,
    "start_time": "2023-04-05T17:55:44.080Z"
   },
   {
    "duration": 14,
    "start_time": "2023-04-05T17:55:44.172Z"
   },
   {
    "duration": 4,
    "start_time": "2023-04-05T17:55:44.188Z"
   },
   {
    "duration": 16,
    "start_time": "2023-04-05T17:55:44.194Z"
   },
   {
    "duration": 33,
    "start_time": "2023-04-05T17:55:44.212Z"
   },
   {
    "duration": 7,
    "start_time": "2023-04-05T17:55:44.247Z"
   },
   {
    "duration": 10,
    "start_time": "2023-04-05T17:55:44.255Z"
   },
   {
    "duration": 13,
    "start_time": "2023-04-05T17:55:44.269Z"
   },
   {
    "duration": 446,
    "start_time": "2023-04-05T17:55:44.283Z"
   },
   {
    "duration": 20,
    "start_time": "2023-04-05T17:55:44.730Z"
   },
   {
    "duration": 50,
    "start_time": "2023-04-05T17:55:44.752Z"
   },
   {
    "duration": 313,
    "start_time": "2023-04-05T17:55:44.804Z"
   },
   {
    "duration": 96049,
    "start_time": "2023-04-05T17:55:45.119Z"
   },
   {
    "duration": 0,
    "start_time": "2023-04-05T17:57:21.171Z"
   },
   {
    "duration": 0,
    "start_time": "2023-04-05T17:57:21.171Z"
   },
   {
    "duration": 0,
    "start_time": "2023-04-05T17:57:21.172Z"
   },
   {
    "duration": 0,
    "start_time": "2023-04-05T17:57:21.173Z"
   },
   {
    "duration": 0,
    "start_time": "2023-04-05T17:57:21.174Z"
   },
   {
    "duration": 0,
    "start_time": "2023-04-05T17:57:21.175Z"
   },
   {
    "duration": 0,
    "start_time": "2023-04-05T17:57:21.176Z"
   },
   {
    "duration": 0,
    "start_time": "2023-04-05T17:57:21.177Z"
   },
   {
    "duration": 0,
    "start_time": "2023-04-05T17:57:21.178Z"
   },
   {
    "duration": 0,
    "start_time": "2023-04-05T17:57:21.179Z"
   },
   {
    "duration": 0,
    "start_time": "2023-04-05T17:57:21.180Z"
   },
   {
    "duration": 0,
    "start_time": "2023-04-05T17:57:21.181Z"
   },
   {
    "duration": 0,
    "start_time": "2023-04-05T17:57:21.182Z"
   },
   {
    "duration": 0,
    "start_time": "2023-04-05T17:57:21.183Z"
   },
   {
    "duration": 0,
    "start_time": "2023-04-05T17:57:21.184Z"
   },
   {
    "duration": 0,
    "start_time": "2023-04-05T17:57:21.184Z"
   },
   {
    "duration": 0,
    "start_time": "2023-04-05T17:57:21.185Z"
   },
   {
    "duration": 0,
    "start_time": "2023-04-05T17:57:21.186Z"
   },
   {
    "duration": 0,
    "start_time": "2023-04-05T17:57:21.187Z"
   },
   {
    "duration": 0,
    "start_time": "2023-04-05T17:57:21.188Z"
   },
   {
    "duration": 2183,
    "start_time": "2023-04-05T17:58:56.168Z"
   },
   {
    "duration": 1227,
    "start_time": "2023-04-05T17:58:58.353Z"
   },
   {
    "duration": 114,
    "start_time": "2023-04-05T17:58:59.582Z"
   },
   {
    "duration": 17,
    "start_time": "2023-04-05T17:58:59.698Z"
   },
   {
    "duration": 5,
    "start_time": "2023-04-05T17:58:59.717Z"
   },
   {
    "duration": 19,
    "start_time": "2023-04-05T17:58:59.723Z"
   },
   {
    "duration": 10,
    "start_time": "2023-04-05T17:58:59.744Z"
   },
   {
    "duration": 17,
    "start_time": "2023-04-05T17:58:59.756Z"
   },
   {
    "duration": 6,
    "start_time": "2023-04-05T17:58:59.775Z"
   },
   {
    "duration": 5,
    "start_time": "2023-04-05T17:58:59.784Z"
   },
   {
    "duration": 441,
    "start_time": "2023-04-05T17:58:59.790Z"
   },
   {
    "duration": 18,
    "start_time": "2023-04-05T17:59:00.233Z"
   },
   {
    "duration": 56,
    "start_time": "2023-04-05T17:59:00.253Z"
   },
   {
    "duration": 335,
    "start_time": "2023-04-05T17:59:00.311Z"
   },
   {
    "duration": 2039,
    "start_time": "2023-04-05T17:59:54.012Z"
   },
   {
    "duration": 1265,
    "start_time": "2023-04-05T17:59:56.053Z"
   },
   {
    "duration": 70,
    "start_time": "2023-04-05T17:59:57.319Z"
   },
   {
    "duration": 11,
    "start_time": "2023-04-05T17:59:57.391Z"
   },
   {
    "duration": 4,
    "start_time": "2023-04-05T17:59:57.440Z"
   },
   {
    "duration": 21,
    "start_time": "2023-04-05T17:59:57.446Z"
   },
   {
    "duration": 10,
    "start_time": "2023-04-05T17:59:57.469Z"
   },
   {
    "duration": 8,
    "start_time": "2023-04-05T17:59:57.481Z"
   },
   {
    "duration": 6,
    "start_time": "2023-04-05T17:59:57.541Z"
   },
   {
    "duration": 4,
    "start_time": "2023-04-05T17:59:57.550Z"
   },
   {
    "duration": 603,
    "start_time": "2023-04-05T17:59:57.555Z"
   },
   {
    "duration": 12,
    "start_time": "2023-04-05T17:59:58.160Z"
   },
   {
    "duration": 90,
    "start_time": "2023-04-05T17:59:58.174Z"
   },
   {
    "duration": 415,
    "start_time": "2023-04-05T17:59:58.266Z"
   },
   {
    "duration": 59,
    "start_time": "2023-04-05T17:59:58.683Z"
   },
   {
    "duration": 7,
    "start_time": "2023-04-05T17:59:58.744Z"
   },
   {
    "duration": 13,
    "start_time": "2023-04-05T17:59:58.753Z"
   },
   {
    "duration": 73,
    "start_time": "2023-04-05T17:59:58.767Z"
   },
   {
    "duration": 4,
    "start_time": "2023-04-05T17:59:58.841Z"
   },
   {
    "duration": 5,
    "start_time": "2023-04-05T17:59:58.846Z"
   },
   {
    "duration": 4,
    "start_time": "2023-04-05T17:59:58.852Z"
   },
   {
    "duration": 9904,
    "start_time": "2023-04-05T17:59:58.858Z"
   },
   {
    "duration": 6757,
    "start_time": "2023-04-05T18:00:08.764Z"
   },
   {
    "duration": 5983,
    "start_time": "2023-04-05T18:00:15.522Z"
   },
   {
    "duration": 220,
    "start_time": "2023-04-05T18:00:21.541Z"
   },
   {
    "duration": 12,
    "start_time": "2023-04-05T18:00:21.763Z"
   },
   {
    "duration": 11354,
    "start_time": "2023-04-05T18:00:21.777Z"
   },
   {
    "duration": 9705,
    "start_time": "2023-04-05T18:00:33.134Z"
   },
   {
    "duration": 10817,
    "start_time": "2023-04-05T18:00:42.841Z"
   },
   {
    "duration": 15,
    "start_time": "2023-04-05T18:00:53.740Z"
   },
   {
    "duration": 5461,
    "start_time": "2023-04-05T18:00:53.757Z"
   },
   {
    "duration": 2361,
    "start_time": "2023-04-05T18:01:04.847Z"
   },
   {
    "duration": 1285,
    "start_time": "2023-04-05T18:01:07.210Z"
   },
   {
    "duration": 80,
    "start_time": "2023-04-05T18:01:08.496Z"
   },
   {
    "duration": 17,
    "start_time": "2023-04-05T18:01:08.580Z"
   },
   {
    "duration": 4,
    "start_time": "2023-04-05T18:01:08.599Z"
   },
   {
    "duration": 15,
    "start_time": "2023-04-05T18:01:08.605Z"
   },
   {
    "duration": 9,
    "start_time": "2023-04-05T18:01:08.641Z"
   },
   {
    "duration": 8,
    "start_time": "2023-04-05T18:01:08.652Z"
   },
   {
    "duration": 8,
    "start_time": "2023-04-05T18:01:08.662Z"
   },
   {
    "duration": 7,
    "start_time": "2023-04-05T18:01:08.673Z"
   },
   {
    "duration": 445,
    "start_time": "2023-04-05T18:01:08.682Z"
   },
   {
    "duration": 17,
    "start_time": "2023-04-05T18:01:09.128Z"
   },
   {
    "duration": 40,
    "start_time": "2023-04-05T18:01:09.147Z"
   },
   {
    "duration": 353,
    "start_time": "2023-04-05T18:01:09.189Z"
   },
   {
    "duration": 6,
    "start_time": "2023-04-05T18:01:09.545Z"
   },
   {
    "duration": 140,
    "start_time": "2023-04-05T18:01:09.552Z"
   },
   {
    "duration": 10,
    "start_time": "2023-04-05T18:01:09.693Z"
   },
   {
    "duration": 24,
    "start_time": "2023-04-05T18:01:09.704Z"
   },
   {
    "duration": 10,
    "start_time": "2023-04-05T18:01:09.731Z"
   },
   {
    "duration": 14,
    "start_time": "2023-04-05T18:01:09.743Z"
   },
   {
    "duration": 8,
    "start_time": "2023-04-05T18:01:09.759Z"
   },
   {
    "duration": 9039,
    "start_time": "2023-04-05T18:01:09.768Z"
   },
   {
    "duration": 7238,
    "start_time": "2023-04-05T18:01:18.809Z"
   },
   {
    "duration": 5499,
    "start_time": "2023-04-05T18:01:26.049Z"
   },
   {
    "duration": 219,
    "start_time": "2023-04-05T18:01:31.551Z"
   },
   {
    "duration": 12,
    "start_time": "2023-04-05T18:01:31.772Z"
   },
   {
    "duration": 11381,
    "start_time": "2023-04-05T18:01:31.786Z"
   },
   {
    "duration": 2109,
    "start_time": "2023-04-05T18:01:50.602Z"
   },
   {
    "duration": 1261,
    "start_time": "2023-04-05T18:01:52.713Z"
   },
   {
    "duration": 74,
    "start_time": "2023-04-05T18:01:53.976Z"
   },
   {
    "duration": 15,
    "start_time": "2023-04-05T18:01:54.053Z"
   },
   {
    "duration": 4,
    "start_time": "2023-04-05T18:01:54.070Z"
   },
   {
    "duration": 15,
    "start_time": "2023-04-05T18:01:54.076Z"
   },
   {
    "duration": 8,
    "start_time": "2023-04-05T18:01:54.093Z"
   },
   {
    "duration": 41,
    "start_time": "2023-04-05T18:01:54.103Z"
   },
   {
    "duration": 6,
    "start_time": "2023-04-05T18:01:54.146Z"
   },
   {
    "duration": 6,
    "start_time": "2023-04-05T18:01:54.155Z"
   },
   {
    "duration": 382,
    "start_time": "2023-04-05T18:01:54.163Z"
   },
   {
    "duration": 18,
    "start_time": "2023-04-05T18:01:54.548Z"
   },
   {
    "duration": 89,
    "start_time": "2023-04-05T18:01:54.568Z"
   },
   {
    "duration": 585,
    "start_time": "2023-04-05T18:01:54.659Z"
   },
   {
    "duration": 8,
    "start_time": "2023-04-05T18:01:55.246Z"
   },
   {
    "duration": 288,
    "start_time": "2023-04-05T18:01:55.256Z"
   },
   {
    "duration": 14,
    "start_time": "2023-04-05T18:01:55.546Z"
   },
   {
    "duration": 22,
    "start_time": "2023-04-05T18:01:55.562Z"
   },
   {
    "duration": 17,
    "start_time": "2023-04-05T18:01:55.640Z"
   },
   {
    "duration": 11,
    "start_time": "2023-04-05T18:01:55.660Z"
   },
   {
    "duration": 14,
    "start_time": "2023-04-05T18:01:55.673Z"
   },
   {
    "duration": 9571,
    "start_time": "2023-04-05T18:01:55.689Z"
   },
   {
    "duration": 7283,
    "start_time": "2023-04-05T18:02:05.261Z"
   },
   {
    "duration": 5801,
    "start_time": "2023-04-05T18:02:12.546Z"
   },
   {
    "duration": 323,
    "start_time": "2023-04-05T18:02:18.349Z"
   },
   {
    "duration": 14,
    "start_time": "2023-04-05T18:02:18.674Z"
   },
   {
    "duration": 10956,
    "start_time": "2023-04-05T18:02:18.690Z"
   },
   {
    "duration": 9740,
    "start_time": "2023-04-05T18:02:29.650Z"
   },
   {
    "duration": 8074,
    "start_time": "2023-04-05T18:02:39.392Z"
   },
   {
    "duration": 95,
    "start_time": "2023-04-05T18:02:47.467Z"
   },
   {
    "duration": 5039,
    "start_time": "2023-04-05T18:02:47.564Z"
   },
   {
    "duration": 4516,
    "start_time": "2023-04-05T18:02:52.605Z"
   },
   {
    "duration": 2562,
    "start_time": "2023-04-05T18:02:57.122Z"
   },
   {
    "duration": 159,
    "start_time": "2023-04-05T18:02:59.686Z"
   },
   {
    "duration": 152,
    "start_time": "2023-04-05T18:02:59.847Z"
   },
   {
    "duration": 383,
    "start_time": "2023-04-05T18:03:00.002Z"
   },
   {
    "duration": 6,
    "start_time": "2023-04-05T18:14:58.192Z"
   },
   {
    "duration": 123,
    "start_time": "2023-04-05T18:15:20.592Z"
   },
   {
    "duration": 5,
    "start_time": "2023-04-05T18:15:43.919Z"
   },
   {
    "duration": 92,
    "start_time": "2023-04-05T18:16:14.527Z"
   },
   {
    "duration": 4,
    "start_time": "2023-04-05T18:18:06.038Z"
   },
   {
    "duration": 5,
    "start_time": "2023-04-05T18:18:13.550Z"
   },
   {
    "duration": 6,
    "start_time": "2023-04-05T18:18:52.062Z"
   },
   {
    "duration": 83,
    "start_time": "2023-04-05T18:19:05.724Z"
   },
   {
    "duration": 75,
    "start_time": "2023-04-05T18:20:08.701Z"
   },
   {
    "duration": 78,
    "start_time": "2023-04-05T18:20:14.916Z"
   },
   {
    "duration": 241,
    "start_time": "2023-04-05T18:25:04.640Z"
   },
   {
    "duration": 199,
    "start_time": "2023-04-05T18:26:15.343Z"
   },
   {
    "duration": 99,
    "start_time": "2023-04-05T18:26:19.551Z"
   },
   {
    "duration": 199,
    "start_time": "2023-04-05T18:26:23.167Z"
   },
   {
    "duration": 101,
    "start_time": "2023-04-05T18:26:43.917Z"
   },
   {
    "duration": 193,
    "start_time": "2023-04-05T18:26:49.151Z"
   },
   {
    "duration": 225,
    "start_time": "2023-04-05T18:28:14.903Z"
   },
   {
    "duration": 259,
    "start_time": "2023-04-05T18:28:24.855Z"
   },
   {
    "duration": 279,
    "start_time": "2023-04-05T18:31:28.907Z"
   },
   {
    "duration": 280,
    "start_time": "2023-04-05T18:31:34.235Z"
   },
   {
    "duration": 104,
    "start_time": "2023-04-05T18:31:49.210Z"
   },
   {
    "duration": 9,
    "start_time": "2023-04-05T18:32:38.442Z"
   },
   {
    "duration": 10,
    "start_time": "2023-04-05T18:32:41.146Z"
   },
   {
    "duration": 79,
    "start_time": "2023-04-05T18:32:49.842Z"
   },
   {
    "duration": 85,
    "start_time": "2023-04-05T18:33:01.098Z"
   },
   {
    "duration": 84,
    "start_time": "2023-04-05T18:33:03.985Z"
   },
   {
    "duration": 88,
    "start_time": "2023-04-05T18:35:42.424Z"
   },
   {
    "duration": 89,
    "start_time": "2023-04-05T18:35:49.045Z"
   },
   {
    "duration": 88,
    "start_time": "2023-04-05T18:36:26.927Z"
   },
   {
    "duration": 85,
    "start_time": "2023-04-05T18:37:46.883Z"
   },
   {
    "duration": 47,
    "start_time": "2023-04-06T06:37:22.492Z"
   },
   {
    "duration": 7117,
    "start_time": "2023-04-06T06:37:31.911Z"
   },
   {
    "duration": 1416,
    "start_time": "2023-04-06T06:37:39.031Z"
   },
   {
    "duration": 311,
    "start_time": "2023-04-06T06:37:40.449Z"
   },
   {
    "duration": 12,
    "start_time": "2023-04-06T06:37:40.762Z"
   },
   {
    "duration": 3,
    "start_time": "2023-04-06T06:37:40.776Z"
   },
   {
    "duration": 12,
    "start_time": "2023-04-06T06:37:40.780Z"
   },
   {
    "duration": 6,
    "start_time": "2023-04-06T06:37:40.794Z"
   },
   {
    "duration": 8,
    "start_time": "2023-04-06T06:37:40.802Z"
   },
   {
    "duration": 13,
    "start_time": "2023-04-06T06:37:40.811Z"
   },
   {
    "duration": 5,
    "start_time": "2023-04-06T06:37:40.826Z"
   },
   {
    "duration": 496,
    "start_time": "2023-04-06T06:37:40.832Z"
   },
   {
    "duration": 15,
    "start_time": "2023-04-06T06:37:41.329Z"
   },
   {
    "duration": 54,
    "start_time": "2023-04-06T06:37:41.346Z"
   },
   {
    "duration": 310,
    "start_time": "2023-04-06T06:37:41.402Z"
   },
   {
    "duration": 108,
    "start_time": "2023-04-06T06:37:41.714Z"
   },
   {
    "duration": 11,
    "start_time": "2023-04-06T06:37:41.823Z"
   },
   {
    "duration": 15,
    "start_time": "2023-04-06T06:37:41.835Z"
   },
   {
    "duration": 4,
    "start_time": "2023-04-06T06:37:41.851Z"
   },
   {
    "duration": 26,
    "start_time": "2023-04-06T06:37:41.856Z"
   },
   {
    "duration": 4,
    "start_time": "2023-04-06T06:37:41.884Z"
   },
   {
    "duration": 6973,
    "start_time": "2023-04-06T06:37:41.889Z"
   },
   {
    "duration": 6853,
    "start_time": "2023-04-06T06:37:48.864Z"
   },
   {
    "duration": 7170,
    "start_time": "2023-04-06T06:37:55.719Z"
   },
   {
    "duration": 398,
    "start_time": "2023-04-06T06:38:02.892Z"
   },
   {
    "duration": 12,
    "start_time": "2023-04-06T06:38:03.292Z"
   },
   {
    "duration": 10396,
    "start_time": "2023-04-06T06:38:03.305Z"
   },
   {
    "duration": 9427,
    "start_time": "2023-04-06T06:38:13.702Z"
   },
   {
    "duration": 11893,
    "start_time": "2023-04-06T06:38:23.132Z"
   },
   {
    "duration": 155,
    "start_time": "2023-04-06T06:38:35.028Z"
   },
   {
    "duration": 5165,
    "start_time": "2023-04-06T06:38:35.185Z"
   },
   {
    "duration": 4751,
    "start_time": "2023-04-06T06:38:40.352Z"
   },
   {
    "duration": 5679,
    "start_time": "2023-04-06T06:38:45.105Z"
   },
   {
    "duration": 113,
    "start_time": "2023-04-06T06:38:50.786Z"
   },
   {
    "duration": 143,
    "start_time": "2023-04-06T06:38:50.901Z"
   },
   {
    "duration": 381,
    "start_time": "2023-04-06T06:38:51.046Z"
   },
   {
    "duration": 286,
    "start_time": "2023-04-06T06:39:25.560Z"
   },
   {
    "duration": 6678,
    "start_time": "2023-04-06T06:40:11.846Z"
   },
   {
    "duration": 4,
    "start_time": "2023-04-06T06:41:50.437Z"
   },
   {
    "duration": 18,
    "start_time": "2023-04-06T06:43:26.660Z"
   },
   {
    "duration": 14,
    "start_time": "2023-04-06T06:44:35.363Z"
   },
   {
    "duration": 5667,
    "start_time": "2023-04-06T06:44:41.995Z"
   },
   {
    "duration": 2229,
    "start_time": "2023-04-06T06:46:19.990Z"
   },
   {
    "duration": 2071,
    "start_time": "2023-04-06T06:46:22.221Z"
   },
   {
    "duration": 1230,
    "start_time": "2023-04-06T06:46:24.293Z"
   },
   {
    "duration": 88,
    "start_time": "2023-04-06T06:46:25.525Z"
   },
   {
    "duration": 14,
    "start_time": "2023-04-06T06:46:25.614Z"
   },
   {
    "duration": 19,
    "start_time": "2023-04-06T06:46:25.629Z"
   },
   {
    "duration": 22,
    "start_time": "2023-04-06T06:46:25.649Z"
   },
   {
    "duration": 13,
    "start_time": "2023-04-06T06:46:25.673Z"
   },
   {
    "duration": 19,
    "start_time": "2023-04-06T06:46:25.688Z"
   },
   {
    "duration": 6,
    "start_time": "2023-04-06T06:46:25.711Z"
   },
   {
    "duration": 6,
    "start_time": "2023-04-06T06:46:25.719Z"
   },
   {
    "duration": 415,
    "start_time": "2023-04-06T06:46:25.726Z"
   },
   {
    "duration": 14,
    "start_time": "2023-04-06T06:46:26.143Z"
   },
   {
    "duration": 57,
    "start_time": "2023-04-06T06:46:26.158Z"
   },
   {
    "duration": 269,
    "start_time": "2023-04-06T06:46:26.216Z"
   },
   {
    "duration": 102,
    "start_time": "2023-04-06T06:46:26.487Z"
   },
   {
    "duration": 11,
    "start_time": "2023-04-06T06:46:26.591Z"
   },
   {
    "duration": 16,
    "start_time": "2023-04-06T06:46:26.604Z"
   },
   {
    "duration": 22,
    "start_time": "2023-04-06T06:46:26.622Z"
   },
   {
    "duration": 9,
    "start_time": "2023-04-06T06:46:26.646Z"
   },
   {
    "duration": 17,
    "start_time": "2023-04-06T06:46:26.657Z"
   },
   {
    "duration": 25,
    "start_time": "2023-04-06T06:46:26.676Z"
   },
   {
    "duration": 5609,
    "start_time": "2023-04-06T06:46:26.703Z"
   },
   {
    "duration": 6002,
    "start_time": "2023-04-06T06:46:32.314Z"
   },
   {
    "duration": 1172,
    "start_time": "2023-04-06T06:46:38.317Z"
   },
   {
    "duration": 341,
    "start_time": "2023-04-06T06:46:39.491Z"
   },
   {
    "duration": 143,
    "start_time": "2023-04-06T06:46:39.834Z"
   },
   {
    "duration": 0,
    "start_time": "2023-04-06T06:46:39.979Z"
   },
   {
    "duration": 0,
    "start_time": "2023-04-06T06:46:39.983Z"
   },
   {
    "duration": 0,
    "start_time": "2023-04-06T06:46:39.984Z"
   },
   {
    "duration": 0,
    "start_time": "2023-04-06T06:46:39.985Z"
   },
   {
    "duration": 0,
    "start_time": "2023-04-06T06:46:39.986Z"
   },
   {
    "duration": 0,
    "start_time": "2023-04-06T06:46:39.987Z"
   },
   {
    "duration": 0,
    "start_time": "2023-04-06T06:46:39.988Z"
   },
   {
    "duration": 0,
    "start_time": "2023-04-06T06:46:39.989Z"
   },
   {
    "duration": 0,
    "start_time": "2023-04-06T06:46:40.051Z"
   },
   {
    "duration": 0,
    "start_time": "2023-04-06T06:46:40.053Z"
   },
   {
    "duration": 17,
    "start_time": "2023-04-06T06:47:53.112Z"
   },
   {
    "duration": 874,
    "start_time": "2023-04-06T06:48:44.414Z"
   },
   {
    "duration": 141,
    "start_time": "2023-04-06T06:48:48.455Z"
   },
   {
    "duration": 4,
    "start_time": "2023-04-06T06:49:57.446Z"
   },
   {
    "duration": 6,
    "start_time": "2023-04-06T06:50:20.277Z"
   },
   {
    "duration": 4,
    "start_time": "2023-04-06T06:50:24.702Z"
   },
   {
    "duration": 2196,
    "start_time": "2023-04-06T06:50:31.425Z"
   },
   {
    "duration": 2195,
    "start_time": "2023-04-06T06:50:33.623Z"
   },
   {
    "duration": 1204,
    "start_time": "2023-04-06T06:50:35.820Z"
   },
   {
    "duration": 97,
    "start_time": "2023-04-06T06:50:37.026Z"
   },
   {
    "duration": 10,
    "start_time": "2023-04-06T06:50:37.125Z"
   },
   {
    "duration": 26,
    "start_time": "2023-04-06T06:50:37.137Z"
   },
   {
    "duration": 46,
    "start_time": "2023-04-06T06:50:37.164Z"
   },
   {
    "duration": 47,
    "start_time": "2023-04-06T06:50:37.211Z"
   },
   {
    "duration": 27,
    "start_time": "2023-04-06T06:50:37.260Z"
   },
   {
    "duration": 28,
    "start_time": "2023-04-06T06:50:37.290Z"
   },
   {
    "duration": 29,
    "start_time": "2023-04-06T06:50:37.320Z"
   },
   {
    "duration": 423,
    "start_time": "2023-04-06T06:50:37.350Z"
   },
   {
    "duration": 13,
    "start_time": "2023-04-06T06:50:37.774Z"
   },
   {
    "duration": 67,
    "start_time": "2023-04-06T06:50:37.789Z"
   },
   {
    "duration": 308,
    "start_time": "2023-04-06T06:50:37.857Z"
   },
   {
    "duration": 105,
    "start_time": "2023-04-06T06:50:38.166Z"
   },
   {
    "duration": 9,
    "start_time": "2023-04-06T06:50:38.273Z"
   },
   {
    "duration": 44,
    "start_time": "2023-04-06T06:50:38.283Z"
   },
   {
    "duration": 32,
    "start_time": "2023-04-06T06:50:38.329Z"
   },
   {
    "duration": 55,
    "start_time": "2023-04-06T06:50:38.363Z"
   },
   {
    "duration": 39,
    "start_time": "2023-04-06T06:50:38.419Z"
   },
   {
    "duration": 97,
    "start_time": "2023-04-06T06:50:38.459Z"
   },
   {
    "duration": 28,
    "start_time": "2023-04-06T06:50:38.557Z"
   },
   {
    "duration": 6444,
    "start_time": "2023-04-06T06:50:38.586Z"
   },
   {
    "duration": 5919,
    "start_time": "2023-04-06T06:50:45.031Z"
   },
   {
    "duration": 949,
    "start_time": "2023-04-06T06:50:50.952Z"
   },
   {
    "duration": 304,
    "start_time": "2023-04-06T06:50:51.903Z"
   },
   {
    "duration": 9,
    "start_time": "2023-04-06T06:50:52.210Z"
   },
   {
    "duration": 9122,
    "start_time": "2023-04-06T06:50:52.221Z"
   },
   {
    "duration": 8567,
    "start_time": "2023-04-06T06:51:01.345Z"
   },
   {
    "duration": 2706,
    "start_time": "2023-04-06T06:51:09.914Z"
   },
   {
    "duration": 101,
    "start_time": "2023-04-06T06:51:12.691Z"
   },
   {
    "duration": 4322,
    "start_time": "2023-04-06T06:51:12.793Z"
   },
   {
    "duration": 4190,
    "start_time": "2023-04-06T06:51:17.117Z"
   },
   {
    "duration": 880,
    "start_time": "2023-04-06T06:51:21.309Z"
   },
   {
    "duration": 203,
    "start_time": "2023-04-06T06:51:22.191Z"
   },
   {
    "duration": 148,
    "start_time": "2023-04-06T06:51:22.396Z"
   },
   {
    "duration": 403,
    "start_time": "2023-04-06T06:51:22.545Z"
   },
   {
    "duration": 6363,
    "start_time": "2023-04-06T06:53:54.861Z"
   },
   {
    "duration": 6233,
    "start_time": "2023-04-06T06:55:01.785Z"
   },
   {
    "duration": 864,
    "start_time": "2023-04-06T06:56:07.737Z"
   },
   {
    "duration": 140,
    "start_time": "2023-04-06T06:56:56.137Z"
   },
   {
    "duration": 4,
    "start_time": "2023-04-06T07:08:20.535Z"
   },
   {
    "duration": 36,
    "start_time": "2023-04-06T07:12:47.065Z"
   },
   {
    "duration": 5,
    "start_time": "2023-04-06T07:14:57.574Z"
   },
   {
    "duration": 113,
    "start_time": "2023-04-06T07:16:52.245Z"
   },
   {
    "duration": 866,
    "start_time": "2023-04-06T07:16:58.923Z"
   },
   {
    "duration": 2142,
    "start_time": "2023-04-06T07:19:45.254Z"
   },
   {
    "duration": 2115,
    "start_time": "2023-04-06T07:19:47.398Z"
   },
   {
    "duration": 1232,
    "start_time": "2023-04-06T07:19:49.514Z"
   },
   {
    "duration": 88,
    "start_time": "2023-04-06T07:19:50.748Z"
   },
   {
    "duration": 13,
    "start_time": "2023-04-06T07:19:50.837Z"
   },
   {
    "duration": 7,
    "start_time": "2023-04-06T07:19:50.852Z"
   },
   {
    "duration": 19,
    "start_time": "2023-04-06T07:19:50.860Z"
   },
   {
    "duration": 13,
    "start_time": "2023-04-06T07:19:50.880Z"
   },
   {
    "duration": 21,
    "start_time": "2023-04-06T07:19:50.894Z"
   },
   {
    "duration": 7,
    "start_time": "2023-04-06T07:19:50.918Z"
   },
   {
    "duration": 8,
    "start_time": "2023-04-06T07:19:50.927Z"
   },
   {
    "duration": 406,
    "start_time": "2023-04-06T07:19:50.936Z"
   },
   {
    "duration": 13,
    "start_time": "2023-04-06T07:19:51.344Z"
   },
   {
    "duration": 54,
    "start_time": "2023-04-06T07:19:51.358Z"
   },
   {
    "duration": 274,
    "start_time": "2023-04-06T07:19:51.413Z"
   },
   {
    "duration": 99,
    "start_time": "2023-04-06T07:19:51.689Z"
   },
   {
    "duration": 2,
    "start_time": "2023-04-06T07:19:51.790Z"
   },
   {
    "duration": 122,
    "start_time": "2023-04-06T07:19:51.794Z"
   },
   {
    "duration": 0,
    "start_time": "2023-04-06T07:19:51.918Z"
   },
   {
    "duration": 0,
    "start_time": "2023-04-06T07:19:51.919Z"
   },
   {
    "duration": 0,
    "start_time": "2023-04-06T07:19:51.920Z"
   },
   {
    "duration": 0,
    "start_time": "2023-04-06T07:19:51.921Z"
   },
   {
    "duration": 0,
    "start_time": "2023-04-06T07:19:51.923Z"
   },
   {
    "duration": 0,
    "start_time": "2023-04-06T07:19:51.924Z"
   },
   {
    "duration": 0,
    "start_time": "2023-04-06T07:19:51.924Z"
   },
   {
    "duration": 0,
    "start_time": "2023-04-06T07:19:51.926Z"
   },
   {
    "duration": 0,
    "start_time": "2023-04-06T07:19:51.928Z"
   },
   {
    "duration": 0,
    "start_time": "2023-04-06T07:19:51.929Z"
   },
   {
    "duration": 0,
    "start_time": "2023-04-06T07:19:51.931Z"
   },
   {
    "duration": 0,
    "start_time": "2023-04-06T07:19:51.932Z"
   },
   {
    "duration": 0,
    "start_time": "2023-04-06T07:19:51.934Z"
   },
   {
    "duration": 0,
    "start_time": "2023-04-06T07:19:51.935Z"
   },
   {
    "duration": 0,
    "start_time": "2023-04-06T07:19:51.937Z"
   },
   {
    "duration": 0,
    "start_time": "2023-04-06T07:19:51.938Z"
   },
   {
    "duration": 0,
    "start_time": "2023-04-06T07:19:51.939Z"
   },
   {
    "duration": 0,
    "start_time": "2023-04-06T07:19:51.940Z"
   },
   {
    "duration": 0,
    "start_time": "2023-04-06T07:19:51.941Z"
   },
   {
    "duration": 19,
    "start_time": "2023-04-06T07:20:35.545Z"
   },
   {
    "duration": 4,
    "start_time": "2023-04-06T07:20:57.424Z"
   },
   {
    "duration": 14,
    "start_time": "2023-04-06T07:21:52.736Z"
   },
   {
    "duration": 3,
    "start_time": "2023-04-06T07:21:54.567Z"
   },
   {
    "duration": 3,
    "start_time": "2023-04-06T07:21:55.623Z"
   },
   {
    "duration": 3,
    "start_time": "2023-04-06T07:21:57.167Z"
   },
   {
    "duration": 19,
    "start_time": "2023-04-06T07:21:58.749Z"
   },
   {
    "duration": 13,
    "start_time": "2023-04-06T07:42:48.956Z"
   },
   {
    "duration": 12,
    "start_time": "2023-04-06T07:43:04.068Z"
   },
   {
    "duration": 13,
    "start_time": "2023-04-06T07:43:21.715Z"
   },
   {
    "duration": 16,
    "start_time": "2023-04-06T07:45:36.625Z"
   },
   {
    "duration": 2360,
    "start_time": "2023-04-06T08:19:39.237Z"
   },
   {
    "duration": 2428,
    "start_time": "2023-04-06T08:19:41.600Z"
   },
   {
    "duration": 1403,
    "start_time": "2023-04-06T08:19:44.030Z"
   },
   {
    "duration": 183,
    "start_time": "2023-04-06T08:19:45.435Z"
   },
   {
    "duration": 14,
    "start_time": "2023-04-06T08:19:45.620Z"
   },
   {
    "duration": 11,
    "start_time": "2023-04-06T08:19:45.636Z"
   },
   {
    "duration": 18,
    "start_time": "2023-04-06T08:19:45.648Z"
   },
   {
    "duration": 10,
    "start_time": "2023-04-06T08:19:45.668Z"
   },
   {
    "duration": 22,
    "start_time": "2023-04-06T08:19:45.682Z"
   },
   {
    "duration": 13,
    "start_time": "2023-04-06T08:19:45.706Z"
   },
   {
    "duration": 14,
    "start_time": "2023-04-06T08:19:45.720Z"
   },
   {
    "duration": 440,
    "start_time": "2023-04-06T08:19:45.736Z"
   },
   {
    "duration": 18,
    "start_time": "2023-04-06T08:19:46.177Z"
   },
   {
    "duration": 41,
    "start_time": "2023-04-06T08:19:46.196Z"
   },
   {
    "duration": 327,
    "start_time": "2023-04-06T08:19:46.239Z"
   },
   {
    "duration": 134,
    "start_time": "2023-04-06T08:19:46.568Z"
   },
   {
    "duration": 3,
    "start_time": "2023-04-06T08:19:46.703Z"
   },
   {
    "duration": 33,
    "start_time": "2023-04-06T08:19:46.708Z"
   },
   {
    "duration": 15,
    "start_time": "2023-04-06T08:19:46.743Z"
   },
   {
    "duration": 25,
    "start_time": "2023-04-06T08:19:46.760Z"
   },
   {
    "duration": 21,
    "start_time": "2023-04-06T08:19:46.786Z"
   },
   {
    "duration": 18,
    "start_time": "2023-04-06T08:19:46.809Z"
   },
   {
    "duration": 20,
    "start_time": "2023-04-06T08:19:46.828Z"
   },
   {
    "duration": 149,
    "start_time": "2023-04-06T08:19:46.849Z"
   },
   {
    "duration": 0,
    "start_time": "2023-04-06T08:19:47.000Z"
   },
   {
    "duration": 0,
    "start_time": "2023-04-06T08:19:47.002Z"
   },
   {
    "duration": 0,
    "start_time": "2023-04-06T08:19:47.003Z"
   },
   {
    "duration": 0,
    "start_time": "2023-04-06T08:19:47.004Z"
   },
   {
    "duration": 0,
    "start_time": "2023-04-06T08:19:47.005Z"
   },
   {
    "duration": 0,
    "start_time": "2023-04-06T08:19:47.006Z"
   },
   {
    "duration": 0,
    "start_time": "2023-04-06T08:19:47.007Z"
   },
   {
    "duration": 0,
    "start_time": "2023-04-06T08:19:47.009Z"
   },
   {
    "duration": 0,
    "start_time": "2023-04-06T08:19:47.010Z"
   },
   {
    "duration": 0,
    "start_time": "2023-04-06T08:19:47.011Z"
   },
   {
    "duration": 0,
    "start_time": "2023-04-06T08:19:47.012Z"
   },
   {
    "duration": 0,
    "start_time": "2023-04-06T08:19:47.013Z"
   },
   {
    "duration": 0,
    "start_time": "2023-04-06T08:19:47.014Z"
   },
   {
    "duration": 0,
    "start_time": "2023-04-06T08:19:47.016Z"
   },
   {
    "duration": 0,
    "start_time": "2023-04-06T08:19:47.017Z"
   },
   {
    "duration": 0,
    "start_time": "2023-04-06T08:19:47.018Z"
   },
   {
    "duration": 0,
    "start_time": "2023-04-06T08:19:47.019Z"
   },
   {
    "duration": 43,
    "start_time": "2023-04-06T08:20:21.755Z"
   },
   {
    "duration": 24,
    "start_time": "2023-04-06T08:23:27.102Z"
   },
   {
    "duration": 15,
    "start_time": "2023-04-06T08:23:31.860Z"
   },
   {
    "duration": 14,
    "start_time": "2023-04-06T08:25:22.755Z"
   },
   {
    "duration": 3,
    "start_time": "2023-04-06T08:25:35.466Z"
   },
   {
    "duration": 15,
    "start_time": "2023-04-06T08:25:52.582Z"
   },
   {
    "duration": 3,
    "start_time": "2023-04-06T08:26:25.145Z"
   },
   {
    "duration": 25,
    "start_time": "2023-04-06T08:27:07.218Z"
   },
   {
    "duration": 2121,
    "start_time": "2023-04-06T08:27:22.491Z"
   },
   {
    "duration": 2210,
    "start_time": "2023-04-06T08:27:24.614Z"
   },
   {
    "duration": 1281,
    "start_time": "2023-04-06T08:27:26.825Z"
   },
   {
    "duration": 92,
    "start_time": "2023-04-06T08:27:28.108Z"
   },
   {
    "duration": 13,
    "start_time": "2023-04-06T08:27:28.202Z"
   },
   {
    "duration": 4,
    "start_time": "2023-04-06T08:27:28.217Z"
   },
   {
    "duration": 19,
    "start_time": "2023-04-06T08:27:28.223Z"
   },
   {
    "duration": 7,
    "start_time": "2023-04-06T08:27:28.244Z"
   },
   {
    "duration": 31,
    "start_time": "2023-04-06T08:27:28.253Z"
   },
   {
    "duration": 5,
    "start_time": "2023-04-06T08:27:28.287Z"
   },
   {
    "duration": 8,
    "start_time": "2023-04-06T08:27:28.293Z"
   },
   {
    "duration": 428,
    "start_time": "2023-04-06T08:27:28.302Z"
   },
   {
    "duration": 14,
    "start_time": "2023-04-06T08:27:28.732Z"
   },
   {
    "duration": 53,
    "start_time": "2023-04-06T08:27:28.748Z"
   },
   {
    "duration": 292,
    "start_time": "2023-04-06T08:27:28.803Z"
   },
   {
    "duration": 114,
    "start_time": "2023-04-06T08:27:29.098Z"
   },
   {
    "duration": 2,
    "start_time": "2023-04-06T08:27:29.214Z"
   },
   {
    "duration": 29,
    "start_time": "2023-04-06T08:27:29.219Z"
   },
   {
    "duration": 13,
    "start_time": "2023-04-06T08:27:29.250Z"
   },
   {
    "duration": 25,
    "start_time": "2023-04-06T08:27:29.265Z"
   },
   {
    "duration": 4,
    "start_time": "2023-04-06T08:27:29.292Z"
   },
   {
    "duration": 10,
    "start_time": "2023-04-06T08:27:29.298Z"
   },
   {
    "duration": 7,
    "start_time": "2023-04-06T08:27:29.310Z"
   },
   {
    "duration": 43,
    "start_time": "2023-04-06T08:27:29.319Z"
   },
   {
    "duration": 21,
    "start_time": "2023-04-06T08:27:29.364Z"
   },
   {
    "duration": 32,
    "start_time": "2023-04-06T08:27:29.387Z"
   },
   {
    "duration": 186,
    "start_time": "2023-04-06T08:27:29.421Z"
   },
   {
    "duration": 0,
    "start_time": "2023-04-06T08:27:29.609Z"
   },
   {
    "duration": 0,
    "start_time": "2023-04-06T08:27:29.611Z"
   },
   {
    "duration": 0,
    "start_time": "2023-04-06T08:27:29.613Z"
   },
   {
    "duration": 0,
    "start_time": "2023-04-06T08:27:29.614Z"
   },
   {
    "duration": 0,
    "start_time": "2023-04-06T08:27:29.615Z"
   },
   {
    "duration": 0,
    "start_time": "2023-04-06T08:27:29.616Z"
   },
   {
    "duration": 0,
    "start_time": "2023-04-06T08:27:29.618Z"
   },
   {
    "duration": 0,
    "start_time": "2023-04-06T08:27:29.619Z"
   },
   {
    "duration": 0,
    "start_time": "2023-04-06T08:27:29.620Z"
   },
   {
    "duration": 0,
    "start_time": "2023-04-06T08:27:29.622Z"
   },
   {
    "duration": 0,
    "start_time": "2023-04-06T08:27:29.623Z"
   },
   {
    "duration": 0,
    "start_time": "2023-04-06T08:27:29.624Z"
   },
   {
    "duration": 0,
    "start_time": "2023-04-06T08:27:29.625Z"
   },
   {
    "duration": 0,
    "start_time": "2023-04-06T08:27:29.627Z"
   },
   {
    "duration": 0,
    "start_time": "2023-04-06T08:27:29.628Z"
   },
   {
    "duration": 15,
    "start_time": "2023-04-06T08:28:09.921Z"
   },
   {
    "duration": 9,
    "start_time": "2023-04-06T08:28:31.903Z"
   },
   {
    "duration": 17,
    "start_time": "2023-04-06T08:31:21.795Z"
   },
   {
    "duration": 2180,
    "start_time": "2023-04-06T08:31:26.567Z"
   },
   {
    "duration": 2348,
    "start_time": "2023-04-06T08:31:28.749Z"
   },
   {
    "duration": 1258,
    "start_time": "2023-04-06T08:31:31.099Z"
   },
   {
    "duration": 93,
    "start_time": "2023-04-06T08:31:32.359Z"
   },
   {
    "duration": 12,
    "start_time": "2023-04-06T08:31:32.453Z"
   },
   {
    "duration": 3,
    "start_time": "2023-04-06T08:31:32.467Z"
   },
   {
    "duration": 20,
    "start_time": "2023-04-06T08:31:32.471Z"
   },
   {
    "duration": 20,
    "start_time": "2023-04-06T08:31:32.492Z"
   },
   {
    "duration": 29,
    "start_time": "2023-04-06T08:31:32.513Z"
   },
   {
    "duration": 40,
    "start_time": "2023-04-06T08:31:32.545Z"
   },
   {
    "duration": 29,
    "start_time": "2023-04-06T08:31:32.587Z"
   },
   {
    "duration": 442,
    "start_time": "2023-04-06T08:31:32.618Z"
   },
   {
    "duration": 21,
    "start_time": "2023-04-06T08:31:33.062Z"
   },
   {
    "duration": 49,
    "start_time": "2023-04-06T08:31:33.084Z"
   },
   {
    "duration": 296,
    "start_time": "2023-04-06T08:31:33.135Z"
   },
   {
    "duration": 106,
    "start_time": "2023-04-06T08:31:33.432Z"
   },
   {
    "duration": 16,
    "start_time": "2023-04-06T08:31:33.540Z"
   },
   {
    "duration": 4,
    "start_time": "2023-04-06T08:31:33.557Z"
   },
   {
    "duration": 22,
    "start_time": "2023-04-06T08:31:33.563Z"
   },
   {
    "duration": 7,
    "start_time": "2023-04-06T08:31:33.586Z"
   },
   {
    "duration": 37,
    "start_time": "2023-04-06T08:31:33.595Z"
   },
   {
    "duration": 13,
    "start_time": "2023-04-06T08:31:33.634Z"
   },
   {
    "duration": 50,
    "start_time": "2023-04-06T08:31:33.649Z"
   },
   {
    "duration": 7484,
    "start_time": "2023-04-06T08:31:33.700Z"
   },
   {
    "duration": 6161,
    "start_time": "2023-04-06T08:31:41.186Z"
   },
   {
    "duration": 1553,
    "start_time": "2023-04-06T08:31:47.349Z"
   },
   {
    "duration": 379,
    "start_time": "2023-04-06T08:31:48.904Z"
   },
   {
    "duration": 9,
    "start_time": "2023-04-06T08:31:49.286Z"
   },
   {
    "duration": 9544,
    "start_time": "2023-04-06T08:31:49.296Z"
   },
   {
    "duration": 9222,
    "start_time": "2023-04-06T08:31:58.841Z"
   },
   {
    "duration": 1639,
    "start_time": "2023-04-06T08:32:08.065Z"
   },
   {
    "duration": 101,
    "start_time": "2023-04-06T08:32:09.784Z"
   },
   {
    "duration": 4255,
    "start_time": "2023-04-06T08:32:09.887Z"
   },
   {
    "duration": 3930,
    "start_time": "2023-04-06T08:32:14.144Z"
   },
   {
    "duration": 913,
    "start_time": "2023-04-06T08:32:18.076Z"
   },
   {
    "duration": 202,
    "start_time": "2023-04-06T08:32:18.992Z"
   },
   {
    "duration": 157,
    "start_time": "2023-04-06T08:32:19.196Z"
   },
   {
    "duration": 379,
    "start_time": "2023-04-06T08:32:19.356Z"
   },
   {
    "duration": 149,
    "start_time": "2023-04-06T08:32:19.737Z"
   },
   {
    "duration": 13,
    "start_time": "2023-04-06T08:34:33.879Z"
   },
   {
    "duration": 17,
    "start_time": "2023-04-06T08:34:35.095Z"
   },
   {
    "duration": 15,
    "start_time": "2023-04-06T08:34:36.967Z"
   },
   {
    "duration": 12,
    "start_time": "2023-04-06T08:34:41.552Z"
   },
   {
    "duration": 8,
    "start_time": "2023-04-06T08:34:43.608Z"
   },
   {
    "duration": 9,
    "start_time": "2023-04-06T08:34:45.527Z"
   },
   {
    "duration": 10,
    "start_time": "2023-04-06T08:34:46.295Z"
   },
   {
    "duration": 19,
    "start_time": "2023-04-06T08:34:49.127Z"
   },
   {
    "duration": 12,
    "start_time": "2023-04-06T08:34:54.960Z"
   },
   {
    "duration": 9,
    "start_time": "2023-04-06T08:34:55.783Z"
   },
   {
    "duration": 20,
    "start_time": "2023-04-06T08:35:00.327Z"
   },
   {
    "duration": 9,
    "start_time": "2023-04-06T08:35:03.343Z"
   },
   {
    "duration": 8,
    "start_time": "2023-04-06T08:35:44.950Z"
   },
   {
    "duration": 352,
    "start_time": "2023-04-06T08:49:35.831Z"
   },
   {
    "duration": 5,
    "start_time": "2023-04-06T08:54:46.625Z"
   },
   {
    "duration": 8,
    "start_time": "2023-04-06T08:54:54.711Z"
   },
   {
    "duration": 6,
    "start_time": "2023-04-06T08:56:13.070Z"
   },
   {
    "duration": 7,
    "start_time": "2023-04-06T09:06:21.079Z"
   },
   {
    "duration": 8,
    "start_time": "2023-04-06T09:06:24.439Z"
   },
   {
    "duration": 5,
    "start_time": "2023-04-06T09:08:53.111Z"
   },
   {
    "duration": 25,
    "start_time": "2023-04-06T09:09:16.405Z"
   },
   {
    "duration": 24,
    "start_time": "2023-04-06T09:10:02.586Z"
   },
   {
    "duration": 24,
    "start_time": "2023-04-06T09:10:27.308Z"
   },
   {
    "duration": 23,
    "start_time": "2023-04-06T09:10:53.164Z"
   },
   {
    "duration": 2204,
    "start_time": "2023-04-06T09:11:01.156Z"
   },
   {
    "duration": 2283,
    "start_time": "2023-04-06T09:11:03.362Z"
   },
   {
    "duration": 1331,
    "start_time": "2023-04-06T09:11:05.647Z"
   },
   {
    "duration": 125,
    "start_time": "2023-04-06T09:11:06.980Z"
   },
   {
    "duration": 12,
    "start_time": "2023-04-06T09:11:07.107Z"
   },
   {
    "duration": 4,
    "start_time": "2023-04-06T09:11:07.121Z"
   },
   {
    "duration": 15,
    "start_time": "2023-04-06T09:11:07.126Z"
   },
   {
    "duration": 7,
    "start_time": "2023-04-06T09:11:07.143Z"
   },
   {
    "duration": 7,
    "start_time": "2023-04-06T09:11:07.152Z"
   },
   {
    "duration": 5,
    "start_time": "2023-04-06T09:11:07.184Z"
   },
   {
    "duration": 8,
    "start_time": "2023-04-06T09:11:07.190Z"
   },
   {
    "duration": 407,
    "start_time": "2023-04-06T09:11:07.200Z"
   },
   {
    "duration": 13,
    "start_time": "2023-04-06T09:11:07.609Z"
   },
   {
    "duration": 41,
    "start_time": "2023-04-06T09:11:07.624Z"
   },
   {
    "duration": 284,
    "start_time": "2023-04-06T09:11:07.682Z"
   },
   {
    "duration": 115,
    "start_time": "2023-04-06T09:11:07.968Z"
   },
   {
    "duration": 14,
    "start_time": "2023-04-06T09:11:08.085Z"
   },
   {
    "duration": 4,
    "start_time": "2023-04-06T09:11:08.100Z"
   },
   {
    "duration": 7,
    "start_time": "2023-04-06T09:11:08.106Z"
   },
   {
    "duration": 6,
    "start_time": "2023-04-06T09:11:08.115Z"
   },
   {
    "duration": 38,
    "start_time": "2023-04-06T09:11:08.123Z"
   },
   {
    "duration": 15,
    "start_time": "2023-04-06T09:11:08.183Z"
   },
   {
    "duration": 20,
    "start_time": "2023-04-06T09:11:08.199Z"
   },
   {
    "duration": 6599,
    "start_time": "2023-04-06T09:11:08.220Z"
   },
   {
    "duration": 7061,
    "start_time": "2023-04-06T09:11:14.821Z"
   },
   {
    "duration": 1210,
    "start_time": "2023-04-06T09:11:21.883Z"
   },
   {
    "duration": 384,
    "start_time": "2023-04-06T09:11:23.096Z"
   },
   {
    "duration": 8,
    "start_time": "2023-04-06T09:11:23.485Z"
   },
   {
    "duration": 9319,
    "start_time": "2023-04-06T09:11:23.494Z"
   },
   {
    "duration": 8351,
    "start_time": "2023-04-06T09:11:32.815Z"
   },
   {
    "duration": 1440,
    "start_time": "2023-04-06T09:11:41.167Z"
   },
   {
    "duration": 177,
    "start_time": "2023-04-06T09:11:42.608Z"
   },
   {
    "duration": 4301,
    "start_time": "2023-04-06T09:11:42.786Z"
   },
   {
    "duration": 3983,
    "start_time": "2023-04-06T09:11:47.089Z"
   },
   {
    "duration": 815,
    "start_time": "2023-04-06T09:11:51.074Z"
   },
   {
    "duration": 199,
    "start_time": "2023-04-06T09:11:51.891Z"
   },
   {
    "duration": 174,
    "start_time": "2023-04-06T09:11:52.091Z"
   },
   {
    "duration": 17,
    "start_time": "2023-04-06T09:11:52.267Z"
   },
   {
    "duration": 349,
    "start_time": "2023-04-06T09:11:52.286Z"
   },
   {
    "duration": 22,
    "start_time": "2023-04-06T09:14:01.864Z"
   },
   {
    "duration": 5,
    "start_time": "2023-04-06T09:29:40.565Z"
   },
   {
    "duration": 8,
    "start_time": "2023-04-06T09:29:43.164Z"
   },
   {
    "duration": 2534,
    "start_time": "2023-04-06T09:29:58.319Z"
   },
   {
    "duration": 2293,
    "start_time": "2023-04-06T09:30:00.855Z"
   },
   {
    "duration": 1323,
    "start_time": "2023-04-06T09:30:03.150Z"
   },
   {
    "duration": 115,
    "start_time": "2023-04-06T09:30:04.475Z"
   },
   {
    "duration": 13,
    "start_time": "2023-04-06T09:30:04.592Z"
   },
   {
    "duration": 5,
    "start_time": "2023-04-06T09:30:04.607Z"
   },
   {
    "duration": 12,
    "start_time": "2023-04-06T09:30:04.614Z"
   },
   {
    "duration": 19,
    "start_time": "2023-04-06T09:30:04.628Z"
   },
   {
    "duration": 6,
    "start_time": "2023-04-06T09:30:04.649Z"
   },
   {
    "duration": 27,
    "start_time": "2023-04-06T09:30:04.657Z"
   },
   {
    "duration": 5,
    "start_time": "2023-04-06T09:30:04.686Z"
   },
   {
    "duration": 419,
    "start_time": "2023-04-06T09:30:04.693Z"
   },
   {
    "duration": 13,
    "start_time": "2023-04-06T09:30:05.114Z"
   },
   {
    "duration": 55,
    "start_time": "2023-04-06T09:30:05.129Z"
   },
   {
    "duration": 284,
    "start_time": "2023-04-06T09:30:05.185Z"
   },
   {
    "duration": 107,
    "start_time": "2023-04-06T09:30:05.471Z"
   },
   {
    "duration": 16,
    "start_time": "2023-04-06T09:30:05.583Z"
   },
   {
    "duration": 5,
    "start_time": "2023-04-06T09:30:05.601Z"
   },
   {
    "duration": 13,
    "start_time": "2023-04-06T09:30:05.608Z"
   },
   {
    "duration": 5,
    "start_time": "2023-04-06T09:30:05.622Z"
   },
   {
    "duration": 37,
    "start_time": "2023-04-06T09:30:05.629Z"
   },
   {
    "duration": 32,
    "start_time": "2023-04-06T09:30:05.668Z"
   },
   {
    "duration": 15,
    "start_time": "2023-04-06T09:30:05.702Z"
   },
   {
    "duration": 6494,
    "start_time": "2023-04-06T09:30:05.719Z"
   },
   {
    "duration": 6409,
    "start_time": "2023-04-06T09:30:12.215Z"
   },
   {
    "duration": 1176,
    "start_time": "2023-04-06T09:30:18.626Z"
   },
   {
    "duration": 391,
    "start_time": "2023-04-06T09:30:19.805Z"
   },
   {
    "duration": 11,
    "start_time": "2023-04-06T09:30:20.201Z"
   },
   {
    "duration": 9960,
    "start_time": "2023-04-06T09:30:20.213Z"
   },
   {
    "duration": 9009,
    "start_time": "2023-04-06T09:30:30.175Z"
   },
   {
    "duration": 1597,
    "start_time": "2023-04-06T09:30:39.186Z"
   },
   {
    "duration": 102,
    "start_time": "2023-04-06T09:30:40.787Z"
   },
   {
    "duration": 4211,
    "start_time": "2023-04-06T09:30:40.891Z"
   },
   {
    "duration": 3894,
    "start_time": "2023-04-06T09:30:45.104Z"
   },
   {
    "duration": 794,
    "start_time": "2023-04-06T09:30:48.999Z"
   },
   {
    "duration": 196,
    "start_time": "2023-04-06T09:30:49.795Z"
   },
   {
    "duration": 150,
    "start_time": "2023-04-06T09:30:49.993Z"
   },
   {
    "duration": 7,
    "start_time": "2023-04-06T09:30:50.144Z"
   },
   {
    "duration": 391,
    "start_time": "2023-04-06T09:30:50.152Z"
   },
   {
    "duration": 10,
    "start_time": "2023-04-06T09:35:16.133Z"
   },
   {
    "duration": 4,
    "start_time": "2023-04-06T09:35:52.925Z"
   },
   {
    "duration": 2321,
    "start_time": "2023-04-06T09:36:05.004Z"
   },
   {
    "duration": 2209,
    "start_time": "2023-04-06T09:36:07.328Z"
   },
   {
    "duration": 1243,
    "start_time": "2023-04-06T09:36:09.543Z"
   },
   {
    "duration": 96,
    "start_time": "2023-04-06T09:36:10.788Z"
   },
   {
    "duration": 11,
    "start_time": "2023-04-06T09:36:10.886Z"
   },
   {
    "duration": 3,
    "start_time": "2023-04-06T09:36:10.899Z"
   },
   {
    "duration": 20,
    "start_time": "2023-04-06T09:36:10.904Z"
   },
   {
    "duration": 9,
    "start_time": "2023-04-06T09:36:10.927Z"
   },
   {
    "duration": 7,
    "start_time": "2023-04-06T09:36:10.941Z"
   },
   {
    "duration": 6,
    "start_time": "2023-04-06T09:36:10.983Z"
   },
   {
    "duration": 7,
    "start_time": "2023-04-06T09:36:10.991Z"
   },
   {
    "duration": 419,
    "start_time": "2023-04-06T09:36:11.000Z"
   },
   {
    "duration": 14,
    "start_time": "2023-04-06T09:36:11.421Z"
   },
   {
    "duration": 58,
    "start_time": "2023-04-06T09:36:11.437Z"
   },
   {
    "duration": 293,
    "start_time": "2023-04-06T09:36:11.497Z"
   },
   {
    "duration": 115,
    "start_time": "2023-04-06T09:36:11.792Z"
   },
   {
    "duration": 17,
    "start_time": "2023-04-06T09:36:11.909Z"
   },
   {
    "duration": 4,
    "start_time": "2023-04-06T09:36:11.928Z"
   },
   {
    "duration": 8,
    "start_time": "2023-04-06T09:36:11.934Z"
   },
   {
    "duration": 8,
    "start_time": "2023-04-06T09:36:11.943Z"
   },
   {
    "duration": 58,
    "start_time": "2023-04-06T09:36:11.952Z"
   },
   {
    "duration": 16,
    "start_time": "2023-04-06T09:36:12.011Z"
   },
   {
    "duration": 24,
    "start_time": "2023-04-06T09:36:12.030Z"
   },
   {
    "duration": 6474,
    "start_time": "2023-04-06T09:36:12.056Z"
   },
   {
    "duration": 6193,
    "start_time": "2023-04-06T09:36:18.533Z"
   },
   {
    "duration": 1174,
    "start_time": "2023-04-06T09:36:24.727Z"
   },
   {
    "duration": 378,
    "start_time": "2023-04-06T09:36:25.906Z"
   },
   {
    "duration": 9,
    "start_time": "2023-04-06T09:36:26.286Z"
   },
   {
    "duration": 9621,
    "start_time": "2023-04-06T09:36:26.297Z"
   },
   {
    "duration": 9092,
    "start_time": "2023-04-06T09:36:35.919Z"
   },
   {
    "duration": 1396,
    "start_time": "2023-04-06T09:36:45.013Z"
   },
   {
    "duration": 15,
    "start_time": "2023-04-06T09:36:46.482Z"
   },
   {
    "duration": 4290,
    "start_time": "2023-04-06T09:36:46.584Z"
   },
   {
    "duration": 4250,
    "start_time": "2023-04-06T09:36:50.876Z"
   },
   {
    "duration": 1868,
    "start_time": "2023-04-06T09:36:55.128Z"
   },
   {
    "duration": 195,
    "start_time": "2023-04-06T09:36:56.999Z"
   },
   {
    "duration": 156,
    "start_time": "2023-04-06T09:36:57.196Z"
   },
   {
    "duration": 6,
    "start_time": "2023-04-06T09:36:57.354Z"
   },
   {
    "duration": 387,
    "start_time": "2023-04-06T09:36:57.362Z"
   },
   {
    "duration": 2008,
    "start_time": "2023-04-20T09:30:44.191Z"
   },
   {
    "duration": 2641,
    "start_time": "2023-04-20T09:30:50.792Z"
   },
   {
    "duration": 18,
    "start_time": "2023-04-20T09:31:03.880Z"
   },
   {
    "duration": 9,
    "start_time": "2023-04-20T09:31:04.091Z"
   },
   {
    "duration": 9,
    "start_time": "2023-04-20T09:31:04.297Z"
   },
   {
    "duration": 16,
    "start_time": "2023-04-20T09:31:06.587Z"
   },
   {
    "duration": 14,
    "start_time": "2023-04-20T09:31:06.816Z"
   },
   {
    "duration": 14,
    "start_time": "2023-04-20T09:31:08.348Z"
   },
   {
    "duration": 13,
    "start_time": "2023-04-20T09:31:49.690Z"
   },
   {
    "duration": 37,
    "start_time": "2023-04-20T09:31:53.695Z"
   },
   {
    "duration": 34,
    "start_time": "2023-04-20T09:31:53.990Z"
   },
   {
    "duration": 36,
    "start_time": "2023-04-20T09:31:55.588Z"
   },
   {
    "duration": 37,
    "start_time": "2023-04-20T09:33:51.103Z"
   },
   {
    "duration": 4,
    "start_time": "2023-04-20T09:33:51.756Z"
   },
   {
    "duration": 103,
    "start_time": "2023-04-20T09:34:12.665Z"
   },
   {
    "duration": 2,
    "start_time": "2023-04-20T09:34:17.347Z"
   },
   {
    "duration": 103,
    "start_time": "2023-04-20T09:34:19.696Z"
   },
   {
    "duration": 7,
    "start_time": "2023-04-20T09:34:27.297Z"
   },
   {
    "duration": 6,
    "start_time": "2023-04-20T09:34:29.865Z"
   },
   {
    "duration": 4,
    "start_time": "2023-04-20T09:34:30.206Z"
   },
   {
    "duration": 3,
    "start_time": "2023-04-20T09:35:33.008Z"
   },
   {
    "duration": 3,
    "start_time": "2023-04-20T09:35:46.625Z"
   },
   {
    "duration": 6,
    "start_time": "2023-04-20T09:36:02.921Z"
   },
   {
    "duration": 4,
    "start_time": "2023-04-20T09:36:51.084Z"
   },
   {
    "duration": 20,
    "start_time": "2023-04-20T09:37:24.010Z"
   },
   {
    "duration": 9,
    "start_time": "2023-04-20T09:38:49.303Z"
   },
   {
    "duration": 1321,
    "start_time": "2023-04-20T09:38:50.609Z"
   },
   {
    "duration": 1333,
    "start_time": "2023-04-20T09:38:51.931Z"
   },
   {
    "duration": 1393,
    "start_time": "2023-04-20T09:38:53.266Z"
   },
   {
    "duration": 100,
    "start_time": "2023-04-20T09:42:11.928Z"
   },
   {
    "duration": 133,
    "start_time": "2023-04-20T09:42:14.126Z"
   },
   {
    "duration": 6,
    "start_time": "2023-04-20T09:43:01.101Z"
   },
   {
    "duration": 1508,
    "start_time": "2023-04-20T09:43:02.716Z"
   },
   {
    "duration": 1399,
    "start_time": "2023-04-20T09:43:04.226Z"
   },
   {
    "duration": 1386,
    "start_time": "2023-04-20T09:43:05.627Z"
   },
   {
    "duration": 44,
    "start_time": "2023-04-20T09:58:59.611Z"
   },
   {
    "duration": 1365,
    "start_time": "2023-04-20T09:59:06.398Z"
   },
   {
    "duration": 1553,
    "start_time": "2023-04-20T09:59:07.765Z"
   },
   {
    "duration": 12,
    "start_time": "2023-04-20T09:59:09.319Z"
   },
   {
    "duration": 7,
    "start_time": "2023-04-20T09:59:09.333Z"
   },
   {
    "duration": 15,
    "start_time": "2023-04-20T09:59:09.342Z"
   },
   {
    "duration": 41,
    "start_time": "2023-04-20T09:59:09.359Z"
   },
   {
    "duration": 18,
    "start_time": "2023-04-20T09:59:09.402Z"
   },
   {
    "duration": 13,
    "start_time": "2023-04-20T09:59:09.421Z"
   },
   {
    "duration": 4,
    "start_time": "2023-04-20T09:59:09.435Z"
   },
   {
    "duration": 121,
    "start_time": "2023-04-20T09:59:09.442Z"
   },
   {
    "duration": 18,
    "start_time": "2023-04-20T09:59:09.565Z"
   },
   {
    "duration": 10,
    "start_time": "2023-04-20T09:59:09.585Z"
   },
   {
    "duration": 47,
    "start_time": "2023-04-20T09:59:09.597Z"
   },
   {
    "duration": 31,
    "start_time": "2023-04-20T09:59:09.646Z"
   },
   {
    "duration": 31,
    "start_time": "2023-04-20T09:59:09.679Z"
   },
   {
    "duration": 174,
    "start_time": "2023-04-20T09:59:09.711Z"
   },
   {
    "duration": 37,
    "start_time": "2023-04-20T09:59:09.886Z"
   },
   {
    "duration": 15,
    "start_time": "2023-04-20T09:59:09.924Z"
   },
   {
    "duration": 105,
    "start_time": "2023-04-20T09:59:09.940Z"
   },
   {
    "duration": 3,
    "start_time": "2023-04-20T09:59:10.135Z"
   },
   {
    "duration": 98,
    "start_time": "2023-04-20T09:59:10.139Z"
   },
   {
    "duration": 5,
    "start_time": "2023-04-20T09:59:10.239Z"
   },
   {
    "duration": 4,
    "start_time": "2023-04-20T09:59:10.246Z"
   },
   {
    "duration": 5,
    "start_time": "2023-04-20T09:59:10.338Z"
   },
   {
    "duration": 4,
    "start_time": "2023-04-20T09:59:10.345Z"
   },
   {
    "duration": 4,
    "start_time": "2023-04-20T09:59:10.436Z"
   },
   {
    "duration": 11,
    "start_time": "2023-04-20T09:59:10.441Z"
   },
   {
    "duration": 8,
    "start_time": "2023-04-20T09:59:10.455Z"
   },
   {
    "duration": 20,
    "start_time": "2023-04-20T09:59:10.464Z"
   },
   {
    "duration": 6,
    "start_time": "2023-04-20T09:59:10.486Z"
   },
   {
    "duration": 1071,
    "start_time": "2023-04-20T09:59:10.493Z"
   },
   {
    "duration": 1237,
    "start_time": "2023-04-20T09:59:11.566Z"
   },
   {
    "duration": 1196,
    "start_time": "2023-04-20T09:59:12.804Z"
   },
   {
    "duration": 1121,
    "start_time": "2023-04-20T10:01:11.582Z"
   },
   {
    "duration": 1059,
    "start_time": "2023-04-20T10:01:19.317Z"
   },
   {
    "duration": 1016,
    "start_time": "2023-04-20T10:01:34.028Z"
   },
   {
    "duration": 1035,
    "start_time": "2023-04-20T10:01:36.901Z"
   },
   {
    "duration": 64,
    "start_time": "2023-04-20T14:38:55.377Z"
   },
   {
    "duration": 5,
    "start_time": "2023-04-20T14:38:58.285Z"
   },
   {
    "duration": 1713,
    "start_time": "2023-04-20T14:39:03.689Z"
   },
   {
    "duration": 2164,
    "start_time": "2023-04-20T14:39:05.405Z"
   },
   {
    "duration": 14,
    "start_time": "2023-04-20T14:39:07.571Z"
   },
   {
    "duration": 19,
    "start_time": "2023-04-20T14:39:07.587Z"
   },
   {
    "duration": 24,
    "start_time": "2023-04-20T14:39:07.609Z"
   },
   {
    "duration": 17,
    "start_time": "2023-04-20T14:39:07.636Z"
   },
   {
    "duration": 14,
    "start_time": "2023-04-20T14:39:07.654Z"
   },
   {
    "duration": 23,
    "start_time": "2023-04-20T14:39:07.670Z"
   },
   {
    "duration": 6,
    "start_time": "2023-04-20T14:39:07.695Z"
   },
   {
    "duration": 148,
    "start_time": "2023-04-20T14:39:07.703Z"
   },
   {
    "duration": 20,
    "start_time": "2023-04-20T14:39:07.853Z"
   },
   {
    "duration": 33,
    "start_time": "2023-04-20T14:39:07.874Z"
   },
   {
    "duration": 51,
    "start_time": "2023-04-20T14:39:07.909Z"
   },
   {
    "duration": 45,
    "start_time": "2023-04-20T14:39:07.964Z"
   },
   {
    "duration": 37,
    "start_time": "2023-04-20T14:39:08.010Z"
   },
   {
    "duration": 225,
    "start_time": "2023-04-20T14:39:08.049Z"
   },
   {
    "duration": 3,
    "start_time": "2023-04-20T14:39:08.276Z"
   },
   {
    "duration": 589,
    "start_time": "2023-04-20T14:39:08.281Z"
   },
   {
    "duration": 50,
    "start_time": "2023-04-20T14:39:08.872Z"
   },
   {
    "duration": 5,
    "start_time": "2023-04-20T14:39:08.924Z"
   },
   {
    "duration": 86,
    "start_time": "2023-04-20T14:39:08.931Z"
   },
   {
    "duration": 3,
    "start_time": "2023-04-20T14:39:09.094Z"
   },
   {
    "duration": 97,
    "start_time": "2023-04-20T14:39:09.103Z"
   },
   {
    "duration": 6,
    "start_time": "2023-04-20T14:39:09.202Z"
   },
   {
    "duration": 96,
    "start_time": "2023-04-20T14:39:09.212Z"
   },
   {
    "duration": 88,
    "start_time": "2023-04-20T14:39:09.311Z"
   },
   {
    "duration": 18,
    "start_time": "2023-04-20T14:39:09.401Z"
   },
   {
    "duration": 44,
    "start_time": "2023-04-20T14:39:09.421Z"
   },
   {
    "duration": 38,
    "start_time": "2023-04-20T14:39:09.467Z"
   },
   {
    "duration": 35,
    "start_time": "2023-04-20T14:39:09.507Z"
   },
   {
    "duration": 49,
    "start_time": "2023-04-20T14:39:09.544Z"
   },
   {
    "duration": 24,
    "start_time": "2023-04-20T14:39:09.596Z"
   },
   {
    "duration": 1411,
    "start_time": "2023-04-20T14:39:09.622Z"
   },
   {
    "duration": 1590,
    "start_time": "2023-04-20T14:39:11.035Z"
   },
   {
    "duration": 2371,
    "start_time": "2023-04-20T14:39:12.627Z"
   },
   {
    "duration": 519,
    "start_time": "2023-04-20T14:39:37.375Z"
   },
   {
    "duration": 40,
    "start_time": "2023-04-20T14:42:05.884Z"
   },
   {
    "duration": 54,
    "start_time": "2023-04-20T14:42:38.810Z"
   },
   {
    "duration": 781,
    "start_time": "2023-04-20T14:45:01.040Z"
   },
   {
    "duration": 1080,
    "start_time": "2023-04-20T14:45:20.433Z"
   },
   {
    "duration": 1205,
    "start_time": "2023-04-20T14:45:40.410Z"
   },
   {
    "duration": 1042,
    "start_time": "2023-04-20T14:45:48.584Z"
   },
   {
    "duration": 1037,
    "start_time": "2023-04-20T14:45:54.688Z"
   },
   {
    "duration": 519,
    "start_time": "2023-04-20T14:51:07.067Z"
   },
   {
    "duration": 144,
    "start_time": "2023-04-20T14:51:24.828Z"
   },
   {
    "duration": 4774,
    "start_time": "2023-04-20T14:51:53.473Z"
   },
   {
    "duration": 1140,
    "start_time": "2023-04-20T14:52:05.746Z"
   },
   {
    "duration": 1397,
    "start_time": "2023-04-20T14:52:10.075Z"
   },
   {
    "duration": 1368,
    "start_time": "2023-04-20T14:52:32.532Z"
   },
   {
    "duration": 1276,
    "start_time": "2023-04-20T14:52:37.210Z"
   },
   {
    "duration": 412,
    "start_time": "2023-04-20T14:53:15.851Z"
   },
   {
    "duration": 394,
    "start_time": "2023-04-20T14:53:38.474Z"
   },
   {
    "duration": 347,
    "start_time": "2023-04-20T14:54:36.313Z"
   },
   {
    "duration": 1140,
    "start_time": "2023-04-20T14:54:51.478Z"
   },
   {
    "duration": 1199,
    "start_time": "2023-04-20T14:55:21.336Z"
   },
   {
    "duration": 1069,
    "start_time": "2023-04-20T14:55:28.299Z"
   },
   {
    "duration": 1183,
    "start_time": "2023-04-20T14:57:15.038Z"
   },
   {
    "duration": 978,
    "start_time": "2023-04-20T14:57:52.109Z"
   },
   {
    "duration": 1214,
    "start_time": "2023-04-20T14:58:00.445Z"
   },
   {
    "duration": 1014,
    "start_time": "2023-04-20T15:01:08.762Z"
   },
   {
    "duration": 1000,
    "start_time": "2023-04-20T15:02:19.304Z"
   },
   {
    "duration": 1010,
    "start_time": "2023-04-20T15:02:23.577Z"
   },
   {
    "duration": 699,
    "start_time": "2023-04-20T15:02:56.508Z"
   },
   {
    "duration": 1062,
    "start_time": "2023-04-20T15:03:07.143Z"
   },
   {
    "duration": 1080,
    "start_time": "2023-04-20T15:03:34.845Z"
   },
   {
    "duration": 1206,
    "start_time": "2023-04-20T15:03:40.099Z"
   },
   {
    "duration": 3012,
    "start_time": "2023-04-20T15:03:45.275Z"
   },
   {
    "duration": 1039,
    "start_time": "2023-04-20T15:03:58.527Z"
   },
   {
    "duration": 538,
    "start_time": "2023-04-20T15:06:09.508Z"
   },
   {
    "duration": 18,
    "start_time": "2023-04-20T15:06:25.316Z"
   },
   {
    "duration": 1032,
    "start_time": "2023-04-20T15:06:37.804Z"
   },
   {
    "duration": 410,
    "start_time": "2023-04-20T15:06:51.420Z"
   },
   {
    "duration": 1003,
    "start_time": "2023-04-20T15:07:03.157Z"
   },
   {
    "duration": 1073,
    "start_time": "2023-04-20T15:07:18.125Z"
   },
   {
    "duration": 10,
    "start_time": "2023-04-20T15:22:43.541Z"
   },
   {
    "duration": 35,
    "start_time": "2023-04-20T15:22:49.388Z"
   },
   {
    "duration": 4,
    "start_time": "2023-04-20T15:22:50.212Z"
   },
   {
    "duration": 11,
    "start_time": "2023-04-20T15:22:51.804Z"
   },
   {
    "duration": 41,
    "start_time": "2023-04-20T15:23:15.949Z"
   },
   {
    "duration": 4,
    "start_time": "2023-04-20T15:23:16.635Z"
   },
   {
    "duration": 15,
    "start_time": "2023-04-20T15:23:17.500Z"
   },
   {
    "duration": 6,
    "start_time": "2023-04-20T15:23:38.508Z"
   },
   {
    "duration": 20,
    "start_time": "2023-04-20T15:23:39.346Z"
   },
   {
    "duration": 4,
    "start_time": "2023-04-20T15:23:59.562Z"
   },
   {
    "duration": 26,
    "start_time": "2023-04-20T15:24:00.249Z"
   },
   {
    "duration": 14,
    "start_time": "2023-04-20T15:26:58.529Z"
   },
   {
    "duration": 1603,
    "start_time": "2023-04-20T15:27:10.859Z"
   },
   {
    "duration": 635,
    "start_time": "2023-04-20T15:27:12.465Z"
   },
   {
    "duration": 14,
    "start_time": "2023-04-20T15:27:13.102Z"
   },
   {
    "duration": 11,
    "start_time": "2023-04-20T15:27:13.118Z"
   },
   {
    "duration": 23,
    "start_time": "2023-04-20T15:27:13.131Z"
   },
   {
    "duration": 25,
    "start_time": "2023-04-20T15:27:13.156Z"
   },
   {
    "duration": 24,
    "start_time": "2023-04-20T15:27:13.184Z"
   },
   {
    "duration": 17,
    "start_time": "2023-04-20T15:27:13.211Z"
   },
   {
    "duration": 12,
    "start_time": "2023-04-20T15:27:13.230Z"
   },
   {
    "duration": 161,
    "start_time": "2023-04-20T15:27:13.245Z"
   },
   {
    "duration": 21,
    "start_time": "2023-04-20T15:27:13.408Z"
   },
   {
    "duration": 25,
    "start_time": "2023-04-20T15:27:13.431Z"
   },
   {
    "duration": 56,
    "start_time": "2023-04-20T15:27:13.458Z"
   },
   {
    "duration": 41,
    "start_time": "2023-04-20T15:27:13.516Z"
   },
   {
    "duration": 58,
    "start_time": "2023-04-20T15:27:13.558Z"
   },
   {
    "duration": 190,
    "start_time": "2023-04-20T15:27:13.618Z"
   },
   {
    "duration": 3,
    "start_time": "2023-04-20T15:27:13.810Z"
   },
   {
    "duration": 1049,
    "start_time": "2023-04-20T15:27:13.815Z"
   },
   {
    "duration": 148,
    "start_time": "2023-04-20T15:27:14.865Z"
   },
   {
    "duration": 5,
    "start_time": "2023-04-20T15:27:15.015Z"
   },
   {
    "duration": 141,
    "start_time": "2023-04-20T15:27:15.022Z"
   },
   {
    "duration": 0,
    "start_time": "2023-04-20T15:27:15.165Z"
   },
   {
    "duration": 0,
    "start_time": "2023-04-20T15:27:15.167Z"
   },
   {
    "duration": 0,
    "start_time": "2023-04-20T15:27:15.167Z"
   },
   {
    "duration": 0,
    "start_time": "2023-04-20T15:27:15.169Z"
   },
   {
    "duration": 0,
    "start_time": "2023-04-20T15:27:15.170Z"
   },
   {
    "duration": 0,
    "start_time": "2023-04-20T15:27:15.172Z"
   },
   {
    "duration": 0,
    "start_time": "2023-04-20T15:27:15.173Z"
   },
   {
    "duration": 0,
    "start_time": "2023-04-20T15:27:15.175Z"
   },
   {
    "duration": 0,
    "start_time": "2023-04-20T15:27:15.177Z"
   },
   {
    "duration": 0,
    "start_time": "2023-04-20T15:27:15.178Z"
   },
   {
    "duration": 0,
    "start_time": "2023-04-20T15:27:15.194Z"
   },
   {
    "duration": 0,
    "start_time": "2023-04-20T15:27:15.195Z"
   },
   {
    "duration": 0,
    "start_time": "2023-04-20T15:27:15.196Z"
   },
   {
    "duration": 0,
    "start_time": "2023-04-20T15:27:15.197Z"
   },
   {
    "duration": 0,
    "start_time": "2023-04-20T15:27:15.198Z"
   },
   {
    "duration": 0,
    "start_time": "2023-04-20T15:27:15.200Z"
   },
   {
    "duration": 4,
    "start_time": "2023-04-20T15:27:47.473Z"
   },
   {
    "duration": 36,
    "start_time": "2023-04-20T15:27:48.975Z"
   },
   {
    "duration": 4,
    "start_time": "2023-04-20T15:31:32.132Z"
   },
   {
    "duration": 19,
    "start_time": "2023-04-20T15:31:33.556Z"
   },
   {
    "duration": 68,
    "start_time": "2023-04-20T15:37:56.382Z"
   },
   {
    "duration": 50,
    "start_time": "2023-04-20T15:38:11.295Z"
   },
   {
    "duration": 24,
    "start_time": "2023-04-20T15:38:25.094Z"
   },
   {
    "duration": 4,
    "start_time": "2023-04-20T15:38:27.886Z"
   },
   {
    "duration": 180,
    "start_time": "2023-04-20T15:38:28.814Z"
   },
   {
    "duration": 10,
    "start_time": "2023-04-20T16:00:34.521Z"
   },
   {
    "duration": 5,
    "start_time": "2023-04-20T16:00:35.988Z"
   },
   {
    "duration": 35,
    "start_time": "2023-04-20T16:00:36.788Z"
   },
   {
    "duration": 12,
    "start_time": "2023-04-20T16:01:05.338Z"
   },
   {
    "duration": 1595,
    "start_time": "2023-04-20T16:01:11.686Z"
   },
   {
    "duration": 479,
    "start_time": "2023-04-20T16:01:13.284Z"
   },
   {
    "duration": 13,
    "start_time": "2023-04-20T16:01:13.764Z"
   },
   {
    "duration": 20,
    "start_time": "2023-04-20T16:01:13.779Z"
   },
   {
    "duration": 17,
    "start_time": "2023-04-20T16:01:13.802Z"
   },
   {
    "duration": 23,
    "start_time": "2023-04-20T16:01:13.821Z"
   },
   {
    "duration": 16,
    "start_time": "2023-04-20T16:01:13.846Z"
   },
   {
    "duration": 14,
    "start_time": "2023-04-20T16:01:13.864Z"
   },
   {
    "duration": 5,
    "start_time": "2023-04-20T16:01:13.893Z"
   },
   {
    "duration": 163,
    "start_time": "2023-04-20T16:01:13.900Z"
   },
   {
    "duration": 30,
    "start_time": "2023-04-20T16:01:14.065Z"
   },
   {
    "duration": 16,
    "start_time": "2023-04-20T16:01:14.097Z"
   },
   {
    "duration": 44,
    "start_time": "2023-04-20T16:01:14.115Z"
   },
   {
    "duration": 61,
    "start_time": "2023-04-20T16:01:14.162Z"
   },
   {
    "duration": 37,
    "start_time": "2023-04-20T16:01:14.225Z"
   },
   {
    "duration": 205,
    "start_time": "2023-04-20T16:01:14.263Z"
   },
   {
    "duration": 3,
    "start_time": "2023-04-20T16:01:14.469Z"
   },
   {
    "duration": 1049,
    "start_time": "2023-04-20T16:01:14.473Z"
   },
   {
    "duration": 122,
    "start_time": "2023-04-20T16:01:15.523Z"
   },
   {
    "duration": 4,
    "start_time": "2023-04-20T16:01:15.647Z"
   },
   {
    "duration": 144,
    "start_time": "2023-04-20T16:01:15.653Z"
   },
   {
    "duration": 93,
    "start_time": "2023-04-20T16:01:15.802Z"
   },
   {
    "duration": 57,
    "start_time": "2023-04-20T16:01:15.897Z"
   },
   {
    "duration": 3,
    "start_time": "2023-04-20T16:01:15.956Z"
   },
   {
    "duration": 45,
    "start_time": "2023-04-20T16:01:15.960Z"
   },
   {
    "duration": 5,
    "start_time": "2023-04-20T16:01:16.007Z"
   },
   {
    "duration": 8,
    "start_time": "2023-04-20T16:01:16.094Z"
   },
   {
    "duration": 93,
    "start_time": "2023-04-20T16:01:16.104Z"
   },
   {
    "duration": 4,
    "start_time": "2023-04-20T16:01:16.199Z"
   },
   {
    "duration": 7,
    "start_time": "2023-04-20T16:01:16.205Z"
   },
   {
    "duration": 9,
    "start_time": "2023-04-20T16:01:16.214Z"
   },
   {
    "duration": 9,
    "start_time": "2023-04-20T16:01:16.225Z"
   },
   {
    "duration": 79,
    "start_time": "2023-04-20T16:01:16.236Z"
   },
   {
    "duration": 7,
    "start_time": "2023-04-20T16:01:16.317Z"
   },
   {
    "duration": 1594,
    "start_time": "2023-04-20T16:01:16.326Z"
   },
   {
    "duration": 1896,
    "start_time": "2023-04-20T16:01:17.922Z"
   },
   {
    "duration": 2020,
    "start_time": "2023-04-20T16:01:19.820Z"
   },
   {
    "duration": 323,
    "start_time": "2023-04-20T16:02:52.485Z"
   },
   {
    "duration": 61,
    "start_time": "2023-04-20T16:03:01.935Z"
   },
   {
    "duration": 398,
    "start_time": "2023-04-20T16:03:20.311Z"
   },
   {
    "duration": 405,
    "start_time": "2023-04-20T16:05:50.807Z"
   },
   {
    "duration": 1520,
    "start_time": "2023-04-20T16:06:40.884Z"
   },
   {
    "duration": 511,
    "start_time": "2023-04-20T16:06:42.408Z"
   },
   {
    "duration": 16,
    "start_time": "2023-04-20T16:06:42.921Z"
   },
   {
    "duration": 11,
    "start_time": "2023-04-20T16:06:42.938Z"
   },
   {
    "duration": 15,
    "start_time": "2023-04-20T16:06:42.952Z"
   },
   {
    "duration": 37,
    "start_time": "2023-04-20T16:06:42.969Z"
   },
   {
    "duration": 15,
    "start_time": "2023-04-20T16:06:43.008Z"
   },
   {
    "duration": 14,
    "start_time": "2023-04-20T16:06:43.025Z"
   },
   {
    "duration": 4,
    "start_time": "2023-04-20T16:06:43.041Z"
   },
   {
    "duration": 188,
    "start_time": "2023-04-20T16:06:43.046Z"
   },
   {
    "duration": 27,
    "start_time": "2023-04-20T16:06:43.236Z"
   },
   {
    "duration": 32,
    "start_time": "2023-04-20T16:06:43.266Z"
   },
   {
    "duration": 46,
    "start_time": "2023-04-20T16:06:43.300Z"
   },
   {
    "duration": 55,
    "start_time": "2023-04-20T16:06:43.349Z"
   },
   {
    "duration": 41,
    "start_time": "2023-04-20T16:06:43.405Z"
   },
   {
    "duration": 209,
    "start_time": "2023-04-20T16:06:43.447Z"
   },
   {
    "duration": 3,
    "start_time": "2023-04-20T16:06:43.658Z"
   },
   {
    "duration": 1069,
    "start_time": "2023-04-20T16:06:43.663Z"
   },
   {
    "duration": 135,
    "start_time": "2023-04-20T16:06:44.740Z"
   },
   {
    "duration": 7,
    "start_time": "2023-04-20T16:06:44.877Z"
   },
   {
    "duration": 42,
    "start_time": "2023-04-20T16:06:44.886Z"
   },
   {
    "duration": 3,
    "start_time": "2023-04-20T16:06:44.929Z"
   },
   {
    "duration": 66,
    "start_time": "2023-04-20T16:06:44.934Z"
   },
   {
    "duration": 6,
    "start_time": "2023-04-20T16:06:45.002Z"
   },
   {
    "duration": 85,
    "start_time": "2023-04-20T16:06:45.010Z"
   },
   {
    "duration": 14,
    "start_time": "2023-04-20T16:06:45.097Z"
   },
   {
    "duration": 407,
    "start_time": "2023-04-20T16:06:45.113Z"
   },
   {
    "duration": 74,
    "start_time": "2023-04-20T16:06:45.524Z"
   },
   {
    "duration": 13,
    "start_time": "2023-04-20T16:06:45.606Z"
   },
   {
    "duration": 10,
    "start_time": "2023-04-20T16:06:45.694Z"
   },
   {
    "duration": 4,
    "start_time": "2023-04-20T16:06:45.706Z"
   },
   {
    "duration": 29,
    "start_time": "2023-04-20T16:06:45.712Z"
   },
   {
    "duration": 17,
    "start_time": "2023-04-20T16:06:45.743Z"
   },
   {
    "duration": 1508,
    "start_time": "2023-04-20T16:06:45.762Z"
   },
   {
    "duration": 2046,
    "start_time": "2023-04-20T16:06:47.272Z"
   },
   {
    "duration": 2286,
    "start_time": "2023-04-20T16:06:49.321Z"
   },
   {
    "duration": 3,
    "start_time": "2023-04-20T16:09:35.588Z"
   },
   {
    "duration": 4,
    "start_time": "2023-04-20T16:09:36.488Z"
   },
   {
    "duration": 4,
    "start_time": "2023-04-20T16:11:53.591Z"
   },
   {
    "duration": 27,
    "start_time": "2023-04-20T16:11:54.910Z"
   },
   {
    "duration": 8,
    "start_time": "2023-04-20T16:12:09.284Z"
   },
   {
    "duration": 64,
    "start_time": "2023-04-20T16:12:28.494Z"
   },
   {
    "duration": 1328,
    "start_time": "2023-04-20T16:16:53.909Z"
   },
   {
    "duration": 1339,
    "start_time": "2023-04-20T16:16:57.433Z"
   },
   {
    "duration": 1601,
    "start_time": "2023-04-20T16:17:03.314Z"
   },
   {
    "duration": 1437,
    "start_time": "2023-04-20T16:26:44.485Z"
   },
   {
    "duration": 484,
    "start_time": "2023-04-20T16:26:45.924Z"
   },
   {
    "duration": 13,
    "start_time": "2023-04-20T16:26:46.410Z"
   },
   {
    "duration": 9,
    "start_time": "2023-04-20T16:26:46.425Z"
   },
   {
    "duration": 14,
    "start_time": "2023-04-20T16:26:46.436Z"
   },
   {
    "duration": 27,
    "start_time": "2023-04-20T16:26:46.452Z"
   },
   {
    "duration": 29,
    "start_time": "2023-04-20T16:26:46.480Z"
   },
   {
    "duration": 19,
    "start_time": "2023-04-20T16:26:46.511Z"
   },
   {
    "duration": 6,
    "start_time": "2023-04-20T16:26:46.532Z"
   },
   {
    "duration": 167,
    "start_time": "2023-04-20T16:26:46.539Z"
   },
   {
    "duration": 22,
    "start_time": "2023-04-20T16:26:46.708Z"
   },
   {
    "duration": 14,
    "start_time": "2023-04-20T16:26:46.732Z"
   },
   {
    "duration": 72,
    "start_time": "2023-04-20T16:26:46.748Z"
   },
   {
    "duration": 40,
    "start_time": "2023-04-20T16:26:46.823Z"
   },
   {
    "duration": 52,
    "start_time": "2023-04-20T16:26:46.865Z"
   },
   {
    "duration": 194,
    "start_time": "2023-04-20T16:26:46.919Z"
   },
   {
    "duration": 3,
    "start_time": "2023-04-20T16:26:47.115Z"
   },
   {
    "duration": 1060,
    "start_time": "2023-04-20T16:26:47.120Z"
   },
   {
    "duration": 154,
    "start_time": "2023-04-20T16:26:48.183Z"
   },
   {
    "duration": 5,
    "start_time": "2023-04-20T16:26:48.338Z"
   },
   {
    "duration": 30,
    "start_time": "2023-04-20T16:26:48.344Z"
   },
   {
    "duration": 2,
    "start_time": "2023-04-20T16:26:48.376Z"
   },
   {
    "duration": 22,
    "start_time": "2023-04-20T16:26:48.392Z"
   },
   {
    "duration": 79,
    "start_time": "2023-04-20T16:26:48.416Z"
   },
   {
    "duration": 96,
    "start_time": "2023-04-20T16:26:48.498Z"
   },
   {
    "duration": 6,
    "start_time": "2023-04-20T16:26:48.598Z"
   },
   {
    "duration": 302,
    "start_time": "2023-04-20T16:26:48.606Z"
   },
   {
    "duration": 5,
    "start_time": "2023-04-20T16:26:48.911Z"
   },
   {
    "duration": 77,
    "start_time": "2023-04-20T16:26:48.918Z"
   },
   {
    "duration": 11,
    "start_time": "2023-04-20T16:26:48.997Z"
   },
   {
    "duration": 82,
    "start_time": "2023-04-20T16:26:49.010Z"
   },
   {
    "duration": 153,
    "start_time": "2023-04-20T16:26:49.095Z"
   },
   {
    "duration": 0,
    "start_time": "2023-04-20T16:26:49.250Z"
   },
   {
    "duration": 0,
    "start_time": "2023-04-20T16:26:49.252Z"
   },
   {
    "duration": 0,
    "start_time": "2023-04-20T16:26:49.254Z"
   },
   {
    "duration": 0,
    "start_time": "2023-04-20T16:26:49.255Z"
   },
   {
    "duration": 21,
    "start_time": "2023-04-20T16:27:28.143Z"
   },
   {
    "duration": 11,
    "start_time": "2023-04-20T16:28:13.688Z"
   },
   {
    "duration": 6,
    "start_time": "2023-04-20T16:28:16.151Z"
   },
   {
    "duration": 1322,
    "start_time": "2023-04-20T16:28:17.096Z"
   },
   {
    "duration": 1316,
    "start_time": "2023-04-20T16:28:26.334Z"
   },
   {
    "duration": 1414,
    "start_time": "2023-04-20T16:28:31.211Z"
   },
   {
    "duration": 7,
    "start_time": "2023-04-20T16:31:35.340Z"
   },
   {
    "duration": 1585,
    "start_time": "2023-04-20T16:31:37.918Z"
   },
   {
    "duration": 6,
    "start_time": "2023-04-20T16:32:50.021Z"
   },
   {
    "duration": 1508,
    "start_time": "2023-04-20T16:32:52.346Z"
   },
   {
    "duration": 9,
    "start_time": "2023-04-20T16:33:00.115Z"
   },
   {
    "duration": 1446,
    "start_time": "2023-04-20T16:33:01.849Z"
   },
   {
    "duration": 7,
    "start_time": "2023-04-20T16:33:16.019Z"
   },
   {
    "duration": 1387,
    "start_time": "2023-04-20T16:33:18.209Z"
   },
   {
    "duration": 1443,
    "start_time": "2023-04-20T16:33:25.192Z"
   },
   {
    "duration": 1373,
    "start_time": "2023-04-20T16:33:29.320Z"
   },
   {
    "duration": 7,
    "start_time": "2023-04-20T16:34:04.388Z"
   },
   {
    "duration": 1512,
    "start_time": "2023-04-20T16:34:06.915Z"
   },
   {
    "duration": 117,
    "start_time": "2023-04-20T16:34:14.945Z"
   },
   {
    "duration": 1384,
    "start_time": "2023-04-20T16:34:16.945Z"
   },
   {
    "duration": 1288,
    "start_time": "2023-04-29T08:35:24.614Z"
   },
   {
    "duration": 808,
    "start_time": "2023-04-29T08:35:25.904Z"
   },
   {
    "duration": 59,
    "start_time": "2023-04-29T08:35:26.713Z"
   },
   {
    "duration": 76,
    "start_time": "2023-04-29T08:35:26.774Z"
   },
   {
    "duration": 56,
    "start_time": "2023-04-29T08:35:26.853Z"
   },
   {
    "duration": 248,
    "start_time": "2023-04-29T08:35:26.911Z"
   },
   {
    "duration": 39,
    "start_time": "2023-04-29T08:35:27.161Z"
   },
   {
    "duration": 8,
    "start_time": "2023-04-29T08:35:27.202Z"
   },
   {
    "duration": 4,
    "start_time": "2023-04-29T08:35:27.212Z"
   },
   {
    "duration": 16,
    "start_time": "2023-04-29T08:35:27.217Z"
   },
   {
    "duration": 19,
    "start_time": "2023-04-29T08:35:27.234Z"
   },
   {
    "duration": 228,
    "start_time": "2023-04-29T08:35:27.255Z"
   },
   {
    "duration": 5,
    "start_time": "2023-04-29T08:35:27.485Z"
   },
   {
    "duration": 59,
    "start_time": "2023-04-29T08:35:27.493Z"
   },
   {
    "duration": 1982,
    "start_time": "2023-04-29T08:35:27.554Z"
   },
   {
    "duration": 830,
    "start_time": "2023-04-29T08:35:29.538Z"
   },
   {
    "duration": 3,
    "start_time": "2023-04-29T08:35:30.369Z"
   },
   {
    "duration": 32,
    "start_time": "2023-04-29T08:35:30.373Z"
   },
   {
    "duration": 2071,
    "start_time": "2023-04-29T08:35:30.406Z"
   },
   {
    "duration": 657,
    "start_time": "2023-04-29T08:35:32.478Z"
   },
   {
    "duration": 4,
    "start_time": "2023-04-29T08:35:33.137Z"
   },
   {
    "duration": 11,
    "start_time": "2023-04-29T08:35:33.143Z"
   },
   {
    "duration": 4,
    "start_time": "2023-04-29T08:35:33.155Z"
   },
   {
    "duration": 7,
    "start_time": "2023-04-29T08:35:33.160Z"
   },
   {
    "duration": 3,
    "start_time": "2023-04-29T08:35:33.169Z"
   },
   {
    "duration": 21,
    "start_time": "2023-04-29T08:35:33.174Z"
   },
   {
    "duration": 3005,
    "start_time": "2023-04-29T08:35:33.196Z"
   },
   {
    "duration": 46365,
    "start_time": "2023-04-29T08:35:36.203Z"
   },
   {
    "duration": 9,
    "start_time": "2023-04-29T08:49:56.633Z"
   },
   {
    "duration": 211,
    "start_time": "2023-04-29T08:49:56.644Z"
   },
   {
    "duration": 0,
    "start_time": "2023-04-29T08:49:56.857Z"
   },
   {
    "duration": 0,
    "start_time": "2023-04-29T08:49:56.858Z"
   },
   {
    "duration": 0,
    "start_time": "2023-04-29T08:49:56.859Z"
   },
   {
    "duration": 3,
    "start_time": "2023-04-29T08:52:38.494Z"
   },
   {
    "duration": 4,
    "start_time": "2023-04-29T08:52:43.975Z"
   },
   {
    "duration": 1767,
    "start_time": "2023-04-29T08:53:59.800Z"
   },
   {
    "duration": 1788,
    "start_time": "2023-04-29T08:54:01.569Z"
   },
   {
    "duration": 7,
    "start_time": "2023-04-29T08:54:03.359Z"
   },
   {
    "duration": 9,
    "start_time": "2023-04-29T08:54:03.367Z"
   },
   {
    "duration": 1772,
    "start_time": "2023-05-01T13:47:56.597Z"
   },
   {
    "duration": 3399,
    "start_time": "2023-05-01T13:48:02.599Z"
   },
   {
    "duration": 71,
    "start_time": "2023-05-01T13:48:15.050Z"
   },
   {
    "duration": 65,
    "start_time": "2023-05-01T13:48:17.089Z"
   },
   {
    "duration": 43,
    "start_time": "2023-05-01T13:48:18.991Z"
   },
   {
    "duration": 293,
    "start_time": "2023-05-01T13:48:21.226Z"
   },
   {
    "duration": 1511,
    "start_time": "2023-05-01T13:48:27.857Z"
   },
   {
    "duration": 766,
    "start_time": "2023-05-01T13:48:29.370Z"
   },
   {
    "duration": 70,
    "start_time": "2023-05-01T13:48:30.138Z"
   },
   {
    "duration": 84,
    "start_time": "2023-05-01T13:48:30.210Z"
   },
   {
    "duration": 58,
    "start_time": "2023-05-01T13:48:30.296Z"
   },
   {
    "duration": 367,
    "start_time": "2023-05-01T13:48:30.356Z"
   },
   {
    "duration": 42,
    "start_time": "2023-05-01T13:48:30.725Z"
   },
   {
    "duration": 48,
    "start_time": "2023-05-01T13:48:30.769Z"
   },
   {
    "duration": 256,
    "start_time": "2023-05-01T13:48:30.820Z"
   },
   {
    "duration": 48,
    "start_time": "2023-05-01T13:48:31.080Z"
   },
   {
    "duration": 59,
    "start_time": "2023-05-01T13:48:31.130Z"
   },
   {
    "duration": 263,
    "start_time": "2023-05-01T13:48:31.191Z"
   },
   {
    "duration": 6,
    "start_time": "2023-05-01T13:48:31.456Z"
   },
   {
    "duration": 84,
    "start_time": "2023-05-01T13:48:31.464Z"
   },
   {
    "duration": 1569,
    "start_time": "2023-05-01T13:48:31.551Z"
   },
   {
    "duration": 669,
    "start_time": "2023-05-01T13:48:33.122Z"
   },
   {
    "duration": 4,
    "start_time": "2023-05-01T13:48:33.792Z"
   },
   {
    "duration": 32,
    "start_time": "2023-05-01T13:48:33.798Z"
   },
   {
    "duration": 1819,
    "start_time": "2023-05-01T13:48:33.832Z"
   },
   {
    "duration": 614,
    "start_time": "2023-05-01T13:48:35.653Z"
   },
   {
    "duration": 6,
    "start_time": "2023-05-01T13:48:36.269Z"
   },
   {
    "duration": 25,
    "start_time": "2023-05-01T13:48:36.277Z"
   },
   {
    "duration": 16,
    "start_time": "2023-05-01T13:48:36.305Z"
   },
   {
    "duration": 29,
    "start_time": "2023-05-01T13:48:36.323Z"
   },
   {
    "duration": 36,
    "start_time": "2023-05-01T13:48:36.354Z"
   },
   {
    "duration": 37,
    "start_time": "2023-05-01T13:48:36.392Z"
   },
   {
    "duration": 3023,
    "start_time": "2023-05-01T13:48:36.431Z"
   },
   {
    "duration": 55630,
    "start_time": "2023-05-01T13:48:39.543Z"
   },
   {
    "duration": 680806,
    "start_time": "2023-05-01T13:49:35.175Z"
   },
   {
    "duration": 8,
    "start_time": "2023-05-01T14:00:55.983Z"
   },
   {
    "duration": 1889,
    "start_time": "2023-05-01T14:00:55.993Z"
   },
   {
    "duration": 1835,
    "start_time": "2023-05-01T14:00:57.885Z"
   },
   {
    "duration": 25,
    "start_time": "2023-05-01T14:00:59.723Z"
   },
   {
    "duration": 14,
    "start_time": "2023-05-01T14:00:59.750Z"
   },
   {
    "duration": 10,
    "start_time": "2023-05-01T14:01:00.892Z"
   },
   {
    "duration": 1828,
    "start_time": "2023-05-01T14:01:02.102Z"
   },
   {
    "duration": 1912,
    "start_time": "2023-05-01T14:01:04.230Z"
   },
   {
    "duration": 12,
    "start_time": "2023-05-01T14:01:06.145Z"
   },
   {
    "duration": 12,
    "start_time": "2023-05-01T14:01:10.221Z"
   },
   {
    "duration": 5,
    "start_time": "2023-05-01T14:27:00.805Z"
   },
   {
    "duration": 900,
    "start_time": "2023-05-01T14:27:03.300Z"
   },
   {
    "duration": 75,
    "start_time": "2023-05-01T14:27:13.128Z"
   },
   {
    "duration": 75,
    "start_time": "2023-05-01T14:27:15.621Z"
   },
   {
    "duration": 70,
    "start_time": "2023-05-01T14:27:16.950Z"
   },
   {
    "duration": 307,
    "start_time": "2023-05-01T14:27:18.644Z"
   },
   {
    "duration": 1638,
    "start_time": "2023-05-01T14:27:37.420Z"
   },
   {
    "duration": 862,
    "start_time": "2023-05-01T14:27:40.685Z"
   },
   {
    "duration": 72,
    "start_time": "2023-05-01T14:27:45.548Z"
   },
   {
    "duration": 67,
    "start_time": "2023-05-01T14:27:47.876Z"
   },
   {
    "duration": 50,
    "start_time": "2023-05-01T14:27:50.309Z"
   },
   {
    "duration": 345,
    "start_time": "2023-05-01T14:27:52.740Z"
   },
   {
    "duration": 818,
    "start_time": "2023-05-01T14:28:57.899Z"
   },
   {
    "duration": 73,
    "start_time": "2023-05-01T14:29:02.243Z"
   },
   {
    "duration": 75,
    "start_time": "2023-05-01T14:29:04.176Z"
   },
   {
    "duration": 60,
    "start_time": "2023-05-01T14:29:06.067Z"
   },
   {
    "duration": 306,
    "start_time": "2023-05-01T14:29:07.580Z"
   },
   {
    "duration": 25,
    "start_time": "2023-05-01T14:44:41.668Z"
   },
   {
    "duration": 12,
    "start_time": "2023-05-01T14:44:46.059Z"
   },
   {
    "duration": 199,
    "start_time": "2023-05-01T14:59:01.959Z"
   },
   {
    "duration": 1711,
    "start_time": "2023-05-01T14:59:18.830Z"
   },
   {
    "duration": 794,
    "start_time": "2023-05-01T14:59:20.544Z"
   },
   {
    "duration": 82,
    "start_time": "2023-05-01T14:59:21.340Z"
   },
   {
    "duration": 79,
    "start_time": "2023-05-01T14:59:21.425Z"
   },
   {
    "duration": 67,
    "start_time": "2023-05-01T14:59:21.505Z"
   },
   {
    "duration": 309,
    "start_time": "2023-05-01T14:59:21.574Z"
   },
   {
    "duration": 23,
    "start_time": "2023-05-01T14:59:21.885Z"
   },
   {
    "duration": 8,
    "start_time": "2023-05-01T14:59:21.911Z"
   },
   {
    "duration": 5,
    "start_time": "2023-05-01T14:59:21.941Z"
   },
   {
    "duration": 14,
    "start_time": "2023-05-01T14:59:21.949Z"
   },
   {
    "duration": 45,
    "start_time": "2023-05-01T14:59:21.965Z"
   },
   {
    "duration": 252,
    "start_time": "2023-05-01T14:59:22.012Z"
   },
   {
    "duration": 8,
    "start_time": "2023-05-01T14:59:22.266Z"
   },
   {
    "duration": 84,
    "start_time": "2023-05-01T14:59:22.277Z"
   },
   {
    "duration": 1610,
    "start_time": "2023-05-01T14:59:22.363Z"
   },
   {
    "duration": 691,
    "start_time": "2023-05-01T14:59:23.975Z"
   },
   {
    "duration": 3,
    "start_time": "2023-05-01T14:59:24.669Z"
   },
   {
    "duration": 19,
    "start_time": "2023-05-01T14:59:24.674Z"
   },
   {
    "duration": 1953,
    "start_time": "2023-05-01T14:59:24.695Z"
   },
   {
    "duration": 561,
    "start_time": "2023-05-01T14:59:26.650Z"
   },
   {
    "duration": 10,
    "start_time": "2023-05-01T14:59:27.213Z"
   },
   {
    "duration": 28,
    "start_time": "2023-05-01T14:59:27.226Z"
   },
   {
    "duration": 15,
    "start_time": "2023-05-01T14:59:27.256Z"
   },
   {
    "duration": 19,
    "start_time": "2023-05-01T14:59:27.272Z"
   },
   {
    "duration": 18,
    "start_time": "2023-05-01T14:59:27.293Z"
   },
   {
    "duration": 19,
    "start_time": "2023-05-01T14:59:27.313Z"
   },
   {
    "duration": 4014,
    "start_time": "2023-05-01T14:59:27.334Z"
   },
   {
    "duration": 29336,
    "start_time": "2023-05-01T14:59:31.352Z"
   },
   {
    "duration": 143729,
    "start_time": "2023-05-01T15:00:00.690Z"
   },
   {
    "duration": 8,
    "start_time": "2023-05-01T15:02:24.421Z"
   },
   {
    "duration": 1917,
    "start_time": "2023-05-01T15:02:24.430Z"
   },
   {
    "duration": 2207,
    "start_time": "2023-05-01T15:02:26.351Z"
   },
   {
    "duration": 9,
    "start_time": "2023-05-01T15:02:28.561Z"
   },
   {
    "duration": 20,
    "start_time": "2023-05-01T15:02:28.571Z"
   },
   {
    "duration": 2010,
    "start_time": "2023-05-01T15:02:50.340Z"
   },
   {
    "duration": 1917,
    "start_time": "2023-05-01T15:02:59.703Z"
   },
   {
    "duration": 843,
    "start_time": "2023-05-01T15:03:01.623Z"
   },
   {
    "duration": 78,
    "start_time": "2023-05-01T15:03:02.468Z"
   },
   {
    "duration": 68,
    "start_time": "2023-05-01T15:03:02.550Z"
   },
   {
    "duration": 78,
    "start_time": "2023-05-01T15:03:02.621Z"
   },
   {
    "duration": 330,
    "start_time": "2023-05-01T15:03:02.702Z"
   },
   {
    "duration": 29,
    "start_time": "2023-05-01T15:03:03.034Z"
   },
   {
    "duration": 11,
    "start_time": "2023-05-01T15:03:03.065Z"
   },
   {
    "duration": 14,
    "start_time": "2023-05-01T15:03:03.079Z"
   },
   {
    "duration": 17,
    "start_time": "2023-05-01T15:03:03.096Z"
   },
   {
    "duration": 38,
    "start_time": "2023-05-01T15:03:03.115Z"
   },
   {
    "duration": 309,
    "start_time": "2023-05-01T15:03:03.154Z"
   },
   {
    "duration": 7,
    "start_time": "2023-05-01T15:03:03.466Z"
   },
   {
    "duration": 120,
    "start_time": "2023-05-01T15:03:03.478Z"
   },
   {
    "duration": 1581,
    "start_time": "2023-05-01T15:03:03.600Z"
   },
   {
    "duration": 694,
    "start_time": "2023-05-01T15:03:05.183Z"
   },
   {
    "duration": 3,
    "start_time": "2023-05-01T15:03:05.879Z"
   },
   {
    "duration": 34,
    "start_time": "2023-05-01T15:03:05.884Z"
   },
   {
    "duration": 1977,
    "start_time": "2023-05-01T15:03:05.920Z"
   },
   {
    "duration": 539,
    "start_time": "2023-05-01T15:03:07.899Z"
   },
   {
    "duration": 5,
    "start_time": "2023-05-01T15:03:08.441Z"
   },
   {
    "duration": 30,
    "start_time": "2023-05-01T15:03:08.448Z"
   },
   {
    "duration": 15,
    "start_time": "2023-05-01T15:03:08.480Z"
   },
   {
    "duration": 15,
    "start_time": "2023-05-01T15:03:08.498Z"
   },
   {
    "duration": 66,
    "start_time": "2023-05-01T15:03:08.516Z"
   },
   {
    "duration": 59,
    "start_time": "2023-05-01T15:03:08.584Z"
   },
   {
    "duration": 2296,
    "start_time": "2023-05-01T15:03:08.646Z"
   },
   {
    "duration": 29712,
    "start_time": "2023-05-01T15:03:10.946Z"
   },
   {
    "duration": 13397,
    "start_time": "2023-05-01T15:03:40.660Z"
   },
   {
    "duration": 7,
    "start_time": "2023-05-01T15:03:54.059Z"
   },
   {
    "duration": 1862,
    "start_time": "2023-05-01T15:03:54.068Z"
   },
   {
    "duration": 1884,
    "start_time": "2023-05-01T15:03:55.933Z"
   },
   {
    "duration": 9,
    "start_time": "2023-05-01T15:03:57.819Z"
   },
   {
    "duration": 12,
    "start_time": "2023-05-01T15:03:57.841Z"
   },
   {
    "duration": 56003,
    "start_time": "2023-05-01T15:04:02.236Z"
   },
   {
    "duration": 3130,
    "start_time": "2023-05-01T15:05:15.816Z"
   },
   {
    "duration": 1734,
    "start_time": "2023-05-02T07:07:27.651Z"
   },
   {
    "duration": 1422,
    "start_time": "2023-05-02T07:08:42.216Z"
   },
   {
    "duration": 1825,
    "start_time": "2023-05-02T07:08:43.640Z"
   },
   {
    "duration": 63,
    "start_time": "2023-05-02T07:08:45.467Z"
   },
   {
    "duration": 85,
    "start_time": "2023-05-02T07:08:45.532Z"
   },
   {
    "duration": 51,
    "start_time": "2023-05-02T07:08:45.620Z"
   },
   {
    "duration": 308,
    "start_time": "2023-05-02T07:08:45.673Z"
   },
   {
    "duration": 38,
    "start_time": "2023-05-02T07:08:45.982Z"
   },
   {
    "duration": 8,
    "start_time": "2023-05-02T07:08:46.022Z"
   },
   {
    "duration": 13,
    "start_time": "2023-05-02T07:08:46.032Z"
   },
   {
    "duration": 13,
    "start_time": "2023-05-02T07:08:46.047Z"
   },
   {
    "duration": 13,
    "start_time": "2023-05-02T07:08:46.061Z"
   },
   {
    "duration": 235,
    "start_time": "2023-05-02T07:08:46.091Z"
   },
   {
    "duration": 5,
    "start_time": "2023-05-02T07:08:46.328Z"
   },
   {
    "duration": 80,
    "start_time": "2023-05-02T07:08:46.336Z"
   },
   {
    "duration": 1584,
    "start_time": "2023-05-02T07:08:46.418Z"
   },
   {
    "duration": 622,
    "start_time": "2023-05-02T07:08:48.004Z"
   },
   {
    "duration": 3,
    "start_time": "2023-05-02T07:08:48.628Z"
   },
   {
    "duration": 10,
    "start_time": "2023-05-02T07:08:48.633Z"
   },
   {
    "duration": 1626,
    "start_time": "2023-05-02T07:08:48.644Z"
   },
   {
    "duration": 514,
    "start_time": "2023-05-02T07:08:50.272Z"
   },
   {
    "duration": 5,
    "start_time": "2023-05-02T07:08:50.788Z"
   },
   {
    "duration": 10,
    "start_time": "2023-05-02T07:08:50.795Z"
   },
   {
    "duration": 10,
    "start_time": "2023-05-02T07:08:50.807Z"
   },
   {
    "duration": 5,
    "start_time": "2023-05-02T07:08:50.819Z"
   },
   {
    "duration": 4,
    "start_time": "2023-05-02T07:08:50.826Z"
   },
   {
    "duration": 12,
    "start_time": "2023-05-02T07:08:50.832Z"
   },
   {
    "duration": 135,
    "start_time": "2023-05-02T07:08:50.846Z"
   },
   {
    "duration": 0,
    "start_time": "2023-05-02T07:08:50.982Z"
   },
   {
    "duration": 0,
    "start_time": "2023-05-02T07:08:50.984Z"
   },
   {
    "duration": 0,
    "start_time": "2023-05-02T07:08:50.985Z"
   },
   {
    "duration": 0,
    "start_time": "2023-05-02T07:08:50.986Z"
   },
   {
    "duration": 0,
    "start_time": "2023-05-02T07:08:50.992Z"
   },
   {
    "duration": 0,
    "start_time": "2023-05-02T07:08:50.993Z"
   },
   {
    "duration": 0,
    "start_time": "2023-05-02T07:08:50.994Z"
   },
   {
    "duration": 0,
    "start_time": "2023-05-02T07:08:50.995Z"
   },
   {
    "duration": 1376,
    "start_time": "2023-05-02T07:10:10.489Z"
   },
   {
    "duration": 664,
    "start_time": "2023-05-02T07:10:11.866Z"
   },
   {
    "duration": 62,
    "start_time": "2023-05-02T07:10:12.532Z"
   },
   {
    "duration": 60,
    "start_time": "2023-05-02T07:10:12.596Z"
   },
   {
    "duration": 58,
    "start_time": "2023-05-02T07:10:12.658Z"
   },
   {
    "duration": 293,
    "start_time": "2023-05-02T07:10:12.717Z"
   },
   {
    "duration": 23,
    "start_time": "2023-05-02T07:10:13.012Z"
   },
   {
    "duration": 9,
    "start_time": "2023-05-02T07:10:13.036Z"
   },
   {
    "duration": 5,
    "start_time": "2023-05-02T07:10:13.046Z"
   },
   {
    "duration": 39,
    "start_time": "2023-05-02T07:10:13.054Z"
   },
   {
    "duration": 16,
    "start_time": "2023-05-02T07:10:13.095Z"
   },
   {
    "duration": 233,
    "start_time": "2023-05-02T07:10:13.113Z"
   },
   {
    "duration": 6,
    "start_time": "2023-05-02T07:10:13.348Z"
   },
   {
    "duration": 73,
    "start_time": "2023-05-02T07:10:13.355Z"
   },
   {
    "duration": 1392,
    "start_time": "2023-05-02T07:10:13.430Z"
   },
   {
    "duration": 1097,
    "start_time": "2023-05-02T07:10:14.824Z"
   },
   {
    "duration": 3,
    "start_time": "2023-05-02T07:10:15.922Z"
   },
   {
    "duration": 69,
    "start_time": "2023-05-02T07:10:15.927Z"
   },
   {
    "duration": 2141,
    "start_time": "2023-05-02T07:10:15.998Z"
   },
   {
    "duration": 619,
    "start_time": "2023-05-02T07:10:18.140Z"
   },
   {
    "duration": 6,
    "start_time": "2023-05-02T07:10:18.761Z"
   },
   {
    "duration": 43,
    "start_time": "2023-05-02T07:10:18.769Z"
   },
   {
    "duration": 20,
    "start_time": "2023-05-02T07:10:18.814Z"
   },
   {
    "duration": 25,
    "start_time": "2023-05-02T07:10:18.836Z"
   },
   {
    "duration": 47,
    "start_time": "2023-05-02T07:10:18.863Z"
   },
   {
    "duration": 45,
    "start_time": "2023-05-02T07:10:18.912Z"
   },
   {
    "duration": 45,
    "start_time": "2023-05-02T07:10:18.958Z"
   },
   {
    "duration": 2389,
    "start_time": "2023-05-02T07:10:19.007Z"
   },
   {
    "duration": 50628,
    "start_time": "2023-05-02T07:10:21.398Z"
   },
   {
    "duration": 19556,
    "start_time": "2023-05-02T07:11:12.028Z"
   },
   {
    "duration": 7,
    "start_time": "2023-05-02T07:11:31.586Z"
   },
   {
    "duration": 1724,
    "start_time": "2023-05-02T07:11:31.595Z"
   },
   {
    "duration": 1744,
    "start_time": "2023-05-02T07:11:33.320Z"
   },
   {
    "duration": 8,
    "start_time": "2023-05-02T07:11:35.065Z"
   },
   {
    "duration": 23,
    "start_time": "2023-05-02T07:11:35.075Z"
   },
   {
    "duration": 1470,
    "start_time": "2023-05-02T07:15:37.356Z"
   },
   {
    "duration": 677,
    "start_time": "2023-05-02T07:15:38.828Z"
   },
   {
    "duration": 66,
    "start_time": "2023-05-02T07:15:39.507Z"
   },
   {
    "duration": 65,
    "start_time": "2023-05-02T07:15:39.575Z"
   },
   {
    "duration": 51,
    "start_time": "2023-05-02T07:15:39.642Z"
   },
   {
    "duration": 253,
    "start_time": "2023-05-02T07:15:39.695Z"
   },
   {
    "duration": 21,
    "start_time": "2023-05-02T07:15:39.950Z"
   },
   {
    "duration": 25,
    "start_time": "2023-05-02T07:15:39.973Z"
   },
   {
    "duration": 17,
    "start_time": "2023-05-02T07:15:40.000Z"
   },
   {
    "duration": 29,
    "start_time": "2023-05-02T07:15:40.019Z"
   },
   {
    "duration": 30,
    "start_time": "2023-05-02T07:15:40.050Z"
   },
   {
    "duration": 225,
    "start_time": "2023-05-02T07:15:40.081Z"
   },
   {
    "duration": 5,
    "start_time": "2023-05-02T07:15:40.307Z"
   },
   {
    "duration": 69,
    "start_time": "2023-05-02T07:15:40.313Z"
   },
   {
    "duration": 1447,
    "start_time": "2023-05-02T07:15:40.384Z"
   },
   {
    "duration": 623,
    "start_time": "2023-05-02T07:15:41.832Z"
   },
   {
    "duration": 3,
    "start_time": "2023-05-02T07:15:42.458Z"
   },
   {
    "duration": 10,
    "start_time": "2023-05-02T07:15:42.463Z"
   },
   {
    "duration": 1658,
    "start_time": "2023-05-02T07:15:42.491Z"
   },
   {
    "duration": 634,
    "start_time": "2023-05-02T07:15:44.150Z"
   },
   {
    "duration": 4,
    "start_time": "2023-05-02T07:15:44.791Z"
   },
   {
    "duration": 15,
    "start_time": "2023-05-02T07:15:44.797Z"
   },
   {
    "duration": 25,
    "start_time": "2023-05-02T07:15:44.814Z"
   },
   {
    "duration": 20,
    "start_time": "2023-05-02T07:15:44.841Z"
   },
   {
    "duration": 27,
    "start_time": "2023-05-02T07:15:44.863Z"
   },
   {
    "duration": 20,
    "start_time": "2023-05-02T07:15:44.891Z"
   },
   {
    "duration": 58,
    "start_time": "2023-05-02T07:15:44.913Z"
   },
   {
    "duration": 24,
    "start_time": "2023-05-02T07:15:44.974Z"
   },
   {
    "duration": 109,
    "start_time": "2023-05-02T07:15:45.000Z"
   },
   {
    "duration": 0,
    "start_time": "2023-05-02T07:15:45.110Z"
   },
   {
    "duration": 0,
    "start_time": "2023-05-02T07:15:45.111Z"
   },
   {
    "duration": 0,
    "start_time": "2023-05-02T07:15:45.112Z"
   },
   {
    "duration": 0,
    "start_time": "2023-05-02T07:15:45.113Z"
   },
   {
    "duration": 0,
    "start_time": "2023-05-02T07:15:45.114Z"
   },
   {
    "duration": 0,
    "start_time": "2023-05-02T07:15:45.115Z"
   },
   {
    "duration": 0,
    "start_time": "2023-05-02T07:15:45.117Z"
   },
   {
    "duration": 0,
    "start_time": "2023-05-02T07:15:45.117Z"
   },
   {
    "duration": 5,
    "start_time": "2023-05-02T07:16:38.318Z"
   },
   {
    "duration": 2882,
    "start_time": "2023-05-02T07:23:33.516Z"
   }
  ],
  "kernelspec": {
   "display_name": "Python 3 (ipykernel)",
   "language": "python",
   "name": "python3"
  },
  "language_info": {
   "codemirror_mode": {
    "name": "ipython",
    "version": 3
   },
   "file_extension": ".py",
   "mimetype": "text/x-python",
   "name": "python",
   "nbconvert_exporter": "python",
   "pygments_lexer": "ipython3",
   "version": "3.9.15"
  },
  "toc": {
   "base_numbering": 1,
   "nav_menu": {},
   "number_sections": true,
   "sideBar": true,
   "skip_h1_title": true,
   "title_cell": "Table of Contents",
   "title_sidebar": "Contents",
   "toc_cell": true,
   "toc_position": {
    "height": "calc(100% - 180px)",
    "left": "10px",
    "top": "150px",
    "width": "373.802px"
   },
   "toc_section_display": true,
   "toc_window_display": true
  }
 },
 "nbformat": 4,
 "nbformat_minor": 5
}
