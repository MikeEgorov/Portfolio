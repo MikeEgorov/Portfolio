{
 "cells": [
  {
   "cell_type": "markdown",
   "id": "fab2d075",
   "metadata": {
    "toc": true
   },
   "source": [
    "<h1>Table of Contents<span class=\"tocSkip\"></span></h1>\n",
    "<div class=\"toc\"><ul class=\"toc-item\"><li><ul class=\"toc-item\"><li><span><a href=\"#Полезные-ссылки:\" data-toc-modified-id=\"Полезные-ссылки:-0.1\"><span class=\"toc-item-num\">0.1&nbsp;&nbsp;</span><font color=\"orange\">Полезные ссылки:</font></a></span></li></ul></li><li><span><a href=\"#Общее-впечатление\" data-toc-modified-id=\"Общее-впечатление-1\"><span class=\"toc-item-num\">1&nbsp;&nbsp;</span><font color=\"orange\">Общее впечатление</font></a></span></li><li><span><a href=\"#Общее-впечатление-(ревью-2)\" data-toc-modified-id=\"Общее-впечатление-(ревью-2)-2\"><span class=\"toc-item-num\">2&nbsp;&nbsp;</span><font color=\"orange\">Общее впечатление (ревью 2)</font></a></span></li><li><span><a href=\"#Загрузка-данных-и-их-ресемплирование.\" data-toc-modified-id=\"Загрузка-данных-и-их-ресемплирование.-3\"><span class=\"toc-item-num\">3&nbsp;&nbsp;</span>Загрузка данных и их ресемплирование.</a></span><ul class=\"toc-item\"><li><span><a href=\"#Загрузка-данных.\" data-toc-modified-id=\"Загрузка-данных.-3.1\"><span class=\"toc-item-num\">3.1&nbsp;&nbsp;</span>Загрузка данных.</a></span></li><li><span><a href=\"#Ресемплирование-данных.\" data-toc-modified-id=\"Ресемплирование-данных.-3.2\"><span class=\"toc-item-num\">3.2&nbsp;&nbsp;</span>Ресемплирование данных.</a></span></li></ul></li><li><span><a href=\"#Анализ-данных.\" data-toc-modified-id=\"Анализ-данных.-4\"><span class=\"toc-item-num\">4&nbsp;&nbsp;</span>Анализ данных.</a></span></li><li><span><a href=\"#Обучение-моделей.\" data-toc-modified-id=\"Обучение-моделей.-5\"><span class=\"toc-item-num\">5&nbsp;&nbsp;</span>Обучение моделей.</a></span><ul class=\"toc-item\"><li><span><a href=\"#Создание-признаков.\" data-toc-modified-id=\"Создание-признаков.-5.1\"><span class=\"toc-item-num\">5.1&nbsp;&nbsp;</span>Создание признаков.</a></span></li><li><span><a href=\"#Разделение-данных-на-выборки.\" data-toc-modified-id=\"Разделение-данных-на-выборки.-5.2\"><span class=\"toc-item-num\">5.2&nbsp;&nbsp;</span>Разделение данных на выборки.</a></span></li><li><span><a href=\"#Модель-LinearRegression.\" data-toc-modified-id=\"Модель-LinearRegression.-5.3\"><span class=\"toc-item-num\">5.3&nbsp;&nbsp;</span>Модель LinearRegression.</a></span></li><li><span><a href=\"#Модель-RandomForestRegressor.\" data-toc-modified-id=\"Модель-RandomForestRegressor.-5.4\"><span class=\"toc-item-num\">5.4&nbsp;&nbsp;</span>Модель RandomForestRegressor.</a></span></li><li><span><a href=\"#Модель-CatBoostRegressor.\" data-toc-modified-id=\"Модель-CatBoostRegressor.-5.5\"><span class=\"toc-item-num\">5.5&nbsp;&nbsp;</span>Модель CatBoostRegressor.</a></span></li><li><span><a href=\"#Модель-LGBMRegressor.\" data-toc-modified-id=\"Модель-LGBMRegressor.-5.6\"><span class=\"toc-item-num\">5.6&nbsp;&nbsp;</span>Модель LGBMRegressor.</a></span></li></ul></li><li><span><a href=\"#Проверка-качества-лучшей-модели-на-тестовой-выборке.\" data-toc-modified-id=\"Проверка-качества-лучшей-модели-на-тестовой-выборке.-6\"><span class=\"toc-item-num\">6&nbsp;&nbsp;</span>Проверка качества лучшей модели на тестовой выборке.</a></span><ul class=\"toc-item\"><li><span><a href=\"#Проверка-модели-на-вменяемость.\" data-toc-modified-id=\"Проверка-модели-на-вменяемость.-6.1\"><span class=\"toc-item-num\">6.1&nbsp;&nbsp;</span>Проверка модели на вменяемость.</a></span></li></ul></li><li><span><a href=\"#Общий-вывод-по-исследованию:\" data-toc-modified-id=\"Общий-вывод-по-исследованию:-7\"><span class=\"toc-item-num\">7&nbsp;&nbsp;</span>Общий вывод по исследованию:</a></span></li></ul></div>"
   ]
  },
  {
   "cell_type": "markdown",
   "id": "c763e03a",
   "metadata": {},
   "source": [
    "<div class=\"alert alert-info\"><b>Описание проекта:</b>\n",
    "   \n",
    "<b>\"Прогноз количества заказов такси в аэропортах на следующий час\"</b>\n",
    "\n",
    "***\n",
    "\n",
    "**Цели проекта:**\n",
    "- построить модель, которая умеет предсказывать количество заказов такси на следующий час.\n",
    "    \n",
    "***\n",
    "    \n",
    "**Задачи исследования:**  \n",
    "- на основании имеющихся данных о заказах такси в аэропортах, построить модель, которая умеет предсказывать количество заказов такси на следующий час;\n",
    "- оценить качество модели, используя метрику RMSE (значение метрики RMSE на тестовой выборке должно быть не больше 48).    \n",
    "\n",
    "***\n",
    "    \n",
    "**Этапы исследования:** \n",
    "* загрузка данных и их ресемплирование по одному часу\n",
    "* анализ данных\n",
    "* обучение разных моделей с различными гиперпараметрами (размер тестовой выборки - 10% от исходных данных)\n",
    "* проверка данных на тестовой выборке \n",
    "* вывод по исследованию\n",
    "    \n",
    "***\n",
    "<b>Признаки:</b>\n",
    "* num_orders — число заказов\n",
    "\n",
    "</div>"
   ]
  },
  {
   "cell_type": "markdown",
   "id": "6940f766",
   "metadata": {},
   "source": [
    "***"
   ]
  },
  {
   "cell_type": "markdown",
   "id": "afb0e699",
   "metadata": {},
   "source": [
    "### Загрузка данных и их ресемплирование."
   ]
  },
  {
   "cell_type": "markdown",
   "id": "b76f88d5",
   "metadata": {},
   "source": [
    "#### Загрузка данных."
   ]
  },
  {
   "cell_type": "code",
   "execution_count": 3,
   "id": "47d4c523",
   "metadata": {
    "scrolled": false
   },
   "outputs": [],
   "source": [
    "import warnings\n",
    "import os\n",
    "\n",
    "import pandas as pd\n",
    "import numpy as np\n",
    "import lightgbm as lgb\n",
    "\n",
    "from lightgbm import LGBMRegressor\n",
    "from sklearn.ensemble import RandomForestRegressor\n",
    "from catboost import CatBoostRegressor\n",
    "from sklearn.dummy import DummyRegressor\n",
    "from sklearn.linear_model import LinearRegression \n",
    "from numpy import arange\n",
    "from statsmodels.tsa.seasonal import seasonal_decompose\n",
    "\n",
    "from sklearn.preprocessing import StandardScaler\n",
    "\n",
    "from sklearn.model_selection import (\n",
    "    train_test_split,    \n",
    "    RandomizedSearchCV,\n",
    "    TimeSeriesSplit,\n",
    "    cross_val_score\n",
    ")\n",
    "\n",
    "from sklearn.metrics import mean_squared_error\n",
    "\n",
    "import matplotlib.pyplot as plt\n",
    "import seaborn as sns\n",
    "\n",
    "# Избавляемся от вывода предупреждений\n",
    "warnings.simplefilter(\"ignore\")\n",
    "\n",
    "# Отображение всех колонок\n",
    "pd.set_option('display.max_columns', None)\n",
    "\n",
    "# Константы\n",
    "RANDOM_STATE = 12345"
   ]
  },
  {
   "cell_type": "code",
   "execution_count": 4,
   "id": "01ad34e2",
   "metadata": {},
   "outputs": [],
   "source": [
    "# Открываем файл с данными. Признак 'datetime' приведем к типу datetime64[ns].\n",
    "\n",
    "pth1 = 'C:/Датасеты и проекты/taxi.csv'\n",
    "pth2 = '/datasets/taxi.csv'\n",
    "\n",
    "if os.path.exists(pth1):\n",
    "    data = pd.read_csv(pth1, parse_dates=[0])\n",
    "elif os.path.exists(pth2):\n",
    "    data = pd.read_csv(pth2, parse_dates=[0])\n",
    "else:\n",
    "    print('Something is wrong')"
   ]
  },
  {
   "cell_type": "code",
   "execution_count": 5,
   "id": "01ea956f",
   "metadata": {},
   "outputs": [
    {
     "data": {
      "text/html": [
       "<div>\n",
       "<style scoped>\n",
       "    .dataframe tbody tr th:only-of-type {\n",
       "        vertical-align: middle;\n",
       "    }\n",
       "\n",
       "    .dataframe tbody tr th {\n",
       "        vertical-align: top;\n",
       "    }\n",
       "\n",
       "    .dataframe thead th {\n",
       "        text-align: right;\n",
       "    }\n",
       "</style>\n",
       "<table border=\"1\" class=\"dataframe\">\n",
       "  <thead>\n",
       "    <tr style=\"text-align: right;\">\n",
       "      <th></th>\n",
       "      <th>datetime</th>\n",
       "      <th>num_orders</th>\n",
       "    </tr>\n",
       "  </thead>\n",
       "  <tbody>\n",
       "    <tr>\n",
       "      <th>0</th>\n",
       "      <td>2018-03-01 00:00:00</td>\n",
       "      <td>9</td>\n",
       "    </tr>\n",
       "    <tr>\n",
       "      <th>1</th>\n",
       "      <td>2018-03-01 00:10:00</td>\n",
       "      <td>14</td>\n",
       "    </tr>\n",
       "    <tr>\n",
       "      <th>2</th>\n",
       "      <td>2018-03-01 00:20:00</td>\n",
       "      <td>28</td>\n",
       "    </tr>\n",
       "    <tr>\n",
       "      <th>3</th>\n",
       "      <td>2018-03-01 00:30:00</td>\n",
       "      <td>20</td>\n",
       "    </tr>\n",
       "    <tr>\n",
       "      <th>4</th>\n",
       "      <td>2018-03-01 00:40:00</td>\n",
       "      <td>32</td>\n",
       "    </tr>\n",
       "  </tbody>\n",
       "</table>\n",
       "</div>"
      ],
      "text/plain": [
       "             datetime  num_orders\n",
       "0 2018-03-01 00:00:00           9\n",
       "1 2018-03-01 00:10:00          14\n",
       "2 2018-03-01 00:20:00          28\n",
       "3 2018-03-01 00:30:00          20\n",
       "4 2018-03-01 00:40:00          32"
      ]
     },
     "execution_count": 5,
     "metadata": {},
     "output_type": "execute_result"
    }
   ],
   "source": [
    "# Выводим первые 5 строк датасета с данными.\n",
    "data.head()"
   ]
  },
  {
   "cell_type": "code",
   "execution_count": 6,
   "id": "845a04f0",
   "metadata": {
    "scrolled": false
   },
   "outputs": [
    {
     "name": "stdout",
     "output_type": "stream",
     "text": [
      "Количество строк и столбцов в датасете \"Данные о заказах такси\": (26496, 2)\n",
      "------------------------------\n",
      "Пропуски в датасете \"Данные о заказах такси\":\n",
      "datetime      0\n",
      "num_orders    0\n",
      "dtype: int64\n",
      "------------------------------\n",
      "Информация о типах данных в датасете \"Данные о заказах такси\":\n",
      "datetime      datetime64[ns]\n",
      "num_orders             int64\n",
      "dtype: object\n",
      "------------------------------\n",
      "Распределение численных значений признаков в датасете:\n"
     ]
    },
    {
     "data": {
      "text/html": [
       "<div>\n",
       "<style scoped>\n",
       "    .dataframe tbody tr th:only-of-type {\n",
       "        vertical-align: middle;\n",
       "    }\n",
       "\n",
       "    .dataframe tbody tr th {\n",
       "        vertical-align: top;\n",
       "    }\n",
       "\n",
       "    .dataframe thead th {\n",
       "        text-align: right;\n",
       "    }\n",
       "</style>\n",
       "<table border=\"1\" class=\"dataframe\">\n",
       "  <thead>\n",
       "    <tr style=\"text-align: right;\">\n",
       "      <th></th>\n",
       "      <th>count</th>\n",
       "      <th>mean</th>\n",
       "      <th>std</th>\n",
       "      <th>min</th>\n",
       "      <th>25%</th>\n",
       "      <th>50%</th>\n",
       "      <th>75%</th>\n",
       "      <th>max</th>\n",
       "    </tr>\n",
       "  </thead>\n",
       "  <tbody>\n",
       "    <tr>\n",
       "      <th>num_orders</th>\n",
       "      <td>26496.0</td>\n",
       "      <td>14.070463</td>\n",
       "      <td>9.21133</td>\n",
       "      <td>0.0</td>\n",
       "      <td>8.0</td>\n",
       "      <td>13.0</td>\n",
       "      <td>19.0</td>\n",
       "      <td>119.0</td>\n",
       "    </tr>\n",
       "  </tbody>\n",
       "</table>\n",
       "</div>"
      ],
      "text/plain": [
       "              count       mean      std  min  25%   50%   75%    max\n",
       "num_orders  26496.0  14.070463  9.21133  0.0  8.0  13.0  19.0  119.0"
      ]
     },
     "metadata": {},
     "output_type": "display_data"
    },
    {
     "name": "stdout",
     "output_type": "stream",
     "text": [
      "------------------------------\n",
      "Количество явных дубликатов в датасете: 0\n",
      "<--><--><--><--><--><--><--><--><--><--><--><--><--><--><--> \n",
      "\n"
     ]
    }
   ],
   "source": [
    "# Получение информации о датасете.\n",
    "data_all = [data]\n",
    "data_names = ['Данные о заказах такси']\n",
    "\n",
    "for i in range(len(data_all)):\n",
    "        print(f'Количество строк и столбцов в датасете \"{data_names[i]}\": {data_all[i].shape}')\n",
    "        print('-' * 30)\n",
    "        print(f'Пропуски в датасете \"{data_names[i]}\":\\n{data_all[i].isna().sum()}')\n",
    "        print('-' * 30)\n",
    "        print(f'Информация о типах данных в датасете \"{data_names[i]}\":\\n{data_all[i].dtypes}')\n",
    "        print('-' * 30)\n",
    "        print('Распределение численных значений признаков в датасете:')\n",
    "        display(data_all[i].describe().T)\n",
    "        print('-' * 30)\n",
    "        print(f'Количество явных дубликатов в датасете: {data_all[i].duplicated().sum()}')\n",
    "        print('<-->' * 15,'\\n')        "
   ]
  },
  {
   "cell_type": "code",
   "execution_count": 7,
   "id": "9764e874",
   "metadata": {},
   "outputs": [
    {
     "data": {
      "image/png": "[encoded data removed]",
      "text/plain": [
       "<Figure size 500x500 with 1 Axes>"
      ]
     },
     "metadata": {},
     "output_type": "display_data"
    }
   ],
   "source": [
    "sns.displot(data,\n",
    "            x = \"num_orders\",\n",
    "            bins=20,\n",
    "           )\n",
    "plt.title(\"Распределение значений колонки 'num_orders'\", size=13)\n",
    "plt.xlabel(\"Число заказов такси\", size=11)\n",
    "plt.ylabel(\"Количество\", size=10)\n",
    "plt.axvline(x=data.num_orders.median(),\n",
    "            color='red');"
   ]
  },
  {
   "cell_type": "markdown",
   "id": "9eb21ace",
   "metadata": {},
   "source": [
    " <div class=\"alert alert-info\"><b>Наблюдения:</b>\n",
    "   \n",
    "По результатам получения информации о датасете наблюдаем:\n",
    "* пропусков в признаках не имеется\n",
    "* типы данных к колонках соответсвуют содержимому\n",
    "* явные дубликаты отсутствуют\n",
    "    \n",
    "</div>"
   ]
  },
  {
   "cell_type": "markdown",
   "id": "cc46b4c9",
   "metadata": {},
   "source": [
    "#### Ресемплирование данных."
   ]
  },
  {
   "cell_type": "code",
   "execution_count": 8,
   "id": "02d5d950",
   "metadata": {},
   "outputs": [
    {
     "data": {
      "text/plain": [
       "True"
      ]
     },
     "execution_count": 8,
     "metadata": {},
     "output_type": "execute_result"
    }
   ],
   "source": [
    "# Конвертируем колонку 'datetime' в значения индексов, проверим, расположены ли даты и время в хронологическом порядке.\n",
    "\n",
    "data.set_index('datetime', inplace=True)\n",
    "data.index.is_monotonic"
   ]
  },
  {
   "cell_type": "markdown",
   "id": "d4e99164",
   "metadata": {},
   "source": [
    " <div class=\"alert alert-info\"><b>Наблюдения:</b>\n",
    "   \n",
    "Даты и время расположены в хронологическом порядке.\n",
    "    \n",
    "</div>"
   ]
  },
  {
   "cell_type": "code",
   "execution_count": 9,
   "id": "75e8fef8",
   "metadata": {},
   "outputs": [
    {
     "data": {
      "image/png": "[encoded data removed]",
      "text/plain": [
       "<Figure size 640x480 with 1 Axes>"
      ]
     },
     "metadata": {},
     "output_type": "display_data"
    }
   ],
   "source": [
    "# Построим график временного ряда.\n",
    "data.plot();"
   ]
  },
  {
   "cell_type": "code",
   "execution_count": 10,
   "id": "a14b1a23",
   "metadata": {},
   "outputs": [
    {
     "data": {
      "text/html": [
       "<div>\n",
       "<style scoped>\n",
       "    .dataframe tbody tr th:only-of-type {\n",
       "        vertical-align: middle;\n",
       "    }\n",
       "\n",
       "    .dataframe tbody tr th {\n",
       "        vertical-align: top;\n",
       "    }\n",
       "\n",
       "    .dataframe thead th {\n",
       "        text-align: right;\n",
       "    }\n",
       "</style>\n",
       "<table border=\"1\" class=\"dataframe\">\n",
       "  <thead>\n",
       "    <tr style=\"text-align: right;\">\n",
       "      <th></th>\n",
       "      <th>num_orders</th>\n",
       "    </tr>\n",
       "    <tr>\n",
       "      <th>datetime</th>\n",
       "      <th></th>\n",
       "    </tr>\n",
       "  </thead>\n",
       "  <tbody>\n",
       "    <tr>\n",
       "      <th>2018-03-01 00:00:00</th>\n",
       "      <td>124</td>\n",
       "    </tr>\n",
       "    <tr>\n",
       "      <th>2018-03-01 01:00:00</th>\n",
       "      <td>85</td>\n",
       "    </tr>\n",
       "    <tr>\n",
       "      <th>2018-03-01 02:00:00</th>\n",
       "      <td>71</td>\n",
       "    </tr>\n",
       "    <tr>\n",
       "      <th>2018-03-01 03:00:00</th>\n",
       "      <td>66</td>\n",
       "    </tr>\n",
       "    <tr>\n",
       "      <th>2018-03-01 04:00:00</th>\n",
       "      <td>43</td>\n",
       "    </tr>\n",
       "  </tbody>\n",
       "</table>\n",
       "</div>"
      ],
      "text/plain": [
       "                     num_orders\n",
       "datetime                       \n",
       "2018-03-01 00:00:00         124\n",
       "2018-03-01 01:00:00          85\n",
       "2018-03-01 02:00:00          71\n",
       "2018-03-01 03:00:00          66\n",
       "2018-03-01 04:00:00          43"
      ]
     },
     "execution_count": 10,
     "metadata": {},
     "output_type": "execute_result"
    }
   ],
   "source": [
    "data = data.resample('1H').sum()\n",
    "data.head()"
   ]
  },
  {
   "cell_type": "markdown",
   "id": "469c92c4",
   "metadata": {},
   "source": [
    " <div class=\"alert alert-info\"><b>Промежуточные выводы:</b>\n",
    "   \n",
    "Так как целью проекта является построение модели, которая умеет предсказывать количество заказов такси на следующий час для привлечения большего количества водителей в период пиковой нагрузки, оставим данные как есть, без отсечения самых высоких значений, в качестве способа аггрегирования данных при ресемплировании используем сумму.\n",
    "    \n",
    "</div>"
   ]
  },
  {
   "cell_type": "markdown",
   "id": "4e19127c",
   "metadata": {},
   "source": [
    "### Анализ данных."
   ]
  },
  {
   "cell_type": "code",
   "execution_count": 11,
   "id": "fb6eff92",
   "metadata": {},
   "outputs": [
    {
     "name": "stdout",
     "output_type": "stream",
     "text": [
      "Начальная дата: 2018-03-01 00:00:00\n",
      "Конечная дата: 2018-08-31 23:00:00\n",
      "Продолжительность: 183 days 23:00:00\n"
     ]
    }
   ],
   "source": [
    "print('Начальная дата:', data.index.min())\n",
    "print('Конечная дата:', data.index.max())\n",
    "print('Продолжительность:', data.index.max() - data.index.min())"
   ]
  },
  {
   "cell_type": "markdown",
   "id": "4bc6ce7c",
   "metadata": {},
   "source": [
    " <div class=\"alert alert-info\"><b>Наблюдения:</b>\n",
    "   \n",
    "Данные представлены за полугодовой период: с 1 марта по 31 августа 2018 года (183 дня).\n",
    "    \n",
    "</div>"
   ]
  },
  {
   "cell_type": "code",
   "execution_count": 12,
   "id": "567c1f2d",
   "metadata": {},
   "outputs": [],
   "source": [
    "# Разложим временной ряд на тренд и сезонную компоненту.\n",
    "decomposed = seasonal_decompose(data)"
   ]
  },
  {
   "cell_type": "code",
   "execution_count": 13,
   "id": "3308f817",
   "metadata": {},
   "outputs": [
    {
     "data": {
      "image/png": "[encoded data removed]",
      "text/plain": [
       "<Figure size 600x800 with 3 Axes>"
      ]
     },
     "metadata": {},
     "output_type": "display_data"
    }
   ],
   "source": [
    "plt.figure(figsize=(6, 8))\n",
    "plt.subplot(311)\n",
    "\n",
    "decomposed.trend.plot(ax=plt.gca())\n",
    "plt.title('Trend')\n",
    "plt.subplot(312)\n",
    "decomposed.seasonal.plot(ax=plt.gca())\n",
    "\n",
    "plt.title('Seasonality')\n",
    "plt.subplot(313)\n",
    "decomposed.resid.plot(ax=plt.gca())\n",
    "\n",
    "plt.title('Residuals')\n",
    "plt.tight_layout()"
   ]
  },
  {
   "cell_type": "markdown",
   "id": "f2613176",
   "metadata": {},
   "source": [
    " <div class=\"alert alert-info\"><b>Комментарий:</b>\n",
    "   \n",
    "* Временной ряд нестационарный, поскольку у него меняется среднее значение.\n",
    "* тренд восходящий (по всей видимости это связано с развитием бизнеса).\n",
    "* сезонность отражает высокую частоту данных, поэтому для более качественного изучения закономерностей необходимо изменить масштаб данных.\n",
    "    \n",
    "</div>"
   ]
  },
  {
   "cell_type": "code",
   "execution_count": 14,
   "id": "ce959a9a",
   "metadata": {},
   "outputs": [
    {
     "data": {
      "image/png": "[encoded data removed]",
      "text/plain": [
       "<Figure size 640x480 with 1 Axes>"
      ]
     },
     "metadata": {},
     "output_type": "display_data"
    }
   ],
   "source": [
    "# Исследуем сезонность в течение суток.\n",
    "decomposed.seasonal['2018-03-01': '2018-03-02'].plot();"
   ]
  },
  {
   "cell_type": "markdown",
   "id": "a4ff0cb5",
   "metadata": {},
   "source": [
    " <div class=\"alert alert-info\"><b>Промежуточные выводы:</b>   \n",
    "    \n",
    "По итогам анализа данных прослеживается зависимость количества заказов такси в течение суток от времени: в 06:00 количество заказов минимально, в 00:00 количество заказов максимальное.\n",
    "\n",
    "</div>"
   ]
  },
  {
   "cell_type": "markdown",
   "id": "b9c83eac",
   "metadata": {},
   "source": [
    "### Обучение моделей."
   ]
  },
  {
   "cell_type": "markdown",
   "id": "3bbe2c99",
   "metadata": {},
   "source": [
    "#### Создание признаков."
   ]
  },
  {
   "cell_type": "code",
   "execution_count": 15,
   "id": "4f803a03",
   "metadata": {},
   "outputs": [
    {
     "data": {
      "text/html": [
       "<div>\n",
       "<style scoped>\n",
       "    .dataframe tbody tr th:only-of-type {\n",
       "        vertical-align: middle;\n",
       "    }\n",
       "\n",
       "    .dataframe tbody tr th {\n",
       "        vertical-align: top;\n",
       "    }\n",
       "\n",
       "    .dataframe thead th {\n",
       "        text-align: right;\n",
       "    }\n",
       "</style>\n",
       "<table border=\"1\" class=\"dataframe\">\n",
       "  <thead>\n",
       "    <tr style=\"text-align: right;\">\n",
       "      <th></th>\n",
       "      <th>num_orders</th>\n",
       "      <th>dayofweek</th>\n",
       "      <th>day</th>\n",
       "      <th>lag_1</th>\n",
       "      <th>lag_2</th>\n",
       "      <th>lag_3</th>\n",
       "      <th>lag_4</th>\n",
       "      <th>lag_5</th>\n",
       "      <th>lag_6</th>\n",
       "      <th>lag_7</th>\n",
       "      <th>lag_8</th>\n",
       "      <th>lag_9</th>\n",
       "      <th>lag_10</th>\n",
       "      <th>lag_11</th>\n",
       "      <th>lag_12</th>\n",
       "      <th>lag_13</th>\n",
       "      <th>lag_14</th>\n",
       "      <th>lag_15</th>\n",
       "      <th>lag_16</th>\n",
       "      <th>lag_17</th>\n",
       "      <th>lag_18</th>\n",
       "      <th>lag_19</th>\n",
       "      <th>lag_20</th>\n",
       "      <th>lag_21</th>\n",
       "      <th>lag_22</th>\n",
       "      <th>lag_23</th>\n",
       "      <th>lag_24</th>\n",
       "      <th>rolling_mean</th>\n",
       "    </tr>\n",
       "    <tr>\n",
       "      <th>datetime</th>\n",
       "      <th></th>\n",
       "      <th></th>\n",
       "      <th></th>\n",
       "      <th></th>\n",
       "      <th></th>\n",
       "      <th></th>\n",
       "      <th></th>\n",
       "      <th></th>\n",
       "      <th></th>\n",
       "      <th></th>\n",
       "      <th></th>\n",
       "      <th></th>\n",
       "      <th></th>\n",
       "      <th></th>\n",
       "      <th></th>\n",
       "      <th></th>\n",
       "      <th></th>\n",
       "      <th></th>\n",
       "      <th></th>\n",
       "      <th></th>\n",
       "      <th></th>\n",
       "      <th></th>\n",
       "      <th></th>\n",
       "      <th></th>\n",
       "      <th></th>\n",
       "      <th></th>\n",
       "      <th></th>\n",
       "      <th></th>\n",
       "    </tr>\n",
       "  </thead>\n",
       "  <tbody>\n",
       "    <tr>\n",
       "      <th>2018-03-01 00:00:00</th>\n",
       "      <td>124</td>\n",
       "      <td>3</td>\n",
       "      <td>1</td>\n",
       "      <td>NaN</td>\n",
       "      <td>NaN</td>\n",
       "      <td>NaN</td>\n",
       "      <td>NaN</td>\n",
       "      <td>NaN</td>\n",
       "      <td>NaN</td>\n",
       "      <td>NaN</td>\n",
       "      <td>NaN</td>\n",
       "      <td>NaN</td>\n",
       "      <td>NaN</td>\n",
       "      <td>NaN</td>\n",
       "      <td>NaN</td>\n",
       "      <td>NaN</td>\n",
       "      <td>NaN</td>\n",
       "      <td>NaN</td>\n",
       "      <td>NaN</td>\n",
       "      <td>NaN</td>\n",
       "      <td>NaN</td>\n",
       "      <td>NaN</td>\n",
       "      <td>NaN</td>\n",
       "      <td>NaN</td>\n",
       "      <td>NaN</td>\n",
       "      <td>NaN</td>\n",
       "      <td>NaN</td>\n",
       "      <td>NaN</td>\n",
       "    </tr>\n",
       "    <tr>\n",
       "      <th>2018-03-01 01:00:00</th>\n",
       "      <td>85</td>\n",
       "      <td>3</td>\n",
       "      <td>1</td>\n",
       "      <td>124.0</td>\n",
       "      <td>NaN</td>\n",
       "      <td>NaN</td>\n",
       "      <td>NaN</td>\n",
       "      <td>NaN</td>\n",
       "      <td>NaN</td>\n",
       "      <td>NaN</td>\n",
       "      <td>NaN</td>\n",
       "      <td>NaN</td>\n",
       "      <td>NaN</td>\n",
       "      <td>NaN</td>\n",
       "      <td>NaN</td>\n",
       "      <td>NaN</td>\n",
       "      <td>NaN</td>\n",
       "      <td>NaN</td>\n",
       "      <td>NaN</td>\n",
       "      <td>NaN</td>\n",
       "      <td>NaN</td>\n",
       "      <td>NaN</td>\n",
       "      <td>NaN</td>\n",
       "      <td>NaN</td>\n",
       "      <td>NaN</td>\n",
       "      <td>NaN</td>\n",
       "      <td>NaN</td>\n",
       "      <td>NaN</td>\n",
       "    </tr>\n",
       "    <tr>\n",
       "      <th>2018-03-01 02:00:00</th>\n",
       "      <td>71</td>\n",
       "      <td>3</td>\n",
       "      <td>1</td>\n",
       "      <td>85.0</td>\n",
       "      <td>124.0</td>\n",
       "      <td>NaN</td>\n",
       "      <td>NaN</td>\n",
       "      <td>NaN</td>\n",
       "      <td>NaN</td>\n",
       "      <td>NaN</td>\n",
       "      <td>NaN</td>\n",
       "      <td>NaN</td>\n",
       "      <td>NaN</td>\n",
       "      <td>NaN</td>\n",
       "      <td>NaN</td>\n",
       "      <td>NaN</td>\n",
       "      <td>NaN</td>\n",
       "      <td>NaN</td>\n",
       "      <td>NaN</td>\n",
       "      <td>NaN</td>\n",
       "      <td>NaN</td>\n",
       "      <td>NaN</td>\n",
       "      <td>NaN</td>\n",
       "      <td>NaN</td>\n",
       "      <td>NaN</td>\n",
       "      <td>NaN</td>\n",
       "      <td>NaN</td>\n",
       "      <td>NaN</td>\n",
       "    </tr>\n",
       "    <tr>\n",
       "      <th>2018-03-01 03:00:00</th>\n",
       "      <td>66</td>\n",
       "      <td>3</td>\n",
       "      <td>1</td>\n",
       "      <td>71.0</td>\n",
       "      <td>85.0</td>\n",
       "      <td>124.0</td>\n",
       "      <td>NaN</td>\n",
       "      <td>NaN</td>\n",
       "      <td>NaN</td>\n",
       "      <td>NaN</td>\n",
       "      <td>NaN</td>\n",
       "      <td>NaN</td>\n",
       "      <td>NaN</td>\n",
       "      <td>NaN</td>\n",
       "      <td>NaN</td>\n",
       "      <td>NaN</td>\n",
       "      <td>NaN</td>\n",
       "      <td>NaN</td>\n",
       "      <td>NaN</td>\n",
       "      <td>NaN</td>\n",
       "      <td>NaN</td>\n",
       "      <td>NaN</td>\n",
       "      <td>NaN</td>\n",
       "      <td>NaN</td>\n",
       "      <td>NaN</td>\n",
       "      <td>NaN</td>\n",
       "      <td>NaN</td>\n",
       "      <td>NaN</td>\n",
       "    </tr>\n",
       "    <tr>\n",
       "      <th>2018-03-01 04:00:00</th>\n",
       "      <td>43</td>\n",
       "      <td>3</td>\n",
       "      <td>1</td>\n",
       "      <td>66.0</td>\n",
       "      <td>71.0</td>\n",
       "      <td>85.0</td>\n",
       "      <td>124.0</td>\n",
       "      <td>NaN</td>\n",
       "      <td>NaN</td>\n",
       "      <td>NaN</td>\n",
       "      <td>NaN</td>\n",
       "      <td>NaN</td>\n",
       "      <td>NaN</td>\n",
       "      <td>NaN</td>\n",
       "      <td>NaN</td>\n",
       "      <td>NaN</td>\n",
       "      <td>NaN</td>\n",
       "      <td>NaN</td>\n",
       "      <td>NaN</td>\n",
       "      <td>NaN</td>\n",
       "      <td>NaN</td>\n",
       "      <td>NaN</td>\n",
       "      <td>NaN</td>\n",
       "      <td>NaN</td>\n",
       "      <td>NaN</td>\n",
       "      <td>NaN</td>\n",
       "      <td>NaN</td>\n",
       "      <td>NaN</td>\n",
       "    </tr>\n",
       "  </tbody>\n",
       "</table>\n",
       "</div>"
      ],
      "text/plain": [
       "                     num_orders  dayofweek  day  lag_1  lag_2  lag_3  lag_4  \\\n",
       "datetime                                                                      \n",
       "2018-03-01 00:00:00         124          3    1    NaN    NaN    NaN    NaN   \n",
       "2018-03-01 01:00:00          85          3    1  124.0    NaN    NaN    NaN   \n",
       "2018-03-01 02:00:00          71          3    1   85.0  124.0    NaN    NaN   \n",
       "2018-03-01 03:00:00          66          3    1   71.0   85.0  124.0    NaN   \n",
       "2018-03-01 04:00:00          43          3    1   66.0   71.0   85.0  124.0   \n",
       "\n",
       "                     lag_5  lag_6  lag_7  lag_8  lag_9  lag_10  lag_11  \\\n",
       "datetime                                                                 \n",
       "2018-03-01 00:00:00    NaN    NaN    NaN    NaN    NaN     NaN     NaN   \n",
       "2018-03-01 01:00:00    NaN    NaN    NaN    NaN    NaN     NaN     NaN   \n",
       "2018-03-01 02:00:00    NaN    NaN    NaN    NaN    NaN     NaN     NaN   \n",
       "2018-03-01 03:00:00    NaN    NaN    NaN    NaN    NaN     NaN     NaN   \n",
       "2018-03-01 04:00:00    NaN    NaN    NaN    NaN    NaN     NaN     NaN   \n",
       "\n",
       "                     lag_12  lag_13  lag_14  lag_15  lag_16  lag_17  lag_18  \\\n",
       "datetime                                                                      \n",
       "2018-03-01 00:00:00     NaN     NaN     NaN     NaN     NaN     NaN     NaN   \n",
       "2018-03-01 01:00:00     NaN     NaN     NaN     NaN     NaN     NaN     NaN   \n",
       "2018-03-01 02:00:00     NaN     NaN     NaN     NaN     NaN     NaN     NaN   \n",
       "2018-03-01 03:00:00     NaN     NaN     NaN     NaN     NaN     NaN     NaN   \n",
       "2018-03-01 04:00:00     NaN     NaN     NaN     NaN     NaN     NaN     NaN   \n",
       "\n",
       "                     lag_19  lag_20  lag_21  lag_22  lag_23  lag_24  \\\n",
       "datetime                                                              \n",
       "2018-03-01 00:00:00     NaN     NaN     NaN     NaN     NaN     NaN   \n",
       "2018-03-01 01:00:00     NaN     NaN     NaN     NaN     NaN     NaN   \n",
       "2018-03-01 02:00:00     NaN     NaN     NaN     NaN     NaN     NaN   \n",
       "2018-03-01 03:00:00     NaN     NaN     NaN     NaN     NaN     NaN   \n",
       "2018-03-01 04:00:00     NaN     NaN     NaN     NaN     NaN     NaN   \n",
       "\n",
       "                     rolling_mean  \n",
       "datetime                           \n",
       "2018-03-01 00:00:00           NaN  \n",
       "2018-03-01 01:00:00           NaN  \n",
       "2018-03-01 02:00:00           NaN  \n",
       "2018-03-01 03:00:00           NaN  \n",
       "2018-03-01 04:00:00           NaN  "
      ]
     },
     "execution_count": 15,
     "metadata": {},
     "output_type": "execute_result"
    }
   ],
   "source": [
    "# Создадим признаки, размер отставания (max_lag) при вызове функции укажем 24 (по количеству часов в сутках), \n",
    "# а ширину окна скользящего среднего - 10\n",
    "\n",
    "def make_features(data, max_lag, rolling_mean_size):\n",
    "    data_work = data.copy()\n",
    "    data_work['dayofweek'] = data_work.index.dayofweek\n",
    "    data_work['day'] = data_work.index.day\n",
    "        \n",
    "    for lag in range(1, max_lag + 1):\n",
    "        data_work['lag_{}'.format(lag)] = data_work['num_orders'].shift(lag)\n",
    "\n",
    "    data_work['rolling_mean'] = data_work['num_orders'].shift().rolling(window = rolling_mean_size).mean()\n",
    "    return data_work\n",
    "\n",
    "data_work = make_features(data, 24, 10)\n",
    "data_work.head()"
   ]
  },
  {
   "cell_type": "markdown",
   "id": "5114dacb",
   "metadata": {},
   "source": [
    "#### Разделение данных на выборки."
   ]
  },
  {
   "cell_type": "code",
   "execution_count": 16,
   "id": "7d2b208b",
   "metadata": {},
   "outputs": [
    {
     "name": "stdout",
     "output_type": "stream",
     "text": [
      "2018-03-02 00:00:00 2018-08-13 13:00:00\n",
      "2018-08-13 14:00:00 2018-08-31 23:00:00\n"
     ]
    }
   ],
   "source": [
    "# Разобьем данные на обучающую и тестовую выборки.\n",
    "train, test = train_test_split(data_work, shuffle=False, test_size=0.1)\n",
    "train = train.dropna()\n",
    "print(train.index.min(), train.index.max())\n",
    "print(test.index.min(), test.index.max())"
   ]
  },
  {
   "cell_type": "code",
   "execution_count": 17,
   "id": "6413a090",
   "metadata": {},
   "outputs": [],
   "source": [
    "# В качестве целевого признака выбираем 'num_orders'.\n",
    "\n",
    "features_train = train.drop(['num_orders'], axis=1)\n",
    "target_train = train['num_orders']\n",
    "features_test = test.drop(['num_orders'], axis=1)\n",
    "target_test = test['num_orders']"
   ]
  },
  {
   "cell_type": "code",
   "execution_count": 18,
   "id": "87fc4a4f",
   "metadata": {},
   "outputs": [],
   "source": [
    "# Масштабируем числовые значения признаков в обучающей и тестовой выборках.\n",
    "scaler = StandardScaler()\n",
    "features_train = scaler.fit_transform(features_train)\n",
    "features_test = scaler.transform(features_test)"
   ]
  },
  {
   "cell_type": "markdown",
   "id": "c2f9c1f5",
   "metadata": {},
   "source": [
    "#### Модель LinearRegression."
   ]
  },
  {
   "cell_type": "code",
   "execution_count": 19,
   "id": "bee18992",
   "metadata": {},
   "outputs": [
    {
     "name": "stdout",
     "output_type": "stream",
     "text": [
      "Среднее значение RMSE модели LinearRegression на кросс-валидации: 27.735811161647835\n",
      "Wall time: 171 ms\n"
     ]
    }
   ],
   "source": [
    "%%time\n",
    "\n",
    "# Для кросс-валидации временных рядов используем TimeSeriesSplit.\n",
    "my_cv = TimeSeriesSplit(n_splits=3).split(features_train)\n",
    "\n",
    "model_lr_cv = LinearRegression()\n",
    "\n",
    "nrmse = cross_val_score(model_lr_cv,\n",
    "                        features_train,\n",
    "                        target_train,\n",
    "                        scoring='neg_root_mean_squared_error',\n",
    "                        cv=my_cv\n",
    "                       )                               \n",
    "\n",
    "print('Среднее значение RMSE модели LinearRegression на кросс-валидации:', nrmse.mean()*(-1))"
   ]
  },
  {
   "cell_type": "markdown",
   "id": "8682b51a",
   "metadata": {},
   "source": [
    "#### Модель RandomForestRegressor."
   ]
  },
  {
   "cell_type": "code",
   "execution_count": 20,
   "id": "a12eb51a",
   "metadata": {},
   "outputs": [],
   "source": [
    "# Подберем гиперпараметры для модели RandomForestRegressor.\n",
    "my_cv = TimeSeriesSplit(n_splits=3).split(features_train)\n",
    "\n",
    "parameters = {'n_estimators': range(5, 21, 5),\n",
    "              'max_depth': range(1, 20, 3), \n",
    "              'min_samples_leaf': range(1, 5, 2), \n",
    "              'min_samples_split': range(2, 8, 2)}\n",
    "\n",
    "model_forest = RandomForestRegressor(random_state=RANDOM_STATE)\n",
    "\n",
    "model_forest_cv = RandomizedSearchCV(model_forest,\n",
    "                                     parameters,\n",
    "                                     cv=my_cv,\n",
    "                                     n_jobs=-1,\n",
    "                                     scoring='neg_root_mean_squared_error'\n",
    "                                    )"
   ]
  },
  {
   "cell_type": "code",
   "execution_count": 21,
   "id": "b3fc7a14",
   "metadata": {},
   "outputs": [
    {
     "name": "stdout",
     "output_type": "stream",
     "text": [
      "Значение метрики RMSE модели RandomForestRegressor: 28.041813594651558\n",
      "Wall time: 9.22 s\n"
     ]
    }
   ],
   "source": [
    "%%time\n",
    "\n",
    "# Обучение модели. \n",
    "model_forest_cv.fit(features_train, target_train)\n",
    "print('Значение метрики RMSE модели RandomForestRegressor:', -model_forest_cv.best_score_)"
   ]
  },
  {
   "cell_type": "markdown",
   "id": "79e6aac7",
   "metadata": {},
   "source": [
    "#### Модель CatBoostRegressor."
   ]
  },
  {
   "cell_type": "code",
   "execution_count": 22,
   "id": "e353326b",
   "metadata": {},
   "outputs": [],
   "source": [
    "# Подберем гиперпараметры для модели CatBoostRegressor.\n",
    "my_cv = TimeSeriesSplit(n_splits=3).split(features_train)\n",
    "\n",
    "cbr = CatBoostRegressor(loss_function='RMSE', silent=True, random_state=RANDOM_STATE)\n",
    "\n",
    "cbr_params = {'learning_rate': arange(.1, 1, .1),\n",
    "              'n_estimators': range(50, 401, 50),\n",
    "              'depth': range(1, 10, 2),\n",
    "             }\n",
    "\n",
    "grid_cbr = RandomizedSearchCV(cbr,\n",
    "                              cbr_params,\n",
    "                              cv=my_cv,\n",
    "                              n_jobs=-1,\n",
    "                              scoring='neg_root_mean_squared_error'\n",
    "                             )"
   ]
  },
  {
   "cell_type": "code",
   "execution_count": 23,
   "id": "43234a60",
   "metadata": {},
   "outputs": [
    {
     "name": "stdout",
     "output_type": "stream",
     "text": [
      "Значение метрики RMSE модели CatBoostRegressor: 26.98867921685772\n",
      "Wall time: 50.3 s\n"
     ]
    }
   ],
   "source": [
    "%%time\n",
    "# Обучение модели.\n",
    "grid_cbr.fit(features_train, target_train)\n",
    "print('Значение метрики RMSE модели CatBoostRegressor:', -grid_cbr.best_score_)"
   ]
  },
  {
   "cell_type": "markdown",
   "id": "256a20d3",
   "metadata": {},
   "source": [
    "#### Модель LGBMRegressor."
   ]
  },
  {
   "cell_type": "code",
   "execution_count": 24,
   "id": "ae165efb",
   "metadata": {},
   "outputs": [],
   "source": [
    "# Подберем гиперпараметры для модели LGBMRegressor.\n",
    "my_cv = TimeSeriesSplit(n_splits=3).split(features_train)\n",
    "\n",
    "lgbmr = LGBMRegressor(silent=True,\n",
    "                      force_row_wise=True,\n",
    "                      random_state=RANDOM_STATE\n",
    "                     )\n",
    "\n",
    "lgbmr_params = {'learning_rate': arange(.1, 1, .1),\n",
    "                'n_estimators': range(50, 401, 50),\n",
    "                'max_depth': range(1, 10, 2),\n",
    "               }\n",
    "\n",
    "grid_lgbmr = RandomizedSearchCV(lgbmr,\n",
    "                                lgbmr_params,\n",
    "                                cv=my_cv,\n",
    "                                n_jobs=-1,\n",
    "                                scoring='neg_root_mean_squared_error'\n",
    "                               )"
   ]
  },
  {
   "cell_type": "code",
   "execution_count": 25,
   "id": "2327a145",
   "metadata": {},
   "outputs": [
    {
     "name": "stdout",
     "output_type": "stream",
     "text": [
      "[LightGBM] [Warning] Unknown parameter: silent\n",
      "[LightGBM] [Warning] Unknown parameter: silent\n",
      "[LightGBM] [Info] Total Bins 4845\n",
      "[LightGBM] [Info] Number of data points in the train set: 3950, number of used features: 27\n",
      "[LightGBM] [Info] Start training from score 78.421013\n",
      "[LightGBM] [Warning] No further splits with positive gain, best gain: -inf\n",
      "[LightGBM] [Warning] No further splits with positive gain, best gain: -inf\n",
      "[LightGBM] [Warning] No further splits with positive gain, best gain: -inf\n",
      "[LightGBM] [Warning] No further splits with positive gain, best gain: -inf\n",
      "[LightGBM] [Warning] No further splits with positive gain, best gain: -inf\n",
      "[LightGBM] [Warning] No further splits with positive gain, best gain: -inf\n",
      "[LightGBM] [Warning] No further splits with positive gain, best gain: -inf\n",
      "[LightGBM] [Warning] No further splits with positive gain, best gain: -inf\n",
      "[LightGBM] [Warning] No further splits with positive gain, best gain: -inf\n",
      "[LightGBM] [Warning] No further splits with positive gain, best gain: -inf\n",
      "[LightGBM] [Warning] No further splits with positive gain, best gain: -inf\n",
      "[LightGBM] [Warning] No further splits with positive gain, best gain: -inf\n",
      "[LightGBM] [Warning] No further splits with positive gain, best gain: -inf\n",
      "[LightGBM] [Warning] No further splits with positive gain, best gain: -inf\n",
      "[LightGBM] [Warning] No further splits with positive gain, best gain: -inf\n",
      "[LightGBM] [Warning] No further splits with positive gain, best gain: -inf\n",
      "[LightGBM] [Warning] No further splits with positive gain, best gain: -inf\n",
      "[LightGBM] [Warning] No further splits with positive gain, best gain: -inf\n",
      "[LightGBM] [Warning] No further splits with positive gain, best gain: -inf\n",
      "[LightGBM] [Warning] No further splits with positive gain, best gain: -inf\n",
      "[LightGBM] [Warning] No further splits with positive gain, best gain: -inf\n",
      "[LightGBM] [Warning] No further splits with positive gain, best gain: -inf\n",
      "[LightGBM] [Warning] No further splits with positive gain, best gain: -inf\n",
      "[LightGBM] [Warning] No further splits with positive gain, best gain: -inf\n",
      "[LightGBM] [Warning] No further splits with positive gain, best gain: -inf\n",
      "[LightGBM] [Warning] No further splits with positive gain, best gain: -inf\n",
      "[LightGBM] [Warning] No further splits with positive gain, best gain: -inf\n",
      "[LightGBM] [Warning] No further splits with positive gain, best gain: -inf\n",
      "[LightGBM] [Warning] No further splits with positive gain, best gain: -inf\n",
      "[LightGBM] [Warning] No further splits with positive gain, best gain: -inf\n",
      "[LightGBM] [Warning] No further splits with positive gain, best gain: -inf\n",
      "[LightGBM] [Warning] No further splits with positive gain, best gain: -inf\n",
      "[LightGBM] [Warning] No further splits with positive gain, best gain: -inf\n",
      "[LightGBM] [Warning] No further splits with positive gain, best gain: -inf\n",
      "[LightGBM] [Warning] No further splits with positive gain, best gain: -inf\n",
      "[LightGBM] [Warning] No further splits with positive gain, best gain: -inf\n",
      "[LightGBM] [Warning] No further splits with positive gain, best gain: -inf\n",
      "[LightGBM] [Warning] No further splits with positive gain, best gain: -inf\n",
      "[LightGBM] [Warning] No further splits with positive gain, best gain: -inf\n",
      "[LightGBM] [Warning] No further splits with positive gain, best gain: -inf\n",
      "[LightGBM] [Warning] No further splits with positive gain, best gain: -inf\n",
      "[LightGBM] [Warning] No further splits with positive gain, best gain: -inf\n",
      "[LightGBM] [Warning] No further splits with positive gain, best gain: -inf\n",
      "[LightGBM] [Warning] No further splits with positive gain, best gain: -inf\n",
      "[LightGBM] [Warning] No further splits with positive gain, best gain: -inf\n",
      "[LightGBM] [Warning] No further splits with positive gain, best gain: -inf\n",
      "[LightGBM] [Warning] No further splits with positive gain, best gain: -inf\n",
      "[LightGBM] [Warning] No further splits with positive gain, best gain: -inf\n",
      "[LightGBM] [Warning] No further splits with positive gain, best gain: -inf\n",
      "[LightGBM] [Warning] No further splits with positive gain, best gain: -inf\n",
      "[LightGBM] [Warning] No further splits with positive gain, best gain: -inf\n",
      "[LightGBM] [Warning] No further splits with positive gain, best gain: -inf\n",
      "[LightGBM] [Warning] No further splits with positive gain, best gain: -inf\n",
      "[LightGBM] [Warning] No further splits with positive gain, best gain: -inf\n",
      "[LightGBM] [Warning] No further splits with positive gain, best gain: -inf\n",
      "[LightGBM] [Warning] No further splits with positive gain, best gain: -inf\n",
      "[LightGBM] [Warning] No further splits with positive gain, best gain: -inf\n",
      "[LightGBM] [Warning] No further splits with positive gain, best gain: -inf\n",
      "[LightGBM] [Warning] No further splits with positive gain, best gain: -inf\n",
      "[LightGBM] [Warning] No further splits with positive gain, best gain: -inf\n",
      "[LightGBM] [Warning] No further splits with positive gain, best gain: -inf\n",
      "[LightGBM] [Warning] No further splits with positive gain, best gain: -inf\n",
      "[LightGBM] [Warning] No further splits with positive gain, best gain: -inf\n",
      "[LightGBM] [Warning] No further splits with positive gain, best gain: -inf\n",
      "[LightGBM] [Warning] No further splits with positive gain, best gain: -inf\n",
      "[LightGBM] [Warning] No further splits with positive gain, best gain: -inf\n",
      "[LightGBM] [Warning] No further splits with positive gain, best gain: -inf\n",
      "[LightGBM] [Warning] No further splits with positive gain, best gain: -inf\n",
      "[LightGBM] [Warning] No further splits with positive gain, best gain: -inf\n",
      "[LightGBM] [Warning] No further splits with positive gain, best gain: -inf\n",
      "[LightGBM] [Warning] No further splits with positive gain, best gain: -inf\n",
      "[LightGBM] [Warning] No further splits with positive gain, best gain: -inf\n",
      "[LightGBM] [Warning] No further splits with positive gain, best gain: -inf\n",
      "[LightGBM] [Warning] No further splits with positive gain, best gain: -inf\n",
      "[LightGBM] [Warning] No further splits with positive gain, best gain: -inf\n",
      "[LightGBM] [Warning] No further splits with positive gain, best gain: -inf\n",
      "[LightGBM] [Warning] No further splits with positive gain, best gain: -inf\n",
      "[LightGBM] [Warning] No further splits with positive gain, best gain: -inf\n",
      "[LightGBM] [Warning] No further splits with positive gain, best gain: -inf\n",
      "[LightGBM] [Warning] No further splits with positive gain, best gain: -inf\n",
      "[LightGBM] [Warning] No further splits with positive gain, best gain: -inf\n",
      "[LightGBM] [Warning] No further splits with positive gain, best gain: -inf\n",
      "[LightGBM] [Warning] No further splits with positive gain, best gain: -inf\n",
      "[LightGBM] [Warning] No further splits with positive gain, best gain: -inf\n",
      "[LightGBM] [Warning] No further splits with positive gain, best gain: -inf\n",
      "[LightGBM] [Warning] No further splits with positive gain, best gain: -inf\n",
      "[LightGBM] [Warning] No further splits with positive gain, best gain: -inf\n",
      "[LightGBM] [Warning] No further splits with positive gain, best gain: -inf\n",
      "[LightGBM] [Warning] No further splits with positive gain, best gain: -inf\n",
      "[LightGBM] [Warning] No further splits with positive gain, best gain: -inf\n",
      "[LightGBM] [Warning] No further splits with positive gain, best gain: -inf\n",
      "[LightGBM] [Warning] No further splits with positive gain, best gain: -inf\n",
      "[LightGBM] [Warning] No further splits with positive gain, best gain: -inf\n",
      "[LightGBM] [Warning] No further splits with positive gain, best gain: -inf\n",
      "[LightGBM] [Warning] No further splits with positive gain, best gain: -inf\n",
      "[LightGBM] [Warning] No further splits with positive gain, best gain: -inf\n",
      "[LightGBM] [Warning] No further splits with positive gain, best gain: -inf\n",
      "[LightGBM] [Warning] No further splits with positive gain, best gain: -inf\n",
      "[LightGBM] [Warning] No further splits with positive gain, best gain: -inf\n",
      "[LightGBM] [Warning] No further splits with positive gain, best gain: -inf\n",
      "[LightGBM] [Warning] No further splits with positive gain, best gain: -inf\n",
      "[LightGBM] [Warning] No further splits with positive gain, best gain: -inf\n",
      "[LightGBM] [Warning] No further splits with positive gain, best gain: -inf\n",
      "Значение метрики RMSE модели LGBMRegressor: 27.19259588727199\n",
      "Wall time: 7.37 s\n"
     ]
    }
   ],
   "source": [
    "%%time\n",
    "# Обучение модели\n",
    "grid_lgbmr.fit(features_train, target_train)\n",
    "print('Значение метрики RMSE модели LGBMRegressor:', -grid_lgbmr.best_score_)"
   ]
  },
  {
   "cell_type": "markdown",
   "id": "a0180d46",
   "metadata": {},
   "source": [
    " <div class=\"alert alert-info\"><b>Промежуточные выводы:</b>   \n",
    "    \n",
    "По результатам сравнения качества моделей минимальное значение RMSE у модели CatBoostRegressor (grid_cbr), ее и будем проверять на тестовой выборке.\n",
    "\n",
    "</div>"
   ]
  },
  {
   "cell_type": "markdown",
   "id": "3df169c6",
   "metadata": {},
   "source": [
    "***"
   ]
  },
  {
   "cell_type": "markdown",
   "id": "820ee00c",
   "metadata": {},
   "source": [
    "### Проверка качества лучшей модели на тестовой выборке."
   ]
  },
  {
   "cell_type": "code",
   "execution_count": 26,
   "id": "e1b7692c",
   "metadata": {},
   "outputs": [
    {
     "name": "stdout",
     "output_type": "stream",
     "text": [
      "Значение метрики RMSE выбранной модели CatBoostRegressor: 42.33567415853422\n",
      "Wall time: 4.99 ms\n"
     ]
    }
   ],
   "source": [
    "%%time\n",
    "# Проверим качество выбранной модели CatBoostRegressor на тестовой выборке.\n",
    "target_predict_test = grid_cbr.predict(features_test)\n",
    "rmse_test = mean_squared_error(target_test, target_predict_test, squared=False)\n",
    "print('Значение метрики RMSE выбранной модели CatBoostRegressor:', rmse_test)"
   ]
  },
  {
   "cell_type": "markdown",
   "id": "50ff8f97",
   "metadata": {},
   "source": [
    " <div class=\"alert alert-info\"><b>Комментарий:</b>\n",
    "   \n",
    "Значение метрики RMSE выбранной модели CatBoostRegressor: 42.33567415853422, что соответствует условию задачи (значение метрики RMSE на тестовой выборке должно быть не больше 48).\n",
    "    \n",
    "</div>"
   ]
  },
  {
   "cell_type": "markdown",
   "id": "921f0ded",
   "metadata": {},
   "source": [
    "#### Проверка модели на вменяемость."
   ]
  },
  {
   "cell_type": "code",
   "execution_count": 27,
   "id": "0d583704",
   "metadata": {},
   "outputs": [
    {
     "name": "stdout",
     "output_type": "stream",
     "text": [
      "Значение метрики RMSE модели DummyRegressor: 84.6499381993622\n",
      "Wall time: 995 µs\n"
     ]
    }
   ],
   "source": [
    "%%time\n",
    "\n",
    "# Используем DummyRegressor.\n",
    "# Обучим модель DummyRegressor на обучающей выборке с кодированием OHE. Предскажем на тестовой выборке.\n",
    "\n",
    "model_dummy = DummyRegressor()\n",
    "model_dummy.fit(features_train, target_train)\n",
    "dummy_predict = model_dummy.predict(features_test)\n",
    "print(f'Значение метрики RMSE модели DummyRegressor: {mean_squared_error(target_test, dummy_predict, squared=False)}')"
   ]
  },
  {
   "cell_type": "markdown",
   "id": "eb077ce0",
   "metadata": {},
   "source": [
    " <div class=\"alert alert-info\"><b>Комментарий:</b>\n",
    "   \n",
    "Значение метрики RMSE выбранной модели CatBoostRegressor: 42.33567415853422.   \n",
    "Значение метрики RMSE модели DummyRegressor: 84.6499381993622.    \n",
    "Выбранная нами модель CatBoostRegressor показывает результат лучше случайного, модель может применяться.\n",
    "    \n",
    "</div>"
   ]
  },
  {
   "cell_type": "code",
   "execution_count": 28,
   "id": "7bc09154",
   "metadata": {},
   "outputs": [
    {
     "data": {
      "image/png": "[encoded data removed]",
      "text/plain": [
       "<Figure size 1800x600 with 1 Axes>"
      ]
     },
     "metadata": {},
     "output_type": "display_data"
    },
    {
     "data": {
      "image/png": "[encoded data removed]",
      "text/plain": [
       "<Figure size 1800x600 with 1 Axes>"
      ]
     },
     "metadata": {},
     "output_type": "display_data"
    }
   ],
   "source": [
    "# Визуализируем графики исходного и предсказанных моделью CatBoostRegressor рядов.\n",
    "\n",
    "def data_plot(predictions):\n",
    "    model_data = pd.DataFrame({\"target\":target_test, \"predict\":predictions})\n",
    "    model_data.plot(figsize=(18, 6))\n",
    "    plt.title('Сравнение за весь период в тестовой выборке', size=13)\n",
    "    plt.xlabel(\"Даты\", size=11)\n",
    "    model_data['2018-08-13':'2018-08-14'].plot(figsize=(18, 6))\n",
    "    plt.title('Сравнение за сутки в тестовой выборке', size=13)\n",
    "    plt.xlabel(\"Даты и время\", size=11)\n",
    "\n",
    "data_plot(target_predict_test)"
   ]
  },
  {
   "cell_type": "markdown",
   "id": "aa488c6b",
   "metadata": {},
   "source": [
    "***"
   ]
  },
  {
   "cell_type": "markdown",
   "id": "591fdf20",
   "metadata": {},
   "source": [
    " <div class=\"alert alert-info\"><h3>Общий вывод по исследованию:</h3>\n",
    "    \n",
    "1. Согласно условия задачи на основании имеющихся данных о заказах такси в аэропортах необходимо было построить модель, которая умеет предсказывать количество заказов такси на следующий час. При этом качество модели необходимо оценить, используя метрику RMSE (значение метрики RMSE на тестовой выборке должно быть не больше 48).\n",
    "\n",
    "2. В ходе исследования мною было проведено сравнение моделей ML: LinearRegression, RandomForestRegressor, LGBMRegressor, CatBoostRegressor с подбором гиперпараметров для минимизация значения метрики RMSE.\n",
    "    \n",
    "3. Проведя анализ необходимых критериев, в качестве лучшей я выбрал модель CatBoostRegressor, которую проверил на тестовой выборке. Значение метрики RMSE выбранной модели CatBoostRegressor: 42.33567415853422 (значение метрики RMSE на тестовой выборке должно быть не больше 48).\n",
    "    \n",
    "4. Также была проведена проверка модели CatBoostRegressor на вменяемость, по итогам которой модель CatBoostRegressor показала результат лучше случайного, модель может применяться.\n",
    "\n",
    "</div>"
   ]
  }
 ],
 "metadata": {
  "ExecuteTimeLog": [
   {
    "duration": 2048,
    "start_time": "2023-03-16T08:17:23.652Z"
   },
   {
    "duration": 335,
    "start_time": "2023-03-16T08:17:25.707Z"
   },
   {
    "duration": 5,
    "start_time": "2023-03-16T08:17:26.044Z"
   },
   {
    "duration": 25,
    "start_time": "2023-03-16T08:17:26.051Z"
   },
   {
    "duration": 12,
    "start_time": "2023-03-16T08:17:26.083Z"
   },
   {
    "duration": 25,
    "start_time": "2023-03-16T08:17:26.097Z"
   },
   {
    "duration": 9,
    "start_time": "2023-03-16T08:17:26.129Z"
   },
   {
    "duration": 4261,
    "start_time": "2023-03-16T08:17:26.147Z"
   },
   {
    "duration": 19,
    "start_time": "2023-03-16T08:17:30.415Z"
   },
   {
    "duration": 5549,
    "start_time": "2023-03-16T08:17:30.441Z"
   },
   {
    "duration": 24,
    "start_time": "2023-03-16T08:17:35.992Z"
   },
   {
    "duration": 9,
    "start_time": "2023-03-16T08:17:36.018Z"
   },
   {
    "duration": 392,
    "start_time": "2023-03-16T08:17:36.037Z"
   },
   {
    "duration": 35,
    "start_time": "2023-03-16T08:17:36.431Z"
   },
   {
    "duration": 14,
    "start_time": "2023-03-16T08:17:36.477Z"
   },
   {
    "duration": 39,
    "start_time": "2023-03-16T08:17:36.499Z"
   },
   {
    "duration": 13,
    "start_time": "2023-03-16T08:17:36.541Z"
   },
   {
    "duration": 1070,
    "start_time": "2023-03-16T09:51:27.681Z"
   },
   {
    "duration": 1244,
    "start_time": "2023-03-16T09:51:37.328Z"
   },
   {
    "duration": 126,
    "start_time": "2023-03-16T09:51:38.574Z"
   },
   {
    "duration": 4,
    "start_time": "2023-03-16T09:51:38.702Z"
   },
   {
    "duration": 8,
    "start_time": "2023-03-16T09:51:38.707Z"
   },
   {
    "duration": 3,
    "start_time": "2023-03-16T09:51:38.717Z"
   },
   {
    "duration": 9,
    "start_time": "2023-03-16T09:51:38.721Z"
   },
   {
    "duration": 14,
    "start_time": "2023-03-16T09:51:38.731Z"
   },
   {
    "duration": 3159,
    "start_time": "2023-03-16T09:51:38.747Z"
   },
   {
    "duration": 5,
    "start_time": "2023-03-16T09:51:41.908Z"
   },
   {
    "duration": 4158,
    "start_time": "2023-03-16T09:51:41.915Z"
   },
   {
    "duration": 17,
    "start_time": "2023-03-16T09:51:46.075Z"
   },
   {
    "duration": 3,
    "start_time": "2023-03-16T09:51:46.094Z"
   },
   {
    "duration": 284,
    "start_time": "2023-03-16T09:51:46.099Z"
   },
   {
    "duration": 7,
    "start_time": "2023-03-16T09:51:46.390Z"
   },
   {
    "duration": 9,
    "start_time": "2023-03-16T09:51:46.399Z"
   },
   {
    "duration": 9,
    "start_time": "2023-03-16T09:51:46.410Z"
   },
   {
    "duration": 5,
    "start_time": "2023-03-16T09:51:46.421Z"
   },
   {
    "duration": 139,
    "start_time": "2023-03-16T09:51:46.428Z"
   },
   {
    "duration": 53,
    "start_time": "2023-03-16T15:44:20.981Z"
   },
   {
    "duration": 1166,
    "start_time": "2023-03-16T15:44:29.259Z"
   },
   {
    "duration": 129,
    "start_time": "2023-03-16T15:44:30.428Z"
   },
   {
    "duration": 4,
    "start_time": "2023-03-16T15:44:33.946Z"
   },
   {
    "duration": 9,
    "start_time": "2023-03-16T15:44:34.772Z"
   },
   {
    "duration": 12,
    "start_time": "2023-03-16T15:44:39.324Z"
   },
   {
    "duration": 12,
    "start_time": "2023-03-16T15:44:44.234Z"
   },
   {
    "duration": 13,
    "start_time": "2023-03-16T15:44:49.289Z"
   },
   {
    "duration": 10,
    "start_time": "2023-03-16T15:45:28.171Z"
   },
   {
    "duration": 8,
    "start_time": "2023-03-16T15:47:09.369Z"
   },
   {
    "duration": 9,
    "start_time": "2023-03-16T15:47:41.833Z"
   },
   {
    "duration": 37,
    "start_time": "2023-03-16T15:48:32.207Z"
   },
   {
    "duration": 3,
    "start_time": "2023-03-16T15:49:39.384Z"
   },
   {
    "duration": 4,
    "start_time": "2023-03-16T15:49:44.669Z"
   },
   {
    "duration": 3,
    "start_time": "2023-03-16T15:49:51.350Z"
   },
   {
    "duration": 6,
    "start_time": "2023-03-16T16:00:09.003Z"
   },
   {
    "duration": 7,
    "start_time": "2023-03-16T16:01:51.187Z"
   },
   {
    "duration": 575,
    "start_time": "2023-03-16T16:02:42.937Z"
   },
   {
    "duration": 116,
    "start_time": "2023-03-16T16:02:59.993Z"
   },
   {
    "duration": 138,
    "start_time": "2023-03-16T16:03:06.625Z"
   },
   {
    "duration": 117,
    "start_time": "2023-03-16T16:03:09.721Z"
   },
   {
    "duration": 130,
    "start_time": "2023-03-16T16:03:15.071Z"
   },
   {
    "duration": 225,
    "start_time": "2023-03-16T16:03:18.241Z"
   },
   {
    "duration": 194,
    "start_time": "2023-03-16T16:03:28.000Z"
   },
   {
    "duration": 177,
    "start_time": "2023-03-16T16:03:37.898Z"
   },
   {
    "duration": 11,
    "start_time": "2023-03-16T16:04:42.218Z"
   },
   {
    "duration": 12,
    "start_time": "2023-03-16T16:04:53.815Z"
   },
   {
    "duration": 100,
    "start_time": "2023-03-16T16:05:52.230Z"
   },
   {
    "duration": 117,
    "start_time": "2023-03-16T16:05:57.814Z"
   },
   {
    "duration": 145,
    "start_time": "2023-03-16T16:06:02.713Z"
   },
   {
    "duration": 108,
    "start_time": "2023-03-16T16:06:08.863Z"
   },
   {
    "duration": 108,
    "start_time": "2023-03-16T16:06:11.838Z"
   },
   {
    "duration": 12,
    "start_time": "2023-03-16T16:11:01.713Z"
   },
   {
    "duration": 260,
    "start_time": "2023-03-16T16:11:16.697Z"
   },
   {
    "duration": 187,
    "start_time": "2023-03-16T16:11:23.065Z"
   },
   {
    "duration": 252,
    "start_time": "2023-03-16T16:11:31.753Z"
   },
   {
    "duration": 153,
    "start_time": "2023-03-16T16:11:42.072Z"
   },
   {
    "duration": 172,
    "start_time": "2023-03-16T16:11:56.562Z"
   },
   {
    "duration": 120,
    "start_time": "2023-03-16T16:12:18.480Z"
   },
   {
    "duration": 161,
    "start_time": "2023-03-16T16:12:25.984Z"
   },
   {
    "duration": 126,
    "start_time": "2023-03-16T16:12:35.696Z"
   },
   {
    "duration": 110,
    "start_time": "2023-03-16T16:12:44.384Z"
   },
   {
    "duration": 154,
    "start_time": "2023-03-16T16:12:51.087Z"
   },
   {
    "duration": 145,
    "start_time": "2023-03-16T16:14:15.606Z"
   },
   {
    "duration": 134,
    "start_time": "2023-03-16T16:14:22.215Z"
   },
   {
    "duration": 150,
    "start_time": "2023-03-16T16:14:31.934Z"
   },
   {
    "duration": 117,
    "start_time": "2023-03-16T16:15:59.325Z"
   },
   {
    "duration": 120,
    "start_time": "2023-03-16T16:16:02.708Z"
   },
   {
    "duration": 123,
    "start_time": "2023-03-16T16:16:08.556Z"
   },
   {
    "duration": 109,
    "start_time": "2023-03-16T16:16:13.298Z"
   },
   {
    "duration": 171,
    "start_time": "2023-03-16T16:16:24.077Z"
   },
   {
    "duration": 234,
    "start_time": "2023-03-16T16:16:28.644Z"
   },
   {
    "duration": 116,
    "start_time": "2023-03-16T16:16:33.644Z"
   },
   {
    "duration": 158,
    "start_time": "2023-03-16T16:18:36.186Z"
   },
   {
    "duration": 178,
    "start_time": "2023-03-16T16:20:28.161Z"
   },
   {
    "duration": 12,
    "start_time": "2023-03-16T16:25:07.380Z"
   },
   {
    "duration": 8,
    "start_time": "2023-03-16T16:25:23.148Z"
   },
   {
    "duration": 7,
    "start_time": "2023-03-16T16:25:29.723Z"
   },
   {
    "duration": 2872,
    "start_time": "2023-03-16T16:25:34.804Z"
   },
   {
    "duration": 6,
    "start_time": "2023-03-16T16:25:53.683Z"
   },
   {
    "duration": 3885,
    "start_time": "2023-03-16T16:26:27.346Z"
   },
   {
    "duration": 13,
    "start_time": "2023-03-16T16:26:36.179Z"
   },
   {
    "duration": 205,
    "start_time": "2023-03-16T16:26:41.659Z"
   },
   {
    "duration": 6,
    "start_time": "2023-03-16T16:26:46.819Z"
   },
   {
    "duration": 204,
    "start_time": "2023-03-16T16:26:50.930Z"
   },
   {
    "duration": 7,
    "start_time": "2023-03-16T16:27:05.058Z"
   },
   {
    "duration": 8,
    "start_time": "2023-03-16T16:28:02.185Z"
   },
   {
    "duration": 6,
    "start_time": "2023-03-16T16:31:24.271Z"
   },
   {
    "duration": 6,
    "start_time": "2023-03-16T16:31:34.892Z"
   },
   {
    "duration": 3,
    "start_time": "2023-03-16T16:31:42.533Z"
   },
   {
    "duration": 4,
    "start_time": "2023-03-16T16:31:51.592Z"
   },
   {
    "duration": 3,
    "start_time": "2023-03-16T16:32:00.646Z"
   },
   {
    "duration": 43,
    "start_time": "2023-03-16T16:37:23.344Z"
   },
   {
    "duration": 5,
    "start_time": "2023-03-16T16:37:27.656Z"
   },
   {
    "duration": 8,
    "start_time": "2023-03-16T16:37:30.008Z"
   },
   {
    "duration": 4,
    "start_time": "2023-03-16T16:56:56.998Z"
   },
   {
    "duration": 64,
    "start_time": "2023-03-16T16:56:58.423Z"
   },
   {
    "duration": 17,
    "start_time": "2023-03-16T16:57:00.445Z"
   },
   {
    "duration": 14,
    "start_time": "2023-03-16T16:57:01.862Z"
   },
   {
    "duration": 375,
    "start_time": "2023-03-16T16:57:09.820Z"
   },
   {
    "duration": 362,
    "start_time": "2023-03-16T16:58:39.988Z"
   },
   {
    "duration": 372,
    "start_time": "2023-03-16T16:58:48.283Z"
   },
   {
    "duration": 339,
    "start_time": "2023-03-16T17:04:57.790Z"
   },
   {
    "duration": 384,
    "start_time": "2023-03-16T17:05:41.846Z"
   },
   {
    "duration": 4,
    "start_time": "2023-03-16T17:08:08.955Z"
   },
   {
    "duration": 3,
    "start_time": "2023-03-16T17:08:28.452Z"
   },
   {
    "duration": 5,
    "start_time": "2023-03-16T17:08:29.459Z"
   },
   {
    "duration": 2920,
    "start_time": "2023-03-16T17:09:47.794Z"
   },
   {
    "duration": 2838,
    "start_time": "2023-03-16T17:10:31.449Z"
   },
   {
    "duration": 6,
    "start_time": "2023-03-16T17:10:58.008Z"
   },
   {
    "duration": 3988,
    "start_time": "2023-03-16T17:11:51.264Z"
   },
   {
    "duration": 198,
    "start_time": "2023-03-16T17:12:37.430Z"
   },
   {
    "duration": 14,
    "start_time": "2023-03-16T17:18:26.650Z"
   },
   {
    "duration": 11,
    "start_time": "2023-03-16T17:20:04.431Z"
   },
   {
    "duration": 3,
    "start_time": "2023-03-16T17:27:50.792Z"
   },
   {
    "duration": 2705,
    "start_time": "2023-03-16T17:28:04.232Z"
   },
   {
    "duration": 1414,
    "start_time": "2023-03-16T17:28:16.238Z"
   },
   {
    "duration": 65,
    "start_time": "2023-03-16T17:28:17.654Z"
   },
   {
    "duration": 13,
    "start_time": "2023-03-16T17:28:17.721Z"
   },
   {
    "duration": 7,
    "start_time": "2023-03-16T17:28:17.736Z"
   },
   {
    "duration": 8,
    "start_time": "2023-03-16T17:28:17.745Z"
   },
   {
    "duration": 392,
    "start_time": "2023-03-16T17:28:17.754Z"
   },
   {
    "duration": 35,
    "start_time": "2023-03-16T17:28:18.148Z"
   },
   {
    "duration": 811,
    "start_time": "2023-03-16T17:28:18.185Z"
   },
   {
    "duration": 0,
    "start_time": "2023-03-16T17:28:18.998Z"
   },
   {
    "duration": 0,
    "start_time": "2023-03-16T17:28:19.001Z"
   },
   {
    "duration": 0,
    "start_time": "2023-03-16T17:28:19.002Z"
   },
   {
    "duration": 0,
    "start_time": "2023-03-16T17:28:19.003Z"
   },
   {
    "duration": 0,
    "start_time": "2023-03-16T17:28:19.004Z"
   },
   {
    "duration": 0,
    "start_time": "2023-03-16T17:28:19.005Z"
   },
   {
    "duration": 0,
    "start_time": "2023-03-16T17:28:19.006Z"
   },
   {
    "duration": 0,
    "start_time": "2023-03-16T17:28:19.006Z"
   },
   {
    "duration": 0,
    "start_time": "2023-03-16T17:28:19.008Z"
   },
   {
    "duration": 0,
    "start_time": "2023-03-16T17:28:19.008Z"
   },
   {
    "duration": 0,
    "start_time": "2023-03-16T17:28:19.009Z"
   },
   {
    "duration": 0,
    "start_time": "2023-03-16T17:28:19.010Z"
   },
   {
    "duration": 0,
    "start_time": "2023-03-16T17:28:19.011Z"
   },
   {
    "duration": 0,
    "start_time": "2023-03-16T17:28:19.012Z"
   },
   {
    "duration": 0,
    "start_time": "2023-03-16T17:28:19.013Z"
   },
   {
    "duration": 0,
    "start_time": "2023-03-16T17:28:19.014Z"
   },
   {
    "duration": 114,
    "start_time": "2023-03-16T17:28:37.663Z"
   },
   {
    "duration": 7,
    "start_time": "2023-03-16T17:28:42.126Z"
   },
   {
    "duration": 7,
    "start_time": "2023-03-16T17:28:45.007Z"
   },
   {
    "duration": 5,
    "start_time": "2023-03-16T17:28:45.792Z"
   },
   {
    "duration": 3,
    "start_time": "2023-03-16T17:28:46.646Z"
   },
   {
    "duration": 3,
    "start_time": "2023-03-16T17:28:48.270Z"
   },
   {
    "duration": 4,
    "start_time": "2023-03-16T17:28:49.189Z"
   },
   {
    "duration": 17,
    "start_time": "2023-03-16T17:28:52.496Z"
   },
   {
    "duration": 1408,
    "start_time": "2023-03-16T17:29:09.191Z"
   },
   {
    "duration": 65,
    "start_time": "2023-03-16T17:29:10.601Z"
   },
   {
    "duration": 11,
    "start_time": "2023-03-16T17:29:10.667Z"
   },
   {
    "duration": 4,
    "start_time": "2023-03-16T17:29:10.680Z"
   },
   {
    "duration": 7,
    "start_time": "2023-03-16T17:29:10.685Z"
   },
   {
    "duration": 368,
    "start_time": "2023-03-16T17:29:10.694Z"
   },
   {
    "duration": 28,
    "start_time": "2023-03-16T17:29:11.064Z"
   },
   {
    "duration": 124,
    "start_time": "2023-03-16T17:29:11.093Z"
   },
   {
    "duration": 7,
    "start_time": "2023-03-16T17:29:11.219Z"
   },
   {
    "duration": 6,
    "start_time": "2023-03-16T17:29:11.229Z"
   },
   {
    "duration": 6,
    "start_time": "2023-03-16T17:29:11.237Z"
   },
   {
    "duration": 6,
    "start_time": "2023-03-16T17:29:11.244Z"
   },
   {
    "duration": 23,
    "start_time": "2023-03-16T17:29:11.252Z"
   },
   {
    "duration": 5,
    "start_time": "2023-03-16T17:29:11.277Z"
   },
   {
    "duration": 4,
    "start_time": "2023-03-16T17:29:11.284Z"
   },
   {
    "duration": 2698,
    "start_time": "2023-03-16T17:29:11.289Z"
   },
   {
    "duration": 3673,
    "start_time": "2023-03-16T17:29:13.989Z"
   },
   {
    "duration": 2,
    "start_time": "2023-03-16T17:29:17.664Z"
   },
   {
    "duration": 192,
    "start_time": "2023-03-16T17:29:17.676Z"
   },
   {
    "duration": 14,
    "start_time": "2023-03-16T17:29:17.870Z"
   },
   {
    "duration": 2,
    "start_time": "2023-03-16T17:29:17.886Z"
   },
   {
    "duration": 11,
    "start_time": "2023-03-16T17:29:17.889Z"
   },
   {
    "duration": 4,
    "start_time": "2023-03-16T17:29:17.901Z"
   },
   {
    "duration": 127,
    "start_time": "2023-03-16T17:29:17.906Z"
   },
   {
    "duration": 10,
    "start_time": "2023-03-16T17:29:40.086Z"
   },
   {
    "duration": 5,
    "start_time": "2023-03-16T17:29:42.620Z"
   },
   {
    "duration": 2657,
    "start_time": "2023-03-16T17:31:46.251Z"
   },
   {
    "duration": 3703,
    "start_time": "2023-03-16T17:31:51.588Z"
   },
   {
    "duration": 182,
    "start_time": "2023-03-16T17:31:59.988Z"
   },
   {
    "duration": 11,
    "start_time": "2023-03-16T17:32:07.780Z"
   },
   {
    "duration": 10,
    "start_time": "2023-03-16T17:33:21.899Z"
   },
   {
    "duration": 5,
    "start_time": "2023-03-16T17:33:23.121Z"
   },
   {
    "duration": 11,
    "start_time": "2023-03-16T17:33:23.769Z"
   },
   {
    "duration": 13,
    "start_time": "2023-03-16T17:42:00.401Z"
   },
   {
    "duration": 10,
    "start_time": "2023-03-16T17:42:22.601Z"
   },
   {
    "duration": 5,
    "start_time": "2023-03-16T17:42:31.249Z"
   },
   {
    "duration": 17,
    "start_time": "2023-03-16T17:42:44.193Z"
   },
   {
    "duration": 5,
    "start_time": "2023-03-16T17:43:37.392Z"
   },
   {
    "duration": 9,
    "start_time": "2023-03-16T17:43:42.007Z"
   },
   {
    "duration": 10,
    "start_time": "2023-03-16T17:43:48.063Z"
   },
   {
    "duration": 9,
    "start_time": "2023-03-16T17:43:53.063Z"
   },
   {
    "duration": 7,
    "start_time": "2023-03-16T17:44:57.120Z"
   },
   {
    "duration": 6,
    "start_time": "2023-03-16T17:45:03.335Z"
   },
   {
    "duration": 16,
    "start_time": "2023-03-16T17:45:59.110Z"
   },
   {
    "duration": 18,
    "start_time": "2023-03-16T17:49:07.913Z"
   },
   {
    "duration": 15,
    "start_time": "2023-03-16T17:49:22.689Z"
   },
   {
    "duration": 15,
    "start_time": "2023-03-16T17:49:43.434Z"
   },
   {
    "duration": 17,
    "start_time": "2023-03-16T17:50:13.416Z"
   },
   {
    "duration": 14,
    "start_time": "2023-03-16T17:50:25.593Z"
   },
   {
    "duration": 1450,
    "start_time": "2023-03-16T17:50:39.963Z"
   },
   {
    "duration": 72,
    "start_time": "2023-03-16T17:50:41.415Z"
   },
   {
    "duration": 13,
    "start_time": "2023-03-16T17:50:41.493Z"
   },
   {
    "duration": 7,
    "start_time": "2023-03-16T17:50:41.508Z"
   },
   {
    "duration": 8,
    "start_time": "2023-03-16T17:50:41.516Z"
   },
   {
    "duration": 421,
    "start_time": "2023-03-16T17:50:41.526Z"
   },
   {
    "duration": 34,
    "start_time": "2023-03-16T17:50:41.949Z"
   },
   {
    "duration": 118,
    "start_time": "2023-03-16T17:50:41.985Z"
   },
   {
    "duration": 8,
    "start_time": "2023-03-16T17:50:42.106Z"
   },
   {
    "duration": 22,
    "start_time": "2023-03-16T17:50:42.116Z"
   },
   {
    "duration": 7,
    "start_time": "2023-03-16T17:50:42.139Z"
   },
   {
    "duration": 13,
    "start_time": "2023-03-16T17:50:42.148Z"
   },
   {
    "duration": 6,
    "start_time": "2023-03-16T17:50:42.163Z"
   },
   {
    "duration": 12,
    "start_time": "2023-03-16T17:50:42.175Z"
   },
   {
    "duration": 5,
    "start_time": "2023-03-16T17:50:42.190Z"
   },
   {
    "duration": 2834,
    "start_time": "2023-03-16T17:50:42.196Z"
   },
   {
    "duration": 3785,
    "start_time": "2023-03-16T17:50:45.031Z"
   },
   {
    "duration": 2,
    "start_time": "2023-03-16T17:50:48.818Z"
   },
   {
    "duration": 203,
    "start_time": "2023-03-16T17:50:48.822Z"
   },
   {
    "duration": 12,
    "start_time": "2023-03-16T17:50:49.027Z"
   },
   {
    "duration": 9,
    "start_time": "2023-03-16T17:50:49.040Z"
   },
   {
    "duration": 28,
    "start_time": "2023-03-16T17:50:49.051Z"
   },
   {
    "duration": 11,
    "start_time": "2023-03-16T17:50:49.080Z"
   },
   {
    "duration": 122,
    "start_time": "2023-03-16T17:50:49.092Z"
   },
   {
    "duration": 13,
    "start_time": "2023-03-16T17:51:05.753Z"
   },
   {
    "duration": 5,
    "start_time": "2023-03-16T17:51:09.609Z"
   },
   {
    "duration": 24,
    "start_time": "2023-03-16T17:51:21.865Z"
   },
   {
    "duration": 17,
    "start_time": "2023-03-16T17:51:36.768Z"
   },
   {
    "duration": 15,
    "start_time": "2023-03-16T17:51:45.039Z"
   },
   {
    "duration": 17,
    "start_time": "2023-03-16T17:52:40.856Z"
   },
   {
    "duration": 15,
    "start_time": "2023-03-16T17:52:47.615Z"
   },
   {
    "duration": 23,
    "start_time": "2023-03-16T17:53:13.375Z"
   },
   {
    "duration": 15,
    "start_time": "2023-03-16T17:53:24.279Z"
   },
   {
    "duration": 14,
    "start_time": "2023-03-16T17:53:58.886Z"
   },
   {
    "duration": 6,
    "start_time": "2023-03-16T17:54:20.309Z"
   },
   {
    "duration": 11,
    "start_time": "2023-03-16T17:54:40.254Z"
   },
   {
    "duration": 9,
    "start_time": "2023-03-16T17:54:42.685Z"
   },
   {
    "duration": 12,
    "start_time": "2023-03-16T17:54:48.013Z"
   },
   {
    "duration": 8,
    "start_time": "2023-03-16T17:54:59.900Z"
   },
   {
    "duration": 12,
    "start_time": "2023-03-16T17:55:50.227Z"
   },
   {
    "duration": 9,
    "start_time": "2023-03-16T17:56:12.323Z"
   },
   {
    "duration": 12,
    "start_time": "2023-03-16T17:56:35.324Z"
   },
   {
    "duration": 10,
    "start_time": "2023-03-16T18:17:51.928Z"
   },
   {
    "duration": 117,
    "start_time": "2023-03-16T18:19:43.037Z"
   },
   {
    "duration": 241,
    "start_time": "2023-03-16T18:19:54.022Z"
   },
   {
    "duration": 243,
    "start_time": "2023-03-16T18:24:48.055Z"
   },
   {
    "duration": 169,
    "start_time": "2023-03-16T18:34:21.240Z"
   },
   {
    "duration": 55,
    "start_time": "2023-03-17T06:55:12.664Z"
   },
   {
    "duration": 1769,
    "start_time": "2023-03-17T06:55:18.506Z"
   },
   {
    "duration": 188,
    "start_time": "2023-03-17T06:55:20.277Z"
   },
   {
    "duration": 15,
    "start_time": "2023-03-17T06:55:20.467Z"
   },
   {
    "duration": 25,
    "start_time": "2023-03-17T06:55:20.486Z"
   },
   {
    "duration": 12,
    "start_time": "2023-03-17T06:55:20.513Z"
   },
   {
    "duration": 501,
    "start_time": "2023-03-17T06:55:20.527Z"
   },
   {
    "duration": 25,
    "start_time": "2023-03-17T06:55:21.030Z"
   },
   {
    "duration": 134,
    "start_time": "2023-03-17T06:55:21.057Z"
   },
   {
    "duration": 9,
    "start_time": "2023-03-17T06:55:21.193Z"
   },
   {
    "duration": 11,
    "start_time": "2023-03-17T06:55:21.206Z"
   },
   {
    "duration": 9,
    "start_time": "2023-03-17T06:55:21.219Z"
   },
   {
    "duration": 12,
    "start_time": "2023-03-17T06:55:21.230Z"
   },
   {
    "duration": 31,
    "start_time": "2023-03-17T06:55:21.244Z"
   },
   {
    "duration": 18,
    "start_time": "2023-03-17T06:55:21.278Z"
   },
   {
    "duration": 7,
    "start_time": "2023-03-17T06:55:21.298Z"
   },
   {
    "duration": 3088,
    "start_time": "2023-03-17T06:55:21.307Z"
   },
   {
    "duration": 4221,
    "start_time": "2023-03-17T06:55:24.397Z"
   },
   {
    "duration": 4,
    "start_time": "2023-03-17T06:55:28.620Z"
   },
   {
    "duration": 238,
    "start_time": "2023-03-17T06:55:28.626Z"
   },
   {
    "duration": 20,
    "start_time": "2023-03-17T06:55:28.866Z"
   },
   {
    "duration": 20,
    "start_time": "2023-03-17T06:55:28.888Z"
   },
   {
    "duration": 32,
    "start_time": "2023-03-17T06:55:28.911Z"
   },
   {
    "duration": 30,
    "start_time": "2023-03-17T06:55:28.945Z"
   },
   {
    "duration": 358,
    "start_time": "2023-03-17T06:55:28.979Z"
   },
   {
    "duration": 15,
    "start_time": "2023-03-17T06:57:49.331Z"
   },
   {
    "duration": 6,
    "start_time": "2023-03-17T06:57:50.372Z"
   },
   {
    "duration": 3320,
    "start_time": "2023-04-05T08:47:46.228Z"
   },
   {
    "duration": 233,
    "start_time": "2023-04-05T08:47:49.551Z"
   },
   {
    "duration": 15,
    "start_time": "2023-04-05T08:47:49.786Z"
   },
   {
    "duration": 13,
    "start_time": "2023-04-05T08:47:49.803Z"
   },
   {
    "duration": 18,
    "start_time": "2023-04-05T08:47:49.818Z"
   },
   {
    "duration": 13,
    "start_time": "2023-04-05T08:47:49.838Z"
   },
   {
    "duration": 23,
    "start_time": "2023-04-05T08:47:49.854Z"
   },
   {
    "duration": 28,
    "start_time": "2023-04-05T08:47:49.880Z"
   },
   {
    "duration": 28,
    "start_time": "2023-04-05T08:47:49.910Z"
   },
   {
    "duration": 470,
    "start_time": "2023-04-05T08:47:49.941Z"
   },
   {
    "duration": 14,
    "start_time": "2023-04-05T08:47:50.413Z"
   },
   {
    "duration": 36,
    "start_time": "2023-04-05T08:47:50.434Z"
   },
   {
    "duration": 136,
    "start_time": "2023-04-05T08:47:50.472Z"
   },
   {
    "duration": 7,
    "start_time": "2023-04-05T08:47:50.610Z"
   },
   {
    "duration": 24,
    "start_time": "2023-04-05T08:47:50.619Z"
   },
   {
    "duration": 19,
    "start_time": "2023-04-05T08:47:50.645Z"
   },
   {
    "duration": 5,
    "start_time": "2023-04-05T08:47:50.665Z"
   },
   {
    "duration": 13,
    "start_time": "2023-04-05T08:47:50.671Z"
   },
   {
    "duration": 9,
    "start_time": "2023-04-05T08:47:50.686Z"
   },
   {
    "duration": 5985,
    "start_time": "2023-04-05T08:47:50.697Z"
   },
   {
    "duration": 7412,
    "start_time": "2023-04-05T08:47:56.684Z"
   },
   {
    "duration": 15041,
    "start_time": "2023-04-05T08:48:04.099Z"
   },
   {
    "duration": 431,
    "start_time": "2023-04-05T08:48:19.142Z"
   },
   {
    "duration": 14,
    "start_time": "2023-04-05T08:48:19.576Z"
   },
   {
    "duration": 12336,
    "start_time": "2023-04-05T08:48:19.592Z"
   },
   {
    "duration": 12153,
    "start_time": "2023-04-05T08:48:31.933Z"
   },
   {
    "duration": 23356,
    "start_time": "2023-04-05T08:48:44.087Z"
   },
   {
    "duration": 98,
    "start_time": "2023-04-05T08:49:07.447Z"
   },
   {
    "duration": 4251,
    "start_time": "2023-04-05T08:49:07.547Z"
   },
   {
    "duration": 3825,
    "start_time": "2023-04-05T08:49:11.800Z"
   },
   {
    "duration": 9804,
    "start_time": "2023-04-05T08:49:15.632Z"
   },
   {
    "duration": 17,
    "start_time": "2023-04-05T08:49:25.438Z"
   },
   {
    "duration": 218,
    "start_time": "2023-04-05T08:49:25.457Z"
   },
   {
    "duration": 415,
    "start_time": "2023-04-05T08:49:25.677Z"
   },
   {
    "duration": 1814,
    "start_time": "2023-04-05T09:50:18.579Z"
   },
   {
    "duration": 1481,
    "start_time": "2023-04-05T09:50:41.790Z"
   },
   {
    "duration": 117,
    "start_time": "2023-04-05T09:50:43.274Z"
   },
   {
    "duration": 15,
    "start_time": "2023-04-05T09:50:43.392Z"
   },
   {
    "duration": 4,
    "start_time": "2023-04-05T09:50:43.409Z"
   },
   {
    "duration": 14,
    "start_time": "2023-04-05T09:50:43.414Z"
   },
   {
    "duration": 8,
    "start_time": "2023-04-05T09:50:43.430Z"
   },
   {
    "duration": 25,
    "start_time": "2023-04-05T09:50:43.439Z"
   },
   {
    "duration": 5,
    "start_time": "2023-04-05T09:50:43.466Z"
   },
   {
    "duration": 10,
    "start_time": "2023-04-05T09:50:43.473Z"
   },
   {
    "duration": 447,
    "start_time": "2023-04-05T09:50:43.486Z"
   },
   {
    "duration": 15,
    "start_time": "2023-04-05T09:50:43.934Z"
   },
   {
    "duration": 37,
    "start_time": "2023-04-05T09:50:43.950Z"
   },
   {
    "duration": 143,
    "start_time": "2023-04-05T09:50:43.988Z"
   },
   {
    "duration": 8,
    "start_time": "2023-04-05T09:50:44.133Z"
   },
   {
    "duration": 10,
    "start_time": "2023-04-05T09:50:44.143Z"
   },
   {
    "duration": 16,
    "start_time": "2023-04-05T09:50:44.154Z"
   },
   {
    "duration": 4,
    "start_time": "2023-04-05T09:50:44.171Z"
   },
   {
    "duration": 9,
    "start_time": "2023-04-05T09:50:44.176Z"
   },
   {
    "duration": 37,
    "start_time": "2023-04-05T09:50:44.187Z"
   },
   {
    "duration": 5822,
    "start_time": "2023-04-05T09:50:44.226Z"
   },
   {
    "duration": 6235,
    "start_time": "2023-04-05T09:50:50.050Z"
   },
   {
    "duration": 7037,
    "start_time": "2023-04-05T09:50:56.287Z"
   },
   {
    "duration": 352,
    "start_time": "2023-04-05T09:51:03.327Z"
   },
   {
    "duration": 17,
    "start_time": "2023-04-05T09:51:03.681Z"
   },
   {
    "duration": 11729,
    "start_time": "2023-04-05T09:51:03.700Z"
   },
   {
    "duration": 11841,
    "start_time": "2023-04-05T09:51:15.431Z"
   },
   {
    "duration": 20495,
    "start_time": "2023-04-05T09:51:27.274Z"
   },
   {
    "duration": 98,
    "start_time": "2023-04-05T09:51:47.827Z"
   },
   {
    "duration": 3885,
    "start_time": "2023-04-05T09:51:47.928Z"
   },
   {
    "duration": 3704,
    "start_time": "2023-04-05T09:51:51.815Z"
   },
   {
    "duration": 5019,
    "start_time": "2023-04-05T09:51:55.520Z"
   },
   {
    "duration": 20,
    "start_time": "2023-04-05T09:52:00.625Z"
   },
   {
    "duration": 209,
    "start_time": "2023-04-05T09:52:00.648Z"
   },
   {
    "duration": 443,
    "start_time": "2023-04-05T09:52:00.859Z"
   },
   {
    "duration": 1507,
    "start_time": "2023-04-05T09:59:18.012Z"
   },
   {
    "duration": 73,
    "start_time": "2023-04-05T09:59:19.521Z"
   },
   {
    "duration": 13,
    "start_time": "2023-04-05T09:59:19.596Z"
   },
   {
    "duration": 4,
    "start_time": "2023-04-05T09:59:19.611Z"
   },
   {
    "duration": 21,
    "start_time": "2023-04-05T09:59:19.616Z"
   },
   {
    "duration": 8,
    "start_time": "2023-04-05T09:59:19.638Z"
   },
   {
    "duration": 8,
    "start_time": "2023-04-05T09:59:19.648Z"
   },
   {
    "duration": 17,
    "start_time": "2023-04-05T09:59:19.658Z"
   },
   {
    "duration": 17,
    "start_time": "2023-04-05T09:59:19.677Z"
   },
   {
    "duration": 434,
    "start_time": "2023-04-05T09:59:19.697Z"
   },
   {
    "duration": 13,
    "start_time": "2023-04-05T09:59:20.133Z"
   },
   {
    "duration": 48,
    "start_time": "2023-04-05T09:59:20.147Z"
   },
   {
    "duration": 164,
    "start_time": "2023-04-05T09:59:20.197Z"
   },
   {
    "duration": 10,
    "start_time": "2023-04-05T09:59:20.363Z"
   },
   {
    "duration": 28,
    "start_time": "2023-04-05T09:59:20.375Z"
   },
   {
    "duration": 44,
    "start_time": "2023-04-05T09:59:20.406Z"
   },
   {
    "duration": 8,
    "start_time": "2023-04-05T09:59:20.452Z"
   },
   {
    "duration": 20,
    "start_time": "2023-04-05T09:59:20.461Z"
   },
   {
    "duration": 30,
    "start_time": "2023-04-05T09:59:20.483Z"
   },
   {
    "duration": 5860,
    "start_time": "2023-04-05T09:59:20.516Z"
   },
   {
    "duration": 6108,
    "start_time": "2023-04-05T09:59:26.378Z"
   },
   {
    "duration": 8836,
    "start_time": "2023-04-05T09:59:32.488Z"
   },
   {
    "duration": 262,
    "start_time": "2023-04-05T09:59:41.326Z"
   },
   {
    "duration": 12,
    "start_time": "2023-04-05T09:59:41.591Z"
   },
   {
    "duration": 8490,
    "start_time": "2023-04-05T09:59:41.605Z"
   },
   {
    "duration": 8285,
    "start_time": "2023-04-05T09:59:50.097Z"
   },
   {
    "duration": 12840,
    "start_time": "2023-04-05T09:59:58.384Z"
   },
   {
    "duration": 99,
    "start_time": "2023-04-05T10:00:11.230Z"
   },
   {
    "duration": 4358,
    "start_time": "2023-04-05T10:00:11.332Z"
   },
   {
    "duration": 4115,
    "start_time": "2023-04-05T10:00:15.692Z"
   },
   {
    "duration": 5549,
    "start_time": "2023-04-05T10:00:19.809Z"
   },
   {
    "duration": 106,
    "start_time": "2023-04-05T10:00:25.425Z"
   },
   {
    "duration": 169,
    "start_time": "2023-04-05T10:00:25.533Z"
   },
   {
    "duration": 382,
    "start_time": "2023-04-05T10:00:25.704Z"
   },
   {
    "duration": 6,
    "start_time": "2023-04-05T10:05:08.544Z"
   },
   {
    "duration": 10,
    "start_time": "2023-04-05T10:05:13.089Z"
   },
   {
    "duration": 5,
    "start_time": "2023-04-05T10:05:17.601Z"
   },
   {
    "duration": 8,
    "start_time": "2023-04-05T10:05:35.815Z"
   },
   {
    "duration": 9,
    "start_time": "2023-04-05T10:06:03.489Z"
   },
   {
    "duration": 8,
    "start_time": "2023-04-05T10:06:11.135Z"
   },
   {
    "duration": 7,
    "start_time": "2023-04-05T10:06:22.111Z"
   },
   {
    "duration": 1486,
    "start_time": "2023-04-05T10:06:26.439Z"
   },
   {
    "duration": 75,
    "start_time": "2023-04-05T10:06:27.928Z"
   },
   {
    "duration": 13,
    "start_time": "2023-04-05T10:06:28.004Z"
   },
   {
    "duration": 3,
    "start_time": "2023-04-05T10:06:28.020Z"
   },
   {
    "duration": 13,
    "start_time": "2023-04-05T10:06:28.025Z"
   },
   {
    "duration": 8,
    "start_time": "2023-04-05T10:06:28.039Z"
   },
   {
    "duration": 24,
    "start_time": "2023-04-05T10:06:28.048Z"
   },
   {
    "duration": 12,
    "start_time": "2023-04-05T10:06:28.074Z"
   },
   {
    "duration": 4,
    "start_time": "2023-04-05T10:06:28.088Z"
   },
   {
    "duration": 424,
    "start_time": "2023-04-05T10:06:28.096Z"
   },
   {
    "duration": 14,
    "start_time": "2023-04-05T10:06:28.522Z"
   },
   {
    "duration": 35,
    "start_time": "2023-04-05T10:06:28.537Z"
   },
   {
    "duration": 136,
    "start_time": "2023-04-05T10:06:28.574Z"
   },
   {
    "duration": 17,
    "start_time": "2023-04-05T10:06:28.712Z"
   },
   {
    "duration": 15,
    "start_time": "2023-04-05T10:06:28.731Z"
   },
   {
    "duration": 23,
    "start_time": "2023-04-05T10:06:28.747Z"
   },
   {
    "duration": 9,
    "start_time": "2023-04-05T10:06:28.771Z"
   },
   {
    "duration": 25,
    "start_time": "2023-04-05T10:06:28.782Z"
   },
   {
    "duration": 15,
    "start_time": "2023-04-05T10:06:28.808Z"
   },
   {
    "duration": 5792,
    "start_time": "2023-04-05T10:06:28.825Z"
   },
   {
    "duration": 5804,
    "start_time": "2023-04-05T10:06:34.619Z"
   },
   {
    "duration": 6699,
    "start_time": "2023-04-05T10:06:40.425Z"
   },
   {
    "duration": 339,
    "start_time": "2023-04-05T10:06:47.128Z"
   },
   {
    "duration": 12,
    "start_time": "2023-04-05T10:06:47.468Z"
   },
   {
    "duration": 8524,
    "start_time": "2023-04-05T10:06:47.482Z"
   },
   {
    "duration": 8222,
    "start_time": "2023-04-05T10:06:56.009Z"
   },
   {
    "duration": 11292,
    "start_time": "2023-04-05T10:07:04.233Z"
   },
   {
    "duration": 98,
    "start_time": "2023-04-05T10:07:15.529Z"
   },
   {
    "duration": 4276,
    "start_time": "2023-04-05T10:07:15.629Z"
   },
   {
    "duration": 4323,
    "start_time": "2023-04-05T10:07:19.907Z"
   },
   {
    "duration": 4734,
    "start_time": "2023-04-05T10:07:24.232Z"
   },
   {
    "duration": 102,
    "start_time": "2023-04-05T10:07:29.023Z"
   },
   {
    "duration": 160,
    "start_time": "2023-04-05T10:07:29.127Z"
   },
   {
    "duration": 405,
    "start_time": "2023-04-05T10:07:29.289Z"
   },
   {
    "duration": 129,
    "start_time": "2023-04-05T10:07:29.696Z"
   },
   {
    "duration": 8,
    "start_time": "2023-04-05T10:07:45.622Z"
   },
   {
    "duration": 8,
    "start_time": "2023-04-05T10:08:07.797Z"
   },
   {
    "duration": 4,
    "start_time": "2023-04-05T10:08:29.141Z"
   },
   {
    "duration": 6,
    "start_time": "2023-04-05T10:08:31.748Z"
   },
   {
    "duration": 23,
    "start_time": "2023-04-05T10:09:21.331Z"
   },
   {
    "duration": 11,
    "start_time": "2023-04-05T10:09:36.324Z"
   },
   {
    "duration": 11,
    "start_time": "2023-04-05T10:09:46.476Z"
   },
   {
    "duration": 1497,
    "start_time": "2023-04-05T10:09:56.015Z"
   },
   {
    "duration": 175,
    "start_time": "2023-04-05T10:09:57.514Z"
   },
   {
    "duration": 14,
    "start_time": "2023-04-05T10:09:57.691Z"
   },
   {
    "duration": 15,
    "start_time": "2023-04-05T10:09:57.707Z"
   },
   {
    "duration": 13,
    "start_time": "2023-04-05T10:09:57.724Z"
   },
   {
    "duration": 9,
    "start_time": "2023-04-05T10:09:57.739Z"
   },
   {
    "duration": 7,
    "start_time": "2023-04-05T10:09:57.750Z"
   },
   {
    "duration": 21,
    "start_time": "2023-04-05T10:09:57.759Z"
   },
   {
    "duration": 9,
    "start_time": "2023-04-05T10:09:57.782Z"
   },
   {
    "duration": 430,
    "start_time": "2023-04-05T10:09:57.794Z"
   },
   {
    "duration": 18,
    "start_time": "2023-04-05T10:09:58.226Z"
   },
   {
    "duration": 36,
    "start_time": "2023-04-05T10:09:58.245Z"
   },
   {
    "duration": 143,
    "start_time": "2023-04-05T10:09:58.283Z"
   },
   {
    "duration": 7,
    "start_time": "2023-04-05T10:09:58.428Z"
   },
   {
    "duration": 9,
    "start_time": "2023-04-05T10:09:58.437Z"
   },
   {
    "duration": 16,
    "start_time": "2023-04-05T10:09:58.448Z"
   },
   {
    "duration": 4,
    "start_time": "2023-04-05T10:09:58.466Z"
   },
   {
    "duration": 22,
    "start_time": "2023-04-05T10:09:58.472Z"
   },
   {
    "duration": 39,
    "start_time": "2023-04-05T10:09:58.495Z"
   },
   {
    "duration": 155,
    "start_time": "2023-04-05T10:09:58.536Z"
   },
   {
    "duration": 0,
    "start_time": "2023-04-05T10:09:58.693Z"
   },
   {
    "duration": 0,
    "start_time": "2023-04-05T10:09:58.694Z"
   },
   {
    "duration": 0,
    "start_time": "2023-04-05T10:09:58.695Z"
   },
   {
    "duration": 0,
    "start_time": "2023-04-05T10:09:58.696Z"
   },
   {
    "duration": 0,
    "start_time": "2023-04-05T10:09:58.698Z"
   },
   {
    "duration": 0,
    "start_time": "2023-04-05T10:09:58.699Z"
   },
   {
    "duration": 0,
    "start_time": "2023-04-05T10:09:58.700Z"
   },
   {
    "duration": 0,
    "start_time": "2023-04-05T10:09:58.702Z"
   },
   {
    "duration": 0,
    "start_time": "2023-04-05T10:09:58.703Z"
   },
   {
    "duration": 0,
    "start_time": "2023-04-05T10:09:58.723Z"
   },
   {
    "duration": 0,
    "start_time": "2023-04-05T10:09:58.725Z"
   },
   {
    "duration": 0,
    "start_time": "2023-04-05T10:09:58.727Z"
   },
   {
    "duration": 0,
    "start_time": "2023-04-05T10:09:58.728Z"
   },
   {
    "duration": 0,
    "start_time": "2023-04-05T10:09:58.730Z"
   },
   {
    "duration": 7,
    "start_time": "2023-04-05T10:10:33.603Z"
   },
   {
    "duration": 25,
    "start_time": "2023-04-05T10:12:38.025Z"
   },
   {
    "duration": 16,
    "start_time": "2023-04-05T10:12:46.856Z"
   },
   {
    "duration": 4,
    "start_time": "2023-04-05T10:12:48.023Z"
   },
   {
    "duration": 4,
    "start_time": "2023-04-05T10:12:48.808Z"
   },
   {
    "duration": 4,
    "start_time": "2023-04-05T10:12:50.575Z"
   },
   {
    "duration": 31,
    "start_time": "2023-04-05T10:12:52.208Z"
   },
   {
    "duration": 4,
    "start_time": "2023-04-05T10:13:27.160Z"
   },
   {
    "duration": 26,
    "start_time": "2023-04-05T10:14:04.496Z"
   },
   {
    "duration": 6,
    "start_time": "2023-04-05T10:16:17.399Z"
   },
   {
    "duration": 6,
    "start_time": "2023-04-05T10:16:19.648Z"
   },
   {
    "duration": 394,
    "start_time": "2023-04-05T10:16:23.836Z"
   },
   {
    "duration": 18,
    "start_time": "2023-04-05T10:16:37.420Z"
   },
   {
    "duration": 1665,
    "start_time": "2023-04-05T10:16:49.071Z"
   },
   {
    "duration": 207,
    "start_time": "2023-04-05T10:16:50.739Z"
   },
   {
    "duration": 14,
    "start_time": "2023-04-05T10:16:50.948Z"
   },
   {
    "duration": 8,
    "start_time": "2023-04-05T10:16:50.963Z"
   },
   {
    "duration": 15,
    "start_time": "2023-04-05T10:16:50.974Z"
   },
   {
    "duration": 34,
    "start_time": "2023-04-05T10:16:50.991Z"
   },
   {
    "duration": 9,
    "start_time": "2023-04-05T10:16:51.028Z"
   },
   {
    "duration": 17,
    "start_time": "2023-04-05T10:16:51.039Z"
   },
   {
    "duration": 25,
    "start_time": "2023-04-05T10:16:51.058Z"
   },
   {
    "duration": 462,
    "start_time": "2023-04-05T10:16:51.085Z"
   },
   {
    "duration": 15,
    "start_time": "2023-04-05T10:16:51.549Z"
   },
   {
    "duration": 39,
    "start_time": "2023-04-05T10:16:51.566Z"
   },
   {
    "duration": 136,
    "start_time": "2023-04-05T10:16:51.624Z"
   },
   {
    "duration": 8,
    "start_time": "2023-04-05T10:16:51.763Z"
   },
   {
    "duration": 19,
    "start_time": "2023-04-05T10:16:51.773Z"
   },
   {
    "duration": 33,
    "start_time": "2023-04-05T10:16:51.794Z"
   },
   {
    "duration": 4,
    "start_time": "2023-04-05T10:16:51.829Z"
   },
   {
    "duration": 7,
    "start_time": "2023-04-05T10:16:51.835Z"
   },
   {
    "duration": 8,
    "start_time": "2023-04-05T10:16:51.844Z"
   },
   {
    "duration": 5756,
    "start_time": "2023-04-05T10:16:51.854Z"
   },
   {
    "duration": 6245,
    "start_time": "2023-04-05T10:16:57.612Z"
   },
   {
    "duration": 6270,
    "start_time": "2023-04-05T10:17:03.859Z"
   },
   {
    "duration": 352,
    "start_time": "2023-04-05T10:17:10.132Z"
   },
   {
    "duration": 20,
    "start_time": "2023-04-05T10:17:10.486Z"
   },
   {
    "duration": 8801,
    "start_time": "2023-04-05T10:17:10.509Z"
   },
   {
    "duration": 8303,
    "start_time": "2023-04-05T10:17:19.312Z"
   },
   {
    "duration": 19708,
    "start_time": "2023-04-05T10:17:27.616Z"
   },
   {
    "duration": 100,
    "start_time": "2023-04-05T10:17:47.331Z"
   },
   {
    "duration": 4382,
    "start_time": "2023-04-05T10:17:47.433Z"
   },
   {
    "duration": 4219,
    "start_time": "2023-04-05T10:17:51.817Z"
   },
   {
    "duration": 6795,
    "start_time": "2023-04-05T10:17:56.038Z"
   },
   {
    "duration": 102,
    "start_time": "2023-04-05T10:18:02.835Z"
   },
   {
    "duration": 163,
    "start_time": "2023-04-05T10:18:02.939Z"
   },
   {
    "duration": 382,
    "start_time": "2023-04-05T10:18:03.104Z"
   },
   {
    "duration": 374,
    "start_time": "2023-04-05T10:48:55.892Z"
   },
   {
    "duration": 361,
    "start_time": "2023-04-05T10:49:04.368Z"
   },
   {
    "duration": 357,
    "start_time": "2023-04-05T10:49:19.732Z"
   },
   {
    "duration": 370,
    "start_time": "2023-04-05T10:50:29.532Z"
   },
   {
    "duration": 375,
    "start_time": "2023-04-05T10:50:33.278Z"
   },
   {
    "duration": 340,
    "start_time": "2023-04-05T10:50:36.259Z"
   },
   {
    "duration": 365,
    "start_time": "2023-04-05T10:50:39.421Z"
   },
   {
    "duration": 124,
    "start_time": "2023-04-05T10:53:28.112Z"
   },
   {
    "duration": 1449,
    "start_time": "2023-04-05T10:53:33.569Z"
   },
   {
    "duration": 75,
    "start_time": "2023-04-05T10:53:35.020Z"
   },
   {
    "duration": 13,
    "start_time": "2023-04-05T10:53:35.096Z"
   },
   {
    "duration": 3,
    "start_time": "2023-04-05T10:53:35.112Z"
   },
   {
    "duration": 13,
    "start_time": "2023-04-05T10:53:35.117Z"
   },
   {
    "duration": 7,
    "start_time": "2023-04-05T10:53:35.132Z"
   },
   {
    "duration": 5,
    "start_time": "2023-04-05T10:53:35.141Z"
   },
   {
    "duration": 5,
    "start_time": "2023-04-05T10:53:35.148Z"
   },
   {
    "duration": 5,
    "start_time": "2023-04-05T10:53:35.154Z"
   },
   {
    "duration": 471,
    "start_time": "2023-04-05T10:53:35.162Z"
   },
   {
    "duration": 14,
    "start_time": "2023-04-05T10:53:35.634Z"
   },
   {
    "duration": 51,
    "start_time": "2023-04-05T10:53:35.650Z"
   },
   {
    "duration": 125,
    "start_time": "2023-04-05T10:53:35.703Z"
   },
   {
    "duration": 8,
    "start_time": "2023-04-05T10:53:35.830Z"
   },
   {
    "duration": 11,
    "start_time": "2023-04-05T10:53:35.839Z"
   },
   {
    "duration": 24,
    "start_time": "2023-04-05T10:53:35.852Z"
   },
   {
    "duration": 15,
    "start_time": "2023-04-05T10:53:35.877Z"
   },
   {
    "duration": 13,
    "start_time": "2023-04-05T10:53:35.894Z"
   },
   {
    "duration": 19,
    "start_time": "2023-04-05T10:53:35.909Z"
   },
   {
    "duration": 7156,
    "start_time": "2023-04-05T10:53:35.930Z"
   },
   {
    "duration": 6771,
    "start_time": "2023-04-05T10:53:43.088Z"
   },
   {
    "duration": 6663,
    "start_time": "2023-04-05T10:53:49.861Z"
   },
   {
    "duration": 261,
    "start_time": "2023-04-05T10:53:56.528Z"
   },
   {
    "duration": 14,
    "start_time": "2023-04-05T10:53:56.790Z"
   },
   {
    "duration": 10544,
    "start_time": "2023-04-05T10:53:56.806Z"
   },
   {
    "duration": 9502,
    "start_time": "2023-04-05T10:54:07.352Z"
   },
   {
    "duration": 12069,
    "start_time": "2023-04-05T10:54:16.856Z"
   },
   {
    "duration": 103,
    "start_time": "2023-04-05T10:54:28.929Z"
   },
   {
    "duration": 4962,
    "start_time": "2023-04-05T10:54:29.035Z"
   },
   {
    "duration": 4458,
    "start_time": "2023-04-05T10:54:33.999Z"
   },
   {
    "duration": 6198,
    "start_time": "2023-04-05T10:54:38.459Z"
   },
   {
    "duration": 171,
    "start_time": "2023-04-05T10:54:44.661Z"
   },
   {
    "duration": 172,
    "start_time": "2023-04-05T10:54:44.835Z"
   },
   {
    "duration": 382,
    "start_time": "2023-04-05T10:54:45.009Z"
   },
   {
    "duration": 256,
    "start_time": "2023-04-05T10:55:52.336Z"
   },
   {
    "duration": 142,
    "start_time": "2023-04-05T10:56:01.103Z"
   },
   {
    "duration": 186,
    "start_time": "2023-04-05T10:56:08.455Z"
   },
   {
    "duration": 145,
    "start_time": "2023-04-05T10:56:47.326Z"
   },
   {
    "duration": 8,
    "start_time": "2023-04-05T10:57:00.397Z"
   },
   {
    "duration": 130,
    "start_time": "2023-04-05T10:57:06.446Z"
   },
   {
    "duration": 7221,
    "start_time": "2023-04-05T10:58:58.019Z"
   },
   {
    "duration": 46,
    "start_time": "2023-04-05T16:26:04.957Z"
   },
   {
    "duration": 7140,
    "start_time": "2023-04-05T16:26:10.890Z"
   },
   {
    "duration": 1543,
    "start_time": "2023-04-05T16:26:18.032Z"
   },
   {
    "duration": 144,
    "start_time": "2023-04-05T16:26:19.577Z"
   },
   {
    "duration": 14,
    "start_time": "2023-04-05T16:26:19.723Z"
   },
   {
    "duration": 20,
    "start_time": "2023-04-05T16:26:19.738Z"
   },
   {
    "duration": 12,
    "start_time": "2023-04-05T16:26:19.759Z"
   },
   {
    "duration": 8,
    "start_time": "2023-04-05T16:26:19.773Z"
   },
   {
    "duration": 5,
    "start_time": "2023-04-05T16:26:19.782Z"
   },
   {
    "duration": 7,
    "start_time": "2023-04-05T16:26:19.788Z"
   },
   {
    "duration": 8,
    "start_time": "2023-04-05T16:26:19.797Z"
   },
   {
    "duration": 465,
    "start_time": "2023-04-05T16:26:19.806Z"
   },
   {
    "duration": 18,
    "start_time": "2023-04-05T16:26:20.273Z"
   },
   {
    "duration": 52,
    "start_time": "2023-04-05T16:26:20.293Z"
   },
   {
    "duration": 130,
    "start_time": "2023-04-05T16:26:20.346Z"
   },
   {
    "duration": 11,
    "start_time": "2023-04-05T16:26:20.478Z"
   },
   {
    "duration": 19,
    "start_time": "2023-04-05T16:26:20.491Z"
   },
   {
    "duration": 17,
    "start_time": "2023-04-05T16:26:20.512Z"
   },
   {
    "duration": 8,
    "start_time": "2023-04-05T16:26:20.531Z"
   },
   {
    "duration": 16,
    "start_time": "2023-04-05T16:26:20.552Z"
   },
   {
    "duration": 3,
    "start_time": "2023-04-05T16:26:20.570Z"
   },
   {
    "duration": 8041,
    "start_time": "2023-04-05T16:26:20.574Z"
   },
   {
    "duration": 7442,
    "start_time": "2023-04-05T16:26:28.617Z"
   },
   {
    "duration": 14028,
    "start_time": "2023-04-05T16:26:36.060Z"
   },
   {
    "duration": 249,
    "start_time": "2023-04-05T16:26:50.149Z"
   },
   {
    "duration": 11,
    "start_time": "2023-04-05T16:26:50.400Z"
   },
   {
    "duration": 11358,
    "start_time": "2023-04-05T16:26:50.412Z"
   },
   {
    "duration": 9936,
    "start_time": "2023-04-05T16:27:01.771Z"
   },
   {
    "duration": 31552,
    "start_time": "2023-04-05T16:27:11.711Z"
   },
   {
    "duration": 81,
    "start_time": "2023-04-05T16:27:43.265Z"
   },
   {
    "duration": 5231,
    "start_time": "2023-04-05T16:27:43.348Z"
   },
   {
    "duration": 4617,
    "start_time": "2023-04-05T16:27:48.581Z"
   },
   {
    "duration": 8385,
    "start_time": "2023-04-05T16:27:53.199Z"
   },
   {
    "duration": 97,
    "start_time": "2023-04-05T16:28:01.657Z"
   },
   {
    "duration": 137,
    "start_time": "2023-04-05T16:28:01.758Z"
   },
   {
    "duration": 369,
    "start_time": "2023-04-05T16:28:01.897Z"
   },
   {
    "duration": 35,
    "start_time": "2023-04-05T16:28:07.485Z"
   },
   {
    "duration": 44,
    "start_time": "2023-04-05T16:28:46.209Z"
   },
   {
    "duration": 53,
    "start_time": "2023-04-05T16:29:29.407Z"
   },
   {
    "duration": 49,
    "start_time": "2023-04-05T16:30:10.971Z"
   },
   {
    "duration": 131,
    "start_time": "2023-04-05T16:31:42.032Z"
   },
   {
    "duration": 164,
    "start_time": "2023-04-05T16:32:25.919Z"
   },
   {
    "duration": 240,
    "start_time": "2023-04-05T16:33:59.276Z"
   },
   {
    "duration": 105,
    "start_time": "2023-04-05T16:36:04.931Z"
   },
   {
    "duration": 12,
    "start_time": "2023-04-05T16:37:43.102Z"
   },
   {
    "duration": 117,
    "start_time": "2023-04-05T16:46:05.862Z"
   },
   {
    "duration": 89,
    "start_time": "2023-04-05T16:46:41.983Z"
   },
   {
    "duration": 7,
    "start_time": "2023-04-05T16:47:36.189Z"
   },
   {
    "duration": 95,
    "start_time": "2023-04-05T16:47:43.677Z"
   },
   {
    "duration": 79,
    "start_time": "2023-04-05T16:49:10.851Z"
   },
   {
    "duration": 101,
    "start_time": "2023-04-05T16:49:35.019Z"
   },
   {
    "duration": 11,
    "start_time": "2023-04-05T16:50:22.161Z"
   },
   {
    "duration": 83,
    "start_time": "2023-04-05T16:50:47.358Z"
   },
   {
    "duration": 147,
    "start_time": "2023-04-05T16:52:03.160Z"
   },
   {
    "duration": 103,
    "start_time": "2023-04-05T16:52:09.008Z"
   },
   {
    "duration": 92,
    "start_time": "2023-04-05T16:52:51.311Z"
   },
   {
    "duration": 115,
    "start_time": "2023-04-05T16:53:06.593Z"
   },
   {
    "duration": 91,
    "start_time": "2023-04-05T16:53:50.637Z"
   },
   {
    "duration": 120,
    "start_time": "2023-04-05T16:57:28.458Z"
   },
   {
    "duration": 2031,
    "start_time": "2023-04-05T16:59:39.796Z"
   },
   {
    "duration": 1203,
    "start_time": "2023-04-05T16:59:41.830Z"
   },
   {
    "duration": 77,
    "start_time": "2023-04-05T16:59:43.034Z"
   },
   {
    "duration": 11,
    "start_time": "2023-04-05T16:59:43.113Z"
   },
   {
    "duration": 2,
    "start_time": "2023-04-05T16:59:43.126Z"
   },
   {
    "duration": 21,
    "start_time": "2023-04-05T16:59:43.130Z"
   },
   {
    "duration": 8,
    "start_time": "2023-04-05T16:59:43.152Z"
   },
   {
    "duration": 5,
    "start_time": "2023-04-05T16:59:43.162Z"
   },
   {
    "duration": 4,
    "start_time": "2023-04-05T16:59:43.168Z"
   },
   {
    "duration": 5,
    "start_time": "2023-04-05T16:59:43.174Z"
   },
   {
    "duration": 439,
    "start_time": "2023-04-05T16:59:43.180Z"
   },
   {
    "duration": 29,
    "start_time": "2023-04-05T16:59:43.620Z"
   },
   {
    "duration": 36,
    "start_time": "2023-04-05T16:59:43.651Z"
   },
   {
    "duration": 94,
    "start_time": "2023-04-05T16:59:43.689Z"
   },
   {
    "duration": 96,
    "start_time": "2023-04-05T16:59:43.785Z"
   },
   {
    "duration": 10,
    "start_time": "2023-04-05T16:59:43.882Z"
   },
   {
    "duration": 15,
    "start_time": "2023-04-05T16:59:43.893Z"
   },
   {
    "duration": 3,
    "start_time": "2023-04-05T16:59:43.909Z"
   },
   {
    "duration": 38,
    "start_time": "2023-04-05T16:59:43.913Z"
   },
   {
    "duration": 3,
    "start_time": "2023-04-05T16:59:43.953Z"
   },
   {
    "duration": 7514,
    "start_time": "2023-04-05T16:59:43.958Z"
   },
   {
    "duration": 7043,
    "start_time": "2023-04-05T16:59:51.474Z"
   },
   {
    "duration": 11225,
    "start_time": "2023-04-05T16:59:58.518Z"
   },
   {
    "duration": 241,
    "start_time": "2023-04-05T17:00:09.751Z"
   },
   {
    "duration": 10,
    "start_time": "2023-04-05T17:00:09.994Z"
   },
   {
    "duration": 10932,
    "start_time": "2023-04-05T17:00:10.006Z"
   },
   {
    "duration": 9784,
    "start_time": "2023-04-05T17:00:20.950Z"
   },
   {
    "duration": 27220,
    "start_time": "2023-04-05T17:00:30.737Z"
   },
   {
    "duration": 103,
    "start_time": "2023-04-05T17:00:57.958Z"
   },
   {
    "duration": 5093,
    "start_time": "2023-04-05T17:00:58.063Z"
   },
   {
    "duration": 4636,
    "start_time": "2023-04-05T17:01:03.157Z"
   },
   {
    "duration": 12150,
    "start_time": "2023-04-05T17:01:07.795Z"
   },
   {
    "duration": 98,
    "start_time": "2023-04-05T17:01:19.947Z"
   },
   {
    "duration": 140,
    "start_time": "2023-04-05T17:01:20.047Z"
   },
   {
    "duration": 347,
    "start_time": "2023-04-05T17:01:20.189Z"
   },
   {
    "duration": 113,
    "start_time": "2023-04-05T17:01:20.542Z"
   },
   {
    "duration": 108,
    "start_time": "2023-04-05T17:02:26.428Z"
   },
   {
    "duration": 89,
    "start_time": "2023-04-05T17:02:43.161Z"
   },
   {
    "duration": 99,
    "start_time": "2023-04-05T17:03:08.561Z"
   },
   {
    "duration": 94,
    "start_time": "2023-04-05T17:04:50.665Z"
   },
   {
    "duration": 275,
    "start_time": "2023-04-05T17:07:05.766Z"
   },
   {
    "duration": 292,
    "start_time": "2023-04-05T17:07:46.784Z"
   },
   {
    "duration": 254,
    "start_time": "2023-04-05T17:07:50.259Z"
   },
   {
    "duration": 270,
    "start_time": "2023-04-05T17:08:02.624Z"
   },
   {
    "duration": 250,
    "start_time": "2023-04-05T17:08:10.967Z"
   },
   {
    "duration": 358,
    "start_time": "2023-04-05T17:08:15.607Z"
   },
   {
    "duration": 243,
    "start_time": "2023-04-05T17:09:17.670Z"
   },
   {
    "duration": 266,
    "start_time": "2023-04-05T17:09:27.563Z"
   },
   {
    "duration": 250,
    "start_time": "2023-04-05T17:09:37.059Z"
   },
   {
    "duration": 233,
    "start_time": "2023-04-05T17:09:40.974Z"
   },
   {
    "duration": 254,
    "start_time": "2023-04-05T17:10:20.352Z"
   },
   {
    "duration": 303,
    "start_time": "2023-04-05T17:11:17.173Z"
   },
   {
    "duration": 300,
    "start_time": "2023-04-05T17:11:38.316Z"
   },
   {
    "duration": 289,
    "start_time": "2023-04-05T17:12:53.540Z"
   },
   {
    "duration": 300,
    "start_time": "2023-04-05T17:13:00.533Z"
   },
   {
    "duration": 142,
    "start_time": "2023-04-05T17:13:39.057Z"
   },
   {
    "duration": 93,
    "start_time": "2023-04-05T17:13:52.171Z"
   },
   {
    "duration": 13,
    "start_time": "2023-04-05T17:14:10.691Z"
   },
   {
    "duration": 86,
    "start_time": "2023-04-05T17:14:16.003Z"
   },
   {
    "duration": 277,
    "start_time": "2023-04-05T17:15:13.755Z"
   },
   {
    "duration": 280,
    "start_time": "2023-04-05T17:15:17.883Z"
   },
   {
    "duration": 354,
    "start_time": "2023-04-05T17:15:23.461Z"
   },
   {
    "duration": 316,
    "start_time": "2023-04-05T17:15:28.897Z"
   },
   {
    "duration": 257,
    "start_time": "2023-04-05T17:15:39.264Z"
   },
   {
    "duration": 304,
    "start_time": "2023-04-05T17:18:46.007Z"
   },
   {
    "duration": 248,
    "start_time": "2023-04-05T17:19:13.964Z"
   },
   {
    "duration": 2055,
    "start_time": "2023-04-05T17:19:20.583Z"
   },
   {
    "duration": 1215,
    "start_time": "2023-04-05T17:19:22.642Z"
   },
   {
    "duration": 70,
    "start_time": "2023-04-05T17:19:23.859Z"
   },
   {
    "duration": 15,
    "start_time": "2023-04-05T17:19:23.931Z"
   },
   {
    "duration": 6,
    "start_time": "2023-04-05T17:19:23.948Z"
   },
   {
    "duration": 19,
    "start_time": "2023-04-05T17:19:23.956Z"
   },
   {
    "duration": 7,
    "start_time": "2023-04-05T17:19:23.977Z"
   },
   {
    "duration": 16,
    "start_time": "2023-04-05T17:19:23.985Z"
   },
   {
    "duration": 18,
    "start_time": "2023-04-05T17:19:24.002Z"
   },
   {
    "duration": 8,
    "start_time": "2023-04-05T17:19:24.022Z"
   },
   {
    "duration": 373,
    "start_time": "2023-04-05T17:19:24.031Z"
   },
   {
    "duration": 14,
    "start_time": "2023-04-05T17:19:24.406Z"
   },
   {
    "duration": 49,
    "start_time": "2023-04-05T17:19:24.422Z"
   },
   {
    "duration": 242,
    "start_time": "2023-04-05T17:19:24.473Z"
   },
   {
    "duration": 103,
    "start_time": "2023-04-05T17:19:24.716Z"
   },
   {
    "duration": 9,
    "start_time": "2023-04-05T17:19:24.821Z"
   },
   {
    "duration": 25,
    "start_time": "2023-04-05T17:19:24.831Z"
   },
   {
    "duration": 3,
    "start_time": "2023-04-05T17:19:24.857Z"
   },
   {
    "duration": 5,
    "start_time": "2023-04-05T17:19:24.861Z"
   },
   {
    "duration": 3,
    "start_time": "2023-04-05T17:19:24.867Z"
   },
   {
    "duration": 7713,
    "start_time": "2023-04-05T17:19:24.871Z"
   },
   {
    "duration": 7145,
    "start_time": "2023-04-05T17:19:32.585Z"
   },
   {
    "duration": 18115,
    "start_time": "2023-04-05T17:19:39.732Z"
   },
   {
    "duration": 306,
    "start_time": "2023-04-05T17:19:57.850Z"
   },
   {
    "duration": 11,
    "start_time": "2023-04-05T17:19:58.159Z"
   },
   {
    "duration": 11247,
    "start_time": "2023-04-05T17:19:58.172Z"
   },
   {
    "duration": 9570,
    "start_time": "2023-04-05T17:20:09.421Z"
   },
   {
    "duration": 28259,
    "start_time": "2023-04-05T17:20:18.994Z"
   },
   {
    "duration": 99,
    "start_time": "2023-04-05T17:20:47.258Z"
   },
   {
    "duration": 4820,
    "start_time": "2023-04-05T17:20:47.359Z"
   },
   {
    "duration": 4496,
    "start_time": "2023-04-05T17:20:52.181Z"
   },
   {
    "duration": 13661,
    "start_time": "2023-04-05T17:20:56.678Z"
   },
   {
    "duration": 101,
    "start_time": "2023-04-05T17:21:10.341Z"
   },
   {
    "duration": 122,
    "start_time": "2023-04-05T17:21:10.447Z"
   },
   {
    "duration": 305,
    "start_time": "2023-04-05T17:21:10.571Z"
   },
   {
    "duration": 279,
    "start_time": "2023-04-05T17:21:11.729Z"
   },
   {
    "duration": 268,
    "start_time": "2023-04-05T17:22:19.138Z"
   },
   {
    "duration": 266,
    "start_time": "2023-04-05T17:22:51.584Z"
   },
   {
    "duration": 272,
    "start_time": "2023-04-05T17:23:20.637Z"
   },
   {
    "duration": 122,
    "start_time": "2023-04-05T17:24:04.751Z"
   },
   {
    "duration": 404,
    "start_time": "2023-04-05T17:25:00.183Z"
   },
   {
    "duration": 385,
    "start_time": "2023-04-05T17:25:06.193Z"
   },
   {
    "duration": 359,
    "start_time": "2023-04-05T17:27:15.704Z"
   },
   {
    "duration": 363,
    "start_time": "2023-04-05T17:27:27.152Z"
   },
   {
    "duration": 280,
    "start_time": "2023-04-05T17:27:35.134Z"
   },
   {
    "duration": 300,
    "start_time": "2023-04-05T17:27:45.599Z"
   },
   {
    "duration": 202,
    "start_time": "2023-04-05T17:28:00.079Z"
   },
   {
    "duration": 346,
    "start_time": "2023-04-05T17:29:01.358Z"
   },
   {
    "duration": 434,
    "start_time": "2023-04-05T17:29:05.798Z"
   },
   {
    "duration": 350,
    "start_time": "2023-04-05T17:31:03.203Z"
   },
   {
    "duration": 344,
    "start_time": "2023-04-05T17:31:19.955Z"
   },
   {
    "duration": 320,
    "start_time": "2023-04-05T17:31:29.075Z"
   },
   {
    "duration": 356,
    "start_time": "2023-04-05T17:31:33.505Z"
   },
   {
    "duration": 377,
    "start_time": "2023-04-05T17:31:49.969Z"
   },
   {
    "duration": 28,
    "start_time": "2023-04-05T17:32:00.521Z"
   },
   {
    "duration": 328,
    "start_time": "2023-04-05T17:32:16.089Z"
   },
   {
    "duration": 175,
    "start_time": "2023-04-05T17:32:45.735Z"
   },
   {
    "duration": 10,
    "start_time": "2023-04-05T17:32:52.871Z"
   },
   {
    "duration": 217,
    "start_time": "2023-04-05T17:33:32.224Z"
   },
   {
    "duration": 301,
    "start_time": "2023-04-05T17:33:54.466Z"
   },
   {
    "duration": 2174,
    "start_time": "2023-04-05T17:34:00.686Z"
   },
   {
    "duration": 1196,
    "start_time": "2023-04-05T17:34:02.862Z"
   },
   {
    "duration": 73,
    "start_time": "2023-04-05T17:34:04.059Z"
   },
   {
    "duration": 17,
    "start_time": "2023-04-05T17:34:04.134Z"
   },
   {
    "duration": 3,
    "start_time": "2023-04-05T17:34:04.153Z"
   },
   {
    "duration": 11,
    "start_time": "2023-04-05T17:34:04.158Z"
   },
   {
    "duration": 7,
    "start_time": "2023-04-05T17:34:04.171Z"
   },
   {
    "duration": 5,
    "start_time": "2023-04-05T17:34:04.180Z"
   },
   {
    "duration": 4,
    "start_time": "2023-04-05T17:34:04.186Z"
   },
   {
    "duration": 5,
    "start_time": "2023-04-05T17:34:04.192Z"
   },
   {
    "duration": 451,
    "start_time": "2023-04-05T17:34:04.198Z"
   },
   {
    "duration": 13,
    "start_time": "2023-04-05T17:34:04.654Z"
   },
   {
    "duration": 37,
    "start_time": "2023-04-05T17:34:04.668Z"
   },
   {
    "duration": 300,
    "start_time": "2023-04-05T17:34:04.706Z"
   },
   {
    "duration": 109,
    "start_time": "2023-04-05T17:34:05.008Z"
   },
   {
    "duration": 10,
    "start_time": "2023-04-05T17:34:05.119Z"
   },
   {
    "duration": 29,
    "start_time": "2023-04-05T17:34:05.131Z"
   },
   {
    "duration": 3,
    "start_time": "2023-04-05T17:34:05.162Z"
   },
   {
    "duration": 9,
    "start_time": "2023-04-05T17:34:05.167Z"
   },
   {
    "duration": 14,
    "start_time": "2023-04-05T17:34:05.178Z"
   },
   {
    "duration": 7381,
    "start_time": "2023-04-05T17:34:05.193Z"
   },
   {
    "duration": 7039,
    "start_time": "2023-04-05T17:34:12.576Z"
   },
   {
    "duration": 14327,
    "start_time": "2023-04-05T17:34:19.617Z"
   },
   {
    "duration": 264,
    "start_time": "2023-04-05T17:34:33.947Z"
   },
   {
    "duration": 11,
    "start_time": "2023-04-05T17:34:34.212Z"
   },
   {
    "duration": 10641,
    "start_time": "2023-04-05T17:34:34.225Z"
   },
   {
    "duration": 9341,
    "start_time": "2023-04-05T17:34:44.867Z"
   },
   {
    "duration": 30829,
    "start_time": "2023-04-05T17:34:54.212Z"
   },
   {
    "duration": 92,
    "start_time": "2023-04-05T17:35:25.047Z"
   },
   {
    "duration": 4959,
    "start_time": "2023-04-05T17:35:25.141Z"
   },
   {
    "duration": 4400,
    "start_time": "2023-04-05T17:35:30.101Z"
   },
   {
    "duration": 11172,
    "start_time": "2023-04-05T17:35:34.503Z"
   },
   {
    "duration": 165,
    "start_time": "2023-04-05T17:35:45.677Z"
   },
   {
    "duration": 133,
    "start_time": "2023-04-05T17:35:45.843Z"
   },
   {
    "duration": 300,
    "start_time": "2023-04-05T17:35:45.978Z"
   },
   {
    "duration": 81,
    "start_time": "2023-04-05T17:37:02.026Z"
   },
   {
    "duration": 83,
    "start_time": "2023-04-05T17:37:05.995Z"
   },
   {
    "duration": 302,
    "start_time": "2023-04-05T17:38:08.097Z"
   },
   {
    "duration": 282,
    "start_time": "2023-04-05T17:38:35.329Z"
   },
   {
    "duration": 403,
    "start_time": "2023-04-05T17:41:00.221Z"
   },
   {
    "duration": 295,
    "start_time": "2023-04-05T17:41:54.821Z"
   },
   {
    "duration": 459,
    "start_time": "2023-04-05T17:43:09.835Z"
   },
   {
    "duration": 351,
    "start_time": "2023-04-05T17:43:17.307Z"
   },
   {
    "duration": 281,
    "start_time": "2023-04-05T17:43:26.475Z"
   },
   {
    "duration": 302,
    "start_time": "2023-04-05T17:44:37.891Z"
   },
   {
    "duration": 291,
    "start_time": "2023-04-05T17:45:05.737Z"
   },
   {
    "duration": 264,
    "start_time": "2023-04-05T17:45:14.840Z"
   },
   {
    "duration": 230,
    "start_time": "2023-04-05T17:45:22.176Z"
   },
   {
    "duration": 299,
    "start_time": "2023-04-05T17:45:50.809Z"
   },
   {
    "duration": 44,
    "start_time": "2023-04-05T17:46:18.096Z"
   },
   {
    "duration": 93,
    "start_time": "2023-04-05T17:46:21.975Z"
   },
   {
    "duration": 90,
    "start_time": "2023-04-05T17:46:28.375Z"
   },
   {
    "duration": 87,
    "start_time": "2023-04-05T17:47:57.502Z"
   },
   {
    "duration": 2178,
    "start_time": "2023-04-05T17:51:55.230Z"
   },
   {
    "duration": 1254,
    "start_time": "2023-04-05T17:51:57.411Z"
   },
   {
    "duration": 72,
    "start_time": "2023-04-05T17:51:58.667Z"
   },
   {
    "duration": 16,
    "start_time": "2023-04-05T17:51:58.742Z"
   },
   {
    "duration": 4,
    "start_time": "2023-04-05T17:51:58.760Z"
   },
   {
    "duration": 15,
    "start_time": "2023-04-05T17:51:58.766Z"
   },
   {
    "duration": 9,
    "start_time": "2023-04-05T17:51:58.782Z"
   },
   {
    "duration": 5,
    "start_time": "2023-04-05T17:51:58.794Z"
   },
   {
    "duration": 39,
    "start_time": "2023-04-05T17:51:58.801Z"
   },
   {
    "duration": 5,
    "start_time": "2023-04-05T17:51:58.845Z"
   },
   {
    "duration": 365,
    "start_time": "2023-04-05T17:51:58.852Z"
   },
   {
    "duration": 12,
    "start_time": "2023-04-05T17:51:59.218Z"
   },
   {
    "duration": 36,
    "start_time": "2023-04-05T17:51:59.239Z"
   },
   {
    "duration": 279,
    "start_time": "2023-04-05T17:51:59.276Z"
   },
   {
    "duration": 2289,
    "start_time": "2023-04-05T17:54:31.888Z"
   },
   {
    "duration": 1279,
    "start_time": "2023-04-05T17:54:34.180Z"
   },
   {
    "duration": 71,
    "start_time": "2023-04-05T17:54:35.460Z"
   },
   {
    "duration": 13,
    "start_time": "2023-04-05T17:54:35.534Z"
   },
   {
    "duration": 4,
    "start_time": "2023-04-05T17:54:35.549Z"
   },
   {
    "duration": 11,
    "start_time": "2023-04-05T17:54:35.555Z"
   },
   {
    "duration": 8,
    "start_time": "2023-04-05T17:54:35.568Z"
   },
   {
    "duration": 5,
    "start_time": "2023-04-05T17:54:35.578Z"
   },
   {
    "duration": 5,
    "start_time": "2023-04-05T17:54:35.584Z"
   },
   {
    "duration": 48,
    "start_time": "2023-04-05T17:54:35.592Z"
   },
   {
    "duration": 376,
    "start_time": "2023-04-05T17:54:35.642Z"
   },
   {
    "duration": 21,
    "start_time": "2023-04-05T17:54:36.019Z"
   },
   {
    "duration": 38,
    "start_time": "2023-04-05T17:54:36.042Z"
   },
   {
    "duration": 313,
    "start_time": "2023-04-05T17:54:36.082Z"
   },
   {
    "duration": 132,
    "start_time": "2023-04-05T17:54:36.398Z"
   },
   {
    "duration": 18,
    "start_time": "2023-04-05T17:54:36.532Z"
   },
   {
    "duration": 14,
    "start_time": "2023-04-05T17:54:36.552Z"
   },
   {
    "duration": 3,
    "start_time": "2023-04-05T17:54:36.569Z"
   },
   {
    "duration": 3,
    "start_time": "2023-04-05T17:54:36.574Z"
   },
   {
    "duration": 5,
    "start_time": "2023-04-05T17:54:36.579Z"
   },
   {
    "duration": 8195,
    "start_time": "2023-04-05T17:54:36.586Z"
   },
   {
    "duration": 7359,
    "start_time": "2023-04-05T17:54:44.782Z"
   },
   {
    "duration": 10711,
    "start_time": "2023-04-05T17:54:52.143Z"
   },
   {
    "duration": 301,
    "start_time": "2023-04-05T17:55:02.856Z"
   },
   {
    "duration": 15,
    "start_time": "2023-04-05T17:55:03.158Z"
   },
   {
    "duration": 11558,
    "start_time": "2023-04-05T17:55:03.175Z"
   },
   {
    "duration": 9840,
    "start_time": "2023-04-05T17:55:14.735Z"
   },
   {
    "duration": 13464,
    "start_time": "2023-04-05T17:55:24.578Z"
   },
   {
    "duration": 97,
    "start_time": "2023-04-05T17:55:38.044Z"
   },
   {
    "duration": 2212,
    "start_time": "2023-04-05T17:55:40.641Z"
   },
   {
    "duration": 1222,
    "start_time": "2023-04-05T17:55:42.856Z"
   },
   {
    "duration": 89,
    "start_time": "2023-04-05T17:55:44.080Z"
   },
   {
    "duration": 14,
    "start_time": "2023-04-05T17:55:44.172Z"
   },
   {
    "duration": 4,
    "start_time": "2023-04-05T17:55:44.188Z"
   },
   {
    "duration": 16,
    "start_time": "2023-04-05T17:55:44.194Z"
   },
   {
    "duration": 33,
    "start_time": "2023-04-05T17:55:44.212Z"
   },
   {
    "duration": 7,
    "start_time": "2023-04-05T17:55:44.247Z"
   },
   {
    "duration": 10,
    "start_time": "2023-04-05T17:55:44.255Z"
   },
   {
    "duration": 13,
    "start_time": "2023-04-05T17:55:44.269Z"
   },
   {
    "duration": 446,
    "start_time": "2023-04-05T17:55:44.283Z"
   },
   {
    "duration": 20,
    "start_time": "2023-04-05T17:55:44.730Z"
   },
   {
    "duration": 50,
    "start_time": "2023-04-05T17:55:44.752Z"
   },
   {
    "duration": 313,
    "start_time": "2023-04-05T17:55:44.804Z"
   },
   {
    "duration": 96049,
    "start_time": "2023-04-05T17:55:45.119Z"
   },
   {
    "duration": 0,
    "start_time": "2023-04-05T17:57:21.171Z"
   },
   {
    "duration": 0,
    "start_time": "2023-04-05T17:57:21.171Z"
   },
   {
    "duration": 0,
    "start_time": "2023-04-05T17:57:21.172Z"
   },
   {
    "duration": 0,
    "start_time": "2023-04-05T17:57:21.173Z"
   },
   {
    "duration": 0,
    "start_time": "2023-04-05T17:57:21.174Z"
   },
   {
    "duration": 0,
    "start_time": "2023-04-05T17:57:21.175Z"
   },
   {
    "duration": 0,
    "start_time": "2023-04-05T17:57:21.176Z"
   },
   {
    "duration": 0,
    "start_time": "2023-04-05T17:57:21.177Z"
   },
   {
    "duration": 0,
    "start_time": "2023-04-05T17:57:21.178Z"
   },
   {
    "duration": 0,
    "start_time": "2023-04-05T17:57:21.179Z"
   },
   {
    "duration": 0,
    "start_time": "2023-04-05T17:57:21.180Z"
   },
   {
    "duration": 0,
    "start_time": "2023-04-05T17:57:21.181Z"
   },
   {
    "duration": 0,
    "start_time": "2023-04-05T17:57:21.182Z"
   },
   {
    "duration": 0,
    "start_time": "2023-04-05T17:57:21.183Z"
   },
   {
    "duration": 0,
    "start_time": "2023-04-05T17:57:21.184Z"
   },
   {
    "duration": 0,
    "start_time": "2023-04-05T17:57:21.184Z"
   },
   {
    "duration": 0,
    "start_time": "2023-04-05T17:57:21.185Z"
   },
   {
    "duration": 0,
    "start_time": "2023-04-05T17:57:21.186Z"
   },
   {
    "duration": 0,
    "start_time": "2023-04-05T17:57:21.187Z"
   },
   {
    "duration": 0,
    "start_time": "2023-04-05T17:57:21.188Z"
   },
   {
    "duration": 2183,
    "start_time": "2023-04-05T17:58:56.168Z"
   },
   {
    "duration": 1227,
    "start_time": "2023-04-05T17:58:58.353Z"
   },
   {
    "duration": 114,
    "start_time": "2023-04-05T17:58:59.582Z"
   },
   {
    "duration": 17,
    "start_time": "2023-04-05T17:58:59.698Z"
   },
   {
    "duration": 5,
    "start_time": "2023-04-05T17:58:59.717Z"
   },
   {
    "duration": 19,
    "start_time": "2023-04-05T17:58:59.723Z"
   },
   {
    "duration": 10,
    "start_time": "2023-04-05T17:58:59.744Z"
   },
   {
    "duration": 17,
    "start_time": "2023-04-05T17:58:59.756Z"
   },
   {
    "duration": 6,
    "start_time": "2023-04-05T17:58:59.775Z"
   },
   {
    "duration": 5,
    "start_time": "2023-04-05T17:58:59.784Z"
   },
   {
    "duration": 441,
    "start_time": "2023-04-05T17:58:59.790Z"
   },
   {
    "duration": 18,
    "start_time": "2023-04-05T17:59:00.233Z"
   },
   {
    "duration": 56,
    "start_time": "2023-04-05T17:59:00.253Z"
   },
   {
    "duration": 335,
    "start_time": "2023-04-05T17:59:00.311Z"
   },
   {
    "duration": 2039,
    "start_time": "2023-04-05T17:59:54.012Z"
   },
   {
    "duration": 1265,
    "start_time": "2023-04-05T17:59:56.053Z"
   },
   {
    "duration": 70,
    "start_time": "2023-04-05T17:59:57.319Z"
   },
   {
    "duration": 11,
    "start_time": "2023-04-05T17:59:57.391Z"
   },
   {
    "duration": 4,
    "start_time": "2023-04-05T17:59:57.440Z"
   },
   {
    "duration": 21,
    "start_time": "2023-04-05T17:59:57.446Z"
   },
   {
    "duration": 10,
    "start_time": "2023-04-05T17:59:57.469Z"
   },
   {
    "duration": 8,
    "start_time": "2023-04-05T17:59:57.481Z"
   },
   {
    "duration": 6,
    "start_time": "2023-04-05T17:59:57.541Z"
   },
   {
    "duration": 4,
    "start_time": "2023-04-05T17:59:57.550Z"
   },
   {
    "duration": 603,
    "start_time": "2023-04-05T17:59:57.555Z"
   },
   {
    "duration": 12,
    "start_time": "2023-04-05T17:59:58.160Z"
   },
   {
    "duration": 90,
    "start_time": "2023-04-05T17:59:58.174Z"
   },
   {
    "duration": 415,
    "start_time": "2023-04-05T17:59:58.266Z"
   },
   {
    "duration": 59,
    "start_time": "2023-04-05T17:59:58.683Z"
   },
   {
    "duration": 7,
    "start_time": "2023-04-05T17:59:58.744Z"
   },
   {
    "duration": 13,
    "start_time": "2023-04-05T17:59:58.753Z"
   },
   {
    "duration": 73,
    "start_time": "2023-04-05T17:59:58.767Z"
   },
   {
    "duration": 4,
    "start_time": "2023-04-05T17:59:58.841Z"
   },
   {
    "duration": 5,
    "start_time": "2023-04-05T17:59:58.846Z"
   },
   {
    "duration": 4,
    "start_time": "2023-04-05T17:59:58.852Z"
   },
   {
    "duration": 9904,
    "start_time": "2023-04-05T17:59:58.858Z"
   },
   {
    "duration": 6757,
    "start_time": "2023-04-05T18:00:08.764Z"
   },
   {
    "duration": 5983,
    "start_time": "2023-04-05T18:00:15.522Z"
   },
   {
    "duration": 220,
    "start_time": "2023-04-05T18:00:21.541Z"
   },
   {
    "duration": 12,
    "start_time": "2023-04-05T18:00:21.763Z"
   },
   {
    "duration": 11354,
    "start_time": "2023-04-05T18:00:21.777Z"
   },
   {
    "duration": 9705,
    "start_time": "2023-04-05T18:00:33.134Z"
   },
   {
    "duration": 10817,
    "start_time": "2023-04-05T18:00:42.841Z"
   },
   {
    "duration": 15,
    "start_time": "2023-04-05T18:00:53.740Z"
   },
   {
    "duration": 5461,
    "start_time": "2023-04-05T18:00:53.757Z"
   },
   {
    "duration": 2361,
    "start_time": "2023-04-05T18:01:04.847Z"
   },
   {
    "duration": 1285,
    "start_time": "2023-04-05T18:01:07.210Z"
   },
   {
    "duration": 80,
    "start_time": "2023-04-05T18:01:08.496Z"
   },
   {
    "duration": 17,
    "start_time": "2023-04-05T18:01:08.580Z"
   },
   {
    "duration": 4,
    "start_time": "2023-04-05T18:01:08.599Z"
   },
   {
    "duration": 15,
    "start_time": "2023-04-05T18:01:08.605Z"
   },
   {
    "duration": 9,
    "start_time": "2023-04-05T18:01:08.641Z"
   },
   {
    "duration": 8,
    "start_time": "2023-04-05T18:01:08.652Z"
   },
   {
    "duration": 8,
    "start_time": "2023-04-05T18:01:08.662Z"
   },
   {
    "duration": 7,
    "start_time": "2023-04-05T18:01:08.673Z"
   },
   {
    "duration": 445,
    "start_time": "2023-04-05T18:01:08.682Z"
   },
   {
    "duration": 17,
    "start_time": "2023-04-05T18:01:09.128Z"
   },
   {
    "duration": 40,
    "start_time": "2023-04-05T18:01:09.147Z"
   },
   {
    "duration": 353,
    "start_time": "2023-04-05T18:01:09.189Z"
   },
   {
    "duration": 6,
    "start_time": "2023-04-05T18:01:09.545Z"
   },
   {
    "duration": 140,
    "start_time": "2023-04-05T18:01:09.552Z"
   },
   {
    "duration": 10,
    "start_time": "2023-04-05T18:01:09.693Z"
   },
   {
    "duration": 24,
    "start_time": "2023-04-05T18:01:09.704Z"
   },
   {
    "duration": 10,
    "start_time": "2023-04-05T18:01:09.731Z"
   },
   {
    "duration": 14,
    "start_time": "2023-04-05T18:01:09.743Z"
   },
   {
    "duration": 8,
    "start_time": "2023-04-05T18:01:09.759Z"
   },
   {
    "duration": 9039,
    "start_time": "2023-04-05T18:01:09.768Z"
   },
   {
    "duration": 7238,
    "start_time": "2023-04-05T18:01:18.809Z"
   },
   {
    "duration": 5499,
    "start_time": "2023-04-05T18:01:26.049Z"
   },
   {
    "duration": 219,
    "start_time": "2023-04-05T18:01:31.551Z"
   },
   {
    "duration": 12,
    "start_time": "2023-04-05T18:01:31.772Z"
   },
   {
    "duration": 11381,
    "start_time": "2023-04-05T18:01:31.786Z"
   },
   {
    "duration": 2109,
    "start_time": "2023-04-05T18:01:50.602Z"
   },
   {
    "duration": 1261,
    "start_time": "2023-04-05T18:01:52.713Z"
   },
   {
    "duration": 74,
    "start_time": "2023-04-05T18:01:53.976Z"
   },
   {
    "duration": 15,
    "start_time": "2023-04-05T18:01:54.053Z"
   },
   {
    "duration": 4,
    "start_time": "2023-04-05T18:01:54.070Z"
   },
   {
    "duration": 15,
    "start_time": "2023-04-05T18:01:54.076Z"
   },
   {
    "duration": 8,
    "start_time": "2023-04-05T18:01:54.093Z"
   },
   {
    "duration": 41,
    "start_time": "2023-04-05T18:01:54.103Z"
   },
   {
    "duration": 6,
    "start_time": "2023-04-05T18:01:54.146Z"
   },
   {
    "duration": 6,
    "start_time": "2023-04-05T18:01:54.155Z"
   },
   {
    "duration": 382,
    "start_time": "2023-04-05T18:01:54.163Z"
   },
   {
    "duration": 18,
    "start_time": "2023-04-05T18:01:54.548Z"
   },
   {
    "duration": 89,
    "start_time": "2023-04-05T18:01:54.568Z"
   },
   {
    "duration": 585,
    "start_time": "2023-04-05T18:01:54.659Z"
   },
   {
    "duration": 8,
    "start_time": "2023-04-05T18:01:55.246Z"
   },
   {
    "duration": 288,
    "start_time": "2023-04-05T18:01:55.256Z"
   },
   {
    "duration": 14,
    "start_time": "2023-04-05T18:01:55.546Z"
   },
   {
    "duration": 22,
    "start_time": "2023-04-05T18:01:55.562Z"
   },
   {
    "duration": 17,
    "start_time": "2023-04-05T18:01:55.640Z"
   },
   {
    "duration": 11,
    "start_time": "2023-04-05T18:01:55.660Z"
   },
   {
    "duration": 14,
    "start_time": "2023-04-05T18:01:55.673Z"
   },
   {
    "duration": 9571,
    "start_time": "2023-04-05T18:01:55.689Z"
   },
   {
    "duration": 7283,
    "start_time": "2023-04-05T18:02:05.261Z"
   },
   {
    "duration": 5801,
    "start_time": "2023-04-05T18:02:12.546Z"
   },
   {
    "duration": 323,
    "start_time": "2023-04-05T18:02:18.349Z"
   },
   {
    "duration": 14,
    "start_time": "2023-04-05T18:02:18.674Z"
   },
   {
    "duration": 10956,
    "start_time": "2023-04-05T18:02:18.690Z"
   },
   {
    "duration": 9740,
    "start_time": "2023-04-05T18:02:29.650Z"
   },
   {
    "duration": 8074,
    "start_time": "2023-04-05T18:02:39.392Z"
   },
   {
    "duration": 95,
    "start_time": "2023-04-05T18:02:47.467Z"
   },
   {
    "duration": 5039,
    "start_time": "2023-04-05T18:02:47.564Z"
   },
   {
    "duration": 4516,
    "start_time": "2023-04-05T18:02:52.605Z"
   },
   {
    "duration": 2562,
    "start_time": "2023-04-05T18:02:57.122Z"
   },
   {
    "duration": 159,
    "start_time": "2023-04-05T18:02:59.686Z"
   },
   {
    "duration": 152,
    "start_time": "2023-04-05T18:02:59.847Z"
   },
   {
    "duration": 383,
    "start_time": "2023-04-05T18:03:00.002Z"
   },
   {
    "duration": 6,
    "start_time": "2023-04-05T18:14:58.192Z"
   },
   {
    "duration": 123,
    "start_time": "2023-04-05T18:15:20.592Z"
   },
   {
    "duration": 5,
    "start_time": "2023-04-05T18:15:43.919Z"
   },
   {
    "duration": 92,
    "start_time": "2023-04-05T18:16:14.527Z"
   },
   {
    "duration": 4,
    "start_time": "2023-04-05T18:18:06.038Z"
   },
   {
    "duration": 5,
    "start_time": "2023-04-05T18:18:13.550Z"
   },
   {
    "duration": 6,
    "start_time": "2023-04-05T18:18:52.062Z"
   },
   {
    "duration": 83,
    "start_time": "2023-04-05T18:19:05.724Z"
   },
   {
    "duration": 75,
    "start_time": "2023-04-05T18:20:08.701Z"
   },
   {
    "duration": 78,
    "start_time": "2023-04-05T18:20:14.916Z"
   },
   {
    "duration": 241,
    "start_time": "2023-04-05T18:25:04.640Z"
   },
   {
    "duration": 199,
    "start_time": "2023-04-05T18:26:15.343Z"
   },
   {
    "duration": 99,
    "start_time": "2023-04-05T18:26:19.551Z"
   },
   {
    "duration": 199,
    "start_time": "2023-04-05T18:26:23.167Z"
   },
   {
    "duration": 101,
    "start_time": "2023-04-05T18:26:43.917Z"
   },
   {
    "duration": 193,
    "start_time": "2023-04-05T18:26:49.151Z"
   },
   {
    "duration": 225,
    "start_time": "2023-04-05T18:28:14.903Z"
   },
   {
    "duration": 259,
    "start_time": "2023-04-05T18:28:24.855Z"
   },
   {
    "duration": 279,
    "start_time": "2023-04-05T18:31:28.907Z"
   },
   {
    "duration": 280,
    "start_time": "2023-04-05T18:31:34.235Z"
   },
   {
    "duration": 104,
    "start_time": "2023-04-05T18:31:49.210Z"
   },
   {
    "duration": 9,
    "start_time": "2023-04-05T18:32:38.442Z"
   },
   {
    "duration": 10,
    "start_time": "2023-04-05T18:32:41.146Z"
   },
   {
    "duration": 79,
    "start_time": "2023-04-05T18:32:49.842Z"
   },
   {
    "duration": 85,
    "start_time": "2023-04-05T18:33:01.098Z"
   },
   {
    "duration": 84,
    "start_time": "2023-04-05T18:33:03.985Z"
   },
   {
    "duration": 88,
    "start_time": "2023-04-05T18:35:42.424Z"
   },
   {
    "duration": 89,
    "start_time": "2023-04-05T18:35:49.045Z"
   },
   {
    "duration": 88,
    "start_time": "2023-04-05T18:36:26.927Z"
   },
   {
    "duration": 85,
    "start_time": "2023-04-05T18:37:46.883Z"
   },
   {
    "duration": 47,
    "start_time": "2023-04-06T06:37:22.492Z"
   },
   {
    "duration": 7117,
    "start_time": "2023-04-06T06:37:31.911Z"
   },
   {
    "duration": 1416,
    "start_time": "2023-04-06T06:37:39.031Z"
   },
   {
    "duration": 311,
    "start_time": "2023-04-06T06:37:40.449Z"
   },
   {
    "duration": 12,
    "start_time": "2023-04-06T06:37:40.762Z"
   },
   {
    "duration": 3,
    "start_time": "2023-04-06T06:37:40.776Z"
   },
   {
    "duration": 12,
    "start_time": "2023-04-06T06:37:40.780Z"
   },
   {
    "duration": 6,
    "start_time": "2023-04-06T06:37:40.794Z"
   },
   {
    "duration": 8,
    "start_time": "2023-04-06T06:37:40.802Z"
   },
   {
    "duration": 13,
    "start_time": "2023-04-06T06:37:40.811Z"
   },
   {
    "duration": 5,
    "start_time": "2023-04-06T06:37:40.826Z"
   },
   {
    "duration": 496,
    "start_time": "2023-04-06T06:37:40.832Z"
   },
   {
    "duration": 15,
    "start_time": "2023-04-06T06:37:41.329Z"
   },
   {
    "duration": 54,
    "start_time": "2023-04-06T06:37:41.346Z"
   },
   {
    "duration": 310,
    "start_time": "2023-04-06T06:37:41.402Z"
   },
   {
    "duration": 108,
    "start_time": "2023-04-06T06:37:41.714Z"
   },
   {
    "duration": 11,
    "start_time": "2023-04-06T06:37:41.823Z"
   },
   {
    "duration": 15,
    "start_time": "2023-04-06T06:37:41.835Z"
   },
   {
    "duration": 4,
    "start_time": "2023-04-06T06:37:41.851Z"
   },
   {
    "duration": 26,
    "start_time": "2023-04-06T06:37:41.856Z"
   },
   {
    "duration": 4,
    "start_time": "2023-04-06T06:37:41.884Z"
   },
   {
    "duration": 6973,
    "start_time": "2023-04-06T06:37:41.889Z"
   },
   {
    "duration": 6853,
    "start_time": "2023-04-06T06:37:48.864Z"
   },
   {
    "duration": 7170,
    "start_time": "2023-04-06T06:37:55.719Z"
   },
   {
    "duration": 398,
    "start_time": "2023-04-06T06:38:02.892Z"
   },
   {
    "duration": 12,
    "start_time": "2023-04-06T06:38:03.292Z"
   },
   {
    "duration": 10396,
    "start_time": "2023-04-06T06:38:03.305Z"
   },
   {
    "duration": 9427,
    "start_time": "2023-04-06T06:38:13.702Z"
   },
   {
    "duration": 11893,
    "start_time": "2023-04-06T06:38:23.132Z"
   },
   {
    "duration": 155,
    "start_time": "2023-04-06T06:38:35.028Z"
   },
   {
    "duration": 5165,
    "start_time": "2023-04-06T06:38:35.185Z"
   },
   {
    "duration": 4751,
    "start_time": "2023-04-06T06:38:40.352Z"
   },
   {
    "duration": 5679,
    "start_time": "2023-04-06T06:38:45.105Z"
   },
   {
    "duration": 113,
    "start_time": "2023-04-06T06:38:50.786Z"
   },
   {
    "duration": 143,
    "start_time": "2023-04-06T06:38:50.901Z"
   },
   {
    "duration": 381,
    "start_time": "2023-04-06T06:38:51.046Z"
   },
   {
    "duration": 286,
    "start_time": "2023-04-06T06:39:25.560Z"
   },
   {
    "duration": 6678,
    "start_time": "2023-04-06T06:40:11.846Z"
   },
   {
    "duration": 4,
    "start_time": "2023-04-06T06:41:50.437Z"
   },
   {
    "duration": 18,
    "start_time": "2023-04-06T06:43:26.660Z"
   },
   {
    "duration": 14,
    "start_time": "2023-04-06T06:44:35.363Z"
   },
   {
    "duration": 5667,
    "start_time": "2023-04-06T06:44:41.995Z"
   },
   {
    "duration": 2229,
    "start_time": "2023-04-06T06:46:19.990Z"
   },
   {
    "duration": 2071,
    "start_time": "2023-04-06T06:46:22.221Z"
   },
   {
    "duration": 1230,
    "start_time": "2023-04-06T06:46:24.293Z"
   },
   {
    "duration": 88,
    "start_time": "2023-04-06T06:46:25.525Z"
   },
   {
    "duration": 14,
    "start_time": "2023-04-06T06:46:25.614Z"
   },
   {
    "duration": 19,
    "start_time": "2023-04-06T06:46:25.629Z"
   },
   {
    "duration": 22,
    "start_time": "2023-04-06T06:46:25.649Z"
   },
   {
    "duration": 13,
    "start_time": "2023-04-06T06:46:25.673Z"
   },
   {
    "duration": 19,
    "start_time": "2023-04-06T06:46:25.688Z"
   },
   {
    "duration": 6,
    "start_time": "2023-04-06T06:46:25.711Z"
   },
   {
    "duration": 6,
    "start_time": "2023-04-06T06:46:25.719Z"
   },
   {
    "duration": 415,
    "start_time": "2023-04-06T06:46:25.726Z"
   },
   {
    "duration": 14,
    "start_time": "2023-04-06T06:46:26.143Z"
   },
   {
    "duration": 57,
    "start_time": "2023-04-06T06:46:26.158Z"
   },
   {
    "duration": 269,
    "start_time": "2023-04-06T06:46:26.216Z"
   },
   {
    "duration": 102,
    "start_time": "2023-04-06T06:46:26.487Z"
   },
   {
    "duration": 11,
    "start_time": "2023-04-06T06:46:26.591Z"
   },
   {
    "duration": 16,
    "start_time": "2023-04-06T06:46:26.604Z"
   },
   {
    "duration": 22,
    "start_time": "2023-04-06T06:46:26.622Z"
   },
   {
    "duration": 9,
    "start_time": "2023-04-06T06:46:26.646Z"
   },
   {
    "duration": 17,
    "start_time": "2023-04-06T06:46:26.657Z"
   },
   {
    "duration": 25,
    "start_time": "2023-04-06T06:46:26.676Z"
   },
   {
    "duration": 5609,
    "start_time": "2023-04-06T06:46:26.703Z"
   },
   {
    "duration": 6002,
    "start_time": "2023-04-06T06:46:32.314Z"
   },
   {
    "duration": 1172,
    "start_time": "2023-04-06T06:46:38.317Z"
   },
   {
    "duration": 341,
    "start_time": "2023-04-06T06:46:39.491Z"
   },
   {
    "duration": 143,
    "start_time": "2023-04-06T06:46:39.834Z"
   },
   {
    "duration": 0,
    "start_time": "2023-04-06T06:46:39.979Z"
   },
   {
    "duration": 0,
    "start_time": "2023-04-06T06:46:39.983Z"
   },
   {
    "duration": 0,
    "start_time": "2023-04-06T06:46:39.984Z"
   },
   {
    "duration": 0,
    "start_time": "2023-04-06T06:46:39.985Z"
   },
   {
    "duration": 0,
    "start_time": "2023-04-06T06:46:39.986Z"
   },
   {
    "duration": 0,
    "start_time": "2023-04-06T06:46:39.987Z"
   },
   {
    "duration": 0,
    "start_time": "2023-04-06T06:46:39.988Z"
   },
   {
    "duration": 0,
    "start_time": "2023-04-06T06:46:39.989Z"
   },
   {
    "duration": 0,
    "start_time": "2023-04-06T06:46:40.051Z"
   },
   {
    "duration": 0,
    "start_time": "2023-04-06T06:46:40.053Z"
   },
   {
    "duration": 17,
    "start_time": "2023-04-06T06:47:53.112Z"
   },
   {
    "duration": 874,
    "start_time": "2023-04-06T06:48:44.414Z"
   },
   {
    "duration": 141,
    "start_time": "2023-04-06T06:48:48.455Z"
   },
   {
    "duration": 4,
    "start_time": "2023-04-06T06:49:57.446Z"
   },
   {
    "duration": 6,
    "start_time": "2023-04-06T06:50:20.277Z"
   },
   {
    "duration": 4,
    "start_time": "2023-04-06T06:50:24.702Z"
   },
   {
    "duration": 2196,
    "start_time": "2023-04-06T06:50:31.425Z"
   },
   {
    "duration": 2195,
    "start_time": "2023-04-06T06:50:33.623Z"
   },
   {
    "duration": 1204,
    "start_time": "2023-04-06T06:50:35.820Z"
   },
   {
    "duration": 97,
    "start_time": "2023-04-06T06:50:37.026Z"
   },
   {
    "duration": 10,
    "start_time": "2023-04-06T06:50:37.125Z"
   },
   {
    "duration": 26,
    "start_time": "2023-04-06T06:50:37.137Z"
   },
   {
    "duration": 46,
    "start_time": "2023-04-06T06:50:37.164Z"
   },
   {
    "duration": 47,
    "start_time": "2023-04-06T06:50:37.211Z"
   },
   {
    "duration": 27,
    "start_time": "2023-04-06T06:50:37.260Z"
   },
   {
    "duration": 28,
    "start_time": "2023-04-06T06:50:37.290Z"
   },
   {
    "duration": 29,
    "start_time": "2023-04-06T06:50:37.320Z"
   },
   {
    "duration": 423,
    "start_time": "2023-04-06T06:50:37.350Z"
   },
   {
    "duration": 13,
    "start_time": "2023-04-06T06:50:37.774Z"
   },
   {
    "duration": 67,
    "start_time": "2023-04-06T06:50:37.789Z"
   },
   {
    "duration": 308,
    "start_time": "2023-04-06T06:50:37.857Z"
   },
   {
    "duration": 105,
    "start_time": "2023-04-06T06:50:38.166Z"
   },
   {
    "duration": 9,
    "start_time": "2023-04-06T06:50:38.273Z"
   },
   {
    "duration": 44,
    "start_time": "2023-04-06T06:50:38.283Z"
   },
   {
    "duration": 32,
    "start_time": "2023-04-06T06:50:38.329Z"
   },
   {
    "duration": 55,
    "start_time": "2023-04-06T06:50:38.363Z"
   },
   {
    "duration": 39,
    "start_time": "2023-04-06T06:50:38.419Z"
   },
   {
    "duration": 97,
    "start_time": "2023-04-06T06:50:38.459Z"
   },
   {
    "duration": 28,
    "start_time": "2023-04-06T06:50:38.557Z"
   },
   {
    "duration": 6444,
    "start_time": "2023-04-06T06:50:38.586Z"
   },
   {
    "duration": 5919,
    "start_time": "2023-04-06T06:50:45.031Z"
   },
   {
    "duration": 949,
    "start_time": "2023-04-06T06:50:50.952Z"
   },
   {
    "duration": 304,
    "start_time": "2023-04-06T06:50:51.903Z"
   },
   {
    "duration": 9,
    "start_time": "2023-04-06T06:50:52.210Z"
   },
   {
    "duration": 9122,
    "start_time": "2023-04-06T06:50:52.221Z"
   },
   {
    "duration": 8567,
    "start_time": "2023-04-06T06:51:01.345Z"
   },
   {
    "duration": 2706,
    "start_time": "2023-04-06T06:51:09.914Z"
   },
   {
    "duration": 101,
    "start_time": "2023-04-06T06:51:12.691Z"
   },
   {
    "duration": 4322,
    "start_time": "2023-04-06T06:51:12.793Z"
   },
   {
    "duration": 4190,
    "start_time": "2023-04-06T06:51:17.117Z"
   },
   {
    "duration": 880,
    "start_time": "2023-04-06T06:51:21.309Z"
   },
   {
    "duration": 203,
    "start_time": "2023-04-06T06:51:22.191Z"
   },
   {
    "duration": 148,
    "start_time": "2023-04-06T06:51:22.396Z"
   },
   {
    "duration": 403,
    "start_time": "2023-04-06T06:51:22.545Z"
   },
   {
    "duration": 6363,
    "start_time": "2023-04-06T06:53:54.861Z"
   },
   {
    "duration": 6233,
    "start_time": "2023-04-06T06:55:01.785Z"
   },
   {
    "duration": 864,
    "start_time": "2023-04-06T06:56:07.737Z"
   },
   {
    "duration": 140,
    "start_time": "2023-04-06T06:56:56.137Z"
   },
   {
    "duration": 4,
    "start_time": "2023-04-06T07:08:20.535Z"
   },
   {
    "duration": 36,
    "start_time": "2023-04-06T07:12:47.065Z"
   },
   {
    "duration": 5,
    "start_time": "2023-04-06T07:14:57.574Z"
   },
   {
    "duration": 113,
    "start_time": "2023-04-06T07:16:52.245Z"
   },
   {
    "duration": 866,
    "start_time": "2023-04-06T07:16:58.923Z"
   },
   {
    "duration": 2142,
    "start_time": "2023-04-06T07:19:45.254Z"
   },
   {
    "duration": 2115,
    "start_time": "2023-04-06T07:19:47.398Z"
   },
   {
    "duration": 1232,
    "start_time": "2023-04-06T07:19:49.514Z"
   },
   {
    "duration": 88,
    "start_time": "2023-04-06T07:19:50.748Z"
   },
   {
    "duration": 13,
    "start_time": "2023-04-06T07:19:50.837Z"
   },
   {
    "duration": 7,
    "start_time": "2023-04-06T07:19:50.852Z"
   },
   {
    "duration": 19,
    "start_time": "2023-04-06T07:19:50.860Z"
   },
   {
    "duration": 13,
    "start_time": "2023-04-06T07:19:50.880Z"
   },
   {
    "duration": 21,
    "start_time": "2023-04-06T07:19:50.894Z"
   },
   {
    "duration": 7,
    "start_time": "2023-04-06T07:19:50.918Z"
   },
   {
    "duration": 8,
    "start_time": "2023-04-06T07:19:50.927Z"
   },
   {
    "duration": 406,
    "start_time": "2023-04-06T07:19:50.936Z"
   },
   {
    "duration": 13,
    "start_time": "2023-04-06T07:19:51.344Z"
   },
   {
    "duration": 54,
    "start_time": "2023-04-06T07:19:51.358Z"
   },
   {
    "duration": 274,
    "start_time": "2023-04-06T07:19:51.413Z"
   },
   {
    "duration": 99,
    "start_time": "2023-04-06T07:19:51.689Z"
   },
   {
    "duration": 2,
    "start_time": "2023-04-06T07:19:51.790Z"
   },
   {
    "duration": 122,
    "start_time": "2023-04-06T07:19:51.794Z"
   },
   {
    "duration": 0,
    "start_time": "2023-04-06T07:19:51.918Z"
   },
   {
    "duration": 0,
    "start_time": "2023-04-06T07:19:51.919Z"
   },
   {
    "duration": 0,
    "start_time": "2023-04-06T07:19:51.920Z"
   },
   {
    "duration": 0,
    "start_time": "2023-04-06T07:19:51.921Z"
   },
   {
    "duration": 0,
    "start_time": "2023-04-06T07:19:51.923Z"
   },
   {
    "duration": 0,
    "start_time": "2023-04-06T07:19:51.924Z"
   },
   {
    "duration": 0,
    "start_time": "2023-04-06T07:19:51.924Z"
   },
   {
    "duration": 0,
    "start_time": "2023-04-06T07:19:51.926Z"
   },
   {
    "duration": 0,
    "start_time": "2023-04-06T07:19:51.928Z"
   },
   {
    "duration": 0,
    "start_time": "2023-04-06T07:19:51.929Z"
   },
   {
    "duration": 0,
    "start_time": "2023-04-06T07:19:51.931Z"
   },
   {
    "duration": 0,
    "start_time": "2023-04-06T07:19:51.932Z"
   },
   {
    "duration": 0,
    "start_time": "2023-04-06T07:19:51.934Z"
   },
   {
    "duration": 0,
    "start_time": "2023-04-06T07:19:51.935Z"
   },
   {
    "duration": 0,
    "start_time": "2023-04-06T07:19:51.937Z"
   },
   {
    "duration": 0,
    "start_time": "2023-04-06T07:19:51.938Z"
   },
   {
    "duration": 0,
    "start_time": "2023-04-06T07:19:51.939Z"
   },
   {
    "duration": 0,
    "start_time": "2023-04-06T07:19:51.940Z"
   },
   {
    "duration": 0,
    "start_time": "2023-04-06T07:19:51.941Z"
   },
   {
    "duration": 19,
    "start_time": "2023-04-06T07:20:35.545Z"
   },
   {
    "duration": 4,
    "start_time": "2023-04-06T07:20:57.424Z"
   },
   {
    "duration": 14,
    "start_time": "2023-04-06T07:21:52.736Z"
   },
   {
    "duration": 3,
    "start_time": "2023-04-06T07:21:54.567Z"
   },
   {
    "duration": 3,
    "start_time": "2023-04-06T07:21:55.623Z"
   },
   {
    "duration": 3,
    "start_time": "2023-04-06T07:21:57.167Z"
   },
   {
    "duration": 19,
    "start_time": "2023-04-06T07:21:58.749Z"
   },
   {
    "duration": 13,
    "start_time": "2023-04-06T07:42:48.956Z"
   },
   {
    "duration": 12,
    "start_time": "2023-04-06T07:43:04.068Z"
   },
   {
    "duration": 13,
    "start_time": "2023-04-06T07:43:21.715Z"
   },
   {
    "duration": 16,
    "start_time": "2023-04-06T07:45:36.625Z"
   },
   {
    "duration": 2360,
    "start_time": "2023-04-06T08:19:39.237Z"
   },
   {
    "duration": 2428,
    "start_time": "2023-04-06T08:19:41.600Z"
   },
   {
    "duration": 1403,
    "start_time": "2023-04-06T08:19:44.030Z"
   },
   {
    "duration": 183,
    "start_time": "2023-04-06T08:19:45.435Z"
   },
   {
    "duration": 14,
    "start_time": "2023-04-06T08:19:45.620Z"
   },
   {
    "duration": 11,
    "start_time": "2023-04-06T08:19:45.636Z"
   },
   {
    "duration": 18,
    "start_time": "2023-04-06T08:19:45.648Z"
   },
   {
    "duration": 10,
    "start_time": "2023-04-06T08:19:45.668Z"
   },
   {
    "duration": 22,
    "start_time": "2023-04-06T08:19:45.682Z"
   },
   {
    "duration": 13,
    "start_time": "2023-04-06T08:19:45.706Z"
   },
   {
    "duration": 14,
    "start_time": "2023-04-06T08:19:45.720Z"
   },
   {
    "duration": 440,
    "start_time": "2023-04-06T08:19:45.736Z"
   },
   {
    "duration": 18,
    "start_time": "2023-04-06T08:19:46.177Z"
   },
   {
    "duration": 41,
    "start_time": "2023-04-06T08:19:46.196Z"
   },
   {
    "duration": 327,
    "start_time": "2023-04-06T08:19:46.239Z"
   },
   {
    "duration": 134,
    "start_time": "2023-04-06T08:19:46.568Z"
   },
   {
    "duration": 3,
    "start_time": "2023-04-06T08:19:46.703Z"
   },
   {
    "duration": 33,
    "start_time": "2023-04-06T08:19:46.708Z"
   },
   {
    "duration": 15,
    "start_time": "2023-04-06T08:19:46.743Z"
   },
   {
    "duration": 25,
    "start_time": "2023-04-06T08:19:46.760Z"
   },
   {
    "duration": 21,
    "start_time": "2023-04-06T08:19:46.786Z"
   },
   {
    "duration": 18,
    "start_time": "2023-04-06T08:19:46.809Z"
   },
   {
    "duration": 20,
    "start_time": "2023-04-06T08:19:46.828Z"
   },
   {
    "duration": 149,
    "start_time": "2023-04-06T08:19:46.849Z"
   },
   {
    "duration": 0,
    "start_time": "2023-04-06T08:19:47.000Z"
   },
   {
    "duration": 0,
    "start_time": "2023-04-06T08:19:47.002Z"
   },
   {
    "duration": 0,
    "start_time": "2023-04-06T08:19:47.003Z"
   },
   {
    "duration": 0,
    "start_time": "2023-04-06T08:19:47.004Z"
   },
   {
    "duration": 0,
    "start_time": "2023-04-06T08:19:47.005Z"
   },
   {
    "duration": 0,
    "start_time": "2023-04-06T08:19:47.006Z"
   },
   {
    "duration": 0,
    "start_time": "2023-04-06T08:19:47.007Z"
   },
   {
    "duration": 0,
    "start_time": "2023-04-06T08:19:47.009Z"
   },
   {
    "duration": 0,
    "start_time": "2023-04-06T08:19:47.010Z"
   },
   {
    "duration": 0,
    "start_time": "2023-04-06T08:19:47.011Z"
   },
   {
    "duration": 0,
    "start_time": "2023-04-06T08:19:47.012Z"
   },
   {
    "duration": 0,
    "start_time": "2023-04-06T08:19:47.013Z"
   },
   {
    "duration": 0,
    "start_time": "2023-04-06T08:19:47.014Z"
   },
   {
    "duration": 0,
    "start_time": "2023-04-06T08:19:47.016Z"
   },
   {
    "duration": 0,
    "start_time": "2023-04-06T08:19:47.017Z"
   },
   {
    "duration": 0,
    "start_time": "2023-04-06T08:19:47.018Z"
   },
   {
    "duration": 0,
    "start_time": "2023-04-06T08:19:47.019Z"
   },
   {
    "duration": 43,
    "start_time": "2023-04-06T08:20:21.755Z"
   },
   {
    "duration": 24,
    "start_time": "2023-04-06T08:23:27.102Z"
   },
   {
    "duration": 15,
    "start_time": "2023-04-06T08:23:31.860Z"
   },
   {
    "duration": 14,
    "start_time": "2023-04-06T08:25:22.755Z"
   },
   {
    "duration": 3,
    "start_time": "2023-04-06T08:25:35.466Z"
   },
   {
    "duration": 15,
    "start_time": "2023-04-06T08:25:52.582Z"
   },
   {
    "duration": 3,
    "start_time": "2023-04-06T08:26:25.145Z"
   },
   {
    "duration": 25,
    "start_time": "2023-04-06T08:27:07.218Z"
   },
   {
    "duration": 2121,
    "start_time": "2023-04-06T08:27:22.491Z"
   },
   {
    "duration": 2210,
    "start_time": "2023-04-06T08:27:24.614Z"
   },
   {
    "duration": 1281,
    "start_time": "2023-04-06T08:27:26.825Z"
   },
   {
    "duration": 92,
    "start_time": "2023-04-06T08:27:28.108Z"
   },
   {
    "duration": 13,
    "start_time": "2023-04-06T08:27:28.202Z"
   },
   {
    "duration": 4,
    "start_time": "2023-04-06T08:27:28.217Z"
   },
   {
    "duration": 19,
    "start_time": "2023-04-06T08:27:28.223Z"
   },
   {
    "duration": 7,
    "start_time": "2023-04-06T08:27:28.244Z"
   },
   {
    "duration": 31,
    "start_time": "2023-04-06T08:27:28.253Z"
   },
   {
    "duration": 5,
    "start_time": "2023-04-06T08:27:28.287Z"
   },
   {
    "duration": 8,
    "start_time": "2023-04-06T08:27:28.293Z"
   },
   {
    "duration": 428,
    "start_time": "2023-04-06T08:27:28.302Z"
   },
   {
    "duration": 14,
    "start_time": "2023-04-06T08:27:28.732Z"
   },
   {
    "duration": 53,
    "start_time": "2023-04-06T08:27:28.748Z"
   },
   {
    "duration": 292,
    "start_time": "2023-04-06T08:27:28.803Z"
   },
   {
    "duration": 114,
    "start_time": "2023-04-06T08:27:29.098Z"
   },
   {
    "duration": 2,
    "start_time": "2023-04-06T08:27:29.214Z"
   },
   {
    "duration": 29,
    "start_time": "2023-04-06T08:27:29.219Z"
   },
   {
    "duration": 13,
    "start_time": "2023-04-06T08:27:29.250Z"
   },
   {
    "duration": 25,
    "start_time": "2023-04-06T08:27:29.265Z"
   },
   {
    "duration": 4,
    "start_time": "2023-04-06T08:27:29.292Z"
   },
   {
    "duration": 10,
    "start_time": "2023-04-06T08:27:29.298Z"
   },
   {
    "duration": 7,
    "start_time": "2023-04-06T08:27:29.310Z"
   },
   {
    "duration": 43,
    "start_time": "2023-04-06T08:27:29.319Z"
   },
   {
    "duration": 21,
    "start_time": "2023-04-06T08:27:29.364Z"
   },
   {
    "duration": 32,
    "start_time": "2023-04-06T08:27:29.387Z"
   },
   {
    "duration": 186,
    "start_time": "2023-04-06T08:27:29.421Z"
   },
   {
    "duration": 0,
    "start_time": "2023-04-06T08:27:29.609Z"
   },
   {
    "duration": 0,
    "start_time": "2023-04-06T08:27:29.611Z"
   },
   {
    "duration": 0,
    "start_time": "2023-04-06T08:27:29.613Z"
   },
   {
    "duration": 0,
    "start_time": "2023-04-06T08:27:29.614Z"
   },
   {
    "duration": 0,
    "start_time": "2023-04-06T08:27:29.615Z"
   },
   {
    "duration": 0,
    "start_time": "2023-04-06T08:27:29.616Z"
   },
   {
    "duration": 0,
    "start_time": "2023-04-06T08:27:29.618Z"
   },
   {
    "duration": 0,
    "start_time": "2023-04-06T08:27:29.619Z"
   },
   {
    "duration": 0,
    "start_time": "2023-04-06T08:27:29.620Z"
   },
   {
    "duration": 0,
    "start_time": "2023-04-06T08:27:29.622Z"
   },
   {
    "duration": 0,
    "start_time": "2023-04-06T08:27:29.623Z"
   },
   {
    "duration": 0,
    "start_time": "2023-04-06T08:27:29.624Z"
   },
   {
    "duration": 0,
    "start_time": "2023-04-06T08:27:29.625Z"
   },
   {
    "duration": 0,
    "start_time": "2023-04-06T08:27:29.627Z"
   },
   {
    "duration": 0,
    "start_time": "2023-04-06T08:27:29.628Z"
   },
   {
    "duration": 15,
    "start_time": "2023-04-06T08:28:09.921Z"
   },
   {
    "duration": 9,
    "start_time": "2023-04-06T08:28:31.903Z"
   },
   {
    "duration": 17,
    "start_time": "2023-04-06T08:31:21.795Z"
   },
   {
    "duration": 2180,
    "start_time": "2023-04-06T08:31:26.567Z"
   },
   {
    "duration": 2348,
    "start_time": "2023-04-06T08:31:28.749Z"
   },
   {
    "duration": 1258,
    "start_time": "2023-04-06T08:31:31.099Z"
   },
   {
    "duration": 93,
    "start_time": "2023-04-06T08:31:32.359Z"
   },
   {
    "duration": 12,
    "start_time": "2023-04-06T08:31:32.453Z"
   },
   {
    "duration": 3,
    "start_time": "2023-04-06T08:31:32.467Z"
   },
   {
    "duration": 20,
    "start_time": "2023-04-06T08:31:32.471Z"
   },
   {
    "duration": 20,
    "start_time": "2023-04-06T08:31:32.492Z"
   },
   {
    "duration": 29,
    "start_time": "2023-04-06T08:31:32.513Z"
   },
   {
    "duration": 40,
    "start_time": "2023-04-06T08:31:32.545Z"
   },
   {
    "duration": 29,
    "start_time": "2023-04-06T08:31:32.587Z"
   },
   {
    "duration": 442,
    "start_time": "2023-04-06T08:31:32.618Z"
   },
   {
    "duration": 21,
    "start_time": "2023-04-06T08:31:33.062Z"
   },
   {
    "duration": 49,
    "start_time": "2023-04-06T08:31:33.084Z"
   },
   {
    "duration": 296,
    "start_time": "2023-04-06T08:31:33.135Z"
   },
   {
    "duration": 106,
    "start_time": "2023-04-06T08:31:33.432Z"
   },
   {
    "duration": 16,
    "start_time": "2023-04-06T08:31:33.540Z"
   },
   {
    "duration": 4,
    "start_time": "2023-04-06T08:31:33.557Z"
   },
   {
    "duration": 22,
    "start_time": "2023-04-06T08:31:33.563Z"
   },
   {
    "duration": 7,
    "start_time": "2023-04-06T08:31:33.586Z"
   },
   {
    "duration": 37,
    "start_time": "2023-04-06T08:31:33.595Z"
   },
   {
    "duration": 13,
    "start_time": "2023-04-06T08:31:33.634Z"
   },
   {
    "duration": 50,
    "start_time": "2023-04-06T08:31:33.649Z"
   },
   {
    "duration": 7484,
    "start_time": "2023-04-06T08:31:33.700Z"
   },
   {
    "duration": 6161,
    "start_time": "2023-04-06T08:31:41.186Z"
   },
   {
    "duration": 1553,
    "start_time": "2023-04-06T08:31:47.349Z"
   },
   {
    "duration": 379,
    "start_time": "2023-04-06T08:31:48.904Z"
   },
   {
    "duration": 9,
    "start_time": "2023-04-06T08:31:49.286Z"
   },
   {
    "duration": 9544,
    "start_time": "2023-04-06T08:31:49.296Z"
   },
   {
    "duration": 9222,
    "start_time": "2023-04-06T08:31:58.841Z"
   },
   {
    "duration": 1639,
    "start_time": "2023-04-06T08:32:08.065Z"
   },
   {
    "duration": 101,
    "start_time": "2023-04-06T08:32:09.784Z"
   },
   {
    "duration": 4255,
    "start_time": "2023-04-06T08:32:09.887Z"
   },
   {
    "duration": 3930,
    "start_time": "2023-04-06T08:32:14.144Z"
   },
   {
    "duration": 913,
    "start_time": "2023-04-06T08:32:18.076Z"
   },
   {
    "duration": 202,
    "start_time": "2023-04-06T08:32:18.992Z"
   },
   {
    "duration": 157,
    "start_time": "2023-04-06T08:32:19.196Z"
   },
   {
    "duration": 379,
    "start_time": "2023-04-06T08:32:19.356Z"
   },
   {
    "duration": 149,
    "start_time": "2023-04-06T08:32:19.737Z"
   },
   {
    "duration": 13,
    "start_time": "2023-04-06T08:34:33.879Z"
   },
   {
    "duration": 17,
    "start_time": "2023-04-06T08:34:35.095Z"
   },
   {
    "duration": 15,
    "start_time": "2023-04-06T08:34:36.967Z"
   },
   {
    "duration": 12,
    "start_time": "2023-04-06T08:34:41.552Z"
   },
   {
    "duration": 8,
    "start_time": "2023-04-06T08:34:43.608Z"
   },
   {
    "duration": 9,
    "start_time": "2023-04-06T08:34:45.527Z"
   },
   {
    "duration": 10,
    "start_time": "2023-04-06T08:34:46.295Z"
   },
   {
    "duration": 19,
    "start_time": "2023-04-06T08:34:49.127Z"
   },
   {
    "duration": 12,
    "start_time": "2023-04-06T08:34:54.960Z"
   },
   {
    "duration": 9,
    "start_time": "2023-04-06T08:34:55.783Z"
   },
   {
    "duration": 20,
    "start_time": "2023-04-06T08:35:00.327Z"
   },
   {
    "duration": 9,
    "start_time": "2023-04-06T08:35:03.343Z"
   },
   {
    "duration": 8,
    "start_time": "2023-04-06T08:35:44.950Z"
   },
   {
    "duration": 352,
    "start_time": "2023-04-06T08:49:35.831Z"
   },
   {
    "duration": 5,
    "start_time": "2023-04-06T08:54:46.625Z"
   },
   {
    "duration": 8,
    "start_time": "2023-04-06T08:54:54.711Z"
   },
   {
    "duration": 6,
    "start_time": "2023-04-06T08:56:13.070Z"
   },
   {
    "duration": 7,
    "start_time": "2023-04-06T09:06:21.079Z"
   },
   {
    "duration": 8,
    "start_time": "2023-04-06T09:06:24.439Z"
   },
   {
    "duration": 5,
    "start_time": "2023-04-06T09:08:53.111Z"
   },
   {
    "duration": 25,
    "start_time": "2023-04-06T09:09:16.405Z"
   },
   {
    "duration": 24,
    "start_time": "2023-04-06T09:10:02.586Z"
   },
   {
    "duration": 24,
    "start_time": "2023-04-06T09:10:27.308Z"
   },
   {
    "duration": 23,
    "start_time": "2023-04-06T09:10:53.164Z"
   },
   {
    "duration": 2204,
    "start_time": "2023-04-06T09:11:01.156Z"
   },
   {
    "duration": 2283,
    "start_time": "2023-04-06T09:11:03.362Z"
   },
   {
    "duration": 1331,
    "start_time": "2023-04-06T09:11:05.647Z"
   },
   {
    "duration": 125,
    "start_time": "2023-04-06T09:11:06.980Z"
   },
   {
    "duration": 12,
    "start_time": "2023-04-06T09:11:07.107Z"
   },
   {
    "duration": 4,
    "start_time": "2023-04-06T09:11:07.121Z"
   },
   {
    "duration": 15,
    "start_time": "2023-04-06T09:11:07.126Z"
   },
   {
    "duration": 7,
    "start_time": "2023-04-06T09:11:07.143Z"
   },
   {
    "duration": 7,
    "start_time": "2023-04-06T09:11:07.152Z"
   },
   {
    "duration": 5,
    "start_time": "2023-04-06T09:11:07.184Z"
   },
   {
    "duration": 8,
    "start_time": "2023-04-06T09:11:07.190Z"
   },
   {
    "duration": 407,
    "start_time": "2023-04-06T09:11:07.200Z"
   },
   {
    "duration": 13,
    "start_time": "2023-04-06T09:11:07.609Z"
   },
   {
    "duration": 41,
    "start_time": "2023-04-06T09:11:07.624Z"
   },
   {
    "duration": 284,
    "start_time": "2023-04-06T09:11:07.682Z"
   },
   {
    "duration": 115,
    "start_time": "2023-04-06T09:11:07.968Z"
   },
   {
    "duration": 14,
    "start_time": "2023-04-06T09:11:08.085Z"
   },
   {
    "duration": 4,
    "start_time": "2023-04-06T09:11:08.100Z"
   },
   {
    "duration": 7,
    "start_time": "2023-04-06T09:11:08.106Z"
   },
   {
    "duration": 6,
    "start_time": "2023-04-06T09:11:08.115Z"
   },
   {
    "duration": 38,
    "start_time": "2023-04-06T09:11:08.123Z"
   },
   {
    "duration": 15,
    "start_time": "2023-04-06T09:11:08.183Z"
   },
   {
    "duration": 20,
    "start_time": "2023-04-06T09:11:08.199Z"
   },
   {
    "duration": 6599,
    "start_time": "2023-04-06T09:11:08.220Z"
   },
   {
    "duration": 7061,
    "start_time": "2023-04-06T09:11:14.821Z"
   },
   {
    "duration": 1210,
    "start_time": "2023-04-06T09:11:21.883Z"
   },
   {
    "duration": 384,
    "start_time": "2023-04-06T09:11:23.096Z"
   },
   {
    "duration": 8,
    "start_time": "2023-04-06T09:11:23.485Z"
   },
   {
    "duration": 9319,
    "start_time": "2023-04-06T09:11:23.494Z"
   },
   {
    "duration": 8351,
    "start_time": "2023-04-06T09:11:32.815Z"
   },
   {
    "duration": 1440,
    "start_time": "2023-04-06T09:11:41.167Z"
   },
   {
    "duration": 177,
    "start_time": "2023-04-06T09:11:42.608Z"
   },
   {
    "duration": 4301,
    "start_time": "2023-04-06T09:11:42.786Z"
   },
   {
    "duration": 3983,
    "start_time": "2023-04-06T09:11:47.089Z"
   },
   {
    "duration": 815,
    "start_time": "2023-04-06T09:11:51.074Z"
   },
   {
    "duration": 199,
    "start_time": "2023-04-06T09:11:51.891Z"
   },
   {
    "duration": 174,
    "start_time": "2023-04-06T09:11:52.091Z"
   },
   {
    "duration": 17,
    "start_time": "2023-04-06T09:11:52.267Z"
   },
   {
    "duration": 349,
    "start_time": "2023-04-06T09:11:52.286Z"
   },
   {
    "duration": 22,
    "start_time": "2023-04-06T09:14:01.864Z"
   },
   {
    "duration": 5,
    "start_time": "2023-04-06T09:29:40.565Z"
   },
   {
    "duration": 8,
    "start_time": "2023-04-06T09:29:43.164Z"
   },
   {
    "duration": 2534,
    "start_time": "2023-04-06T09:29:58.319Z"
   },
   {
    "duration": 2293,
    "start_time": "2023-04-06T09:30:00.855Z"
   },
   {
    "duration": 1323,
    "start_time": "2023-04-06T09:30:03.150Z"
   },
   {
    "duration": 115,
    "start_time": "2023-04-06T09:30:04.475Z"
   },
   {
    "duration": 13,
    "start_time": "2023-04-06T09:30:04.592Z"
   },
   {
    "duration": 5,
    "start_time": "2023-04-06T09:30:04.607Z"
   },
   {
    "duration": 12,
    "start_time": "2023-04-06T09:30:04.614Z"
   },
   {
    "duration": 19,
    "start_time": "2023-04-06T09:30:04.628Z"
   },
   {
    "duration": 6,
    "start_time": "2023-04-06T09:30:04.649Z"
   },
   {
    "duration": 27,
    "start_time": "2023-04-06T09:30:04.657Z"
   },
   {
    "duration": 5,
    "start_time": "2023-04-06T09:30:04.686Z"
   },
   {
    "duration": 419,
    "start_time": "2023-04-06T09:30:04.693Z"
   },
   {
    "duration": 13,
    "start_time": "2023-04-06T09:30:05.114Z"
   },
   {
    "duration": 55,
    "start_time": "2023-04-06T09:30:05.129Z"
   },
   {
    "duration": 284,
    "start_time": "2023-04-06T09:30:05.185Z"
   },
   {
    "duration": 107,
    "start_time": "2023-04-06T09:30:05.471Z"
   },
   {
    "duration": 16,
    "start_time": "2023-04-06T09:30:05.583Z"
   },
   {
    "duration": 5,
    "start_time": "2023-04-06T09:30:05.601Z"
   },
   {
    "duration": 13,
    "start_time": "2023-04-06T09:30:05.608Z"
   },
   {
    "duration": 5,
    "start_time": "2023-04-06T09:30:05.622Z"
   },
   {
    "duration": 37,
    "start_time": "2023-04-06T09:30:05.629Z"
   },
   {
    "duration": 32,
    "start_time": "2023-04-06T09:30:05.668Z"
   },
   {
    "duration": 15,
    "start_time": "2023-04-06T09:30:05.702Z"
   },
   {
    "duration": 6494,
    "start_time": "2023-04-06T09:30:05.719Z"
   },
   {
    "duration": 6409,
    "start_time": "2023-04-06T09:30:12.215Z"
   },
   {
    "duration": 1176,
    "start_time": "2023-04-06T09:30:18.626Z"
   },
   {
    "duration": 391,
    "start_time": "2023-04-06T09:30:19.805Z"
   },
   {
    "duration": 11,
    "start_time": "2023-04-06T09:30:20.201Z"
   },
   {
    "duration": 9960,
    "start_time": "2023-04-06T09:30:20.213Z"
   },
   {
    "duration": 9009,
    "start_time": "2023-04-06T09:30:30.175Z"
   },
   {
    "duration": 1597,
    "start_time": "2023-04-06T09:30:39.186Z"
   },
   {
    "duration": 102,
    "start_time": "2023-04-06T09:30:40.787Z"
   },
   {
    "duration": 4211,
    "start_time": "2023-04-06T09:30:40.891Z"
   },
   {
    "duration": 3894,
    "start_time": "2023-04-06T09:30:45.104Z"
   },
   {
    "duration": 794,
    "start_time": "2023-04-06T09:30:48.999Z"
   },
   {
    "duration": 196,
    "start_time": "2023-04-06T09:30:49.795Z"
   },
   {
    "duration": 150,
    "start_time": "2023-04-06T09:30:49.993Z"
   },
   {
    "duration": 7,
    "start_time": "2023-04-06T09:30:50.144Z"
   },
   {
    "duration": 391,
    "start_time": "2023-04-06T09:30:50.152Z"
   },
   {
    "duration": 10,
    "start_time": "2023-04-06T09:35:16.133Z"
   },
   {
    "duration": 4,
    "start_time": "2023-04-06T09:35:52.925Z"
   },
   {
    "duration": 2321,
    "start_time": "2023-04-06T09:36:05.004Z"
   },
   {
    "duration": 2209,
    "start_time": "2023-04-06T09:36:07.328Z"
   },
   {
    "duration": 1243,
    "start_time": "2023-04-06T09:36:09.543Z"
   },
   {
    "duration": 96,
    "start_time": "2023-04-06T09:36:10.788Z"
   },
   {
    "duration": 11,
    "start_time": "2023-04-06T09:36:10.886Z"
   },
   {
    "duration": 3,
    "start_time": "2023-04-06T09:36:10.899Z"
   },
   {
    "duration": 20,
    "start_time": "2023-04-06T09:36:10.904Z"
   },
   {
    "duration": 9,
    "start_time": "2023-04-06T09:36:10.927Z"
   },
   {
    "duration": 7,
    "start_time": "2023-04-06T09:36:10.941Z"
   },
   {
    "duration": 6,
    "start_time": "2023-04-06T09:36:10.983Z"
   },
   {
    "duration": 7,
    "start_time": "2023-04-06T09:36:10.991Z"
   },
   {
    "duration": 419,
    "start_time": "2023-04-06T09:36:11.000Z"
   },
   {
    "duration": 14,
    "start_time": "2023-04-06T09:36:11.421Z"
   },
   {
    "duration": 58,
    "start_time": "2023-04-06T09:36:11.437Z"
   },
   {
    "duration": 293,
    "start_time": "2023-04-06T09:36:11.497Z"
   },
   {
    "duration": 115,
    "start_time": "2023-04-06T09:36:11.792Z"
   },
   {
    "duration": 17,
    "start_time": "2023-04-06T09:36:11.909Z"
   },
   {
    "duration": 4,
    "start_time": "2023-04-06T09:36:11.928Z"
   },
   {
    "duration": 8,
    "start_time": "2023-04-06T09:36:11.934Z"
   },
   {
    "duration": 8,
    "start_time": "2023-04-06T09:36:11.943Z"
   },
   {
    "duration": 58,
    "start_time": "2023-04-06T09:36:11.952Z"
   },
   {
    "duration": 16,
    "start_time": "2023-04-06T09:36:12.011Z"
   },
   {
    "duration": 24,
    "start_time": "2023-04-06T09:36:12.030Z"
   },
   {
    "duration": 6474,
    "start_time": "2023-04-06T09:36:12.056Z"
   },
   {
    "duration": 6193,
    "start_time": "2023-04-06T09:36:18.533Z"
   },
   {
    "duration": 1174,
    "start_time": "2023-04-06T09:36:24.727Z"
   },
   {
    "duration": 378,
    "start_time": "2023-04-06T09:36:25.906Z"
   },
   {
    "duration": 9,
    "start_time": "2023-04-06T09:36:26.286Z"
   },
   {
    "duration": 9621,
    "start_time": "2023-04-06T09:36:26.297Z"
   },
   {
    "duration": 9092,
    "start_time": "2023-04-06T09:36:35.919Z"
   },
   {
    "duration": 1396,
    "start_time": "2023-04-06T09:36:45.013Z"
   },
   {
    "duration": 15,
    "start_time": "2023-04-06T09:36:46.482Z"
   },
   {
    "duration": 4290,
    "start_time": "2023-04-06T09:36:46.584Z"
   },
   {
    "duration": 4250,
    "start_time": "2023-04-06T09:36:50.876Z"
   },
   {
    "duration": 1868,
    "start_time": "2023-04-06T09:36:55.128Z"
   },
   {
    "duration": 195,
    "start_time": "2023-04-06T09:36:56.999Z"
   },
   {
    "duration": 156,
    "start_time": "2023-04-06T09:36:57.196Z"
   },
   {
    "duration": 6,
    "start_time": "2023-04-06T09:36:57.354Z"
   },
   {
    "duration": 387,
    "start_time": "2023-04-06T09:36:57.362Z"
   },
   {
    "duration": 2008,
    "start_time": "2023-04-20T09:30:44.191Z"
   },
   {
    "duration": 2641,
    "start_time": "2023-04-20T09:30:50.792Z"
   },
   {
    "duration": 18,
    "start_time": "2023-04-20T09:31:03.880Z"
   },
   {
    "duration": 9,
    "start_time": "2023-04-20T09:31:04.091Z"
   },
   {
    "duration": 9,
    "start_time": "2023-04-20T09:31:04.297Z"
   },
   {
    "duration": 16,
    "start_time": "2023-04-20T09:31:06.587Z"
   },
   {
    "duration": 14,
    "start_time": "2023-04-20T09:31:06.816Z"
   },
   {
    "duration": 14,
    "start_time": "2023-04-20T09:31:08.348Z"
   },
   {
    "duration": 13,
    "start_time": "2023-04-20T09:31:49.690Z"
   },
   {
    "duration": 37,
    "start_time": "2023-04-20T09:31:53.695Z"
   },
   {
    "duration": 34,
    "start_time": "2023-04-20T09:31:53.990Z"
   },
   {
    "duration": 36,
    "start_time": "2023-04-20T09:31:55.588Z"
   },
   {
    "duration": 37,
    "start_time": "2023-04-20T09:33:51.103Z"
   },
   {
    "duration": 4,
    "start_time": "2023-04-20T09:33:51.756Z"
   },
   {
    "duration": 103,
    "start_time": "2023-04-20T09:34:12.665Z"
   },
   {
    "duration": 2,
    "start_time": "2023-04-20T09:34:17.347Z"
   },
   {
    "duration": 103,
    "start_time": "2023-04-20T09:34:19.696Z"
   },
   {
    "duration": 7,
    "start_time": "2023-04-20T09:34:27.297Z"
   },
   {
    "duration": 6,
    "start_time": "2023-04-20T09:34:29.865Z"
   },
   {
    "duration": 4,
    "start_time": "2023-04-20T09:34:30.206Z"
   },
   {
    "duration": 3,
    "start_time": "2023-04-20T09:35:33.008Z"
   },
   {
    "duration": 3,
    "start_time": "2023-04-20T09:35:46.625Z"
   },
   {
    "duration": 6,
    "start_time": "2023-04-20T09:36:02.921Z"
   },
   {
    "duration": 4,
    "start_time": "2023-04-20T09:36:51.084Z"
   },
   {
    "duration": 20,
    "start_time": "2023-04-20T09:37:24.010Z"
   },
   {
    "duration": 9,
    "start_time": "2023-04-20T09:38:49.303Z"
   },
   {
    "duration": 1321,
    "start_time": "2023-04-20T09:38:50.609Z"
   },
   {
    "duration": 1333,
    "start_time": "2023-04-20T09:38:51.931Z"
   },
   {
    "duration": 1393,
    "start_time": "2023-04-20T09:38:53.266Z"
   },
   {
    "duration": 100,
    "start_time": "2023-04-20T09:42:11.928Z"
   },
   {
    "duration": 133,
    "start_time": "2023-04-20T09:42:14.126Z"
   },
   {
    "duration": 6,
    "start_time": "2023-04-20T09:43:01.101Z"
   },
   {
    "duration": 1508,
    "start_time": "2023-04-20T09:43:02.716Z"
   },
   {
    "duration": 1399,
    "start_time": "2023-04-20T09:43:04.226Z"
   },
   {
    "duration": 1386,
    "start_time": "2023-04-20T09:43:05.627Z"
   },
   {
    "duration": 44,
    "start_time": "2023-04-20T09:58:59.611Z"
   },
   {
    "duration": 1365,
    "start_time": "2023-04-20T09:59:06.398Z"
   },
   {
    "duration": 1553,
    "start_time": "2023-04-20T09:59:07.765Z"
   },
   {
    "duration": 12,
    "start_time": "2023-04-20T09:59:09.319Z"
   },
   {
    "duration": 7,
    "start_time": "2023-04-20T09:59:09.333Z"
   },
   {
    "duration": 15,
    "start_time": "2023-04-20T09:59:09.342Z"
   },
   {
    "duration": 41,
    "start_time": "2023-04-20T09:59:09.359Z"
   },
   {
    "duration": 18,
    "start_time": "2023-04-20T09:59:09.402Z"
   },
   {
    "duration": 13,
    "start_time": "2023-04-20T09:59:09.421Z"
   },
   {
    "duration": 4,
    "start_time": "2023-04-20T09:59:09.435Z"
   },
   {
    "duration": 121,
    "start_time": "2023-04-20T09:59:09.442Z"
   },
   {
    "duration": 18,
    "start_time": "2023-04-20T09:59:09.565Z"
   },
   {
    "duration": 10,
    "start_time": "2023-04-20T09:59:09.585Z"
   },
   {
    "duration": 47,
    "start_time": "2023-04-20T09:59:09.597Z"
   },
   {
    "duration": 31,
    "start_time": "2023-04-20T09:59:09.646Z"
   },
   {
    "duration": 31,
    "start_time": "2023-04-20T09:59:09.679Z"
   },
   {
    "duration": 174,
    "start_time": "2023-04-20T09:59:09.711Z"
   },
   {
    "duration": 37,
    "start_time": "2023-04-20T09:59:09.886Z"
   },
   {
    "duration": 15,
    "start_time": "2023-04-20T09:59:09.924Z"
   },
   {
    "duration": 105,
    "start_time": "2023-04-20T09:59:09.940Z"
   },
   {
    "duration": 3,
    "start_time": "2023-04-20T09:59:10.135Z"
   },
   {
    "duration": 98,
    "start_time": "2023-04-20T09:59:10.139Z"
   },
   {
    "duration": 5,
    "start_time": "2023-04-20T09:59:10.239Z"
   },
   {
    "duration": 4,
    "start_time": "2023-04-20T09:59:10.246Z"
   },
   {
    "duration": 5,
    "start_time": "2023-04-20T09:59:10.338Z"
   },
   {
    "duration": 4,
    "start_time": "2023-04-20T09:59:10.345Z"
   },
   {
    "duration": 4,
    "start_time": "2023-04-20T09:59:10.436Z"
   },
   {
    "duration": 11,
    "start_time": "2023-04-20T09:59:10.441Z"
   },
   {
    "duration": 8,
    "start_time": "2023-04-20T09:59:10.455Z"
   },
   {
    "duration": 20,
    "start_time": "2023-04-20T09:59:10.464Z"
   },
   {
    "duration": 6,
    "start_time": "2023-04-20T09:59:10.486Z"
   },
   {
    "duration": 1071,
    "start_time": "2023-04-20T09:59:10.493Z"
   },
   {
    "duration": 1237,
    "start_time": "2023-04-20T09:59:11.566Z"
   },
   {
    "duration": 1196,
    "start_time": "2023-04-20T09:59:12.804Z"
   },
   {
    "duration": 1121,
    "start_time": "2023-04-20T10:01:11.582Z"
   },
   {
    "duration": 1059,
    "start_time": "2023-04-20T10:01:19.317Z"
   },
   {
    "duration": 1016,
    "start_time": "2023-04-20T10:01:34.028Z"
   },
   {
    "duration": 1035,
    "start_time": "2023-04-20T10:01:36.901Z"
   },
   {
    "duration": 64,
    "start_time": "2023-04-20T14:38:55.377Z"
   },
   {
    "duration": 5,
    "start_time": "2023-04-20T14:38:58.285Z"
   },
   {
    "duration": 1713,
    "start_time": "2023-04-20T14:39:03.689Z"
   },
   {
    "duration": 2164,
    "start_time": "2023-04-20T14:39:05.405Z"
   },
   {
    "duration": 14,
    "start_time": "2023-04-20T14:39:07.571Z"
   },
   {
    "duration": 19,
    "start_time": "2023-04-20T14:39:07.587Z"
   },
   {
    "duration": 24,
    "start_time": "2023-04-20T14:39:07.609Z"
   },
   {
    "duration": 17,
    "start_time": "2023-04-20T14:39:07.636Z"
   },
   {
    "duration": 14,
    "start_time": "2023-04-20T14:39:07.654Z"
   },
   {
    "duration": 23,
    "start_time": "2023-04-20T14:39:07.670Z"
   },
   {
    "duration": 6,
    "start_time": "2023-04-20T14:39:07.695Z"
   },
   {
    "duration": 148,
    "start_time": "2023-04-20T14:39:07.703Z"
   },
   {
    "duration": 20,
    "start_time": "2023-04-20T14:39:07.853Z"
   },
   {
    "duration": 33,
    "start_time": "2023-04-20T14:39:07.874Z"
   },
   {
    "duration": 51,
    "start_time": "2023-04-20T14:39:07.909Z"
   },
   {
    "duration": 45,
    "start_time": "2023-04-20T14:39:07.964Z"
   },
   {
    "duration": 37,
    "start_time": "2023-04-20T14:39:08.010Z"
   },
   {
    "duration": 225,
    "start_time": "2023-04-20T14:39:08.049Z"
   },
   {
    "duration": 3,
    "start_time": "2023-04-20T14:39:08.276Z"
   },
   {
    "duration": 589,
    "start_time": "2023-04-20T14:39:08.281Z"
   },
   {
    "duration": 50,
    "start_time": "2023-04-20T14:39:08.872Z"
   },
   {
    "duration": 5,
    "start_time": "2023-04-20T14:39:08.924Z"
   },
   {
    "duration": 86,
    "start_time": "2023-04-20T14:39:08.931Z"
   },
   {
    "duration": 3,
    "start_time": "2023-04-20T14:39:09.094Z"
   },
   {
    "duration": 97,
    "start_time": "2023-04-20T14:39:09.103Z"
   },
   {
    "duration": 6,
    "start_time": "2023-04-20T14:39:09.202Z"
   },
   {
    "duration": 96,
    "start_time": "2023-04-20T14:39:09.212Z"
   },
   {
    "duration": 88,
    "start_time": "2023-04-20T14:39:09.311Z"
   },
   {
    "duration": 18,
    "start_time": "2023-04-20T14:39:09.401Z"
   },
   {
    "duration": 44,
    "start_time": "2023-04-20T14:39:09.421Z"
   },
   {
    "duration": 38,
    "start_time": "2023-04-20T14:39:09.467Z"
   },
   {
    "duration": 35,
    "start_time": "2023-04-20T14:39:09.507Z"
   },
   {
    "duration": 49,
    "start_time": "2023-04-20T14:39:09.544Z"
   },
   {
    "duration": 24,
    "start_time": "2023-04-20T14:39:09.596Z"
   },
   {
    "duration": 1411,
    "start_time": "2023-04-20T14:39:09.622Z"
   },
   {
    "duration": 1590,
    "start_time": "2023-04-20T14:39:11.035Z"
   },
   {
    "duration": 2371,
    "start_time": "2023-04-20T14:39:12.627Z"
   },
   {
    "duration": 519,
    "start_time": "2023-04-20T14:39:37.375Z"
   },
   {
    "duration": 40,
    "start_time": "2023-04-20T14:42:05.884Z"
   },
   {
    "duration": 54,
    "start_time": "2023-04-20T14:42:38.810Z"
   },
   {
    "duration": 781,
    "start_time": "2023-04-20T14:45:01.040Z"
   },
   {
    "duration": 1080,
    "start_time": "2023-04-20T14:45:20.433Z"
   },
   {
    "duration": 1205,
    "start_time": "2023-04-20T14:45:40.410Z"
   },
   {
    "duration": 1042,
    "start_time": "2023-04-20T14:45:48.584Z"
   },
   {
    "duration": 1037,
    "start_time": "2023-04-20T14:45:54.688Z"
   },
   {
    "duration": 519,
    "start_time": "2023-04-20T14:51:07.067Z"
   },
   {
    "duration": 144,
    "start_time": "2023-04-20T14:51:24.828Z"
   },
   {
    "duration": 4774,
    "start_time": "2023-04-20T14:51:53.473Z"
   },
   {
    "duration": 1140,
    "start_time": "2023-04-20T14:52:05.746Z"
   },
   {
    "duration": 1397,
    "start_time": "2023-04-20T14:52:10.075Z"
   },
   {
    "duration": 1368,
    "start_time": "2023-04-20T14:52:32.532Z"
   },
   {
    "duration": 1276,
    "start_time": "2023-04-20T14:52:37.210Z"
   },
   {
    "duration": 412,
    "start_time": "2023-04-20T14:53:15.851Z"
   },
   {
    "duration": 394,
    "start_time": "2023-04-20T14:53:38.474Z"
   },
   {
    "duration": 347,
    "start_time": "2023-04-20T14:54:36.313Z"
   },
   {
    "duration": 1140,
    "start_time": "2023-04-20T14:54:51.478Z"
   },
   {
    "duration": 1199,
    "start_time": "2023-04-20T14:55:21.336Z"
   },
   {
    "duration": 1069,
    "start_time": "2023-04-20T14:55:28.299Z"
   },
   {
    "duration": 1183,
    "start_time": "2023-04-20T14:57:15.038Z"
   },
   {
    "duration": 978,
    "start_time": "2023-04-20T14:57:52.109Z"
   },
   {
    "duration": 1214,
    "start_time": "2023-04-20T14:58:00.445Z"
   },
   {
    "duration": 1014,
    "start_time": "2023-04-20T15:01:08.762Z"
   },
   {
    "duration": 1000,
    "start_time": "2023-04-20T15:02:19.304Z"
   },
   {
    "duration": 1010,
    "start_time": "2023-04-20T15:02:23.577Z"
   },
   {
    "duration": 699,
    "start_time": "2023-04-20T15:02:56.508Z"
   },
   {
    "duration": 1062,
    "start_time": "2023-04-20T15:03:07.143Z"
   },
   {
    "duration": 1080,
    "start_time": "2023-04-20T15:03:34.845Z"
   },
   {
    "duration": 1206,
    "start_time": "2023-04-20T15:03:40.099Z"
   },
   {
    "duration": 3012,
    "start_time": "2023-04-20T15:03:45.275Z"
   },
   {
    "duration": 1039,
    "start_time": "2023-04-20T15:03:58.527Z"
   },
   {
    "duration": 538,
    "start_time": "2023-04-20T15:06:09.508Z"
   },
   {
    "duration": 18,
    "start_time": "2023-04-20T15:06:25.316Z"
   },
   {
    "duration": 1032,
    "start_time": "2023-04-20T15:06:37.804Z"
   },
   {
    "duration": 410,
    "start_time": "2023-04-20T15:06:51.420Z"
   },
   {
    "duration": 1003,
    "start_time": "2023-04-20T15:07:03.157Z"
   },
   {
    "duration": 1073,
    "start_time": "2023-04-20T15:07:18.125Z"
   },
   {
    "duration": 10,
    "start_time": "2023-04-20T15:22:43.541Z"
   },
   {
    "duration": 35,
    "start_time": "2023-04-20T15:22:49.388Z"
   },
   {
    "duration": 4,
    "start_time": "2023-04-20T15:22:50.212Z"
   },
   {
    "duration": 11,
    "start_time": "2023-04-20T15:22:51.804Z"
   },
   {
    "duration": 41,
    "start_time": "2023-04-20T15:23:15.949Z"
   },
   {
    "duration": 4,
    "start_time": "2023-04-20T15:23:16.635Z"
   },
   {
    "duration": 15,
    "start_time": "2023-04-20T15:23:17.500Z"
   },
   {
    "duration": 6,
    "start_time": "2023-04-20T15:23:38.508Z"
   },
   {
    "duration": 20,
    "start_time": "2023-04-20T15:23:39.346Z"
   },
   {
    "duration": 4,
    "start_time": "2023-04-20T15:23:59.562Z"
   },
   {
    "duration": 26,
    "start_time": "2023-04-20T15:24:00.249Z"
   },
   {
    "duration": 14,
    "start_time": "2023-04-20T15:26:58.529Z"
   },
   {
    "duration": 1603,
    "start_time": "2023-04-20T15:27:10.859Z"
   },
   {
    "duration": 635,
    "start_time": "2023-04-20T15:27:12.465Z"
   },
   {
    "duration": 14,
    "start_time": "2023-04-20T15:27:13.102Z"
   },
   {
    "duration": 11,
    "start_time": "2023-04-20T15:27:13.118Z"
   },
   {
    "duration": 23,
    "start_time": "2023-04-20T15:27:13.131Z"
   },
   {
    "duration": 25,
    "start_time": "2023-04-20T15:27:13.156Z"
   },
   {
    "duration": 24,
    "start_time": "2023-04-20T15:27:13.184Z"
   },
   {
    "duration": 17,
    "start_time": "2023-04-20T15:27:13.211Z"
   },
   {
    "duration": 12,
    "start_time": "2023-04-20T15:27:13.230Z"
   },
   {
    "duration": 161,
    "start_time": "2023-04-20T15:27:13.245Z"
   },
   {
    "duration": 21,
    "start_time": "2023-04-20T15:27:13.408Z"
   },
   {
    "duration": 25,
    "start_time": "2023-04-20T15:27:13.431Z"
   },
   {
    "duration": 56,
    "start_time": "2023-04-20T15:27:13.458Z"
   },
   {
    "duration": 41,
    "start_time": "2023-04-20T15:27:13.516Z"
   },
   {
    "duration": 58,
    "start_time": "2023-04-20T15:27:13.558Z"
   },
   {
    "duration": 190,
    "start_time": "2023-04-20T15:27:13.618Z"
   },
   {
    "duration": 3,
    "start_time": "2023-04-20T15:27:13.810Z"
   },
   {
    "duration": 1049,
    "start_time": "2023-04-20T15:27:13.815Z"
   },
   {
    "duration": 148,
    "start_time": "2023-04-20T15:27:14.865Z"
   },
   {
    "duration": 5,
    "start_time": "2023-04-20T15:27:15.015Z"
   },
   {
    "duration": 141,
    "start_time": "2023-04-20T15:27:15.022Z"
   },
   {
    "duration": 0,
    "start_time": "2023-04-20T15:27:15.165Z"
   },
   {
    "duration": 0,
    "start_time": "2023-04-20T15:27:15.167Z"
   },
   {
    "duration": 0,
    "start_time": "2023-04-20T15:27:15.167Z"
   },
   {
    "duration": 0,
    "start_time": "2023-04-20T15:27:15.169Z"
   },
   {
    "duration": 0,
    "start_time": "2023-04-20T15:27:15.170Z"
   },
   {
    "duration": 0,
    "start_time": "2023-04-20T15:27:15.172Z"
   },
   {
    "duration": 0,
    "start_time": "2023-04-20T15:27:15.173Z"
   },
   {
    "duration": 0,
    "start_time": "2023-04-20T15:27:15.175Z"
   },
   {
    "duration": 0,
    "start_time": "2023-04-20T15:27:15.177Z"
   },
   {
    "duration": 0,
    "start_time": "2023-04-20T15:27:15.178Z"
   },
   {
    "duration": 0,
    "start_time": "2023-04-20T15:27:15.194Z"
   },
   {
    "duration": 0,
    "start_time": "2023-04-20T15:27:15.195Z"
   },
   {
    "duration": 0,
    "start_time": "2023-04-20T15:27:15.196Z"
   },
   {
    "duration": 0,
    "start_time": "2023-04-20T15:27:15.197Z"
   },
   {
    "duration": 0,
    "start_time": "2023-04-20T15:27:15.198Z"
   },
   {
    "duration": 0,
    "start_time": "2023-04-20T15:27:15.200Z"
   },
   {
    "duration": 4,
    "start_time": "2023-04-20T15:27:47.473Z"
   },
   {
    "duration": 36,
    "start_time": "2023-04-20T15:27:48.975Z"
   },
   {
    "duration": 4,
    "start_time": "2023-04-20T15:31:32.132Z"
   },
   {
    "duration": 19,
    "start_time": "2023-04-20T15:31:33.556Z"
   },
   {
    "duration": 68,
    "start_time": "2023-04-20T15:37:56.382Z"
   },
   {
    "duration": 50,
    "start_time": "2023-04-20T15:38:11.295Z"
   },
   {
    "duration": 24,
    "start_time": "2023-04-20T15:38:25.094Z"
   },
   {
    "duration": 4,
    "start_time": "2023-04-20T15:38:27.886Z"
   },
   {
    "duration": 180,
    "start_time": "2023-04-20T15:38:28.814Z"
   },
   {
    "duration": 10,
    "start_time": "2023-04-20T16:00:34.521Z"
   },
   {
    "duration": 5,
    "start_time": "2023-04-20T16:00:35.988Z"
   },
   {
    "duration": 35,
    "start_time": "2023-04-20T16:00:36.788Z"
   },
   {
    "duration": 12,
    "start_time": "2023-04-20T16:01:05.338Z"
   },
   {
    "duration": 1595,
    "start_time": "2023-04-20T16:01:11.686Z"
   },
   {
    "duration": 479,
    "start_time": "2023-04-20T16:01:13.284Z"
   },
   {
    "duration": 13,
    "start_time": "2023-04-20T16:01:13.764Z"
   },
   {
    "duration": 20,
    "start_time": "2023-04-20T16:01:13.779Z"
   },
   {
    "duration": 17,
    "start_time": "2023-04-20T16:01:13.802Z"
   },
   {
    "duration": 23,
    "start_time": "2023-04-20T16:01:13.821Z"
   },
   {
    "duration": 16,
    "start_time": "2023-04-20T16:01:13.846Z"
   },
   {
    "duration": 14,
    "start_time": "2023-04-20T16:01:13.864Z"
   },
   {
    "duration": 5,
    "start_time": "2023-04-20T16:01:13.893Z"
   },
   {
    "duration": 163,
    "start_time": "2023-04-20T16:01:13.900Z"
   },
   {
    "duration": 30,
    "start_time": "2023-04-20T16:01:14.065Z"
   },
   {
    "duration": 16,
    "start_time": "2023-04-20T16:01:14.097Z"
   },
   {
    "duration": 44,
    "start_time": "2023-04-20T16:01:14.115Z"
   },
   {
    "duration": 61,
    "start_time": "2023-04-20T16:01:14.162Z"
   },
   {
    "duration": 37,
    "start_time": "2023-04-20T16:01:14.225Z"
   },
   {
    "duration": 205,
    "start_time": "2023-04-20T16:01:14.263Z"
   },
   {
    "duration": 3,
    "start_time": "2023-04-20T16:01:14.469Z"
   },
   {
    "duration": 1049,
    "start_time": "2023-04-20T16:01:14.473Z"
   },
   {
    "duration": 122,
    "start_time": "2023-04-20T16:01:15.523Z"
   },
   {
    "duration": 4,
    "start_time": "2023-04-20T16:01:15.647Z"
   },
   {
    "duration": 144,
    "start_time": "2023-04-20T16:01:15.653Z"
   },
   {
    "duration": 93,
    "start_time": "2023-04-20T16:01:15.802Z"
   },
   {
    "duration": 57,
    "start_time": "2023-04-20T16:01:15.897Z"
   },
   {
    "duration": 3,
    "start_time": "2023-04-20T16:01:15.956Z"
   },
   {
    "duration": 45,
    "start_time": "2023-04-20T16:01:15.960Z"
   },
   {
    "duration": 5,
    "start_time": "2023-04-20T16:01:16.007Z"
   },
   {
    "duration": 8,
    "start_time": "2023-04-20T16:01:16.094Z"
   },
   {
    "duration": 93,
    "start_time": "2023-04-20T16:01:16.104Z"
   },
   {
    "duration": 4,
    "start_time": "2023-04-20T16:01:16.199Z"
   },
   {
    "duration": 7,
    "start_time": "2023-04-20T16:01:16.205Z"
   },
   {
    "duration": 9,
    "start_time": "2023-04-20T16:01:16.214Z"
   },
   {
    "duration": 9,
    "start_time": "2023-04-20T16:01:16.225Z"
   },
   {
    "duration": 79,
    "start_time": "2023-04-20T16:01:16.236Z"
   },
   {
    "duration": 7,
    "start_time": "2023-04-20T16:01:16.317Z"
   },
   {
    "duration": 1594,
    "start_time": "2023-04-20T16:01:16.326Z"
   },
   {
    "duration": 1896,
    "start_time": "2023-04-20T16:01:17.922Z"
   },
   {
    "duration": 2020,
    "start_time": "2023-04-20T16:01:19.820Z"
   },
   {
    "duration": 323,
    "start_time": "2023-04-20T16:02:52.485Z"
   },
   {
    "duration": 61,
    "start_time": "2023-04-20T16:03:01.935Z"
   },
   {
    "duration": 398,
    "start_time": "2023-04-20T16:03:20.311Z"
   },
   {
    "duration": 405,
    "start_time": "2023-04-20T16:05:50.807Z"
   },
   {
    "duration": 1520,
    "start_time": "2023-04-20T16:06:40.884Z"
   },
   {
    "duration": 511,
    "start_time": "2023-04-20T16:06:42.408Z"
   },
   {
    "duration": 16,
    "start_time": "2023-04-20T16:06:42.921Z"
   },
   {
    "duration": 11,
    "start_time": "2023-04-20T16:06:42.938Z"
   },
   {
    "duration": 15,
    "start_time": "2023-04-20T16:06:42.952Z"
   },
   {
    "duration": 37,
    "start_time": "2023-04-20T16:06:42.969Z"
   },
   {
    "duration": 15,
    "start_time": "2023-04-20T16:06:43.008Z"
   },
   {
    "duration": 14,
    "start_time": "2023-04-20T16:06:43.025Z"
   },
   {
    "duration": 4,
    "start_time": "2023-04-20T16:06:43.041Z"
   },
   {
    "duration": 188,
    "start_time": "2023-04-20T16:06:43.046Z"
   },
   {
    "duration": 27,
    "start_time": "2023-04-20T16:06:43.236Z"
   },
   {
    "duration": 32,
    "start_time": "2023-04-20T16:06:43.266Z"
   },
   {
    "duration": 46,
    "start_time": "2023-04-20T16:06:43.300Z"
   },
   {
    "duration": 55,
    "start_time": "2023-04-20T16:06:43.349Z"
   },
   {
    "duration": 41,
    "start_time": "2023-04-20T16:06:43.405Z"
   },
   {
    "duration": 209,
    "start_time": "2023-04-20T16:06:43.447Z"
   },
   {
    "duration": 3,
    "start_time": "2023-04-20T16:06:43.658Z"
   },
   {
    "duration": 1069,
    "start_time": "2023-04-20T16:06:43.663Z"
   },
   {
    "duration": 135,
    "start_time": "2023-04-20T16:06:44.740Z"
   },
   {
    "duration": 7,
    "start_time": "2023-04-20T16:06:44.877Z"
   },
   {
    "duration": 42,
    "start_time": "2023-04-20T16:06:44.886Z"
   },
   {
    "duration": 3,
    "start_time": "2023-04-20T16:06:44.929Z"
   },
   {
    "duration": 66,
    "start_time": "2023-04-20T16:06:44.934Z"
   },
   {
    "duration": 6,
    "start_time": "2023-04-20T16:06:45.002Z"
   },
   {
    "duration": 85,
    "start_time": "2023-04-20T16:06:45.010Z"
   },
   {
    "duration": 14,
    "start_time": "2023-04-20T16:06:45.097Z"
   },
   {
    "duration": 407,
    "start_time": "2023-04-20T16:06:45.113Z"
   },
   {
    "duration": 74,
    "start_time": "2023-04-20T16:06:45.524Z"
   },
   {
    "duration": 13,
    "start_time": "2023-04-20T16:06:45.606Z"
   },
   {
    "duration": 10,
    "start_time": "2023-04-20T16:06:45.694Z"
   },
   {
    "duration": 4,
    "start_time": "2023-04-20T16:06:45.706Z"
   },
   {
    "duration": 29,
    "start_time": "2023-04-20T16:06:45.712Z"
   },
   {
    "duration": 17,
    "start_time": "2023-04-20T16:06:45.743Z"
   },
   {
    "duration": 1508,
    "start_time": "2023-04-20T16:06:45.762Z"
   },
   {
    "duration": 2046,
    "start_time": "2023-04-20T16:06:47.272Z"
   },
   {
    "duration": 2286,
    "start_time": "2023-04-20T16:06:49.321Z"
   },
   {
    "duration": 3,
    "start_time": "2023-04-20T16:09:35.588Z"
   },
   {
    "duration": 4,
    "start_time": "2023-04-20T16:09:36.488Z"
   },
   {
    "duration": 4,
    "start_time": "2023-04-20T16:11:53.591Z"
   },
   {
    "duration": 27,
    "start_time": "2023-04-20T16:11:54.910Z"
   },
   {
    "duration": 8,
    "start_time": "2023-04-20T16:12:09.284Z"
   },
   {
    "duration": 64,
    "start_time": "2023-04-20T16:12:28.494Z"
   },
   {
    "duration": 1328,
    "start_time": "2023-04-20T16:16:53.909Z"
   },
   {
    "duration": 1339,
    "start_time": "2023-04-20T16:16:57.433Z"
   },
   {
    "duration": 1601,
    "start_time": "2023-04-20T16:17:03.314Z"
   },
   {
    "duration": 1437,
    "start_time": "2023-04-20T16:26:44.485Z"
   },
   {
    "duration": 484,
    "start_time": "2023-04-20T16:26:45.924Z"
   },
   {
    "duration": 13,
    "start_time": "2023-04-20T16:26:46.410Z"
   },
   {
    "duration": 9,
    "start_time": "2023-04-20T16:26:46.425Z"
   },
   {
    "duration": 14,
    "start_time": "2023-04-20T16:26:46.436Z"
   },
   {
    "duration": 27,
    "start_time": "2023-04-20T16:26:46.452Z"
   },
   {
    "duration": 29,
    "start_time": "2023-04-20T16:26:46.480Z"
   },
   {
    "duration": 19,
    "start_time": "2023-04-20T16:26:46.511Z"
   },
   {
    "duration": 6,
    "start_time": "2023-04-20T16:26:46.532Z"
   },
   {
    "duration": 167,
    "start_time": "2023-04-20T16:26:46.539Z"
   },
   {
    "duration": 22,
    "start_time": "2023-04-20T16:26:46.708Z"
   },
   {
    "duration": 14,
    "start_time": "2023-04-20T16:26:46.732Z"
   },
   {
    "duration": 72,
    "start_time": "2023-04-20T16:26:46.748Z"
   },
   {
    "duration": 40,
    "start_time": "2023-04-20T16:26:46.823Z"
   },
   {
    "duration": 52,
    "start_time": "2023-04-20T16:26:46.865Z"
   },
   {
    "duration": 194,
    "start_time": "2023-04-20T16:26:46.919Z"
   },
   {
    "duration": 3,
    "start_time": "2023-04-20T16:26:47.115Z"
   },
   {
    "duration": 1060,
    "start_time": "2023-04-20T16:26:47.120Z"
   },
   {
    "duration": 154,
    "start_time": "2023-04-20T16:26:48.183Z"
   },
   {
    "duration": 5,
    "start_time": "2023-04-20T16:26:48.338Z"
   },
   {
    "duration": 30,
    "start_time": "2023-04-20T16:26:48.344Z"
   },
   {
    "duration": 2,
    "start_time": "2023-04-20T16:26:48.376Z"
   },
   {
    "duration": 22,
    "start_time": "2023-04-20T16:26:48.392Z"
   },
   {
    "duration": 79,
    "start_time": "2023-04-20T16:26:48.416Z"
   },
   {
    "duration": 96,
    "start_time": "2023-04-20T16:26:48.498Z"
   },
   {
    "duration": 6,
    "start_time": "2023-04-20T16:26:48.598Z"
   },
   {
    "duration": 302,
    "start_time": "2023-04-20T16:26:48.606Z"
   },
   {
    "duration": 5,
    "start_time": "2023-04-20T16:26:48.911Z"
   },
   {
    "duration": 77,
    "start_time": "2023-04-20T16:26:48.918Z"
   },
   {
    "duration": 11,
    "start_time": "2023-04-20T16:26:48.997Z"
   },
   {
    "duration": 82,
    "start_time": "2023-04-20T16:26:49.010Z"
   },
   {
    "duration": 153,
    "start_time": "2023-04-20T16:26:49.095Z"
   },
   {
    "duration": 0,
    "start_time": "2023-04-20T16:26:49.250Z"
   },
   {
    "duration": 0,
    "start_time": "2023-04-20T16:26:49.252Z"
   },
   {
    "duration": 0,
    "start_time": "2023-04-20T16:26:49.254Z"
   },
   {
    "duration": 0,
    "start_time": "2023-04-20T16:26:49.255Z"
   },
   {
    "duration": 21,
    "start_time": "2023-04-20T16:27:28.143Z"
   },
   {
    "duration": 11,
    "start_time": "2023-04-20T16:28:13.688Z"
   },
   {
    "duration": 6,
    "start_time": "2023-04-20T16:28:16.151Z"
   },
   {
    "duration": 1322,
    "start_time": "2023-04-20T16:28:17.096Z"
   },
   {
    "duration": 1316,
    "start_time": "2023-04-20T16:28:26.334Z"
   },
   {
    "duration": 1414,
    "start_time": "2023-04-20T16:28:31.211Z"
   },
   {
    "duration": 7,
    "start_time": "2023-04-20T16:31:35.340Z"
   },
   {
    "duration": 1585,
    "start_time": "2023-04-20T16:31:37.918Z"
   },
   {
    "duration": 6,
    "start_time": "2023-04-20T16:32:50.021Z"
   },
   {
    "duration": 1508,
    "start_time": "2023-04-20T16:32:52.346Z"
   },
   {
    "duration": 9,
    "start_time": "2023-04-20T16:33:00.115Z"
   },
   {
    "duration": 1446,
    "start_time": "2023-04-20T16:33:01.849Z"
   },
   {
    "duration": 7,
    "start_time": "2023-04-20T16:33:16.019Z"
   },
   {
    "duration": 1387,
    "start_time": "2023-04-20T16:33:18.209Z"
   },
   {
    "duration": 1443,
    "start_time": "2023-04-20T16:33:25.192Z"
   },
   {
    "duration": 1373,
    "start_time": "2023-04-20T16:33:29.320Z"
   },
   {
    "duration": 7,
    "start_time": "2023-04-20T16:34:04.388Z"
   },
   {
    "duration": 1512,
    "start_time": "2023-04-20T16:34:06.915Z"
   },
   {
    "duration": 117,
    "start_time": "2023-04-20T16:34:14.945Z"
   },
   {
    "duration": 1384,
    "start_time": "2023-04-20T16:34:16.945Z"
   },
   {
    "duration": 1288,
    "start_time": "2023-04-29T08:35:24.614Z"
   },
   {
    "duration": 808,
    "start_time": "2023-04-29T08:35:25.904Z"
   },
   {
    "duration": 59,
    "start_time": "2023-04-29T08:35:26.713Z"
   },
   {
    "duration": 76,
    "start_time": "2023-04-29T08:35:26.774Z"
   },
   {
    "duration": 56,
    "start_time": "2023-04-29T08:35:26.853Z"
   },
   {
    "duration": 248,
    "start_time": "2023-04-29T08:35:26.911Z"
   },
   {
    "duration": 39,
    "start_time": "2023-04-29T08:35:27.161Z"
   },
   {
    "duration": 8,
    "start_time": "2023-04-29T08:35:27.202Z"
   },
   {
    "duration": 4,
    "start_time": "2023-04-29T08:35:27.212Z"
   },
   {
    "duration": 16,
    "start_time": "2023-04-29T08:35:27.217Z"
   },
   {
    "duration": 19,
    "start_time": "2023-04-29T08:35:27.234Z"
   },
   {
    "duration": 228,
    "start_time": "2023-04-29T08:35:27.255Z"
   },
   {
    "duration": 5,
    "start_time": "2023-04-29T08:35:27.485Z"
   },
   {
    "duration": 59,
    "start_time": "2023-04-29T08:35:27.493Z"
   },
   {
    "duration": 1982,
    "start_time": "2023-04-29T08:35:27.554Z"
   },
   {
    "duration": 830,
    "start_time": "2023-04-29T08:35:29.538Z"
   },
   {
    "duration": 3,
    "start_time": "2023-04-29T08:35:30.369Z"
   },
   {
    "duration": 32,
    "start_time": "2023-04-29T08:35:30.373Z"
   },
   {
    "duration": 2071,
    "start_time": "2023-04-29T08:35:30.406Z"
   },
   {
    "duration": 657,
    "start_time": "2023-04-29T08:35:32.478Z"
   },
   {
    "duration": 4,
    "start_time": "2023-04-29T08:35:33.137Z"
   },
   {
    "duration": 11,
    "start_time": "2023-04-29T08:35:33.143Z"
   },
   {
    "duration": 4,
    "start_time": "2023-04-29T08:35:33.155Z"
   },
   {
    "duration": 7,
    "start_time": "2023-04-29T08:35:33.160Z"
   },
   {
    "duration": 3,
    "start_time": "2023-04-29T08:35:33.169Z"
   },
   {
    "duration": 21,
    "start_time": "2023-04-29T08:35:33.174Z"
   },
   {
    "duration": 3005,
    "start_time": "2023-04-29T08:35:33.196Z"
   },
   {
    "duration": 46365,
    "start_time": "2023-04-29T08:35:36.203Z"
   },
   {
    "duration": 9,
    "start_time": "2023-04-29T08:49:56.633Z"
   },
   {
    "duration": 211,
    "start_time": "2023-04-29T08:49:56.644Z"
   },
   {
    "duration": 0,
    "start_time": "2023-04-29T08:49:56.857Z"
   },
   {
    "duration": 0,
    "start_time": "2023-04-29T08:49:56.858Z"
   },
   {
    "duration": 0,
    "start_time": "2023-04-29T08:49:56.859Z"
   },
   {
    "duration": 3,
    "start_time": "2023-04-29T08:52:38.494Z"
   },
   {
    "duration": 4,
    "start_time": "2023-04-29T08:52:43.975Z"
   },
   {
    "duration": 1767,
    "start_time": "2023-04-29T08:53:59.800Z"
   },
   {
    "duration": 1788,
    "start_time": "2023-04-29T08:54:01.569Z"
   },
   {
    "duration": 7,
    "start_time": "2023-04-29T08:54:03.359Z"
   },
   {
    "duration": 9,
    "start_time": "2023-04-29T08:54:03.367Z"
   },
   {
    "duration": 1772,
    "start_time": "2023-05-01T13:47:56.597Z"
   },
   {
    "duration": 3399,
    "start_time": "2023-05-01T13:48:02.599Z"
   },
   {
    "duration": 71,
    "start_time": "2023-05-01T13:48:15.050Z"
   },
   {
    "duration": 65,
    "start_time": "2023-05-01T13:48:17.089Z"
   },
   {
    "duration": 43,
    "start_time": "2023-05-01T13:48:18.991Z"
   },
   {
    "duration": 293,
    "start_time": "2023-05-01T13:48:21.226Z"
   },
   {
    "duration": 1511,
    "start_time": "2023-05-01T13:48:27.857Z"
   },
   {
    "duration": 766,
    "start_time": "2023-05-01T13:48:29.370Z"
   },
   {
    "duration": 70,
    "start_time": "2023-05-01T13:48:30.138Z"
   },
   {
    "duration": 84,
    "start_time": "2023-05-01T13:48:30.210Z"
   },
   {
    "duration": 58,
    "start_time": "2023-05-01T13:48:30.296Z"
   },
   {
    "duration": 367,
    "start_time": "2023-05-01T13:48:30.356Z"
   },
   {
    "duration": 42,
    "start_time": "2023-05-01T13:48:30.725Z"
   },
   {
    "duration": 48,
    "start_time": "2023-05-01T13:48:30.769Z"
   },
   {
    "duration": 256,
    "start_time": "2023-05-01T13:48:30.820Z"
   },
   {
    "duration": 48,
    "start_time": "2023-05-01T13:48:31.080Z"
   },
   {
    "duration": 59,
    "start_time": "2023-05-01T13:48:31.130Z"
   },
   {
    "duration": 263,
    "start_time": "2023-05-01T13:48:31.191Z"
   },
   {
    "duration": 6,
    "start_time": "2023-05-01T13:48:31.456Z"
   },
   {
    "duration": 84,
    "start_time": "2023-05-01T13:48:31.464Z"
   },
   {
    "duration": 1569,
    "start_time": "2023-05-01T13:48:31.551Z"
   },
   {
    "duration": 669,
    "start_time": "2023-05-01T13:48:33.122Z"
   },
   {
    "duration": 4,
    "start_time": "2023-05-01T13:48:33.792Z"
   },
   {
    "duration": 32,
    "start_time": "2023-05-01T13:48:33.798Z"
   },
   {
    "duration": 1819,
    "start_time": "2023-05-01T13:48:33.832Z"
   },
   {
    "duration": 614,
    "start_time": "2023-05-01T13:48:35.653Z"
   },
   {
    "duration": 6,
    "start_time": "2023-05-01T13:48:36.269Z"
   },
   {
    "duration": 25,
    "start_time": "2023-05-01T13:48:36.277Z"
   },
   {
    "duration": 16,
    "start_time": "2023-05-01T13:48:36.305Z"
   },
   {
    "duration": 29,
    "start_time": "2023-05-01T13:48:36.323Z"
   },
   {
    "duration": 36,
    "start_time": "2023-05-01T13:48:36.354Z"
   },
   {
    "duration": 37,
    "start_time": "2023-05-01T13:48:36.392Z"
   },
   {
    "duration": 3023,
    "start_time": "2023-05-01T13:48:36.431Z"
   },
   {
    "duration": 55630,
    "start_time": "2023-05-01T13:48:39.543Z"
   },
   {
    "duration": 680806,
    "start_time": "2023-05-01T13:49:35.175Z"
   },
   {
    "duration": 8,
    "start_time": "2023-05-01T14:00:55.983Z"
   },
   {
    "duration": 1889,
    "start_time": "2023-05-01T14:00:55.993Z"
   },
   {
    "duration": 1835,
    "start_time": "2023-05-01T14:00:57.885Z"
   },
   {
    "duration": 25,
    "start_time": "2023-05-01T14:00:59.723Z"
   },
   {
    "duration": 14,
    "start_time": "2023-05-01T14:00:59.750Z"
   },
   {
    "duration": 10,
    "start_time": "2023-05-01T14:01:00.892Z"
   },
   {
    "duration": 1828,
    "start_time": "2023-05-01T14:01:02.102Z"
   },
   {
    "duration": 1912,
    "start_time": "2023-05-01T14:01:04.230Z"
   },
   {
    "duration": 12,
    "start_time": "2023-05-01T14:01:06.145Z"
   },
   {
    "duration": 12,
    "start_time": "2023-05-01T14:01:10.221Z"
   },
   {
    "duration": 5,
    "start_time": "2023-05-01T14:27:00.805Z"
   },
   {
    "duration": 900,
    "start_time": "2023-05-01T14:27:03.300Z"
   },
   {
    "duration": 75,
    "start_time": "2023-05-01T14:27:13.128Z"
   },
   {
    "duration": 75,
    "start_time": "2023-05-01T14:27:15.621Z"
   },
   {
    "duration": 70,
    "start_time": "2023-05-01T14:27:16.950Z"
   },
   {
    "duration": 307,
    "start_time": "2023-05-01T14:27:18.644Z"
   },
   {
    "duration": 1638,
    "start_time": "2023-05-01T14:27:37.420Z"
   },
   {
    "duration": 862,
    "start_time": "2023-05-01T14:27:40.685Z"
   },
   {
    "duration": 72,
    "start_time": "2023-05-01T14:27:45.548Z"
   },
   {
    "duration": 67,
    "start_time": "2023-05-01T14:27:47.876Z"
   },
   {
    "duration": 50,
    "start_time": "2023-05-01T14:27:50.309Z"
   },
   {
    "duration": 345,
    "start_time": "2023-05-01T14:27:52.740Z"
   },
   {
    "duration": 818,
    "start_time": "2023-05-01T14:28:57.899Z"
   },
   {
    "duration": 73,
    "start_time": "2023-05-01T14:29:02.243Z"
   },
   {
    "duration": 75,
    "start_time": "2023-05-01T14:29:04.176Z"
   },
   {
    "duration": 60,
    "start_time": "2023-05-01T14:29:06.067Z"
   },
   {
    "duration": 306,
    "start_time": "2023-05-01T14:29:07.580Z"
   },
   {
    "duration": 25,
    "start_time": "2023-05-01T14:44:41.668Z"
   },
   {
    "duration": 12,
    "start_time": "2023-05-01T14:44:46.059Z"
   },
   {
    "duration": 199,
    "start_time": "2023-05-01T14:59:01.959Z"
   },
   {
    "duration": 1711,
    "start_time": "2023-05-01T14:59:18.830Z"
   },
   {
    "duration": 794,
    "start_time": "2023-05-01T14:59:20.544Z"
   },
   {
    "duration": 82,
    "start_time": "2023-05-01T14:59:21.340Z"
   },
   {
    "duration": 79,
    "start_time": "2023-05-01T14:59:21.425Z"
   },
   {
    "duration": 67,
    "start_time": "2023-05-01T14:59:21.505Z"
   },
   {
    "duration": 309,
    "start_time": "2023-05-01T14:59:21.574Z"
   },
   {
    "duration": 23,
    "start_time": "2023-05-01T14:59:21.885Z"
   },
   {
    "duration": 8,
    "start_time": "2023-05-01T14:59:21.911Z"
   },
   {
    "duration": 5,
    "start_time": "2023-05-01T14:59:21.941Z"
   },
   {
    "duration": 14,
    "start_time": "2023-05-01T14:59:21.949Z"
   },
   {
    "duration": 45,
    "start_time": "2023-05-01T14:59:21.965Z"
   },
   {
    "duration": 252,
    "start_time": "2023-05-01T14:59:22.012Z"
   },
   {
    "duration": 8,
    "start_time": "2023-05-01T14:59:22.266Z"
   },
   {
    "duration": 84,
    "start_time": "2023-05-01T14:59:22.277Z"
   },
   {
    "duration": 1610,
    "start_time": "2023-05-01T14:59:22.363Z"
   },
   {
    "duration": 691,
    "start_time": "2023-05-01T14:59:23.975Z"
   },
   {
    "duration": 3,
    "start_time": "2023-05-01T14:59:24.669Z"
   },
   {
    "duration": 19,
    "start_time": "2023-05-01T14:59:24.674Z"
   },
   {
    "duration": 1953,
    "start_time": "2023-05-01T14:59:24.695Z"
   },
   {
    "duration": 561,
    "start_time": "2023-05-01T14:59:26.650Z"
   },
   {
    "duration": 10,
    "start_time": "2023-05-01T14:59:27.213Z"
   },
   {
    "duration": 28,
    "start_time": "2023-05-01T14:59:27.226Z"
   },
   {
    "duration": 15,
    "start_time": "2023-05-01T14:59:27.256Z"
   },
   {
    "duration": 19,
    "start_time": "2023-05-01T14:59:27.272Z"
   },
   {
    "duration": 18,
    "start_time": "2023-05-01T14:59:27.293Z"
   },
   {
    "duration": 19,
    "start_time": "2023-05-01T14:59:27.313Z"
   },
   {
    "duration": 4014,
    "start_time": "2023-05-01T14:59:27.334Z"
   },
   {
    "duration": 29336,
    "start_time": "2023-05-01T14:59:31.352Z"
   },
   {
    "duration": 143729,
    "start_time": "2023-05-01T15:00:00.690Z"
   },
   {
    "duration": 8,
    "start_time": "2023-05-01T15:02:24.421Z"
   },
   {
    "duration": 1917,
    "start_time": "2023-05-01T15:02:24.430Z"
   },
   {
    "duration": 2207,
    "start_time": "2023-05-01T15:02:26.351Z"
   },
   {
    "duration": 9,
    "start_time": "2023-05-01T15:02:28.561Z"
   },
   {
    "duration": 20,
    "start_time": "2023-05-01T15:02:28.571Z"
   },
   {
    "duration": 2010,
    "start_time": "2023-05-01T15:02:50.340Z"
   },
   {
    "duration": 1917,
    "start_time": "2023-05-01T15:02:59.703Z"
   },
   {
    "duration": 843,
    "start_time": "2023-05-01T15:03:01.623Z"
   },
   {
    "duration": 78,
    "start_time": "2023-05-01T15:03:02.468Z"
   },
   {
    "duration": 68,
    "start_time": "2023-05-01T15:03:02.550Z"
   },
   {
    "duration": 78,
    "start_time": "2023-05-01T15:03:02.621Z"
   },
   {
    "duration": 330,
    "start_time": "2023-05-01T15:03:02.702Z"
   },
   {
    "duration": 29,
    "start_time": "2023-05-01T15:03:03.034Z"
   },
   {
    "duration": 11,
    "start_time": "2023-05-01T15:03:03.065Z"
   },
   {
    "duration": 14,
    "start_time": "2023-05-01T15:03:03.079Z"
   },
   {
    "duration": 17,
    "start_time": "2023-05-01T15:03:03.096Z"
   },
   {
    "duration": 38,
    "start_time": "2023-05-01T15:03:03.115Z"
   },
   {
    "duration": 309,
    "start_time": "2023-05-01T15:03:03.154Z"
   },
   {
    "duration": 7,
    "start_time": "2023-05-01T15:03:03.466Z"
   },
   {
    "duration": 120,
    "start_time": "2023-05-01T15:03:03.478Z"
   },
   {
    "duration": 1581,
    "start_time": "2023-05-01T15:03:03.600Z"
   },
   {
    "duration": 694,
    "start_time": "2023-05-01T15:03:05.183Z"
   },
   {
    "duration": 3,
    "start_time": "2023-05-01T15:03:05.879Z"
   },
   {
    "duration": 34,
    "start_time": "2023-05-01T15:03:05.884Z"
   },
   {
    "duration": 1977,
    "start_time": "2023-05-01T15:03:05.920Z"
   },
   {
    "duration": 539,
    "start_time": "2023-05-01T15:03:07.899Z"
   },
   {
    "duration": 5,
    "start_time": "2023-05-01T15:03:08.441Z"
   },
   {
    "duration": 30,
    "start_time": "2023-05-01T15:03:08.448Z"
   },
   {
    "duration": 15,
    "start_time": "2023-05-01T15:03:08.480Z"
   },
   {
    "duration": 15,
    "start_time": "2023-05-01T15:03:08.498Z"
   },
   {
    "duration": 66,
    "start_time": "2023-05-01T15:03:08.516Z"
   },
   {
    "duration": 59,
    "start_time": "2023-05-01T15:03:08.584Z"
   },
   {
    "duration": 2296,
    "start_time": "2023-05-01T15:03:08.646Z"
   },
   {
    "duration": 29712,
    "start_time": "2023-05-01T15:03:10.946Z"
   },
   {
    "duration": 13397,
    "start_time": "2023-05-01T15:03:40.660Z"
   },
   {
    "duration": 7,
    "start_time": "2023-05-01T15:03:54.059Z"
   },
   {
    "duration": 1862,
    "start_time": "2023-05-01T15:03:54.068Z"
   },
   {
    "duration": 1884,
    "start_time": "2023-05-01T15:03:55.933Z"
   },
   {
    "duration": 9,
    "start_time": "2023-05-01T15:03:57.819Z"
   },
   {
    "duration": 12,
    "start_time": "2023-05-01T15:03:57.841Z"
   },
   {
    "duration": 56003,
    "start_time": "2023-05-01T15:04:02.236Z"
   },
   {
    "duration": 3130,
    "start_time": "2023-05-01T15:05:15.816Z"
   },
   {
    "duration": 1734,
    "start_time": "2023-05-02T07:07:27.651Z"
   },
   {
    "duration": 1422,
    "start_time": "2023-05-02T07:08:42.216Z"
   },
   {
    "duration": 1825,
    "start_time": "2023-05-02T07:08:43.640Z"
   },
   {
    "duration": 63,
    "start_time": "2023-05-02T07:08:45.467Z"
   },
   {
    "duration": 85,
    "start_time": "2023-05-02T07:08:45.532Z"
   },
   {
    "duration": 51,
    "start_time": "2023-05-02T07:08:45.620Z"
   },
   {
    "duration": 308,
    "start_time": "2023-05-02T07:08:45.673Z"
   },
   {
    "duration": 38,
    "start_time": "2023-05-02T07:08:45.982Z"
   },
   {
    "duration": 8,
    "start_time": "2023-05-02T07:08:46.022Z"
   },
   {
    "duration": 13,
    "start_time": "2023-05-02T07:08:46.032Z"
   },
   {
    "duration": 13,
    "start_time": "2023-05-02T07:08:46.047Z"
   },
   {
    "duration": 13,
    "start_time": "2023-05-02T07:08:46.061Z"
   },
   {
    "duration": 235,
    "start_time": "2023-05-02T07:08:46.091Z"
   },
   {
    "duration": 5,
    "start_time": "2023-05-02T07:08:46.328Z"
   },
   {
    "duration": 80,
    "start_time": "2023-05-02T07:08:46.336Z"
   },
   {
    "duration": 1584,
    "start_time": "2023-05-02T07:08:46.418Z"
   },
   {
    "duration": 622,
    "start_time": "2023-05-02T07:08:48.004Z"
   },
   {
    "duration": 3,
    "start_time": "2023-05-02T07:08:48.628Z"
   },
   {
    "duration": 10,
    "start_time": "2023-05-02T07:08:48.633Z"
   },
   {
    "duration": 1626,
    "start_time": "2023-05-02T07:08:48.644Z"
   },
   {
    "duration": 514,
    "start_time": "2023-05-02T07:08:50.272Z"
   },
   {
    "duration": 5,
    "start_time": "2023-05-02T07:08:50.788Z"
   },
   {
    "duration": 10,
    "start_time": "2023-05-02T07:08:50.795Z"
   },
   {
    "duration": 10,
    "start_time": "2023-05-02T07:08:50.807Z"
   },
   {
    "duration": 5,
    "start_time": "2023-05-02T07:08:50.819Z"
   },
   {
    "duration": 4,
    "start_time": "2023-05-02T07:08:50.826Z"
   },
   {
    "duration": 12,
    "start_time": "2023-05-02T07:08:50.832Z"
   },
   {
    "duration": 135,
    "start_time": "2023-05-02T07:08:50.846Z"
   },
   {
    "duration": 0,
    "start_time": "2023-05-02T07:08:50.982Z"
   },
   {
    "duration": 0,
    "start_time": "2023-05-02T07:08:50.984Z"
   },
   {
    "duration": 0,
    "start_time": "2023-05-02T07:08:50.985Z"
   },
   {
    "duration": 0,
    "start_time": "2023-05-02T07:08:50.986Z"
   },
   {
    "duration": 0,
    "start_time": "2023-05-02T07:08:50.992Z"
   },
   {
    "duration": 0,
    "start_time": "2023-05-02T07:08:50.993Z"
   },
   {
    "duration": 0,
    "start_time": "2023-05-02T07:08:50.994Z"
   },
   {
    "duration": 0,
    "start_time": "2023-05-02T07:08:50.995Z"
   },
   {
    "duration": 1376,
    "start_time": "2023-05-02T07:10:10.489Z"
   },
   {
    "duration": 664,
    "start_time": "2023-05-02T07:10:11.866Z"
   },
   {
    "duration": 62,
    "start_time": "2023-05-02T07:10:12.532Z"
   },
   {
    "duration": 60,
    "start_time": "2023-05-02T07:10:12.596Z"
   },
   {
    "duration": 58,
    "start_time": "2023-05-02T07:10:12.658Z"
   },
   {
    "duration": 293,
    "start_time": "2023-05-02T07:10:12.717Z"
   },
   {
    "duration": 23,
    "start_time": "2023-05-02T07:10:13.012Z"
   },
   {
    "duration": 9,
    "start_time": "2023-05-02T07:10:13.036Z"
   },
   {
    "duration": 5,
    "start_time": "2023-05-02T07:10:13.046Z"
   },
   {
    "duration": 39,
    "start_time": "2023-05-02T07:10:13.054Z"
   },
   {
    "duration": 16,
    "start_time": "2023-05-02T07:10:13.095Z"
   },
   {
    "duration": 233,
    "start_time": "2023-05-02T07:10:13.113Z"
   },
   {
    "duration": 6,
    "start_time": "2023-05-02T07:10:13.348Z"
   },
   {
    "duration": 73,
    "start_time": "2023-05-02T07:10:13.355Z"
   },
   {
    "duration": 1392,
    "start_time": "2023-05-02T07:10:13.430Z"
   },
   {
    "duration": 1097,
    "start_time": "2023-05-02T07:10:14.824Z"
   },
   {
    "duration": 3,
    "start_time": "2023-05-02T07:10:15.922Z"
   },
   {
    "duration": 69,
    "start_time": "2023-05-02T07:10:15.927Z"
   },
   {
    "duration": 2141,
    "start_time": "2023-05-02T07:10:15.998Z"
   },
   {
    "duration": 619,
    "start_time": "2023-05-02T07:10:18.140Z"
   },
   {
    "duration": 6,
    "start_time": "2023-05-02T07:10:18.761Z"
   },
   {
    "duration": 43,
    "start_time": "2023-05-02T07:10:18.769Z"
   },
   {
    "duration": 20,
    "start_time": "2023-05-02T07:10:18.814Z"
   },
   {
    "duration": 25,
    "start_time": "2023-05-02T07:10:18.836Z"
   },
   {
    "duration": 47,
    "start_time": "2023-05-02T07:10:18.863Z"
   },
   {
    "duration": 45,
    "start_time": "2023-05-02T07:10:18.912Z"
   },
   {
    "duration": 45,
    "start_time": "2023-05-02T07:10:18.958Z"
   },
   {
    "duration": 2389,
    "start_time": "2023-05-02T07:10:19.007Z"
   },
   {
    "duration": 50628,
    "start_time": "2023-05-02T07:10:21.398Z"
   },
   {
    "duration": 19556,
    "start_time": "2023-05-02T07:11:12.028Z"
   },
   {
    "duration": 7,
    "start_time": "2023-05-02T07:11:31.586Z"
   },
   {
    "duration": 1724,
    "start_time": "2023-05-02T07:11:31.595Z"
   },
   {
    "duration": 1744,
    "start_time": "2023-05-02T07:11:33.320Z"
   },
   {
    "duration": 8,
    "start_time": "2023-05-02T07:11:35.065Z"
   },
   {
    "duration": 23,
    "start_time": "2023-05-02T07:11:35.075Z"
   },
   {
    "duration": 1470,
    "start_time": "2023-05-02T07:15:37.356Z"
   },
   {
    "duration": 677,
    "start_time": "2023-05-02T07:15:38.828Z"
   },
   {
    "duration": 66,
    "start_time": "2023-05-02T07:15:39.507Z"
   },
   {
    "duration": 65,
    "start_time": "2023-05-02T07:15:39.575Z"
   },
   {
    "duration": 51,
    "start_time": "2023-05-02T07:15:39.642Z"
   },
   {
    "duration": 253,
    "start_time": "2023-05-02T07:15:39.695Z"
   },
   {
    "duration": 21,
    "start_time": "2023-05-02T07:15:39.950Z"
   },
   {
    "duration": 25,
    "start_time": "2023-05-02T07:15:39.973Z"
   },
   {
    "duration": 17,
    "start_time": "2023-05-02T07:15:40.000Z"
   },
   {
    "duration": 29,
    "start_time": "2023-05-02T07:15:40.019Z"
   },
   {
    "duration": 30,
    "start_time": "2023-05-02T07:15:40.050Z"
   },
   {
    "duration": 225,
    "start_time": "2023-05-02T07:15:40.081Z"
   },
   {
    "duration": 5,
    "start_time": "2023-05-02T07:15:40.307Z"
   },
   {
    "duration": 69,
    "start_time": "2023-05-02T07:15:40.313Z"
   },
   {
    "duration": 1447,
    "start_time": "2023-05-02T07:15:40.384Z"
   },
   {
    "duration": 623,
    "start_time": "2023-05-02T07:15:41.832Z"
   },
   {
    "duration": 3,
    "start_time": "2023-05-02T07:15:42.458Z"
   },
   {
    "duration": 10,
    "start_time": "2023-05-02T07:15:42.463Z"
   },
   {
    "duration": 1658,
    "start_time": "2023-05-02T07:15:42.491Z"
   },
   {
    "duration": 634,
    "start_time": "2023-05-02T07:15:44.150Z"
   },
   {
    "duration": 4,
    "start_time": "2023-05-02T07:15:44.791Z"
   },
   {
    "duration": 15,
    "start_time": "2023-05-02T07:15:44.797Z"
   },
   {
    "duration": 25,
    "start_time": "2023-05-02T07:15:44.814Z"
   },
   {
    "duration": 20,
    "start_time": "2023-05-02T07:15:44.841Z"
   },
   {
    "duration": 27,
    "start_time": "2023-05-02T07:15:44.863Z"
   },
   {
    "duration": 20,
    "start_time": "2023-05-02T07:15:44.891Z"
   },
   {
    "duration": 58,
    "start_time": "2023-05-02T07:15:44.913Z"
   },
   {
    "duration": 24,
    "start_time": "2023-05-02T07:15:44.974Z"
   },
   {
    "duration": 109,
    "start_time": "2023-05-02T07:15:45.000Z"
   },
   {
    "duration": 0,
    "start_time": "2023-05-02T07:15:45.110Z"
   },
   {
    "duration": 0,
    "start_time": "2023-05-02T07:15:45.111Z"
   },
   {
    "duration": 0,
    "start_time": "2023-05-02T07:15:45.112Z"
   },
   {
    "duration": 0,
    "start_time": "2023-05-02T07:15:45.113Z"
   },
   {
    "duration": 0,
    "start_time": "2023-05-02T07:15:45.114Z"
   },
   {
    "duration": 0,
    "start_time": "2023-05-02T07:15:45.115Z"
   },
   {
    "duration": 0,
    "start_time": "2023-05-02T07:15:45.117Z"
   },
   {
    "duration": 0,
    "start_time": "2023-05-02T07:15:45.117Z"
   },
   {
    "duration": 5,
    "start_time": "2023-05-02T07:16:38.318Z"
   },
   {
    "duration": 2882,
    "start_time": "2023-05-02T07:23:33.516Z"
   },
   {
    "duration": 6633,
    "start_time": "2023-05-13T05:40:00.493Z"
   },
   {
    "duration": 174,
    "start_time": "2023-05-13T05:40:07.128Z"
   },
   {
    "duration": 49,
    "start_time": "2023-05-13T05:40:07.304Z"
   },
   {
    "duration": 203,
    "start_time": "2023-05-13T05:40:07.355Z"
   },
   {
    "duration": 107,
    "start_time": "2023-05-13T05:40:07.559Z"
   },
   {
    "duration": 163,
    "start_time": "2023-05-13T05:40:07.668Z"
   },
   {
    "duration": 891,
    "start_time": "2023-05-13T05:40:07.843Z"
   },
   {
    "duration": 14,
    "start_time": "2023-05-13T05:40:08.743Z"
   },
   {
    "duration": 157,
    "start_time": "2023-05-13T05:40:08.768Z"
   },
   {
    "duration": 179,
    "start_time": "2023-05-13T05:40:08.928Z"
   },
   {
    "duration": 125,
    "start_time": "2023-05-13T05:40:09.109Z"
   },
   {
    "duration": 246,
    "start_time": "2023-05-13T05:40:09.236Z"
   },
   {
    "duration": 139,
    "start_time": "2023-05-13T05:40:09.484Z"
   },
   {
    "duration": 178,
    "start_time": "2023-05-13T05:40:09.625Z"
   },
   {
    "duration": 160,
    "start_time": "2023-05-13T05:40:09.805Z"
   },
   {
    "duration": 183,
    "start_time": "2023-05-13T05:40:09.968Z"
   },
   {
    "duration": 160,
    "start_time": "2023-05-13T05:40:10.156Z"
   },
   {
    "duration": 278,
    "start_time": "2023-05-13T05:40:10.328Z"
   },
   {
    "duration": 227,
    "start_time": "2023-05-13T05:40:10.607Z"
   },
   {
    "duration": 158,
    "start_time": "2023-05-13T05:40:10.856Z"
   },
   {
    "duration": 124,
    "start_time": "2023-05-13T05:40:11.026Z"
   },
   {
    "duration": 123,
    "start_time": "2023-05-13T05:40:11.159Z"
   },
   {
    "duration": 1979,
    "start_time": "2023-05-15T06:10:37.156Z"
   },
   {
    "duration": 128,
    "start_time": "2023-05-15T06:10:39.140Z"
   },
   {
    "duration": 14,
    "start_time": "2023-05-15T06:10:39.270Z"
   },
   {
    "duration": 43,
    "start_time": "2023-05-15T06:10:39.286Z"
   },
   {
    "duration": 9,
    "start_time": "2023-05-15T06:10:39.332Z"
   },
   {
    "duration": 43,
    "start_time": "2023-05-15T06:10:39.343Z"
   },
   {
    "duration": 491,
    "start_time": "2023-05-15T06:10:39.388Z"
   },
   {
    "duration": 5,
    "start_time": "2023-05-15T06:10:39.880Z"
   },
   {
    "duration": 12,
    "start_time": "2023-05-15T06:10:39.887Z"
   },
   {
    "duration": 19,
    "start_time": "2023-05-15T06:10:39.901Z"
   },
   {
    "duration": 6,
    "start_time": "2023-05-15T06:10:39.922Z"
   },
   {
    "duration": 30,
    "start_time": "2023-05-15T06:10:39.930Z"
   },
   {
    "duration": 101,
    "start_time": "2023-05-15T06:10:39.978Z"
   },
   {
    "duration": 14,
    "start_time": "2023-05-15T06:10:40.083Z"
   },
   {
    "duration": 79,
    "start_time": "2023-05-15T06:10:40.099Z"
   },
   {
    "duration": 99,
    "start_time": "2023-05-15T06:10:40.181Z"
   },
   {
    "duration": 37,
    "start_time": "2023-05-15T06:10:40.282Z"
   },
   {
    "duration": 70,
    "start_time": "2023-05-15T06:10:40.321Z"
   },
   {
    "duration": 96,
    "start_time": "2023-05-15T06:10:40.485Z"
   },
   {
    "duration": 94,
    "start_time": "2023-05-15T06:10:40.586Z"
   },
   {
    "duration": 26,
    "start_time": "2023-05-15T06:10:40.682Z"
   },
   {
    "duration": 23,
    "start_time": "2023-05-15T06:10:40.709Z"
   },
   {
    "duration": 116,
    "start_time": "2023-05-15T06:19:20.847Z"
   },
   {
    "duration": 17,
    "start_time": "2023-05-15T06:25:45.626Z"
   },
   {
    "duration": 16,
    "start_time": "2023-05-15T06:27:36.273Z"
   },
   {
    "duration": 6,
    "start_time": "2023-05-15T06:31:20.556Z"
   },
   {
    "duration": 8,
    "start_time": "2023-05-15T06:32:51.067Z"
   },
   {
    "duration": 15,
    "start_time": "2023-05-15T06:33:27.161Z"
   },
   {
    "duration": 7,
    "start_time": "2023-05-15T06:34:00.156Z"
   },
   {
    "duration": 8,
    "start_time": "2023-05-15T06:34:12.654Z"
   },
   {
    "duration": 14,
    "start_time": "2023-05-15T06:34:25.689Z"
   },
   {
    "duration": 14,
    "start_time": "2023-05-15T06:35:04.241Z"
   },
   {
    "duration": 1644,
    "start_time": "2023-05-15T06:35:53.610Z"
   },
   {
    "duration": 48,
    "start_time": "2023-05-15T06:35:55.256Z"
   },
   {
    "duration": 17,
    "start_time": "2023-05-15T06:35:55.306Z"
   },
   {
    "duration": 36,
    "start_time": "2023-05-15T06:35:55.326Z"
   },
   {
    "duration": 15,
    "start_time": "2023-05-15T06:35:55.363Z"
   },
   {
    "duration": 5,
    "start_time": "2023-05-15T06:35:55.380Z"
   },
   {
    "duration": 474,
    "start_time": "2023-05-15T06:35:55.387Z"
   },
   {
    "duration": 10,
    "start_time": "2023-05-15T06:35:55.868Z"
   },
   {
    "duration": 8,
    "start_time": "2023-05-15T06:35:55.880Z"
   },
   {
    "duration": 5,
    "start_time": "2023-05-15T06:35:55.892Z"
   },
   {
    "duration": 7,
    "start_time": "2023-05-15T06:35:55.899Z"
   },
   {
    "duration": 70,
    "start_time": "2023-05-15T06:35:55.908Z"
   },
   {
    "duration": 235,
    "start_time": "2023-05-15T06:35:55.982Z"
   },
   {
    "duration": 0,
    "start_time": "2023-05-15T06:35:56.219Z"
   },
   {
    "duration": 0,
    "start_time": "2023-05-15T06:35:56.221Z"
   },
   {
    "duration": 0,
    "start_time": "2023-05-15T06:35:56.222Z"
   },
   {
    "duration": 0,
    "start_time": "2023-05-15T06:35:56.223Z"
   },
   {
    "duration": 0,
    "start_time": "2023-05-15T06:35:56.225Z"
   },
   {
    "duration": 0,
    "start_time": "2023-05-15T06:35:56.226Z"
   },
   {
    "duration": 0,
    "start_time": "2023-05-15T06:35:56.228Z"
   },
   {
    "duration": 0,
    "start_time": "2023-05-15T06:35:56.229Z"
   },
   {
    "duration": 0,
    "start_time": "2023-05-15T06:35:56.230Z"
   },
   {
    "duration": 0,
    "start_time": "2023-05-15T06:35:56.232Z"
   },
   {
    "duration": 0,
    "start_time": "2023-05-15T06:35:56.233Z"
   },
   {
    "duration": 0,
    "start_time": "2023-05-15T06:35:56.235Z"
   },
   {
    "duration": 0,
    "start_time": "2023-05-15T06:35:56.236Z"
   },
   {
    "duration": 0,
    "start_time": "2023-05-15T06:35:56.238Z"
   },
   {
    "duration": 12,
    "start_time": "2023-05-15T06:37:37.160Z"
   },
   {
    "duration": 7,
    "start_time": "2023-05-15T06:37:38.614Z"
   },
   {
    "duration": 9,
    "start_time": "2023-05-15T06:37:42.815Z"
   },
   {
    "duration": 21,
    "start_time": "2023-05-15T06:37:45.207Z"
   },
   {
    "duration": 8,
    "start_time": "2023-05-15T06:37:56.775Z"
   },
   {
    "duration": 11,
    "start_time": "2023-05-15T06:37:58.256Z"
   },
   {
    "duration": 8,
    "start_time": "2023-05-15T06:37:59.078Z"
   },
   {
    "duration": 38,
    "start_time": "2023-05-15T06:38:00.657Z"
   },
   {
    "duration": 5,
    "start_time": "2023-05-15T06:38:57.796Z"
   },
   {
    "duration": 9,
    "start_time": "2023-05-15T06:39:13.940Z"
   },
   {
    "duration": 7,
    "start_time": "2023-05-15T06:39:17.694Z"
   },
   {
    "duration": 8,
    "start_time": "2023-05-15T06:39:18.797Z"
   },
   {
    "duration": 16,
    "start_time": "2023-05-15T06:39:20.549Z"
   },
   {
    "duration": 1520,
    "start_time": "2023-05-15T06:40:14.590Z"
   },
   {
    "duration": 75,
    "start_time": "2023-05-15T06:40:16.112Z"
   },
   {
    "duration": 20,
    "start_time": "2023-05-15T06:40:16.190Z"
   },
   {
    "duration": 38,
    "start_time": "2023-05-15T06:40:16.214Z"
   },
   {
    "duration": 34,
    "start_time": "2023-05-15T06:40:16.255Z"
   },
   {
    "duration": 7,
    "start_time": "2023-05-15T06:40:16.291Z"
   },
   {
    "duration": 545,
    "start_time": "2023-05-15T06:40:16.301Z"
   },
   {
    "duration": 5,
    "start_time": "2023-05-15T06:40:16.848Z"
   },
   {
    "duration": 7,
    "start_time": "2023-05-15T06:40:16.856Z"
   },
   {
    "duration": 7,
    "start_time": "2023-05-15T06:40:16.881Z"
   },
   {
    "duration": 11,
    "start_time": "2023-05-15T06:40:16.890Z"
   },
   {
    "duration": 17,
    "start_time": "2023-05-15T06:40:16.903Z"
   },
   {
    "duration": 55,
    "start_time": "2023-05-15T06:40:16.923Z"
   },
   {
    "duration": 6,
    "start_time": "2023-05-15T06:40:16.980Z"
   },
   {
    "duration": 5,
    "start_time": "2023-05-15T06:40:16.988Z"
   },
   {
    "duration": 85,
    "start_time": "2023-05-15T06:40:16.996Z"
   },
   {
    "duration": 7,
    "start_time": "2023-05-15T06:40:17.083Z"
   },
   {
    "duration": 91,
    "start_time": "2023-05-15T06:40:17.092Z"
   },
   {
    "duration": 2,
    "start_time": "2023-05-15T06:40:17.185Z"
   },
   {
    "duration": 4,
    "start_time": "2023-05-15T06:40:17.189Z"
   },
   {
    "duration": 84,
    "start_time": "2023-05-15T06:40:17.197Z"
   },
   {
    "duration": 4,
    "start_time": "2023-05-15T06:40:17.284Z"
   },
   {
    "duration": 4,
    "start_time": "2023-05-15T06:40:17.290Z"
   },
   {
    "duration": 90,
    "start_time": "2023-05-15T06:40:17.296Z"
   },
   {
    "duration": 6,
    "start_time": "2023-05-15T06:40:17.388Z"
   },
   {
    "duration": 4,
    "start_time": "2023-05-15T06:40:17.396Z"
   },
   {
    "duration": 79,
    "start_time": "2023-05-15T06:40:17.402Z"
   },
   {
    "duration": 19,
    "start_time": "2023-05-15T06:40:17.485Z"
   },
   {
    "duration": 3,
    "start_time": "2023-05-15T06:43:56.233Z"
   },
   {
    "duration": 5,
    "start_time": "2023-05-15T06:43:57.233Z"
   },
   {
    "duration": 9,
    "start_time": "2023-05-15T06:43:58.031Z"
   },
   {
    "duration": 12,
    "start_time": "2023-05-15T06:44:33.855Z"
   },
   {
    "duration": 7,
    "start_time": "2023-05-15T06:44:55.035Z"
   },
   {
    "duration": 4,
    "start_time": "2023-05-15T06:46:07.304Z"
   },
   {
    "duration": 213,
    "start_time": "2023-05-15T06:46:08.643Z"
   },
   {
    "duration": 18,
    "start_time": "2023-05-15T06:46:26.855Z"
   },
   {
    "duration": 15,
    "start_time": "2023-05-15T06:47:21.536Z"
   },
   {
    "duration": 5,
    "start_time": "2023-05-15T06:47:41.916Z"
   },
   {
    "duration": 4,
    "start_time": "2023-05-15T06:47:43.044Z"
   },
   {
    "duration": 9,
    "start_time": "2023-05-15T06:47:43.845Z"
   },
   {
    "duration": 19,
    "start_time": "2023-05-15T06:48:23.349Z"
   },
   {
    "duration": 20,
    "start_time": "2023-05-15T06:49:44.996Z"
   },
   {
    "duration": 4,
    "start_time": "2023-05-15T06:49:48.123Z"
   },
   {
    "duration": 8,
    "start_time": "2023-05-15T06:49:48.787Z"
   },
   {
    "duration": 4,
    "start_time": "2023-05-15T06:50:10.234Z"
   },
   {
    "duration": 14,
    "start_time": "2023-05-15T06:50:11.930Z"
   },
   {
    "duration": 9,
    "start_time": "2023-05-15T06:50:15.601Z"
   },
   {
    "duration": 8,
    "start_time": "2023-05-15T06:50:17.090Z"
   },
   {
    "duration": 8,
    "start_time": "2023-05-15T06:50:17.826Z"
   },
   {
    "duration": 17,
    "start_time": "2023-05-15T06:50:19.339Z"
   },
   {
    "duration": 3,
    "start_time": "2023-05-15T06:51:21.217Z"
   },
   {
    "duration": 4,
    "start_time": "2023-05-15T06:51:22.301Z"
   },
   {
    "duration": 4,
    "start_time": "2023-05-15T06:51:23.353Z"
   },
   {
    "duration": 18,
    "start_time": "2023-05-15T06:51:24.057Z"
   },
   {
    "duration": 7,
    "start_time": "2023-05-15T06:51:30.072Z"
   },
   {
    "duration": 18,
    "start_time": "2023-05-15T06:51:38.842Z"
   },
   {
    "duration": 4,
    "start_time": "2023-05-15T06:51:43.641Z"
   },
   {
    "duration": 4,
    "start_time": "2023-05-15T06:51:48.152Z"
   },
   {
    "duration": 4,
    "start_time": "2023-05-15T06:51:49.201Z"
   },
   {
    "duration": 16,
    "start_time": "2023-05-15T06:51:51.320Z"
   },
   {
    "duration": 4,
    "start_time": "2023-05-15T06:52:21.032Z"
   },
   {
    "duration": 4,
    "start_time": "2023-05-15T06:52:21.888Z"
   },
   {
    "duration": 4,
    "start_time": "2023-05-15T06:52:22.552Z"
   },
   {
    "duration": 26,
    "start_time": "2023-05-15T06:52:23.329Z"
   },
   {
    "duration": 4,
    "start_time": "2023-05-15T06:52:52.241Z"
   },
   {
    "duration": 5,
    "start_time": "2023-05-15T06:52:52.761Z"
   },
   {
    "duration": 4,
    "start_time": "2023-05-15T06:52:53.401Z"
   },
   {
    "duration": 22,
    "start_time": "2023-05-15T06:52:54.082Z"
   },
   {
    "duration": 314,
    "start_time": "2023-05-15T06:54:45.038Z"
   },
   {
    "duration": 5,
    "start_time": "2023-05-15T06:54:48.726Z"
   },
   {
    "duration": 9,
    "start_time": "2023-05-15T06:54:49.695Z"
   },
   {
    "duration": 4,
    "start_time": "2023-05-15T06:54:50.463Z"
   },
   {
    "duration": 14,
    "start_time": "2023-05-15T06:54:51.205Z"
   },
   {
    "duration": 1426,
    "start_time": "2023-05-15T06:54:57.520Z"
   },
   {
    "duration": 73,
    "start_time": "2023-05-15T06:54:58.949Z"
   },
   {
    "duration": 19,
    "start_time": "2023-05-15T06:54:59.024Z"
   },
   {
    "duration": 34,
    "start_time": "2023-05-15T06:54:59.050Z"
   },
   {
    "duration": 11,
    "start_time": "2023-05-15T06:54:59.087Z"
   },
   {
    "duration": 20,
    "start_time": "2023-05-15T06:54:59.104Z"
   },
   {
    "duration": 562,
    "start_time": "2023-05-15T06:54:59.127Z"
   },
   {
    "duration": 5,
    "start_time": "2023-05-15T06:54:59.691Z"
   },
   {
    "duration": 25,
    "start_time": "2023-05-15T06:54:59.698Z"
   },
   {
    "duration": 30,
    "start_time": "2023-05-15T06:54:59.725Z"
   },
   {
    "duration": 14,
    "start_time": "2023-05-15T06:54:59.757Z"
   },
   {
    "duration": 41,
    "start_time": "2023-05-15T06:54:59.772Z"
   },
   {
    "duration": 68,
    "start_time": "2023-05-15T06:54:59.814Z"
   },
   {
    "duration": 93,
    "start_time": "2023-05-15T06:54:59.885Z"
   },
   {
    "duration": 18,
    "start_time": "2023-05-15T06:54:59.980Z"
   },
   {
    "duration": 15,
    "start_time": "2023-05-15T06:55:00.000Z"
   },
   {
    "duration": 113,
    "start_time": "2023-05-15T06:55:00.080Z"
   },
   {
    "duration": 86,
    "start_time": "2023-05-15T06:55:00.196Z"
   },
   {
    "duration": 157,
    "start_time": "2023-05-15T06:55:00.289Z"
   },
   {
    "duration": 68,
    "start_time": "2023-05-15T06:55:00.448Z"
   },
   {
    "duration": 52,
    "start_time": "2023-05-15T06:55:00.518Z"
   },
   {
    "duration": 55,
    "start_time": "2023-05-15T06:55:00.571Z"
   },
   {
    "duration": 45,
    "start_time": "2023-05-15T06:55:00.628Z"
   },
   {
    "duration": 98,
    "start_time": "2023-05-15T06:55:00.675Z"
   },
   {
    "duration": 119,
    "start_time": "2023-05-15T06:55:00.774Z"
   },
   {
    "duration": 56,
    "start_time": "2023-05-15T06:55:00.895Z"
   },
   {
    "duration": 43,
    "start_time": "2023-05-15T06:55:00.953Z"
   },
   {
    "duration": 1474,
    "start_time": "2023-05-15T06:56:34.795Z"
   },
   {
    "duration": 49,
    "start_time": "2023-05-15T06:56:36.273Z"
   },
   {
    "duration": 20,
    "start_time": "2023-05-15T06:56:36.943Z"
   },
   {
    "duration": 25,
    "start_time": "2023-05-15T06:56:38.067Z"
   },
   {
    "duration": 12,
    "start_time": "2023-05-15T06:56:40.084Z"
   },
   {
    "duration": 6,
    "start_time": "2023-05-15T06:56:42.187Z"
   },
   {
    "duration": 410,
    "start_time": "2023-05-15T06:56:43.868Z"
   },
   {
    "duration": 5,
    "start_time": "2023-05-15T06:56:47.492Z"
   },
   {
    "duration": 7,
    "start_time": "2023-05-15T06:56:48.180Z"
   },
   {
    "duration": 4,
    "start_time": "2023-05-15T06:56:49.860Z"
   },
   {
    "duration": 7,
    "start_time": "2023-05-15T06:57:10.445Z"
   },
   {
    "duration": 28,
    "start_time": "2023-05-15T06:57:15.971Z"
   },
   {
    "duration": 12,
    "start_time": "2023-05-15T06:57:19.515Z"
   },
   {
    "duration": 5,
    "start_time": "2023-05-15T06:57:23.027Z"
   },
   {
    "duration": 4,
    "start_time": "2023-05-15T06:57:24.468Z"
   },
   {
    "duration": 27,
    "start_time": "2023-05-15T06:57:26.796Z"
   },
   {
    "duration": 6,
    "start_time": "2023-05-15T06:58:59.253Z"
   },
   {
    "duration": 5,
    "start_time": "2023-05-15T06:59:04.082Z"
   },
   {
    "duration": 5,
    "start_time": "2023-05-15T07:02:11.310Z"
   },
   {
    "duration": 5,
    "start_time": "2023-05-15T07:03:25.269Z"
   },
   {
    "duration": 7,
    "start_time": "2023-05-15T07:03:25.853Z"
   },
   {
    "duration": 6,
    "start_time": "2023-05-15T07:08:13.632Z"
   },
   {
    "duration": 4,
    "start_time": "2023-05-15T07:08:14.489Z"
   },
   {
    "duration": 8,
    "start_time": "2023-05-15T07:08:15.303Z"
   },
   {
    "duration": 30,
    "start_time": "2023-05-15T07:08:16.536Z"
   },
   {
    "duration": 1546,
    "start_time": "2023-05-15T07:10:50.060Z"
   },
   {
    "duration": 65,
    "start_time": "2023-05-15T07:10:51.609Z"
   },
   {
    "duration": 16,
    "start_time": "2023-05-15T07:10:51.676Z"
   },
   {
    "duration": 40,
    "start_time": "2023-05-15T07:10:51.695Z"
   },
   {
    "duration": 13,
    "start_time": "2023-05-15T07:10:51.738Z"
   },
   {
    "duration": 6,
    "start_time": "2023-05-15T07:10:51.779Z"
   },
   {
    "duration": 397,
    "start_time": "2023-05-15T07:10:51.787Z"
   },
   {
    "duration": 5,
    "start_time": "2023-05-15T07:10:52.185Z"
   },
   {
    "duration": 39,
    "start_time": "2023-05-15T07:10:52.192Z"
   },
   {
    "duration": 34,
    "start_time": "2023-05-15T07:10:52.235Z"
   },
   {
    "duration": 30,
    "start_time": "2023-05-15T07:10:52.271Z"
   },
   {
    "duration": 45,
    "start_time": "2023-05-15T07:10:52.306Z"
   },
   {
    "duration": 3,
    "start_time": "2023-05-15T07:10:52.356Z"
   },
   {
    "duration": 17,
    "start_time": "2023-05-15T07:10:52.362Z"
   },
   {
    "duration": 7,
    "start_time": "2023-05-15T07:10:52.382Z"
   },
   {
    "duration": 4,
    "start_time": "2023-05-15T07:10:52.391Z"
   },
   {
    "duration": 87,
    "start_time": "2023-05-15T07:10:52.396Z"
   },
   {
    "duration": 100,
    "start_time": "2023-05-15T07:10:52.484Z"
   },
   {
    "duration": 93,
    "start_time": "2023-05-15T07:10:52.586Z"
   },
   {
    "duration": 4,
    "start_time": "2023-05-15T07:10:52.682Z"
   },
   {
    "duration": 8,
    "start_time": "2023-05-15T07:10:52.688Z"
   },
   {
    "duration": 87,
    "start_time": "2023-05-15T07:10:52.700Z"
   },
   {
    "duration": 89,
    "start_time": "2023-05-15T07:10:52.790Z"
   },
   {
    "duration": 1518,
    "start_time": "2023-05-15T07:27:39.013Z"
   },
   {
    "duration": 893,
    "start_time": "2023-05-15T07:27:47.478Z"
   },
   {
    "duration": 1198,
    "start_time": "2023-05-15T07:29:45.451Z"
   },
   {
    "duration": 7,
    "start_time": "2023-05-15T07:29:55.322Z"
   },
   {
    "duration": 6,
    "start_time": "2023-05-15T07:30:21.225Z"
   },
   {
    "duration": 4,
    "start_time": "2023-05-15T07:30:23.555Z"
   },
   {
    "duration": 7,
    "start_time": "2023-05-15T07:30:24.573Z"
   },
   {
    "duration": 13,
    "start_time": "2023-05-15T07:30:27.203Z"
   },
   {
    "duration": 1372,
    "start_time": "2023-05-15T07:30:38.017Z"
   },
   {
    "duration": 155,
    "start_time": "2023-05-15T07:30:39.392Z"
   },
   {
    "duration": 16,
    "start_time": "2023-05-15T07:30:39.549Z"
   },
   {
    "duration": 35,
    "start_time": "2023-05-15T07:30:39.568Z"
   },
   {
    "duration": 10,
    "start_time": "2023-05-15T07:30:39.605Z"
   },
   {
    "duration": 6,
    "start_time": "2023-05-15T07:30:39.617Z"
   },
   {
    "duration": 443,
    "start_time": "2023-05-15T07:30:39.625Z"
   },
   {
    "duration": 4,
    "start_time": "2023-05-15T07:30:40.077Z"
   },
   {
    "duration": 20,
    "start_time": "2023-05-15T07:30:40.083Z"
   },
   {
    "duration": 5,
    "start_time": "2023-05-15T07:30:40.106Z"
   },
   {
    "duration": 5,
    "start_time": "2023-05-15T07:30:40.113Z"
   },
   {
    "duration": 18,
    "start_time": "2023-05-15T07:30:40.120Z"
   },
   {
    "duration": 3,
    "start_time": "2023-05-15T07:30:40.178Z"
   },
   {
    "duration": 5,
    "start_time": "2023-05-15T07:30:40.183Z"
   },
   {
    "duration": 92,
    "start_time": "2023-05-15T07:30:40.190Z"
   },
   {
    "duration": 5,
    "start_time": "2023-05-15T07:30:40.284Z"
   },
   {
    "duration": 89,
    "start_time": "2023-05-15T07:30:40.292Z"
   },
   {
    "duration": 96,
    "start_time": "2023-05-15T07:30:40.383Z"
   },
   {
    "duration": 101,
    "start_time": "2023-05-15T07:30:40.481Z"
   },
   {
    "duration": 3,
    "start_time": "2023-05-15T07:30:40.583Z"
   },
   {
    "duration": 5,
    "start_time": "2023-05-15T07:30:40.588Z"
   },
   {
    "duration": 91,
    "start_time": "2023-05-15T07:30:40.595Z"
   },
   {
    "duration": 97,
    "start_time": "2023-05-15T07:30:40.688Z"
   },
   {
    "duration": 5,
    "start_time": "2023-05-15T07:31:14.129Z"
   },
   {
    "duration": 4,
    "start_time": "2023-05-15T07:31:14.888Z"
   },
   {
    "duration": 6,
    "start_time": "2023-05-15T07:31:15.514Z"
   },
   {
    "duration": 13,
    "start_time": "2023-05-15T07:31:17.393Z"
   },
   {
    "duration": 5,
    "start_time": "2023-05-15T07:44:38.252Z"
   },
   {
    "duration": 2,
    "start_time": "2023-05-15T07:52:28.916Z"
   },
   {
    "duration": 246,
    "start_time": "2023-05-15T07:56:16.713Z"
   },
   {
    "duration": 16,
    "start_time": "2023-05-15T07:57:05.624Z"
   },
   {
    "duration": 17,
    "start_time": "2023-05-15T07:57:11.272Z"
   },
   {
    "duration": 18,
    "start_time": "2023-05-15T07:57:27.076Z"
   },
   {
    "duration": 6,
    "start_time": "2023-05-15T07:57:59.225Z"
   },
   {
    "duration": 13,
    "start_time": "2023-05-15T07:58:00.810Z"
   },
   {
    "duration": 6,
    "start_time": "2023-05-15T07:59:07.832Z"
   },
   {
    "duration": 12,
    "start_time": "2023-05-15T07:59:09.655Z"
   },
   {
    "duration": 4,
    "start_time": "2023-05-15T07:59:11.093Z"
   },
   {
    "duration": 16,
    "start_time": "2023-05-15T07:59:12.637Z"
   },
   {
    "duration": 7,
    "start_time": "2023-05-15T08:01:26.228Z"
   },
   {
    "duration": 5,
    "start_time": "2023-05-15T08:15:15.423Z"
   },
   {
    "duration": 86,
    "start_time": "2023-05-15T08:15:47.510Z"
   },
   {
    "duration": 22,
    "start_time": "2023-05-15T08:16:15.182Z"
   },
   {
    "duration": 14,
    "start_time": "2023-05-15T08:17:25.333Z"
   },
   {
    "duration": 16,
    "start_time": "2023-05-15T08:17:45.576Z"
   },
   {
    "duration": 12,
    "start_time": "2023-05-15T08:26:10.212Z"
   },
   {
    "duration": 16,
    "start_time": "2023-05-15T08:28:08.795Z"
   },
   {
    "duration": 10,
    "start_time": "2023-05-15T08:28:55.376Z"
   },
   {
    "duration": 5,
    "start_time": "2023-05-15T08:29:54.197Z"
   },
   {
    "duration": 25,
    "start_time": "2023-05-15T08:29:57.078Z"
   },
   {
    "duration": 2042,
    "start_time": "2023-05-15T08:30:02.487Z"
   },
   {
    "duration": 78,
    "start_time": "2023-05-15T08:30:04.531Z"
   },
   {
    "duration": 12,
    "start_time": "2023-05-15T08:30:04.611Z"
   },
   {
    "duration": 46,
    "start_time": "2023-05-15T08:30:04.626Z"
   },
   {
    "duration": 18,
    "start_time": "2023-05-15T08:30:04.673Z"
   },
   {
    "duration": 22,
    "start_time": "2023-05-15T08:30:04.693Z"
   },
   {
    "duration": 462,
    "start_time": "2023-05-15T08:30:04.716Z"
   },
   {
    "duration": 4,
    "start_time": "2023-05-15T08:30:05.180Z"
   },
   {
    "duration": 7,
    "start_time": "2023-05-15T08:30:05.187Z"
   },
   {
    "duration": 4,
    "start_time": "2023-05-15T08:30:05.201Z"
   },
   {
    "duration": 21,
    "start_time": "2023-05-15T08:30:05.207Z"
   },
   {
    "duration": 28,
    "start_time": "2023-05-15T08:30:05.230Z"
   },
   {
    "duration": 5,
    "start_time": "2023-05-15T08:30:05.281Z"
   },
   {
    "duration": 294,
    "start_time": "2023-05-15T08:30:05.291Z"
   },
   {
    "duration": 0,
    "start_time": "2023-05-15T08:30:05.590Z"
   },
   {
    "duration": 0,
    "start_time": "2023-05-15T08:30:05.595Z"
   },
   {
    "duration": 1,
    "start_time": "2023-05-15T08:30:05.597Z"
   },
   {
    "duration": 0,
    "start_time": "2023-05-15T08:30:05.601Z"
   },
   {
    "duration": 0,
    "start_time": "2023-05-15T08:30:05.602Z"
   },
   {
    "duration": 0,
    "start_time": "2023-05-15T08:30:05.604Z"
   },
   {
    "duration": 0,
    "start_time": "2023-05-15T08:30:05.606Z"
   },
   {
    "duration": 0,
    "start_time": "2023-05-15T08:30:05.607Z"
   },
   {
    "duration": 0,
    "start_time": "2023-05-15T08:30:05.608Z"
   },
   {
    "duration": 1,
    "start_time": "2023-05-15T08:30:05.609Z"
   },
   {
    "duration": 4,
    "start_time": "2023-05-15T08:42:23.926Z"
   },
   {
    "duration": 14,
    "start_time": "2023-05-15T08:42:24.499Z"
   },
   {
    "duration": 13,
    "start_time": "2023-05-15T08:42:30.296Z"
   },
   {
    "duration": 10,
    "start_time": "2023-05-15T08:42:43.204Z"
   },
   {
    "duration": 4,
    "start_time": "2023-05-15T08:42:45.296Z"
   },
   {
    "duration": 12,
    "start_time": "2023-05-15T08:42:45.811Z"
   },
   {
    "duration": 11,
    "start_time": "2023-05-15T08:42:49.851Z"
   },
   {
    "duration": 10,
    "start_time": "2023-05-15T08:45:30.305Z"
   },
   {
    "duration": 5,
    "start_time": "2023-05-15T08:46:48.976Z"
   },
   {
    "duration": 16,
    "start_time": "2023-05-15T08:46:50.624Z"
   },
   {
    "duration": 4,
    "start_time": "2023-05-15T08:48:00.993Z"
   },
   {
    "duration": 14,
    "start_time": "2023-05-15T08:48:02.150Z"
   },
   {
    "duration": 4,
    "start_time": "2023-05-15T08:49:07.541Z"
   },
   {
    "duration": 17,
    "start_time": "2023-05-15T08:49:08.125Z"
   },
   {
    "duration": 334,
    "start_time": "2023-05-15T08:51:32.377Z"
   },
   {
    "duration": 4,
    "start_time": "2023-05-15T08:51:43.843Z"
   },
   {
    "duration": 27,
    "start_time": "2023-05-15T08:51:45.879Z"
   },
   {
    "duration": 4,
    "start_time": "2023-05-15T08:57:21.732Z"
   },
   {
    "duration": 4,
    "start_time": "2023-05-15T08:57:29.386Z"
   },
   {
    "duration": 4,
    "start_time": "2023-05-15T08:57:33.740Z"
   },
   {
    "duration": 9,
    "start_time": "2023-05-15T08:57:36.388Z"
   },
   {
    "duration": 4,
    "start_time": "2023-05-15T08:57:39.462Z"
   },
   {
    "duration": 7,
    "start_time": "2023-05-15T08:57:41.108Z"
   },
   {
    "duration": 14,
    "start_time": "2023-05-15T08:58:01.238Z"
   },
   {
    "duration": 5,
    "start_time": "2023-05-15T08:59:09.567Z"
   },
   {
    "duration": 7,
    "start_time": "2023-05-15T08:59:10.198Z"
   },
   {
    "duration": 18,
    "start_time": "2023-05-15T08:59:12.227Z"
   },
   {
    "duration": 1520,
    "start_time": "2023-05-15T08:59:39.599Z"
   },
   {
    "duration": 108,
    "start_time": "2023-05-15T08:59:41.122Z"
   },
   {
    "duration": 14,
    "start_time": "2023-05-15T08:59:41.232Z"
   },
   {
    "duration": 27,
    "start_time": "2023-05-15T08:59:41.248Z"
   },
   {
    "duration": 15,
    "start_time": "2023-05-15T08:59:41.277Z"
   },
   {
    "duration": 10,
    "start_time": "2023-05-15T08:59:41.294Z"
   },
   {
    "duration": 417,
    "start_time": "2023-05-15T08:59:41.306Z"
   },
   {
    "duration": 4,
    "start_time": "2023-05-15T08:59:41.725Z"
   },
   {
    "duration": 7,
    "start_time": "2023-05-15T08:59:41.731Z"
   },
   {
    "duration": 7,
    "start_time": "2023-05-15T08:59:41.741Z"
   },
   {
    "duration": 28,
    "start_time": "2023-05-15T08:59:41.750Z"
   },
   {
    "duration": 31,
    "start_time": "2023-05-15T08:59:41.780Z"
   },
   {
    "duration": 74,
    "start_time": "2023-05-15T08:59:41.813Z"
   },
   {
    "duration": 5,
    "start_time": "2023-05-15T08:59:41.889Z"
   },
   {
    "duration": 201,
    "start_time": "2023-05-15T08:59:41.900Z"
   },
   {
    "duration": 0,
    "start_time": "2023-05-15T08:59:42.103Z"
   },
   {
    "duration": 0,
    "start_time": "2023-05-15T08:59:42.105Z"
   },
   {
    "duration": 0,
    "start_time": "2023-05-15T08:59:42.106Z"
   },
   {
    "duration": 0,
    "start_time": "2023-05-15T08:59:42.107Z"
   },
   {
    "duration": 0,
    "start_time": "2023-05-15T08:59:42.108Z"
   },
   {
    "duration": 0,
    "start_time": "2023-05-15T08:59:42.110Z"
   },
   {
    "duration": 0,
    "start_time": "2023-05-15T08:59:42.111Z"
   },
   {
    "duration": 0,
    "start_time": "2023-05-15T08:59:42.113Z"
   },
   {
    "duration": 0,
    "start_time": "2023-05-15T08:59:42.115Z"
   },
   {
    "duration": 0,
    "start_time": "2023-05-15T08:59:42.116Z"
   },
   {
    "duration": 6,
    "start_time": "2023-05-15T09:00:52.201Z"
   },
   {
    "duration": 5,
    "start_time": "2023-05-15T09:00:56.492Z"
   },
   {
    "duration": 6,
    "start_time": "2023-05-15T09:00:57.892Z"
   },
   {
    "duration": 7,
    "start_time": "2023-05-15T09:01:20.693Z"
   },
   {
    "duration": 27,
    "start_time": "2023-05-15T09:01:34.491Z"
   },
   {
    "duration": 9,
    "start_time": "2023-05-15T09:02:49.984Z"
   },
   {
    "duration": 19,
    "start_time": "2023-05-15T09:02:56.093Z"
   },
   {
    "duration": 3,
    "start_time": "2023-05-15T09:03:22.403Z"
   },
   {
    "duration": 5,
    "start_time": "2023-05-15T09:03:25.710Z"
   },
   {
    "duration": 4,
    "start_time": "2023-05-15T09:03:29.951Z"
   },
   {
    "duration": 6,
    "start_time": "2023-05-15T09:03:30.631Z"
   },
   {
    "duration": 15,
    "start_time": "2023-05-15T09:03:31.751Z"
   },
   {
    "duration": 5,
    "start_time": "2023-05-15T09:03:53.511Z"
   },
   {
    "duration": 6,
    "start_time": "2023-05-15T09:03:55.393Z"
   },
   {
    "duration": 4,
    "start_time": "2023-05-15T09:03:58.695Z"
   },
   {
    "duration": 7,
    "start_time": "2023-05-15T09:03:59.343Z"
   },
   {
    "duration": 11,
    "start_time": "2023-05-15T09:04:00.102Z"
   },
   {
    "duration": 3,
    "start_time": "2023-05-15T09:04:30.711Z"
   },
   {
    "duration": 4,
    "start_time": "2023-05-15T09:04:38.817Z"
   },
   {
    "duration": 4,
    "start_time": "2023-05-15T09:04:43.944Z"
   },
   {
    "duration": 7,
    "start_time": "2023-05-15T09:04:46.230Z"
   },
   {
    "duration": 15,
    "start_time": "2023-05-15T09:04:57.787Z"
   },
   {
    "duration": 3,
    "start_time": "2023-05-15T09:05:16.350Z"
   },
   {
    "duration": 11,
    "start_time": "2023-05-15T09:05:19.396Z"
   },
   {
    "duration": 6,
    "start_time": "2023-05-15T09:05:28.647Z"
   },
   {
    "duration": 7,
    "start_time": "2023-05-15T09:05:42.901Z"
   },
   {
    "duration": 7,
    "start_time": "2023-05-15T09:05:48.742Z"
   },
   {
    "duration": 12,
    "start_time": "2023-05-15T09:06:01.509Z"
   },
   {
    "duration": 4,
    "start_time": "2023-05-15T09:06:20.182Z"
   },
   {
    "duration": 6,
    "start_time": "2023-05-15T09:06:32.437Z"
   },
   {
    "duration": 7,
    "start_time": "2023-05-15T09:06:33.645Z"
   },
   {
    "duration": 6,
    "start_time": "2023-05-15T09:06:34.748Z"
   },
   {
    "duration": 4,
    "start_time": "2023-05-15T09:06:39.272Z"
   },
   {
    "duration": 1968,
    "start_time": "2023-05-15T09:06:44.421Z"
   },
   {
    "duration": 166,
    "start_time": "2023-05-15T09:06:46.392Z"
   },
   {
    "duration": 16,
    "start_time": "2023-05-15T09:06:46.560Z"
   },
   {
    "duration": 58,
    "start_time": "2023-05-15T09:06:46.578Z"
   },
   {
    "duration": 11,
    "start_time": "2023-05-15T09:06:46.638Z"
   },
   {
    "duration": 40,
    "start_time": "2023-05-15T09:06:46.651Z"
   },
   {
    "duration": 527,
    "start_time": "2023-05-15T09:06:46.706Z"
   },
   {
    "duration": 6,
    "start_time": "2023-05-15T09:06:47.236Z"
   },
   {
    "duration": 31,
    "start_time": "2023-05-15T09:06:47.244Z"
   },
   {
    "duration": 30,
    "start_time": "2023-05-15T09:06:47.279Z"
   },
   {
    "duration": 8,
    "start_time": "2023-05-15T09:06:47.317Z"
   },
   {
    "duration": 62,
    "start_time": "2023-05-15T09:06:47.327Z"
   },
   {
    "duration": 8,
    "start_time": "2023-05-15T09:06:47.401Z"
   },
   {
    "duration": 248,
    "start_time": "2023-05-15T09:06:47.412Z"
   },
   {
    "duration": 0,
    "start_time": "2023-05-15T09:06:47.663Z"
   },
   {
    "duration": 0,
    "start_time": "2023-05-15T09:06:47.665Z"
   },
   {
    "duration": 0,
    "start_time": "2023-05-15T09:06:47.666Z"
   },
   {
    "duration": 0,
    "start_time": "2023-05-15T09:06:47.667Z"
   },
   {
    "duration": 0,
    "start_time": "2023-05-15T09:06:47.669Z"
   },
   {
    "duration": 0,
    "start_time": "2023-05-15T09:06:47.670Z"
   },
   {
    "duration": 0,
    "start_time": "2023-05-15T09:06:47.672Z"
   },
   {
    "duration": 0,
    "start_time": "2023-05-15T09:06:47.673Z"
   },
   {
    "duration": 0,
    "start_time": "2023-05-15T09:06:47.675Z"
   },
   {
    "duration": 15,
    "start_time": "2023-05-15T09:07:15.128Z"
   },
   {
    "duration": 19,
    "start_time": "2023-05-15T09:07:17.194Z"
   },
   {
    "duration": 6,
    "start_time": "2023-05-15T09:07:20.733Z"
   },
   {
    "duration": 9,
    "start_time": "2023-05-15T09:07:21.835Z"
   },
   {
    "duration": 25,
    "start_time": "2023-05-15T09:07:27.644Z"
   },
   {
    "duration": 1542,
    "start_time": "2023-05-15T09:21:20.161Z"
   },
   {
    "duration": 45,
    "start_time": "2023-05-15T09:21:21.705Z"
   },
   {
    "duration": 11,
    "start_time": "2023-05-15T09:21:21.752Z"
   },
   {
    "duration": 25,
    "start_time": "2023-05-15T09:21:21.765Z"
   },
   {
    "duration": 13,
    "start_time": "2023-05-15T09:21:21.792Z"
   },
   {
    "duration": 6,
    "start_time": "2023-05-15T09:21:21.807Z"
   },
   {
    "duration": 371,
    "start_time": "2023-05-15T09:21:21.814Z"
   },
   {
    "duration": 7,
    "start_time": "2023-05-15T09:21:22.188Z"
   },
   {
    "duration": 19,
    "start_time": "2023-05-15T09:21:22.197Z"
   },
   {
    "duration": 4,
    "start_time": "2023-05-15T09:21:22.218Z"
   },
   {
    "duration": 4,
    "start_time": "2023-05-15T09:21:22.225Z"
   },
   {
    "duration": 49,
    "start_time": "2023-05-15T09:21:22.231Z"
   },
   {
    "duration": 5,
    "start_time": "2023-05-15T09:21:22.290Z"
   },
   {
    "duration": 7,
    "start_time": "2023-05-15T09:21:22.297Z"
   },
   {
    "duration": 6,
    "start_time": "2023-05-15T09:21:22.306Z"
   },
   {
    "duration": 65,
    "start_time": "2023-05-15T09:21:22.314Z"
   },
   {
    "duration": 14,
    "start_time": "2023-05-15T09:21:22.383Z"
   },
   {
    "duration": 82,
    "start_time": "2023-05-15T09:21:22.398Z"
   },
   {
    "duration": 10,
    "start_time": "2023-05-15T09:21:22.482Z"
   },
   {
    "duration": 6,
    "start_time": "2023-05-15T09:21:22.495Z"
   },
   {
    "duration": 81,
    "start_time": "2023-05-15T09:21:22.502Z"
   },
   {
    "duration": 17,
    "start_time": "2023-05-15T09:21:22.590Z"
   },
   {
    "duration": 1788,
    "start_time": "2023-05-15T09:30:13.697Z"
   },
   {
    "duration": 320,
    "start_time": "2023-05-15T09:30:15.492Z"
   },
   {
    "duration": 16,
    "start_time": "2023-05-15T09:30:15.814Z"
   },
   {
    "duration": 30,
    "start_time": "2023-05-15T09:30:15.832Z"
   },
   {
    "duration": 16,
    "start_time": "2023-05-15T09:30:15.866Z"
   },
   {
    "duration": 15,
    "start_time": "2023-05-15T09:30:15.884Z"
   },
   {
    "duration": 423,
    "start_time": "2023-05-15T09:30:15.903Z"
   },
   {
    "duration": 5,
    "start_time": "2023-05-15T09:30:16.328Z"
   },
   {
    "duration": 7,
    "start_time": "2023-05-15T09:30:16.335Z"
   },
   {
    "duration": 5,
    "start_time": "2023-05-15T09:30:16.344Z"
   },
   {
    "duration": 15,
    "start_time": "2023-05-15T09:30:16.351Z"
   },
   {
    "duration": 43,
    "start_time": "2023-05-15T09:30:16.368Z"
   },
   {
    "duration": 67,
    "start_time": "2023-05-15T09:30:16.413Z"
   },
   {
    "duration": 14,
    "start_time": "2023-05-15T09:30:16.487Z"
   },
   {
    "duration": 83,
    "start_time": "2023-05-15T09:30:16.504Z"
   },
   {
    "duration": 96,
    "start_time": "2023-05-15T09:30:16.591Z"
   },
   {
    "duration": 16,
    "start_time": "2023-05-15T09:30:16.692Z"
   },
   {
    "duration": 80,
    "start_time": "2023-05-15T09:30:16.712Z"
   },
   {
    "duration": 11,
    "start_time": "2023-05-15T09:30:16.798Z"
   },
   {
    "duration": 13,
    "start_time": "2023-05-15T09:30:16.878Z"
   },
   {
    "duration": 19,
    "start_time": "2023-05-15T09:30:16.897Z"
   },
   {
    "duration": 79,
    "start_time": "2023-05-15T09:30:16.918Z"
   },
   {
    "duration": 1436,
    "start_time": "2023-05-15T09:31:50.343Z"
   },
   {
    "duration": 77,
    "start_time": "2023-05-15T09:31:51.784Z"
   },
   {
    "duration": 12,
    "start_time": "2023-05-15T09:31:51.862Z"
   },
   {
    "duration": 39,
    "start_time": "2023-05-15T09:31:51.876Z"
   },
   {
    "duration": 31,
    "start_time": "2023-05-15T09:31:51.916Z"
   },
   {
    "duration": 23,
    "start_time": "2023-05-15T09:31:51.950Z"
   },
   {
    "duration": 389,
    "start_time": "2023-05-15T09:31:51.975Z"
   },
   {
    "duration": 17,
    "start_time": "2023-05-15T09:31:52.367Z"
   },
   {
    "duration": 13,
    "start_time": "2023-05-15T09:31:52.393Z"
   },
   {
    "duration": 23,
    "start_time": "2023-05-15T09:31:52.409Z"
   },
   {
    "duration": 25,
    "start_time": "2023-05-15T09:31:52.434Z"
   },
   {
    "duration": 38,
    "start_time": "2023-05-15T09:31:52.461Z"
   },
   {
    "duration": 79,
    "start_time": "2023-05-15T09:31:52.500Z"
   },
   {
    "duration": 108,
    "start_time": "2023-05-15T09:31:52.581Z"
   },
   {
    "duration": 17,
    "start_time": "2023-05-15T09:31:52.691Z"
   },
   {
    "duration": 74,
    "start_time": "2023-05-15T09:31:52.709Z"
   },
   {
    "duration": 32,
    "start_time": "2023-05-15T09:31:52.785Z"
   },
   {
    "duration": 24,
    "start_time": "2023-05-15T09:31:52.888Z"
   },
   {
    "duration": 13,
    "start_time": "2023-05-15T09:31:52.978Z"
   },
   {
    "duration": 19,
    "start_time": "2023-05-15T09:31:52.996Z"
   },
   {
    "duration": 16,
    "start_time": "2023-05-15T09:31:53.077Z"
   },
   {
    "duration": 93,
    "start_time": "2023-05-15T09:31:53.095Z"
   },
   {
    "duration": 1569,
    "start_time": "2023-05-15T09:32:34.772Z"
   },
   {
    "duration": 71,
    "start_time": "2023-05-15T09:32:36.344Z"
   },
   {
    "duration": 13,
    "start_time": "2023-05-15T09:32:36.417Z"
   },
   {
    "duration": 27,
    "start_time": "2023-05-15T09:32:36.432Z"
   },
   {
    "duration": 7,
    "start_time": "2023-05-15T09:32:36.462Z"
   },
   {
    "duration": 6,
    "start_time": "2023-05-15T09:32:36.471Z"
   },
   {
    "duration": 401,
    "start_time": "2023-05-15T09:32:36.482Z"
   },
   {
    "duration": 6,
    "start_time": "2023-05-15T09:32:36.885Z"
   },
   {
    "duration": 8,
    "start_time": "2023-05-15T09:32:36.895Z"
   },
   {
    "duration": 6,
    "start_time": "2023-05-15T09:32:36.904Z"
   },
   {
    "duration": 5,
    "start_time": "2023-05-15T09:32:36.912Z"
   },
   {
    "duration": 12,
    "start_time": "2023-05-15T09:32:36.919Z"
   },
   {
    "duration": 11,
    "start_time": "2023-05-15T09:32:36.979Z"
   },
   {
    "duration": 5,
    "start_time": "2023-05-15T09:32:36.993Z"
   },
   {
    "duration": 79,
    "start_time": "2023-05-15T09:32:37.001Z"
   },
   {
    "duration": 15,
    "start_time": "2023-05-15T09:32:37.082Z"
   },
   {
    "duration": 96,
    "start_time": "2023-05-15T09:32:37.100Z"
   },
   {
    "duration": 92,
    "start_time": "2023-05-15T09:32:37.201Z"
   },
   {
    "duration": 10,
    "start_time": "2023-05-15T09:32:37.297Z"
   },
   {
    "duration": 72,
    "start_time": "2023-05-15T09:32:37.311Z"
   },
   {
    "duration": 91,
    "start_time": "2023-05-15T09:32:37.388Z"
   },
   {
    "duration": 17,
    "start_time": "2023-05-15T09:32:37.484Z"
   },
   {
    "duration": 4,
    "start_time": "2023-05-15T09:41:29.939Z"
   },
   {
    "duration": 17,
    "start_time": "2023-05-15T09:41:45.798Z"
   },
   {
    "duration": 14,
    "start_time": "2023-05-15T09:41:46.756Z"
   },
   {
    "duration": 3,
    "start_time": "2023-05-15T09:41:48.003Z"
   },
   {
    "duration": 4,
    "start_time": "2023-05-15T09:41:49.945Z"
   },
   {
    "duration": 24,
    "start_time": "2023-05-15T09:41:50.769Z"
   },
   {
    "duration": 21,
    "start_time": "2023-05-15T09:41:52.466Z"
   },
   {
    "duration": 14,
    "start_time": "2023-05-15T09:42:37.859Z"
   },
   {
    "duration": 22,
    "start_time": "2023-05-15T09:42:54.873Z"
   },
   {
    "duration": 3,
    "start_time": "2023-05-15T09:43:04.796Z"
   },
   {
    "duration": 12,
    "start_time": "2023-05-15T09:43:51.098Z"
   },
   {
    "duration": 1742,
    "start_time": "2023-05-15T09:43:56.996Z"
   },
   {
    "duration": 112,
    "start_time": "2023-05-15T09:43:58.740Z"
   },
   {
    "duration": 13,
    "start_time": "2023-05-15T09:43:58.854Z"
   },
   {
    "duration": 37,
    "start_time": "2023-05-15T09:43:58.871Z"
   },
   {
    "duration": 8,
    "start_time": "2023-05-15T09:43:58.910Z"
   },
   {
    "duration": 7,
    "start_time": "2023-05-15T09:43:58.919Z"
   },
   {
    "duration": 432,
    "start_time": "2023-05-15T09:43:58.928Z"
   },
   {
    "duration": 5,
    "start_time": "2023-05-15T09:43:59.362Z"
   },
   {
    "duration": 12,
    "start_time": "2023-05-15T09:43:59.377Z"
   },
   {
    "duration": 6,
    "start_time": "2023-05-15T09:43:59.393Z"
   },
   {
    "duration": 7,
    "start_time": "2023-05-15T09:43:59.400Z"
   },
   {
    "duration": 15,
    "start_time": "2023-05-15T09:43:59.409Z"
   },
   {
    "duration": 7,
    "start_time": "2023-05-15T09:43:59.488Z"
   },
   {
    "duration": 9,
    "start_time": "2023-05-15T09:43:59.498Z"
   },
   {
    "duration": 69,
    "start_time": "2023-05-15T09:43:59.509Z"
   },
   {
    "duration": 16,
    "start_time": "2023-05-15T09:43:59.580Z"
   },
   {
    "duration": 90,
    "start_time": "2023-05-15T09:43:59.598Z"
   },
   {
    "duration": 22,
    "start_time": "2023-05-15T09:43:59.690Z"
   },
   {
    "duration": 13,
    "start_time": "2023-05-15T09:43:59.782Z"
   },
   {
    "duration": 78,
    "start_time": "2023-05-15T09:43:59.801Z"
   },
   {
    "duration": 10,
    "start_time": "2023-05-15T09:43:59.882Z"
   },
   {
    "duration": 91,
    "start_time": "2023-05-15T09:43:59.894Z"
   },
   {
    "duration": 9,
    "start_time": "2023-06-04T08:39:33.008Z"
   },
   {
    "duration": 68,
    "start_time": "2023-06-04T08:41:59.947Z"
   },
   {
    "duration": 2360,
    "start_time": "2023-06-04T08:42:05.276Z"
   },
   {
    "duration": 2245,
    "start_time": "2023-06-04T08:42:07.638Z"
   },
   {
    "duration": 2,
    "start_time": "2023-06-04T08:42:09.885Z"
   },
   {
    "duration": 1230,
    "start_time": "2023-06-04T08:42:09.889Z"
   },
   {
    "duration": 0,
    "start_time": "2023-06-04T08:42:11.122Z"
   },
   {
    "duration": 0,
    "start_time": "2023-06-04T08:42:11.124Z"
   },
   {
    "duration": 0,
    "start_time": "2023-06-04T08:42:11.124Z"
   },
   {
    "duration": 0,
    "start_time": "2023-06-04T08:42:11.126Z"
   },
   {
    "duration": 0,
    "start_time": "2023-06-04T08:42:11.126Z"
   },
   {
    "duration": 0,
    "start_time": "2023-06-04T08:42:11.128Z"
   },
   {
    "duration": 0,
    "start_time": "2023-06-04T08:42:11.129Z"
   },
   {
    "duration": 0,
    "start_time": "2023-06-04T08:42:11.130Z"
   },
   {
    "duration": 0,
    "start_time": "2023-06-04T08:42:11.131Z"
   },
   {
    "duration": 0,
    "start_time": "2023-06-04T08:42:11.132Z"
   },
   {
    "duration": 0,
    "start_time": "2023-06-04T08:42:11.133Z"
   },
   {
    "duration": 0,
    "start_time": "2023-06-04T08:42:11.134Z"
   },
   {
    "duration": 0,
    "start_time": "2023-06-04T08:42:11.135Z"
   },
   {
    "duration": 0,
    "start_time": "2023-06-04T08:42:11.136Z"
   },
   {
    "duration": 0,
    "start_time": "2023-06-04T08:42:11.158Z"
   },
   {
    "duration": 0,
    "start_time": "2023-06-04T08:42:11.160Z"
   },
   {
    "duration": 0,
    "start_time": "2023-06-04T08:42:11.161Z"
   },
   {
    "duration": 0,
    "start_time": "2023-06-04T08:42:11.163Z"
   },
   {
    "duration": 0,
    "start_time": "2023-06-04T08:42:11.164Z"
   },
   {
    "duration": 0,
    "start_time": "2023-06-04T08:42:11.166Z"
   },
   {
    "duration": 0,
    "start_time": "2023-06-04T08:42:11.167Z"
   },
   {
    "duration": 0,
    "start_time": "2023-06-04T08:42:11.168Z"
   },
   {
    "duration": 0,
    "start_time": "2023-06-04T08:42:11.170Z"
   },
   {
    "duration": 0,
    "start_time": "2023-06-04T08:42:11.171Z"
   },
   {
    "duration": 0,
    "start_time": "2023-06-04T08:42:11.173Z"
   },
   {
    "duration": 0,
    "start_time": "2023-06-04T08:42:11.174Z"
   },
   {
    "duration": 0,
    "start_time": "2023-06-04T08:42:11.176Z"
   },
   {
    "duration": 0,
    "start_time": "2023-06-04T08:42:11.176Z"
   },
   {
    "duration": 0,
    "start_time": "2023-06-04T08:42:11.178Z"
   },
   {
    "duration": 0,
    "start_time": "2023-06-04T08:42:11.179Z"
   },
   {
    "duration": 0,
    "start_time": "2023-06-04T08:42:11.180Z"
   },
   {
    "duration": 0,
    "start_time": "2023-06-04T08:42:11.181Z"
   },
   {
    "duration": 0,
    "start_time": "2023-06-04T08:42:11.182Z"
   },
   {
    "duration": 0,
    "start_time": "2023-06-04T08:42:11.183Z"
   },
   {
    "duration": 0,
    "start_time": "2023-06-04T08:42:11.184Z"
   },
   {
    "duration": 0,
    "start_time": "2023-06-04T08:42:11.184Z"
   },
   {
    "duration": 0,
    "start_time": "2023-06-04T08:42:11.185Z"
   },
   {
    "duration": 0,
    "start_time": "2023-06-04T08:42:11.186Z"
   },
   {
    "duration": 0,
    "start_time": "2023-06-04T08:42:11.187Z"
   },
   {
    "duration": 0,
    "start_time": "2023-06-04T08:42:11.189Z"
   },
   {
    "duration": 0,
    "start_time": "2023-06-04T08:42:11.190Z"
   },
   {
    "duration": 0,
    "start_time": "2023-06-04T08:42:11.191Z"
   },
   {
    "duration": 0,
    "start_time": "2023-06-04T08:42:11.192Z"
   },
   {
    "duration": 0,
    "start_time": "2023-06-04T08:42:11.193Z"
   },
   {
    "duration": 0,
    "start_time": "2023-06-04T08:42:11.194Z"
   },
   {
    "duration": 0,
    "start_time": "2023-06-04T08:42:11.256Z"
   },
   {
    "duration": 0,
    "start_time": "2023-06-04T08:42:11.259Z"
   },
   {
    "duration": 0,
    "start_time": "2023-06-04T08:42:11.260Z"
   },
   {
    "duration": 0,
    "start_time": "2023-06-04T08:42:11.262Z"
   },
   {
    "duration": 0,
    "start_time": "2023-06-04T08:42:11.263Z"
   },
   {
    "duration": 0,
    "start_time": "2023-06-04T08:42:11.265Z"
   },
   {
    "duration": 0,
    "start_time": "2023-06-04T08:42:11.266Z"
   },
   {
    "duration": 0,
    "start_time": "2023-06-04T08:42:11.268Z"
   },
   {
    "duration": 0,
    "start_time": "2023-06-04T08:42:11.269Z"
   },
   {
    "duration": 0,
    "start_time": "2023-06-04T08:42:11.270Z"
   },
   {
    "duration": 3225,
    "start_time": "2023-06-04T08:42:24.499Z"
   },
   {
    "duration": 24,
    "start_time": "2023-06-04T08:42:30.940Z"
   },
   {
    "duration": 500,
    "start_time": "2023-06-04T08:42:33.169Z"
   },
   {
    "duration": 11,
    "start_time": "2023-06-04T08:43:48.209Z"
   },
   {
    "duration": 567,
    "start_time": "2023-06-04T08:44:27.339Z"
   },
   {
    "duration": 2376,
    "start_time": "2023-06-04T08:45:37.442Z"
   },
   {
    "duration": 20,
    "start_time": "2023-06-04T08:45:50.456Z"
   },
   {
    "duration": 16,
    "start_time": "2023-06-04T08:45:56.438Z"
   },
   {
    "duration": 474,
    "start_time": "2023-06-04T08:46:22.878Z"
   },
   {
    "duration": 15,
    "start_time": "2023-06-04T08:47:06.703Z"
   },
   {
    "duration": 15,
    "start_time": "2023-06-04T08:47:12.711Z"
   },
   {
    "duration": 15,
    "start_time": "2023-06-04T08:47:24.174Z"
   },
   {
    "duration": 19,
    "start_time": "2023-06-04T08:47:43.830Z"
   },
   {
    "duration": 99,
    "start_time": "2023-06-04T08:47:56.220Z"
   },
   {
    "duration": 496,
    "start_time": "2023-06-04T08:48:37.397Z"
   },
   {
    "duration": 510,
    "start_time": "2023-06-04T08:49:54.629Z"
   },
   {
    "duration": 752,
    "start_time": "2023-06-04T08:50:17.377Z"
   },
   {
    "duration": 3537,
    "start_time": "2023-06-04T08:53:09.896Z"
   },
   {
    "duration": 2260,
    "start_time": "2023-06-04T19:20:51.579Z"
   },
   {
    "duration": 1967,
    "start_time": "2023-06-04T19:20:53.841Z"
   },
   {
    "duration": 2455,
    "start_time": "2023-06-04T19:20:55.810Z"
   },
   {
    "duration": 1962,
    "start_time": "2023-06-04T19:20:58.268Z"
   },
   {
    "duration": 1684,
    "start_time": "2023-06-04T19:21:00.232Z"
   },
   {
    "duration": 3164,
    "start_time": "2023-06-04T19:21:01.918Z"
   },
   {
    "duration": 18,
    "start_time": "2023-06-04T19:21:05.084Z"
   },
   {
    "duration": 483,
    "start_time": "2023-06-04T19:21:05.103Z"
   },
   {
    "duration": 1702,
    "start_time": "2023-06-04T19:21:05.588Z"
   },
   {
    "duration": 301,
    "start_time": "2023-06-04T19:21:07.292Z"
   },
   {
    "duration": 5,
    "start_time": "2023-06-04T19:21:07.595Z"
   },
   {
    "duration": 1066,
    "start_time": "2023-06-04T19:21:07.602Z"
   },
   {
    "duration": 5,
    "start_time": "2023-06-04T19:21:08.670Z"
   },
   {
    "duration": 24,
    "start_time": "2023-06-04T19:21:08.676Z"
   },
   {
    "duration": 86,
    "start_time": "2023-06-04T19:21:08.701Z"
   },
   {
    "duration": 3307,
    "start_time": "2023-06-04T19:21:08.789Z"
   },
   {
    "duration": 8,
    "start_time": "2023-06-04T19:21:12.098Z"
   },
   {
    "duration": 17,
    "start_time": "2023-06-04T19:21:12.107Z"
   },
   {
    "duration": 7,
    "start_time": "2023-06-04T19:21:12.126Z"
   },
   {
    "duration": 7,
    "start_time": "2023-06-04T19:21:12.134Z"
   },
   {
    "duration": 15,
    "start_time": "2023-06-04T19:21:12.142Z"
   },
   {
    "duration": 10,
    "start_time": "2023-06-04T19:21:12.159Z"
   },
   {
    "duration": 11,
    "start_time": "2023-06-04T19:21:12.170Z"
   },
   {
    "duration": 24,
    "start_time": "2023-06-04T19:21:12.183Z"
   },
   {
    "duration": 4,
    "start_time": "2023-06-04T19:21:12.209Z"
   },
   {
    "duration": 429,
    "start_time": "2023-06-04T19:21:12.214Z"
   },
   {
    "duration": 124,
    "start_time": "2023-06-04T19:21:12.645Z"
   },
   {
    "duration": 4,
    "start_time": "2023-06-04T19:21:12.772Z"
   },
   {
    "duration": 7,
    "start_time": "2023-06-04T19:21:12.778Z"
   },
   {
    "duration": 15,
    "start_time": "2023-06-04T19:21:12.787Z"
   },
   {
    "duration": 140,
    "start_time": "2023-06-04T19:21:12.805Z"
   },
   {
    "duration": 0,
    "start_time": "2023-06-04T19:21:12.950Z"
   },
   {
    "duration": 0,
    "start_time": "2023-06-04T19:21:12.951Z"
   },
   {
    "duration": 0,
    "start_time": "2023-06-04T19:21:12.952Z"
   },
   {
    "duration": 0,
    "start_time": "2023-06-04T19:21:12.952Z"
   },
   {
    "duration": 0,
    "start_time": "2023-06-04T19:21:12.955Z"
   },
   {
    "duration": 0,
    "start_time": "2023-06-04T19:21:12.957Z"
   },
   {
    "duration": 0,
    "start_time": "2023-06-04T19:21:12.957Z"
   },
   {
    "duration": 0,
    "start_time": "2023-06-04T19:21:12.958Z"
   },
   {
    "duration": 0,
    "start_time": "2023-06-04T19:21:12.959Z"
   },
   {
    "duration": 0,
    "start_time": "2023-06-04T19:21:12.960Z"
   },
   {
    "duration": 0,
    "start_time": "2023-06-04T19:21:12.964Z"
   },
   {
    "duration": 0,
    "start_time": "2023-06-04T19:21:12.965Z"
   },
   {
    "duration": 0,
    "start_time": "2023-06-04T19:21:12.966Z"
   },
   {
    "duration": 0,
    "start_time": "2023-06-04T19:21:12.966Z"
   },
   {
    "duration": 0,
    "start_time": "2023-06-04T19:21:12.967Z"
   },
   {
    "duration": 0,
    "start_time": "2023-06-04T19:21:12.968Z"
   },
   {
    "duration": 0,
    "start_time": "2023-06-04T19:21:12.968Z"
   },
   {
    "duration": 0,
    "start_time": "2023-06-04T19:21:12.969Z"
   },
   {
    "duration": 0,
    "start_time": "2023-06-04T19:21:12.970Z"
   },
   {
    "duration": 0,
    "start_time": "2023-06-04T19:21:12.970Z"
   },
   {
    "duration": 0,
    "start_time": "2023-06-04T19:21:12.971Z"
   },
   {
    "duration": 0,
    "start_time": "2023-06-04T19:21:12.973Z"
   },
   {
    "duration": 0,
    "start_time": "2023-06-04T19:21:12.974Z"
   },
   {
    "duration": 0,
    "start_time": "2023-06-04T19:21:12.975Z"
   },
   {
    "duration": 1,
    "start_time": "2023-06-04T19:21:12.975Z"
   },
   {
    "duration": 0,
    "start_time": "2023-06-04T19:21:12.976Z"
   },
   {
    "duration": 0,
    "start_time": "2023-06-04T19:21:12.978Z"
   },
   {
    "duration": 0,
    "start_time": "2023-06-04T19:21:12.979Z"
   },
   {
    "duration": 1,
    "start_time": "2023-06-04T19:21:12.980Z"
   },
   {
    "duration": 11,
    "start_time": "2023-06-04T19:39:53.409Z"
   },
   {
    "duration": 266,
    "start_time": "2023-06-04T19:40:19.499Z"
   },
   {
    "duration": 8,
    "start_time": "2023-06-04T19:40:35.064Z"
   },
   {
    "duration": 5,
    "start_time": "2023-06-04T19:41:45.769Z"
   },
   {
    "duration": 5,
    "start_time": "2023-06-04T19:41:54.489Z"
   },
   {
    "duration": 55,
    "start_time": "2023-06-04T20:08:33.645Z"
   },
   {
    "duration": 8,
    "start_time": "2023-06-04T20:22:39.383Z"
   },
   {
    "duration": 3,
    "start_time": "2023-06-04T20:25:04.038Z"
   },
   {
    "duration": 6,
    "start_time": "2023-06-04T20:25:23.789Z"
   },
   {
    "duration": 4,
    "start_time": "2023-06-04T20:26:09.579Z"
   },
   {
    "duration": 133,
    "start_time": "2023-06-04T20:27:26.360Z"
   },
   {
    "duration": 12,
    "start_time": "2023-06-04T20:30:35.415Z"
   },
   {
    "duration": 334,
    "start_time": "2023-06-04T20:30:55.486Z"
   },
   {
    "duration": 9,
    "start_time": "2023-06-04T20:30:58.321Z"
   },
   {
    "duration": 115,
    "start_time": "2023-06-04T20:31:04.673Z"
   },
   {
    "duration": 4033,
    "start_time": "2023-06-04T20:31:58.769Z"
   },
   {
    "duration": 113,
    "start_time": "2023-06-04T20:32:07.701Z"
   },
   {
    "duration": 1966,
    "start_time": "2023-06-04T20:32:54.383Z"
   },
   {
    "duration": 2911,
    "start_time": "2023-06-04T20:32:56.365Z"
   },
   {
    "duration": 2036,
    "start_time": "2023-06-04T20:32:59.278Z"
   },
   {
    "duration": 2155,
    "start_time": "2023-06-04T20:33:01.317Z"
   },
   {
    "duration": 1568,
    "start_time": "2023-06-04T20:33:03.475Z"
   },
   {
    "duration": 1442,
    "start_time": "2023-06-04T20:33:05.045Z"
   },
   {
    "duration": 69,
    "start_time": "2023-06-04T20:33:06.489Z"
   },
   {
    "duration": 1102,
    "start_time": "2023-06-04T20:33:06.564Z"
   },
   {
    "duration": 2633,
    "start_time": "2023-06-04T20:33:07.668Z"
   },
   {
    "duration": 326,
    "start_time": "2023-06-04T20:33:10.303Z"
   },
   {
    "duration": 5,
    "start_time": "2023-06-04T20:33:10.631Z"
   },
   {
    "duration": 1161,
    "start_time": "2023-06-04T20:33:10.638Z"
   },
   {
    "duration": 9,
    "start_time": "2023-06-04T20:33:11.801Z"
   },
   {
    "duration": 42,
    "start_time": "2023-06-04T20:33:11.812Z"
   },
   {
    "duration": 69,
    "start_time": "2023-06-04T20:33:11.856Z"
   },
   {
    "duration": 3329,
    "start_time": "2023-06-04T20:33:11.926Z"
   },
   {
    "duration": 19,
    "start_time": "2023-06-04T20:33:15.257Z"
   },
   {
    "duration": 3,
    "start_time": "2023-06-04T20:33:15.278Z"
   },
   {
    "duration": 4091,
    "start_time": "2023-06-04T20:33:15.282Z"
   },
   {
    "duration": 6,
    "start_time": "2023-06-04T20:33:19.375Z"
   },
   {
    "duration": 12,
    "start_time": "2023-06-04T20:33:19.382Z"
   },
   {
    "duration": 130,
    "start_time": "2023-06-04T20:33:19.396Z"
   },
   {
    "duration": 0,
    "start_time": "2023-06-04T20:33:19.529Z"
   },
   {
    "duration": 0,
    "start_time": "2023-06-04T20:33:19.531Z"
   },
   {
    "duration": 0,
    "start_time": "2023-06-04T20:33:19.532Z"
   },
   {
    "duration": 0,
    "start_time": "2023-06-04T20:33:19.533Z"
   },
   {
    "duration": 0,
    "start_time": "2023-06-04T20:33:19.534Z"
   },
   {
    "duration": 0,
    "start_time": "2023-06-04T20:33:19.551Z"
   },
   {
    "duration": 0,
    "start_time": "2023-06-04T20:33:19.552Z"
   },
   {
    "duration": 0,
    "start_time": "2023-06-04T20:33:19.552Z"
   },
   {
    "duration": 0,
    "start_time": "2023-06-04T20:33:19.553Z"
   },
   {
    "duration": 0,
    "start_time": "2023-06-04T20:33:19.554Z"
   },
   {
    "duration": 0,
    "start_time": "2023-06-04T20:33:19.554Z"
   },
   {
    "duration": 0,
    "start_time": "2023-06-04T20:33:19.555Z"
   },
   {
    "duration": 0,
    "start_time": "2023-06-04T20:33:19.555Z"
   },
   {
    "duration": 0,
    "start_time": "2023-06-04T20:33:19.558Z"
   },
   {
    "duration": 0,
    "start_time": "2023-06-04T20:33:19.559Z"
   },
   {
    "duration": 0,
    "start_time": "2023-06-04T20:33:19.559Z"
   },
   {
    "duration": 0,
    "start_time": "2023-06-04T20:33:19.560Z"
   },
   {
    "duration": 0,
    "start_time": "2023-06-04T20:33:19.561Z"
   },
   {
    "duration": 0,
    "start_time": "2023-06-04T20:33:19.562Z"
   },
   {
    "duration": 0,
    "start_time": "2023-06-04T20:33:19.563Z"
   },
   {
    "duration": 0,
    "start_time": "2023-06-04T20:33:19.563Z"
   },
   {
    "duration": 0,
    "start_time": "2023-06-04T20:33:19.564Z"
   },
   {
    "duration": 0,
    "start_time": "2023-06-04T20:33:19.565Z"
   },
   {
    "duration": 0,
    "start_time": "2023-06-04T20:33:19.566Z"
   },
   {
    "duration": 0,
    "start_time": "2023-06-04T20:33:19.567Z"
   },
   {
    "duration": 0,
    "start_time": "2023-06-04T20:33:19.571Z"
   },
   {
    "duration": 0,
    "start_time": "2023-06-04T20:33:19.572Z"
   },
   {
    "duration": 0,
    "start_time": "2023-06-04T20:33:19.574Z"
   },
   {
    "duration": 0,
    "start_time": "2023-06-04T20:33:19.575Z"
   },
   {
    "duration": 0,
    "start_time": "2023-06-04T20:33:19.577Z"
   },
   {
    "duration": 0,
    "start_time": "2023-06-04T20:33:19.578Z"
   },
   {
    "duration": 0,
    "start_time": "2023-06-04T20:33:19.580Z"
   },
   {
    "duration": 0,
    "start_time": "2023-06-04T20:33:19.581Z"
   },
   {
    "duration": 0,
    "start_time": "2023-06-04T20:33:19.583Z"
   },
   {
    "duration": 0,
    "start_time": "2023-06-04T20:33:19.584Z"
   },
   {
    "duration": 0,
    "start_time": "2023-06-04T20:33:19.585Z"
   },
   {
    "duration": 0,
    "start_time": "2023-06-04T20:33:19.586Z"
   },
   {
    "duration": 0,
    "start_time": "2023-06-04T20:33:19.588Z"
   },
   {
    "duration": 0,
    "start_time": "2023-06-04T20:33:19.589Z"
   },
   {
    "duration": 0,
    "start_time": "2023-06-04T20:33:19.591Z"
   },
   {
    "duration": 0,
    "start_time": "2023-06-04T20:33:19.592Z"
   },
   {
    "duration": 0,
    "start_time": "2023-06-04T20:33:19.593Z"
   },
   {
    "duration": 0,
    "start_time": "2023-06-04T20:33:19.652Z"
   },
   {
    "duration": 0,
    "start_time": "2023-06-04T20:33:19.653Z"
   },
   {
    "duration": 0,
    "start_time": "2023-06-04T20:33:19.653Z"
   },
   {
    "duration": 19,
    "start_time": "2023-06-04T20:33:41.450Z"
   },
   {
    "duration": 138,
    "start_time": "2023-06-04T20:34:32.832Z"
   },
   {
    "duration": 3897,
    "start_time": "2023-06-04T20:35:04.487Z"
   },
   {
    "duration": 10,
    "start_time": "2023-06-04T20:35:11.648Z"
   },
   {
    "duration": 151,
    "start_time": "2023-06-04T20:37:02.916Z"
   },
   {
    "duration": 3808,
    "start_time": "2023-06-04T20:37:12.493Z"
   },
   {
    "duration": 317,
    "start_time": "2023-06-04T20:37:19.380Z"
   },
   {
    "duration": 24,
    "start_time": "2023-06-04T20:37:21.044Z"
   },
   {
    "duration": 375,
    "start_time": "2023-06-04T20:38:14.730Z"
   },
   {
    "duration": 331,
    "start_time": "2023-06-04T20:38:28.508Z"
   },
   {
    "duration": 8,
    "start_time": "2023-06-04T20:45:48.279Z"
   },
   {
    "duration": 9,
    "start_time": "2023-06-04T20:47:57.465Z"
   },
   {
    "duration": 9,
    "start_time": "2023-06-04T20:48:12.485Z"
   },
   {
    "duration": 165,
    "start_time": "2023-06-04T20:54:09.543Z"
   },
   {
    "duration": 43,
    "start_time": "2023-06-04T20:54:52.842Z"
   },
   {
    "duration": 11,
    "start_time": "2023-06-04T21:03:01.677Z"
   },
   {
    "duration": 8,
    "start_time": "2023-06-04T21:03:05.264Z"
   },
   {
    "duration": 96,
    "start_time": "2023-06-04T21:03:16.691Z"
   },
   {
    "duration": 11,
    "start_time": "2023-06-04T21:03:41.235Z"
   },
   {
    "duration": 10,
    "start_time": "2023-06-04T21:03:46.812Z"
   },
   {
    "duration": 6,
    "start_time": "2023-06-04T21:13:11.477Z"
   },
   {
    "duration": 86,
    "start_time": "2023-06-04T21:13:18.717Z"
   },
   {
    "duration": 15,
    "start_time": "2023-06-04T21:13:30.015Z"
   },
   {
    "duration": 89,
    "start_time": "2023-06-04T21:13:37.429Z"
   },
   {
    "duration": 61,
    "start_time": "2023-06-04T21:14:40.267Z"
   },
   {
    "duration": 3,
    "start_time": "2023-06-04T21:17:23.787Z"
   },
   {
    "duration": 10,
    "start_time": "2023-06-04T21:18:16.960Z"
   },
   {
    "duration": 11,
    "start_time": "2023-06-04T21:18:39.172Z"
   },
   {
    "duration": 14,
    "start_time": "2023-06-04T21:18:42.376Z"
   },
   {
    "duration": 11,
    "start_time": "2023-06-04T21:18:46.288Z"
   },
   {
    "duration": 12,
    "start_time": "2023-06-04T21:18:48.624Z"
   },
   {
    "duration": 15,
    "start_time": "2023-06-04T21:19:01.566Z"
   },
   {
    "duration": 21,
    "start_time": "2023-06-04T21:19:05.861Z"
   },
   {
    "duration": 4,
    "start_time": "2023-06-04T21:19:06.623Z"
   },
   {
    "duration": 389,
    "start_time": "2023-06-04T21:19:09.040Z"
   },
   {
    "duration": 10,
    "start_time": "2023-06-04T21:24:11.106Z"
   },
   {
    "duration": 10,
    "start_time": "2023-06-04T21:26:07.234Z"
   },
   {
    "duration": 10,
    "start_time": "2023-06-04T21:26:20.722Z"
   },
   {
    "duration": 11,
    "start_time": "2023-06-04T21:26:33.385Z"
   },
   {
    "duration": 127,
    "start_time": "2023-06-04T21:27:42.771Z"
   },
   {
    "duration": 139,
    "start_time": "2023-06-04T21:28:28.771Z"
   },
   {
    "duration": 99,
    "start_time": "2023-06-04T21:28:42.030Z"
   },
   {
    "duration": 139,
    "start_time": "2023-06-04T21:28:47.475Z"
   },
   {
    "duration": 117,
    "start_time": "2023-06-04T21:29:34.990Z"
   },
   {
    "duration": 123,
    "start_time": "2023-06-04T21:31:01.206Z"
   },
   {
    "duration": 117,
    "start_time": "2023-06-04T21:31:17.788Z"
   },
   {
    "duration": 125,
    "start_time": "2023-06-04T21:31:35.316Z"
   },
   {
    "duration": 110,
    "start_time": "2023-06-04T21:31:43.012Z"
   },
   {
    "duration": 116,
    "start_time": "2023-06-04T21:32:12.516Z"
   },
   {
    "duration": 8,
    "start_time": "2023-06-04T21:32:16.173Z"
   },
   {
    "duration": 118,
    "start_time": "2023-06-04T21:32:16.876Z"
   },
   {
    "duration": 209,
    "start_time": "2023-06-04T21:32:26.376Z"
   },
   {
    "duration": 285,
    "start_time": "2023-06-04T21:32:37.435Z"
   },
   {
    "duration": 388,
    "start_time": "2023-06-04T21:32:44.692Z"
   },
   {
    "duration": 332,
    "start_time": "2023-06-04T21:32:56.369Z"
   },
   {
    "duration": 544,
    "start_time": "2023-06-04T21:33:34.044Z"
   },
   {
    "duration": 287,
    "start_time": "2023-06-04T21:33:47.017Z"
   },
   {
    "duration": 280,
    "start_time": "2023-06-04T21:35:02.145Z"
   },
   {
    "duration": 22,
    "start_time": "2023-06-04T21:39:30.606Z"
   },
   {
    "duration": 20,
    "start_time": "2023-06-04T21:39:43.467Z"
   },
   {
    "duration": 55,
    "start_time": "2023-06-04T21:40:59.066Z"
   },
   {
    "duration": 183,
    "start_time": "2023-06-04T21:41:05.715Z"
   },
   {
    "duration": 197,
    "start_time": "2023-06-04T21:41:14.385Z"
   },
   {
    "duration": 257,
    "start_time": "2023-06-04T21:41:18.786Z"
   },
   {
    "duration": 11,
    "start_time": "2023-06-04T21:42:29.074Z"
   },
   {
    "duration": 7,
    "start_time": "2023-06-04T21:43:22.696Z"
   },
   {
    "duration": 12,
    "start_time": "2023-06-04T21:43:24.496Z"
   },
   {
    "duration": 9,
    "start_time": "2023-06-04T21:43:26.393Z"
   },
   {
    "duration": 12,
    "start_time": "2023-06-04T21:43:27.473Z"
   },
   {
    "duration": 35,
    "start_time": "2023-06-04T21:43:28.970Z"
   },
   {
    "duration": 5,
    "start_time": "2023-06-04T21:43:31.030Z"
   },
   {
    "duration": 385,
    "start_time": "2023-06-04T21:43:32.680Z"
   },
   {
    "duration": 299,
    "start_time": "2023-06-04T21:44:54.801Z"
   },
   {
    "duration": 26,
    "start_time": "2023-06-04T21:46:36.940Z"
   },
   {
    "duration": 21,
    "start_time": "2023-06-04T21:46:47.122Z"
   },
   {
    "duration": 20,
    "start_time": "2023-06-04T21:46:55.464Z"
   },
   {
    "duration": 20,
    "start_time": "2023-06-04T21:47:07.764Z"
   },
   {
    "duration": 19,
    "start_time": "2023-06-04T21:47:49.996Z"
   },
   {
    "duration": 19,
    "start_time": "2023-06-04T21:48:38.594Z"
   },
   {
    "duration": 71,
    "start_time": "2023-06-04T21:49:58.739Z"
   },
   {
    "duration": 249,
    "start_time": "2023-06-04T21:52:35.287Z"
   },
   {
    "duration": 264,
    "start_time": "2023-06-04T21:52:42.302Z"
   },
   {
    "duration": 68,
    "start_time": "2023-06-04T21:56:29.745Z"
   },
   {
    "duration": 16,
    "start_time": "2023-06-04T21:56:34.146Z"
   },
   {
    "duration": 98,
    "start_time": "2023-06-04T21:56:35.514Z"
   },
   {
    "duration": 16,
    "start_time": "2023-06-04T21:56:36.601Z"
   },
   {
    "duration": 7,
    "start_time": "2023-06-04T21:56:37.602Z"
   },
   {
    "duration": 177,
    "start_time": "2023-06-04T21:56:39.041Z"
   },
   {
    "duration": 62,
    "start_time": "2023-06-04T21:56:41.377Z"
   },
   {
    "duration": 125,
    "start_time": "2023-06-04T21:56:55.568Z"
   },
   {
    "duration": 4,
    "start_time": "2023-06-04T21:56:56.843Z"
   },
   {
    "duration": 4,
    "start_time": "2023-06-04T21:56:57.858Z"
   },
   {
    "duration": 5,
    "start_time": "2023-06-04T21:56:58.843Z"
   },
   {
    "duration": 28,
    "start_time": "2023-06-04T21:57:00.113Z"
   },
   {
    "duration": 23,
    "start_time": "2023-06-04T21:57:02.841Z"
   },
   {
    "duration": 31,
    "start_time": "2023-06-04T21:57:28.881Z"
   },
   {
    "duration": 1983,
    "start_time": "2023-06-04T21:57:58.585Z"
   },
   {
    "duration": 2028,
    "start_time": "2023-06-04T21:58:00.571Z"
   },
   {
    "duration": 1995,
    "start_time": "2023-06-04T21:58:02.600Z"
   },
   {
    "duration": 1940,
    "start_time": "2023-06-04T21:58:04.598Z"
   },
   {
    "duration": 1437,
    "start_time": "2023-06-04T21:58:06.540Z"
   },
   {
    "duration": 1019,
    "start_time": "2023-06-04T21:58:07.979Z"
   },
   {
    "duration": 16,
    "start_time": "2023-06-04T21:58:09.000Z"
   },
   {
    "duration": 481,
    "start_time": "2023-06-04T21:58:09.017Z"
   },
   {
    "duration": 1477,
    "start_time": "2023-06-04T21:58:09.500Z"
   },
   {
    "duration": 287,
    "start_time": "2023-06-04T21:58:10.980Z"
   },
   {
    "duration": 6,
    "start_time": "2023-06-04T21:58:11.268Z"
   },
   {
    "duration": 1018,
    "start_time": "2023-06-04T21:58:11.275Z"
   },
   {
    "duration": 5,
    "start_time": "2023-06-04T21:58:12.295Z"
   },
   {
    "duration": 25,
    "start_time": "2023-06-04T21:58:12.301Z"
   },
   {
    "duration": 85,
    "start_time": "2023-06-04T21:58:12.328Z"
   },
   {
    "duration": 3689,
    "start_time": "2023-06-04T21:58:12.415Z"
   },
   {
    "duration": 52,
    "start_time": "2023-06-04T21:58:16.106Z"
   },
   {
    "duration": 614,
    "start_time": "2023-06-04T21:58:16.160Z"
   },
   {
    "duration": 8,
    "start_time": "2023-06-04T21:58:16.775Z"
   },
   {
    "duration": 79,
    "start_time": "2023-06-04T21:58:16.784Z"
   },
   {
    "duration": 9,
    "start_time": "2023-06-04T21:58:16.864Z"
   },
   {
    "duration": 12,
    "start_time": "2023-06-04T21:58:16.874Z"
   },
   {
    "duration": 77,
    "start_time": "2023-06-04T21:58:16.888Z"
   },
   {
    "duration": 13,
    "start_time": "2023-06-04T21:58:16.966Z"
   },
   {
    "duration": 82,
    "start_time": "2023-06-04T21:58:16.981Z"
   },
   {
    "duration": 4,
    "start_time": "2023-06-04T21:58:17.064Z"
   },
   {
    "duration": 520,
    "start_time": "2023-06-04T21:58:17.069Z"
   },
   {
    "duration": 125,
    "start_time": "2023-06-04T21:58:17.594Z"
   },
   {
    "duration": 4,
    "start_time": "2023-06-04T21:58:17.721Z"
   },
   {
    "duration": 15,
    "start_time": "2023-06-04T21:58:17.727Z"
   },
   {
    "duration": 18,
    "start_time": "2023-06-04T21:58:17.744Z"
   },
   {
    "duration": 122,
    "start_time": "2023-06-04T21:58:17.765Z"
   },
   {
    "duration": 0,
    "start_time": "2023-06-04T21:58:17.888Z"
   },
   {
    "duration": 0,
    "start_time": "2023-06-04T21:58:17.889Z"
   },
   {
    "duration": 0,
    "start_time": "2023-06-04T21:58:17.890Z"
   },
   {
    "duration": 0,
    "start_time": "2023-06-04T21:58:17.891Z"
   },
   {
    "duration": 0,
    "start_time": "2023-06-04T21:58:17.892Z"
   },
   {
    "duration": 0,
    "start_time": "2023-06-04T21:58:17.893Z"
   },
   {
    "duration": 0,
    "start_time": "2023-06-04T21:58:17.895Z"
   },
   {
    "duration": 0,
    "start_time": "2023-06-04T21:58:17.896Z"
   },
   {
    "duration": 0,
    "start_time": "2023-06-04T21:58:17.897Z"
   },
   {
    "duration": 0,
    "start_time": "2023-06-04T21:58:17.898Z"
   },
   {
    "duration": 0,
    "start_time": "2023-06-04T21:58:17.898Z"
   },
   {
    "duration": 0,
    "start_time": "2023-06-04T21:58:17.899Z"
   },
   {
    "duration": 0,
    "start_time": "2023-06-04T21:58:17.900Z"
   },
   {
    "duration": 0,
    "start_time": "2023-06-04T21:58:17.901Z"
   },
   {
    "duration": 0,
    "start_time": "2023-06-04T21:58:17.902Z"
   },
   {
    "duration": 0,
    "start_time": "2023-06-04T21:58:17.903Z"
   },
   {
    "duration": 0,
    "start_time": "2023-06-04T21:58:17.904Z"
   },
   {
    "duration": 0,
    "start_time": "2023-06-04T21:58:17.905Z"
   },
   {
    "duration": 0,
    "start_time": "2023-06-04T21:58:17.905Z"
   },
   {
    "duration": 0,
    "start_time": "2023-06-04T21:58:17.906Z"
   },
   {
    "duration": 0,
    "start_time": "2023-06-04T21:58:17.907Z"
   },
   {
    "duration": 0,
    "start_time": "2023-06-04T21:58:17.908Z"
   },
   {
    "duration": 0,
    "start_time": "2023-06-04T21:58:17.909Z"
   },
   {
    "duration": 0,
    "start_time": "2023-06-04T21:58:17.910Z"
   },
   {
    "duration": 0,
    "start_time": "2023-06-04T21:58:17.911Z"
   },
   {
    "duration": 0,
    "start_time": "2023-06-04T21:58:17.953Z"
   },
   {
    "duration": 0,
    "start_time": "2023-06-04T21:58:17.955Z"
   },
   {
    "duration": 0,
    "start_time": "2023-06-04T21:58:17.960Z"
   },
   {
    "duration": 0,
    "start_time": "2023-06-04T21:58:17.961Z"
   },
   {
    "duration": 0,
    "start_time": "2023-06-04T21:58:17.961Z"
   },
   {
    "duration": 903,
    "start_time": "2023-06-04T22:02:16.412Z"
   },
   {
    "duration": 858,
    "start_time": "2023-06-04T22:03:50.915Z"
   },
   {
    "duration": 37,
    "start_time": "2023-06-04T22:04:58.763Z"
   },
   {
    "duration": 41,
    "start_time": "2023-06-04T22:05:24.928Z"
   },
   {
    "duration": 809,
    "start_time": "2023-06-04T22:08:19.196Z"
   },
   {
    "duration": 52,
    "start_time": "2023-06-04T22:08:36.101Z"
   },
   {
    "duration": 60,
    "start_time": "2023-06-04T22:10:20.062Z"
   },
   {
    "duration": 3,
    "start_time": "2023-06-04T22:13:04.593Z"
   },
   {
    "duration": 9,
    "start_time": "2023-06-04T22:13:05.239Z"
   },
   {
    "duration": 4,
    "start_time": "2023-06-04T22:17:12.804Z"
   },
   {
    "duration": 55,
    "start_time": "2023-06-04T22:17:15.108Z"
   },
   {
    "duration": 5,
    "start_time": "2023-06-04T22:17:25.533Z"
   },
   {
    "duration": 84,
    "start_time": "2023-06-04T22:17:54.293Z"
   },
   {
    "duration": 130,
    "start_time": "2023-06-04T22:18:03.884Z"
   },
   {
    "duration": 29,
    "start_time": "2023-06-04T22:18:14.746Z"
   },
   {
    "duration": 78,
    "start_time": "2023-06-05T19:20:38.683Z"
   },
   {
    "duration": 7,
    "start_time": "2023-06-05T19:20:42.006Z"
   },
   {
    "duration": 7,
    "start_time": "2023-06-05T19:23:10.193Z"
   },
   {
    "duration": 1323,
    "start_time": "2023-06-05T19:24:02.008Z"
   },
   {
    "duration": 15,
    "start_time": "2023-06-05T19:24:09.192Z"
   },
   {
    "duration": 9,
    "start_time": "2023-06-05T19:24:27.138Z"
   },
   {
    "duration": 2585,
    "start_time": "2023-06-05T19:24:36.124Z"
   },
   {
    "duration": 2244,
    "start_time": "2023-06-05T19:24:38.711Z"
   },
   {
    "duration": 2540,
    "start_time": "2023-06-05T19:24:40.957Z"
   },
   {
    "duration": 3058,
    "start_time": "2023-06-05T19:24:43.500Z"
   },
   {
    "duration": 1644,
    "start_time": "2023-06-05T19:24:46.561Z"
   },
   {
    "duration": 1307,
    "start_time": "2023-06-05T19:24:48.207Z"
   },
   {
    "duration": 17,
    "start_time": "2023-06-05T19:24:49.515Z"
   },
   {
    "duration": 519,
    "start_time": "2023-06-05T19:24:49.534Z"
   },
   {
    "duration": 1654,
    "start_time": "2023-06-05T19:24:50.055Z"
   },
   {
    "duration": 332,
    "start_time": "2023-06-05T19:24:51.712Z"
   },
   {
    "duration": 7,
    "start_time": "2023-06-05T19:24:52.046Z"
   },
   {
    "duration": 1080,
    "start_time": "2023-06-05T19:24:52.055Z"
   },
   {
    "duration": 8,
    "start_time": "2023-06-05T19:24:53.137Z"
   },
   {
    "duration": 44,
    "start_time": "2023-06-05T19:24:53.147Z"
   },
   {
    "duration": 110,
    "start_time": "2023-06-05T19:24:53.193Z"
   },
   {
    "duration": 3344,
    "start_time": "2023-06-05T19:24:53.305Z"
   },
   {
    "duration": 13,
    "start_time": "2023-06-05T19:24:56.652Z"
   },
   {
    "duration": 313,
    "start_time": "2023-06-05T19:24:56.667Z"
   },
   {
    "duration": 8,
    "start_time": "2023-06-05T19:24:56.982Z"
   },
   {
    "duration": 21,
    "start_time": "2023-06-05T19:24:56.991Z"
   },
   {
    "duration": 9,
    "start_time": "2023-06-05T19:24:57.014Z"
   },
   {
    "duration": 15,
    "start_time": "2023-06-05T19:24:57.025Z"
   },
   {
    "duration": 42,
    "start_time": "2023-06-05T19:24:57.042Z"
   },
   {
    "duration": 12,
    "start_time": "2023-06-05T19:24:57.087Z"
   },
   {
    "duration": 23,
    "start_time": "2023-06-05T19:24:57.101Z"
   },
   {
    "duration": 5,
    "start_time": "2023-06-05T19:24:57.126Z"
   },
   {
    "duration": 429,
    "start_time": "2023-06-05T19:24:57.133Z"
   },
   {
    "duration": 131,
    "start_time": "2023-06-05T19:24:57.566Z"
   },
   {
    "duration": 5,
    "start_time": "2023-06-05T19:24:57.700Z"
   },
   {
    "duration": 22,
    "start_time": "2023-06-05T19:24:57.708Z"
   },
   {
    "duration": 12,
    "start_time": "2023-06-05T19:24:57.732Z"
   },
   {
    "duration": 181,
    "start_time": "2023-06-05T19:24:57.747Z"
   },
   {
    "duration": 0,
    "start_time": "2023-06-05T19:24:57.930Z"
   },
   {
    "duration": 1,
    "start_time": "2023-06-05T19:24:57.931Z"
   },
   {
    "duration": 0,
    "start_time": "2023-06-05T19:24:57.933Z"
   },
   {
    "duration": 0,
    "start_time": "2023-06-05T19:24:57.934Z"
   },
   {
    "duration": 0,
    "start_time": "2023-06-05T19:24:57.936Z"
   },
   {
    "duration": 0,
    "start_time": "2023-06-05T19:24:57.938Z"
   },
   {
    "duration": 0,
    "start_time": "2023-06-05T19:24:57.939Z"
   },
   {
    "duration": 0,
    "start_time": "2023-06-05T19:24:57.940Z"
   },
   {
    "duration": 0,
    "start_time": "2023-06-05T19:24:57.942Z"
   },
   {
    "duration": 0,
    "start_time": "2023-06-05T19:24:57.943Z"
   },
   {
    "duration": 0,
    "start_time": "2023-06-05T19:24:57.944Z"
   },
   {
    "duration": 0,
    "start_time": "2023-06-05T19:24:57.945Z"
   },
   {
    "duration": 0,
    "start_time": "2023-06-05T19:24:57.947Z"
   },
   {
    "duration": 0,
    "start_time": "2023-06-05T19:24:57.949Z"
   },
   {
    "duration": 0,
    "start_time": "2023-06-05T19:24:57.950Z"
   },
   {
    "duration": 0,
    "start_time": "2023-06-05T19:24:57.976Z"
   },
   {
    "duration": 0,
    "start_time": "2023-06-05T19:24:57.978Z"
   },
   {
    "duration": 0,
    "start_time": "2023-06-05T19:24:57.979Z"
   },
   {
    "duration": 0,
    "start_time": "2023-06-05T19:24:57.980Z"
   },
   {
    "duration": 0,
    "start_time": "2023-06-05T19:24:57.981Z"
   },
   {
    "duration": 0,
    "start_time": "2023-06-05T19:24:57.981Z"
   },
   {
    "duration": 0,
    "start_time": "2023-06-05T19:24:57.983Z"
   },
   {
    "duration": 0,
    "start_time": "2023-06-05T19:24:57.984Z"
   },
   {
    "duration": 0,
    "start_time": "2023-06-05T19:24:57.984Z"
   },
   {
    "duration": 0,
    "start_time": "2023-06-05T19:24:57.986Z"
   },
   {
    "duration": 0,
    "start_time": "2023-06-05T19:24:57.987Z"
   },
   {
    "duration": 0,
    "start_time": "2023-06-05T19:24:57.988Z"
   },
   {
    "duration": 0,
    "start_time": "2023-06-05T19:24:57.989Z"
   },
   {
    "duration": 0,
    "start_time": "2023-06-05T19:24:57.990Z"
   },
   {
    "duration": 0,
    "start_time": "2023-06-05T19:24:57.991Z"
   },
   {
    "duration": 0,
    "start_time": "2023-06-05T19:24:57.993Z"
   },
   {
    "duration": 598,
    "start_time": "2023-06-05T19:26:08.089Z"
   },
   {
    "duration": 31,
    "start_time": "2023-06-05T19:31:42.983Z"
   },
   {
    "duration": 25,
    "start_time": "2023-06-05T19:32:02.460Z"
   },
   {
    "duration": 9,
    "start_time": "2023-06-05T19:33:31.000Z"
   },
   {
    "duration": 18,
    "start_time": "2023-06-05T19:36:15.748Z"
   },
   {
    "duration": 9,
    "start_time": "2023-06-05T19:36:31.010Z"
   },
   {
    "duration": 11,
    "start_time": "2023-06-05T19:36:42.806Z"
   },
   {
    "duration": 2381,
    "start_time": "2023-06-05T19:37:15.286Z"
   },
   {
    "duration": 2247,
    "start_time": "2023-06-05T19:37:17.670Z"
   },
   {
    "duration": 2274,
    "start_time": "2023-06-05T19:37:19.920Z"
   },
   {
    "duration": 2290,
    "start_time": "2023-06-05T19:37:22.196Z"
   },
   {
    "duration": 1486,
    "start_time": "2023-06-05T19:37:24.488Z"
   },
   {
    "duration": 1175,
    "start_time": "2023-06-05T19:37:25.978Z"
   },
   {
    "duration": 17,
    "start_time": "2023-06-05T19:37:27.155Z"
   },
   {
    "duration": 503,
    "start_time": "2023-06-05T19:37:27.177Z"
   },
   {
    "duration": 1631,
    "start_time": "2023-06-05T19:37:27.682Z"
   },
   {
    "duration": 326,
    "start_time": "2023-06-05T19:37:29.316Z"
   },
   {
    "duration": 7,
    "start_time": "2023-06-05T19:37:29.644Z"
   },
   {
    "duration": 1082,
    "start_time": "2023-06-05T19:37:29.652Z"
   },
   {
    "duration": 6,
    "start_time": "2023-06-05T19:37:30.736Z"
   },
   {
    "duration": 55,
    "start_time": "2023-06-05T19:37:30.745Z"
   },
   {
    "duration": 99,
    "start_time": "2023-06-05T19:37:30.801Z"
   },
   {
    "duration": 3287,
    "start_time": "2023-06-05T19:37:30.902Z"
   },
   {
    "duration": 10,
    "start_time": "2023-06-05T19:37:34.191Z"
   },
   {
    "duration": 286,
    "start_time": "2023-06-05T19:37:34.202Z"
   },
   {
    "duration": 8,
    "start_time": "2023-06-05T19:37:34.492Z"
   },
   {
    "duration": 14,
    "start_time": "2023-06-05T19:37:34.501Z"
   },
   {
    "duration": 9,
    "start_time": "2023-06-05T19:37:34.517Z"
   },
   {
    "duration": 12,
    "start_time": "2023-06-05T19:37:34.527Z"
   },
   {
    "duration": 48,
    "start_time": "2023-06-05T19:37:34.541Z"
   },
   {
    "duration": 15,
    "start_time": "2023-06-05T19:37:34.591Z"
   },
   {
    "duration": 29,
    "start_time": "2023-06-05T19:37:34.607Z"
   },
   {
    "duration": 5,
    "start_time": "2023-06-05T19:37:34.638Z"
   },
   {
    "duration": 415,
    "start_time": "2023-06-05T19:37:34.645Z"
   },
   {
    "duration": 124,
    "start_time": "2023-06-05T19:37:35.062Z"
   },
   {
    "duration": 6,
    "start_time": "2023-06-05T19:37:35.187Z"
   },
   {
    "duration": 6,
    "start_time": "2023-06-05T19:37:35.195Z"
   },
   {
    "duration": 10,
    "start_time": "2023-06-05T19:37:35.202Z"
   },
   {
    "duration": 19,
    "start_time": "2023-06-05T19:37:35.213Z"
   },
   {
    "duration": 908,
    "start_time": "2023-06-05T19:37:35.234Z"
   },
   {
    "duration": 128,
    "start_time": "2023-06-05T19:37:36.144Z"
   },
   {
    "duration": 0,
    "start_time": "2023-06-05T19:37:36.279Z"
   },
   {
    "duration": 0,
    "start_time": "2023-06-05T19:37:36.281Z"
   },
   {
    "duration": 0,
    "start_time": "2023-06-05T19:37:36.282Z"
   },
   {
    "duration": 0,
    "start_time": "2023-06-05T19:37:36.283Z"
   },
   {
    "duration": 0,
    "start_time": "2023-06-05T19:37:36.284Z"
   },
   {
    "duration": 0,
    "start_time": "2023-06-05T19:37:36.285Z"
   },
   {
    "duration": 0,
    "start_time": "2023-06-05T19:37:36.291Z"
   },
   {
    "duration": 0,
    "start_time": "2023-06-05T19:37:36.292Z"
   },
   {
    "duration": 0,
    "start_time": "2023-06-05T19:37:36.295Z"
   },
   {
    "duration": 0,
    "start_time": "2023-06-05T19:37:36.296Z"
   },
   {
    "duration": 0,
    "start_time": "2023-06-05T19:37:36.297Z"
   },
   {
    "duration": 0,
    "start_time": "2023-06-05T19:37:36.297Z"
   },
   {
    "duration": 0,
    "start_time": "2023-06-05T19:37:36.298Z"
   },
   {
    "duration": 0,
    "start_time": "2023-06-05T19:37:36.298Z"
   },
   {
    "duration": 0,
    "start_time": "2023-06-05T19:37:36.299Z"
   },
   {
    "duration": 0,
    "start_time": "2023-06-05T19:37:36.300Z"
   },
   {
    "duration": 0,
    "start_time": "2023-06-05T19:37:36.300Z"
   },
   {
    "duration": 0,
    "start_time": "2023-06-05T19:37:36.301Z"
   },
   {
    "duration": 0,
    "start_time": "2023-06-05T19:37:36.302Z"
   },
   {
    "duration": 0,
    "start_time": "2023-06-05T19:37:36.302Z"
   },
   {
    "duration": 0,
    "start_time": "2023-06-05T19:37:36.303Z"
   },
   {
    "duration": 0,
    "start_time": "2023-06-05T19:37:36.304Z"
   },
   {
    "duration": 0,
    "start_time": "2023-06-05T19:37:36.304Z"
   },
   {
    "duration": 0,
    "start_time": "2023-06-05T19:37:36.305Z"
   },
   {
    "duration": 0,
    "start_time": "2023-06-05T19:37:36.307Z"
   },
   {
    "duration": 0,
    "start_time": "2023-06-05T19:37:36.308Z"
   },
   {
    "duration": 0,
    "start_time": "2023-06-05T19:37:36.309Z"
   },
   {
    "duration": 0,
    "start_time": "2023-06-05T19:37:36.310Z"
   },
   {
    "duration": 0,
    "start_time": "2023-06-05T19:37:36.312Z"
   },
   {
    "duration": 0,
    "start_time": "2023-06-05T19:37:36.313Z"
   },
   {
    "duration": 20,
    "start_time": "2023-06-05T19:41:25.642Z"
   },
   {
    "duration": 29,
    "start_time": "2023-06-05T19:41:37.210Z"
   },
   {
    "duration": 24,
    "start_time": "2023-06-05T19:42:40.937Z"
   },
   {
    "duration": 9,
    "start_time": "2023-06-05T19:43:03.775Z"
   },
   {
    "duration": 175,
    "start_time": "2023-06-05T19:43:59.120Z"
   },
   {
    "duration": 58,
    "start_time": "2023-06-05T19:44:04.511Z"
   },
   {
    "duration": 45,
    "start_time": "2023-06-05T19:44:17.897Z"
   },
   {
    "duration": 31,
    "start_time": "2023-06-05T19:44:27.533Z"
   },
   {
    "duration": 10,
    "start_time": "2023-06-05T19:48:53.136Z"
   },
   {
    "duration": 10,
    "start_time": "2023-06-05T19:48:56.837Z"
   },
   {
    "duration": 10,
    "start_time": "2023-06-05T19:48:58.139Z"
   },
   {
    "duration": 104,
    "start_time": "2023-06-05T19:48:58.832Z"
   },
   {
    "duration": 196,
    "start_time": "2023-06-05T19:48:59.521Z"
   },
   {
    "duration": 136528,
    "start_time": "2023-06-05T19:53:46.485Z"
   },
   {
    "duration": 2686,
    "start_time": "2023-06-06T06:41:12.021Z"
   },
   {
    "duration": 1991,
    "start_time": "2023-06-06T06:41:14.709Z"
   },
   {
    "duration": 3040,
    "start_time": "2023-06-06T06:41:16.702Z"
   },
   {
    "duration": 2115,
    "start_time": "2023-06-06T06:41:19.744Z"
   },
   {
    "duration": 1791,
    "start_time": "2023-06-06T06:41:21.862Z"
   },
   {
    "duration": 1189,
    "start_time": "2023-06-06T06:41:23.655Z"
   },
   {
    "duration": 17,
    "start_time": "2023-06-06T06:41:24.845Z"
   },
   {
    "duration": 409,
    "start_time": "2023-06-06T06:41:24.863Z"
   },
   {
    "duration": 1527,
    "start_time": "2023-06-06T06:41:25.273Z"
   },
   {
    "duration": 283,
    "start_time": "2023-06-06T06:41:26.802Z"
   },
   {
    "duration": 6,
    "start_time": "2023-06-06T06:41:27.087Z"
   },
   {
    "duration": 878,
    "start_time": "2023-06-06T06:41:27.095Z"
   },
   {
    "duration": 11,
    "start_time": "2023-06-06T06:41:27.974Z"
   },
   {
    "duration": 20,
    "start_time": "2023-06-06T06:41:27.988Z"
   },
   {
    "duration": 84,
    "start_time": "2023-06-06T06:41:28.010Z"
   },
   {
    "duration": 3312,
    "start_time": "2023-06-06T06:41:28.095Z"
   },
   {
    "duration": 8,
    "start_time": "2023-06-06T06:41:31.409Z"
   },
   {
    "duration": 298,
    "start_time": "2023-06-06T06:41:31.419Z"
   },
   {
    "duration": 8,
    "start_time": "2023-06-06T06:41:31.718Z"
   },
   {
    "duration": 65,
    "start_time": "2023-06-06T06:41:31.728Z"
   },
   {
    "duration": 59,
    "start_time": "2023-06-06T06:41:31.795Z"
   },
   {
    "duration": 56,
    "start_time": "2023-06-06T06:41:31.856Z"
   },
   {
    "duration": 25,
    "start_time": "2023-06-06T06:41:31.914Z"
   },
   {
    "duration": 73,
    "start_time": "2023-06-06T06:41:31.941Z"
   },
   {
    "duration": 27,
    "start_time": "2023-06-06T06:41:32.016Z"
   },
   {
    "duration": 13,
    "start_time": "2023-06-06T06:41:32.044Z"
   },
   {
    "duration": 401,
    "start_time": "2023-06-06T06:41:32.058Z"
   },
   {
    "duration": 95,
    "start_time": "2023-06-06T06:41:32.460Z"
   },
   {
    "duration": 32,
    "start_time": "2023-06-06T06:41:32.557Z"
   },
   {
    "duration": 109,
    "start_time": "2023-06-06T06:41:32.590Z"
   },
   {
    "duration": 53,
    "start_time": "2023-06-06T06:41:32.701Z"
   },
   {
    "duration": 76,
    "start_time": "2023-06-06T06:41:32.755Z"
   },
   {
    "duration": 712,
    "start_time": "2023-06-06T06:41:32.832Z"
   },
   {
    "duration": 172,
    "start_time": "2023-06-06T06:41:33.546Z"
   },
   {
    "duration": 24,
    "start_time": "2023-06-06T06:41:33.720Z"
   },
   {
    "duration": 93,
    "start_time": "2023-06-06T06:41:33.745Z"
   },
   {
    "duration": 174,
    "start_time": "2023-06-06T06:41:33.840Z"
   },
   {
    "duration": 3,
    "start_time": "2023-06-06T06:41:34.016Z"
   },
   {
    "duration": 10,
    "start_time": "2023-06-06T06:41:34.021Z"
   },
   {
    "duration": 19020,
    "start_time": "2023-06-06T06:41:34.032Z"
   },
   {
    "duration": 82,
    "start_time": "2023-06-06T06:41:53.056Z"
   },
   {
    "duration": 8,
    "start_time": "2023-06-06T06:41:53.140Z"
   },
   {
    "duration": 0,
    "start_time": "2023-06-06T06:41:53.149Z"
   },
   {
    "duration": 0,
    "start_time": "2023-06-06T06:41:53.151Z"
   },
   {
    "duration": 0,
    "start_time": "2023-06-06T06:41:53.152Z"
   },
   {
    "duration": 0,
    "start_time": "2023-06-06T06:41:53.153Z"
   },
   {
    "duration": 1,
    "start_time": "2023-06-06T06:41:53.154Z"
   },
   {
    "duration": 0,
    "start_time": "2023-06-06T06:41:53.156Z"
   },
   {
    "duration": 0,
    "start_time": "2023-06-06T06:41:53.157Z"
   },
   {
    "duration": 0,
    "start_time": "2023-06-06T06:41:53.158Z"
   },
   {
    "duration": 0,
    "start_time": "2023-06-06T06:41:53.160Z"
   },
   {
    "duration": 0,
    "start_time": "2023-06-06T06:41:53.161Z"
   },
   {
    "duration": 0,
    "start_time": "2023-06-06T06:41:53.162Z"
   },
   {
    "duration": 0,
    "start_time": "2023-06-06T06:41:53.164Z"
   },
   {
    "duration": 0,
    "start_time": "2023-06-06T06:41:53.165Z"
   },
   {
    "duration": 0,
    "start_time": "2023-06-06T06:41:53.166Z"
   },
   {
    "duration": 0,
    "start_time": "2023-06-06T06:41:53.167Z"
   },
   {
    "duration": 0,
    "start_time": "2023-06-06T06:41:53.168Z"
   },
   {
    "duration": 0,
    "start_time": "2023-06-06T06:41:53.170Z"
   },
   {
    "duration": 2613,
    "start_time": "2023-06-06T21:14:51.947Z"
   },
   {
    "duration": 2225,
    "start_time": "2023-06-06T21:14:54.562Z"
   },
   {
    "duration": 2690,
    "start_time": "2023-06-06T21:14:56.789Z"
   },
   {
    "duration": 2239,
    "start_time": "2023-06-06T21:14:59.481Z"
   },
   {
    "duration": 2037,
    "start_time": "2023-06-06T21:15:01.722Z"
   },
   {
    "duration": 3323,
    "start_time": "2023-06-06T21:15:03.761Z"
   },
   {
    "duration": 19,
    "start_time": "2023-06-06T21:15:07.086Z"
   },
   {
    "duration": 475,
    "start_time": "2023-06-06T21:15:07.106Z"
   },
   {
    "duration": 1705,
    "start_time": "2023-06-06T21:15:07.583Z"
   },
   {
    "duration": 330,
    "start_time": "2023-06-06T21:15:09.292Z"
   },
   {
    "duration": 6,
    "start_time": "2023-06-06T21:15:09.624Z"
   },
   {
    "duration": 1044,
    "start_time": "2023-06-06T21:15:09.632Z"
   },
   {
    "duration": 5,
    "start_time": "2023-06-06T21:15:10.678Z"
   },
   {
    "duration": 31,
    "start_time": "2023-06-06T21:15:10.685Z"
   },
   {
    "duration": 91,
    "start_time": "2023-06-06T21:15:10.717Z"
   },
   {
    "duration": 3087,
    "start_time": "2023-06-06T21:15:10.809Z"
   },
   {
    "duration": 10,
    "start_time": "2023-06-06T21:15:13.898Z"
   },
   {
    "duration": 359,
    "start_time": "2023-06-06T21:15:13.909Z"
   },
   {
    "duration": 11,
    "start_time": "2023-06-06T21:15:14.271Z"
   },
   {
    "duration": 18,
    "start_time": "2023-06-06T21:15:14.284Z"
   },
   {
    "duration": 7,
    "start_time": "2023-06-06T21:15:14.307Z"
   },
   {
    "duration": 13,
    "start_time": "2023-06-06T21:15:14.315Z"
   },
   {
    "duration": 9,
    "start_time": "2023-06-06T21:15:14.330Z"
   },
   {
    "duration": 12,
    "start_time": "2023-06-06T21:15:14.374Z"
   },
   {
    "duration": 23,
    "start_time": "2023-06-06T21:15:14.388Z"
   },
   {
    "duration": 4,
    "start_time": "2023-06-06T21:15:14.413Z"
   },
   {
    "duration": 423,
    "start_time": "2023-06-06T21:15:14.419Z"
   },
   {
    "duration": 128,
    "start_time": "2023-06-06T21:15:14.847Z"
   },
   {
    "duration": 5,
    "start_time": "2023-06-06T21:15:14.976Z"
   },
   {
    "duration": 6,
    "start_time": "2023-06-06T21:15:14.982Z"
   },
   {
    "duration": 7,
    "start_time": "2023-06-06T21:15:14.990Z"
   },
   {
    "duration": 32,
    "start_time": "2023-06-06T21:15:14.998Z"
   },
   {
    "duration": 964,
    "start_time": "2023-06-06T21:15:15.032Z"
   },
   {
    "duration": 214,
    "start_time": "2023-06-06T21:15:15.998Z"
   },
   {
    "duration": 24,
    "start_time": "2023-06-06T21:15:16.214Z"
   },
   {
    "duration": 139,
    "start_time": "2023-06-06T21:15:16.240Z"
   },
   {
    "duration": 216,
    "start_time": "2023-06-06T21:15:16.381Z"
   },
   {
    "duration": 4,
    "start_time": "2023-06-06T21:15:16.599Z"
   },
   {
    "duration": 5,
    "start_time": "2023-06-06T21:15:16.605Z"
   },
   {
    "duration": 71725,
    "start_time": "2023-06-06T21:15:16.611Z"
   },
   {
    "duration": 269,
    "start_time": "2023-06-06T21:16:28.339Z"
   },
   {
    "duration": 5,
    "start_time": "2023-06-06T21:16:28.609Z"
   },
   {
    "duration": 13,
    "start_time": "2023-06-06T21:16:28.616Z"
   },
   {
    "duration": 716155,
    "start_time": "2023-06-06T21:16:28.630Z"
   },
   {
    "duration": 290,
    "start_time": "2023-06-06T21:28:24.788Z"
   },
   {
    "duration": 6,
    "start_time": "2023-06-06T21:28:25.081Z"
   },
   {
    "duration": 3,
    "start_time": "2023-06-06T21:28:25.090Z"
   },
   {
    "duration": 15786,
    "start_time": "2023-06-06T21:28:25.094Z"
   },
   {
    "duration": 98,
    "start_time": "2023-06-06T21:28:40.882Z"
   },
   {
    "duration": 7,
    "start_time": "2023-06-06T21:28:40.982Z"
   },
   {
    "duration": 169,
    "start_time": "2023-06-06T21:28:40.992Z"
   },
   {
    "duration": 3,
    "start_time": "2023-06-06T21:28:41.163Z"
   },
   {
    "duration": 899916,
    "start_time": "2023-06-06T21:28:41.168Z"
   },
   {
    "duration": 1608,
    "start_time": "2023-06-06T21:43:41.086Z"
   },
   {
    "duration": 5,
    "start_time": "2023-06-06T21:43:42.696Z"
   },
   {
    "duration": 3,
    "start_time": "2023-06-06T21:43:42.703Z"
   },
   {
    "duration": 13,
    "start_time": "2023-06-06T21:43:42.707Z"
   },
   {
    "duration": 1657,
    "start_time": "2023-06-06T21:43:42.721Z"
   },
   {
    "duration": 6,
    "start_time": "2023-06-06T21:43:44.380Z"
   },
   {
    "duration": 2849,
    "start_time": "2023-06-07T05:41:53.727Z"
   },
   {
    "duration": 2516,
    "start_time": "2023-06-07T05:41:56.579Z"
   },
   {
    "duration": 3199,
    "start_time": "2023-06-07T05:41:59.097Z"
   },
   {
    "duration": 2461,
    "start_time": "2023-06-07T05:42:02.299Z"
   },
   {
    "duration": 1777,
    "start_time": "2023-06-07T05:42:04.761Z"
   },
   {
    "duration": 1639,
    "start_time": "2023-06-07T05:42:06.540Z"
   },
   {
    "duration": 18,
    "start_time": "2023-06-07T05:42:08.181Z"
   },
   {
    "duration": 594,
    "start_time": "2023-06-07T05:42:08.201Z"
   },
   {
    "duration": 1849,
    "start_time": "2023-06-07T05:42:08.797Z"
   },
   {
    "duration": 408,
    "start_time": "2023-06-07T05:42:10.650Z"
   },
   {
    "duration": 18,
    "start_time": "2023-06-07T05:42:11.061Z"
   },
   {
    "duration": 1252,
    "start_time": "2023-06-07T05:42:11.081Z"
   },
   {
    "duration": 26,
    "start_time": "2023-06-07T05:42:12.335Z"
   },
   {
    "duration": 54,
    "start_time": "2023-06-07T05:42:12.364Z"
   },
   {
    "duration": 169,
    "start_time": "2023-06-07T05:42:12.421Z"
   },
   {
    "duration": 3859,
    "start_time": "2023-06-07T05:42:12.592Z"
   },
   {
    "duration": 16,
    "start_time": "2023-06-07T05:42:16.453Z"
   },
   {
    "duration": 342,
    "start_time": "2023-06-07T05:42:16.471Z"
   },
   {
    "duration": 8,
    "start_time": "2023-06-07T05:42:16.815Z"
   },
   {
    "duration": 32,
    "start_time": "2023-06-07T05:42:16.824Z"
   },
   {
    "duration": 11,
    "start_time": "2023-06-07T05:42:16.866Z"
   },
   {
    "duration": 14,
    "start_time": "2023-06-07T05:42:16.880Z"
   },
   {
    "duration": 13,
    "start_time": "2023-06-07T05:42:16.896Z"
   },
   {
    "duration": 54,
    "start_time": "2023-06-07T05:42:16.911Z"
   },
   {
    "duration": 25,
    "start_time": "2023-06-07T05:42:16.972Z"
   },
   {
    "duration": 4,
    "start_time": "2023-06-07T05:42:16.999Z"
   },
   {
    "duration": 842,
    "start_time": "2023-06-07T05:42:17.054Z"
   },
   {
    "duration": 453,
    "start_time": "2023-06-07T05:42:17.900Z"
   },
   {
    "duration": 5,
    "start_time": "2023-06-07T05:42:18.355Z"
   },
   {
    "duration": 32,
    "start_time": "2023-06-07T05:42:18.362Z"
   },
   {
    "duration": 10,
    "start_time": "2023-06-07T05:42:18.396Z"
   },
   {
    "duration": 59,
    "start_time": "2023-06-07T05:42:18.408Z"
   },
   {
    "duration": 1661,
    "start_time": "2023-06-07T05:42:18.469Z"
   },
   {
    "duration": 285,
    "start_time": "2023-06-07T05:42:20.132Z"
   },
   {
    "duration": 11,
    "start_time": "2023-06-07T05:42:20.419Z"
   },
   {
    "duration": 151,
    "start_time": "2023-06-07T05:42:20.432Z"
   },
   {
    "duration": 247,
    "start_time": "2023-06-07T05:42:20.585Z"
   },
   {
    "duration": 4,
    "start_time": "2023-06-07T05:42:20.834Z"
   },
   {
    "duration": 59,
    "start_time": "2023-06-07T05:42:20.853Z"
   },
   {
    "duration": 106959,
    "start_time": "2023-06-07T05:42:20.913Z"
   },
   {
    "duration": 271,
    "start_time": "2023-06-07T05:44:07.874Z"
   },
   {
    "duration": 9,
    "start_time": "2023-06-07T05:44:08.157Z"
   },
   {
    "duration": 20,
    "start_time": "2023-06-07T05:44:08.167Z"
   },
   {
    "duration": 57584,
    "start_time": "2023-06-07T05:44:08.188Z"
   },
   {
    "duration": 204,
    "start_time": "2023-06-07T05:45:05.774Z"
   },
   {
    "duration": 10,
    "start_time": "2023-06-07T05:45:05.980Z"
   },
   {
    "duration": 0,
    "start_time": "2023-06-07T05:45:05.991Z"
   },
   {
    "duration": 0,
    "start_time": "2023-06-07T05:45:05.993Z"
   },
   {
    "duration": 0,
    "start_time": "2023-06-07T05:45:05.994Z"
   },
   {
    "duration": 0,
    "start_time": "2023-06-07T05:45:05.995Z"
   },
   {
    "duration": 0,
    "start_time": "2023-06-07T05:45:05.996Z"
   },
   {
    "duration": 0,
    "start_time": "2023-06-07T05:45:05.998Z"
   },
   {
    "duration": 0,
    "start_time": "2023-06-07T05:45:05.999Z"
   },
   {
    "duration": 0,
    "start_time": "2023-06-07T05:45:06.001Z"
   },
   {
    "duration": 0,
    "start_time": "2023-06-07T05:45:06.002Z"
   },
   {
    "duration": 0,
    "start_time": "2023-06-07T05:45:06.003Z"
   },
   {
    "duration": 0,
    "start_time": "2023-06-07T05:45:06.004Z"
   },
   {
    "duration": 0,
    "start_time": "2023-06-07T05:45:06.005Z"
   },
   {
    "duration": 0,
    "start_time": "2023-06-07T05:45:06.007Z"
   },
   {
    "duration": 0,
    "start_time": "2023-06-07T05:45:06.007Z"
   },
   {
    "duration": 15373,
    "start_time": "2023-06-07T05:45:17.686Z"
   },
   {
    "duration": 72410,
    "start_time": "2023-06-07T05:45:40.362Z"
   },
   {
    "duration": 2314,
    "start_time": "2023-06-08T17:04:20.609Z"
   },
   {
    "duration": 2178,
    "start_time": "2023-06-08T17:04:22.926Z"
   },
   {
    "duration": 2603,
    "start_time": "2023-06-08T17:04:25.106Z"
   },
   {
    "duration": 1874,
    "start_time": "2023-06-08T17:04:27.712Z"
   },
   {
    "duration": 1691,
    "start_time": "2023-06-08T17:04:29.588Z"
   },
   {
    "duration": 3225,
    "start_time": "2023-06-08T17:04:31.281Z"
   },
   {
    "duration": 19,
    "start_time": "2023-06-08T17:04:34.508Z"
   },
   {
    "duration": 463,
    "start_time": "2023-06-08T17:04:34.529Z"
   },
   {
    "duration": 1591,
    "start_time": "2023-06-08T17:04:34.994Z"
   },
   {
    "duration": 323,
    "start_time": "2023-06-08T17:04:36.588Z"
   },
   {
    "duration": 6,
    "start_time": "2023-06-08T17:04:36.913Z"
   },
   {
    "duration": 1012,
    "start_time": "2023-06-08T17:04:36.920Z"
   },
   {
    "duration": 6,
    "start_time": "2023-06-08T17:04:37.933Z"
   },
   {
    "duration": 266,
    "start_time": "2023-06-08T17:04:37.940Z"
   },
   {
    "duration": 63,
    "start_time": "2023-06-08T17:04:38.207Z"
   },
   {
    "duration": 3228,
    "start_time": "2023-06-08T17:04:38.271Z"
   },
   {
    "duration": 13,
    "start_time": "2023-06-08T17:04:41.501Z"
   },
   {
    "duration": 298,
    "start_time": "2023-06-08T17:04:41.515Z"
   },
   {
    "duration": 8,
    "start_time": "2023-06-08T17:04:41.815Z"
   },
   {
    "duration": 35,
    "start_time": "2023-06-08T17:04:41.825Z"
   },
   {
    "duration": 10,
    "start_time": "2023-06-08T17:04:41.862Z"
   },
   {
    "duration": 12,
    "start_time": "2023-06-08T17:04:41.874Z"
   },
   {
    "duration": 9,
    "start_time": "2023-06-08T17:04:41.888Z"
   },
   {
    "duration": 12,
    "start_time": "2023-06-08T17:04:41.898Z"
   },
   {
    "duration": 60,
    "start_time": "2023-06-08T17:04:41.912Z"
   },
   {
    "duration": 5,
    "start_time": "2023-06-08T17:04:41.974Z"
   },
   {
    "duration": 465,
    "start_time": "2023-06-08T17:04:41.981Z"
   },
   {
    "duration": 122,
    "start_time": "2023-06-08T17:04:42.457Z"
   },
   {
    "duration": 4,
    "start_time": "2023-06-08T17:04:42.581Z"
   },
   {
    "duration": 14,
    "start_time": "2023-06-08T17:04:42.586Z"
   },
   {
    "duration": 23,
    "start_time": "2023-06-08T17:04:42.601Z"
   },
   {
    "duration": 54,
    "start_time": "2023-06-08T17:04:42.625Z"
   },
   {
    "duration": 898,
    "start_time": "2023-06-08T17:04:42.680Z"
   },
   {
    "duration": 199,
    "start_time": "2023-06-08T17:04:43.579Z"
   },
   {
    "duration": 20,
    "start_time": "2023-06-08T17:04:43.780Z"
   },
   {
    "duration": 170,
    "start_time": "2023-06-08T17:04:43.802Z"
   },
   {
    "duration": 259,
    "start_time": "2023-06-08T17:04:43.974Z"
   },
   {
    "duration": 5,
    "start_time": "2023-06-08T17:04:44.235Z"
   },
   {
    "duration": 15,
    "start_time": "2023-06-08T17:04:44.242Z"
   },
   {
    "duration": 59552,
    "start_time": "2023-06-08T17:04:44.260Z"
   },
   {
    "duration": 227,
    "start_time": "2023-06-08T17:05:43.813Z"
   },
   {
    "duration": 14,
    "start_time": "2023-06-08T17:05:44.044Z"
   },
   {
    "duration": 5,
    "start_time": "2023-06-08T17:05:44.060Z"
   },
   {
    "duration": 242241,
    "start_time": "2023-06-08T17:05:44.067Z"
   },
   {
    "duration": 103,
    "start_time": "2023-06-08T17:09:46.309Z"
   },
   {
    "duration": 5,
    "start_time": "2023-06-08T17:09:46.413Z"
   },
   {
    "duration": 12,
    "start_time": "2023-06-08T17:09:46.419Z"
   },
   {
    "duration": 15225,
    "start_time": "2023-06-08T17:09:46.432Z"
   },
   {
    "duration": 106,
    "start_time": "2023-06-08T17:10:01.659Z"
   },
   {
    "duration": 7,
    "start_time": "2023-06-08T17:10:01.767Z"
   },
   {
    "duration": 260,
    "start_time": "2023-06-08T17:10:01.775Z"
   },
   {
    "duration": 4,
    "start_time": "2023-06-08T17:10:02.036Z"
   },
   {
    "duration": 175916,
    "start_time": "2023-06-08T17:10:02.042Z"
   },
   {
    "duration": 1397,
    "start_time": "2023-06-08T17:12:57.960Z"
   },
   {
    "duration": 4,
    "start_time": "2023-06-08T17:12:59.359Z"
   },
   {
    "duration": 6,
    "start_time": "2023-06-08T17:12:59.365Z"
   },
   {
    "duration": 12,
    "start_time": "2023-06-08T17:12:59.372Z"
   },
   {
    "duration": 1374,
    "start_time": "2023-06-08T17:12:59.385Z"
   },
   {
    "duration": 6,
    "start_time": "2023-06-08T17:13:00.760Z"
   },
   {
    "duration": 542,
    "start_time": "2023-06-08T17:14:08.096Z"
   },
   {
    "duration": 4,
    "start_time": "2023-06-08T17:14:47.007Z"
   },
   {
    "duration": 3,
    "start_time": "2023-06-08T17:15:22.736Z"
   },
   {
    "duration": 3,
    "start_time": "2023-06-08T17:22:28.023Z"
   },
   {
    "duration": 110,
    "start_time": "2023-06-08T17:23:04.128Z"
   },
   {
    "duration": 3,
    "start_time": "2023-06-08T17:23:21.471Z"
   },
   {
    "duration": 4,
    "start_time": "2023-06-08T17:24:01.830Z"
   },
   {
    "duration": 9,
    "start_time": "2023-06-08T17:24:03.632Z"
   },
   {
    "duration": 1516,
    "start_time": "2023-06-08T17:24:22.847Z"
   },
   {
    "duration": 2001,
    "start_time": "2023-06-08T17:33:02.115Z"
   },
   {
    "duration": 1990,
    "start_time": "2023-06-08T17:33:04.119Z"
   },
   {
    "duration": 1914,
    "start_time": "2023-06-08T17:33:06.111Z"
   },
   {
    "duration": 1872,
    "start_time": "2023-06-08T17:33:08.028Z"
   },
   {
    "duration": 1370,
    "start_time": "2023-06-08T17:33:09.902Z"
   },
   {
    "duration": 1024,
    "start_time": "2023-06-08T17:33:11.273Z"
   },
   {
    "duration": 18,
    "start_time": "2023-06-08T17:33:12.298Z"
   },
   {
    "duration": 462,
    "start_time": "2023-06-08T17:33:12.318Z"
   },
   {
    "duration": 1586,
    "start_time": "2023-06-08T17:33:12.782Z"
   },
   {
    "duration": 308,
    "start_time": "2023-06-08T17:33:14.371Z"
   },
   {
    "duration": 6,
    "start_time": "2023-06-08T17:33:14.680Z"
   },
   {
    "duration": 1073,
    "start_time": "2023-06-08T17:33:14.687Z"
   },
   {
    "duration": 5,
    "start_time": "2023-06-08T17:33:15.762Z"
   },
   {
    "duration": 22,
    "start_time": "2023-06-08T17:33:15.769Z"
   },
   {
    "duration": 78,
    "start_time": "2023-06-08T17:33:15.793Z"
   },
   {
    "duration": 3071,
    "start_time": "2023-06-08T17:33:15.872Z"
   },
   {
    "duration": 9,
    "start_time": "2023-06-08T17:33:18.945Z"
   },
   {
    "duration": 296,
    "start_time": "2023-06-08T17:33:18.956Z"
   },
   {
    "duration": 8,
    "start_time": "2023-06-08T17:33:19.253Z"
   },
   {
    "duration": 16,
    "start_time": "2023-06-08T17:33:19.263Z"
   },
   {
    "duration": 9,
    "start_time": "2023-06-08T17:33:19.281Z"
   },
   {
    "duration": 14,
    "start_time": "2023-06-08T17:33:19.291Z"
   },
   {
    "duration": 11,
    "start_time": "2023-06-08T17:33:19.307Z"
   },
   {
    "duration": 47,
    "start_time": "2023-06-08T17:33:19.320Z"
   },
   {
    "duration": 25,
    "start_time": "2023-06-08T17:33:19.369Z"
   },
   {
    "duration": 8,
    "start_time": "2023-06-08T17:33:19.396Z"
   },
   {
    "duration": 438,
    "start_time": "2023-06-08T17:33:19.405Z"
   },
   {
    "duration": 130,
    "start_time": "2023-06-08T17:33:19.847Z"
   },
   {
    "duration": 5,
    "start_time": "2023-06-08T17:33:19.978Z"
   },
   {
    "duration": 10,
    "start_time": "2023-06-08T17:33:19.984Z"
   },
   {
    "duration": 8,
    "start_time": "2023-06-08T17:33:19.996Z"
   },
   {
    "duration": 35,
    "start_time": "2023-06-08T17:33:20.006Z"
   },
   {
    "duration": 871,
    "start_time": "2023-06-08T17:33:20.042Z"
   },
   {
    "duration": 195,
    "start_time": "2023-06-08T17:33:20.914Z"
   },
   {
    "duration": 20,
    "start_time": "2023-06-08T17:33:21.111Z"
   },
   {
    "duration": 130,
    "start_time": "2023-06-08T17:33:21.132Z"
   },
   {
    "duration": 216,
    "start_time": "2023-06-08T17:33:21.264Z"
   },
   {
    "duration": 5,
    "start_time": "2023-06-08T17:33:21.482Z"
   },
   {
    "duration": 12,
    "start_time": "2023-06-08T17:33:21.488Z"
   },
   {
    "duration": 51435,
    "start_time": "2023-06-08T17:33:21.502Z"
   },
   {
    "duration": 719,
    "start_time": "2023-06-08T17:34:12.938Z"
   },
   {
    "duration": 3,
    "start_time": "2023-06-08T17:34:13.659Z"
   },
   {
    "duration": 7,
    "start_time": "2023-06-08T17:34:13.664Z"
   },
   {
    "duration": 387884,
    "start_time": "2023-06-08T17:34:13.673Z"
   },
   {
    "duration": 337,
    "start_time": "2023-06-08T17:40:41.559Z"
   },
   {
    "duration": 3,
    "start_time": "2023-06-08T17:40:41.898Z"
   },
   {
    "duration": 76,
    "start_time": "2023-06-08T17:40:41.903Z"
   },
   {
    "duration": 15267,
    "start_time": "2023-06-08T17:40:41.980Z"
   },
   {
    "duration": 95,
    "start_time": "2023-06-08T17:40:57.249Z"
   },
   {
    "duration": 13,
    "start_time": "2023-06-08T17:40:57.346Z"
   },
   {
    "duration": 159,
    "start_time": "2023-06-08T17:40:57.361Z"
   },
   {
    "duration": 4,
    "start_time": "2023-06-08T17:40:57.522Z"
   },
   {
    "duration": 200540,
    "start_time": "2023-06-08T17:40:57.527Z"
   },
   {
    "duration": 1598,
    "start_time": "2023-06-08T17:44:18.069Z"
   },
   {
    "duration": 4,
    "start_time": "2023-06-08T17:44:19.669Z"
   },
   {
    "duration": 9,
    "start_time": "2023-06-08T17:44:19.675Z"
   },
   {
    "duration": 12,
    "start_time": "2023-06-08T17:44:19.686Z"
   },
   {
    "duration": 573,
    "start_time": "2023-06-08T17:44:19.699Z"
   },
   {
    "duration": 6,
    "start_time": "2023-06-08T17:44:20.273Z"
   },
   {
    "duration": 4,
    "start_time": "2023-06-15T06:23:47.936Z"
   },
   {
    "duration": 7,
    "start_time": "2023-06-15T06:23:47.943Z"
   },
   {
    "duration": 2221,
    "start_time": "2023-06-15T06:23:47.952Z"
   },
   {
    "duration": 205,
    "start_time": "2023-06-15T06:23:50.175Z"
   },
   {
    "duration": 15,
    "start_time": "2023-06-15T06:23:50.382Z"
   },
   {
    "duration": 38,
    "start_time": "2023-06-15T06:23:50.399Z"
   },
   {
    "duration": 601,
    "start_time": "2023-06-15T06:23:50.439Z"
   },
   {
    "duration": 7,
    "start_time": "2023-06-15T06:23:51.042Z"
   },
   {
    "duration": 745,
    "start_time": "2023-06-15T06:23:51.051Z"
   },
   {
    "duration": 22,
    "start_time": "2023-06-15T06:23:51.798Z"
   },
   {
    "duration": 5,
    "start_time": "2023-06-15T06:23:51.824Z"
   },
   {
    "duration": 22,
    "start_time": "2023-06-15T06:23:51.832Z"
   },
   {
    "duration": 822,
    "start_time": "2023-06-15T06:23:51.856Z"
   },
   {
    "duration": 216,
    "start_time": "2023-06-15T06:23:52.680Z"
   },
   {
    "duration": 214,
    "start_time": "2023-06-15T06:23:52.899Z"
   },
   {
    "duration": 0,
    "start_time": "2023-06-15T06:23:53.115Z"
   },
   {
    "duration": 0,
    "start_time": "2023-06-15T06:23:53.117Z"
   },
   {
    "duration": 0,
    "start_time": "2023-06-15T06:23:53.118Z"
   },
   {
    "duration": 0,
    "start_time": "2023-06-15T06:23:53.120Z"
   },
   {
    "duration": 0,
    "start_time": "2023-06-15T06:23:53.121Z"
   },
   {
    "duration": 0,
    "start_time": "2023-06-15T06:23:53.122Z"
   },
   {
    "duration": 0,
    "start_time": "2023-06-15T06:23:53.124Z"
   },
   {
    "duration": 0,
    "start_time": "2023-06-15T06:23:53.125Z"
   },
   {
    "duration": 0,
    "start_time": "2023-06-15T06:23:53.127Z"
   },
   {
    "duration": 0,
    "start_time": "2023-06-15T06:23:53.130Z"
   },
   {
    "duration": 0,
    "start_time": "2023-06-15T06:23:53.132Z"
   },
   {
    "duration": 0,
    "start_time": "2023-06-15T06:23:53.133Z"
   },
   {
    "duration": 27,
    "start_time": "2023-06-15T06:44:23.335Z"
   },
   {
    "duration": 3,
    "start_time": "2023-06-15T06:44:48.953Z"
   },
   {
    "duration": 36,
    "start_time": "2023-06-15T06:44:48.958Z"
   },
   {
    "duration": 1824,
    "start_time": "2023-06-15T06:44:48.999Z"
   },
   {
    "duration": 111,
    "start_time": "2023-06-15T06:44:50.825Z"
   },
   {
    "duration": 11,
    "start_time": "2023-06-15T06:44:50.938Z"
   },
   {
    "duration": 70,
    "start_time": "2023-06-15T06:44:50.950Z"
   },
   {
    "duration": 423,
    "start_time": "2023-06-15T06:44:51.024Z"
   },
   {
    "duration": 5,
    "start_time": "2023-06-15T06:44:51.449Z"
   },
   {
    "duration": 898,
    "start_time": "2023-06-15T06:44:51.455Z"
   },
   {
    "duration": 23,
    "start_time": "2023-06-15T06:44:52.355Z"
   },
   {
    "duration": 24,
    "start_time": "2023-06-15T06:44:52.386Z"
   },
   {
    "duration": 9,
    "start_time": "2023-06-15T06:44:52.417Z"
   },
   {
    "duration": 809,
    "start_time": "2023-06-15T06:44:52.429Z"
   },
   {
    "duration": 196,
    "start_time": "2023-06-15T06:44:53.240Z"
   },
   {
    "duration": 169,
    "start_time": "2023-06-15T06:44:53.438Z"
   },
   {
    "duration": 0,
    "start_time": "2023-06-15T06:44:53.609Z"
   },
   {
    "duration": 0,
    "start_time": "2023-06-15T06:44:53.610Z"
   },
   {
    "duration": 0,
    "start_time": "2023-06-15T06:44:53.613Z"
   },
   {
    "duration": 0,
    "start_time": "2023-06-15T06:44:53.614Z"
   },
   {
    "duration": 0,
    "start_time": "2023-06-15T06:44:53.615Z"
   },
   {
    "duration": 0,
    "start_time": "2023-06-15T06:44:53.616Z"
   },
   {
    "duration": 0,
    "start_time": "2023-06-15T06:44:53.617Z"
   },
   {
    "duration": 0,
    "start_time": "2023-06-15T06:44:53.618Z"
   },
   {
    "duration": 0,
    "start_time": "2023-06-15T06:44:53.619Z"
   },
   {
    "duration": 0,
    "start_time": "2023-06-15T06:44:53.620Z"
   },
   {
    "duration": 0,
    "start_time": "2023-06-15T06:44:53.621Z"
   },
   {
    "duration": 0,
    "start_time": "2023-06-15T06:44:53.622Z"
   },
   {
    "duration": 5,
    "start_time": "2023-06-15T06:48:19.062Z"
   },
   {
    "duration": 13,
    "start_time": "2023-06-15T06:48:19.069Z"
   },
   {
    "duration": 1877,
    "start_time": "2023-06-15T06:48:19.092Z"
   },
   {
    "duration": 131,
    "start_time": "2023-06-15T06:48:20.975Z"
   },
   {
    "duration": 17,
    "start_time": "2023-06-15T06:48:21.112Z"
   },
   {
    "duration": 38,
    "start_time": "2023-06-15T06:48:21.134Z"
   },
   {
    "duration": 724,
    "start_time": "2023-06-15T06:48:21.186Z"
   },
   {
    "duration": 25,
    "start_time": "2023-06-15T06:48:21.912Z"
   },
   {
    "duration": 2054,
    "start_time": "2023-06-15T06:48:21.971Z"
   },
   {
    "duration": 14,
    "start_time": "2023-06-15T06:48:24.027Z"
   },
   {
    "duration": 5,
    "start_time": "2023-06-15T06:48:24.044Z"
   },
   {
    "duration": 20,
    "start_time": "2023-06-15T06:48:24.051Z"
   },
   {
    "duration": 972,
    "start_time": "2023-06-15T06:48:24.089Z"
   },
   {
    "duration": 239,
    "start_time": "2023-06-15T06:48:25.063Z"
   },
   {
    "duration": 68,
    "start_time": "2023-06-15T06:48:25.306Z"
   },
   {
    "duration": 192,
    "start_time": "2023-06-15T06:48:25.382Z"
   },
   {
    "duration": 0,
    "start_time": "2023-06-15T06:48:25.576Z"
   },
   {
    "duration": 0,
    "start_time": "2023-06-15T06:48:25.578Z"
   },
   {
    "duration": 0,
    "start_time": "2023-06-15T06:48:25.579Z"
   },
   {
    "duration": 0,
    "start_time": "2023-06-15T06:48:25.580Z"
   },
   {
    "duration": 0,
    "start_time": "2023-06-15T06:48:25.581Z"
   },
   {
    "duration": 0,
    "start_time": "2023-06-15T06:48:25.583Z"
   },
   {
    "duration": 0,
    "start_time": "2023-06-15T06:48:25.584Z"
   },
   {
    "duration": 0,
    "start_time": "2023-06-15T06:48:25.585Z"
   },
   {
    "duration": 0,
    "start_time": "2023-06-15T06:48:25.587Z"
   },
   {
    "duration": 0,
    "start_time": "2023-06-15T06:48:25.588Z"
   },
   {
    "duration": 0,
    "start_time": "2023-06-15T06:48:25.590Z"
   },
   {
    "duration": 4,
    "start_time": "2023-06-15T06:50:07.434Z"
   },
   {
    "duration": 37,
    "start_time": "2023-06-15T06:50:07.440Z"
   },
   {
    "duration": 1797,
    "start_time": "2023-06-15T06:50:07.479Z"
   },
   {
    "duration": 100,
    "start_time": "2023-06-15T06:50:09.284Z"
   },
   {
    "duration": 16,
    "start_time": "2023-06-15T06:50:09.386Z"
   },
   {
    "duration": 37,
    "start_time": "2023-06-15T06:50:09.405Z"
   },
   {
    "duration": 534,
    "start_time": "2023-06-15T06:50:09.444Z"
   },
   {
    "duration": 6,
    "start_time": "2023-06-15T06:50:09.980Z"
   },
   {
    "duration": 1006,
    "start_time": "2023-06-15T06:50:09.988Z"
   },
   {
    "duration": 14,
    "start_time": "2023-06-15T06:50:10.999Z"
   },
   {
    "duration": 5,
    "start_time": "2023-06-15T06:50:11.015Z"
   },
   {
    "duration": 11,
    "start_time": "2023-06-15T06:50:11.022Z"
   },
   {
    "duration": 741,
    "start_time": "2023-06-15T06:50:11.035Z"
   },
   {
    "duration": 159,
    "start_time": "2023-06-15T06:50:11.778Z"
   },
   {
    "duration": 68,
    "start_time": "2023-06-15T06:50:11.939Z"
   },
   {
    "duration": 19,
    "start_time": "2023-06-15T06:50:12.009Z"
   },
   {
    "duration": 6,
    "start_time": "2023-06-15T06:50:12.030Z"
   },
   {
    "duration": 17,
    "start_time": "2023-06-15T06:50:12.037Z"
   },
   {
    "duration": 628,
    "start_time": "2023-06-15T06:50:12.056Z"
   },
   {
    "duration": 79,
    "start_time": "2023-06-15T06:50:12.692Z"
   },
   {
    "duration": 7276,
    "start_time": "2023-06-15T06:50:12.772Z"
   },
   {
    "duration": 5,
    "start_time": "2023-06-15T06:50:20.050Z"
   },
   {
    "duration": 82457,
    "start_time": "2023-06-15T06:50:20.057Z"
   },
   {
    "duration": 7,
    "start_time": "2023-06-15T06:51:42.516Z"
   },
   {
    "duration": 204381,
    "start_time": "2023-06-15T06:51:42.526Z"
   },
   {
    "duration": 10,
    "start_time": "2023-06-15T06:55:06.909Z"
   },
   {
    "duration": 19,
    "start_time": "2023-06-15T06:55:06.920Z"
   },
   {
    "duration": 8,
    "start_time": "2023-06-15T06:55:19.208Z"
   },
   {
    "duration": 8,
    "start_time": "2023-06-15T06:55:23.540Z"
   },
   {
    "duration": 505,
    "start_time": "2023-06-15T06:58:55.485Z"
   },
   {
    "duration": 510,
    "start_time": "2023-06-15T07:00:07.970Z"
   },
   {
    "duration": 378,
    "start_time": "2023-06-15T07:02:13.837Z"
   },
   {
    "duration": 572,
    "start_time": "2023-06-15T07:02:59.380Z"
   },
   {
    "duration": 312,
    "start_time": "2023-06-15T07:03:23.119Z"
   },
   {
    "duration": 612,
    "start_time": "2023-06-15T07:03:47.100Z"
   },
   {
    "duration": 566,
    "start_time": "2023-06-15T07:05:03.651Z"
   },
   {
    "duration": 587,
    "start_time": "2023-06-15T07:05:56.529Z"
   },
   {
    "duration": 715,
    "start_time": "2023-06-15T07:08:16.432Z"
   },
   {
    "duration": 454,
    "start_time": "2023-06-15T07:09:24.999Z"
   },
   {
    "duration": 505,
    "start_time": "2023-06-15T07:11:23.600Z"
   },
   {
    "duration": 493,
    "start_time": "2023-06-15T07:11:48.708Z"
   },
   {
    "duration": 493,
    "start_time": "2023-06-15T07:12:09.756Z"
   },
   {
    "duration": 1106,
    "start_time": "2023-06-15T07:14:01.848Z"
   },
   {
    "duration": 504,
    "start_time": "2023-06-15T07:14:21.834Z"
   }
  ],
  "kernelspec": {
   "display_name": "Python 3 (ipykernel)",
   "language": "python",
   "name": "python3"
  },
  "language_info": {
   "codemirror_mode": {
    "name": "ipython",
    "version": 3
   },
   "file_extension": ".py",
   "mimetype": "text/x-python",
   "name": "python",
   "nbconvert_exporter": "python",
   "pygments_lexer": "ipython3",
   "version": "3.9.15"
  },
  "toc": {
   "base_numbering": 1,
   "nav_menu": {},
   "number_sections": true,
   "sideBar": true,
   "skip_h1_title": true,
   "title_cell": "Table of Contents",
   "title_sidebar": "Contents",
   "toc_cell": true,
   "toc_position": {
    "height": "calc(100% - 180px)",
    "left": "10px",
    "top": "150px",
    "width": "382.297px"
   },
   "toc_section_display": true,
   "toc_window_display": false
  }
 },
 "nbformat": 4,
 "nbformat_minor": 5
}
